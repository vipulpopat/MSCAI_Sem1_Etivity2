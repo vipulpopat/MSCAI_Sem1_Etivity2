{
 "cells": [
  {
   "cell_type": "markdown",
   "metadata": {},
   "source": [
    "## Etivity 2 - Data preparation & Can we learn?"
   ]
  },
  {
   "cell_type": "markdown",
   "metadata": {},
   "source": [
    "### Student Id: 18203485 "
   ]
  },
  {
   "cell_type": "markdown",
   "metadata": {},
   "source": [
    "### Student Name : Fergus Mc Hale"
   ]
  },
  {
   "cell_type": "code",
   "execution_count": 1,
   "metadata": {},
   "outputs": [],
   "source": [
    "import matplotlib.pyplot as plt\n",
    "import numpy as np\n",
    "from numpy import percentile\n",
    "import random\n",
    "from sklearn import metrics\n",
    "from sklearn.preprocessing import LabelEncoder\n",
    "from sklearn.decomposition import FactorAnalysis\n",
    "\n",
    "from sklearn.svm import LinearSVC\n",
    "from sklearn.naive_bayes import GaussianNB\n",
    "from sklearn.model_selection import learning_curve\n",
    "from sklearn.svm import SVC \n",
    "from sklearn.preprocessing import OneHotEncoder\n",
    "from sklearn import preprocessing\n",
    "from sklearn.model_selection import train_test_split\n",
    "from sklearn.model_selection import ShuffleSplit\n",
    "from sklearn.linear_model import LinearRegression\n",
    "from sklearn.ensemble import AdaBoostClassifier\n",
    "from sklearn.neighbors import KNeighborsClassifier\n",
    "from sklearn.utils import shuffle\n",
    "from sklearn.preprocessing import power_transform\n",
    "\n",
    "from sklearn.linear_model import LogisticRegression\n",
    "from sklearn.naive_bayes import GaussianNB\n",
    "from sklearn.svm import LinearSVC\n",
    "from sklearn.svm import SVC\n",
    "import re\n",
    "\n",
    "import pandas as pd\n",
    "import seaborn as sns\n",
    "from sklearn.impute import SimpleImputer\n",
    "from sklearn.metrics import classification_report, confusion_matrix\n",
    "import scipy.stats as stats\n",
    "import math\n",
    "\n",
    "\n",
    "%matplotlib inline"
   ]
  },
  {
   "cell_type": "code",
   "execution_count": 2,
   "metadata": {},
   "outputs": [],
   "source": [
    "CSV_SPLIT = ','\n",
    "MAX_ITERATIONS = 10"
   ]
  },
  {
   "cell_type": "markdown",
   "metadata": {},
   "source": [
    "# Task 1"
   ]
  },
  {
   "cell_type": "markdown",
   "metadata": {},
   "source": [
    "# Fill-in the missing values in the bank dataset. Use the EDA techniques from E-tivity 1 to decide how to fill in missing values. In your notebook, explain shortly (max 250 words) the decisions you have taken."
   ]
  },
  {
   "cell_type": "code",
   "execution_count": 3,
   "metadata": {},
   "outputs": [],
   "source": [
    "data = pd.read_csv('./data/bank_et2.csv',sep=CSV_SPLIT, delimiter=None,index_col='Unnamed: 0') #For local Machine"
   ]
  },
  {
   "cell_type": "code",
   "execution_count": 4,
   "metadata": {},
   "outputs": [],
   "source": [
    "dataset = data.values"
   ]
  },
  {
   "cell_type": "code",
   "execution_count": 5,
   "metadata": {},
   "outputs": [],
   "source": [
    "numerical_cat = data._get_numeric_data().columns"
   ]
  },
  {
   "cell_type": "code",
   "execution_count": 6,
   "metadata": {},
   "outputs": [],
   "source": [
    "categorical_cat = data.select_dtypes(include=['category', object]).columns"
   ]
  },
  {
   "cell_type": "code",
   "execution_count": 7,
   "metadata": {},
   "outputs": [],
   "source": [
    "def display_field_info(category_type):\n",
    "    if(len(category_type) > 0):\n",
    "        for key in category_type:\n",
    "            print(\"\\n______\\t\",key,\"\\t_________\")\n",
    "            print(\"Total Values = \\t\",data[key].count(),\"\\n\")\n",
    "            print(data[key].value_counts())\n",
    "            print(\"_________________________________________\")"
   ]
  },
  {
   "cell_type": "code",
   "execution_count": 8,
   "metadata": {},
   "outputs": [
    {
     "name": "stdout",
     "output_type": "stream",
     "text": [
      "\n",
      "______\t job \t_________\n",
      "Total Values = \t 1990 \n",
      "\n",
      "management       461\n",
      "technician       348\n",
      "blue-collar      298\n",
      "admin.           247\n",
      "services         165\n",
      "retired          162\n",
      "student           96\n",
      "unemployed        69\n",
      "self-employed     64\n",
      "entrepreneur      45\n",
      "housemaid         35\n",
      "Name: job, dtype: int64\n",
      "_________________________________________\n",
      "\n",
      "______\t marital \t_________\n",
      "Total Values = \t 2000 \n",
      "\n",
      "married     1111\n",
      "single       674\n",
      "divorced     215\n",
      "Name: marital, dtype: int64\n",
      "_________________________________________\n",
      "\n",
      "______\t education \t_________\n",
      "Total Values = \t 1896 \n",
      "\n",
      "secondary    995\n",
      "tertiary     684\n",
      "primary      217\n",
      "Name: education, dtype: int64\n",
      "_________________________________________\n",
      "\n",
      "______\t default \t_________\n",
      "Total Values = \t 2000 \n",
      "\n",
      "no     1985\n",
      "yes      15\n",
      "Name: default, dtype: int64\n",
      "_________________________________________\n",
      "\n",
      "______\t housing \t_________\n",
      "Total Values = \t 2000 \n",
      "\n",
      "no     1037\n",
      "yes     963\n",
      "Name: housing, dtype: int64\n",
      "_________________________________________\n",
      "\n",
      "______\t loan \t_________\n",
      "Total Values = \t 2000 \n",
      "\n",
      "no     1750\n",
      "yes     250\n",
      "Name: loan, dtype: int64\n",
      "_________________________________________\n",
      "\n",
      "______\t contact \t_________\n",
      "Total Values = \t 1809 \n",
      "\n",
      "cellular     1663\n",
      "telephone     146\n",
      "Name: contact, dtype: int64\n",
      "_________________________________________\n",
      "\n",
      "______\t month \t_________\n",
      "Total Values = \t 2000 \n",
      "\n",
      "feb    404\n",
      "may    333\n",
      "jan    245\n",
      "apr    205\n",
      "jul    167\n",
      "aug    136\n",
      "sep    134\n",
      "jun    104\n",
      "oct     93\n",
      "mar     70\n",
      "nov     68\n",
      "dec     41\n",
      "Name: month, dtype: int64\n",
      "_________________________________________\n",
      "\n",
      "______\t poutcome \t_________\n",
      "Total Values = \t 1546 \n",
      "\n",
      "failure    955\n",
      "success    444\n",
      "other      147\n",
      "Name: poutcome, dtype: int64\n",
      "_________________________________________\n",
      "\n",
      "______\t subscribed \t_________\n",
      "Total Values = \t 2000 \n",
      "\n",
      "no     1000\n",
      "yes    1000\n",
      "Name: subscribed, dtype: int64\n",
      "_________________________________________\n"
     ]
    }
   ],
   "source": [
    "display_field_info(categorical_cat)"
   ]
  },
  {
   "cell_type": "code",
   "execution_count": 9,
   "metadata": {},
   "outputs": [
    {
     "data": {
      "text/plain": [
       "age              12\n",
       "job              10\n",
       "marital           0\n",
       "education       104\n",
       "default           0\n",
       "balance           0\n",
       "ratio_bal_ln      0\n",
       "ratio_ln_inc      0\n",
       "housing           0\n",
       "loan              0\n",
       "contact         191\n",
       "day               0\n",
       "month             0\n",
       "duration          0\n",
       "campaign          0\n",
       "pdays             0\n",
       "previous          0\n",
       "poutcome        454\n",
       "subscribed        0\n",
       "dtype: int64"
      ]
     },
     "execution_count": 9,
     "metadata": {},
     "output_type": "execute_result"
    }
   ],
   "source": [
    "data.apply(lambda x: sum(x.isnull()), axis=0)"
   ]
  },
  {
   "cell_type": "code",
   "execution_count": 10,
   "metadata": {},
   "outputs": [],
   "source": [
    "imputer = SimpleImputer(missing_values=np.nan, strategy='mean')\n",
    "imputer.fit(data['age'].values.reshape(-1, 1))\n",
    "data['age'] = imputer.transform(data['age'].values.reshape(-1, 1))"
   ]
  },
  {
   "cell_type": "code",
   "execution_count": 11,
   "metadata": {},
   "outputs": [],
   "source": [
    "data['job'].fillna('unknown', inplace=True)"
   ]
  },
  {
   "cell_type": "code",
   "execution_count": 12,
   "metadata": {},
   "outputs": [],
   "source": [
    "data['education'].fillna('unknown', inplace=True)"
   ]
  },
  {
   "cell_type": "code",
   "execution_count": 13,
   "metadata": {},
   "outputs": [
    {
     "data": {
      "text/plain": [
       "<matplotlib.axes._subplots.AxesSubplot at 0x25faa188978>"
      ]
     },
     "execution_count": 13,
     "metadata": {},
     "output_type": "execute_result"
    },
    {
     "data": {
      "image/png": "[encoded data removed]",
      "text/plain": [
       "<Figure size 432x288 with 1 Axes>"
      ]
     },
     "metadata": {
      "needs_background": "light"
     },
     "output_type": "display_data"
    }
   ],
   "source": [
    "data.boxplot(column='age', by=['education'], rot=45)"
   ]
  },
  {
   "cell_type": "code",
   "execution_count": 14,
   "metadata": {},
   "outputs": [
    {
     "data": {
      "text/plain": [
       "cellular     1663\n",
       "telephone     146\n",
       "Name: contact, dtype: int64"
      ]
     },
     "execution_count": 14,
     "metadata": {},
     "output_type": "execute_result"
    }
   ],
   "source": [
    "data['contact'].value_counts()"
   ]
  },
  {
   "cell_type": "code",
   "execution_count": 15,
   "metadata": {},
   "outputs": [],
   "source": [
    "data['contact'].fillna('unknown', inplace=True)"
   ]
  },
  {
   "cell_type": "code",
   "execution_count": 16,
   "metadata": {},
   "outputs": [
    {
     "data": {
      "text/plain": [
       "failure    955\n",
       "success    444\n",
       "other      147\n",
       "Name: poutcome, dtype: int64"
      ]
     },
     "execution_count": 16,
     "metadata": {},
     "output_type": "execute_result"
    }
   ],
   "source": [
    "data['poutcome'].value_counts()"
   ]
  },
  {
   "cell_type": "code",
   "execution_count": 17,
   "metadata": {},
   "outputs": [],
   "source": [
    "data['poutcome'].fillna('other', inplace=True)"
   ]
  },
  {
   "cell_type": "code",
   "execution_count": 18,
   "metadata": {},
   "outputs": [
    {
     "data": {
      "text/plain": [
       "<matplotlib.axes._subplots.AxesSubplot at 0x25fa9fa3e10>"
      ]
     },
     "execution_count": 18,
     "metadata": {},
     "output_type": "execute_result"
    },
    {
     "data": {
      "image/png": "[encoded data removed]",
      "text/plain": [
       "<Figure size 432x288 with 1 Axes>"
      ]
     },
     "metadata": {
      "needs_background": "light"
     },
     "output_type": "display_data"
    }
   ],
   "source": [
    "data.boxplot(column='age', by=['poutcome'], rot=45)"
   ]
  },
  {
   "cell_type": "code",
   "execution_count": 19,
   "metadata": {},
   "outputs": [
    {
     "data": {
      "text/html": [
       "<div>\n",
       "<style scoped>\n",
       "    .dataframe tbody tr th:only-of-type {\n",
       "        vertical-align: middle;\n",
       "    }\n",
       "\n",
       "    .dataframe tbody tr th {\n",
       "        vertical-align: top;\n",
       "    }\n",
       "\n",
       "    .dataframe thead th {\n",
       "        text-align: right;\n",
       "    }\n",
       "</style>\n",
       "<table border=\"1\" class=\"dataframe\">\n",
       "  <thead>\n",
       "    <tr style=\"text-align: right;\">\n",
       "      <th></th>\n",
       "      <th>age</th>\n",
       "      <th>balance</th>\n",
       "      <th>ratio_bal_ln</th>\n",
       "      <th>ratio_ln_inc</th>\n",
       "      <th>day</th>\n",
       "      <th>duration</th>\n",
       "      <th>campaign</th>\n",
       "      <th>pdays</th>\n",
       "      <th>previous</th>\n",
       "    </tr>\n",
       "  </thead>\n",
       "  <tbody>\n",
       "    <tr>\n",
       "      <th>count</th>\n",
       "      <td>2000.000000</td>\n",
       "      <td>2000.000000</td>\n",
       "      <td>2000.000000</td>\n",
       "      <td>2000.000000</td>\n",
       "      <td>2000.000000</td>\n",
       "      <td>2000.000000</td>\n",
       "      <td>2000.000000</td>\n",
       "      <td>2000.000000</td>\n",
       "      <td>2000.000000</td>\n",
       "    </tr>\n",
       "    <tr>\n",
       "      <th>mean</th>\n",
       "      <td>41.753018</td>\n",
       "      <td>1413.663500</td>\n",
       "      <td>0.241951</td>\n",
       "      <td>0.485030</td>\n",
       "      <td>13.851500</td>\n",
       "      <td>292.020500</td>\n",
       "      <td>1.909500</td>\n",
       "      <td>167.896000</td>\n",
       "      <td>2.561500</td>\n",
       "    </tr>\n",
       "    <tr>\n",
       "      <th>std</th>\n",
       "      <td>12.686108</td>\n",
       "      <td>3131.224213</td>\n",
       "      <td>0.821604</td>\n",
       "      <td>1.075543</td>\n",
       "      <td>9.712189</td>\n",
       "      <td>221.557295</td>\n",
       "      <td>1.378862</td>\n",
       "      <td>131.754126</td>\n",
       "      <td>3.400735</td>\n",
       "    </tr>\n",
       "    <tr>\n",
       "      <th>min</th>\n",
       "      <td>18.000000</td>\n",
       "      <td>-980.000000</td>\n",
       "      <td>-2.632068</td>\n",
       "      <td>-2.851405</td>\n",
       "      <td>1.000000</td>\n",
       "      <td>7.000000</td>\n",
       "      <td>1.000000</td>\n",
       "      <td>-1.000000</td>\n",
       "      <td>0.000000</td>\n",
       "    </tr>\n",
       "    <tr>\n",
       "      <th>25%</th>\n",
       "      <td>32.000000</td>\n",
       "      <td>201.500000</td>\n",
       "      <td>-0.308018</td>\n",
       "      <td>-0.274181</td>\n",
       "      <td>5.000000</td>\n",
       "      <td>146.000000</td>\n",
       "      <td>1.000000</td>\n",
       "      <td>75.750000</td>\n",
       "      <td>1.000000</td>\n",
       "    </tr>\n",
       "    <tr>\n",
       "      <th>50%</th>\n",
       "      <td>38.000000</td>\n",
       "      <td>551.000000</td>\n",
       "      <td>0.224099</td>\n",
       "      <td>0.487082</td>\n",
       "      <td>12.000000</td>\n",
       "      <td>236.000000</td>\n",
       "      <td>1.000000</td>\n",
       "      <td>182.000000</td>\n",
       "      <td>2.000000</td>\n",
       "    </tr>\n",
       "    <tr>\n",
       "      <th>75%</th>\n",
       "      <td>50.000000</td>\n",
       "      <td>1644.500000</td>\n",
       "      <td>0.806315</td>\n",
       "      <td>1.211896</td>\n",
       "      <td>23.000000</td>\n",
       "      <td>379.000000</td>\n",
       "      <td>2.000000</td>\n",
       "      <td>251.000000</td>\n",
       "      <td>3.000000</td>\n",
       "    </tr>\n",
       "    <tr>\n",
       "      <th>max</th>\n",
       "      <td>93.000000</td>\n",
       "      <td>81204.000000</td>\n",
       "      <td>2.961979</td>\n",
       "      <td>4.046914</td>\n",
       "      <td>31.000000</td>\n",
       "      <td>1823.000000</td>\n",
       "      <td>11.000000</td>\n",
       "      <td>854.000000</td>\n",
       "      <td>55.000000</td>\n",
       "    </tr>\n",
       "  </tbody>\n",
       "</table>\n",
       "</div>"
      ],
      "text/plain": [
       "               age       balance  ratio_bal_ln  ratio_ln_inc          day  \\\n",
       "count  2000.000000   2000.000000   2000.000000   2000.000000  2000.000000   \n",
       "mean     41.753018   1413.663500      0.241951      0.485030    13.851500   \n",
       "std      12.686108   3131.224213      0.821604      1.075543     9.712189   \n",
       "min      18.000000   -980.000000     -2.632068     -2.851405     1.000000   \n",
       "25%      32.000000    201.500000     -0.308018     -0.274181     5.000000   \n",
       "50%      38.000000    551.000000      0.224099      0.487082    12.000000   \n",
       "75%      50.000000   1644.500000      0.806315      1.211896    23.000000   \n",
       "max      93.000000  81204.000000      2.961979      4.046914    31.000000   \n",
       "\n",
       "          duration     campaign        pdays     previous  \n",
       "count  2000.000000  2000.000000  2000.000000  2000.000000  \n",
       "mean    292.020500     1.909500   167.896000     2.561500  \n",
       "std     221.557295     1.378862   131.754126     3.400735  \n",
       "min       7.000000     1.000000    -1.000000     0.000000  \n",
       "25%     146.000000     1.000000    75.750000     1.000000  \n",
       "50%     236.000000     1.000000   182.000000     2.000000  \n",
       "75%     379.000000     2.000000   251.000000     3.000000  \n",
       "max    1823.000000    11.000000   854.000000    55.000000  "
      ]
     },
     "execution_count": 19,
     "metadata": {},
     "output_type": "execute_result"
    }
   ],
   "source": [
    "data.describe()"
   ]
  },
  {
   "cell_type": "markdown",
   "metadata": {},
   "source": [
    "# Top 5"
   ]
  },
  {
   "cell_type": "code",
   "execution_count": 20,
   "metadata": {},
   "outputs": [
    {
     "data": {
      "text/html": [
       "<div>\n",
       "<style scoped>\n",
       "    .dataframe tbody tr th:only-of-type {\n",
       "        vertical-align: middle;\n",
       "    }\n",
       "\n",
       "    .dataframe tbody tr th {\n",
       "        vertical-align: top;\n",
       "    }\n",
       "\n",
       "    .dataframe thead th {\n",
       "        text-align: right;\n",
       "    }\n",
       "</style>\n",
       "<table border=\"1\" class=\"dataframe\">\n",
       "  <thead>\n",
       "    <tr style=\"text-align: right;\">\n",
       "      <th></th>\n",
       "      <th>age</th>\n",
       "      <th>job</th>\n",
       "      <th>marital</th>\n",
       "      <th>education</th>\n",
       "      <th>default</th>\n",
       "      <th>balance</th>\n",
       "      <th>ratio_bal_ln</th>\n",
       "      <th>ratio_ln_inc</th>\n",
       "      <th>housing</th>\n",
       "      <th>loan</th>\n",
       "      <th>contact</th>\n",
       "      <th>day</th>\n",
       "      <th>month</th>\n",
       "      <th>duration</th>\n",
       "      <th>campaign</th>\n",
       "      <th>pdays</th>\n",
       "      <th>previous</th>\n",
       "      <th>poutcome</th>\n",
       "      <th>subscribed</th>\n",
       "    </tr>\n",
       "  </thead>\n",
       "  <tbody>\n",
       "    <tr>\n",
       "      <th>0</th>\n",
       "      <td>32.0</td>\n",
       "      <td>technician</td>\n",
       "      <td>single</td>\n",
       "      <td>tertiary</td>\n",
       "      <td>no</td>\n",
       "      <td>392</td>\n",
       "      <td>1.300134</td>\n",
       "      <td>0.473895</td>\n",
       "      <td>yes</td>\n",
       "      <td>no</td>\n",
       "      <td>cellular</td>\n",
       "      <td>1</td>\n",
       "      <td>apr</td>\n",
       "      <td>957</td>\n",
       "      <td>2</td>\n",
       "      <td>131</td>\n",
       "      <td>2</td>\n",
       "      <td>failure</td>\n",
       "      <td>no</td>\n",
       "    </tr>\n",
       "    <tr>\n",
       "      <th>1</th>\n",
       "      <td>39.0</td>\n",
       "      <td>technician</td>\n",
       "      <td>divorced</td>\n",
       "      <td>secondary</td>\n",
       "      <td>no</td>\n",
       "      <td>688</td>\n",
       "      <td>-0.193701</td>\n",
       "      <td>0.237021</td>\n",
       "      <td>yes</td>\n",
       "      <td>yes</td>\n",
       "      <td>cellular</td>\n",
       "      <td>1</td>\n",
       "      <td>apr</td>\n",
       "      <td>233</td>\n",
       "      <td>2</td>\n",
       "      <td>133</td>\n",
       "      <td>1</td>\n",
       "      <td>failure</td>\n",
       "      <td>no</td>\n",
       "    </tr>\n",
       "    <tr>\n",
       "      <th>2</th>\n",
       "      <td>59.0</td>\n",
       "      <td>retired</td>\n",
       "      <td>married</td>\n",
       "      <td>secondary</td>\n",
       "      <td>no</td>\n",
       "      <td>1035</td>\n",
       "      <td>1.334266</td>\n",
       "      <td>0.121981</td>\n",
       "      <td>yes</td>\n",
       "      <td>yes</td>\n",
       "      <td>cellular</td>\n",
       "      <td>1</td>\n",
       "      <td>apr</td>\n",
       "      <td>126</td>\n",
       "      <td>2</td>\n",
       "      <td>239</td>\n",
       "      <td>1</td>\n",
       "      <td>failure</td>\n",
       "      <td>no</td>\n",
       "    </tr>\n",
       "    <tr>\n",
       "      <th>3</th>\n",
       "      <td>47.0</td>\n",
       "      <td>blue-collar</td>\n",
       "      <td>married</td>\n",
       "      <td>secondary</td>\n",
       "      <td>no</td>\n",
       "      <td>398</td>\n",
       "      <td>0.362286</td>\n",
       "      <td>1.251328</td>\n",
       "      <td>yes</td>\n",
       "      <td>yes</td>\n",
       "      <td>cellular</td>\n",
       "      <td>1</td>\n",
       "      <td>apr</td>\n",
       "      <td>274</td>\n",
       "      <td>1</td>\n",
       "      <td>238</td>\n",
       "      <td>2</td>\n",
       "      <td>failure</td>\n",
       "      <td>no</td>\n",
       "    </tr>\n",
       "    <tr>\n",
       "      <th>4</th>\n",
       "      <td>54.0</td>\n",
       "      <td>retired</td>\n",
       "      <td>married</td>\n",
       "      <td>secondary</td>\n",
       "      <td>no</td>\n",
       "      <td>1004</td>\n",
       "      <td>0.072075</td>\n",
       "      <td>-0.533738</td>\n",
       "      <td>yes</td>\n",
       "      <td>no</td>\n",
       "      <td>cellular</td>\n",
       "      <td>1</td>\n",
       "      <td>apr</td>\n",
       "      <td>479</td>\n",
       "      <td>1</td>\n",
       "      <td>307</td>\n",
       "      <td>1</td>\n",
       "      <td>failure</td>\n",
       "      <td>no</td>\n",
       "    </tr>\n",
       "  </tbody>\n",
       "</table>\n",
       "</div>"
      ],
      "text/plain": [
       "    age          job   marital  education default  balance  ratio_bal_ln  \\\n",
       "0  32.0   technician    single   tertiary      no      392      1.300134   \n",
       "1  39.0   technician  divorced  secondary      no      688     -0.193701   \n",
       "2  59.0      retired   married  secondary      no     1035      1.334266   \n",
       "3  47.0  blue-collar   married  secondary      no      398      0.362286   \n",
       "4  54.0      retired   married  secondary      no     1004      0.072075   \n",
       "\n",
       "   ratio_ln_inc housing loan   contact  day month  duration  campaign  pdays  \\\n",
       "0      0.473895     yes   no  cellular    1   apr       957         2    131   \n",
       "1      0.237021     yes  yes  cellular    1   apr       233         2    133   \n",
       "2      0.121981     yes  yes  cellular    1   apr       126         2    239   \n",
       "3      1.251328     yes  yes  cellular    1   apr       274         1    238   \n",
       "4     -0.533738     yes   no  cellular    1   apr       479         1    307   \n",
       "\n",
       "   previous poutcome subscribed  \n",
       "0         2  failure         no  \n",
       "1         1  failure         no  \n",
       "2         1  failure         no  \n",
       "3         2  failure         no  \n",
       "4         1  failure         no  "
      ]
     },
     "execution_count": 20,
     "metadata": {},
     "output_type": "execute_result"
    }
   ],
   "source": [
    "data.head(5)"
   ]
  },
  {
   "cell_type": "markdown",
   "metadata": {},
   "source": [
    "# Bottom 5"
   ]
  },
  {
   "cell_type": "code",
   "execution_count": 21,
   "metadata": {},
   "outputs": [
    {
     "data": {
      "text/html": [
       "<div>\n",
       "<style scoped>\n",
       "    .dataframe tbody tr th:only-of-type {\n",
       "        vertical-align: middle;\n",
       "    }\n",
       "\n",
       "    .dataframe tbody tr th {\n",
       "        vertical-align: top;\n",
       "    }\n",
       "\n",
       "    .dataframe thead th {\n",
       "        text-align: right;\n",
       "    }\n",
       "</style>\n",
       "<table border=\"1\" class=\"dataframe\">\n",
       "  <thead>\n",
       "    <tr style=\"text-align: right;\">\n",
       "      <th></th>\n",
       "      <th>age</th>\n",
       "      <th>job</th>\n",
       "      <th>marital</th>\n",
       "      <th>education</th>\n",
       "      <th>default</th>\n",
       "      <th>balance</th>\n",
       "      <th>ratio_bal_ln</th>\n",
       "      <th>ratio_ln_inc</th>\n",
       "      <th>housing</th>\n",
       "      <th>loan</th>\n",
       "      <th>contact</th>\n",
       "      <th>day</th>\n",
       "      <th>month</th>\n",
       "      <th>duration</th>\n",
       "      <th>campaign</th>\n",
       "      <th>pdays</th>\n",
       "      <th>previous</th>\n",
       "      <th>poutcome</th>\n",
       "      <th>subscribed</th>\n",
       "    </tr>\n",
       "  </thead>\n",
       "  <tbody>\n",
       "    <tr>\n",
       "      <th>1995</th>\n",
       "      <td>20.0</td>\n",
       "      <td>student</td>\n",
       "      <td>single</td>\n",
       "      <td>unknown</td>\n",
       "      <td>no</td>\n",
       "      <td>2785</td>\n",
       "      <td>-2.170524</td>\n",
       "      <td>1.081071</td>\n",
       "      <td>no</td>\n",
       "      <td>no</td>\n",
       "      <td>cellular</td>\n",
       "      <td>16</td>\n",
       "      <td>sep</td>\n",
       "      <td>327</td>\n",
       "      <td>2</td>\n",
       "      <td>-1</td>\n",
       "      <td>0</td>\n",
       "      <td>other</td>\n",
       "      <td>yes</td>\n",
       "    </tr>\n",
       "    <tr>\n",
       "      <th>1996</th>\n",
       "      <td>28.0</td>\n",
       "      <td>admin.</td>\n",
       "      <td>single</td>\n",
       "      <td>secondary</td>\n",
       "      <td>no</td>\n",
       "      <td>127</td>\n",
       "      <td>0.811788</td>\n",
       "      <td>1.134496</td>\n",
       "      <td>no</td>\n",
       "      <td>no</td>\n",
       "      <td>cellular</td>\n",
       "      <td>16</td>\n",
       "      <td>sep</td>\n",
       "      <td>1334</td>\n",
       "      <td>2</td>\n",
       "      <td>-1</td>\n",
       "      <td>0</td>\n",
       "      <td>other</td>\n",
       "      <td>yes</td>\n",
       "    </tr>\n",
       "    <tr>\n",
       "      <th>1997</th>\n",
       "      <td>81.0</td>\n",
       "      <td>retired</td>\n",
       "      <td>married</td>\n",
       "      <td>primary</td>\n",
       "      <td>no</td>\n",
       "      <td>1154</td>\n",
       "      <td>0.504655</td>\n",
       "      <td>0.042190</td>\n",
       "      <td>no</td>\n",
       "      <td>no</td>\n",
       "      <td>telephone</td>\n",
       "      <td>17</td>\n",
       "      <td>sep</td>\n",
       "      <td>231</td>\n",
       "      <td>1</td>\n",
       "      <td>-1</td>\n",
       "      <td>0</td>\n",
       "      <td>other</td>\n",
       "      <td>yes</td>\n",
       "    </tr>\n",
       "    <tr>\n",
       "      <th>1998</th>\n",
       "      <td>46.0</td>\n",
       "      <td>services</td>\n",
       "      <td>married</td>\n",
       "      <td>primary</td>\n",
       "      <td>no</td>\n",
       "      <td>4343</td>\n",
       "      <td>-0.965874</td>\n",
       "      <td>0.302708</td>\n",
       "      <td>yes</td>\n",
       "      <td>no</td>\n",
       "      <td>unknown</td>\n",
       "      <td>20</td>\n",
       "      <td>sep</td>\n",
       "      <td>185</td>\n",
       "      <td>1</td>\n",
       "      <td>-1</td>\n",
       "      <td>0</td>\n",
       "      <td>other</td>\n",
       "      <td>yes</td>\n",
       "    </tr>\n",
       "    <tr>\n",
       "      <th>1999</th>\n",
       "      <td>40.0</td>\n",
       "      <td>entrepreneur</td>\n",
       "      <td>married</td>\n",
       "      <td>secondary</td>\n",
       "      <td>no</td>\n",
       "      <td>6403</td>\n",
       "      <td>-0.800893</td>\n",
       "      <td>1.066659</td>\n",
       "      <td>no</td>\n",
       "      <td>no</td>\n",
       "      <td>cellular</td>\n",
       "      <td>22</td>\n",
       "      <td>sep</td>\n",
       "      <td>208</td>\n",
       "      <td>2</td>\n",
       "      <td>-1</td>\n",
       "      <td>0</td>\n",
       "      <td>other</td>\n",
       "      <td>yes</td>\n",
       "    </tr>\n",
       "  </tbody>\n",
       "</table>\n",
       "</div>"
      ],
      "text/plain": [
       "       age           job  marital  education default  balance  ratio_bal_ln  \\\n",
       "1995  20.0       student   single    unknown      no     2785     -2.170524   \n",
       "1996  28.0        admin.   single  secondary      no      127      0.811788   \n",
       "1997  81.0       retired  married    primary      no     1154      0.504655   \n",
       "1998  46.0      services  married    primary      no     4343     -0.965874   \n",
       "1999  40.0  entrepreneur  married  secondary      no     6403     -0.800893   \n",
       "\n",
       "      ratio_ln_inc housing loan    contact  day month  duration  campaign  \\\n",
       "1995      1.081071      no   no   cellular   16   sep       327         2   \n",
       "1996      1.134496      no   no   cellular   16   sep      1334         2   \n",
       "1997      0.042190      no   no  telephone   17   sep       231         1   \n",
       "1998      0.302708     yes   no    unknown   20   sep       185         1   \n",
       "1999      1.066659      no   no   cellular   22   sep       208         2   \n",
       "\n",
       "      pdays  previous poutcome subscribed  \n",
       "1995     -1         0    other        yes  \n",
       "1996     -1         0    other        yes  \n",
       "1997     -1         0    other        yes  \n",
       "1998     -1         0    other        yes  \n",
       "1999     -1         0    other        yes  "
      ]
     },
     "execution_count": 21,
     "metadata": {},
     "output_type": "execute_result"
    }
   ],
   "source": [
    "data.tail(5)"
   ]
  },
  {
   "cell_type": "code",
   "execution_count": 22,
   "metadata": {},
   "outputs": [
    {
     "name": "stdout",
     "output_type": "stream",
     "text": [
      "\n",
      "______\t age \t_________\n",
      "Total Values = \t 2000 \n",
      "\n",
      "33.000000    95\n",
      "35.000000    90\n",
      "31.000000    87\n",
      "34.000000    84\n",
      "37.000000    77\n",
      "32.000000    77\n",
      "36.000000    74\n",
      "38.000000    66\n",
      "30.000000    64\n",
      "29.000000    60\n",
      "28.000000    59\n",
      "39.000000    56\n",
      "46.000000    54\n",
      "40.000000    50\n",
      "45.000000    45\n",
      "43.000000    43\n",
      "27.000000    43\n",
      "41.000000    43\n",
      "49.000000    41\n",
      "48.000000    41\n",
      "54.000000    40\n",
      "47.000000    40\n",
      "60.000000    38\n",
      "26.000000    37\n",
      "42.000000    35\n",
      "53.000000    35\n",
      "57.000000    34\n",
      "56.000000    34\n",
      "52.000000    32\n",
      "51.000000    32\n",
      "             ..\n",
      "63.000000    15\n",
      "64.000000    15\n",
      "62.000000    15\n",
      "23.000000    13\n",
      "41.753018    12\n",
      "67.000000     9\n",
      "68.000000     9\n",
      "72.000000     8\n",
      "77.000000     8\n",
      "71.000000     7\n",
      "69.000000     6\n",
      "75.000000     6\n",
      "65.000000     6\n",
      "19.000000     6\n",
      "66.000000     6\n",
      "80.000000     6\n",
      "74.000000     5\n",
      "21.000000     5\n",
      "78.000000     5\n",
      "70.000000     4\n",
      "82.000000     3\n",
      "84.000000     3\n",
      "20.000000     2\n",
      "76.000000     2\n",
      "73.000000     2\n",
      "93.000000     2\n",
      "86.000000     2\n",
      "81.000000     2\n",
      "18.000000     1\n",
      "79.000000     1\n",
      "Name: age, Length: 69, dtype: int64\n",
      "_________________________________________\n",
      "\n",
      "______\t balance \t_________\n",
      "Total Values = \t 2000 \n",
      "\n",
      " 0        86\n",
      " 1         9\n",
      " 272       8\n",
      " 303       7\n",
      " 4         6\n",
      " 6         6\n",
      " 655       6\n",
      " 393       6\n",
      " 557       6\n",
      " 417       6\n",
      " 496       5\n",
      " 105       5\n",
      " 205       5\n",
      " 62        5\n",
      " 372       5\n",
      " 392       5\n",
      " 5         5\n",
      " 224       4\n",
      " 985       4\n",
      " 129       4\n",
      " 436       4\n",
      " 569       4\n",
      " 358       4\n",
      " 122       4\n",
      " 8304      4\n",
      " 121       4\n",
      " 47        4\n",
      " 442       4\n",
      " 494       4\n",
      " 199       4\n",
      "          ..\n",
      " 3154      1\n",
      " 7249      1\n",
      " 1102      1\n",
      " 1101      1\n",
      "-402       1\n",
      " 1099      1\n",
      " 1097      1\n",
      " 3144      1\n",
      " 3143      1\n",
      " 1093      1\n",
      " 1092      1\n",
      " 4608      1\n",
      " 1088      1\n",
      " 1077      1\n",
      "-375       1\n",
      " 1076      1\n",
      " 2770      1\n",
      " 777       1\n",
      " 5169      1\n",
      " 1072      1\n",
      " 1070      1\n",
      "-205       1\n",
      " 11303     1\n",
      " 3109      1\n",
      "-145       1\n",
      " 1057      1\n",
      " 5151      1\n",
      " 1053      1\n",
      " 1047      1\n",
      " 4873      1\n",
      "Name: balance, Length: 1274, dtype: int64\n",
      "_________________________________________\n",
      "\n",
      "______\t ratio_bal_ln \t_________\n",
      "Total Values = \t 2000 \n",
      "\n",
      " 0.673522    1\n",
      " 1.043318    1\n",
      " 0.078017    1\n",
      "-0.628174    1\n",
      "-0.209052    1\n",
      " 0.387261    1\n",
      "-0.526234    1\n",
      " 0.479039    1\n",
      " 0.178261    1\n",
      " 1.186679    1\n",
      "-0.491019    1\n",
      " 0.966382    1\n",
      "-0.473274    1\n",
      "-0.398133    1\n",
      "-0.126520    1\n",
      "-1.069312    1\n",
      "-0.163885    1\n",
      " 0.653066    1\n",
      "-1.197289    1\n",
      " 0.086659    1\n",
      " 1.193019    1\n",
      "-0.188916    1\n",
      "-0.590271    1\n",
      " 0.418414    1\n",
      " 0.776125    1\n",
      "-0.484687    1\n",
      "-0.098189    1\n",
      " 0.425652    1\n",
      " 0.990591    1\n",
      " 0.522280    1\n",
      "            ..\n",
      " 0.239808    1\n",
      " 1.401403    1\n",
      " 0.415511    1\n",
      " 0.773609    1\n",
      " 0.618052    1\n",
      "-1.004307    1\n",
      " 0.797022    1\n",
      "-1.357104    1\n",
      "-1.352095    1\n",
      " 1.429769    1\n",
      " 0.170376    1\n",
      "-0.846435    1\n",
      " 0.022717    1\n",
      " 0.294884    1\n",
      " 0.520582    1\n",
      " 1.123862    1\n",
      " 0.590826    1\n",
      "-0.365579    1\n",
      "-0.069369    1\n",
      " 1.331625    1\n",
      " 0.445752    1\n",
      "-0.608208    1\n",
      " 0.624896    1\n",
      " 1.466974    1\n",
      "-0.240899    1\n",
      "-0.138712    1\n",
      " 0.448586    1\n",
      " 0.187067    1\n",
      " 0.206345    1\n",
      " 0.184363    1\n",
      "Name: ratio_bal_ln, Length: 2000, dtype: int64\n",
      "_________________________________________\n",
      "\n",
      "______\t ratio_ln_inc \t_________\n",
      "Total Values = \t 2000 \n",
      "\n",
      " 0.669102    1\n",
      " 1.360200    1\n",
      "-1.495307    1\n",
      " 0.495153    1\n",
      " 1.638229    1\n",
      "-1.162972    1\n",
      "-1.054479    1\n",
      " 1.864617    1\n",
      " 0.803665    1\n",
      " 0.855579    1\n",
      " 0.744631    1\n",
      " 0.856018    1\n",
      "-0.102269    1\n",
      "-1.125863    1\n",
      " 1.083758    1\n",
      "-0.120728    1\n",
      " 1.296663    1\n",
      " 1.116725    1\n",
      " 0.281390    1\n",
      "-1.546065    1\n",
      " 2.149521    1\n",
      " 0.070362    1\n",
      "-1.282457    1\n",
      " 1.828132    1\n",
      " 0.500659    1\n",
      " 1.150690    1\n",
      " 0.381095    1\n",
      "-0.139442    1\n",
      " 1.658992    1\n",
      " 0.978575    1\n",
      "            ..\n",
      " 0.913160    1\n",
      " 0.072515    1\n",
      " 1.363693    1\n",
      " 1.653248    1\n",
      "-0.707818    1\n",
      " 0.235200    1\n",
      " 0.232183    1\n",
      "-0.120987    1\n",
      " 0.736860    1\n",
      "-0.721858    1\n",
      " 2.441961    1\n",
      " 0.506593    1\n",
      " 1.096782    1\n",
      "-0.658273    1\n",
      "-1.264246    1\n",
      " 0.668767    1\n",
      "-0.666219    1\n",
      " 0.461619    1\n",
      " 2.056012    1\n",
      " 0.955767    1\n",
      "-1.187841    1\n",
      "-1.439943    1\n",
      " 0.018114    1\n",
      " 0.609057    1\n",
      " 0.235577    1\n",
      " 0.362219    1\n",
      " 1.746620    1\n",
      " 0.671117    1\n",
      " 0.407199    1\n",
      "-0.160139    1\n",
      "Name: ratio_ln_inc, Length: 2000, dtype: int64\n",
      "_________________________________________\n",
      "\n",
      "______\t day \t_________\n",
      "Total Values = \t 2000 \n",
      "\n",
      "8     204\n",
      "29    187\n",
      "2     156\n",
      "4     148\n",
      "5     104\n",
      "3      95\n",
      "6      92\n",
      "28     92\n",
      "13     68\n",
      "30     68\n",
      "17     66\n",
      "9      60\n",
      "16     55\n",
      "12     55\n",
      "14     54\n",
      "20     52\n",
      "15     46\n",
      "1      45\n",
      "22     37\n",
      "26     37\n",
      "10     33\n",
      "23     33\n",
      "27     33\n",
      "21     32\n",
      "11     28\n",
      "25     26\n",
      "18     24\n",
      "19     21\n",
      "7      19\n",
      "24     18\n",
      "31     12\n",
      "Name: day, dtype: int64\n",
      "_________________________________________\n",
      "\n",
      "______\t duration \t_________\n",
      "Total Values = \t 2000 \n",
      "\n",
      "200     12\n",
      "219     11\n",
      "90      11\n",
      "150     10\n",
      "161     10\n",
      "263     10\n",
      "187     10\n",
      "236      9\n",
      "124      9\n",
      "226      9\n",
      "175      9\n",
      "211      9\n",
      "75       9\n",
      "252      9\n",
      "218      9\n",
      "268      9\n",
      "222      9\n",
      "193      8\n",
      "72       8\n",
      "164      8\n",
      "232      8\n",
      "195      8\n",
      "89       8\n",
      "121      8\n",
      "177      8\n",
      "270      8\n",
      "103      8\n",
      "108      8\n",
      "110      8\n",
      "194      8\n",
      "        ..\n",
      "717      1\n",
      "720      1\n",
      "657      1\n",
      "649      1\n",
      "545      1\n",
      "641      1\n",
      "546      1\n",
      "547      1\n",
      "549      1\n",
      "551      1\n",
      "556      1\n",
      "559      1\n",
      "563      1\n",
      "189      1\n",
      "568      1\n",
      "186      1\n",
      "583      1\n",
      "593      1\n",
      "595      1\n",
      "600      1\n",
      "607      1\n",
      "613      1\n",
      "614      1\n",
      "620      1\n",
      "621      1\n",
      "624      1\n",
      "630      1\n",
      "633      1\n",
      "634      1\n",
      "1823     1\n",
      "Name: duration, Length: 655, dtype: int64\n",
      "_________________________________________\n",
      "\n",
      "______\t campaign \t_________\n",
      "Total Values = \t 2000 \n",
      "\n",
      "1     1063\n",
      "2      506\n",
      "3      219\n",
      "4       99\n",
      "5       50\n",
      "6       31\n",
      "7       17\n",
      "8        6\n",
      "9        5\n",
      "11       3\n",
      "10       1\n",
      "Name: campaign, dtype: int64\n",
      "_________________________________________\n",
      "\n",
      "______\t pdays \t_________\n",
      "Total Values = \t 2000 \n",
      "\n",
      "-1      454\n",
      " 182     68\n",
      " 181     62\n",
      " 92      51\n",
      " 91      41\n",
      " 183     36\n",
      " 184     30\n",
      " 272     20\n",
      " 196     19\n",
      " 245     19\n",
      " 252     19\n",
      " 271     18\n",
      " 185     18\n",
      " 259     18\n",
      " 253     18\n",
      " 247     16\n",
      " 188     16\n",
      " 265     16\n",
      " 266     15\n",
      " 258     15\n",
      " 90      14\n",
      " 254     13\n",
      " 180     13\n",
      " 251     13\n",
      " 179     13\n",
      " 246     13\n",
      " 274     13\n",
      " 93      13\n",
      " 195     13\n",
      " 244     13\n",
      "       ... \n",
      " 761      1\n",
      " 769      1\n",
      " 776      1\n",
      " 551      1\n",
      " 550      1\n",
      " 541      1\n",
      " 291      1\n",
      " 321      1\n",
      " 312      1\n",
      " 310      1\n",
      " 306      1\n",
      " 304      1\n",
      " 303      1\n",
      " 300      1\n",
      " 297      1\n",
      " 295      1\n",
      " 292      1\n",
      " 286      1\n",
      " 536      1\n",
      " 285      1\n",
      " 284      1\n",
      " 283      1\n",
      " 282      1\n",
      " 281      1\n",
      " 278      1\n",
      " 277      1\n",
      " 529      1\n",
      " 532      1\n",
      " 535      1\n",
      " 854      1\n",
      "Name: pdays, Length: 363, dtype: int64\n",
      "_________________________________________\n",
      "\n",
      "______\t previous \t_________\n",
      "Total Values = \t 2000 \n",
      "\n",
      "0     454\n",
      "1     438\n",
      "2     407\n",
      "3     240\n",
      "4     150\n",
      "5      85\n",
      "6      57\n",
      "7      44\n",
      "8      32\n",
      "9      23\n",
      "10     19\n",
      "11     12\n",
      "12      9\n",
      "13      8\n",
      "14      7\n",
      "15      2\n",
      "16      2\n",
      "17      2\n",
      "23      2\n",
      "51      1\n",
      "19      1\n",
      "20      1\n",
      "27      1\n",
      "29      1\n",
      "38      1\n",
      "55      1\n",
      "Name: previous, dtype: int64\n",
      "_________________________________________\n"
     ]
    }
   ],
   "source": [
    "display_field_info(numerical_cat)"
   ]
  },
  {
   "cell_type": "markdown",
   "metadata": {},
   "source": [
    "# Recheck on empty fields"
   ]
  },
  {
   "cell_type": "code",
   "execution_count": 23,
   "metadata": {},
   "outputs": [
    {
     "data": {
      "text/plain": [
       "age             0\n",
       "job             0\n",
       "marital         0\n",
       "education       0\n",
       "default         0\n",
       "balance         0\n",
       "ratio_bal_ln    0\n",
       "ratio_ln_inc    0\n",
       "housing         0\n",
       "loan            0\n",
       "contact         0\n",
       "day             0\n",
       "month           0\n",
       "duration        0\n",
       "campaign        0\n",
       "pdays           0\n",
       "previous        0\n",
       "poutcome        0\n",
       "subscribed      0\n",
       "dtype: int64"
      ]
     },
     "execution_count": 23,
     "metadata": {},
     "output_type": "execute_result"
    }
   ],
   "source": [
    "data.apply(lambda x: sum(x.isnull()), axis=0)"
   ]
  },
  {
   "cell_type": "markdown",
   "metadata": {},
   "source": [
    "# Task 1 Comment"
   ]
  },
  {
   "cell_type": "markdown",
   "metadata": {},
   "source": [
    "The following were the missing values within the dataset\n",
    "Inputer is being used on age column to fill in missing values\n",
    "The following fields was replaced by unknown due not knowing any other ways to classify them other than in a new category\n",
    "\n",
    "These fields are :\n",
    "\n",
    "* job : 10 \n",
    "* education : 104 \n",
    "* contact : 191 \n",
    "* poutcome : 454\n",
    "\n",
    "There were other ways to approach this such as Deleting large number of rows where the NaN is present but this wouldnt make the dataset equal by droping those rows.\n",
    "For a large number of numerical categories median could be used to fill in its missing values as a quick way to handle the column.\n",
    "I chose to assign a unique category to job, education , contact , poutcome it will result in lower variance with one hot encoding and negates the loss of data as a new category has been added.\n",
    "It inadvertanetly add variance to the data that may affect the performance of the chosen algorithm not unless KNN which can handle missing values."
   ]
  },
  {
   "cell_type": "code",
   "execution_count": 24,
   "metadata": {},
   "outputs": [
    {
     "data": {
      "text/plain": [
       "<matplotlib.axes._subplots.AxesSubplot at 0x25faa49e3c8>"
      ]
     },
     "execution_count": 24,
     "metadata": {},
     "output_type": "execute_result"
    },
    {
     "data": {
      "image/png": "[encoded data removed]",
      "text/plain": [
       "<Figure size 1440x576 with 2 Axes>"
      ]
     },
     "metadata": {
      "needs_background": "light"
     },
     "output_type": "display_data"
    }
   ],
   "source": [
    "f, ax = plt.subplots(figsize=(20, 8))\n",
    "corr = data.corr()\n",
    "sns.heatmap(corr, mask=np.zeros_like(corr, dtype=np.bool), cmap=sns.diverging_palette(220, 10, as_cmap=True),\n",
    "            square=True, ax=ax)"
   ]
  },
  {
   "cell_type": "code",
   "execution_count": 25,
   "metadata": {},
   "outputs": [
    {
     "name": "stderr",
     "output_type": "stream",
     "text": [
      "C:\\ProgramData\\Anaconda3\\lib\\site-packages\\scipy\\stats\\stats.py:1713: FutureWarning: Using a non-tuple sequence for multidimensional indexing is deprecated; use `arr[tuple(seq)]` instead of `arr[seq]`. In the future this will be interpreted as an array index, `arr[np.array(seq)]`, which will result either in an error or a different result.\n",
      "  return np.add.reduce(sorted[indexer] * weights, axis=axis) / sumval\n"
     ]
    },
    {
     "data": {
      "text/plain": [
       "<matplotlib.axes._subplots.AxesSubplot at 0x25faa4c8a20>"
      ]
     },
     "execution_count": 25,
     "metadata": {},
     "output_type": "execute_result"
    },
    {
     "data": {
      "image/png": "[encoded data removed]",
      "text/plain": [
       "<Figure size 432x288 with 1 Axes>"
      ]
     },
     "metadata": {
      "needs_background": "light"
     },
     "output_type": "display_data"
    }
   ],
   "source": [
    "sns.regplot(x='ratio_bal_ln', y='ratio_ln_inc', data=data)"
   ]
  },
  {
   "cell_type": "markdown",
   "metadata": {},
   "source": [
    "# Task 2"
   ]
  },
  {
   "cell_type": "markdown",
   "metadata": {},
   "source": [
    "Decide on the treatment of outliers in the bank data set. If appropriate, remove examples with extreme or unexpected attribute values, apply log transformation to numeric attributes with extreme values. Use other methods, if appropriate, to treat outliers as well. In your notebook, explain shortly (max 250 words) the decisions you have taken."
   ]
  },
  {
   "cell_type": "code",
   "execution_count": 26,
   "metadata": {},
   "outputs": [
    {
     "data": {
      "image/png": "[encoded data removed]",
      "text/plain": [
       "<Figure size 1440x720 with 9 Axes>"
      ]
     },
     "metadata": {
      "needs_background": "light"
     },
     "output_type": "display_data"
    }
   ],
   "source": [
    "data.hist(figsize=(20,10), bins=20)\n",
    "plt.show()"
   ]
  },
  {
   "cell_type": "code",
   "execution_count": 27,
   "metadata": {},
   "outputs": [],
   "source": [
    "def plot_for_distribution(categories):\n",
    "    size = len(categories)\n",
    "    index = 0\n",
    "    while index < size:\n",
    "        for key in categories:\n",
    "            fig, axs = plt.subplots(ncols=len(categories),figsize=(30,5))\n",
    "            if key == 'age':\n",
    "                data['bc_age'] = power_transform(np.expand_dims(data['age'], axis=1), method='box-cox')\n",
    "                sns.distplot(data['bc_age'], ax=axs[index])\n",
    "                index += 1\n",
    "            elif key == 'balance':\n",
    "                data['yj_balance'] = power_transform(np.expand_dims(data['balance'], axis=1), method='yeo-johnson')\n",
    "                sns.distplot(data['yj_balance'], ax=axs[index])\n",
    "                index += 1\n",
    "            else:\n",
    "                sns.distplot(data[key], ax=axs[index])\n",
    "                index += 1"
   ]
  },
  {
   "cell_type": "code",
   "execution_count": 28,
   "metadata": {},
   "outputs": [
    {
     "name": "stderr",
     "output_type": "stream",
     "text": [
      "C:\\ProgramData\\Anaconda3\\lib\\site-packages\\scipy\\stats\\stats.py:1713: FutureWarning: Using a non-tuple sequence for multidimensional indexing is deprecated; use `arr[tuple(seq)]` instead of `arr[seq]`. In the future this will be interpreted as an array index, `arr[np.array(seq)]`, which will result either in an error or a different result.\n",
      "  return np.add.reduce(sorted[indexer] * weights, axis=axis) / sumval\n",
      "C:\\ProgramData\\Anaconda3\\lib\\site-packages\\scipy\\stats\\stats.py:1713: FutureWarning: Using a non-tuple sequence for multidimensional indexing is deprecated; use `arr[tuple(seq)]` instead of `arr[seq]`. In the future this will be interpreted as an array index, `arr[np.array(seq)]`, which will result either in an error or a different result.\n",
      "  return np.add.reduce(sorted[indexer] * weights, axis=axis) / sumval\n"
     ]
    },
    {
     "data": {
      "image/png": "[encoded data removed]",
      "text/plain": [
       "<Figure size 2160x360 with 9 Axes>"
      ]
     },
     "metadata": {
      "needs_background": "light"
     },
     "output_type": "display_data"
    },
    {
     "data": {
      "image/png": "[encoded data removed]",
      "text/plain": [
       "<Figure size 2160x360 with 9 Axes>"
      ]
     },
     "metadata": {
      "needs_background": "light"
     },
     "output_type": "display_data"
    },
    {
     "data": {
      "image/png": "[encoded data removed]",
      "text/plain": [
       "<Figure size 2160x360 with 9 Axes>"
      ]
     },
     "metadata": {
      "needs_background": "light"
     },
     "output_type": "display_data"
    },
    {
     "data": {
      "image/png": "[encoded data removed]",
      "text/plain": [
       "<Figure size 2160x360 with 9 Axes>"
      ]
     },
     "metadata": {
      "needs_background": "light"
     },
     "output_type": "display_data"
    },
    {
     "data": {
      "image/png": "[encoded data removed]",
      "text/plain": [
       "<Figure size 2160x360 with 9 Axes>"
      ]
     },
     "metadata": {
      "needs_background": "light"
     },
     "output_type": "display_data"
    },
    {
     "data": {
      "image/png": "[encoded data removed]",
      "text/plain": [
       "<Figure size 2160x360 with 9 Axes>"
      ]
     },
     "metadata": {
      "needs_background": "light"
     },
     "output_type": "display_data"
    },
    {
     "data": {
      "image/png": "[encoded data removed]",
      "text/plain": [
       "<Figure size 2160x360 with 9 Axes>"
      ]
     },
     "metadata": {
      "needs_background": "light"
     },
     "output_type": "display_data"
    },
    {
     "data": {
      "image/png": "[encoded data removed]",
      "text/plain": [
       "<Figure size 2160x360 with 9 Axes>"
      ]
     },
     "metadata": {
      "needs_background": "light"
     },
     "output_type": "display_data"
    },
    {
     "data": {
      "image/png": "[encoded data removed]",
      "text/plain": [
       "<Figure size 2160x360 with 9 Axes>"
      ]
     },
     "metadata": {
      "needs_background": "light"
     },
     "output_type": "display_data"
    }
   ],
   "source": [
    "plot_for_distribution(numerical_cat)"
   ]
  },
  {
   "cell_type": "code",
   "execution_count": 29,
   "metadata": {},
   "outputs": [
    {
     "name": "stderr",
     "output_type": "stream",
     "text": [
      "C:\\ProgramData\\Anaconda3\\lib\\site-packages\\ipykernel_launcher.py:1: RuntimeWarning: invalid value encountered in log\n",
      "  \"\"\"Entry point for launching an IPython kernel.\n"
     ]
    }
   ],
   "source": [
    "data['ratio_bal_ln_log'] = np.log(data['ratio_bal_ln'])"
   ]
  },
  {
   "cell_type": "code",
   "execution_count": 30,
   "metadata": {},
   "outputs": [
    {
     "data": {
      "text/plain": [
       "<matplotlib.axes._subplots.AxesSubplot at 0x25faea97780>"
      ]
     },
     "execution_count": 30,
     "metadata": {},
     "output_type": "execute_result"
    },
    {
     "data": {
      "image/png": "[encoded data removed]",
      "text/plain": [
       "<Figure size 432x288 with 1 Axes>"
      ]
     },
     "metadata": {
      "needs_background": "light"
     },
     "output_type": "display_data"
    }
   ],
   "source": [
    "data['ratio_bal_ln_log'].hist(bins=50)"
   ]
  },
  {
   "cell_type": "markdown",
   "metadata": {},
   "source": [
    "As seen from the distribution plot above there is one outliner of 80000 in the entire distribution.This cannot be removed as in every society there is individuals of different wealth brackets this dataset shows only one "
   ]
  },
  {
   "cell_type": "code",
   "execution_count": 31,
   "metadata": {},
   "outputs": [
    {
     "data": {
      "text/plain": [
       "-980"
      ]
     },
     "execution_count": 31,
     "metadata": {},
     "output_type": "execute_result"
    }
   ],
   "source": [
    "data['balance'].min()"
   ]
  },
  {
   "cell_type": "markdown",
   "metadata": {},
   "source": [
    "The minimum balance is negative so in order to make this an even distribution this needs to be counteracted on the row by adding an extra 20 to the row which creates a more even distribution"
   ]
  },
  {
   "cell_type": "code",
   "execution_count": 32,
   "metadata": {},
   "outputs": [
    {
     "data": {
      "image/png": "[encoded data removed]",
      "text/plain": [
       "<Figure size 432x288 with 1 Axes>"
      ]
     },
     "metadata": {
      "needs_background": "light"
     },
     "output_type": "display_data"
    }
   ],
   "source": [
    "data[\"balance_positive\"] = data[\"balance\"] + 1000\n",
    "data['balance_positive'].apply(np.log).hist()\n",
    "plt.show()"
   ]
  },
  {
   "cell_type": "code",
   "execution_count": 33,
   "metadata": {},
   "outputs": [
    {
     "name": "stderr",
     "output_type": "stream",
     "text": [
      "C:\\ProgramData\\Anaconda3\\lib\\site-packages\\ipykernel_launcher.py:1: RuntimeWarning: invalid value encountered in log\n",
      "  \"\"\"Entry point for launching an IPython kernel.\n"
     ]
    }
   ],
   "source": [
    "data['ratio_ln_inc_log'] = np.log(data['ratio_ln_inc'])"
   ]
  },
  {
   "cell_type": "code",
   "execution_count": 34,
   "metadata": {},
   "outputs": [
    {
     "data": {
      "text/plain": [
       "<matplotlib.axes._subplots.AxesSubplot at 0x25fad62bbe0>"
      ]
     },
     "execution_count": 34,
     "metadata": {},
     "output_type": "execute_result"
    },
    {
     "data": {
      "image/png": "[encoded data removed]",
      "text/plain": [
       "<Figure size 432x288 with 1 Axes>"
      ]
     },
     "metadata": {
      "needs_background": "light"
     },
     "output_type": "display_data"
    }
   ],
   "source": [
    "data['ratio_ln_inc_log'].hist(bins=50)"
   ]
  },
  {
   "cell_type": "code",
   "execution_count": 35,
   "metadata": {},
   "outputs": [],
   "source": [
    "cols_to_transform = data.select_dtypes(include=['category', object]).columns"
   ]
  },
  {
   "cell_type": "code",
   "execution_count": 36,
   "metadata": {},
   "outputs": [],
   "source": [
    "data_with_dummies = pd.get_dummies(data,columns=cols_to_transform)"
   ]
  },
  {
   "cell_type": "markdown",
   "metadata": {},
   "source": [
    "# Job vs Education"
   ]
  },
  {
   "cell_type": "code",
   "execution_count": 37,
   "metadata": {},
   "outputs": [],
   "source": [
    "education_by_job = pd.crosstab(data['education'], data['job']).idxmax(axis=0)"
   ]
  },
  {
   "cell_type": "code",
   "execution_count": 38,
   "metadata": {},
   "outputs": [
    {
     "name": "stdout",
     "output_type": "stream",
     "text": [
      "job\n",
      "admin.           secondary\n",
      "blue-collar      secondary\n",
      "entrepreneur      tertiary\n",
      "housemaid          primary\n",
      "management        tertiary\n",
      "retired          secondary\n",
      "self-employed     tertiary\n",
      "services         secondary\n",
      "student          secondary\n",
      "technician       secondary\n",
      "unemployed       secondary\n",
      "unknown            unknown\n",
      "dtype: object\n"
     ]
    }
   ],
   "source": [
    "print(education_by_job)"
   ]
  },
  {
   "cell_type": "markdown",
   "metadata": {},
   "source": [
    "Interquatile Range"
   ]
  },
  {
   "cell_type": "code",
   "execution_count": 39,
   "metadata": {},
   "outputs": [],
   "source": [
    "def outliers_iqr(ys):\n",
    "    quartile_1, quartile_3 = np.percentile(ys, [25, 75])\n",
    "    iqr = quartile_3 - quartile_1\n",
    "    lower_bound = quartile_1 - (iqr * 1.5)\n",
    "    upper_bound = quartile_3 + (iqr * 1.5)\n",
    "    return np.where((ys > upper_bound) | (ys < lower_bound))"
   ]
  },
  {
   "cell_type": "markdown",
   "metadata": {},
   "source": [
    "Z Score"
   ]
  },
  {
   "cell_type": "code",
   "execution_count": 40,
   "metadata": {},
   "outputs": [],
   "source": [
    "def outliers_z_score(ys):\n",
    "    threshold = 3\n",
    "    mean_y = np.mean(ys)\n",
    "    stdev_y = np.std(ys)\n",
    "    z_scores = [(y - mean_y) / stdev_y for y in ys]\n",
    "    return np.where(np.abs(z_scores) > threshold)"
   ]
  },
  {
   "cell_type": "code",
   "execution_count": 41,
   "metadata": {},
   "outputs": [],
   "source": [
    "def display_outliners(category_type,is_categorical):\n",
    "    if(len(category_type) > 0):\n",
    "        for key in category_type:\n",
    "            if(is_categorical == True):\n",
    "                label_encoder = LabelEncoder()\n",
    "                categorical_cat = label_encoder.fit_transform(data[key])\n",
    "                print(\"\\n______\\t\",key,\"\\t_________\")\n",
    "                iqr_outliners = outliers_iqr(categorical_cat)\n",
    "                print(\"IQR Outliners = \\t\",iqr_outliners,\"\\n\")\n",
    "                z_score_outliners =  outliers_z_score(categorical_cat)\n",
    "                print(\"Z-Score Outliners = \\t\",z_score_outliners,\"\\n\")\n",
    "                print(\"_________________________________________\")\n",
    "            else:\n",
    "                print(\"\\n______\\t\",key,\"\\t_________\")\n",
    "                iqr_outliners = outliers_iqr(data[key])\n",
    "                print(\"IQR Outliners = \\t\",iqr_outliners,\"\\n\")\n",
    "                z_score_outliners =  outliers_z_score(data[key])\n",
    "                print(\"Z-Score Outliners = \\t\",z_score_outliners,\"\\n\")\n",
    "                print(\"_________________________________________\")"
   ]
  },
  {
   "cell_type": "markdown",
   "metadata": {},
   "source": [
    "# Display Outliners for both numerical and categorical fields"
   ]
  },
  {
   "cell_type": "code",
   "execution_count": 42,
   "metadata": {},
   "outputs": [
    {
     "name": "stdout",
     "output_type": "stream",
     "text": [
      "\n",
      "______\t age \t_________\n",
      "IQR Outliners = \t (array([1033, 1074, 1085, 1182, 1299, 1338, 1344, 1352, 1370, 1372, 1444,\n",
      "       1552, 1560, 1562, 1646, 1656, 1721, 1724, 1839, 1872, 1903, 1926,\n",
      "       1992, 1997], dtype=int64),) \n",
      "\n",
      "Z-Score Outliners = \t (array([1033, 1074, 1182, 1299, 1338, 1352, 1370, 1372, 1444, 1552, 1560,\n",
      "       1562, 1646, 1721, 1872, 1903, 1926, 1997], dtype=int64),) \n",
      "\n",
      "_________________________________________\n",
      "\n",
      "______\t balance \t_________\n",
      "IQR Outliners = \t (array([   9,   12,   19,   34,   40,   59,   70,   71,   79,   82,  104,\n",
      "        166,  196,  211,  220,  227,  236,  286,  301,  323,  333,  389,\n",
      "        414,  431,  441,  459,  468,  498,  510,  528,  614,  620,  659,\n",
      "        661,  665,  716,  735,  770,  775,  778,  780,  785,  787,  789,\n",
      "        794,  812,  822,  846,  971, 1002, 1004, 1010, 1020, 1025, 1030,\n",
      "       1033, 1050, 1057, 1064, 1066, 1071, 1072, 1074, 1076, 1082, 1084,\n",
      "       1086, 1088, 1106, 1117, 1162, 1163, 1176, 1184, 1212, 1215, 1255,\n",
      "       1263, 1271, 1273, 1277, 1286, 1302, 1310, 1316, 1321, 1328, 1331,\n",
      "       1355, 1373, 1374, 1380, 1384, 1385, 1389, 1390, 1412, 1415, 1422,\n",
      "       1427, 1431, 1440, 1444, 1471, 1478, 1482, 1512, 1524, 1535, 1544,\n",
      "       1550, 1551, 1553, 1567, 1576, 1581, 1587, 1597, 1601, 1604, 1634,\n",
      "       1637, 1642, 1657, 1666, 1668, 1676, 1683, 1685, 1687, 1736, 1741,\n",
      "       1744, 1756, 1762, 1781, 1788, 1790, 1802, 1806, 1826, 1834, 1872,\n",
      "       1874, 1883, 1906, 1911, 1913, 1916, 1919, 1926, 1953, 1957, 1959,\n",
      "       1987, 1988, 1998, 1999], dtype=int64),) \n",
      "\n",
      "Z-Score Outliners = \t (array([   9,   59,  227,  468,  498,  614,  659, 1004, 1010, 1020, 1033,\n",
      "       1057, 1088, 1106, 1212, 1273, 1328, 1374, 1390, 1422, 1431, 1440,\n",
      "       1471, 1551, 1634, 1657, 1790, 1802, 1834], dtype=int64),) \n",
      "\n",
      "_________________________________________\n",
      "\n",
      "______\t ratio_bal_ln \t_________\n",
      "IQR Outliners = \t (array([  34,   67,  194,  220,  344,  882,  946, 1010, 1232, 1398, 1714,\n",
      "       1863, 1884, 1975, 1995], dtype=int64),) \n",
      "\n",
      "Z-Score Outliners = \t (array([ 194,  344,  946, 1010, 1398, 1884], dtype=int64),) \n",
      "\n",
      "_________________________________________\n",
      "\n",
      "______\t ratio_ln_inc \t_________\n",
      "IQR Outliners = \t (array([ 687,  732,  819, 1112, 1308, 1550], dtype=int64),) \n",
      "\n",
      "Z-Score Outliners = \t (array([ 687, 1550], dtype=int64),) \n",
      "\n",
      "_________________________________________\n",
      "\n",
      "______\t day \t_________\n",
      "IQR Outliners = \t (array([], dtype=int64),) \n",
      "\n",
      "Z-Score Outliners = \t (array([], dtype=int64),) \n",
      "\n",
      "_________________________________________\n",
      "\n",
      "______\t duration \t_________\n",
      "IQR Outliners = \t (array([   0,   10,   19,   61,   62,  124,  205,  258,  411,  460,  467,\n",
      "        560,  621,  822,  862,  893,  927, 1002, 1017, 1022, 1058, 1068,\n",
      "       1092, 1102, 1122, 1126, 1156, 1202, 1214, 1226, 1239, 1250, 1253,\n",
      "       1258, 1259, 1279, 1290, 1299, 1310, 1316, 1319, 1355, 1359, 1363,\n",
      "       1370, 1389, 1391, 1402, 1415, 1424, 1426, 1431, 1438, 1445, 1450,\n",
      "       1470, 1489, 1495, 1529, 1534, 1547, 1572, 1664, 1684, 1685, 1687,\n",
      "       1702, 1733, 1739, 1762, 1770, 1774, 1788, 1817, 1826, 1827, 1830,\n",
      "       1846, 1849, 1857, 1866, 1868, 1872, 1874, 1878, 1904, 1918, 1965,\n",
      "       1971, 1979, 1987, 1996], dtype=int64),) \n",
      "\n",
      "Z-Score Outliners = \t (array([   0,   19,   62,  411,  460,  467,  560,  621,  862,  893, 1017,\n",
      "       1092, 1102, 1122, 1202, 1250, 1253, 1259, 1279, 1316, 1319, 1355,\n",
      "       1391, 1402, 1424, 1431, 1450, 1529, 1534, 1684, 1687, 1702, 1762,\n",
      "       1770, 1774, 1817, 1826, 1849, 1868, 1872, 1874, 1979, 1996],\n",
      "      dtype=int64),) \n",
      "\n",
      "_________________________________________\n",
      "\n",
      "______\t campaign \t_________\n",
      "IQR Outliners = \t (array([   7,   51,   68,   71,   74,   75,   79,   94,   95,   97,   98,\n",
      "        145,  165,  176,  191,  208,  213,  244,  249,  251,  252,  256,\n",
      "        260,  261,  264,  265,  266,  271,  273,  274,  275,  276,  277,\n",
      "        278,  280,  282,  298,  303,  307,  327,  329,  332,  336,  338,\n",
      "        344,  345,  349,  355,  358,  364,  367,  381,  387,  393,  404,\n",
      "        407,  408,  417,  422,  427,  429,  431,  432,  433,  434,  447,\n",
      "        450,  452,  455,  459,  462,  468,  471,  473,  475,  477,  479,\n",
      "        481,  482,  484,  485,  486,  487,  490,  499,  502,  508,  511,\n",
      "        674,  708,  721,  722,  731,  736,  743,  744,  748,  751,  753,\n",
      "        754,  757,  761,  762,  763,  766,  783,  788,  792,  794,  796,\n",
      "        797,  819,  845,  875,  886,  922,  924,  925,  939,  960, 1002,\n",
      "       1021, 1024, 1025, 1034, 1037, 1039, 1041, 1042, 1044, 1050, 1056,\n",
      "       1102, 1109, 1117, 1122, 1164, 1170, 1171, 1227, 1232, 1242, 1246,\n",
      "       1255, 1256, 1258, 1260, 1288, 1289, 1299, 1301, 1309, 1317, 1322,\n",
      "       1325, 1326, 1339, 1349, 1391, 1404, 1407, 1421, 1422, 1427, 1430,\n",
      "       1431, 1433, 1450, 1451, 1455, 1459, 1467, 1470, 1471, 1490, 1491,\n",
      "       1511, 1514, 1523, 1531, 1557, 1567, 1589, 1604, 1619, 1654, 1655,\n",
      "       1681, 1683, 1686, 1708, 1709, 1718, 1725, 1727, 1738, 1762, 1770,\n",
      "       1785, 1788, 1794, 1806, 1823, 1831, 1874, 1897, 1900, 1901, 1949,\n",
      "       1958, 1961, 1981], dtype=int64),) \n",
      "\n",
      "Z-Score Outliners = \t (array([  74,   98,  208,  282,  345,  364,  367,  387,  417,  447,  455,\n",
      "        459,  462,  473,  484,  485,  502,  763,  796,  922, 1021, 1025,\n",
      "       1044, 1232, 1326, 1404, 1421, 1422, 1589, 1681, 1788, 1897],\n",
      "      dtype=int64),) \n",
      "\n",
      "_________________________________________\n",
      "\n",
      "______\t pdays \t_________\n",
      "IQR Outliners = \t (array([  79, 1001, 1009, 1013, 1015, 1141, 1144, 1147, 1157, 1162, 1275,\n",
      "       1278, 1281, 1282, 1294, 1297, 1317, 1453, 1634, 1636, 1757, 1777,\n",
      "       1780, 1796, 1841, 1867, 1873, 1880, 1881, 1882, 1884, 1887, 1888],\n",
      "      dtype=int64),) \n",
      "\n",
      "Z-Score Outliners = \t (array([1001, 1009, 1013, 1141, 1147, 1157, 1162, 1275, 1281, 1297, 1453,\n",
      "       1777, 1780, 1796, 1867, 1873, 1880, 1881, 1882, 1884, 1887, 1888],\n",
      "      dtype=int64),) \n",
      "\n",
      "_________________________________________\n",
      "\n",
      "______\t previous \t_________\n",
      "IQR Outliners = \t (array([  19,   75,   97,  143,  199,  210,  213,  227,  238,  254,  268,\n",
      "        281,  302,  317,  339,  355,  364,  372,  381,  417,  431,  432,\n",
      "        459,  467,  471,  473,  482,  483,  485,  487,  490,  509,  523,\n",
      "        533,  545,  555,  564,  573,  592,  593,  596,  647,  672,  673,\n",
      "        679,  684,  687,  697,  704,  708,  721,  755,  757,  760,  989,\n",
      "        992, 1002, 1010, 1018, 1030, 1043, 1065, 1137, 1138, 1142, 1146,\n",
      "       1150, 1161, 1167, 1173, 1174, 1182, 1191, 1198, 1199, 1201, 1208,\n",
      "       1212, 1213, 1220, 1221, 1226, 1227, 1230, 1275, 1283, 1291, 1293,\n",
      "       1302, 1305, 1306, 1320, 1321, 1322, 1326, 1333, 1339, 1342, 1361,\n",
      "       1370, 1378, 1389, 1391, 1444, 1446, 1449, 1451, 1454, 1458, 1464,\n",
      "       1465, 1470, 1472, 1481, 1485, 1486, 1502, 1510, 1548, 1553, 1554,\n",
      "       1575, 1576, 1616, 1623, 1629, 1635, 1645, 1648, 1654, 1661, 1667,\n",
      "       1673, 1683, 1684, 1692, 1694, 1698, 1740, 1742, 1743, 1750, 1788,\n",
      "       1790, 1791, 1799, 1800, 1806, 1807, 1808, 1816, 1829, 1839, 1876,\n",
      "       1886, 1898, 1901, 1902, 1905, 1918, 1926, 1930, 1938, 1939, 1945,\n",
      "       1954, 1955, 1960, 1963], dtype=int64),) \n",
      "\n",
      "Z-Score Outliners = \t (array([  97,  199,  213,  238,  254,  355,  417,  432,  473,  545,  564,\n",
      "        596,  673,  697,  755,  992, 1138, 1146, 1150, 1201, 1275, 1322,\n",
      "       1464, 1465, 1790, 1806, 1886, 1905, 1926, 1960], dtype=int64),) \n",
      "\n",
      "_________________________________________\n"
     ]
    }
   ],
   "source": [
    "display_outliners(numerical_cat, False)"
   ]
  },
  {
   "cell_type": "code",
   "execution_count": 43,
   "metadata": {},
   "outputs": [
    {
     "name": "stdout",
     "output_type": "stream",
     "text": [
      "\n",
      "______\t job \t_________\n",
      "IQR Outliners = \t (array([], dtype=int64),) \n",
      "\n",
      "Z-Score Outliners = \t (array([], dtype=int64),) \n",
      "\n",
      "_________________________________________\n",
      "\n",
      "______\t marital \t_________\n",
      "IQR Outliners = \t (array([], dtype=int64),) \n",
      "\n",
      "Z-Score Outliners = \t (array([], dtype=int64),) \n",
      "\n",
      "_________________________________________\n",
      "\n",
      "______\t education \t_________\n",
      "IQR Outliners = \t (array([], dtype=int64),) \n",
      "\n",
      "Z-Score Outliners = \t (array([], dtype=int64),) \n",
      "\n",
      "_________________________________________\n",
      "\n",
      "______\t default \t_________\n",
      "IQR Outliners = \t (array([  32,  185,  318,  450,  499,  520,  597,  645,  674,  799,  864,\n",
      "        874,  902,  981, 1278], dtype=int64),) \n",
      "\n",
      "Z-Score Outliners = \t (array([  32,  185,  318,  450,  499,  520,  597,  645,  674,  799,  864,\n",
      "        874,  902,  981, 1278], dtype=int64),) \n",
      "\n",
      "_________________________________________\n",
      "\n",
      "______\t housing \t_________\n",
      "IQR Outliners = \t (array([], dtype=int64),) \n",
      "\n",
      "Z-Score Outliners = \t (array([], dtype=int64),) \n",
      "\n",
      "_________________________________________\n",
      "\n",
      "______\t loan \t_________\n",
      "IQR Outliners = \t (array([   1,    2,    3,    6,    7,   16,   23,   36,   37,   47,   50,\n",
      "         61,   64,   71,   74,   92,  103,  105,  109,  114,  123,  125,\n",
      "        140,  148,  149,  158,  167,  168,  169,  171,  176,  177,  180,\n",
      "        181,  182,  191,  193,  200,  207,  208,  216,  219,  223,  227,\n",
      "        229,  243,  245,  251,  259,  269,  272,  273,  276,  277,  281,\n",
      "        283,  284,  289,  295,  297,  299,  300,  307,  313,  315,  316,\n",
      "        318,  322,  323,  326,  330,  331,  339,  343,  345,  350,  351,\n",
      "        353,  361,  371,  375,  383,  387,  390,  394,  395,  402,  409,\n",
      "        412,  413,  424,  430,  439,  440,  443,  449,  450,  455,  463,\n",
      "        464,  471,  472,  474,  490,  492,  495,  497,  510,  513,  518,\n",
      "        520,  523,  524,  528,  529,  532,  533,  534,  541,  543,  545,\n",
      "        549,  556,  562,  563,  565,  575,  576,  578,  580,  581,  596,\n",
      "        597,  602,  609,  613,  615,  619,  620,  629,  637,  639,  640,\n",
      "        645,  647,  652,  654,  655,  660,  665,  666,  667,  674,  677,\n",
      "        680,  684,  688,  694,  697,  700,  701,  703,  704,  706,  708,\n",
      "        713,  716,  719,  722,  723,  727,  729,  730,  738,  745,  750,\n",
      "        751,  753,  764,  781,  785,  805,  807,  863,  883,  885,  888,\n",
      "        891,  892,  893,  905,  913,  928,  933,  941,  944,  950,  953,\n",
      "        959,  971,  977,  984,  985,  988,  991,  992,  993, 1005, 1031,\n",
      "       1054, 1075, 1098, 1099, 1148, 1158, 1172, 1185, 1198, 1202, 1213,\n",
      "       1261, 1267, 1296, 1298, 1308, 1330, 1359, 1394, 1419, 1451, 1493,\n",
      "       1546, 1567, 1585, 1595, 1628, 1710, 1773, 1820, 1825, 1838, 1856,\n",
      "       1859, 1873, 1886, 1928, 1943, 1960, 1969, 1993], dtype=int64),) \n",
      "\n",
      "Z-Score Outliners = \t (array([], dtype=int64),) \n",
      "\n",
      "_________________________________________\n",
      "\n",
      "______\t contact \t_________\n",
      "IQR Outliners = \t (array([  43,   55,   71,   83,   88,  102,  160,  180,  216,  239,  244,\n",
      "        253,  268,  272,  273,  280,  289,  321,  355,  360,  401,  403,\n",
      "        431,  437,  444,  459,  464,  471,  472,  484,  485,  545,  564,\n",
      "        565,  566,  569,  573,  599,  610,  627,  659,  708,  711,  715,\n",
      "        731,  787,  799,  800,  801,  802,  803,  804,  805,  806,  807,\n",
      "        808,  809,  810,  811,  812,  813,  814,  815,  816,  817,  818,\n",
      "        819,  820,  821,  822,  823,  824,  825,  826,  827,  828,  829,\n",
      "        830,  831,  832,  833,  834,  835,  836,  837,  838,  839,  840,\n",
      "        841,  842,  843,  844,  845,  846,  847,  848,  849,  850,  851,\n",
      "        852,  853,  854,  855,  856,  857,  858,  859,  860,  861,  862,\n",
      "        863,  864,  865,  866,  867,  868,  869,  870,  871,  872,  873,\n",
      "        874,  875,  876,  877,  878,  879,  880,  881,  882,  883,  884,\n",
      "        885,  886,  887,  888,  889,  890,  891,  892,  893,  894,  895,\n",
      "        896,  897,  898,  899,  900,  901,  902,  903,  904,  905,  906,\n",
      "        907,  908,  909,  910,  911,  912,  913,  914,  915,  916,  917,\n",
      "        918,  919,  920,  921,  922,  923,  924,  925,  926,  927,  928,\n",
      "        929,  930,  931,  932,  933,  934,  935,  936,  937,  938,  939,\n",
      "        940,  941,  942,  943,  944,  945,  946,  947,  948,  949,  950,\n",
      "        951,  952,  953,  954,  955,  956,  957,  958,  959,  960,  961,\n",
      "        962,  963,  964,  965,  966,  967,  984,  988,  989,  994,  997,\n",
      "        998,  999, 1000, 1014, 1018, 1019, 1020, 1026, 1029, 1033, 1045,\n",
      "       1052, 1064, 1074, 1076, 1083, 1087, 1089, 1093, 1095, 1102, 1104,\n",
      "       1105, 1109, 1113, 1130, 1146, 1157, 1176, 1206, 1207, 1224, 1245,\n",
      "       1246, 1254, 1261, 1267, 1269, 1276, 1300, 1304, 1305, 1325, 1330,\n",
      "       1331, 1335, 1338, 1340, 1344, 1351, 1352, 1385, 1386, 1390, 1399,\n",
      "       1403, 1405, 1406, 1415, 1416, 1424, 1439, 1440, 1444, 1456, 1459,\n",
      "       1460, 1516, 1521, 1526, 1528, 1533, 1539, 1549, 1552, 1562, 1567,\n",
      "       1569, 1576, 1589, 1591, 1595, 1603, 1611, 1619, 1630, 1636, 1642,\n",
      "       1646, 1666, 1667, 1668, 1700, 1704, 1705, 1708, 1711, 1721, 1724,\n",
      "       1737, 1744, 1749, 1777, 1788, 1815, 1828, 1850, 1869, 1872, 1878,\n",
      "       1926, 1935, 1938, 1945, 1989, 1997, 1998], dtype=int64),) \n",
      "\n",
      "Z-Score Outliners = \t (array([], dtype=int64),) \n",
      "\n",
      "_________________________________________\n",
      "\n",
      "______\t month \t_________\n",
      "IQR Outliners = \t (array([], dtype=int64),) \n",
      "\n",
      "Z-Score Outliners = \t (array([], dtype=int64),) \n",
      "\n",
      "_________________________________________\n",
      "\n",
      "______\t poutcome \t_________\n",
      "IQR Outliners = \t (array([], dtype=int64),) \n",
      "\n",
      "Z-Score Outliners = \t (array([], dtype=int64),) \n",
      "\n",
      "_________________________________________\n",
      "\n",
      "______\t subscribed \t_________\n",
      "IQR Outliners = \t (array([], dtype=int64),) \n",
      "\n",
      "Z-Score Outliners = \t (array([], dtype=int64),) \n",
      "\n",
      "_________________________________________\n"
     ]
    }
   ],
   "source": [
    "display_outliners(categorical_cat, True)"
   ]
  },
  {
   "cell_type": "code",
   "execution_count": 44,
   "metadata": {},
   "outputs": [],
   "source": [
    "data_with_dummies.fillna(0, inplace=True)"
   ]
  },
  {
   "cell_type": "markdown",
   "metadata": {},
   "source": [
    "Scaling or Standardization"
   ]
  },
  {
   "cell_type": "code",
   "execution_count": 45,
   "metadata": {
    "scrolled": true
   },
   "outputs": [
    {
     "data": {
      "text/plain": [
       "<matplotlib.collections.PathCollection at 0x25faddfb978>"
      ]
     },
     "execution_count": 45,
     "metadata": {},
     "output_type": "execute_result"
    },
    {
     "data": {
      "image/png": "[encoded data removed]",
      "text/plain": [
       "<Figure size 720x576 with 1 Axes>"
      ]
     },
     "metadata": {
      "needs_background": "light"
     },
     "output_type": "display_data"
    }
   ],
   "source": [
    "plt.figure(figsize=(10,8))\n",
    "X = data[['ratio_bal_ln', 'ratio_ln_inc']]\n",
    "std_scale = preprocessing.StandardScaler().fit(X)\n",
    "data_std = std_scale.transform(X)\n",
    "plt.scatter(X['ratio_bal_ln'], X['ratio_ln_inc'],color=\"green\", marker='*')\n",
    "plt.scatter(data_std[:,0], data_std[:,1])"
   ]
  },
  {
   "cell_type": "markdown",
   "metadata": {},
   "source": [
    "Image shows the difference is variables between variables that have been scaled(blue) and not scaled(green)"
   ]
  },
  {
   "cell_type": "markdown",
   "metadata": {},
   "source": [
    "It assumes your data conforms to a normal distribution"
   ]
  },
  {
   "cell_type": "code",
   "execution_count": 46,
   "metadata": {},
   "outputs": [
    {
     "name": "stdout",
     "output_type": "stream",
     "text": [
      "\n",
      "AFTER:\n",
      "Mean = [-2.84217094e-17  2.84217094e-17]\n",
      "Std deviation = [1. 1.]\n"
     ]
    }
   ],
   "source": [
    "X_scaled = preprocessing.scale(X)\n",
    "print(\"\\nAFTER:\")\n",
    "print(\"Mean =\", X_scaled.mean(axis=0))\n",
    "print(\"Std deviation =\", X_scaled.std(axis=0))"
   ]
  },
  {
   "cell_type": "markdown",
   "metadata": {},
   "source": [
    "Normalisation L1 L2"
   ]
  },
  {
   "cell_type": "markdown",
   "metadata": {},
   "source": [
    "Is a scaling technique that doesnt assume any specific distribution"
   ]
  },
  {
   "cell_type": "code",
   "execution_count": 47,
   "metadata": {},
   "outputs": [
    {
     "name": "stdout",
     "output_type": "stream",
     "text": [
      "\n",
      "L1 normalized data:\n",
      " [ 0.73287078  0.26712922 -0.44971257 ...  0.23861941 -0.42884652\n",
      "  0.57115348]\n",
      "\n",
      "L2 normalized data:\n",
      " [ 0.93953345  0.34245714 -0.63279721 ...  0.29906041 -0.60043129\n",
      "  0.79967635]\n"
     ]
    }
   ],
   "source": [
    "X_l1 = preprocessing.normalize(X, norm='l1')\n",
    "X_l2 = preprocessing.normalize(X, norm='l2')\n",
    "print(\"\\nL1 normalized data:\\n\", X_l1[X_l1 != 0.])\n",
    "print(\"\\nL2 normalized data:\\n\", X_l2[X_l2 != 0.])"
   ]
  },
  {
   "cell_type": "markdown",
   "metadata": {},
   "source": [
    " # Task 2 Comment"
   ]
  },
  {
   "cell_type": "markdown",
   "metadata": {},
   "source": [
    "There are many approaches to outlines such as :\n",
    "\n",
    "* Data Log\n",
    "* Interquartile Range(IQR)\n",
    "* Z Score\n",
    "* Scaling\n",
    "* Normalisation\n",
    "\n",
    "A log was performed to on ratio_bal_ln , ratio_ln_inc and power transforms on age and balance\n",
    "The other approaches are IQR, Z Score that allow the outliners to be discovered given a certain range of 25/75 to then finding their lower bounds of the data.\n",
    "The z score is another approach to this that applies a mean and standard deviation and takes away the values\n",
    "The log was performed to create a more even gaussian distribution of the values.\n",
    "The Z score has been applied on both numerical and categorical categories with outliners discovered above.\n",
    "I didnt see a need to remove outliners early on see a better use to use PCA or Factor Analysis to identify key components necessary for prediction. Its better to have enough data to make a prediction than data you accidently deleted through outliner detection just from experience working with data previously in migration form"
   ]
  },
  {
   "cell_type": "markdown",
   "metadata": {},
   "source": [
    "# Task 3"
   ]
  },
  {
   "cell_type": "markdown",
   "metadata": {},
   "source": [
    "Suggest the creation of at least one new feature from the existing ones and justify the usefulness of your choice within the context of the 2-class classification problem you have defined in E-tivity 1."
   ]
  },
  {
   "cell_type": "code",
   "execution_count": 48,
   "metadata": {},
   "outputs": [],
   "source": [
    "data['mean_ratio_bal_In_inc'] = data[['ratio_ln_inc_log','ratio_bal_ln_log']].mean(axis=1)"
   ]
  },
  {
   "cell_type": "code",
   "execution_count": 49,
   "metadata": {},
   "outputs": [
    {
     "data": {
      "text/plain": [
       "<matplotlib.axes._subplots.AxesSubplot at 0x25fade25a90>"
      ]
     },
     "execution_count": 49,
     "metadata": {},
     "output_type": "execute_result"
    },
    {
     "data": {
      "image/png": "[encoded data removed]",
      "text/plain": [
       "<Figure size 432x288 with 1 Axes>"
      ]
     },
     "metadata": {
      "needs_background": "light"
     },
     "output_type": "display_data"
    }
   ],
   "source": [
    "data['mean_ratio_bal_In_inc'].hist()"
   ]
  },
  {
   "cell_type": "markdown",
   "metadata": {},
   "source": [
    "# Ages per age group"
   ]
  },
  {
   "cell_type": "code",
   "execution_count": 50,
   "metadata": {},
   "outputs": [
    {
     "data": {
      "text/plain": [
       "35-65    1118\n",
       "18-35     785\n",
       "65+        96\n",
       "2-18        1\n",
       "<2          0\n",
       "Name: age_binned, dtype: int64"
      ]
     },
     "execution_count": 50,
     "metadata": {},
     "output_type": "execute_result"
    }
   ],
   "source": [
    "bins = [0, 2, 18, 35, 65, np.inf]\n",
    "names = ['<2', '2-18', '18-35', '35-65', '65+']\n",
    "\n",
    "data['age_binned'] = pd.cut(data['age'], bins, labels=names)\n",
    "data['age_binned'].value_counts()"
   ]
  },
  {
   "cell_type": "code",
   "execution_count": 51,
   "metadata": {},
   "outputs": [],
   "source": [
    "def merge_loan(data):    \n",
    "    if (data['housing'] == 'yes') or (data['loan'] == 'yes'):\n",
    "        return 1\n",
    "    else:\n",
    "        return 0"
   ]
  },
  {
   "cell_type": "code",
   "execution_count": 52,
   "metadata": {},
   "outputs": [
    {
     "data": {
      "text/plain": [
       "1    1043\n",
       "0     957\n",
       "Name: has_loan, dtype: int64"
      ]
     },
     "execution_count": 52,
     "metadata": {},
     "output_type": "execute_result"
    }
   ],
   "source": [
    "data['has_loan'] = data.apply(merge_loan, axis=1)\n",
    "\n",
    "data.has_loan.value_counts()"
   ]
  },
  {
   "cell_type": "markdown",
   "metadata": {},
   "source": [
    "# Financial Stablity\n",
    "Individuals who have a house with no loan and a balance greater than 500"
   ]
  },
  {
   "cell_type": "code",
   "execution_count": 98,
   "metadata": {},
   "outputs": [],
   "source": [
    "def Is_Financially_Stable(data):\n",
    "    if (data['has_loan'] == 0) and (data['balance'] > 500):\n",
    "        return 1\n",
    "    else:\n",
    "        return 0"
   ]
  },
  {
   "cell_type": "code",
   "execution_count": 99,
   "metadata": {},
   "outputs": [
    {
     "data": {
      "text/plain": [
       "0    1418\n",
       "1     582\n",
       "Name: Is_Financially_Stable, dtype: int64"
      ]
     },
     "execution_count": 99,
     "metadata": {},
     "output_type": "execute_result"
    }
   ],
   "source": [
    "data['Is_Financially_Stable'] = data.apply(Is_Financially_Stable, axis=1)\n",
    "\n",
    "data.Is_Financially_Stable.value_counts()"
   ]
  },
  {
   "cell_type": "code",
   "execution_count": 100,
   "metadata": {},
   "outputs": [
    {
     "data": {
      "text/plain": [
       "<matplotlib.axes._subplots.AxesSubplot at 0x25fae65d390>"
      ]
     },
     "execution_count": 100,
     "metadata": {},
     "output_type": "execute_result"
    },
    {
     "data": {
      "image/png": "[encoded data removed]",
      "text/plain": [
       "<Figure size 432x288 with 1 Axes>"
      ]
     },
     "metadata": {
      "needs_background": "light"
     },
     "output_type": "display_data"
    }
   ],
   "source": [
    "data['Is_Financially_Stable'].hist()"
   ]
  },
  {
   "cell_type": "markdown",
   "metadata": {},
   "source": [
    "# Loan Repayablity\n",
    "Is the loan repayable given the individual doesnt have a house and the balance is less than 500 and their age is greater than 50 with a loan and the duration of payment is greater than 7 days. It has identified 10 people in this risk category"
   ]
  },
  {
   "cell_type": "code",
   "execution_count": 101,
   "metadata": {},
   "outputs": [],
   "source": [
    "def Is_Loan_Repayable(data):\n",
    "    if (data['housing'] == 'no') and (data['balance'] < 500) and (data['age'] > 50) and (data['has_loan'] == 1) and (data['pdays'] > 7):\n",
    "        return 1\n",
    "    else:\n",
    "        return 0"
   ]
  },
  {
   "cell_type": "code",
   "execution_count": 102,
   "metadata": {},
   "outputs": [
    {
     "data": {
      "text/plain": [
       "0    1990\n",
       "1      10\n",
       "Name: Is_Loan_Repayable, dtype: int64"
      ]
     },
     "execution_count": 102,
     "metadata": {},
     "output_type": "execute_result"
    }
   ],
   "source": [
    "data['Is_Loan_Repayable'] = data.apply(Is_Loan_Repayable, axis=1)\n",
    "\n",
    "data.Is_Loan_Repayable.value_counts()"
   ]
  },
  {
   "cell_type": "code",
   "execution_count": 103,
   "metadata": {},
   "outputs": [
    {
     "data": {
      "text/plain": [
       "<matplotlib.axes._subplots.AxesSubplot at 0x25fadefee80>"
      ]
     },
     "execution_count": 103,
     "metadata": {},
     "output_type": "execute_result"
    },
    {
     "data": {
      "image/png": "[encoded data removed]",
      "text/plain": [
       "<Figure size 432x288 with 1 Axes>"
      ]
     },
     "metadata": {
      "needs_background": "light"
     },
     "output_type": "display_data"
    }
   ],
   "source": [
    "data['Is_Loan_Repayable'].hist()"
   ]
  },
  {
   "cell_type": "markdown",
   "metadata": {},
   "source": [
    "# Task 3 Comment"
   ]
  },
  {
   "cell_type": "markdown",
   "metadata": {},
   "source": [
    "The new feature above is the combined elements of ratio_ln_inc_log and ratio_bal_ln log which can now be used as an X variable instead of two features just to see how it will perform compared to two variables as X.\n",
    "Other new categories created from suggestions age per group and has loan. From these came up with other categories such as Is_Financially_Stable and Is_Loan_Repayable. These two new categories could be used as a combined X variable to predict an unknown y if further correlations are found"
   ]
  },
  {
   "cell_type": "markdown",
   "metadata": {},
   "source": [
    "# Task 4"
   ]
  },
  {
   "cell_type": "markdown",
   "metadata": {},
   "source": [
    "Using the dataset you prepared, perform a classification on the data using scikitlearn’s logistic regression.\n",
    "\n",
    "Generate plots of the approximate probability P[Ein-Eout|>e]. You can use the exact same approach as in E-tivity 1. In the same figure, plot the Hoeffding bound and the VC bound and check whether or not either bound is exceeded (indicate this clearly in a markdown cell)."
   ]
  },
  {
   "cell_type": "code",
   "execution_count": 59,
   "metadata": {},
   "outputs": [],
   "source": [
    "data['subscribed_code'] = data['subscribed'].map({'yes': 1, 'no': 0})"
   ]
  },
  {
   "cell_type": "markdown",
   "metadata": {},
   "source": [
    "Applying the same values(X,y) from Etivity 1"
   ]
  },
  {
   "cell_type": "code",
   "execution_count": 60,
   "metadata": {},
   "outputs": [],
   "source": [
    "X = data[['ratio_bal_ln', 'ratio_ln_inc']].values\n",
    "y = data['subscribed_code'].values"
   ]
  },
  {
   "cell_type": "code",
   "execution_count": 61,
   "metadata": {},
   "outputs": [],
   "source": [
    "fa_one = FactorAnalysis(n_components = 2)\n",
    "X1_pca = pca_data_one = fa_one.fit_transform(X,y)"
   ]
  },
  {
   "cell_type": "code",
   "execution_count": 62,
   "metadata": {},
   "outputs": [
    {
     "name": "stdout",
     "output_type": "stream",
     "text": [
      "X_train.shape:(1600, 2), y_train.shape:(1600,)\n",
      "X_test.shape :(400, 2), y_test.shape :(400,)\n"
     ]
    }
   ],
   "source": [
    "X_shuffled, y_shuffled = shuffle(X1_pca, y, random_state=0)\n",
    "X_train, X_test, y_train, y_test = train_test_split(X_shuffled, y_shuffled, test_size=0.2)\n",
    "print (\"X_train.shape:{}, y_train.shape:{}\".format(X_train.shape, y_train.shape))\n",
    "print (\"X_test.shape :{}, y_test.shape :{}\".format(X_test.shape, y_test.shape))"
   ]
  },
  {
   "cell_type": "markdown",
   "metadata": {},
   "source": [
    "Applying new features to help see can it make prediction better"
   ]
  },
  {
   "cell_type": "code",
   "execution_count": 63,
   "metadata": {},
   "outputs": [],
   "source": [
    "X2 = data[['Is_Financially_Stable','Is_Loan_Repayable']].values\n",
    "y2 = data['subscribed_code'].values"
   ]
  },
  {
   "cell_type": "code",
   "execution_count": 64,
   "metadata": {},
   "outputs": [],
   "source": [
    "fa_two = FactorAnalysis(n_components = 2)\n",
    "X2_pca = pca_data_two = fa_two.fit_transform(X2,y2)"
   ]
  },
  {
   "cell_type": "code",
   "execution_count": 65,
   "metadata": {},
   "outputs": [
    {
     "name": "stdout",
     "output_type": "stream",
     "text": [
      "X_train.shape:(1600, 2), y_train.shape:(1600,)\n",
      "X_test.shape :(400, 2), y_test.shape :(400,)\n"
     ]
    }
   ],
   "source": [
    "X2_shuffled, y2_shuffled = shuffle(X2_pca, y2, random_state=0)\n",
    "X2_train, X2_test, y2_train, y2_test = train_test_split(X2_shuffled, y2_shuffled, test_size=0.2)\n",
    "print (\"X_train.shape:{}, y_train.shape:{}\".format(X_train.shape, y_train.shape))\n",
    "print (\"X_test.shape :{}, y_test.shape :{}\".format(X_test.shape, y_test.shape))"
   ]
  },
  {
   "cell_type": "markdown",
   "metadata": {},
   "source": [
    "# Logistic Regression"
   ]
  },
  {
   "cell_type": "code",
   "execution_count": 66,
   "metadata": {},
   "outputs": [
    {
     "name": "stderr",
     "output_type": "stream",
     "text": [
      "C:\\ProgramData\\Anaconda3\\lib\\site-packages\\sklearn\\linear_model\\logistic.py:433: FutureWarning: Default solver will be changed to 'lbfgs' in 0.22. Specify a solver to silence this warning.\n",
      "  FutureWarning)\n"
     ]
    },
    {
     "data": {
      "text/plain": [
       "LogisticRegression(C=1.0, class_weight=None, dual=False, fit_intercept=True,\n",
       "          intercept_scaling=1, max_iter=100, multi_class='warn',\n",
       "          n_jobs=None, penalty='l2', random_state=None, solver='warn',\n",
       "          tol=0.0001, verbose=0, warm_start=False)"
      ]
     },
     "execution_count": 66,
     "metadata": {},
     "output_type": "execute_result"
    }
   ],
   "source": [
    "logistic_classifer = LogisticRegression()\n",
    "logistic_classifer.fit(X_train, y_train)"
   ]
  },
  {
   "cell_type": "code",
   "execution_count": 67,
   "metadata": {},
   "outputs": [
    {
     "data": {
      "text/plain": [
       "array([1, 0, 1, ..., 1, 0, 1], dtype=int64)"
      ]
     },
     "execution_count": 67,
     "metadata": {},
     "output_type": "execute_result"
    }
   ],
   "source": [
    "logistic_classifer.predict(X_train)"
   ]
  },
  {
   "cell_type": "code",
   "execution_count": 68,
   "metadata": {},
   "outputs": [
    {
     "data": {
      "text/plain": [
       "array([[0.46288258, 0.53711742],\n",
       "       [0.53766261, 0.46233739],\n",
       "       [0.07715774, 0.92284226],\n",
       "       ...,\n",
       "       [0.14393638, 0.85606362],\n",
       "       [0.69548385, 0.30451615],\n",
       "       [0.1124188 , 0.8875812 ]])"
      ]
     },
     "execution_count": 68,
     "metadata": {},
     "output_type": "execute_result"
    }
   ],
   "source": [
    "logistic_classifer.predict_proba(X_train)"
   ]
  },
  {
   "cell_type": "code",
   "execution_count": 69,
   "metadata": {},
   "outputs": [
    {
     "name": "stdout",
     "output_type": "stream",
     "text": [
      "Ein: 0.218125\n",
      "Eout: 0.235\n"
     ]
    }
   ],
   "source": [
    "Ein = 1 - logistic_classifer.score(X_train, y_train)\n",
    "print(\"Ein:\", Ein)\n",
    "\n",
    "Eout = 1 - logistic_classifer.score(X_test, y_test)\n",
    "print(\"Eout:\", Eout)"
   ]
  },
  {
   "cell_type": "code",
   "execution_count": 70,
   "metadata": {},
   "outputs": [
    {
     "name": "stdout",
     "output_type": "stream",
     "text": [
      "349\n",
      "1600\n",
      "Error Percentage 0.218125\n"
     ]
    }
   ],
   "source": [
    "y_train_hat = logistic_classifer.predict(X_train)\n",
    "\n",
    "errors = 0\n",
    "for i in range(len(y_train)):\n",
    "    if(y_train_hat[i]!=y_train[i]):\n",
    "        errors+=1\n",
    "\n",
    "print(errors)\n",
    "print(len(y_train))\n",
    "print(\"Error Percentage\",errors/len(y_train))"
   ]
  },
  {
   "cell_type": "code",
   "execution_count": 71,
   "metadata": {},
   "outputs": [
    {
     "name": "stdout",
     "output_type": "stream",
     "text": [
      "94\n",
      "400\n",
      "Error Percentage 0.235\n"
     ]
    }
   ],
   "source": [
    "y_test_hat = logistic_classifer.predict(X_test)\n",
    "\n",
    "errors = 0\n",
    "for i in range(len(y_test)):\n",
    "    if(y_test_hat[i]!=y_test[i]):\n",
    "        errors+=1\n",
    "\n",
    "print(errors)\n",
    "print(len(y_test))\n",
    "print(\"Error Percentage\",errors/len(y_test))"
   ]
  },
  {
   "cell_type": "code",
   "execution_count": 72,
   "metadata": {},
   "outputs": [],
   "source": [
    "Eins = []\n",
    "Eouts = []\n",
    "\n",
    "def run_experiment(counter):\n",
    "    for i in range (counter):\n",
    "        X_train, X_test, y_train, y_test = train_test_split(X_shuffled, y_shuffled, test_size=0.2)\n",
    "        \n",
    "        logreg_classifier = LogisticRegression(solver='lbfgs')\n",
    "        \n",
    "        logreg_classifier.fit(X_train, y_train)\n",
    "        \n",
    "        score_train = logreg_classifier.score(X_train, y_train)\n",
    "        score_test = logreg_classifier.score(X_test, y_test)\n",
    "        \n",
    "        exp_train = 1 - score_train\n",
    "        exp_test = 1 - score_test\n",
    "        \n",
    "        Eins.append(exp_train)\n",
    "        Eouts.append(exp_test)\n",
    "\n",
    "\n",
    "run_experiment(1000)"
   ]
  },
  {
   "cell_type": "code",
   "execution_count": 73,
   "metadata": {},
   "outputs": [],
   "source": [
    "def calc_prob_epsilon(M, Eins, Eouts, epsilons):\n",
    "    prob_epsilon=[]\n",
    "    for e in epsilons:   \n",
    "        counter = 0\n",
    "        for i in range(M):\n",
    "            if abs(Eins[i] - Eouts[i])>e:\n",
    "                   counter +=1\n",
    "        prob_epsilon.append(counter/M)           \n",
    "    return prob_epsilon"
   ]
  },
  {
   "cell_type": "code",
   "execution_count": 74,
   "metadata": {},
   "outputs": [
    {
     "name": "stdout",
     "output_type": "stream",
     "text": [
      "epsilon proba. dist: [1.0, 1.0, 0.0, 0.0, 0.0, 0.0, 0.0, 0.0, 0.0, 0.0, 0.0, 0.0, 0.0, 0.0, 0.0, 0.0, 0.0, 0.0, 0.0, 0.0, 0.0, 0.0, 0.0, 0.0, 0.0, 0.0, 0.0, 0.0, 0.0, 0.0, 0.0, 0.0, 0.0, 0.0, 0.0, 0.0, 0.0, 0.0, 0.0, 0.0, 0.0, 0.0, 0.0, 0.0, 0.0, 0.0, 0.0, 0.0, 0.0, 0.0, 0.0, 0.0, 0.0, 0.0, 0.0, 0.0, 0.0, 0.0, 0.0, 0.0, 0.0, 0.0, 0.0, 0.0, 0.0, 0.0, 0.0, 0.0, 0.0, 0.0, 0.0, 0.0, 0.0, 0.0, 0.0, 0.0, 0.0, 0.0, 0.0, 0.0, 0.0, 0.0, 0.0, 0.0, 0.0, 0.0, 0.0, 0.0, 0.0, 0.0, 0.0, 0.0, 0.0, 0.0, 0.0, 0.0, 0.0, 0.0, 0.0, 0.0]\n"
     ]
    }
   ],
   "source": [
    "epsilons = np.arange(0, 1, 0.01)\n",
    "error_in = [Ein]\n",
    "error_out = [Eout]\n",
    "prob_epsilon = calc_prob_epsilon(1, error_in, error_out, epsilons)\n",
    "\n",
    "print(\"epsilon proba. dist:\", prob_epsilon)"
   ]
  },
  {
   "cell_type": "code",
   "execution_count": 75,
   "metadata": {},
   "outputs": [],
   "source": [
    "epsilons = np.arange(0, 1, 0.01)\n",
    "N=2000"
   ]
  },
  {
   "cell_type": "code",
   "execution_count": 76,
   "metadata": {},
   "outputs": [
    {
     "name": "stdout",
     "output_type": "stream",
     "text": [
      "0.30194180133675363\n"
     ]
    }
   ],
   "source": [
    "tolerance = 0.01\n",
    "dvc = X_train.shape[1] + 1\n",
    "def get_vc_bound(N, dvc, tolerance, Ein):\n",
    "    return Ein + math.sqrt((1/(2*N)) * math.log((2 * (math.pow(N,dvc) + 1)/tolerance) ))\n",
    "\n",
    "print(get_vc_bound(N, dvc, tolerance, Ein))"
   ]
  },
  {
   "cell_type": "code",
   "execution_count": 77,
   "metadata": {},
   "outputs": [],
   "source": [
    "def plot(error_in,error_out):\n",
    "    error_diff = abs(np.array(error_in)-np.array(error_out))\n",
    "    epsilons = np.arange(0.001,0.20,0.001)\n",
    "    prob_epsilon=[]\n",
    "    for e in epsilons:\n",
    "        prob_epsilon.append(len([1 for i in error_diff if i > e])/len(error_diff))\n",
    "    plt.plot(epsilons, prob_epsilon)\n",
    "\n",
    "    hoef = [2*math.exp(-2*N*e**2) for e in epsilons]\n",
    "    vc = [4*(((2*N)**dvc)+1)*math.exp(-(N/8)*e**2) for e in epsilons]\n",
    "\n",
    "    print(\"Error exceeds Hoeffding\" if max(np.array(prob_epsilon)-np.array(hoef))>0 else \"Error does not exceed Hoeffding\")\n",
    "    print(\"Error exceeds VC\" if max(np.array(prob_epsilon)-np.array(vc))>0 else \"Error does not exceed VC\")\n",
    "    plt.plot(epsilons, hoef,'r')\n",
    "    plt.plot(epsilons, vc, 'g')\n",
    "    plt.yscale('log')\n",
    "    plt.show()"
   ]
  },
  {
   "cell_type": "code",
   "execution_count": 78,
   "metadata": {},
   "outputs": [
    {
     "name": "stdout",
     "output_type": "stream",
     "text": [
      "Error exceeds Hoeffding\n",
      "Error does not exceed VC\n"
     ]
    },
    {
     "data": {
      "image/png": "[encoded data removed]",
      "text/plain": [
       "<Figure size 432x288 with 1 Axes>"
      ]
     },
     "metadata": {
      "needs_background": "light"
     },
     "output_type": "display_data"
    }
   ],
   "source": [
    "plot(error_in,error_out)"
   ]
  },
  {
   "cell_type": "markdown",
   "metadata": {},
   "source": [
    "# Task 4 Comment"
   ]
  },
  {
   "cell_type": "markdown",
   "metadata": {},
   "source": [
    "* Applying the same X and Y variables as Etivity 1 leads to Error exceeding the Hoeffding bound while not exceeding the VC Dimension while running this the VC Dimension remained linear while the hoeffding bound slowly began to drop off as it reached the sample size\n",
    "* The p[(Ein-Eout)>e] remained less than 0.025\n",
    "* Applying the features created such as Is_Financially_Stable, Is_Loan_Repayable (X) and leaving y the same lead to same conclusion as above\n",
    "* Although the error percentage of Ein and Eout did increase from a previous ~20% to closer to ~55% with a VC Bound increase to ~60%.\n",
    "* Applying PCA did not help in the case of new features only leading to an greater increase in error although results where the same as before\n",
    "\n"
   ]
  },
  {
   "cell_type": "markdown",
   "metadata": {},
   "source": [
    "# Task 5"
   ]
  },
  {
   "cell_type": "markdown",
   "metadata": {},
   "source": [
    "Using the dataset, make learning curves for logistic regression and two other machine learning algorithms of your choosing using scikitlearn’s learning_curve functionality. Choose one algorithm with low complexity in terms of VC dimension and one algorithm with high complexity.\n",
    "\n",
    "Comment on what information you can derive from the learning curves  (in a markdown cell) and how this information differs between simple and complex machine learning algorithms."
   ]
  },
  {
   "cell_type": "code",
   "execution_count": 79,
   "metadata": {},
   "outputs": [],
   "source": [
    "def plot_learning_curve(estimator):\n",
    "    cv=5\n",
    "    n_jobs=2\n",
    "    \n",
    "    # Create train sizes\n",
    "    # Note: The minimum train samples should also have samples of at least 2 classes in the data \n",
    "    train_sizes=np.linspace(0.1, 1.0, 5)\n",
    "    print(\"Train sizes selected :\\n\", train_sizes)\n",
    "\n",
    "\n",
    "    # Determine the cross-validated training and test scores for different training set sizes.\n",
    "    train_sizes, train_scores, test_scores = learning_curve(estimator=estimator, \n",
    "                                                            X=X_train, \n",
    "                                                            y=y_train, \n",
    "                                                            cv=cv, \n",
    "                                                            n_jobs=n_jobs, \n",
    "                                                            train_sizes=train_sizes)\n",
    "    \n",
    "    print(\"train_scores:\\n\", train_scores)\n",
    "    print(\"test_scores :\\n\", test_scores)\n",
    "\n",
    "    train_scores_mean = np.mean(train_scores, axis=1)\n",
    "    print(\"train_scores mean:\\n\",train_scores_mean)\n",
    "    train_scores_std  = np.std(train_scores, axis=1)\n",
    "    print(\"train_scores std:\\n\",train_scores_std)\n",
    "    test_scores_mean  = np.mean(test_scores, axis=1)\n",
    "    print(\"test_scores mean:\\n\",test_scores_mean)\n",
    "    test_scores_std   = np.std(test_scores, axis=1)\n",
    "    print(\"test_scores std:\\n\",test_scores_std)\n",
    "\n",
    "    # Extract the string value of estimator using regular expression\n",
    "    estimator_string = re.sub(r\" ?\\([^)]+\\)\", \"\", str(estimator))\n",
    "    plt.title(\"Learning curves of {} estimator.\". format(estimator_string), fontsize = 12)\n",
    "  \n",
    "    plt.plot(train_sizes, train_scores_mean, 'ro--', label=\"Training score\")\n",
    "    plt.plot(train_sizes, test_scores_mean, 'go--', label= \"CV score\")\n",
    "    \n",
    "    # Highlight the standtard deviation from mean\n",
    "    plt.fill_between(train_sizes, train_scores_mean - train_scores_std, \n",
    "                     train_scores_mean + train_scores_std, alpha=0.1, color=\"r\")\n",
    "    plt.fill_between(train_sizes, test_scores_mean - test_scores_std,\n",
    "                     test_scores_mean + test_scores_std, alpha=0.1, color=\"g\")\n",
    "    \n",
    "    plt.legend(loc=\"best\")\n",
    "    plt.ylabel('Score')\n",
    "    plt.xlabel('Training examples')\n",
    "    \n",
    "    plt.grid()\n",
    "    plt.ylim(0.3, 1.01)\n",
    "    plt.show()"
   ]
  },
  {
   "cell_type": "code",
   "execution_count": 80,
   "metadata": {},
   "outputs": [
    {
     "name": "stdout",
     "output_type": "stream",
     "text": [
      "Train sizes selected :\n",
      " [0.1   0.325 0.55  0.775 1.   ]\n",
      "train_scores:\n",
      " [[0.796875   0.71875    0.71875    0.71875    0.71875   ]\n",
      " [0.76923077 0.78846154 0.79086538 0.79086538 0.79086538]\n",
      " [0.78551136 0.80113636 0.77982955 0.77272727 0.77272727]\n",
      " [0.77620968 0.78629032 0.77419355 0.78326613 0.78528226]\n",
      " [0.77890625 0.78828125 0.77734375 0.784375   0.78203125]]\n",
      "test_scores :\n",
      " [[0.784375 0.775    0.7875   0.7625   0.7875  ]\n",
      " [0.784375 0.759375 0.803125 0.771875 0.790625]\n",
      " [0.784375 0.759375 0.80625  0.778125 0.790625]\n",
      " [0.784375 0.753125 0.8      0.778125 0.790625]\n",
      " [0.784375 0.75625  0.8      0.778125 0.7875  ]]\n",
      "train_scores mean:\n",
      " [0.734375   0.78605769 0.78238636 0.78104839 0.7821875 ]\n",
      "train_scores std:\n",
      " [0.03125    0.00846482 0.01053054 0.00491373 0.00390312]\n",
      "test_scores mean:\n",
      " [0.779375 0.781875 0.78375  0.78125  0.78125 ]\n",
      "test_scores std:\n",
      " [0.00960143 0.01510381 0.01536026 0.01581139 0.01438858]\n"
     ]
    },
    {
     "data": {
      "image/png": "[encoded data removed]",
      "text/plain": [
       "<Figure size 432x288 with 1 Axes>"
      ]
     },
     "metadata": {
      "needs_background": "light"
     },
     "output_type": "display_data"
    },
    {
     "name": "stdout",
     "output_type": "stream",
     "text": [
      "Train sizes selected :\n",
      " [0.1   0.325 0.55  0.775 1.   ]\n",
      "train_scores:\n",
      " [[0.8046875  0.71875    0.71875    0.71875    0.71875   ]\n",
      " [0.77644231 0.78125    0.78846154 0.78846154 0.78846154]\n",
      " [0.78125    0.79829545 0.77556818 0.77272727 0.77272727]\n",
      " [0.77721774 0.78629032 0.77318548 0.77923387 0.78125   ]\n",
      " [0.78125    0.7890625  0.77734375 0.78125    0.77734375]]\n",
      "test_scores :\n",
      " [[0.775    0.775    0.79375  0.765625 0.790625]\n",
      " [0.771875 0.765625 0.79375  0.775    0.79375 ]\n",
      " [0.784375 0.75625  0.79375  0.775    0.79375 ]\n",
      " [0.784375 0.753125 0.79375  0.775    0.790625]\n",
      " [0.784375 0.759375 0.8      0.775    0.790625]]\n",
      "train_scores mean:\n",
      " [0.7359375  0.78461538 0.78011364 0.77943548 0.78125   ]\n",
      "train_scores std:\n",
      " [0.034375   0.00494982 0.00960883 0.00434287 0.00427908]\n",
      "test_scores mean:\n",
      " [0.78     0.78     0.780625 0.779375 0.781875]\n",
      "test_scores std:\n",
      " [0.01056971 0.01162567 0.01403122 0.01460415 0.01389132]\n"
     ]
    },
    {
     "data": {
      "image/png": "[encoded data removed]",
      "text/plain": [
       "<Figure size 432x288 with 1 Axes>"
      ]
     },
     "metadata": {
      "needs_background": "light"
     },
     "output_type": "display_data"
    },
    {
     "name": "stdout",
     "output_type": "stream",
     "text": [
      "Train sizes selected :\n",
      " [0.1   0.325 0.55  0.775 1.   ]\n",
      "train_scores:\n",
      " [[0.796875   0.71875    0.71875    0.71875    0.71875   ]\n",
      " [0.77163462 0.78846154 0.78846154 0.78846154 0.78846154]\n",
      " [0.78551136 0.80113636 0.77982955 0.77130682 0.77130682]\n",
      " [0.77620968 0.78629032 0.77217742 0.78125    0.78629032]\n",
      " [0.77890625 0.78828125 0.77734375 0.78359375 0.7796875 ]]\n",
      "test_scores :\n",
      " [[0.784375 0.775    0.7875   0.7625   0.7875  ]\n",
      " [0.78125  0.759375 0.803125 0.778125 0.790625]\n",
      " [0.784375 0.759375 0.803125 0.775    0.790625]\n",
      " [0.784375 0.753125 0.796875 0.778125 0.790625]\n",
      " [0.784375 0.75625  0.8      0.778125 0.790625]]\n",
      "train_scores mean:\n",
      " [0.734375   0.78509615 0.78181818 0.78044355 0.7815625 ]\n",
      "train_scores std:\n",
      " [0.03125    0.00673077 0.01106132 0.00557269 0.00394048]\n",
      "test_scores mean:\n",
      " [0.779375 0.7825   0.7825   0.780625 0.781875]\n",
      "test_scores std:\n",
      " [0.00960143 0.0144698  0.01473728 0.01510381 0.01471075]\n"
     ]
    },
    {
     "data": {
      "image/png": "[encoded data removed]",
      "text/plain": [
       "<Figure size 432x288 with 1 Axes>"
      ]
     },
     "metadata": {
      "needs_background": "light"
     },
     "output_type": "display_data"
    },
    {
     "name": "stdout",
     "output_type": "stream",
     "text": [
      "Train sizes selected :\n",
      " [0.1   0.325 0.55  0.775 1.   ]\n",
      "train_scores:\n",
      " [[0.8203125  0.75       0.75       0.75       0.75      ]\n",
      " [0.78125    0.78605769 0.78846154 0.78846154 0.78846154]\n",
      " [0.78551136 0.79829545 0.77840909 0.77414773 0.77414773]\n",
      " [0.77822581 0.78729839 0.77217742 0.77822581 0.78024194]\n",
      " [0.78125    0.78984375 0.77734375 0.78125    0.78046875]]\n",
      "test_scores :\n",
      " [[0.746875 0.759375 0.803125 0.775    0.790625]\n",
      " [0.759375 0.765625 0.8      0.778125 0.790625]\n",
      " [0.784375 0.759375 0.8      0.775    0.79375 ]\n",
      " [0.784375 0.759375 0.80625  0.775    0.79375 ]\n",
      " [0.7875   0.75625  0.80625  0.775    0.790625]]\n",
      "train_scores mean:\n",
      " [0.7640625  0.78653846 0.78210227 0.77923387 0.78203125]\n",
      "train_scores std:\n",
      " [0.028125   0.00280334 0.00909978 0.00485548 0.00416341]\n",
      "test_scores mean:\n",
      " [0.775    0.77875  0.7825   0.78375  0.783125]\n",
      "test_scores std:\n",
      " [0.02034853 0.01510381 0.01433418 0.01598339 0.01672386]\n"
     ]
    },
    {
     "data": {
      "image/png": "[encoded data removed]",
      "text/plain": [
       "<Figure size 432x288 with 1 Axes>"
      ]
     },
     "metadata": {
      "needs_background": "light"
     },
     "output_type": "display_data"
    },
    {
     "name": "stdout",
     "output_type": "stream",
     "text": [
      "Train sizes selected :\n",
      " [0.1   0.325 0.55  0.775 1.   ]\n",
      "train_scores:\n",
      " [[0.828125   0.828125   0.828125   0.828125   0.828125  ]\n",
      " [0.82692308 0.82211538 0.82932692 0.82932692 0.82932692]\n",
      " [0.83096591 0.81534091 0.80823864 0.80539773 0.80539773]\n",
      " [0.81149194 0.81552419 0.80040323 0.81552419 0.81754032]\n",
      " [0.803125   0.80859375 0.803125   0.81796875 0.8125    ]]\n",
      "test_scores :\n",
      " [[0.7125   0.7      0.7625   0.709375 0.725   ]\n",
      " [0.73125  0.753125 0.778125 0.7625   0.765625]\n",
      " [0.73125  0.759375 0.76875  0.75     0.7625  ]\n",
      " [0.740625 0.75625  0.759375 0.746875 0.771875]\n",
      " [0.728125 0.740625 0.7625   0.734375 0.728125]]\n",
      "train_scores mean:\n",
      " [0.828125   0.82740385 0.81306818 0.81209677 0.8090625 ]\n",
      "train_scores std:\n",
      " [0.         0.00280334 0.00965909 0.00616817 0.00568973]\n",
      "test_scores mean:\n",
      " [0.721875 0.758125 0.754375 0.755    0.73875 ]\n",
      "test_scores std:\n",
      " [0.02183031 0.0156375  0.01305038 0.01075291 0.01274755]\n"
     ]
    },
    {
     "data": {
      "image/png": "[encoded data removed]",
      "text/plain": [
       "<Figure size 432x288 with 1 Axes>"
      ]
     },
     "metadata": {
      "needs_background": "light"
     },
     "output_type": "display_data"
    },
    {
     "name": "stdout",
     "output_type": "stream",
     "text": [
      "Train sizes selected :\n",
      " [0.1   0.325 0.55  0.775 1.   ]\n",
      "train_scores:\n",
      " [[0.921875   0.9140625  0.9140625  0.9140625  0.9140625 ]\n",
      " [0.83894231 0.81971154 0.81009615 0.81009615 0.81009615]\n",
      " [0.80113636 0.81676136 0.79261364 0.79119318 0.79119318]\n",
      " [0.78931452 0.7983871  0.78326613 0.7953629  0.7983871 ]\n",
      " [0.78828125 0.7953125  0.784375   0.79453125 0.78984375]]\n",
      "test_scores :\n",
      " [[0.68125  0.63125  0.696875 0.65625  0.696875]\n",
      " [0.71875  0.75     0.809375 0.778125 0.7875  ]\n",
      " [0.784375 0.75     0.809375 0.75625  0.790625]\n",
      " [0.79375  0.746875 0.809375 0.7625   0.7875  ]\n",
      " [0.784375 0.759375 0.809375 0.7625   0.7875  ]]\n",
      "train_scores mean:\n",
      " [0.915625   0.81778846 0.79857955 0.79294355 0.79046875]\n",
      "train_scores std:\n",
      " [0.003125   0.01121337 0.00981656 0.00586413 0.00405649]\n",
      "test_scores mean:\n",
      " [0.6725   0.76875  0.778125 0.78     0.780625]\n",
      "test_scores std:\n",
      " [0.02541837 0.03143694 0.02209709 0.02241303 0.01826455]\n"
     ]
    },
    {
     "data": {
      "image/png": "[encoded data removed]",
      "text/plain": [
       "<Figure size 432x288 with 1 Axes>"
      ]
     },
     "metadata": {
      "needs_background": "light"
     },
     "output_type": "display_data"
    }
   ],
   "source": [
    "estimators = [LogisticRegression(), GaussianNB(), LinearSVC(), SVC(kernel='rbf'),KNeighborsClassifier(),AdaBoostClassifier()]\n",
    "\n",
    "# Run the test for learning curve\n",
    "for e in estimators:\n",
    "    plot_learning_curve(e)"
   ]
  },
  {
   "cell_type": "code",
   "execution_count": 81,
   "metadata": {},
   "outputs": [],
   "source": [
    "def plot_confusion(cm_result, labels , title):\n",
    "    fig = plt.figure()\n",
    "    ax = fig.add_subplot(111)\n",
    "    cax = ax.matshow(cm_result)\n",
    "    plt.title(title)\n",
    "    fig.colorbar(cax)\n",
    "    ax.set_xticklabels(labels)\n",
    "    ax.set_yticklabels(labels)\n",
    "    plt.xlabel('Predicted')\n",
    "    plt.ylabel('True')\n",
    "    plt.show()"
   ]
  },
  {
   "cell_type": "markdown",
   "metadata": {},
   "source": [
    "# SVC Linear"
   ]
  },
  {
   "cell_type": "code",
   "execution_count": 82,
   "metadata": {},
   "outputs": [
    {
     "data": {
      "text/plain": [
       "LinearSVC(C=1.0, class_weight=None, dual=True, fit_intercept=True,\n",
       "     intercept_scaling=1, loss='squared_hinge', max_iter=1000,\n",
       "     multi_class='ovr', penalty='l2', random_state=None, tol=0.0001,\n",
       "     verbose=0)"
      ]
     },
     "execution_count": 82,
     "metadata": {},
     "output_type": "execute_result"
    }
   ],
   "source": [
    "svclassifier = LinearSVC() \n",
    "svclassifier.fit(X_train, y_train) "
   ]
  },
  {
   "cell_type": "code",
   "execution_count": 83,
   "metadata": {},
   "outputs": [],
   "source": [
    "y_pred = svclassifier.predict(X_test) "
   ]
  },
  {
   "cell_type": "code",
   "execution_count": 84,
   "metadata": {},
   "outputs": [
    {
     "name": "stdout",
     "output_type": "stream",
     "text": [
      "0.7625\n"
     ]
    }
   ],
   "source": [
    "print(metrics.accuracy_score(y_test, y_pred))\n",
    "cm_result = metrics.confusion_matrix(y_test, y_pred)"
   ]
  },
  {
   "cell_type": "code",
   "execution_count": 85,
   "metadata": {},
   "outputs": [
    {
     "data": {
      "image/png": "[encoded data removed]",
      "text/plain": [
       "<Figure size 432x288 with 2 Axes>"
      ]
     },
     "metadata": {
      "needs_background": "light"
     },
     "output_type": "display_data"
    }
   ],
   "source": [
    "plot_confusion(cm_result,y_pred, 'SVC Linear Confusion')"
   ]
  },
  {
   "cell_type": "code",
   "execution_count": 86,
   "metadata": {},
   "outputs": [
    {
     "name": "stdout",
     "output_type": "stream",
     "text": [
      "Ein: 0.218125\n",
      "Eout: 0.23750000000000004\n"
     ]
    }
   ],
   "source": [
    "Ein = 1 - svclassifier.score(X_train, y_train)\n",
    "print(\"Ein:\", Ein)\n",
    "\n",
    "Eout = 1 - svclassifier.score(X_test, y_test)\n",
    "print(\"Eout:\", Eout)"
   ]
  },
  {
   "cell_type": "markdown",
   "metadata": {},
   "source": [
    "# K nearest neighbours "
   ]
  },
  {
   "cell_type": "code",
   "execution_count": 87,
   "metadata": {},
   "outputs": [
    {
     "data": {
      "text/plain": [
       "KNeighborsClassifier(algorithm='auto', leaf_size=30, metric='minkowski',\n",
       "           metric_params=None, n_jobs=None, n_neighbors=5, p=2,\n",
       "           weights='uniform')"
      ]
     },
     "execution_count": 87,
     "metadata": {},
     "output_type": "execute_result"
    }
   ],
   "source": [
    "kneighbours_classifier = KNeighborsClassifier()\n",
    "kneighbours_classifier.fit(X_train, y_train)"
   ]
  },
  {
   "cell_type": "code",
   "execution_count": 88,
   "metadata": {},
   "outputs": [],
   "source": [
    "y_kneighbourspred = kneighbours_classifier.predict(X_test) "
   ]
  },
  {
   "cell_type": "code",
   "execution_count": 89,
   "metadata": {},
   "outputs": [
    {
     "name": "stdout",
     "output_type": "stream",
     "text": [
      "0.725\n"
     ]
    }
   ],
   "source": [
    "print(metrics.accuracy_score(y_test, y_kneighbourspred))\n",
    "knn_cm = metrics.confusion_matrix(y_test, y_kneighbourspred)"
   ]
  },
  {
   "cell_type": "code",
   "execution_count": 90,
   "metadata": {},
   "outputs": [
    {
     "data": {
      "image/png": "[encoded data removed]",
      "text/plain": [
       "<Figure size 432x288 with 2 Axes>"
      ]
     },
     "metadata": {
      "needs_background": "light"
     },
     "output_type": "display_data"
    }
   ],
   "source": [
    "plot_confusion(knn_cm,y_kneighbourspred, 'KNN Confusion')"
   ]
  },
  {
   "cell_type": "code",
   "execution_count": 91,
   "metadata": {},
   "outputs": [
    {
     "name": "stdout",
     "output_type": "stream",
     "text": [
      "Ein: 0.1875\n",
      "Eout: 0.275\n"
     ]
    }
   ],
   "source": [
    "Ein = 1 - kneighbours_classifier.score(X_train, y_train)\n",
    "print(\"Ein:\", Ein)\n",
    "\n",
    "Eout = 1 - kneighbours_classifier.score(X_test, y_test)\n",
    "print(\"Eout:\", Eout)"
   ]
  },
  {
   "cell_type": "markdown",
   "metadata": {},
   "source": [
    "# Adaboost Classifier"
   ]
  },
  {
   "cell_type": "code",
   "execution_count": 92,
   "metadata": {},
   "outputs": [],
   "source": [
    "adaboost_classifier = AdaBoostClassifier()"
   ]
  },
  {
   "cell_type": "code",
   "execution_count": 93,
   "metadata": {},
   "outputs": [
    {
     "data": {
      "text/plain": [
       "AdaBoostClassifier(algorithm='SAMME.R', base_estimator=None,\n",
       "          learning_rate=1.0, n_estimators=50, random_state=None)"
      ]
     },
     "execution_count": 93,
     "metadata": {},
     "output_type": "execute_result"
    }
   ],
   "source": [
    "adaboost_classifier.fit(X_train, y_train)"
   ]
  },
  {
   "cell_type": "code",
   "execution_count": 94,
   "metadata": {},
   "outputs": [],
   "source": [
    "y_adaboostpred = adaboost_classifier.predict(X_test) "
   ]
  },
  {
   "cell_type": "code",
   "execution_count": 95,
   "metadata": {},
   "outputs": [
    {
     "name": "stdout",
     "output_type": "stream",
     "text": [
      "0.7475\n"
     ]
    }
   ],
   "source": [
    "print(metrics.accuracy_score(y_test, y_adaboostpred))\n",
    "ada_cm = metrics.confusion_matrix(y_test, y_adaboostpred)"
   ]
  },
  {
   "cell_type": "code",
   "execution_count": 96,
   "metadata": {},
   "outputs": [
    {
     "data": {
      "image/png": "[encoded data removed]",
      "text/plain": [
       "<Figure size 432x288 with 2 Axes>"
      ]
     },
     "metadata": {
      "needs_background": "light"
     },
     "output_type": "display_data"
    }
   ],
   "source": [
    "plot_confusion(ada_cm,y_adaboostpred, 'Adaboost Confusion')"
   ]
  },
  {
   "cell_type": "code",
   "execution_count": 97,
   "metadata": {},
   "outputs": [
    {
     "name": "stdout",
     "output_type": "stream",
     "text": [
      "Ein: 0.21062499999999995\n",
      "Eout: 0.25249999999999995\n"
     ]
    }
   ],
   "source": [
    "Ein = 1 - adaboost_classifier.score(X_train, y_train)\n",
    "print(\"Ein:\", Ein)\n",
    "\n",
    "Eout = 1 - adaboost_classifier.score(X_test, y_test)\n",
    "print(\"Eout:\", Eout)"
   ]
  },
  {
   "cell_type": "markdown",
   "metadata": {},
   "source": [
    "# Task 5 Comment"
   ]
  },
  {
   "cell_type": "markdown",
   "metadata": {},
   "source": [
    "* Applying logistic regression lead to both scores being in parallel with no major difference in Training score and CV Score as they seemed to be tightly coupled.\n",
    "* The same can be siad also for GaussianNB, LinearSVC, SVC.\n",
    "* In comparision with more complex algorithms such as KNN and Adaboost(ensemble) there is a more of a difference in Ein and Eout\n",
    "* The more complex algorithms require more training samples to allow to reach convergence where with simplier models convergence is reached quicker due to less complexity.\n",
    "* With KNN Eout being at least less than ~10% behind Training score at staying at ~80% and Adaboost leads to converge at 700 samples with Training score starting at .9 and CV Score starting at .7 and reaching final convergence at ~77%.\n",
    "* These gap that is displayed in the last two graphs shows that more samples in order to bring it to a better convergence\n"
   ]
  },
  {
   "cell_type": "markdown",
   "metadata": {},
   "source": [
    "* [1] [Outliner Detection] (http://colingorrie.github.io/outlier-detection.html)\n",
    "* [2] [Feature Engineering] (https://jakevdp.github.io/PythonDataScienceHandbook/05.04-feature-engineering.html)\n",
    "* [3] [Learning Curve] (https://scikit-learn.org/stable/modules/generated/sklearn.model_selection.learning_curve.html)\n",
    "* [4] [Learning Curve Plotting] (https://scikit-learn.org/stable/auto_examples/model_selection/plot_learning_curve.html#sphx-glr-auto-examples-model-selection-plot-learning-curve-py)\n",
    "* [5] [Art of Feature Engineering for Data Science - Nabeel Sarwar] (https://www.youtube.com/watch?v=leTyvBPhYzw)\n",
    "* [6] [Feature Engineering with H2O - Dmitry Larko, Senior Data Scientist, H2O.ai] [https://www.youtube.com/watch?v=irkV4sYExX4]\n",
    "* [7] [Power Transforms] [https://machinelearningmastery.com/power-transform-time-series-forecast-data-python/]\n",
    "* [8] [Harvard References] [Herzallah, W., Faris, H. and Adwan, O. (2018) ‘Feature engineering for detecting spammers on Twitter: Modelling and analysis’, Journal of Information Science, 44(2), pp. 230–247. doi: 10.1177/0165551516684296.]"
   ]
  }
 ],
 "metadata": {
  "kernelspec": {
   "display_name": "Python 3",
   "language": "python",
   "name": "python3"
  },
  "language_info": {
   "codemirror_mode": {
    "name": "ipython",
    "version": 3
   },
   "file_extension": ".py",
   "mimetype": "text/x-python",
   "name": "python",
   "nbconvert_exporter": "python",
   "pygments_lexer": "ipython3",
   "version": "3.7.1"
  }
 },
 "nbformat": 4,
 "nbformat_minor": 2
}
