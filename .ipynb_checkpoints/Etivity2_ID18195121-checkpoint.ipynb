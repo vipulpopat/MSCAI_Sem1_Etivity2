{
 "cells": [
  {
   "cell_type": "markdown",
   "metadata": {},
   "source": [
    "Student Name: **Vipul Popat**\n",
    "Student ID : **18195121**"
   ]
  },
  {
   "cell_type": "code",
   "execution_count": 1,
   "metadata": {},
   "outputs": [],
   "source": [
    "import matplotlib.pyplot as plt\n",
    "import numpy as np\n",
    "from sklearn.datasets import make_moons\n",
    "from sklearn.linear_model import LogisticRegression\n",
    "from sklearn import preprocessing\n",
    "from sklearn.utils import shuffle\n",
    "import math\n",
    "from sklearn.datasets.samples_generator import make_blobs\n",
    "from sklearn.model_selection import train_test_split\n",
    "import pandas as pd\n",
    "\n",
    "import seaborn as sns"
   ]
  },
  {
   "cell_type": "code",
   "execution_count": 2,
   "metadata": {},
   "outputs": [],
   "source": [
    "df = pd.read_csv(\"bank_et2.csv\",index_col=['Unnamed: 0'])"
   ]
  },
  {
   "cell_type": "code",
   "execution_count": 3,
   "metadata": {},
   "outputs": [
    {
     "data": {
      "text/html": [
       "<div>\n",
       "<style scoped>\n",
       "    .dataframe tbody tr th:only-of-type {\n",
       "        vertical-align: middle;\n",
       "    }\n",
       "\n",
       "    .dataframe tbody tr th {\n",
       "        vertical-align: top;\n",
       "    }\n",
       "\n",
       "    .dataframe thead th {\n",
       "        text-align: right;\n",
       "    }\n",
       "</style>\n",
       "<table border=\"1\" class=\"dataframe\">\n",
       "  <thead>\n",
       "    <tr style=\"text-align: right;\">\n",
       "      <th></th>\n",
       "      <th>age</th>\n",
       "      <th>job</th>\n",
       "      <th>marital</th>\n",
       "      <th>education</th>\n",
       "      <th>default</th>\n",
       "      <th>balance</th>\n",
       "      <th>ratio_bal_ln</th>\n",
       "      <th>ratio_ln_inc</th>\n",
       "      <th>housing</th>\n",
       "      <th>loan</th>\n",
       "      <th>contact</th>\n",
       "      <th>day</th>\n",
       "      <th>month</th>\n",
       "      <th>duration</th>\n",
       "      <th>campaign</th>\n",
       "      <th>pdays</th>\n",
       "      <th>previous</th>\n",
       "      <th>poutcome</th>\n",
       "      <th>subscribed</th>\n",
       "    </tr>\n",
       "  </thead>\n",
       "  <tbody>\n",
       "    <tr>\n",
       "      <th>0</th>\n",
       "      <td>32.0</td>\n",
       "      <td>technician</td>\n",
       "      <td>single</td>\n",
       "      <td>tertiary</td>\n",
       "      <td>no</td>\n",
       "      <td>392</td>\n",
       "      <td>1.300134</td>\n",
       "      <td>0.473895</td>\n",
       "      <td>yes</td>\n",
       "      <td>no</td>\n",
       "      <td>cellular</td>\n",
       "      <td>1</td>\n",
       "      <td>apr</td>\n",
       "      <td>957</td>\n",
       "      <td>2</td>\n",
       "      <td>131</td>\n",
       "      <td>2</td>\n",
       "      <td>failure</td>\n",
       "      <td>no</td>\n",
       "    </tr>\n",
       "    <tr>\n",
       "      <th>1</th>\n",
       "      <td>39.0</td>\n",
       "      <td>technician</td>\n",
       "      <td>divorced</td>\n",
       "      <td>secondary</td>\n",
       "      <td>no</td>\n",
       "      <td>688</td>\n",
       "      <td>-0.193701</td>\n",
       "      <td>0.237021</td>\n",
       "      <td>yes</td>\n",
       "      <td>yes</td>\n",
       "      <td>cellular</td>\n",
       "      <td>1</td>\n",
       "      <td>apr</td>\n",
       "      <td>233</td>\n",
       "      <td>2</td>\n",
       "      <td>133</td>\n",
       "      <td>1</td>\n",
       "      <td>failure</td>\n",
       "      <td>no</td>\n",
       "    </tr>\n",
       "    <tr>\n",
       "      <th>2</th>\n",
       "      <td>59.0</td>\n",
       "      <td>retired</td>\n",
       "      <td>married</td>\n",
       "      <td>secondary</td>\n",
       "      <td>no</td>\n",
       "      <td>1035</td>\n",
       "      <td>1.334266</td>\n",
       "      <td>0.121981</td>\n",
       "      <td>yes</td>\n",
       "      <td>yes</td>\n",
       "      <td>cellular</td>\n",
       "      <td>1</td>\n",
       "      <td>apr</td>\n",
       "      <td>126</td>\n",
       "      <td>2</td>\n",
       "      <td>239</td>\n",
       "      <td>1</td>\n",
       "      <td>failure</td>\n",
       "      <td>no</td>\n",
       "    </tr>\n",
       "    <tr>\n",
       "      <th>3</th>\n",
       "      <td>47.0</td>\n",
       "      <td>blue-collar</td>\n",
       "      <td>married</td>\n",
       "      <td>secondary</td>\n",
       "      <td>no</td>\n",
       "      <td>398</td>\n",
       "      <td>0.362286</td>\n",
       "      <td>1.251328</td>\n",
       "      <td>yes</td>\n",
       "      <td>yes</td>\n",
       "      <td>cellular</td>\n",
       "      <td>1</td>\n",
       "      <td>apr</td>\n",
       "      <td>274</td>\n",
       "      <td>1</td>\n",
       "      <td>238</td>\n",
       "      <td>2</td>\n",
       "      <td>failure</td>\n",
       "      <td>no</td>\n",
       "    </tr>\n",
       "    <tr>\n",
       "      <th>4</th>\n",
       "      <td>54.0</td>\n",
       "      <td>retired</td>\n",
       "      <td>married</td>\n",
       "      <td>secondary</td>\n",
       "      <td>no</td>\n",
       "      <td>1004</td>\n",
       "      <td>0.072075</td>\n",
       "      <td>-0.533738</td>\n",
       "      <td>yes</td>\n",
       "      <td>no</td>\n",
       "      <td>cellular</td>\n",
       "      <td>1</td>\n",
       "      <td>apr</td>\n",
       "      <td>479</td>\n",
       "      <td>1</td>\n",
       "      <td>307</td>\n",
       "      <td>1</td>\n",
       "      <td>failure</td>\n",
       "      <td>no</td>\n",
       "    </tr>\n",
       "    <tr>\n",
       "      <th>5</th>\n",
       "      <td>46.0</td>\n",
       "      <td>self-employed</td>\n",
       "      <td>divorced</td>\n",
       "      <td>tertiary</td>\n",
       "      <td>no</td>\n",
       "      <td>926</td>\n",
       "      <td>0.233619</td>\n",
       "      <td>0.922197</td>\n",
       "      <td>yes</td>\n",
       "      <td>no</td>\n",
       "      <td>cellular</td>\n",
       "      <td>1</td>\n",
       "      <td>apr</td>\n",
       "      <td>463</td>\n",
       "      <td>1</td>\n",
       "      <td>133</td>\n",
       "      <td>3</td>\n",
       "      <td>failure</td>\n",
       "      <td>no</td>\n",
       "    </tr>\n",
       "    <tr>\n",
       "      <th>6</th>\n",
       "      <td>34.0</td>\n",
       "      <td>blue-collar</td>\n",
       "      <td>married</td>\n",
       "      <td>secondary</td>\n",
       "      <td>no</td>\n",
       "      <td>1924</td>\n",
       "      <td>0.022648</td>\n",
       "      <td>0.724227</td>\n",
       "      <td>yes</td>\n",
       "      <td>yes</td>\n",
       "      <td>cellular</td>\n",
       "      <td>1</td>\n",
       "      <td>apr</td>\n",
       "      <td>161</td>\n",
       "      <td>2</td>\n",
       "      <td>253</td>\n",
       "      <td>1</td>\n",
       "      <td>failure</td>\n",
       "      <td>no</td>\n",
       "    </tr>\n",
       "    <tr>\n",
       "      <th>7</th>\n",
       "      <td>45.0</td>\n",
       "      <td>services</td>\n",
       "      <td>divorced</td>\n",
       "      <td>secondary</td>\n",
       "      <td>no</td>\n",
       "      <td>396</td>\n",
       "      <td>-0.724889</td>\n",
       "      <td>-0.998605</td>\n",
       "      <td>yes</td>\n",
       "      <td>yes</td>\n",
       "      <td>cellular</td>\n",
       "      <td>1</td>\n",
       "      <td>apr</td>\n",
       "      <td>251</td>\n",
       "      <td>4</td>\n",
       "      <td>329</td>\n",
       "      <td>4</td>\n",
       "      <td>failure</td>\n",
       "      <td>no</td>\n",
       "    </tr>\n",
       "    <tr>\n",
       "      <th>8</th>\n",
       "      <td>58.0</td>\n",
       "      <td>management</td>\n",
       "      <td>divorced</td>\n",
       "      <td>tertiary</td>\n",
       "      <td>no</td>\n",
       "      <td>315</td>\n",
       "      <td>0.502131</td>\n",
       "      <td>-0.045391</td>\n",
       "      <td>yes</td>\n",
       "      <td>no</td>\n",
       "      <td>cellular</td>\n",
       "      <td>1</td>\n",
       "      <td>apr</td>\n",
       "      <td>121</td>\n",
       "      <td>2</td>\n",
       "      <td>135</td>\n",
       "      <td>2</td>\n",
       "      <td>failure</td>\n",
       "      <td>no</td>\n",
       "    </tr>\n",
       "    <tr>\n",
       "      <th>9</th>\n",
       "      <td>49.0</td>\n",
       "      <td>management</td>\n",
       "      <td>divorced</td>\n",
       "      <td>tertiary</td>\n",
       "      <td>no</td>\n",
       "      <td>20727</td>\n",
       "      <td>1.331625</td>\n",
       "      <td>-0.420830</td>\n",
       "      <td>no</td>\n",
       "      <td>no</td>\n",
       "      <td>cellular</td>\n",
       "      <td>1</td>\n",
       "      <td>apr</td>\n",
       "      <td>285</td>\n",
       "      <td>3</td>\n",
       "      <td>132</td>\n",
       "      <td>2</td>\n",
       "      <td>failure</td>\n",
       "      <td>no</td>\n",
       "    </tr>\n",
       "  </tbody>\n",
       "</table>\n",
       "</div>"
      ],
      "text/plain": [
       "    age            job   marital  education default  balance  ratio_bal_ln  \\\n",
       "0  32.0     technician    single   tertiary      no      392      1.300134   \n",
       "1  39.0     technician  divorced  secondary      no      688     -0.193701   \n",
       "2  59.0        retired   married  secondary      no     1035      1.334266   \n",
       "3  47.0    blue-collar   married  secondary      no      398      0.362286   \n",
       "4  54.0        retired   married  secondary      no     1004      0.072075   \n",
       "5  46.0  self-employed  divorced   tertiary      no      926      0.233619   \n",
       "6  34.0    blue-collar   married  secondary      no     1924      0.022648   \n",
       "7  45.0       services  divorced  secondary      no      396     -0.724889   \n",
       "8  58.0     management  divorced   tertiary      no      315      0.502131   \n",
       "9  49.0     management  divorced   tertiary      no    20727      1.331625   \n",
       "\n",
       "   ratio_ln_inc housing loan   contact  day month  duration  campaign  pdays  \\\n",
       "0      0.473895     yes   no  cellular    1   apr       957         2    131   \n",
       "1      0.237021     yes  yes  cellular    1   apr       233         2    133   \n",
       "2      0.121981     yes  yes  cellular    1   apr       126         2    239   \n",
       "3      1.251328     yes  yes  cellular    1   apr       274         1    238   \n",
       "4     -0.533738     yes   no  cellular    1   apr       479         1    307   \n",
       "5      0.922197     yes   no  cellular    1   apr       463         1    133   \n",
       "6      0.724227     yes  yes  cellular    1   apr       161         2    253   \n",
       "7     -0.998605     yes  yes  cellular    1   apr       251         4    329   \n",
       "8     -0.045391     yes   no  cellular    1   apr       121         2    135   \n",
       "9     -0.420830      no   no  cellular    1   apr       285         3    132   \n",
       "\n",
       "   previous poutcome subscribed  \n",
       "0         2  failure         no  \n",
       "1         1  failure         no  \n",
       "2         1  failure         no  \n",
       "3         2  failure         no  \n",
       "4         1  failure         no  \n",
       "5         3  failure         no  \n",
       "6         1  failure         no  \n",
       "7         4  failure         no  \n",
       "8         2  failure         no  \n",
       "9         2  failure         no  "
      ]
     },
     "execution_count": 3,
     "metadata": {},
     "output_type": "execute_result"
    }
   ],
   "source": [
    "df.head(10)"
   ]
  },
  {
   "cell_type": "code",
   "execution_count": 4,
   "metadata": {},
   "outputs": [
    {
     "data": {
      "text/html": [
       "<div>\n",
       "<style scoped>\n",
       "    .dataframe tbody tr th:only-of-type {\n",
       "        vertical-align: middle;\n",
       "    }\n",
       "\n",
       "    .dataframe tbody tr th {\n",
       "        vertical-align: top;\n",
       "    }\n",
       "\n",
       "    .dataframe thead th {\n",
       "        text-align: right;\n",
       "    }\n",
       "</style>\n",
       "<table border=\"1\" class=\"dataframe\">\n",
       "  <thead>\n",
       "    <tr style=\"text-align: right;\">\n",
       "      <th></th>\n",
       "      <th>age</th>\n",
       "      <th>job</th>\n",
       "      <th>marital</th>\n",
       "      <th>education</th>\n",
       "      <th>default</th>\n",
       "      <th>balance</th>\n",
       "      <th>ratio_bal_ln</th>\n",
       "      <th>ratio_ln_inc</th>\n",
       "      <th>housing</th>\n",
       "      <th>loan</th>\n",
       "      <th>contact</th>\n",
       "      <th>day</th>\n",
       "      <th>month</th>\n",
       "      <th>duration</th>\n",
       "      <th>campaign</th>\n",
       "      <th>pdays</th>\n",
       "      <th>previous</th>\n",
       "      <th>poutcome</th>\n",
       "      <th>subscribed</th>\n",
       "    </tr>\n",
       "  </thead>\n",
       "  <tbody>\n",
       "    <tr>\n",
       "      <th>1990</th>\n",
       "      <td>36.0</td>\n",
       "      <td>technician</td>\n",
       "      <td>married</td>\n",
       "      <td>tertiary</td>\n",
       "      <td>no</td>\n",
       "      <td>376</td>\n",
       "      <td>-0.064640</td>\n",
       "      <td>-0.001414</td>\n",
       "      <td>no</td>\n",
       "      <td>no</td>\n",
       "      <td>cellular</td>\n",
       "      <td>16</td>\n",
       "      <td>sep</td>\n",
       "      <td>173</td>\n",
       "      <td>1</td>\n",
       "      <td>-1</td>\n",
       "      <td>0</td>\n",
       "      <td>NaN</td>\n",
       "      <td>yes</td>\n",
       "    </tr>\n",
       "    <tr>\n",
       "      <th>1991</th>\n",
       "      <td>39.0</td>\n",
       "      <td>admin.</td>\n",
       "      <td>divorced</td>\n",
       "      <td>secondary</td>\n",
       "      <td>no</td>\n",
       "      <td>112</td>\n",
       "      <td>-0.921793</td>\n",
       "      <td>0.819346</td>\n",
       "      <td>no</td>\n",
       "      <td>no</td>\n",
       "      <td>cellular</td>\n",
       "      <td>16</td>\n",
       "      <td>sep</td>\n",
       "      <td>574</td>\n",
       "      <td>3</td>\n",
       "      <td>-1</td>\n",
       "      <td>0</td>\n",
       "      <td>NaN</td>\n",
       "      <td>yes</td>\n",
       "    </tr>\n",
       "    <tr>\n",
       "      <th>1992</th>\n",
       "      <td>78.0</td>\n",
       "      <td>retired</td>\n",
       "      <td>divorced</td>\n",
       "      <td>primary</td>\n",
       "      <td>no</td>\n",
       "      <td>527</td>\n",
       "      <td>-0.611713</td>\n",
       "      <td>2.519517</td>\n",
       "      <td>no</td>\n",
       "      <td>no</td>\n",
       "      <td>cellular</td>\n",
       "      <td>16</td>\n",
       "      <td>sep</td>\n",
       "      <td>193</td>\n",
       "      <td>1</td>\n",
       "      <td>-1</td>\n",
       "      <td>0</td>\n",
       "      <td>NaN</td>\n",
       "      <td>yes</td>\n",
       "    </tr>\n",
       "    <tr>\n",
       "      <th>1993</th>\n",
       "      <td>35.0</td>\n",
       "      <td>management</td>\n",
       "      <td>married</td>\n",
       "      <td>NaN</td>\n",
       "      <td>no</td>\n",
       "      <td>2326</td>\n",
       "      <td>-0.624331</td>\n",
       "      <td>0.273081</td>\n",
       "      <td>yes</td>\n",
       "      <td>yes</td>\n",
       "      <td>cellular</td>\n",
       "      <td>16</td>\n",
       "      <td>sep</td>\n",
       "      <td>319</td>\n",
       "      <td>1</td>\n",
       "      <td>-1</td>\n",
       "      <td>0</td>\n",
       "      <td>NaN</td>\n",
       "      <td>yes</td>\n",
       "    </tr>\n",
       "    <tr>\n",
       "      <th>1994</th>\n",
       "      <td>26.0</td>\n",
       "      <td>student</td>\n",
       "      <td>single</td>\n",
       "      <td>secondary</td>\n",
       "      <td>no</td>\n",
       "      <td>655</td>\n",
       "      <td>-0.249693</td>\n",
       "      <td>1.152874</td>\n",
       "      <td>no</td>\n",
       "      <td>no</td>\n",
       "      <td>cellular</td>\n",
       "      <td>16</td>\n",
       "      <td>sep</td>\n",
       "      <td>190</td>\n",
       "      <td>1</td>\n",
       "      <td>-1</td>\n",
       "      <td>0</td>\n",
       "      <td>NaN</td>\n",
       "      <td>yes</td>\n",
       "    </tr>\n",
       "    <tr>\n",
       "      <th>1995</th>\n",
       "      <td>20.0</td>\n",
       "      <td>student</td>\n",
       "      <td>single</td>\n",
       "      <td>NaN</td>\n",
       "      <td>no</td>\n",
       "      <td>2785</td>\n",
       "      <td>-2.170524</td>\n",
       "      <td>1.081071</td>\n",
       "      <td>no</td>\n",
       "      <td>no</td>\n",
       "      <td>cellular</td>\n",
       "      <td>16</td>\n",
       "      <td>sep</td>\n",
       "      <td>327</td>\n",
       "      <td>2</td>\n",
       "      <td>-1</td>\n",
       "      <td>0</td>\n",
       "      <td>NaN</td>\n",
       "      <td>yes</td>\n",
       "    </tr>\n",
       "    <tr>\n",
       "      <th>1996</th>\n",
       "      <td>28.0</td>\n",
       "      <td>admin.</td>\n",
       "      <td>single</td>\n",
       "      <td>secondary</td>\n",
       "      <td>no</td>\n",
       "      <td>127</td>\n",
       "      <td>0.811788</td>\n",
       "      <td>1.134496</td>\n",
       "      <td>no</td>\n",
       "      <td>no</td>\n",
       "      <td>cellular</td>\n",
       "      <td>16</td>\n",
       "      <td>sep</td>\n",
       "      <td>1334</td>\n",
       "      <td>2</td>\n",
       "      <td>-1</td>\n",
       "      <td>0</td>\n",
       "      <td>NaN</td>\n",
       "      <td>yes</td>\n",
       "    </tr>\n",
       "    <tr>\n",
       "      <th>1997</th>\n",
       "      <td>81.0</td>\n",
       "      <td>retired</td>\n",
       "      <td>married</td>\n",
       "      <td>primary</td>\n",
       "      <td>no</td>\n",
       "      <td>1154</td>\n",
       "      <td>0.504655</td>\n",
       "      <td>0.042190</td>\n",
       "      <td>no</td>\n",
       "      <td>no</td>\n",
       "      <td>telephone</td>\n",
       "      <td>17</td>\n",
       "      <td>sep</td>\n",
       "      <td>231</td>\n",
       "      <td>1</td>\n",
       "      <td>-1</td>\n",
       "      <td>0</td>\n",
       "      <td>NaN</td>\n",
       "      <td>yes</td>\n",
       "    </tr>\n",
       "    <tr>\n",
       "      <th>1998</th>\n",
       "      <td>46.0</td>\n",
       "      <td>services</td>\n",
       "      <td>married</td>\n",
       "      <td>primary</td>\n",
       "      <td>no</td>\n",
       "      <td>4343</td>\n",
       "      <td>-0.965874</td>\n",
       "      <td>0.302708</td>\n",
       "      <td>yes</td>\n",
       "      <td>no</td>\n",
       "      <td>NaN</td>\n",
       "      <td>20</td>\n",
       "      <td>sep</td>\n",
       "      <td>185</td>\n",
       "      <td>1</td>\n",
       "      <td>-1</td>\n",
       "      <td>0</td>\n",
       "      <td>NaN</td>\n",
       "      <td>yes</td>\n",
       "    </tr>\n",
       "    <tr>\n",
       "      <th>1999</th>\n",
       "      <td>40.0</td>\n",
       "      <td>entrepreneur</td>\n",
       "      <td>married</td>\n",
       "      <td>secondary</td>\n",
       "      <td>no</td>\n",
       "      <td>6403</td>\n",
       "      <td>-0.800893</td>\n",
       "      <td>1.066659</td>\n",
       "      <td>no</td>\n",
       "      <td>no</td>\n",
       "      <td>cellular</td>\n",
       "      <td>22</td>\n",
       "      <td>sep</td>\n",
       "      <td>208</td>\n",
       "      <td>2</td>\n",
       "      <td>-1</td>\n",
       "      <td>0</td>\n",
       "      <td>NaN</td>\n",
       "      <td>yes</td>\n",
       "    </tr>\n",
       "  </tbody>\n",
       "</table>\n",
       "</div>"
      ],
      "text/plain": [
       "       age           job   marital  education default  balance  ratio_bal_ln  \\\n",
       "1990  36.0    technician   married   tertiary      no      376     -0.064640   \n",
       "1991  39.0        admin.  divorced  secondary      no      112     -0.921793   \n",
       "1992  78.0       retired  divorced    primary      no      527     -0.611713   \n",
       "1993  35.0    management   married        NaN      no     2326     -0.624331   \n",
       "1994  26.0       student    single  secondary      no      655     -0.249693   \n",
       "1995  20.0       student    single        NaN      no     2785     -2.170524   \n",
       "1996  28.0        admin.    single  secondary      no      127      0.811788   \n",
       "1997  81.0       retired   married    primary      no     1154      0.504655   \n",
       "1998  46.0      services   married    primary      no     4343     -0.965874   \n",
       "1999  40.0  entrepreneur   married  secondary      no     6403     -0.800893   \n",
       "\n",
       "      ratio_ln_inc housing loan    contact  day month  duration  campaign  \\\n",
       "1990     -0.001414      no   no   cellular   16   sep       173         1   \n",
       "1991      0.819346      no   no   cellular   16   sep       574         3   \n",
       "1992      2.519517      no   no   cellular   16   sep       193         1   \n",
       "1993      0.273081     yes  yes   cellular   16   sep       319         1   \n",
       "1994      1.152874      no   no   cellular   16   sep       190         1   \n",
       "1995      1.081071      no   no   cellular   16   sep       327         2   \n",
       "1996      1.134496      no   no   cellular   16   sep      1334         2   \n",
       "1997      0.042190      no   no  telephone   17   sep       231         1   \n",
       "1998      0.302708     yes   no        NaN   20   sep       185         1   \n",
       "1999      1.066659      no   no   cellular   22   sep       208         2   \n",
       "\n",
       "      pdays  previous poutcome subscribed  \n",
       "1990     -1         0      NaN        yes  \n",
       "1991     -1         0      NaN        yes  \n",
       "1992     -1         0      NaN        yes  \n",
       "1993     -1         0      NaN        yes  \n",
       "1994     -1         0      NaN        yes  \n",
       "1995     -1         0      NaN        yes  \n",
       "1996     -1         0      NaN        yes  \n",
       "1997     -1         0      NaN        yes  \n",
       "1998     -1         0      NaN        yes  \n",
       "1999     -1         0      NaN        yes  "
      ]
     },
     "execution_count": 4,
     "metadata": {},
     "output_type": "execute_result"
    }
   ],
   "source": [
    "df.tail(10)"
   ]
  },
  {
   "cell_type": "code",
   "execution_count": 5,
   "metadata": {},
   "outputs": [
    {
     "data": {
      "text/html": [
       "<div>\n",
       "<style scoped>\n",
       "    .dataframe tbody tr th:only-of-type {\n",
       "        vertical-align: middle;\n",
       "    }\n",
       "\n",
       "    .dataframe tbody tr th {\n",
       "        vertical-align: top;\n",
       "    }\n",
       "\n",
       "    .dataframe thead th {\n",
       "        text-align: right;\n",
       "    }\n",
       "</style>\n",
       "<table border=\"1\" class=\"dataframe\">\n",
       "  <thead>\n",
       "    <tr style=\"text-align: right;\">\n",
       "      <th></th>\n",
       "      <th>age</th>\n",
       "      <th>balance</th>\n",
       "      <th>ratio_bal_ln</th>\n",
       "      <th>ratio_ln_inc</th>\n",
       "      <th>day</th>\n",
       "      <th>duration</th>\n",
       "      <th>campaign</th>\n",
       "      <th>pdays</th>\n",
       "      <th>previous</th>\n",
       "    </tr>\n",
       "  </thead>\n",
       "  <tbody>\n",
       "    <tr>\n",
       "      <th>count</th>\n",
       "      <td>1988.000000</td>\n",
       "      <td>2000.000000</td>\n",
       "      <td>2000.000000</td>\n",
       "      <td>2000.000000</td>\n",
       "      <td>2000.000000</td>\n",
       "      <td>2000.000000</td>\n",
       "      <td>2000.000000</td>\n",
       "      <td>2000.000000</td>\n",
       "      <td>2000.000000</td>\n",
       "    </tr>\n",
       "    <tr>\n",
       "      <th>mean</th>\n",
       "      <td>41.753018</td>\n",
       "      <td>1413.663500</td>\n",
       "      <td>0.241951</td>\n",
       "      <td>0.485030</td>\n",
       "      <td>13.851500</td>\n",
       "      <td>292.020500</td>\n",
       "      <td>1.909500</td>\n",
       "      <td>167.896000</td>\n",
       "      <td>2.561500</td>\n",
       "    </tr>\n",
       "    <tr>\n",
       "      <th>std</th>\n",
       "      <td>12.724358</td>\n",
       "      <td>3131.224213</td>\n",
       "      <td>0.821604</td>\n",
       "      <td>1.075543</td>\n",
       "      <td>9.712189</td>\n",
       "      <td>221.557295</td>\n",
       "      <td>1.378862</td>\n",
       "      <td>131.754126</td>\n",
       "      <td>3.400735</td>\n",
       "    </tr>\n",
       "    <tr>\n",
       "      <th>min</th>\n",
       "      <td>18.000000</td>\n",
       "      <td>-980.000000</td>\n",
       "      <td>-2.632068</td>\n",
       "      <td>-2.851405</td>\n",
       "      <td>1.000000</td>\n",
       "      <td>7.000000</td>\n",
       "      <td>1.000000</td>\n",
       "      <td>-1.000000</td>\n",
       "      <td>0.000000</td>\n",
       "    </tr>\n",
       "    <tr>\n",
       "      <th>25%</th>\n",
       "      <td>32.000000</td>\n",
       "      <td>201.500000</td>\n",
       "      <td>-0.308018</td>\n",
       "      <td>-0.274181</td>\n",
       "      <td>5.000000</td>\n",
       "      <td>146.000000</td>\n",
       "      <td>1.000000</td>\n",
       "      <td>75.750000</td>\n",
       "      <td>1.000000</td>\n",
       "    </tr>\n",
       "    <tr>\n",
       "      <th>50%</th>\n",
       "      <td>38.000000</td>\n",
       "      <td>551.000000</td>\n",
       "      <td>0.224099</td>\n",
       "      <td>0.487082</td>\n",
       "      <td>12.000000</td>\n",
       "      <td>236.000000</td>\n",
       "      <td>1.000000</td>\n",
       "      <td>182.000000</td>\n",
       "      <td>2.000000</td>\n",
       "    </tr>\n",
       "    <tr>\n",
       "      <th>75%</th>\n",
       "      <td>50.000000</td>\n",
       "      <td>1644.500000</td>\n",
       "      <td>0.806315</td>\n",
       "      <td>1.211896</td>\n",
       "      <td>23.000000</td>\n",
       "      <td>379.000000</td>\n",
       "      <td>2.000000</td>\n",
       "      <td>251.000000</td>\n",
       "      <td>3.000000</td>\n",
       "    </tr>\n",
       "    <tr>\n",
       "      <th>max</th>\n",
       "      <td>93.000000</td>\n",
       "      <td>81204.000000</td>\n",
       "      <td>2.961979</td>\n",
       "      <td>4.046914</td>\n",
       "      <td>31.000000</td>\n",
       "      <td>1823.000000</td>\n",
       "      <td>11.000000</td>\n",
       "      <td>854.000000</td>\n",
       "      <td>55.000000</td>\n",
       "    </tr>\n",
       "  </tbody>\n",
       "</table>\n",
       "</div>"
      ],
      "text/plain": [
       "               age       balance  ratio_bal_ln  ratio_ln_inc          day  \\\n",
       "count  1988.000000   2000.000000   2000.000000   2000.000000  2000.000000   \n",
       "mean     41.753018   1413.663500      0.241951      0.485030    13.851500   \n",
       "std      12.724358   3131.224213      0.821604      1.075543     9.712189   \n",
       "min      18.000000   -980.000000     -2.632068     -2.851405     1.000000   \n",
       "25%      32.000000    201.500000     -0.308018     -0.274181     5.000000   \n",
       "50%      38.000000    551.000000      0.224099      0.487082    12.000000   \n",
       "75%      50.000000   1644.500000      0.806315      1.211896    23.000000   \n",
       "max      93.000000  81204.000000      2.961979      4.046914    31.000000   \n",
       "\n",
       "          duration     campaign        pdays     previous  \n",
       "count  2000.000000  2000.000000  2000.000000  2000.000000  \n",
       "mean    292.020500     1.909500   167.896000     2.561500  \n",
       "std     221.557295     1.378862   131.754126     3.400735  \n",
       "min       7.000000     1.000000    -1.000000     0.000000  \n",
       "25%     146.000000     1.000000    75.750000     1.000000  \n",
       "50%     236.000000     1.000000   182.000000     2.000000  \n",
       "75%     379.000000     2.000000   251.000000     3.000000  \n",
       "max    1823.000000    11.000000   854.000000    55.000000  "
      ]
     },
     "execution_count": 5,
     "metadata": {},
     "output_type": "execute_result"
    }
   ],
   "source": [
    "df.describe()"
   ]
  },
  {
   "cell_type": "code",
   "execution_count": 6,
   "metadata": {},
   "outputs": [
    {
     "data": {
      "text/plain": [
       "age               68\n",
       "job               11\n",
       "marital            3\n",
       "education          3\n",
       "default            2\n",
       "balance         1274\n",
       "ratio_bal_ln    2000\n",
       "ratio_ln_inc    2000\n",
       "housing            2\n",
       "loan               2\n",
       "contact            2\n",
       "day               31\n",
       "month             12\n",
       "duration         655\n",
       "campaign          11\n",
       "pdays            363\n",
       "previous          26\n",
       "poutcome           3\n",
       "subscribed         2\n",
       "dtype: int64"
      ]
     },
     "execution_count": 6,
     "metadata": {},
     "output_type": "execute_result"
    }
   ],
   "source": [
    "nunique = df.nunique()\n",
    "nunique"
   ]
  },
  {
   "cell_type": "code",
   "execution_count": 7,
   "metadata": {},
   "outputs": [
    {
     "data": {
      "text/plain": [
       "age              12\n",
       "job              10\n",
       "marital           0\n",
       "education       104\n",
       "default           0\n",
       "balance           0\n",
       "ratio_bal_ln      0\n",
       "ratio_ln_inc      0\n",
       "housing           0\n",
       "loan              0\n",
       "contact         191\n",
       "day               0\n",
       "month             0\n",
       "duration          0\n",
       "campaign          0\n",
       "pdays             0\n",
       "previous          0\n",
       "poutcome        454\n",
       "subscribed        0\n",
       "dtype: int64"
      ]
     },
     "execution_count": 7,
     "metadata": {},
     "output_type": "execute_result"
    }
   ],
   "source": [
    "nulldf = df.isnull().sum() #Check for null values in field\n",
    "nulldf"
   ]
  },
  {
   "cell_type": "code",
   "execution_count": 8,
   "metadata": {},
   "outputs": [],
   "source": [
    "# Looking at categorical values\n",
    "def cat_exploration(column):\n",
    "    return df[column].value_counts()\n",
    "\n",
    "# Imputing the missing values\n",
    "def cat_imputation(column, value):\n",
    "    df.loc[df[column].isnull(),column] = value"
   ]
  },
  {
   "cell_type": "code",
   "execution_count": 9,
   "metadata": {},
   "outputs": [
    {
     "data": {
      "text/plain": [
       "management       461\n",
       "technician       348\n",
       "blue-collar      298\n",
       "admin.           247\n",
       "services         165\n",
       "retired          162\n",
       "student           96\n",
       "unemployed        69\n",
       "self-employed     64\n",
       "entrepreneur      45\n",
       "housemaid         35\n",
       "Name: job, dtype: int64"
      ]
     },
     "execution_count": 9,
     "metadata": {},
     "output_type": "execute_result"
    }
   ],
   "source": [
    "cat_exploration('job')"
   ]
  },
  {
   "cell_type": "code",
   "execution_count": 10,
   "metadata": {},
   "outputs": [],
   "source": [
    "cat_imputation('job', 'not-working')"
   ]
  },
  {
   "cell_type": "code",
   "execution_count": 11,
   "metadata": {},
   "outputs": [
    {
     "name": "stdout",
     "output_type": "stream",
     "text": [
      "job       admin.  blue-collar  entrepreneur  housemaid  management  \\\n",
      "marital                                                              \n",
      "divorced    40.0         42.0          47.5       55.0        45.0   \n",
      "married     42.5         40.0          45.0       49.0        41.0   \n",
      "single      33.0         32.0          34.5       34.5        32.0   \n",
      "\n",
      "job       not-working  retired  self-employed  services  student  technician  \\\n",
      "marital                                                                        \n",
      "divorced          NaN     67.0           46.0      47.0     38.0        42.0   \n",
      "married          52.0     67.0           46.0      37.0     33.0        43.5   \n",
      "single           41.5     60.5           29.0      32.0     25.0        33.0   \n",
      "\n",
      "job       unemployed  \n",
      "marital               \n",
      "divorced        40.0  \n",
      "married         43.0  \n",
      "single          32.0  \n"
     ]
    }
   ],
   "source": [
    "table = df.pivot_table(values='age', \n",
    "                       index='marital', \n",
    "                       columns='job', \n",
    "                       aggfunc=np.median)\n",
    "print(table)"
   ]
  },
  {
   "cell_type": "code",
   "execution_count": 12,
   "metadata": {},
   "outputs": [
    {
     "data": {
      "text/html": [
       "<div>\n",
       "<style scoped>\n",
       "    .dataframe tbody tr th:only-of-type {\n",
       "        vertical-align: middle;\n",
       "    }\n",
       "\n",
       "    .dataframe tbody tr th {\n",
       "        vertical-align: top;\n",
       "    }\n",
       "\n",
       "    .dataframe thead th {\n",
       "        text-align: right;\n",
       "    }\n",
       "</style>\n",
       "<table border=\"1\" class=\"dataframe\">\n",
       "  <thead>\n",
       "    <tr style=\"text-align: right;\">\n",
       "      <th></th>\n",
       "      <th>age</th>\n",
       "      <th>job</th>\n",
       "      <th>marital</th>\n",
       "      <th>education</th>\n",
       "      <th>default</th>\n",
       "      <th>balance</th>\n",
       "      <th>ratio_bal_ln</th>\n",
       "      <th>ratio_ln_inc</th>\n",
       "      <th>housing</th>\n",
       "      <th>loan</th>\n",
       "      <th>contact</th>\n",
       "      <th>day</th>\n",
       "      <th>month</th>\n",
       "      <th>duration</th>\n",
       "      <th>campaign</th>\n",
       "      <th>pdays</th>\n",
       "      <th>previous</th>\n",
       "      <th>poutcome</th>\n",
       "      <th>subscribed</th>\n",
       "    </tr>\n",
       "  </thead>\n",
       "  <tbody>\n",
       "    <tr>\n",
       "      <th>456</th>\n",
       "      <td>NaN</td>\n",
       "      <td>self-employed</td>\n",
       "      <td>married</td>\n",
       "      <td>tertiary</td>\n",
       "      <td>no</td>\n",
       "      <td>917</td>\n",
       "      <td>0.311161</td>\n",
       "      <td>-0.818688</td>\n",
       "      <td>no</td>\n",
       "      <td>no</td>\n",
       "      <td>cellular</td>\n",
       "      <td>6</td>\n",
       "      <td>feb</td>\n",
       "      <td>518</td>\n",
       "      <td>3</td>\n",
       "      <td>212</td>\n",
       "      <td>5</td>\n",
       "      <td>failure</td>\n",
       "      <td>no</td>\n",
       "    </tr>\n",
       "    <tr>\n",
       "      <th>472</th>\n",
       "      <td>NaN</td>\n",
       "      <td>blue-collar</td>\n",
       "      <td>married</td>\n",
       "      <td>primary</td>\n",
       "      <td>no</td>\n",
       "      <td>474</td>\n",
       "      <td>0.729179</td>\n",
       "      <td>0.350980</td>\n",
       "      <td>yes</td>\n",
       "      <td>yes</td>\n",
       "      <td>telephone</td>\n",
       "      <td>9</td>\n",
       "      <td>feb</td>\n",
       "      <td>152</td>\n",
       "      <td>3</td>\n",
       "      <td>221</td>\n",
       "      <td>1</td>\n",
       "      <td>failure</td>\n",
       "      <td>no</td>\n",
       "    </tr>\n",
       "    <tr>\n",
       "      <th>526</th>\n",
       "      <td>NaN</td>\n",
       "      <td>services</td>\n",
       "      <td>married</td>\n",
       "      <td>secondary</td>\n",
       "      <td>no</td>\n",
       "      <td>2478</td>\n",
       "      <td>0.469463</td>\n",
       "      <td>0.180632</td>\n",
       "      <td>yes</td>\n",
       "      <td>no</td>\n",
       "      <td>cellular</td>\n",
       "      <td>28</td>\n",
       "      <td>jan</td>\n",
       "      <td>347</td>\n",
       "      <td>1</td>\n",
       "      <td>230</td>\n",
       "      <td>1</td>\n",
       "      <td>failure</td>\n",
       "      <td>no</td>\n",
       "    </tr>\n",
       "    <tr>\n",
       "      <th>595</th>\n",
       "      <td>NaN</td>\n",
       "      <td>management</td>\n",
       "      <td>married</td>\n",
       "      <td>tertiary</td>\n",
       "      <td>no</td>\n",
       "      <td>1857</td>\n",
       "      <td>-0.137751</td>\n",
       "      <td>0.524516</td>\n",
       "      <td>no</td>\n",
       "      <td>no</td>\n",
       "      <td>cellular</td>\n",
       "      <td>29</td>\n",
       "      <td>jan</td>\n",
       "      <td>386</td>\n",
       "      <td>1</td>\n",
       "      <td>168</td>\n",
       "      <td>4</td>\n",
       "      <td>failure</td>\n",
       "      <td>no</td>\n",
       "    </tr>\n",
       "    <tr>\n",
       "      <th>597</th>\n",
       "      <td>NaN</td>\n",
       "      <td>self-employed</td>\n",
       "      <td>married</td>\n",
       "      <td>secondary</td>\n",
       "      <td>yes</td>\n",
       "      <td>254</td>\n",
       "      <td>0.800582</td>\n",
       "      <td>0.370658</td>\n",
       "      <td>yes</td>\n",
       "      <td>yes</td>\n",
       "      <td>cellular</td>\n",
       "      <td>29</td>\n",
       "      <td>jan</td>\n",
       "      <td>194</td>\n",
       "      <td>1</td>\n",
       "      <td>188</td>\n",
       "      <td>1</td>\n",
       "      <td>failure</td>\n",
       "      <td>no</td>\n",
       "    </tr>\n",
       "    <tr>\n",
       "      <th>601</th>\n",
       "      <td>NaN</td>\n",
       "      <td>admin.</td>\n",
       "      <td>single</td>\n",
       "      <td>secondary</td>\n",
       "      <td>no</td>\n",
       "      <td>111</td>\n",
       "      <td>0.269082</td>\n",
       "      <td>0.060002</td>\n",
       "      <td>yes</td>\n",
       "      <td>no</td>\n",
       "      <td>cellular</td>\n",
       "      <td>29</td>\n",
       "      <td>jan</td>\n",
       "      <td>55</td>\n",
       "      <td>1</td>\n",
       "      <td>195</td>\n",
       "      <td>3</td>\n",
       "      <td>failure</td>\n",
       "      <td>no</td>\n",
       "    </tr>\n",
       "    <tr>\n",
       "      <th>605</th>\n",
       "      <td>NaN</td>\n",
       "      <td>management</td>\n",
       "      <td>married</td>\n",
       "      <td>tertiary</td>\n",
       "      <td>no</td>\n",
       "      <td>1330</td>\n",
       "      <td>1.007376</td>\n",
       "      <td>-0.459770</td>\n",
       "      <td>yes</td>\n",
       "      <td>no</td>\n",
       "      <td>cellular</td>\n",
       "      <td>29</td>\n",
       "      <td>jan</td>\n",
       "      <td>41</td>\n",
       "      <td>2</td>\n",
       "      <td>261</td>\n",
       "      <td>1</td>\n",
       "      <td>failure</td>\n",
       "      <td>no</td>\n",
       "    </tr>\n",
       "    <tr>\n",
       "      <th>744</th>\n",
       "      <td>NaN</td>\n",
       "      <td>management</td>\n",
       "      <td>married</td>\n",
       "      <td>tertiary</td>\n",
       "      <td>no</td>\n",
       "      <td>-61</td>\n",
       "      <td>0.638129</td>\n",
       "      <td>-1.001420</td>\n",
       "      <td>no</td>\n",
       "      <td>no</td>\n",
       "      <td>cellular</td>\n",
       "      <td>30</td>\n",
       "      <td>jan</td>\n",
       "      <td>90</td>\n",
       "      <td>5</td>\n",
       "      <td>172</td>\n",
       "      <td>1</td>\n",
       "      <td>failure</td>\n",
       "      <td>no</td>\n",
       "    </tr>\n",
       "    <tr>\n",
       "      <th>795</th>\n",
       "      <td>NaN</td>\n",
       "      <td>technician</td>\n",
       "      <td>single</td>\n",
       "      <td>tertiary</td>\n",
       "      <td>no</td>\n",
       "      <td>992</td>\n",
       "      <td>0.901646</td>\n",
       "      <td>-0.098458</td>\n",
       "      <td>yes</td>\n",
       "      <td>no</td>\n",
       "      <td>cellular</td>\n",
       "      <td>4</td>\n",
       "      <td>may</td>\n",
       "      <td>301</td>\n",
       "      <td>1</td>\n",
       "      <td>88</td>\n",
       "      <td>2</td>\n",
       "      <td>success</td>\n",
       "      <td>no</td>\n",
       "    </tr>\n",
       "    <tr>\n",
       "      <th>1171</th>\n",
       "      <td>NaN</td>\n",
       "      <td>retired</td>\n",
       "      <td>married</td>\n",
       "      <td>tertiary</td>\n",
       "      <td>no</td>\n",
       "      <td>2812</td>\n",
       "      <td>-0.336489</td>\n",
       "      <td>2.210606</td>\n",
       "      <td>no</td>\n",
       "      <td>no</td>\n",
       "      <td>cellular</td>\n",
       "      <td>3</td>\n",
       "      <td>aug</td>\n",
       "      <td>392</td>\n",
       "      <td>4</td>\n",
       "      <td>181</td>\n",
       "      <td>3</td>\n",
       "      <td>success</td>\n",
       "      <td>yes</td>\n",
       "    </tr>\n",
       "    <tr>\n",
       "      <th>1232</th>\n",
       "      <td>NaN</td>\n",
       "      <td>student</td>\n",
       "      <td>single</td>\n",
       "      <td>secondary</td>\n",
       "      <td>no</td>\n",
       "      <td>431</td>\n",
       "      <td>-1.980588</td>\n",
       "      <td>0.402762</td>\n",
       "      <td>no</td>\n",
       "      <td>no</td>\n",
       "      <td>cellular</td>\n",
       "      <td>19</td>\n",
       "      <td>aug</td>\n",
       "      <td>418</td>\n",
       "      <td>11</td>\n",
       "      <td>185</td>\n",
       "      <td>5</td>\n",
       "      <td>success</td>\n",
       "      <td>yes</td>\n",
       "    </tr>\n",
       "    <tr>\n",
       "      <th>1408</th>\n",
       "      <td>NaN</td>\n",
       "      <td>self-employed</td>\n",
       "      <td>single</td>\n",
       "      <td>tertiary</td>\n",
       "      <td>no</td>\n",
       "      <td>251</td>\n",
       "      <td>-0.265117</td>\n",
       "      <td>1.112134</td>\n",
       "      <td>no</td>\n",
       "      <td>no</td>\n",
       "      <td>cellular</td>\n",
       "      <td>12</td>\n",
       "      <td>jul</td>\n",
       "      <td>537</td>\n",
       "      <td>1</td>\n",
       "      <td>-1</td>\n",
       "      <td>0</td>\n",
       "      <td>NaN</td>\n",
       "      <td>yes</td>\n",
       "    </tr>\n",
       "  </tbody>\n",
       "</table>\n",
       "</div>"
      ],
      "text/plain": [
       "      age            job  marital  education default  balance  ratio_bal_ln  \\\n",
       "456   NaN  self-employed  married   tertiary      no      917      0.311161   \n",
       "472   NaN    blue-collar  married    primary      no      474      0.729179   \n",
       "526   NaN       services  married  secondary      no     2478      0.469463   \n",
       "595   NaN     management  married   tertiary      no     1857     -0.137751   \n",
       "597   NaN  self-employed  married  secondary     yes      254      0.800582   \n",
       "601   NaN         admin.   single  secondary      no      111      0.269082   \n",
       "605   NaN     management  married   tertiary      no     1330      1.007376   \n",
       "744   NaN     management  married   tertiary      no      -61      0.638129   \n",
       "795   NaN     technician   single   tertiary      no      992      0.901646   \n",
       "1171  NaN        retired  married   tertiary      no     2812     -0.336489   \n",
       "1232  NaN        student   single  secondary      no      431     -1.980588   \n",
       "1408  NaN  self-employed   single   tertiary      no      251     -0.265117   \n",
       "\n",
       "      ratio_ln_inc housing loan    contact  day month  duration  campaign  \\\n",
       "456      -0.818688      no   no   cellular    6   feb       518         3   \n",
       "472       0.350980     yes  yes  telephone    9   feb       152         3   \n",
       "526       0.180632     yes   no   cellular   28   jan       347         1   \n",
       "595       0.524516      no   no   cellular   29   jan       386         1   \n",
       "597       0.370658     yes  yes   cellular   29   jan       194         1   \n",
       "601       0.060002     yes   no   cellular   29   jan        55         1   \n",
       "605      -0.459770     yes   no   cellular   29   jan        41         2   \n",
       "744      -1.001420      no   no   cellular   30   jan        90         5   \n",
       "795      -0.098458     yes   no   cellular    4   may       301         1   \n",
       "1171      2.210606      no   no   cellular    3   aug       392         4   \n",
       "1232      0.402762      no   no   cellular   19   aug       418        11   \n",
       "1408      1.112134      no   no   cellular   12   jul       537         1   \n",
       "\n",
       "      pdays  previous poutcome subscribed  \n",
       "456     212         5  failure         no  \n",
       "472     221         1  failure         no  \n",
       "526     230         1  failure         no  \n",
       "595     168         4  failure         no  \n",
       "597     188         1  failure         no  \n",
       "601     195         3  failure         no  \n",
       "605     261         1  failure         no  \n",
       "744     172         1  failure         no  \n",
       "795      88         2  success         no  \n",
       "1171    181         3  success        yes  \n",
       "1232    185         5  success        yes  \n",
       "1408     -1         0      NaN        yes  "
      ]
     },
     "execution_count": 12,
     "metadata": {},
     "output_type": "execute_result"
    }
   ],
   "source": [
    "df[df.age.isnull()]"
   ]
  },
  {
   "cell_type": "code",
   "execution_count": 13,
   "metadata": {},
   "outputs": [],
   "source": [
    "# Define function to return an element of the pivot table\n",
    "def get_element(x):\n",
    "    return table.loc[x['marital'], x['job']]\n",
    "\n",
    "\n",
    "# Replace missing values\n",
    "df['age'].fillna(df[df['age'].isnull()].apply(get_element, axis=1), inplace=True)"
   ]
  },
  {
   "cell_type": "code",
   "execution_count": 14,
   "metadata": {},
   "outputs": [
    {
     "data": {
      "text/plain": [
       "count    2000.000000\n",
       "mean       41.742000\n",
       "std        12.711657\n",
       "min        18.000000\n",
       "25%        32.000000\n",
       "50%        38.000000\n",
       "75%        50.000000\n",
       "max        93.000000\n",
       "Name: age, dtype: float64"
      ]
     },
     "execution_count": 14,
     "metadata": {},
     "output_type": "execute_result"
    }
   ],
   "source": [
    "df['age'].describe()"
   ]
  },
  {
   "cell_type": "code",
   "execution_count": 15,
   "metadata": {},
   "outputs": [
    {
     "data": {
      "text/plain": [
       "secondary    995\n",
       "tertiary     684\n",
       "primary      217\n",
       "Name: education, dtype: int64"
      ]
     },
     "execution_count": 15,
     "metadata": {},
     "output_type": "execute_result"
    }
   ],
   "source": [
    "cat_exploration('education')"
   ]
  },
  {
   "cell_type": "code",
   "execution_count": 16,
   "metadata": {},
   "outputs": [],
   "source": [
    "cat_imputation('education', 'unknown')"
   ]
  },
  {
   "cell_type": "code",
   "execution_count": 17,
   "metadata": {},
   "outputs": [
    {
     "data": {
      "text/plain": [
       "cellular     1663\n",
       "telephone     146\n",
       "Name: contact, dtype: int64"
      ]
     },
     "execution_count": 17,
     "metadata": {},
     "output_type": "execute_result"
    }
   ],
   "source": [
    "cat_exploration('contact')"
   ]
  },
  {
   "cell_type": "code",
   "execution_count": 18,
   "metadata": {},
   "outputs": [],
   "source": [
    "cat_imputation('contact', 'cellular')"
   ]
  },
  {
   "cell_type": "code",
   "execution_count": 19,
   "metadata": {},
   "outputs": [
    {
     "data": {
      "text/plain": [
       "failure    955\n",
       "success    444\n",
       "other      147\n",
       "Name: poutcome, dtype: int64"
      ]
     },
     "execution_count": 19,
     "metadata": {},
     "output_type": "execute_result"
    }
   ],
   "source": [
    "cat_exploration('poutcome')"
   ]
  },
  {
   "cell_type": "code",
   "execution_count": 20,
   "metadata": {},
   "outputs": [],
   "source": [
    "cat_imputation('poutcome', 'unknown')"
   ]
  },
  {
   "cell_type": "markdown",
   "metadata": {},
   "source": [
    "we have imputed the NaN of above features to unknown as it would not introduce any bias into the dataset or learning process if we choose these features for learning."
   ]
  },
  {
   "cell_type": "code",
   "execution_count": 21,
   "metadata": {},
   "outputs": [
    {
     "data": {
      "text/plain": [
       "age             0\n",
       "job             0\n",
       "marital         0\n",
       "education       0\n",
       "default         0\n",
       "balance         0\n",
       "ratio_bal_ln    0\n",
       "ratio_ln_inc    0\n",
       "housing         0\n",
       "loan            0\n",
       "contact         0\n",
       "day             0\n",
       "month           0\n",
       "duration        0\n",
       "campaign        0\n",
       "pdays           0\n",
       "previous        0\n",
       "poutcome        0\n",
       "subscribed      0\n",
       "dtype: int64"
      ]
     },
     "execution_count": 21,
     "metadata": {},
     "output_type": "execute_result"
    }
   ],
   "source": [
    "nulldf = df.isnull().sum() #Check for null values in field\n",
    "nulldf"
   ]
  },
  {
   "cell_type": "markdown",
   "metadata": {},
   "source": [
    "## Task 1  (CS5062)\n",
    "\n",
    "Fill-in the missing values in the bank dataset. Use the EDA techniques from E-tivity 1 to decide how to fill in missing values. In your notebook, explain shortly (max 250 words) the decisions you have taken.\n",
    "\n",
    "The following were the missing values within the dataset\n",
    "- age              12\n",
    "- job              10\n",
    "- education       104\n",
    "- contact         191\n",
    "- poutcome        454\n",
    "\n",
    "Assuming that the age would be related to the **job** and **marital status**, a pivotal table was constructed to get the average age based on these two features. The NaN value were then populated to the samples where the age was absent.\n",
    "\n",
    "These rest of fields are : job 10 , education 104 , contact 191 , poutcome 454\n",
    "All of these are categorical values and there was no clear **most frequent** category amontst each of those features.\n",
    "The following fields was replaced by **unknown** due not the fact that they do not depend on any other feature. \n",
    "Creating an **unkown** category for these features can then yield some interesting insights and could potentially be predictive when building our model."
   ]
  },
  {
   "cell_type": "code",
   "execution_count": 22,
   "metadata": {},
   "outputs": [
    {
     "data": {
      "text/plain": [
       "<matplotlib.axes._subplots.AxesSubplot at 0x7ff4e59629e8>"
      ]
     },
     "execution_count": 22,
     "metadata": {},
     "output_type": "execute_result"
    },
    {
     "data": {
      "image/png": "[encoded data removed]",
      "text/plain": [
       "<Figure size 1440x576 with 2 Axes>"
      ]
     },
     "metadata": {
      "needs_background": "light"
     },
     "output_type": "display_data"
    }
   ],
   "source": [
    "f, ax = plt.subplots(figsize=(20, 8))\n",
    "corr = df.corr()\n",
    "sns.heatmap(corr, mask=np.zeros_like(corr, dtype=np.bool), cmap=sns.diverging_palette(220, 10, as_cmap=True),\n",
    "            square=True, ax=ax)"
   ]
  },
  {
   "cell_type": "code",
   "execution_count": 23,
   "metadata": {},
   "outputs": [
    {
     "data": {
      "text/plain": [
       "<matplotlib.axes._subplots.AxesSubplot at 0x7ff4e1103d68>"
      ]
     },
     "execution_count": 23,
     "metadata": {},
     "output_type": "execute_result"
    },
    {
     "data": {
      "image/png": "[encoded data removed]",
      "text/plain": [
       "<Figure size 432x288 with 1 Axes>"
      ]
     },
     "metadata": {
      "needs_background": "light"
     },
     "output_type": "display_data"
    }
   ],
   "source": [
    "sns.regplot(x='ratio_bal_ln', y='ratio_ln_inc', data=df)"
   ]
  },
  {
   "cell_type": "markdown",
   "metadata": {},
   "source": [
    "## Task 2 (CS5062)\n",
    "\n",
    "\n",
    "Decide on the treatment of outliers in the bank data set. If appropriate, remove examples with extreme or unexpected attribute values, apply log transformation to numeric attributes with extreme values. Use other methods, if appropriate, to treat outliers as well. In your notebook, explain shortly (max 250 words) the decisions you have taken."
   ]
  },
  {
   "cell_type": "code",
   "execution_count": 24,
   "metadata": {},
   "outputs": [
    {
     "data": {
      "text/html": [
       "<div>\n",
       "<style scoped>\n",
       "    .dataframe tbody tr th:only-of-type {\n",
       "        vertical-align: middle;\n",
       "    }\n",
       "\n",
       "    .dataframe tbody tr th {\n",
       "        vertical-align: top;\n",
       "    }\n",
       "\n",
       "    .dataframe thead th {\n",
       "        text-align: right;\n",
       "    }\n",
       "</style>\n",
       "<table border=\"1\" class=\"dataframe\">\n",
       "  <thead>\n",
       "    <tr style=\"text-align: right;\">\n",
       "      <th></th>\n",
       "      <th>age</th>\n",
       "      <th>balance</th>\n",
       "      <th>ratio_bal_ln</th>\n",
       "      <th>ratio_ln_inc</th>\n",
       "      <th>day</th>\n",
       "      <th>duration</th>\n",
       "      <th>campaign</th>\n",
       "      <th>pdays</th>\n",
       "      <th>previous</th>\n",
       "    </tr>\n",
       "  </thead>\n",
       "  <tbody>\n",
       "    <tr>\n",
       "      <th>count</th>\n",
       "      <td>2000.000000</td>\n",
       "      <td>2000.000000</td>\n",
       "      <td>2000.000000</td>\n",
       "      <td>2000.000000</td>\n",
       "      <td>2000.000000</td>\n",
       "      <td>2000.000000</td>\n",
       "      <td>2000.000000</td>\n",
       "      <td>2000.000000</td>\n",
       "      <td>2000.000000</td>\n",
       "    </tr>\n",
       "    <tr>\n",
       "      <th>mean</th>\n",
       "      <td>41.742000</td>\n",
       "      <td>1413.663500</td>\n",
       "      <td>0.241951</td>\n",
       "      <td>0.485030</td>\n",
       "      <td>13.851500</td>\n",
       "      <td>292.020500</td>\n",
       "      <td>1.909500</td>\n",
       "      <td>167.896000</td>\n",
       "      <td>2.561500</td>\n",
       "    </tr>\n",
       "    <tr>\n",
       "      <th>std</th>\n",
       "      <td>12.711657</td>\n",
       "      <td>3131.224213</td>\n",
       "      <td>0.821604</td>\n",
       "      <td>1.075543</td>\n",
       "      <td>9.712189</td>\n",
       "      <td>221.557295</td>\n",
       "      <td>1.378862</td>\n",
       "      <td>131.754126</td>\n",
       "      <td>3.400735</td>\n",
       "    </tr>\n",
       "    <tr>\n",
       "      <th>min</th>\n",
       "      <td>18.000000</td>\n",
       "      <td>-980.000000</td>\n",
       "      <td>-2.632068</td>\n",
       "      <td>-2.851405</td>\n",
       "      <td>1.000000</td>\n",
       "      <td>7.000000</td>\n",
       "      <td>1.000000</td>\n",
       "      <td>-1.000000</td>\n",
       "      <td>0.000000</td>\n",
       "    </tr>\n",
       "    <tr>\n",
       "      <th>25%</th>\n",
       "      <td>32.000000</td>\n",
       "      <td>201.500000</td>\n",
       "      <td>-0.308018</td>\n",
       "      <td>-0.274181</td>\n",
       "      <td>5.000000</td>\n",
       "      <td>146.000000</td>\n",
       "      <td>1.000000</td>\n",
       "      <td>75.750000</td>\n",
       "      <td>1.000000</td>\n",
       "    </tr>\n",
       "    <tr>\n",
       "      <th>50%</th>\n",
       "      <td>38.000000</td>\n",
       "      <td>551.000000</td>\n",
       "      <td>0.224099</td>\n",
       "      <td>0.487082</td>\n",
       "      <td>12.000000</td>\n",
       "      <td>236.000000</td>\n",
       "      <td>1.000000</td>\n",
       "      <td>182.000000</td>\n",
       "      <td>2.000000</td>\n",
       "    </tr>\n",
       "    <tr>\n",
       "      <th>75%</th>\n",
       "      <td>50.000000</td>\n",
       "      <td>1644.500000</td>\n",
       "      <td>0.806315</td>\n",
       "      <td>1.211896</td>\n",
       "      <td>23.000000</td>\n",
       "      <td>379.000000</td>\n",
       "      <td>2.000000</td>\n",
       "      <td>251.000000</td>\n",
       "      <td>3.000000</td>\n",
       "    </tr>\n",
       "    <tr>\n",
       "      <th>max</th>\n",
       "      <td>93.000000</td>\n",
       "      <td>81204.000000</td>\n",
       "      <td>2.961979</td>\n",
       "      <td>4.046914</td>\n",
       "      <td>31.000000</td>\n",
       "      <td>1823.000000</td>\n",
       "      <td>11.000000</td>\n",
       "      <td>854.000000</td>\n",
       "      <td>55.000000</td>\n",
       "    </tr>\n",
       "  </tbody>\n",
       "</table>\n",
       "</div>"
      ],
      "text/plain": [
       "               age       balance  ratio_bal_ln  ratio_ln_inc          day  \\\n",
       "count  2000.000000   2000.000000   2000.000000   2000.000000  2000.000000   \n",
       "mean     41.742000   1413.663500      0.241951      0.485030    13.851500   \n",
       "std      12.711657   3131.224213      0.821604      1.075543     9.712189   \n",
       "min      18.000000   -980.000000     -2.632068     -2.851405     1.000000   \n",
       "25%      32.000000    201.500000     -0.308018     -0.274181     5.000000   \n",
       "50%      38.000000    551.000000      0.224099      0.487082    12.000000   \n",
       "75%      50.000000   1644.500000      0.806315      1.211896    23.000000   \n",
       "max      93.000000  81204.000000      2.961979      4.046914    31.000000   \n",
       "\n",
       "          duration     campaign        pdays     previous  \n",
       "count  2000.000000  2000.000000  2000.000000  2000.000000  \n",
       "mean    292.020500     1.909500   167.896000     2.561500  \n",
       "std     221.557295     1.378862   131.754126     3.400735  \n",
       "min       7.000000     1.000000    -1.000000     0.000000  \n",
       "25%     146.000000     1.000000    75.750000     1.000000  \n",
       "50%     236.000000     1.000000   182.000000     2.000000  \n",
       "75%     379.000000     2.000000   251.000000     3.000000  \n",
       "max    1823.000000    11.000000   854.000000    55.000000  "
      ]
     },
     "execution_count": 24,
     "metadata": {},
     "output_type": "execute_result"
    }
   ],
   "source": [
    "df.describe(include=[np.number])"
   ]
  },
  {
   "cell_type": "markdown",
   "metadata": {},
   "source": [
    "**Age** and **balance** features above show some extreme values that require further normalization"
   ]
  },
  {
   "cell_type": "code",
   "execution_count": 25,
   "metadata": {},
   "outputs": [
    {
     "data": {
      "text/plain": [
       "<matplotlib.axes._subplots.AxesSubplot at 0x7ff4e1415f98>"
      ]
     },
     "execution_count": 25,
     "metadata": {},
     "output_type": "execute_result"
    },
    {
     "data": {
      "image/png": "[encoded data removed]",
      "text/plain": [
       "<Figure size 432x288 with 1 Axes>"
      ]
     },
     "metadata": {
      "needs_background": "light"
     },
     "output_type": "display_data"
    }
   ],
   "source": [
    "df['age'].hist()"
   ]
  },
  {
   "cell_type": "code",
   "execution_count": 26,
   "metadata": {},
   "outputs": [
    {
     "data": {
      "text/plain": [
       "<matplotlib.axes._subplots.AxesSubplot at 0x7ff4e13e5ac8>"
      ]
     },
     "execution_count": 26,
     "metadata": {},
     "output_type": "execute_result"
    },
    {
     "data": {
      "image/png": "[encoded data removed]",
      "text/plain": [
       "<Figure size 432x288 with 1 Axes>"
      ]
     },
     "metadata": {
      "needs_background": "light"
     },
     "output_type": "display_data"
    }
   ],
   "source": [
    "df.boxplot(column='age')"
   ]
  },
  {
   "cell_type": "markdown",
   "metadata": {},
   "source": [
    "Here we are seeing some values well outside the standard deviation for these attributes. We cant remove them as the data is still valid and it would be fair to replace them with an alternative. In which case, the only option that remains is to apply a log function so the extreme values don't cause a -ve impact on learning."
   ]
  },
  {
   "cell_type": "code",
   "execution_count": 27,
   "metadata": {},
   "outputs": [
    {
     "data": {
      "text/plain": [
       "<matplotlib.axes._subplots.AxesSubplot at 0x7ff4e12e4cf8>"
      ]
     },
     "execution_count": 27,
     "metadata": {},
     "output_type": "execute_result"
    },
    {
     "data": {
      "image/png": "[encoded data removed]",
      "text/plain": [
       "<Figure size 432x288 with 1 Axes>"
      ]
     },
     "metadata": {
      "needs_background": "light"
     },
     "output_type": "display_data"
    }
   ],
   "source": [
    " # Use a log transformation to decrease the impact of extreme values in column age\n",
    "df['age_log'] = np.log(df['age'])\n",
    "df['age_log'].hist()"
   ]
  },
  {
   "cell_type": "code",
   "execution_count": 28,
   "metadata": {},
   "outputs": [
    {
     "data": {
      "text/plain": [
       "<matplotlib.axes._subplots.AxesSubplot at 0x7ff4e1261cc0>"
      ]
     },
     "execution_count": 28,
     "metadata": {},
     "output_type": "execute_result"
    },
    {
     "data": {
      "image/png": "[encoded data removed]",
      "text/plain": [
       "<Figure size 432x288 with 1 Axes>"
      ]
     },
     "metadata": {
      "needs_background": "light"
     },
     "output_type": "display_data"
    }
   ],
   "source": [
    "df[\"balance\"].hist()"
   ]
  },
  {
   "cell_type": "code",
   "execution_count": 29,
   "metadata": {},
   "outputs": [
    {
     "data": {
      "text/plain": [
       "<matplotlib.axes._subplots.AxesSubplot at 0x7ff4e11e90b8>"
      ]
     },
     "execution_count": 29,
     "metadata": {},
     "output_type": "execute_result"
    },
    {
     "data": {
      "image/png": "[encoded data removed]",
      "text/plain": [
       "<Figure size 432x288 with 1 Axes>"
      ]
     },
     "metadata": {
      "needs_background": "light"
     },
     "output_type": "display_data"
    }
   ],
   "source": [
    "df.boxplot(column='balance')"
   ]
  },
  {
   "cell_type": "markdown",
   "metadata": {},
   "source": [
    "As seen by the histogram and box plots for the balance above, there is a customer with balance nearly 80000. This can be considered as a outlier but **cannot be removed** as there are always some wealthy customers. \n",
    "On the contrary, there are some customers with negative balance as well with the min being -980. If we perform a logarithmic transformation in order to normalize the distribution of data, the -ve or 0 values will be transformed as **undefined or infinity**. This would lead to the dataset being unusable for learning.\n",
    "Hence transforming the balance as +ve values by adding 1000 to each customers balance and then performing a logarithmic transformation would lead to a feature set which would have a **normal distribution** as seen below"
   ]
  },
  {
   "cell_type": "code",
   "execution_count": 30,
   "metadata": {},
   "outputs": [
    {
     "data": {
      "text/plain": [
       "<matplotlib.axes._subplots.AxesSubplot at 0x7ff4e119e0f0>"
      ]
     },
     "execution_count": 30,
     "metadata": {},
     "output_type": "execute_result"
    },
    {
     "data": {
      "image/png": "[encoded data removed]",
      "text/plain": [
       "<Figure size 432x288 with 1 Axes>"
      ]
     },
     "metadata": {
      "needs_background": "light"
     },
     "output_type": "display_data"
    }
   ],
   "source": [
    "df[\"balance_log\"] = np.log(df[\"balance\"] + 1000)\n",
    "df['balance_log'].hist()"
   ]
  },
  {
   "cell_type": "markdown",
   "metadata": {},
   "source": [
    "### Task 3 CS5062)\n",
    "\n",
    "Suggest the creation of at least one new feature from the existing ones and justify the usefulness of your choice within the context of the 2-class classification problem you have defined in E-tivity 1.\n",
    "\n",
    "I am still unable to figure out what new feature needs to be created and hence this task is still a **TODO**\n"
   ]
  },
  {
   "cell_type": "markdown",
   "metadata": {},
   "source": [
    "### Task 4 (CE6002)\n",
    "\n",
    "*Using the dataset you prepared, perform a classification on the data using scikitlearn’s logistic regression.*\n",
    "\n",
    "*Generate plots of the approximate probability P[Ein-Eout|>e]. You can use the exact same approach as in E-tivity 1. In the same figure, plot the Hoeffding bound and the VC bound and check whether or not either bound is exceeded (indicate this clearly in a markdown cell).*\n",
    "\n",
    "### Prepare the data\n",
    "Steps followed to prepare the data for logistic regression:\n",
    "  * Extract the features\n",
    "  * Extract the target\n",
    "  * Shuffle the data and split between training and testing data\n",
    "  * Fit the model on the training data set"
   ]
  },
  {
   "cell_type": "code",
   "execution_count": 40,
   "metadata": {},
   "outputs": [
    {
     "name": "stdout",
     "output_type": "stream",
     "text": [
      "X_train.shape:(1400, 2), y_train.shape:(1400,)\n",
      "X_test.shape :(600, 2), y_test.shape :(600,)\n"
     ]
    }
   ],
   "source": [
    "# extract features\n",
    "# Start by converting \"subscribed\" target from \"yes/no\" to \"1/-1\"\n",
    "df['subscribed_code'] = df['subscribed'].map({'yes': 1, 'no': -1})\n",
    "\n",
    "# Use 'ratio_bal_ln' and 'ratio_ln_inc' as our inputs\n",
    "data = df[['ratio_bal_ln', 'ratio_ln_inc', 'subscribed_code']]\n",
    "# Use 'ratio_bal_ln' and 'ratio_ln_inc' as our inputs\n",
    "X = data[['ratio_bal_ln', 'ratio_ln_inc']].values\n",
    "\n",
    "# Use 'subscribed_code' as the target\n",
    "y = data['subscribed_code'].values\n",
    "\n",
    "# shuffle and split\n",
    "X_shuffled, y_shuffled = shuffle(X, y, random_state=0)\n",
    "X_train, X_test, y_train, y_test = train_test_split(X_shuffled, y_shuffled, test_size=0.3, random_state=0)\n",
    "print (\"X_train.shape:{}, y_train.shape:{}\".format(X_train.shape, y_train.shape))\n",
    "print (\"X_test.shape :{}, y_test.shape :{}\".format(X_test.shape, y_test.shape))"
   ]
  },
  {
   "cell_type": "markdown",
   "metadata": {},
   "source": [
    "#### Fit the model\n",
    "\n",
    "Using logistic regression "
   ]
  },
  {
   "cell_type": "code",
   "execution_count": 37,
   "metadata": {},
   "outputs": [
    {
     "name": "stderr",
     "output_type": "stream",
     "text": [
      "/home/vipulpopat/Tools/anaconda3/lib/python3.6/site-packages/sklearn/linear_model/logistic.py:432: FutureWarning: Default solver will be changed to 'lbfgs' in 0.22. Specify a solver to silence this warning.\n",
      "  FutureWarning)\n"
     ]
    },
    {
     "data": {
      "text/plain": [
       "LogisticRegression(C=1.0, class_weight=None, dual=False, fit_intercept=True,\n",
       "          intercept_scaling=1, max_iter=100, multi_class='warn',\n",
       "          n_jobs=None, penalty='l2', random_state=None, solver='warn',\n",
       "          tol=0.0001, verbose=0, warm_start=False)"
      ]
     },
     "execution_count": 37,
     "metadata": {},
     "output_type": "execute_result"
    }
   ],
   "source": [
    "logreg = LogisticRegression()\n",
    "logreg.fit(X_train, y_train)"
   ]
  },
  {
   "cell_type": "markdown",
   "metadata": {},
   "source": [
    "Use the trained regression model to test the test data"
   ]
  },
  {
   "cell_type": "code",
   "execution_count": 38,
   "metadata": {},
   "outputs": [
    {
     "name": "stdout",
     "output_type": "stream",
     "text": [
      "Accuracy of logistic regression classifier on test set: 0.77\n"
     ]
    }
   ],
   "source": [
    "y_pred = logreg.predict(X_test)\n",
    "print('Accuracy of logistic regression classifier on test set: {:.2f}'.format(logreg.score(X_test, y_test)))"
   ]
  },
  {
   "cell_type": "code",
   "execution_count": 39,
   "metadata": {},
   "outputs": [
    {
     "name": "stdout",
     "output_type": "stream",
     "text": [
      "[[240  63]\n",
      " [ 74 223]]\n"
     ]
    }
   ],
   "source": [
    "from sklearn.metrics import confusion_matrix\n",
    "confusion_matrix = confusion_matrix(y_test, y_pred)\n",
    "print(confusion_matrix)\n"
   ]
  },
  {
   "cell_type": "markdown",
   "metadata": {},
   "source": [
    "**TODO**\n",
    "- Hoeffding bound plot\n",
    "- VC bound plot"
   ]
  },
  {
   "cell_type": "markdown",
   "metadata": {},
   "source": [
    "### Task 5 (CE6002)\n",
    "\n",
    "*Using the dataset, make learning curves for logistic regression and two other machine learning algorithms of your choosing using scikitlearn’s learning_curve functionality. Choose one algorithm with low complexity in terms of VC dimension and one algorithm with high complexity.\n",
    "\n",
    "Comment on what information you can derive from the learning curves  (in a markdown cell) and how this information differs between simple and complex machine learning algorithms.*\n",
    "\n",
    "**TODO**\n",
    "Havent been able to find time to get this done as a first attempt."
   ]
  }
 ],
 "metadata": {
  "kernelspec": {
   "display_name": "Python 3",
   "language": "python",
   "name": "python3"
  },
  "language_info": {
   "codemirror_mode": {
    "name": "ipython",
    "version": 3
   },
   "file_extension": ".py",
   "mimetype": "text/x-python",
   "name": "python",
   "nbconvert_exporter": "python",
   "pygments_lexer": "ipython3",
   "version": "3.6.8"
  }
 },
 "nbformat": 4,
 "nbformat_minor": 2
}
