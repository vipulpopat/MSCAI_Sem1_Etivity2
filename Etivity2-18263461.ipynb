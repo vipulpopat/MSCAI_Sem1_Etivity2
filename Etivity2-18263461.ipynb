{
 "cells": [
  {
   "cell_type": "markdown",
   "metadata": {},
   "source": [
    "# MSc in AI - CE6002 & CS5062 \n",
    "### Etivity 2 - Data preparation & Can we learn?\n",
    "Student Name: Michel Danjou\n",
    "\n",
    "Student ID: 18263461\n"
   ]
  },
  {
   "cell_type": "code",
   "execution_count": 1,
   "metadata": {},
   "outputs": [],
   "source": [
    "import matplotlib.pyplot as plt\n",
    "import numpy as np\n",
    "from sklearn.datasets import make_moons\n",
    "from sklearn.linear_model import LogisticRegression\n",
    "from sklearn import preprocessing\n",
    "import math\n",
    "from sklearn.datasets.samples_generator import make_blobs\n",
    "from sklearn.model_selection import train_test_split\n",
    "import pandas as pd\n",
    "\n",
    "import seaborn as sns\n",
    "from sklearn.preprocessing import LabelEncoder\n",
    "from sklearn.utils import shuffle\n"
   ]
  },
  {
   "cell_type": "markdown",
   "metadata": {},
   "source": [
    "# Task 1 (CS5062)\n",
    "\n",
    "*Fill-in the missing values in the bank dataset. Use the EDA techniques from E-tivity 1 to decide how to fill in missing values. In your notebook, explain shortly (max 250 words) the decisions you have taken.*"
   ]
  },
  {
   "cell_type": "markdown",
   "metadata": {},
   "source": [
    "## Load the dataset"
   ]
  },
  {
   "cell_type": "code",
   "execution_count": 2,
   "metadata": {},
   "outputs": [],
   "source": [
    "# Load the data\n",
    "data = pd.read_csv(\"bank_et2.csv\") "
   ]
  },
  {
   "cell_type": "code",
   "execution_count": 3,
   "metadata": {},
   "outputs": [
    {
     "data": {
      "text/html": [
       "<div>\n",
       "<style scoped>\n",
       "    .dataframe tbody tr th:only-of-type {\n",
       "        vertical-align: middle;\n",
       "    }\n",
       "\n",
       "    .dataframe tbody tr th {\n",
       "        vertical-align: top;\n",
       "    }\n",
       "\n",
       "    .dataframe thead th {\n",
       "        text-align: right;\n",
       "    }\n",
       "</style>\n",
       "<table border=\"1\" class=\"dataframe\">\n",
       "  <thead>\n",
       "    <tr style=\"text-align: right;\">\n",
       "      <th></th>\n",
       "      <th>Unnamed: 0</th>\n",
       "      <th>age</th>\n",
       "      <th>job</th>\n",
       "      <th>marital</th>\n",
       "      <th>education</th>\n",
       "      <th>default</th>\n",
       "      <th>balance</th>\n",
       "      <th>ratio_bal_ln</th>\n",
       "      <th>ratio_ln_inc</th>\n",
       "      <th>housing</th>\n",
       "      <th>loan</th>\n",
       "      <th>contact</th>\n",
       "      <th>day</th>\n",
       "      <th>month</th>\n",
       "      <th>duration</th>\n",
       "      <th>campaign</th>\n",
       "      <th>pdays</th>\n",
       "      <th>previous</th>\n",
       "      <th>poutcome</th>\n",
       "      <th>subscribed</th>\n",
       "    </tr>\n",
       "  </thead>\n",
       "  <tbody>\n",
       "    <tr>\n",
       "      <th>0</th>\n",
       "      <td>0</td>\n",
       "      <td>32.0</td>\n",
       "      <td>technician</td>\n",
       "      <td>single</td>\n",
       "      <td>tertiary</td>\n",
       "      <td>no</td>\n",
       "      <td>392</td>\n",
       "      <td>1.300134</td>\n",
       "      <td>0.473895</td>\n",
       "      <td>yes</td>\n",
       "      <td>no</td>\n",
       "      <td>cellular</td>\n",
       "      <td>1</td>\n",
       "      <td>apr</td>\n",
       "      <td>957</td>\n",
       "      <td>2</td>\n",
       "      <td>131</td>\n",
       "      <td>2</td>\n",
       "      <td>failure</td>\n",
       "      <td>no</td>\n",
       "    </tr>\n",
       "    <tr>\n",
       "      <th>1</th>\n",
       "      <td>1</td>\n",
       "      <td>39.0</td>\n",
       "      <td>technician</td>\n",
       "      <td>divorced</td>\n",
       "      <td>secondary</td>\n",
       "      <td>no</td>\n",
       "      <td>688</td>\n",
       "      <td>-0.193701</td>\n",
       "      <td>0.237021</td>\n",
       "      <td>yes</td>\n",
       "      <td>yes</td>\n",
       "      <td>cellular</td>\n",
       "      <td>1</td>\n",
       "      <td>apr</td>\n",
       "      <td>233</td>\n",
       "      <td>2</td>\n",
       "      <td>133</td>\n",
       "      <td>1</td>\n",
       "      <td>failure</td>\n",
       "      <td>no</td>\n",
       "    </tr>\n",
       "    <tr>\n",
       "      <th>2</th>\n",
       "      <td>2</td>\n",
       "      <td>59.0</td>\n",
       "      <td>retired</td>\n",
       "      <td>married</td>\n",
       "      <td>secondary</td>\n",
       "      <td>no</td>\n",
       "      <td>1035</td>\n",
       "      <td>1.334266</td>\n",
       "      <td>0.121981</td>\n",
       "      <td>yes</td>\n",
       "      <td>yes</td>\n",
       "      <td>cellular</td>\n",
       "      <td>1</td>\n",
       "      <td>apr</td>\n",
       "      <td>126</td>\n",
       "      <td>2</td>\n",
       "      <td>239</td>\n",
       "      <td>1</td>\n",
       "      <td>failure</td>\n",
       "      <td>no</td>\n",
       "    </tr>\n",
       "    <tr>\n",
       "      <th>3</th>\n",
       "      <td>3</td>\n",
       "      <td>47.0</td>\n",
       "      <td>blue-collar</td>\n",
       "      <td>married</td>\n",
       "      <td>secondary</td>\n",
       "      <td>no</td>\n",
       "      <td>398</td>\n",
       "      <td>0.362286</td>\n",
       "      <td>1.251328</td>\n",
       "      <td>yes</td>\n",
       "      <td>yes</td>\n",
       "      <td>cellular</td>\n",
       "      <td>1</td>\n",
       "      <td>apr</td>\n",
       "      <td>274</td>\n",
       "      <td>1</td>\n",
       "      <td>238</td>\n",
       "      <td>2</td>\n",
       "      <td>failure</td>\n",
       "      <td>no</td>\n",
       "    </tr>\n",
       "    <tr>\n",
       "      <th>4</th>\n",
       "      <td>4</td>\n",
       "      <td>54.0</td>\n",
       "      <td>retired</td>\n",
       "      <td>married</td>\n",
       "      <td>secondary</td>\n",
       "      <td>no</td>\n",
       "      <td>1004</td>\n",
       "      <td>0.072075</td>\n",
       "      <td>-0.533738</td>\n",
       "      <td>yes</td>\n",
       "      <td>no</td>\n",
       "      <td>cellular</td>\n",
       "      <td>1</td>\n",
       "      <td>apr</td>\n",
       "      <td>479</td>\n",
       "      <td>1</td>\n",
       "      <td>307</td>\n",
       "      <td>1</td>\n",
       "      <td>failure</td>\n",
       "      <td>no</td>\n",
       "    </tr>\n",
       "  </tbody>\n",
       "</table>\n",
       "</div>"
      ],
      "text/plain": [
       "   Unnamed: 0   age          job   marital  education default  balance  \\\n",
       "0           0  32.0   technician    single   tertiary      no      392   \n",
       "1           1  39.0   technician  divorced  secondary      no      688   \n",
       "2           2  59.0      retired   married  secondary      no     1035   \n",
       "3           3  47.0  blue-collar   married  secondary      no      398   \n",
       "4           4  54.0      retired   married  secondary      no     1004   \n",
       "\n",
       "   ratio_bal_ln  ratio_ln_inc housing loan   contact  day month  duration  \\\n",
       "0      1.300134      0.473895     yes   no  cellular    1   apr       957   \n",
       "1     -0.193701      0.237021     yes  yes  cellular    1   apr       233   \n",
       "2      1.334266      0.121981     yes  yes  cellular    1   apr       126   \n",
       "3      0.362286      1.251328     yes  yes  cellular    1   apr       274   \n",
       "4      0.072075     -0.533738     yes   no  cellular    1   apr       479   \n",
       "\n",
       "   campaign  pdays  previous poutcome subscribed  \n",
       "0         2    131         2  failure         no  \n",
       "1         2    133         1  failure         no  \n",
       "2         2    239         1  failure         no  \n",
       "3         1    238         2  failure         no  \n",
       "4         1    307         1  failure         no  "
      ]
     },
     "execution_count": 3,
     "metadata": {},
     "output_type": "execute_result"
    }
   ],
   "source": [
    "data.head()"
   ]
  },
  {
   "cell_type": "markdown",
   "metadata": {},
   "source": [
    "## Indentify the missing values"
   ]
  },
  {
   "cell_type": "code",
   "execution_count": 4,
   "metadata": {},
   "outputs": [
    {
     "data": {
      "text/plain": [
       "Unnamed: 0        0\n",
       "age              12\n",
       "job              10\n",
       "marital           0\n",
       "education       104\n",
       "default           0\n",
       "balance           0\n",
       "ratio_bal_ln      0\n",
       "ratio_ln_inc      0\n",
       "housing           0\n",
       "loan              0\n",
       "contact         191\n",
       "day               0\n",
       "month             0\n",
       "duration          0\n",
       "campaign          0\n",
       "pdays             0\n",
       "previous          0\n",
       "poutcome        454\n",
       "subscribed        0\n",
       "dtype: int64"
      ]
     },
     "execution_count": 4,
     "metadata": {},
     "output_type": "execute_result"
    }
   ],
   "source": [
    "data.apply(lambda x: sum(x.isnull()), axis=0)"
   ]
  },
  {
   "cell_type": "markdown",
   "metadata": {},
   "source": [
    "The colums with missing value are:\n",
    "  * age              12\n",
    "  * job              10\n",
    "  * education       104\n",
    "  * contact         191\n",
    "  * poutcome        454\n",
    "  \n",
    "Lets print the rows where at least one of these column as a missing value"
   ]
  },
  {
   "cell_type": "code",
   "execution_count": 5,
   "metadata": {},
   "outputs": [
    {
     "name": "stdout",
     "output_type": "stream",
     "text": [
      "\n",
      "age:\n",
      "      age            job  education    contact poutcome\n",
      "456   NaN  self-employed   tertiary   cellular  failure\n",
      "472   NaN    blue-collar    primary  telephone  failure\n",
      "526   NaN       services  secondary   cellular  failure\n",
      "595   NaN     management   tertiary   cellular  failure\n",
      "597   NaN  self-employed  secondary   cellular  failure\n",
      "601   NaN         admin.  secondary   cellular  failure\n",
      "605   NaN     management   tertiary   cellular  failure\n",
      "744   NaN     management   tertiary   cellular  failure\n",
      "795   NaN     technician   tertiary   cellular  success\n",
      "1171  NaN        retired   tertiary   cellular  success\n",
      "1232  NaN        student  secondary   cellular  success\n",
      "1408  NaN  self-employed   tertiary   cellular      NaN\n",
      "\n",
      "job:\n",
      "       age  job  education    contact poutcome\n",
      "255   42.0  NaN    primary   cellular  failure\n",
      "257   46.0  NaN        NaN   cellular  failure\n",
      "831   41.0  NaN    primary        NaN      NaN\n",
      "1223  55.0  NaN  secondary   cellular  success\n",
      "1281  50.0  NaN        NaN   cellular  failure\n",
      "1669  54.0  NaN  secondary   cellular  success\n",
      "1711  77.0  NaN        NaN  telephone      NaN\n",
      "1801  28.0  NaN        NaN   cellular  success\n",
      "1868  48.0  NaN        NaN   cellular  failure\n",
      "1975  45.0  NaN   tertiary   cellular      NaN\n",
      "\n",
      "education:\n",
      "       age            job education    contact poutcome\n",
      "10    38.0     management       NaN   cellular  failure\n",
      "15    38.0    blue-collar       NaN   cellular  failure\n",
      "124   39.0    blue-collar       NaN   cellular  failure\n",
      "209   37.0     management       NaN   cellular  failure\n",
      "257   46.0            NaN       NaN   cellular  failure\n",
      "262   31.0    blue-collar       NaN   cellular  failure\n",
      "285   51.0     technician       NaN   cellular  failure\n",
      "324   41.0    blue-collar       NaN   cellular  failure\n",
      "348   56.0         admin.       NaN   cellular  failure\n",
      "381   43.0     management       NaN   cellular  failure\n",
      "389   33.0     technician       NaN   cellular  failure\n",
      "404   58.0     technician       NaN   cellular  failure\n",
      "419   31.0       services       NaN   cellular  failure\n",
      "442   35.0    blue-collar       NaN   cellular  failure\n",
      "449   40.0    blue-collar       NaN   cellular  failure\n",
      "521   46.0     technician       NaN   cellular  failure\n",
      "527   52.0     technician       NaN   cellular  failure\n",
      "542   52.0     technician       NaN   cellular  failure\n",
      "547   54.0     management       NaN   cellular  failure\n",
      "566   51.0     technician       NaN  telephone  failure\n",
      "657   60.0        retired       NaN   cellular  failure\n",
      "678   32.0     technician       NaN   cellular  failure\n",
      "714   30.0  self-employed       NaN   cellular  failure\n",
      "718   46.0     management       NaN   cellular  failure\n",
      "731   54.0    blue-collar       NaN  telephone  failure\n",
      "733   55.0     technician       NaN   cellular  failure\n",
      "767   27.0        student       NaN   cellular  failure\n",
      "804   37.0     technician       NaN        NaN      NaN\n",
      "815   36.0   entrepreneur       NaN        NaN      NaN\n",
      "856   51.0    blue-collar       NaN        NaN      NaN\n",
      "...    ...            ...       ...        ...      ...\n",
      "1505  45.0     management       NaN   cellular  success\n",
      "1522  21.0        student       NaN   cellular      NaN\n",
      "1523  27.0         admin.       NaN   cellular      NaN\n",
      "1590  38.0     management       NaN   cellular      NaN\n",
      "1621  47.0       services       NaN   cellular  failure\n",
      "1624  29.0        student       NaN   cellular    other\n",
      "1645  64.0     management       NaN   cellular  success\n",
      "1698  66.0     management       NaN   cellular  success\n",
      "1709  18.0        student       NaN   cellular      NaN\n",
      "1711  77.0            NaN       NaN  telephone      NaN\n",
      "1713  23.0        student       NaN   cellular      NaN\n",
      "1724  78.0        retired       NaN  telephone      NaN\n",
      "1737  33.0       services       NaN        NaN      NaN\n",
      "1798  48.0       services       NaN   cellular  success\n",
      "1799  32.0     technician       NaN   cellular  success\n",
      "1801  28.0            NaN       NaN   cellular  success\n",
      "1822  42.0     management       NaN   cellular  success\n",
      "1839  78.0     management       NaN   cellular  success\n",
      "1842  46.0     technician       NaN   cellular  success\n",
      "1868  48.0            NaN       NaN   cellular  failure\n",
      "1869  52.0     management       NaN        NaN  failure\n",
      "1899  58.0     management       NaN   cellular    other\n",
      "1925  46.0        student       NaN   cellular  success\n",
      "1935  69.0        retired       NaN  telephone  success\n",
      "1938  67.0        retired       NaN  telephone  success\n",
      "1944  39.0     management       NaN   cellular  success\n",
      "1972  29.0     unemployed       NaN   cellular      NaN\n",
      "1985  21.0        student       NaN   cellular      NaN\n",
      "1993  35.0     management       NaN   cellular      NaN\n",
      "1995  20.0        student       NaN   cellular      NaN\n",
      "\n",
      "[104 rows x 5 columns]\n",
      "\n",
      "contact:\n",
      "       age            job  education contact poutcome\n",
      "799   33.0    blue-collar    primary     NaN      NaN\n",
      "800   60.0        retired    primary     NaN      NaN\n",
      "801   33.0     technician   tertiary     NaN      NaN\n",
      "802   33.0       services  secondary     NaN      NaN\n",
      "803   47.0     management   tertiary     NaN      NaN\n",
      "804   37.0     technician        NaN     NaN      NaN\n",
      "805   34.0    blue-collar  secondary     NaN      NaN\n",
      "806   32.0     technician  secondary     NaN      NaN\n",
      "807   36.0         admin.  secondary     NaN      NaN\n",
      "808   40.0    blue-collar  secondary     NaN      NaN\n",
      "809   57.0     management   tertiary     NaN      NaN\n",
      "810   48.0    blue-collar    primary     NaN      NaN\n",
      "811   26.0    blue-collar  secondary     NaN      NaN\n",
      "812   30.0     management   tertiary     NaN      NaN\n",
      "813   30.0  self-employed  secondary     NaN      NaN\n",
      "814   35.0     management   tertiary     NaN      NaN\n",
      "815   36.0   entrepreneur        NaN     NaN      NaN\n",
      "816   52.0     technician  secondary     NaN      NaN\n",
      "817   45.0    blue-collar    primary     NaN      NaN\n",
      "818   35.0     management   tertiary     NaN      NaN\n",
      "819   46.0    blue-collar  secondary     NaN      NaN\n",
      "820   39.0    blue-collar    primary     NaN      NaN\n",
      "821   38.0     management   tertiary     NaN      NaN\n",
      "822   38.0    blue-collar  secondary     NaN      NaN\n",
      "823   31.0     technician   tertiary     NaN      NaN\n",
      "824   39.0     management   tertiary     NaN      NaN\n",
      "825   32.0    blue-collar  secondary     NaN      NaN\n",
      "826   32.0       services  secondary     NaN      NaN\n",
      "827   26.0        student  secondary     NaN      NaN\n",
      "828   35.0     technician  secondary     NaN      NaN\n",
      "...    ...            ...        ...     ...      ...\n",
      "960   35.0    blue-collar  secondary     NaN      NaN\n",
      "961   45.0       services  secondary     NaN      NaN\n",
      "962   35.0    blue-collar    primary     NaN      NaN\n",
      "963   49.0    blue-collar    primary     NaN      NaN\n",
      "964   34.0     management  secondary     NaN      NaN\n",
      "989   34.0     management   tertiary     NaN    other\n",
      "1076  60.0    blue-collar    primary     NaN      NaN\n",
      "1087  36.0     management   tertiary     NaN      NaN\n",
      "1093  45.0    blue-collar    primary     NaN      NaN\n",
      "1095  38.0     technician  secondary     NaN      NaN\n",
      "1113  30.0         admin.  secondary     NaN      NaN\n",
      "1157  31.0    blue-collar  secondary     NaN    other\n",
      "1254  29.0  self-employed   tertiary     NaN      NaN\n",
      "1261  34.0         admin.   tertiary     NaN      NaN\n",
      "1330  53.0       services  secondary     NaN  success\n",
      "1405  27.0     technician  secondary     NaN      NaN\n",
      "1406  53.0         admin.  secondary     NaN      NaN\n",
      "1460  29.0    blue-collar  secondary     NaN    other\n",
      "1516  51.0     management   tertiary     NaN      NaN\n",
      "1521  30.0    blue-collar  secondary     NaN      NaN\n",
      "1528  24.0     technician  secondary     NaN      NaN\n",
      "1533  20.0        student  secondary     NaN      NaN\n",
      "1591  35.0     unemployed  secondary     NaN      NaN\n",
      "1595  52.0     technician  secondary     NaN      NaN\n",
      "1603  56.0      housemaid   tertiary     NaN      NaN\n",
      "1630  29.0         admin.  secondary     NaN    other\n",
      "1636  39.0     unemployed  secondary     NaN    other\n",
      "1737  33.0       services        NaN     NaN      NaN\n",
      "1869  52.0     management        NaN     NaN  failure\n",
      "1998  46.0       services    primary     NaN      NaN\n",
      "\n",
      "[191 rows x 5 columns]\n",
      "\n",
      "poutcome:\n",
      "       age            job  education    contact poutcome\n",
      "799   33.0    blue-collar    primary        NaN      NaN\n",
      "800   60.0        retired    primary        NaN      NaN\n",
      "801   33.0     technician   tertiary        NaN      NaN\n",
      "802   33.0       services  secondary        NaN      NaN\n",
      "803   47.0     management   tertiary        NaN      NaN\n",
      "804   37.0     technician        NaN        NaN      NaN\n",
      "805   34.0    blue-collar  secondary        NaN      NaN\n",
      "806   32.0     technician  secondary        NaN      NaN\n",
      "807   36.0         admin.  secondary        NaN      NaN\n",
      "808   40.0    blue-collar  secondary        NaN      NaN\n",
      "809   57.0     management   tertiary        NaN      NaN\n",
      "810   48.0    blue-collar    primary        NaN      NaN\n",
      "811   26.0    blue-collar  secondary        NaN      NaN\n",
      "812   30.0     management   tertiary        NaN      NaN\n",
      "813   30.0  self-employed  secondary        NaN      NaN\n",
      "814   35.0     management   tertiary        NaN      NaN\n",
      "815   36.0   entrepreneur        NaN        NaN      NaN\n",
      "816   52.0     technician  secondary        NaN      NaN\n",
      "817   45.0    blue-collar    primary        NaN      NaN\n",
      "818   35.0     management   tertiary        NaN      NaN\n",
      "819   46.0    blue-collar  secondary        NaN      NaN\n",
      "820   39.0    blue-collar    primary        NaN      NaN\n",
      "821   38.0     management   tertiary        NaN      NaN\n",
      "822   38.0    blue-collar  secondary        NaN      NaN\n",
      "823   31.0     technician   tertiary        NaN      NaN\n",
      "824   39.0     management   tertiary        NaN      NaN\n",
      "825   32.0    blue-collar  secondary        NaN      NaN\n",
      "826   32.0       services  secondary        NaN      NaN\n",
      "827   26.0        student  secondary        NaN      NaN\n",
      "828   35.0     technician  secondary        NaN      NaN\n",
      "...    ...            ...        ...        ...      ...\n",
      "1970  33.0   entrepreneur   tertiary   cellular      NaN\n",
      "1971  25.0        student  secondary   cellular      NaN\n",
      "1972  29.0     unemployed        NaN   cellular      NaN\n",
      "1973  72.0        retired  secondary   cellular      NaN\n",
      "1974  33.0         admin.  secondary   cellular      NaN\n",
      "1975  45.0            NaN   tertiary   cellular      NaN\n",
      "1976  28.0     management   tertiary   cellular      NaN\n",
      "1977  61.0        retired    primary   cellular      NaN\n",
      "1978  24.0        student  secondary   cellular      NaN\n",
      "1979  37.0     management   tertiary   cellular      NaN\n",
      "1980  24.0        student   tertiary   cellular      NaN\n",
      "1981  24.0        student  secondary   cellular      NaN\n",
      "1982  28.0     management   tertiary   cellular      NaN\n",
      "1983  24.0         admin.  secondary   cellular      NaN\n",
      "1984  58.0     management   tertiary   cellular      NaN\n",
      "1985  21.0        student        NaN   cellular      NaN\n",
      "1986  40.0   entrepreneur   tertiary   cellular      NaN\n",
      "1987  63.0         admin.  secondary   cellular      NaN\n",
      "1988  24.0        student  secondary   cellular      NaN\n",
      "1989  33.0    blue-collar    primary  telephone      NaN\n",
      "1990  36.0     technician   tertiary   cellular      NaN\n",
      "1991  39.0         admin.  secondary   cellular      NaN\n",
      "1992  78.0        retired    primary   cellular      NaN\n",
      "1993  35.0     management        NaN   cellular      NaN\n",
      "1994  26.0        student  secondary   cellular      NaN\n",
      "1995  20.0        student        NaN   cellular      NaN\n",
      "1996  28.0         admin.  secondary   cellular      NaN\n",
      "1997  81.0        retired    primary  telephone      NaN\n",
      "1998  46.0       services    primary        NaN      NaN\n",
      "1999  40.0   entrepreneur  secondary   cellular      NaN\n",
      "\n",
      "[454 rows x 5 columns]\n"
     ]
    }
   ],
   "source": [
    "null_columns=data.columns[data.isnull().any()]\n",
    "columns = ['age', 'job', 'education', 'contact', 'poutcome']\n",
    "for col in columns:\n",
    "    print(\"\\n{}:\".format(col))\n",
    "    print(data[data[col].isnull()][null_columns])\n",
    "    "
   ]
  },
  {
   "cell_type": "markdown",
   "metadata": {},
   "source": [
    "## age"
   ]
  },
  {
   "cell_type": "markdown",
   "metadata": {},
   "source": [
    "Let's start by printing the samples where `age` is missing since there are only 12 of them."
   ]
  },
  {
   "cell_type": "code",
   "execution_count": 6,
   "metadata": {},
   "outputs": [
    {
     "data": {
      "text/html": [
       "<div>\n",
       "<style scoped>\n",
       "    .dataframe tbody tr th:only-of-type {\n",
       "        vertical-align: middle;\n",
       "    }\n",
       "\n",
       "    .dataframe tbody tr th {\n",
       "        vertical-align: top;\n",
       "    }\n",
       "\n",
       "    .dataframe thead th {\n",
       "        text-align: right;\n",
       "    }\n",
       "</style>\n",
       "<table border=\"1\" class=\"dataframe\">\n",
       "  <thead>\n",
       "    <tr style=\"text-align: right;\">\n",
       "      <th></th>\n",
       "      <th>Unnamed: 0</th>\n",
       "      <th>age</th>\n",
       "      <th>job</th>\n",
       "      <th>marital</th>\n",
       "      <th>education</th>\n",
       "      <th>default</th>\n",
       "      <th>balance</th>\n",
       "      <th>ratio_bal_ln</th>\n",
       "      <th>ratio_ln_inc</th>\n",
       "      <th>housing</th>\n",
       "      <th>loan</th>\n",
       "      <th>contact</th>\n",
       "      <th>day</th>\n",
       "      <th>month</th>\n",
       "      <th>duration</th>\n",
       "      <th>campaign</th>\n",
       "      <th>pdays</th>\n",
       "      <th>previous</th>\n",
       "      <th>poutcome</th>\n",
       "      <th>subscribed</th>\n",
       "    </tr>\n",
       "  </thead>\n",
       "  <tbody>\n",
       "    <tr>\n",
       "      <th>456</th>\n",
       "      <td>456</td>\n",
       "      <td>NaN</td>\n",
       "      <td>self-employed</td>\n",
       "      <td>married</td>\n",
       "      <td>tertiary</td>\n",
       "      <td>no</td>\n",
       "      <td>917</td>\n",
       "      <td>0.311161</td>\n",
       "      <td>-0.818688</td>\n",
       "      <td>no</td>\n",
       "      <td>no</td>\n",
       "      <td>cellular</td>\n",
       "      <td>6</td>\n",
       "      <td>feb</td>\n",
       "      <td>518</td>\n",
       "      <td>3</td>\n",
       "      <td>212</td>\n",
       "      <td>5</td>\n",
       "      <td>failure</td>\n",
       "      <td>no</td>\n",
       "    </tr>\n",
       "    <tr>\n",
       "      <th>472</th>\n",
       "      <td>472</td>\n",
       "      <td>NaN</td>\n",
       "      <td>blue-collar</td>\n",
       "      <td>married</td>\n",
       "      <td>primary</td>\n",
       "      <td>no</td>\n",
       "      <td>474</td>\n",
       "      <td>0.729179</td>\n",
       "      <td>0.350980</td>\n",
       "      <td>yes</td>\n",
       "      <td>yes</td>\n",
       "      <td>telephone</td>\n",
       "      <td>9</td>\n",
       "      <td>feb</td>\n",
       "      <td>152</td>\n",
       "      <td>3</td>\n",
       "      <td>221</td>\n",
       "      <td>1</td>\n",
       "      <td>failure</td>\n",
       "      <td>no</td>\n",
       "    </tr>\n",
       "    <tr>\n",
       "      <th>526</th>\n",
       "      <td>526</td>\n",
       "      <td>NaN</td>\n",
       "      <td>services</td>\n",
       "      <td>married</td>\n",
       "      <td>secondary</td>\n",
       "      <td>no</td>\n",
       "      <td>2478</td>\n",
       "      <td>0.469463</td>\n",
       "      <td>0.180632</td>\n",
       "      <td>yes</td>\n",
       "      <td>no</td>\n",
       "      <td>cellular</td>\n",
       "      <td>28</td>\n",
       "      <td>jan</td>\n",
       "      <td>347</td>\n",
       "      <td>1</td>\n",
       "      <td>230</td>\n",
       "      <td>1</td>\n",
       "      <td>failure</td>\n",
       "      <td>no</td>\n",
       "    </tr>\n",
       "    <tr>\n",
       "      <th>595</th>\n",
       "      <td>595</td>\n",
       "      <td>NaN</td>\n",
       "      <td>management</td>\n",
       "      <td>married</td>\n",
       "      <td>tertiary</td>\n",
       "      <td>no</td>\n",
       "      <td>1857</td>\n",
       "      <td>-0.137751</td>\n",
       "      <td>0.524516</td>\n",
       "      <td>no</td>\n",
       "      <td>no</td>\n",
       "      <td>cellular</td>\n",
       "      <td>29</td>\n",
       "      <td>jan</td>\n",
       "      <td>386</td>\n",
       "      <td>1</td>\n",
       "      <td>168</td>\n",
       "      <td>4</td>\n",
       "      <td>failure</td>\n",
       "      <td>no</td>\n",
       "    </tr>\n",
       "    <tr>\n",
       "      <th>597</th>\n",
       "      <td>597</td>\n",
       "      <td>NaN</td>\n",
       "      <td>self-employed</td>\n",
       "      <td>married</td>\n",
       "      <td>secondary</td>\n",
       "      <td>yes</td>\n",
       "      <td>254</td>\n",
       "      <td>0.800582</td>\n",
       "      <td>0.370658</td>\n",
       "      <td>yes</td>\n",
       "      <td>yes</td>\n",
       "      <td>cellular</td>\n",
       "      <td>29</td>\n",
       "      <td>jan</td>\n",
       "      <td>194</td>\n",
       "      <td>1</td>\n",
       "      <td>188</td>\n",
       "      <td>1</td>\n",
       "      <td>failure</td>\n",
       "      <td>no</td>\n",
       "    </tr>\n",
       "    <tr>\n",
       "      <th>601</th>\n",
       "      <td>601</td>\n",
       "      <td>NaN</td>\n",
       "      <td>admin.</td>\n",
       "      <td>single</td>\n",
       "      <td>secondary</td>\n",
       "      <td>no</td>\n",
       "      <td>111</td>\n",
       "      <td>0.269082</td>\n",
       "      <td>0.060002</td>\n",
       "      <td>yes</td>\n",
       "      <td>no</td>\n",
       "      <td>cellular</td>\n",
       "      <td>29</td>\n",
       "      <td>jan</td>\n",
       "      <td>55</td>\n",
       "      <td>1</td>\n",
       "      <td>195</td>\n",
       "      <td>3</td>\n",
       "      <td>failure</td>\n",
       "      <td>no</td>\n",
       "    </tr>\n",
       "    <tr>\n",
       "      <th>605</th>\n",
       "      <td>605</td>\n",
       "      <td>NaN</td>\n",
       "      <td>management</td>\n",
       "      <td>married</td>\n",
       "      <td>tertiary</td>\n",
       "      <td>no</td>\n",
       "      <td>1330</td>\n",
       "      <td>1.007376</td>\n",
       "      <td>-0.459770</td>\n",
       "      <td>yes</td>\n",
       "      <td>no</td>\n",
       "      <td>cellular</td>\n",
       "      <td>29</td>\n",
       "      <td>jan</td>\n",
       "      <td>41</td>\n",
       "      <td>2</td>\n",
       "      <td>261</td>\n",
       "      <td>1</td>\n",
       "      <td>failure</td>\n",
       "      <td>no</td>\n",
       "    </tr>\n",
       "    <tr>\n",
       "      <th>744</th>\n",
       "      <td>744</td>\n",
       "      <td>NaN</td>\n",
       "      <td>management</td>\n",
       "      <td>married</td>\n",
       "      <td>tertiary</td>\n",
       "      <td>no</td>\n",
       "      <td>-61</td>\n",
       "      <td>0.638129</td>\n",
       "      <td>-1.001420</td>\n",
       "      <td>no</td>\n",
       "      <td>no</td>\n",
       "      <td>cellular</td>\n",
       "      <td>30</td>\n",
       "      <td>jan</td>\n",
       "      <td>90</td>\n",
       "      <td>5</td>\n",
       "      <td>172</td>\n",
       "      <td>1</td>\n",
       "      <td>failure</td>\n",
       "      <td>no</td>\n",
       "    </tr>\n",
       "    <tr>\n",
       "      <th>795</th>\n",
       "      <td>795</td>\n",
       "      <td>NaN</td>\n",
       "      <td>technician</td>\n",
       "      <td>single</td>\n",
       "      <td>tertiary</td>\n",
       "      <td>no</td>\n",
       "      <td>992</td>\n",
       "      <td>0.901646</td>\n",
       "      <td>-0.098458</td>\n",
       "      <td>yes</td>\n",
       "      <td>no</td>\n",
       "      <td>cellular</td>\n",
       "      <td>4</td>\n",
       "      <td>may</td>\n",
       "      <td>301</td>\n",
       "      <td>1</td>\n",
       "      <td>88</td>\n",
       "      <td>2</td>\n",
       "      <td>success</td>\n",
       "      <td>no</td>\n",
       "    </tr>\n",
       "    <tr>\n",
       "      <th>1171</th>\n",
       "      <td>1171</td>\n",
       "      <td>NaN</td>\n",
       "      <td>retired</td>\n",
       "      <td>married</td>\n",
       "      <td>tertiary</td>\n",
       "      <td>no</td>\n",
       "      <td>2812</td>\n",
       "      <td>-0.336489</td>\n",
       "      <td>2.210606</td>\n",
       "      <td>no</td>\n",
       "      <td>no</td>\n",
       "      <td>cellular</td>\n",
       "      <td>3</td>\n",
       "      <td>aug</td>\n",
       "      <td>392</td>\n",
       "      <td>4</td>\n",
       "      <td>181</td>\n",
       "      <td>3</td>\n",
       "      <td>success</td>\n",
       "      <td>yes</td>\n",
       "    </tr>\n",
       "    <tr>\n",
       "      <th>1232</th>\n",
       "      <td>1232</td>\n",
       "      <td>NaN</td>\n",
       "      <td>student</td>\n",
       "      <td>single</td>\n",
       "      <td>secondary</td>\n",
       "      <td>no</td>\n",
       "      <td>431</td>\n",
       "      <td>-1.980588</td>\n",
       "      <td>0.402762</td>\n",
       "      <td>no</td>\n",
       "      <td>no</td>\n",
       "      <td>cellular</td>\n",
       "      <td>19</td>\n",
       "      <td>aug</td>\n",
       "      <td>418</td>\n",
       "      <td>11</td>\n",
       "      <td>185</td>\n",
       "      <td>5</td>\n",
       "      <td>success</td>\n",
       "      <td>yes</td>\n",
       "    </tr>\n",
       "    <tr>\n",
       "      <th>1408</th>\n",
       "      <td>1408</td>\n",
       "      <td>NaN</td>\n",
       "      <td>self-employed</td>\n",
       "      <td>single</td>\n",
       "      <td>tertiary</td>\n",
       "      <td>no</td>\n",
       "      <td>251</td>\n",
       "      <td>-0.265117</td>\n",
       "      <td>1.112134</td>\n",
       "      <td>no</td>\n",
       "      <td>no</td>\n",
       "      <td>cellular</td>\n",
       "      <td>12</td>\n",
       "      <td>jul</td>\n",
       "      <td>537</td>\n",
       "      <td>1</td>\n",
       "      <td>-1</td>\n",
       "      <td>0</td>\n",
       "      <td>NaN</td>\n",
       "      <td>yes</td>\n",
       "    </tr>\n",
       "  </tbody>\n",
       "</table>\n",
       "</div>"
      ],
      "text/plain": [
       "      Unnamed: 0  age            job  marital  education default  balance  \\\n",
       "456          456  NaN  self-employed  married   tertiary      no      917   \n",
       "472          472  NaN    blue-collar  married    primary      no      474   \n",
       "526          526  NaN       services  married  secondary      no     2478   \n",
       "595          595  NaN     management  married   tertiary      no     1857   \n",
       "597          597  NaN  self-employed  married  secondary     yes      254   \n",
       "601          601  NaN         admin.   single  secondary      no      111   \n",
       "605          605  NaN     management  married   tertiary      no     1330   \n",
       "744          744  NaN     management  married   tertiary      no      -61   \n",
       "795          795  NaN     technician   single   tertiary      no      992   \n",
       "1171        1171  NaN        retired  married   tertiary      no     2812   \n",
       "1232        1232  NaN        student   single  secondary      no      431   \n",
       "1408        1408  NaN  self-employed   single   tertiary      no      251   \n",
       "\n",
       "      ratio_bal_ln  ratio_ln_inc housing loan    contact  day month  duration  \\\n",
       "456       0.311161     -0.818688      no   no   cellular    6   feb       518   \n",
       "472       0.729179      0.350980     yes  yes  telephone    9   feb       152   \n",
       "526       0.469463      0.180632     yes   no   cellular   28   jan       347   \n",
       "595      -0.137751      0.524516      no   no   cellular   29   jan       386   \n",
       "597       0.800582      0.370658     yes  yes   cellular   29   jan       194   \n",
       "601       0.269082      0.060002     yes   no   cellular   29   jan        55   \n",
       "605       1.007376     -0.459770     yes   no   cellular   29   jan        41   \n",
       "744       0.638129     -1.001420      no   no   cellular   30   jan        90   \n",
       "795       0.901646     -0.098458     yes   no   cellular    4   may       301   \n",
       "1171     -0.336489      2.210606      no   no   cellular    3   aug       392   \n",
       "1232     -1.980588      0.402762      no   no   cellular   19   aug       418   \n",
       "1408     -0.265117      1.112134      no   no   cellular   12   jul       537   \n",
       "\n",
       "      campaign  pdays  previous poutcome subscribed  \n",
       "456          3    212         5  failure         no  \n",
       "472          3    221         1  failure         no  \n",
       "526          1    230         1  failure         no  \n",
       "595          1    168         4  failure         no  \n",
       "597          1    188         1  failure         no  \n",
       "601          1    195         3  failure         no  \n",
       "605          2    261         1  failure         no  \n",
       "744          5    172         1  failure         no  \n",
       "795          1     88         2  success         no  \n",
       "1171         4    181         3  success        yes  \n",
       "1232        11    185         5  success        yes  \n",
       "1408         1     -1         0      NaN        yes  "
      ]
     },
     "execution_count": 6,
     "metadata": {},
     "output_type": "execute_result"
    }
   ],
   "source": [
    "data[data['age'].isna()]"
   ]
  },
  {
   "cell_type": "markdown",
   "metadata": {},
   "source": [
    "We could backfill the missing `age` fields using the mean age value we calculated to be 41 in Etivity 1. However this would certainly be unrealistic for 2 samples:\n",
    "  * sample 1171, which represents a retiree \n",
    "  * sample 1232, which represents a student\n",
    "  \n",
    "A better way is to generate a pivot table but first lets start by studying the value of `age` in relation to other data to determine which attributes to use in our pivot."
   ]
  },
  {
   "cell_type": "markdown",
   "metadata": {},
   "source": [
    "### Identify which features are best suited to define the `age`"
   ]
  },
  {
   "cell_type": "markdown",
   "metadata": {},
   "source": [
    "Here we simply iterate over a few combinations of interesting features with a view  to find the one that best define the age.\n",
    "Amongs the features that I short-listed are:\n",
    "  * ['job','housing'], ['job','loan'], ['job','subscribed'], ['job','marital']"
   ]
  },
  {
   "cell_type": "code",
   "execution_count": 39,
   "metadata": {},
   "outputs": [
    {
     "data": {
      "text/plain": [
       "<Figure size 1080x1440 with 0 Axes>"
      ]
     },
     "metadata": {},
     "output_type": "display_data"
    },
    {
     "data": {
      "image/png": "[encoded data removed]",
      "text/plain": [
       "<Figure size 1080x1440 with 1 Axes>"
      ]
     },
     "metadata": {},
     "output_type": "display_data"
    },
    {
     "data": {
      "image/png": "[encoded data removed]",
      "text/plain": [
       "<Figure size 1080x1440 with 1 Axes>"
      ]
     },
     "metadata": {},
     "output_type": "display_data"
    },
    {
     "data": {
      "image/png": "[encoded data removed]",
      "text/plain": [
       "<Figure size 1080x1440 with 1 Axes>"
      ]
     },
     "metadata": {},
     "output_type": "display_data"
    },
    {
     "data": {
      "image/png": "[encoded data removed]",
      "text/plain": [
       "<Figure size 1080x1440 with 1 Axes>"
      ]
     },
     "metadata": {},
     "output_type": "display_data"
    }
   ],
   "source": [
    "col_names = [['job','housing'], ['job','loan'], ['job','subscribed'], ['job','marital']]\n",
    "\n",
    "fig = plt.figure(figsize=(15,20))\n",
    "for counter, cols in enumerate(col_names):\n",
    "    title = \"Boxplot of Age grouped by \" + col_names[counter][0] + \" and \" + col_names[counter][1]\n",
    "    counter +=1\n",
    "    data.boxplot(column='age', by=cols, figsize=(15,20), patch_artist = True, rot=45)\n",
    "    plt.title(title)\n",
    "    plt.suptitle(\"\")"
   ]
  },
  {
   "cell_type": "markdown",
   "metadata": {},
   "source": [
    "It looks like the boxplot of `age` by `job` and `marital` is showing more horizontal layers than the other boxplots. This might indicate that the **job** and **marital** attributes are the best at gaging someone's age.\n"
   ]
  },
  {
   "cell_type": "code",
   "execution_count": 11,
   "metadata": {},
   "outputs": [
    {
     "name": "stdout",
     "output_type": "stream",
     "text": [
      "marital        divorced  married  single\n",
      "job                                     \n",
      "admin.             40.0     42.5    33.0\n",
      "blue-collar        42.0     40.0    32.0\n",
      "entrepreneur       47.5     45.0    34.5\n",
      "housemaid          55.0     49.0    34.5\n",
      "management         45.0     41.0    32.0\n",
      "retired            67.0     67.0    60.5\n",
      "self-employed      46.0     46.0    29.0\n",
      "services           47.0     37.0    32.0\n",
      "student            38.0     33.0    25.0\n",
      "technician         42.0     43.5    33.0\n",
      "unemployed         40.0     43.0    32.0\n"
     ]
    }
   ],
   "source": [
    "table = data.pivot_table(values='age', \n",
    "                       index='job', \n",
    "                       columns='marital', \n",
    "                       aggfunc=np.median)\n",
    "print(table)"
   ]
  },
  {
   "cell_type": "code",
   "execution_count": 12,
   "metadata": {},
   "outputs": [],
   "source": [
    "# Define function to return an element of the pivot table\n",
    "def get_element(x):\n",
    "    return table.loc[x['job'], x['marital']]\n",
    "\n",
    "# Replace missing values\n",
    "data['age'].fillna(data[data['age'].isnull()].apply(get_element, axis=1), inplace=True)"
   ]
  },
  {
   "cell_type": "code",
   "execution_count": 13,
   "metadata": {},
   "outputs": [
    {
     "data": {
      "text/plain": [
       "count    2000.000000\n",
       "mean       41.742000\n",
       "std        12.711657\n",
       "min        18.000000\n",
       "25%        32.000000\n",
       "50%        38.000000\n",
       "75%        50.000000\n",
       "max        93.000000\n",
       "Name: age, dtype: float64"
      ]
     },
     "execution_count": 13,
     "metadata": {},
     "output_type": "execute_result"
    }
   ],
   "source": [
    "data['age'].describe()"
   ]
  },
  {
   "cell_type": "code",
   "execution_count": 14,
   "metadata": {},
   "outputs": [
    {
     "data": {
      "text/plain": [
       "0"
      ]
     },
     "execution_count": 14,
     "metadata": {},
     "output_type": "execute_result"
    }
   ],
   "source": [
    "data['age'].isna().sum()"
   ]
  },
  {
   "cell_type": "markdown",
   "metadata": {},
   "source": [
    "## Job"
   ]
  },
  {
   "cell_type": "markdown",
   "metadata": {},
   "source": [
    "We remember from earlier that there are only 10 samples where `job` is null. We start by listing these samples to see if we can spot something obvious."
   ]
  },
  {
   "cell_type": "code",
   "execution_count": 15,
   "metadata": {},
   "outputs": [
    {
     "data": {
      "text/html": [
       "<div>\n",
       "<style scoped>\n",
       "    .dataframe tbody tr th:only-of-type {\n",
       "        vertical-align: middle;\n",
       "    }\n",
       "\n",
       "    .dataframe tbody tr th {\n",
       "        vertical-align: top;\n",
       "    }\n",
       "\n",
       "    .dataframe thead th {\n",
       "        text-align: right;\n",
       "    }\n",
       "</style>\n",
       "<table border=\"1\" class=\"dataframe\">\n",
       "  <thead>\n",
       "    <tr style=\"text-align: right;\">\n",
       "      <th></th>\n",
       "      <th>Unnamed: 0</th>\n",
       "      <th>age</th>\n",
       "      <th>job</th>\n",
       "      <th>marital</th>\n",
       "      <th>education</th>\n",
       "      <th>default</th>\n",
       "      <th>balance</th>\n",
       "      <th>ratio_bal_ln</th>\n",
       "      <th>ratio_ln_inc</th>\n",
       "      <th>housing</th>\n",
       "      <th>loan</th>\n",
       "      <th>contact</th>\n",
       "      <th>day</th>\n",
       "      <th>month</th>\n",
       "      <th>duration</th>\n",
       "      <th>campaign</th>\n",
       "      <th>pdays</th>\n",
       "      <th>previous</th>\n",
       "      <th>poutcome</th>\n",
       "      <th>subscribed</th>\n",
       "    </tr>\n",
       "  </thead>\n",
       "  <tbody>\n",
       "    <tr>\n",
       "      <th>255</th>\n",
       "      <td>255</td>\n",
       "      <td>42.0</td>\n",
       "      <td>NaN</td>\n",
       "      <td>single</td>\n",
       "      <td>primary</td>\n",
       "      <td>no</td>\n",
       "      <td>2398</td>\n",
       "      <td>-1.418888</td>\n",
       "      <td>1.809977</td>\n",
       "      <td>yes</td>\n",
       "      <td>no</td>\n",
       "      <td>cellular</td>\n",
       "      <td>3</td>\n",
       "      <td>feb</td>\n",
       "      <td>144</td>\n",
       "      <td>2</td>\n",
       "      <td>271</td>\n",
       "      <td>2</td>\n",
       "      <td>failure</td>\n",
       "      <td>no</td>\n",
       "    </tr>\n",
       "    <tr>\n",
       "      <th>257</th>\n",
       "      <td>257</td>\n",
       "      <td>46.0</td>\n",
       "      <td>NaN</td>\n",
       "      <td>married</td>\n",
       "      <td>NaN</td>\n",
       "      <td>no</td>\n",
       "      <td>677</td>\n",
       "      <td>-0.399374</td>\n",
       "      <td>0.150261</td>\n",
       "      <td>no</td>\n",
       "      <td>no</td>\n",
       "      <td>cellular</td>\n",
       "      <td>3</td>\n",
       "      <td>feb</td>\n",
       "      <td>425</td>\n",
       "      <td>1</td>\n",
       "      <td>82</td>\n",
       "      <td>1</td>\n",
       "      <td>failure</td>\n",
       "      <td>no</td>\n",
       "    </tr>\n",
       "    <tr>\n",
       "      <th>831</th>\n",
       "      <td>831</td>\n",
       "      <td>41.0</td>\n",
       "      <td>NaN</td>\n",
       "      <td>single</td>\n",
       "      <td>primary</td>\n",
       "      <td>no</td>\n",
       "      <td>2398</td>\n",
       "      <td>-0.243804</td>\n",
       "      <td>-0.685437</td>\n",
       "      <td>yes</td>\n",
       "      <td>no</td>\n",
       "      <td>NaN</td>\n",
       "      <td>8</td>\n",
       "      <td>may</td>\n",
       "      <td>287</td>\n",
       "      <td>2</td>\n",
       "      <td>-1</td>\n",
       "      <td>0</td>\n",
       "      <td>NaN</td>\n",
       "      <td>no</td>\n",
       "    </tr>\n",
       "    <tr>\n",
       "      <th>1223</th>\n",
       "      <td>1223</td>\n",
       "      <td>55.0</td>\n",
       "      <td>NaN</td>\n",
       "      <td>married</td>\n",
       "      <td>secondary</td>\n",
       "      <td>no</td>\n",
       "      <td>2206</td>\n",
       "      <td>-1.134511</td>\n",
       "      <td>0.861389</td>\n",
       "      <td>no</td>\n",
       "      <td>no</td>\n",
       "      <td>cellular</td>\n",
       "      <td>12</td>\n",
       "      <td>aug</td>\n",
       "      <td>265</td>\n",
       "      <td>1</td>\n",
       "      <td>91</td>\n",
       "      <td>5</td>\n",
       "      <td>success</td>\n",
       "      <td>yes</td>\n",
       "    </tr>\n",
       "    <tr>\n",
       "      <th>1281</th>\n",
       "      <td>1281</td>\n",
       "      <td>50.0</td>\n",
       "      <td>NaN</td>\n",
       "      <td>married</td>\n",
       "      <td>NaN</td>\n",
       "      <td>no</td>\n",
       "      <td>558</td>\n",
       "      <td>-0.455001</td>\n",
       "      <td>1.595412</td>\n",
       "      <td>no</td>\n",
       "      <td>no</td>\n",
       "      <td>cellular</td>\n",
       "      <td>9</td>\n",
       "      <td>jul</td>\n",
       "      <td>464</td>\n",
       "      <td>1</td>\n",
       "      <td>683</td>\n",
       "      <td>6</td>\n",
       "      <td>failure</td>\n",
       "      <td>yes</td>\n",
       "    </tr>\n",
       "    <tr>\n",
       "      <th>1669</th>\n",
       "      <td>1669</td>\n",
       "      <td>54.0</td>\n",
       "      <td>NaN</td>\n",
       "      <td>married</td>\n",
       "      <td>secondary</td>\n",
       "      <td>no</td>\n",
       "      <td>2206</td>\n",
       "      <td>-0.575645</td>\n",
       "      <td>-0.242814</td>\n",
       "      <td>no</td>\n",
       "      <td>no</td>\n",
       "      <td>cellular</td>\n",
       "      <td>13</td>\n",
       "      <td>may</td>\n",
       "      <td>260</td>\n",
       "      <td>1</td>\n",
       "      <td>91</td>\n",
       "      <td>4</td>\n",
       "      <td>success</td>\n",
       "      <td>yes</td>\n",
       "    </tr>\n",
       "    <tr>\n",
       "      <th>1711</th>\n",
       "      <td>1711</td>\n",
       "      <td>77.0</td>\n",
       "      <td>NaN</td>\n",
       "      <td>married</td>\n",
       "      <td>NaN</td>\n",
       "      <td>no</td>\n",
       "      <td>397</td>\n",
       "      <td>-0.871514</td>\n",
       "      <td>0.134782</td>\n",
       "      <td>no</td>\n",
       "      <td>no</td>\n",
       "      <td>telephone</td>\n",
       "      <td>7</td>\n",
       "      <td>may</td>\n",
       "      <td>300</td>\n",
       "      <td>3</td>\n",
       "      <td>-1</td>\n",
       "      <td>0</td>\n",
       "      <td>NaN</td>\n",
       "      <td>yes</td>\n",
       "    </tr>\n",
       "    <tr>\n",
       "      <th>1801</th>\n",
       "      <td>1801</td>\n",
       "      <td>28.0</td>\n",
       "      <td>NaN</td>\n",
       "      <td>single</td>\n",
       "      <td>NaN</td>\n",
       "      <td>no</td>\n",
       "      <td>326</td>\n",
       "      <td>0.298961</td>\n",
       "      <td>1.653248</td>\n",
       "      <td>no</td>\n",
       "      <td>no</td>\n",
       "      <td>cellular</td>\n",
       "      <td>11</td>\n",
       "      <td>oct</td>\n",
       "      <td>450</td>\n",
       "      <td>1</td>\n",
       "      <td>231</td>\n",
       "      <td>1</td>\n",
       "      <td>success</td>\n",
       "      <td>yes</td>\n",
       "    </tr>\n",
       "    <tr>\n",
       "      <th>1868</th>\n",
       "      <td>1868</td>\n",
       "      <td>48.0</td>\n",
       "      <td>NaN</td>\n",
       "      <td>single</td>\n",
       "      <td>NaN</td>\n",
       "      <td>no</td>\n",
       "      <td>1819</td>\n",
       "      <td>0.680564</td>\n",
       "      <td>-0.786048</td>\n",
       "      <td>no</td>\n",
       "      <td>no</td>\n",
       "      <td>cellular</td>\n",
       "      <td>2</td>\n",
       "      <td>sep</td>\n",
       "      <td>1440</td>\n",
       "      <td>1</td>\n",
       "      <td>458</td>\n",
       "      <td>1</td>\n",
       "      <td>failure</td>\n",
       "      <td>yes</td>\n",
       "    </tr>\n",
       "    <tr>\n",
       "      <th>1975</th>\n",
       "      <td>1975</td>\n",
       "      <td>45.0</td>\n",
       "      <td>NaN</td>\n",
       "      <td>married</td>\n",
       "      <td>tertiary</td>\n",
       "      <td>no</td>\n",
       "      <td>406</td>\n",
       "      <td>-2.211965</td>\n",
       "      <td>2.109631</td>\n",
       "      <td>no</td>\n",
       "      <td>no</td>\n",
       "      <td>cellular</td>\n",
       "      <td>7</td>\n",
       "      <td>sep</td>\n",
       "      <td>314</td>\n",
       "      <td>1</td>\n",
       "      <td>-1</td>\n",
       "      <td>0</td>\n",
       "      <td>NaN</td>\n",
       "      <td>yes</td>\n",
       "    </tr>\n",
       "  </tbody>\n",
       "</table>\n",
       "</div>"
      ],
      "text/plain": [
       "      Unnamed: 0   age  job  marital  education default  balance  \\\n",
       "255          255  42.0  NaN   single    primary      no     2398   \n",
       "257          257  46.0  NaN  married        NaN      no      677   \n",
       "831          831  41.0  NaN   single    primary      no     2398   \n",
       "1223        1223  55.0  NaN  married  secondary      no     2206   \n",
       "1281        1281  50.0  NaN  married        NaN      no      558   \n",
       "1669        1669  54.0  NaN  married  secondary      no     2206   \n",
       "1711        1711  77.0  NaN  married        NaN      no      397   \n",
       "1801        1801  28.0  NaN   single        NaN      no      326   \n",
       "1868        1868  48.0  NaN   single        NaN      no     1819   \n",
       "1975        1975  45.0  NaN  married   tertiary      no      406   \n",
       "\n",
       "      ratio_bal_ln  ratio_ln_inc housing loan    contact  day month  duration  \\\n",
       "255      -1.418888      1.809977     yes   no   cellular    3   feb       144   \n",
       "257      -0.399374      0.150261      no   no   cellular    3   feb       425   \n",
       "831      -0.243804     -0.685437     yes   no        NaN    8   may       287   \n",
       "1223     -1.134511      0.861389      no   no   cellular   12   aug       265   \n",
       "1281     -0.455001      1.595412      no   no   cellular    9   jul       464   \n",
       "1669     -0.575645     -0.242814      no   no   cellular   13   may       260   \n",
       "1711     -0.871514      0.134782      no   no  telephone    7   may       300   \n",
       "1801      0.298961      1.653248      no   no   cellular   11   oct       450   \n",
       "1868      0.680564     -0.786048      no   no   cellular    2   sep      1440   \n",
       "1975     -2.211965      2.109631      no   no   cellular    7   sep       314   \n",
       "\n",
       "      campaign  pdays  previous poutcome subscribed  \n",
       "255          2    271         2  failure         no  \n",
       "257          1     82         1  failure         no  \n",
       "831          2     -1         0      NaN         no  \n",
       "1223         1     91         5  success        yes  \n",
       "1281         1    683         6  failure        yes  \n",
       "1669         1     91         4  success        yes  \n",
       "1711         3     -1         0      NaN        yes  \n",
       "1801         1    231         1  success        yes  \n",
       "1868         1    458         1  failure        yes  \n",
       "1975         1     -1         0      NaN        yes  "
      ]
     },
     "execution_count": 15,
     "metadata": {},
     "output_type": "execute_result"
    }
   ],
   "source": [
    "data[data['job'].isna()]"
   ]
  },
  {
   "cell_type": "markdown",
   "metadata": {},
   "source": [
    "We notice that the `age` distribution for the samples with no `job` is spread between 28 and 77 years old.\n",
    "This age range might cover working age people as well as retirees. As a result we can't simply use a mean `job` category.\n",
    "We notice that all the samples in the above table have an `age` entry. We can use this information to generate a function that will return the most common job for a given age and use it to fill the missing jobs."
   ]
  },
  {
   "cell_type": "markdown",
   "metadata": {},
   "source": [
    "### Generate the most common job for a given age"
   ]
  },
  {
   "cell_type": "markdown",
   "metadata": {},
   "source": [
    "We need a helper function that will return the most common job for a given age. Later on we will use this function when **iterating over the dataframe** to replace the missing `job` cells."
   ]
  },
  {
   "cell_type": "code",
   "execution_count": 16,
   "metadata": {},
   "outputs": [],
   "source": [
    "def get_job_for_age(age):\n",
    "    return data['job'][data['age']==age].mode()[0]"
   ]
  },
  {
   "cell_type": "markdown",
   "metadata": {},
   "source": [
    "Test that the `get_job_for_age()` function works as expected."
   ]
  },
  {
   "cell_type": "code",
   "execution_count": 17,
   "metadata": {},
   "outputs": [
    {
     "name": "stdout",
     "output_type": "stream",
     "text": [
      "Mode job for people aged 70: retired\n",
      "Mode job for people aged 30: management\n",
      "Mode job for people aged 18: student\n"
     ]
    }
   ],
   "source": [
    "print(\"Mode job for people aged 70:\",get_job_for_age(77))\n",
    "print(\"Mode job for people aged 30:\",get_job_for_age(28))\n",
    "print(\"Mode job for people aged 18:\",get_job_for_age(18))"
   ]
  },
  {
   "cell_type": "markdown",
   "metadata": {},
   "source": [
    "### Filling in the job using the most common job with the given age."
   ]
  },
  {
   "cell_type": "code",
   "execution_count": 18,
   "metadata": {},
   "outputs": [],
   "source": [
    "data['job'] = data.job.apply(lambda x: x if not pd.isnull(x) else get_job_for_age(data['age']))\n"
   ]
  },
  {
   "cell_type": "markdown",
   "metadata": {},
   "source": [
    "Lets check that the operation was succeful by displaying the list of NAs in the job column"
   ]
  },
  {
   "cell_type": "code",
   "execution_count": 19,
   "metadata": {},
   "outputs": [
    {
     "data": {
      "text/html": [
       "<div>\n",
       "<style scoped>\n",
       "    .dataframe tbody tr th:only-of-type {\n",
       "        vertical-align: middle;\n",
       "    }\n",
       "\n",
       "    .dataframe tbody tr th {\n",
       "        vertical-align: top;\n",
       "    }\n",
       "\n",
       "    .dataframe thead th {\n",
       "        text-align: right;\n",
       "    }\n",
       "</style>\n",
       "<table border=\"1\" class=\"dataframe\">\n",
       "  <thead>\n",
       "    <tr style=\"text-align: right;\">\n",
       "      <th></th>\n",
       "      <th>Unnamed: 0</th>\n",
       "      <th>age</th>\n",
       "      <th>job</th>\n",
       "      <th>marital</th>\n",
       "      <th>education</th>\n",
       "      <th>default</th>\n",
       "      <th>balance</th>\n",
       "      <th>ratio_bal_ln</th>\n",
       "      <th>ratio_ln_inc</th>\n",
       "      <th>housing</th>\n",
       "      <th>loan</th>\n",
       "      <th>contact</th>\n",
       "      <th>day</th>\n",
       "      <th>month</th>\n",
       "      <th>duration</th>\n",
       "      <th>campaign</th>\n",
       "      <th>pdays</th>\n",
       "      <th>previous</th>\n",
       "      <th>poutcome</th>\n",
       "      <th>subscribed</th>\n",
       "    </tr>\n",
       "  </thead>\n",
       "  <tbody>\n",
       "  </tbody>\n",
       "</table>\n",
       "</div>"
      ],
      "text/plain": [
       "Empty DataFrame\n",
       "Columns: [Unnamed: 0, age, job, marital, education, default, balance, ratio_bal_ln, ratio_ln_inc, housing, loan, contact, day, month, duration, campaign, pdays, previous, poutcome, subscribed]\n",
       "Index: []"
      ]
     },
     "execution_count": 19,
     "metadata": {},
     "output_type": "execute_result"
    }
   ],
   "source": [
    "data[data['job'].isna()]"
   ]
  },
  {
   "cell_type": "markdown",
   "metadata": {},
   "source": [
    "## Education"
   ]
  },
  {
   "cell_type": "markdown",
   "metadata": {},
   "source": [
    "<span style=\"color:red\">TBD</span>"
   ]
  },
  {
   "cell_type": "markdown",
   "metadata": {},
   "source": [
    "## Contact"
   ]
  },
  {
   "cell_type": "markdown",
   "metadata": {},
   "source": [
    "My view would be to replace all the NaN with category of UNKNOWN. The advantage of doing this is that UNKNOWN would be accounted for when running the data['contact'].value_counts() "
   ]
  },
  {
   "cell_type": "markdown",
   "metadata": {},
   "source": [
    "<span style=\"color:red\">TBD</span>"
   ]
  },
  {
   "cell_type": "markdown",
   "metadata": {},
   "source": [
    "## Poutcome"
   ]
  },
  {
   "cell_type": "markdown",
   "metadata": {},
   "source": [
    "My view would be to replace all the NaN with category of UNKNOWN. The advantage of doing this is that UNKNOWN would be accounted for when running the data['poutcome'].value_counts() "
   ]
  },
  {
   "cell_type": "markdown",
   "metadata": {},
   "source": [
    "<span style=\"color:red\">TBD</span>"
   ]
  },
  {
   "cell_type": "markdown",
   "metadata": {},
   "source": [
    "### Sanity check on the type of the features.\n",
    "While working on this etivity I ran a buggy cell that introduced floats instead of objects in a column. Here we check this doesn't happen again. \n",
    "**Remove before submitting!!!**"
   ]
  },
  {
   "cell_type": "code",
   "execution_count": 20,
   "metadata": {},
   "outputs": [
    {
     "data": {
      "text/plain": [
       "Unnamed: 0        int64\n",
       "age             float64\n",
       "job              object\n",
       "marital          object\n",
       "education        object\n",
       "default          object\n",
       "balance           int64\n",
       "ratio_bal_ln    float64\n",
       "ratio_ln_inc    float64\n",
       "housing          object\n",
       "loan             object\n",
       "contact          object\n",
       "day               int64\n",
       "month            object\n",
       "duration          int64\n",
       "campaign          int64\n",
       "pdays             int64\n",
       "previous          int64\n",
       "poutcome         object\n",
       "subscribed       object\n",
       "dtype: object"
      ]
     },
     "execution_count": 20,
     "metadata": {},
     "output_type": "execute_result"
    }
   ],
   "source": [
    "data.dtypes"
   ]
  },
  {
   "cell_type": "markdown",
   "metadata": {},
   "source": [
    "# Task 2 (CS5062)\n",
    "\n",
    "*Decide on the treatment of outliers in the bank data set. If appropriate, remove examples with extreme or unexpected attribute values, apply log transformation to numeric attributes with extreme values. Use other methods, if appropriate, to treat outliers as well. In your notebook, explain shortly (max 250 words) the decisions you have taken.*"
   ]
  },
  {
   "cell_type": "markdown",
   "metadata": {},
   "source": [
    "## Numerical outliers"
   ]
  },
  {
   "cell_type": "markdown",
   "metadata": {},
   "source": [
    "### Boxplots"
   ]
  },
  {
   "cell_type": "markdown",
   "metadata": {},
   "source": [
    "Let's start by generating an array of boxplot showing the outliers for each numerica value in the data set."
   ]
  },
  {
   "cell_type": "code",
   "execution_count": 21,
   "metadata": {},
   "outputs": [
    {
     "name": "stdout",
     "output_type": "stream",
     "text": [
      "['age', 'balance', 'ratio_bal_ln', 'ratio_ln_inc', 'day', 'duration', 'campaign', 'pdays', 'previous']\n"
     ]
    }
   ],
   "source": [
    "numeric_features = data.select_dtypes(include=[np.number]).columns.tolist()\n",
    "numeric_features.remove('Unnamed: 0')\n",
    "print(numeric_features)"
   ]
  },
  {
   "cell_type": "code",
   "execution_count": 22,
   "metadata": {},
   "outputs": [
    {
     "data": {
      "image/png": "[encoded data removed]",
      "text/plain": [
       "<Figure size 1080x1440 with 9 Axes>"
      ]
     },
     "metadata": {},
     "output_type": "display_data"
    }
   ],
   "source": [
    "fig = plt.figure(figsize=(15,20))\n",
    "\n",
    "for counter, feature in enumerate(numeric_features):\n",
    "    counter +=1\n",
    "    ax1 = fig.add_subplot(5, 5, counter)\n",
    "    ax1.set_title(\"Boxplot of {}\".format(feature))\n",
    "    ax1.set_ylabel('Distribution')\n",
    "    data.boxplot(column=feature, figsize=(5,25), patch_artist = True)\n",
    "plt.tight_layout()\n"
   ]
  },
  {
   "cell_type": "markdown",
   "metadata": {},
   "source": [
    "We can see that nearly all the numerical values have outliers as shown in the table below.\n",
    "\n",
    "| Feature name | observations  | action |\n",
    "|--------------|---------------|------|\n",
    "|age           | Some outliers | These outliers are well spread out and appear to be correct. The age of a customer is an important factor to consider for a bank. We keep this information as is for now as changing it in any way would render it less readable. |\n",
    "|balance       | One outlier skewing the graph. | value assumed correct. Use log function less the impact of the outliers|\n",
    "|ratio_bal_ln  | Contains low positive and negative values which seems correct | Since it is used by the prediction algorithm we could **normalize** it to help with the learning. |\n",
    "|ratio_ln_inc  | Contains low positive and negative values which seems correct | Since it is used by the prediction algorithm we could **normalize** it to help with the learning.|\n",
    "|day           | No outliers | No action|\n",
    "|duration      | Many outliers | No plan to use this feature for prediction. Ignore|\n",
    "|campaign      | Outliers detected | No plan to use this feature for prediction. Ignore|\n",
    "|pdays         | Outliers detected | No plan to use this feature for prediction. Ignore|\n",
    "|previous      | Outliers detected | No plan to use this feature for prediction. Ignore|\n"
   ]
  },
  {
   "cell_type": "markdown",
   "metadata": {},
   "source": [
    "### Histograms"
   ]
  },
  {
   "cell_type": "markdown",
   "metadata": {},
   "source": [
    "Another approach for identifying outliers is to use histograms as shown below. Let's see how it compares to the array of boxplots we have just created."
   ]
  },
  {
   "cell_type": "code",
   "execution_count": 23,
   "metadata": {},
   "outputs": [
    {
     "data": {
      "image/png": "[encoded data removed]",
      "text/plain": [
       "<Figure size 1080x720 with 9 Axes>"
      ]
     },
     "metadata": {},
     "output_type": "display_data"
    }
   ],
   "source": [
    "fig = plt.figure(figsize=(15,10))\n",
    "\n",
    "for counter, feature in enumerate(numeric_features):\n",
    "    # Plot Age\n",
    "    counter +=1\n",
    "    ax1 = fig.add_subplot(5, 2, counter)\n",
    "    ax1.set_title(\"Histogram of {}\".format(feature))\n",
    "    ax1.set_xlabel(feature)\n",
    "    ax1.set_ylabel('Number of Customers')\n",
    "    data[feature].hist(bins=20)\n",
    "plt.tight_layout()"
   ]
  },
  {
   "cell_type": "markdown",
   "metadata": {},
   "source": [
    "We can see from the above plot that there seem to be an outliner in the `balance` as the **x axis is streched** towards the 80000 value. There is clearly an outlier but, since this is a bank dataset, we expect the balance to be correct and we should not remove this value. Instead, to faciliate the work of any Machine Learning algorithm, we will scale the `balance` down using the log function."
   ]
  },
  {
   "cell_type": "markdown",
   "metadata": {},
   "source": [
    "We notice that the array of **histograms is less expressive** that the box plots when it comes to highlight outliers. For some of the graphs, a streched X axis is the only indication that we have outliers as their **frequency is too low** to be represented as a bar. However, histograms are perfect for gauging the distribution of a feature and "
   ]
  },
  {
   "cell_type": "markdown",
   "metadata": {},
   "source": [
    "### Dealing with outliers"
   ]
  },
  {
   "cell_type": "markdown",
   "metadata": {},
   "source": [
    "#### Dealing with Age outliers"
   ]
  },
  {
   "cell_type": "markdown",
   "metadata": {},
   "source": [
    "<span style=\"color:red\">TBD</span>"
   ]
  },
  {
   "cell_type": "markdown",
   "metadata": {},
   "source": [
    "#### Dealing with Balance outliers"
   ]
  },
  {
   "cell_type": "code",
   "execution_count": 24,
   "metadata": {},
   "outputs": [
    {
     "name": "stderr",
     "output_type": "stream",
     "text": [
      "/home/michel/anaconda3/lib/python3.6/site-packages/ipykernel_launcher.py:2: RuntimeWarning: invalid value encountered in log\n",
      "  \n"
     ]
    }
   ],
   "source": [
    "# Use a log transformation to decrease the impact of extreme values in column LoanAmount\n",
    "data['balance_log'] = np.log(data['balance'].replace(0, np.nan))"
   ]
  },
  {
   "cell_type": "code",
   "execution_count": 25,
   "metadata": {},
   "outputs": [],
   "source": [
    "# Replace the NaN with zeros\n",
    "data['balance_log'] = data['balance_log'].replace(np.nan, 0)\n",
    "\n",
    "# Alternative way to replace values:\n",
    "# data['balance_log'].fillna(0, inplace=True)"
   ]
  },
  {
   "cell_type": "code",
   "execution_count": 26,
   "metadata": {},
   "outputs": [
    {
     "data": {
      "text/plain": [
       "Text(0.5,1,'Number of customers by balance')"
      ]
     },
     "execution_count": 26,
     "metadata": {},
     "output_type": "execute_result"
    },
    {
     "data": {
      "image/png": "[encoded data removed]",
      "text/plain": [
       "<Figure size 432x288 with 1 Axes>"
      ]
     },
     "metadata": {},
     "output_type": "display_data"
    }
   ],
   "source": [
    "data['balance_log'].hist(bins=50)\n",
    "plt.xlabel('Customer Log(balance)')\n",
    "plt.ylabel('Number of Customers')\n",
    "plt.title('Number of customers by balance')"
   ]
  },
  {
   "cell_type": "markdown",
   "metadata": {},
   "source": [
    "We can see that a lot of customers have a balance of zero."
   ]
  },
  {
   "cell_type": "markdown",
   "metadata": {},
   "source": [
    "#### Dealing with ratio_bal_ln outliers"
   ]
  },
  {
   "cell_type": "markdown",
   "metadata": {},
   "source": [
    "<span style=\"color:red\">TBD</span>"
   ]
  },
  {
   "cell_type": "markdown",
   "metadata": {},
   "source": [
    "#### Dealing with ratio_ln_inc outliers"
   ]
  },
  {
   "cell_type": "markdown",
   "metadata": {},
   "source": [
    "<span style=\"color:red\">TBD</span>"
   ]
  },
  {
   "cell_type": "markdown",
   "metadata": {},
   "source": [
    "## Categorical outliers"
   ]
  },
  {
   "cell_type": "markdown",
   "metadata": {},
   "source": [
    "Also I didn't find any litterature on the subject of categorical outliers, I am guessing they can happen and can be the result of a typo for example. Let's see if we can find some."
   ]
  },
  {
   "cell_type": "code",
   "execution_count": 27,
   "metadata": {},
   "outputs": [
    {
     "data": {
      "text/html": [
       "<div>\n",
       "<style scoped>\n",
       "    .dataframe tbody tr th:only-of-type {\n",
       "        vertical-align: middle;\n",
       "    }\n",
       "\n",
       "    .dataframe tbody tr th {\n",
       "        vertical-align: top;\n",
       "    }\n",
       "\n",
       "    .dataframe thead th {\n",
       "        text-align: right;\n",
       "    }\n",
       "</style>\n",
       "<table border=\"1\" class=\"dataframe\">\n",
       "  <thead>\n",
       "    <tr style=\"text-align: right;\">\n",
       "      <th></th>\n",
       "      <th>job</th>\n",
       "      <th>marital</th>\n",
       "      <th>education</th>\n",
       "      <th>default</th>\n",
       "      <th>housing</th>\n",
       "      <th>loan</th>\n",
       "      <th>contact</th>\n",
       "      <th>month</th>\n",
       "      <th>poutcome</th>\n",
       "      <th>subscribed</th>\n",
       "    </tr>\n",
       "  </thead>\n",
       "  <tbody>\n",
       "    <tr>\n",
       "      <th>count</th>\n",
       "      <td>2000</td>\n",
       "      <td>2000</td>\n",
       "      <td>1896</td>\n",
       "      <td>2000</td>\n",
       "      <td>2000</td>\n",
       "      <td>2000</td>\n",
       "      <td>1809</td>\n",
       "      <td>2000</td>\n",
       "      <td>1546</td>\n",
       "      <td>2000</td>\n",
       "    </tr>\n",
       "    <tr>\n",
       "      <th>unique</th>\n",
       "      <td>11</td>\n",
       "      <td>3</td>\n",
       "      <td>3</td>\n",
       "      <td>2</td>\n",
       "      <td>2</td>\n",
       "      <td>2</td>\n",
       "      <td>2</td>\n",
       "      <td>12</td>\n",
       "      <td>3</td>\n",
       "      <td>2</td>\n",
       "    </tr>\n",
       "    <tr>\n",
       "      <th>top</th>\n",
       "      <td>management</td>\n",
       "      <td>married</td>\n",
       "      <td>secondary</td>\n",
       "      <td>no</td>\n",
       "      <td>no</td>\n",
       "      <td>no</td>\n",
       "      <td>cellular</td>\n",
       "      <td>feb</td>\n",
       "      <td>failure</td>\n",
       "      <td>no</td>\n",
       "    </tr>\n",
       "    <tr>\n",
       "      <th>freq</th>\n",
       "      <td>471</td>\n",
       "      <td>1111</td>\n",
       "      <td>995</td>\n",
       "      <td>1985</td>\n",
       "      <td>1037</td>\n",
       "      <td>1750</td>\n",
       "      <td>1663</td>\n",
       "      <td>404</td>\n",
       "      <td>955</td>\n",
       "      <td>1000</td>\n",
       "    </tr>\n",
       "  </tbody>\n",
       "</table>\n",
       "</div>"
      ],
      "text/plain": [
       "               job  marital  education default housing  loan   contact month  \\\n",
       "count         2000     2000       1896    2000    2000  2000      1809  2000   \n",
       "unique          11        3          3       2       2     2         2    12   \n",
       "top     management  married  secondary      no      no    no  cellular   feb   \n",
       "freq           471     1111        995    1985    1037  1750      1663   404   \n",
       "\n",
       "       poutcome subscribed  \n",
       "count      1546       2000  \n",
       "unique        3          2  \n",
       "top     failure         no  \n",
       "freq        955       1000  "
      ]
     },
     "execution_count": 27,
     "metadata": {},
     "output_type": "execute_result"
    }
   ],
   "source": [
    "data.describe(exclude=[np.number])"
   ]
  },
  {
   "cell_type": "code",
   "execution_count": 28,
   "metadata": {},
   "outputs": [
    {
     "name": "stdout",
     "output_type": "stream",
     "text": [
      "['job', 'marital', 'education', 'default', 'housing', 'loan', 'contact', 'month', 'poutcome', 'subscribed']\n",
      "\n",
      "job:\n",
      "management       471\n",
      "technician       348\n",
      "blue-collar      298\n",
      "admin.           247\n",
      "services         165\n",
      "retired          162\n",
      "student           96\n",
      "unemployed        69\n",
      "self-employed     64\n",
      "entrepreneur      45\n",
      "housemaid         35\n",
      "Name: job, dtype: int64\n",
      "\n",
      "marital:\n",
      "married     1111\n",
      "single       674\n",
      "divorced     215\n",
      "Name: marital, dtype: int64\n",
      "\n",
      "education:\n",
      "secondary    995\n",
      "tertiary     684\n",
      "primary      217\n",
      "Name: education, dtype: int64\n",
      "\n",
      "default:\n",
      "no     1985\n",
      "yes      15\n",
      "Name: default, dtype: int64\n",
      "\n",
      "housing:\n",
      "no     1037\n",
      "yes     963\n",
      "Name: housing, dtype: int64\n",
      "\n",
      "loan:\n",
      "no     1750\n",
      "yes     250\n",
      "Name: loan, dtype: int64\n",
      "\n",
      "contact:\n",
      "cellular     1663\n",
      "telephone     146\n",
      "Name: contact, dtype: int64\n",
      "\n",
      "month:\n",
      "feb    404\n",
      "may    333\n",
      "jan    245\n",
      "apr    205\n",
      "jul    167\n",
      "aug    136\n",
      "sep    134\n",
      "jun    104\n",
      "oct     93\n",
      "mar     70\n",
      "nov     68\n",
      "dec     41\n",
      "Name: month, dtype: int64\n",
      "\n",
      "poutcome:\n",
      "failure    955\n",
      "success    444\n",
      "other      147\n",
      "Name: poutcome, dtype: int64\n",
      "\n",
      "subscribed:\n",
      "no     1000\n",
      "yes    1000\n",
      "Name: subscribed, dtype: int64\n"
     ]
    }
   ],
   "source": [
    "categories = data.select_dtypes(exclude=[np.number]).columns.tolist()\n",
    "print(categories)\n",
    "for category in categories:\n",
    "    print(\"\\n{}:\".format(category))\n",
    "    print(data[category].value_counts())"
   ]
  },
  {
   "cell_type": "markdown",
   "metadata": {},
   "source": [
    "**No outliers** were detected in the categorical features. **No action required**."
   ]
  },
  {
   "cell_type": "markdown",
   "metadata": {},
   "source": [
    "# Task 3 (CS5062)\n",
    "\n",
    "*Suggest the creation of at least one new feature from the existing ones and justify the usefulness of your choice within the context of the 2-class classification problem you have defined in E-tivity 1.*"
   ]
  },
  {
   "cell_type": "code",
   "execution_count": 29,
   "metadata": {},
   "outputs": [
    {
     "data": {
      "text/html": [
       "<div>\n",
       "<style scoped>\n",
       "    .dataframe tbody tr th:only-of-type {\n",
       "        vertical-align: middle;\n",
       "    }\n",
       "\n",
       "    .dataframe tbody tr th {\n",
       "        vertical-align: top;\n",
       "    }\n",
       "\n",
       "    .dataframe thead th {\n",
       "        text-align: right;\n",
       "    }\n",
       "</style>\n",
       "<table border=\"1\" class=\"dataframe\">\n",
       "  <thead>\n",
       "    <tr style=\"text-align: right;\">\n",
       "      <th></th>\n",
       "      <th>Unnamed: 0</th>\n",
       "      <th>age</th>\n",
       "      <th>job</th>\n",
       "      <th>marital</th>\n",
       "      <th>education</th>\n",
       "      <th>default</th>\n",
       "      <th>balance</th>\n",
       "      <th>ratio_bal_ln</th>\n",
       "      <th>ratio_ln_inc</th>\n",
       "      <th>housing</th>\n",
       "      <th>...</th>\n",
       "      <th>contact</th>\n",
       "      <th>day</th>\n",
       "      <th>month</th>\n",
       "      <th>duration</th>\n",
       "      <th>campaign</th>\n",
       "      <th>pdays</th>\n",
       "      <th>previous</th>\n",
       "      <th>poutcome</th>\n",
       "      <th>subscribed</th>\n",
       "      <th>balance_log</th>\n",
       "    </tr>\n",
       "  </thead>\n",
       "  <tbody>\n",
       "    <tr>\n",
       "      <th>0</th>\n",
       "      <td>0</td>\n",
       "      <td>32.0</td>\n",
       "      <td>technician</td>\n",
       "      <td>single</td>\n",
       "      <td>tertiary</td>\n",
       "      <td>no</td>\n",
       "      <td>392</td>\n",
       "      <td>1.300134</td>\n",
       "      <td>0.473895</td>\n",
       "      <td>yes</td>\n",
       "      <td>...</td>\n",
       "      <td>cellular</td>\n",
       "      <td>1</td>\n",
       "      <td>apr</td>\n",
       "      <td>957</td>\n",
       "      <td>2</td>\n",
       "      <td>131</td>\n",
       "      <td>2</td>\n",
       "      <td>failure</td>\n",
       "      <td>no</td>\n",
       "      <td>5.971262</td>\n",
       "    </tr>\n",
       "    <tr>\n",
       "      <th>1</th>\n",
       "      <td>1</td>\n",
       "      <td>39.0</td>\n",
       "      <td>technician</td>\n",
       "      <td>divorced</td>\n",
       "      <td>secondary</td>\n",
       "      <td>no</td>\n",
       "      <td>688</td>\n",
       "      <td>-0.193701</td>\n",
       "      <td>0.237021</td>\n",
       "      <td>yes</td>\n",
       "      <td>...</td>\n",
       "      <td>cellular</td>\n",
       "      <td>1</td>\n",
       "      <td>apr</td>\n",
       "      <td>233</td>\n",
       "      <td>2</td>\n",
       "      <td>133</td>\n",
       "      <td>1</td>\n",
       "      <td>failure</td>\n",
       "      <td>no</td>\n",
       "      <td>6.533789</td>\n",
       "    </tr>\n",
       "    <tr>\n",
       "      <th>2</th>\n",
       "      <td>2</td>\n",
       "      <td>59.0</td>\n",
       "      <td>retired</td>\n",
       "      <td>married</td>\n",
       "      <td>secondary</td>\n",
       "      <td>no</td>\n",
       "      <td>1035</td>\n",
       "      <td>1.334266</td>\n",
       "      <td>0.121981</td>\n",
       "      <td>yes</td>\n",
       "      <td>...</td>\n",
       "      <td>cellular</td>\n",
       "      <td>1</td>\n",
       "      <td>apr</td>\n",
       "      <td>126</td>\n",
       "      <td>2</td>\n",
       "      <td>239</td>\n",
       "      <td>1</td>\n",
       "      <td>failure</td>\n",
       "      <td>no</td>\n",
       "      <td>6.942157</td>\n",
       "    </tr>\n",
       "    <tr>\n",
       "      <th>3</th>\n",
       "      <td>3</td>\n",
       "      <td>47.0</td>\n",
       "      <td>blue-collar</td>\n",
       "      <td>married</td>\n",
       "      <td>secondary</td>\n",
       "      <td>no</td>\n",
       "      <td>398</td>\n",
       "      <td>0.362286</td>\n",
       "      <td>1.251328</td>\n",
       "      <td>yes</td>\n",
       "      <td>...</td>\n",
       "      <td>cellular</td>\n",
       "      <td>1</td>\n",
       "      <td>apr</td>\n",
       "      <td>274</td>\n",
       "      <td>1</td>\n",
       "      <td>238</td>\n",
       "      <td>2</td>\n",
       "      <td>failure</td>\n",
       "      <td>no</td>\n",
       "      <td>5.986452</td>\n",
       "    </tr>\n",
       "    <tr>\n",
       "      <th>4</th>\n",
       "      <td>4</td>\n",
       "      <td>54.0</td>\n",
       "      <td>retired</td>\n",
       "      <td>married</td>\n",
       "      <td>secondary</td>\n",
       "      <td>no</td>\n",
       "      <td>1004</td>\n",
       "      <td>0.072075</td>\n",
       "      <td>-0.533738</td>\n",
       "      <td>yes</td>\n",
       "      <td>...</td>\n",
       "      <td>cellular</td>\n",
       "      <td>1</td>\n",
       "      <td>apr</td>\n",
       "      <td>479</td>\n",
       "      <td>1</td>\n",
       "      <td>307</td>\n",
       "      <td>1</td>\n",
       "      <td>failure</td>\n",
       "      <td>no</td>\n",
       "      <td>6.911747</td>\n",
       "    </tr>\n",
       "  </tbody>\n",
       "</table>\n",
       "<p>5 rows × 21 columns</p>\n",
       "</div>"
      ],
      "text/plain": [
       "   Unnamed: 0   age          job   marital  education default  balance  \\\n",
       "0           0  32.0   technician    single   tertiary      no      392   \n",
       "1           1  39.0   technician  divorced  secondary      no      688   \n",
       "2           2  59.0      retired   married  secondary      no     1035   \n",
       "3           3  47.0  blue-collar   married  secondary      no      398   \n",
       "4           4  54.0      retired   married  secondary      no     1004   \n",
       "\n",
       "   ratio_bal_ln  ratio_ln_inc housing     ...       contact day  month  \\\n",
       "0      1.300134      0.473895     yes     ...      cellular   1    apr   \n",
       "1     -0.193701      0.237021     yes     ...      cellular   1    apr   \n",
       "2      1.334266      0.121981     yes     ...      cellular   1    apr   \n",
       "3      0.362286      1.251328     yes     ...      cellular   1    apr   \n",
       "4      0.072075     -0.533738     yes     ...      cellular   1    apr   \n",
       "\n",
       "  duration  campaign  pdays  previous  poutcome subscribed balance_log  \n",
       "0      957         2    131         2   failure         no    5.971262  \n",
       "1      233         2    133         1   failure         no    6.533789  \n",
       "2      126         2    239         1   failure         no    6.942157  \n",
       "3      274         1    238         2   failure         no    5.986452  \n",
       "4      479         1    307         1   failure         no    6.911747  \n",
       "\n",
       "[5 rows x 21 columns]"
      ]
     },
     "execution_count": 29,
     "metadata": {},
     "output_type": "execute_result"
    }
   ],
   "source": [
    "data.head()"
   ]
  },
  {
   "cell_type": "markdown",
   "metadata": {},
   "source": [
    "I would create a new feature that summarizes the **financial health** of a customer.\n",
    "  * This new measure would help the bank decide if they should persue contacting a customer or not.\n",
    "  * It would be based on:\n",
    "    * age\n",
    "    * job\n",
    "    * marital\n",
    "    * education\n",
    "    * default\n",
    "    * balance\n",
    "    * ratio_bal_ln\n",
    "    * ratio_ln_inc\n",
    "    * housing\n",
    "  * It could be calculated by converting the categorical values to numerical and running PCA. Therefore it would be a numeric value.\n",
    "\n",
    "<span style=\"color:red\">Not sure of the feature described below.</span>\n",
    "\n",
    "I would create another feature that would define if a customer is ready for a \"marketing campaign\". It would return *yes* if the customer has not been contacted in the last 6 months, and has has a `contact` number.\n",
    "  * It would be based on:\n",
    "    * contact\n",
    "    * month\n",
    "  * It would be a 2D categorical value:\n",
    "    * yes\n",
    "    * no"
   ]
  },
  {
   "cell_type": "markdown",
   "metadata": {},
   "source": [
    "# Task 4 (CE6002)\n",
    "\n",
    "*Using the dataset you prepared, perform a classification on the data using scikitlearn’s logistic regression.*\n",
    "\n",
    "*Generate plots of the approximate probability P[Ein-Eout|>e]. You can use the exact same approach as in E-tivity 1. In the same figure, plot the Hoeffding bound and the VC bound and check whether or not either bound is exceeded (indicate this clearly in a markdown cell).*\n"
   ]
  },
  {
   "cell_type": "markdown",
   "metadata": {},
   "source": [
    "## Logistic regression"
   ]
  },
  {
   "cell_type": "markdown",
   "metadata": {},
   "source": [
    "### Prepare the data\n",
    "Steps followed to prepare the data for logistic regression:\n",
    "  * Extract the features\n",
    "  * Extract the target\n",
    "  * Shuffle the data and split between training and testing data\n",
    "  * Fit the model on the training data set\n"
   ]
  },
  {
   "cell_type": "code",
   "execution_count": 30,
   "metadata": {},
   "outputs": [
    {
     "name": "stdout",
     "output_type": "stream",
     "text": [
      "X_train.shape:(1600, 2), y_train.shape:(1600,)\n",
      "X_test.shape :(400, 2), y_test.shape :(400,)\n"
     ]
    }
   ],
   "source": [
    "# extract features\n",
    "feature_cols = ['ratio_bal_ln', 'ratio_ln_inc']\n",
    "X = data.loc[:, feature_cols].values\n",
    "\n",
    "# extract target\n",
    "data['subscribed_code'] = data['subscribed'].map({'yes': 1, 'no': -1})\n",
    "y = data.subscribed_code\n",
    "\n",
    "# shuffle and split\n",
    "X_shuffled, y_shuffled = shuffle(X, y, random_state=0)\n",
    "X_train, X_test, y_train, y_test = train_test_split(X_shuffled, y_shuffled, test_size=0.2)\n",
    "print (\"X_train.shape:{}, y_train.shape:{}\".format(X_train.shape, y_train.shape))\n",
    "print (\"X_test.shape :{}, y_test.shape :{}\".format(X_test.shape, y_test.shape))\n"
   ]
  },
  {
   "cell_type": "markdown",
   "metadata": {},
   "source": [
    "### Fit the model\n",
    "Use testing data to fit the logistic regression"
   ]
  },
  {
   "cell_type": "code",
   "execution_count": 31,
   "metadata": {},
   "outputs": [
    {
     "data": {
      "text/plain": [
       "LogisticRegression(C=1.0, class_weight=None, dual=False, fit_intercept=True,\n",
       "          intercept_scaling=1, max_iter=100, multi_class='ovr', n_jobs=1,\n",
       "          penalty='l2', random_state=None, solver='liblinear', tol=0.0001,\n",
       "          verbose=0, warm_start=False)"
      ]
     },
     "execution_count": 31,
     "metadata": {},
     "output_type": "execute_result"
    }
   ],
   "source": [
    "logistic_reg = LogisticRegression()\n",
    "logistic_reg.fit(X_train, y_train)"
   ]
  },
  {
   "cell_type": "markdown",
   "metadata": {},
   "source": [
    "### Test the model\n",
    "Use training data to test the model"
   ]
  },
  {
   "cell_type": "code",
   "execution_count": 32,
   "metadata": {},
   "outputs": [],
   "source": [
    "prediction = logistic_reg.predict(X_test)\n",
    "#print(prediction)\n",
    "\n",
    "predict_proba = logistic_reg.predict_proba(X_test) \n",
    "#print(predict_proba)\n"
   ]
  },
  {
   "cell_type": "markdown",
   "metadata": {},
   "source": [
    "### Calculate Ein and Eout\n",
    "\n",
    "<span style=\"color:red\">Here we are calculating Ein and Eout for the Logistic Regression algorithm. **Need to clarify if this is ok** or if we should use the same technic as in Etivity 1 to evaluate them?</span>\n",
    "\n",
    "\n",
    "According to the documentation: \n",
    "> score(X, y[, sample_weight]) \t\n",
    "> Returns the mean accuracy on the given test data and labels.\n",
    "\n",
    "Calling `score()` on both the training data set and testing data set should give us the **Ein** and **Eout** we are looking for plotting the VC bounds\n",
    "\n",
    "Documentation link: https://scikit-learn.org/stable/modules/generated/sklearn.linear_model.LogisticRegression.html"
   ]
  },
  {
   "cell_type": "code",
   "execution_count": 33,
   "metadata": {},
   "outputs": [
    {
     "name": "stdout",
     "output_type": "stream",
     "text": [
      "Ein: 0.775\n",
      "Eout: 0.815\n"
     ]
    }
   ],
   "source": [
    "Ein = logistic_reg.score(X_train, y_train)\n",
    "print(\"Ein:\", Ein)\n",
    "\n",
    "Eout = logistic_reg.score(X_test, y_test)\n",
    "print(\"Eout:\", Eout)"
   ]
  },
  {
   "cell_type": "markdown",
   "metadata": {},
   "source": [
    "## Plot the approximate probability P[Ein-Eout|>e] with Hoeffding and VC bounds\n"
   ]
  },
  {
   "cell_type": "code",
   "execution_count": 34,
   "metadata": {},
   "outputs": [],
   "source": [
    "# Calculate probabily of epsilon\n",
    "# Lets reuse some of the code we created for Etivity 1\n",
    "def calc_prob_epsilon(M, Eins, Eouts, epsilons):\n",
    "    prob_epsilon=[]\n",
    "    for e in epsilons:   \n",
    "        counter = 0\n",
    "        for i in range(M):\n",
    "            if abs(Eins[i] - Eouts[i])>e:\n",
    "                   counter +=1\n",
    "        prob_epsilon.append(counter/M)           \n",
    "    return prob_epsilon"
   ]
  },
  {
   "cell_type": "code",
   "execution_count": 35,
   "metadata": {},
   "outputs": [
    {
     "name": "stdout",
     "output_type": "stream",
     "text": [
      "epsilon proba. dist: [1.0, 1.0, 1.0, 1.0, 0.0, 0.0, 0.0, 0.0, 0.0, 0.0, 0.0, 0.0, 0.0, 0.0, 0.0, 0.0, 0.0, 0.0, 0.0, 0.0, 0.0, 0.0, 0.0, 0.0, 0.0, 0.0, 0.0, 0.0, 0.0, 0.0, 0.0, 0.0, 0.0, 0.0, 0.0, 0.0, 0.0, 0.0, 0.0, 0.0, 0.0, 0.0, 0.0, 0.0, 0.0, 0.0, 0.0, 0.0, 0.0, 0.0, 0.0, 0.0, 0.0, 0.0, 0.0, 0.0, 0.0, 0.0, 0.0, 0.0, 0.0, 0.0, 0.0, 0.0, 0.0, 0.0, 0.0, 0.0, 0.0, 0.0, 0.0, 0.0, 0.0, 0.0, 0.0, 0.0, 0.0, 0.0, 0.0, 0.0, 0.0, 0.0, 0.0, 0.0, 0.0, 0.0, 0.0, 0.0, 0.0, 0.0, 0.0, 0.0, 0.0, 0.0, 0.0, 0.0, 0.0, 0.0, 0.0, 0.0]\n"
     ]
    }
   ],
   "source": [
    "epsilons = np.arange(0, 1, 0.01)\n",
    "Eins = [Ein]\n",
    "Eouts = [Eout]\n",
    "prob_epsilon = calc_prob_epsilon(1, Eins, Eouts, epsilons)\n",
    "\n",
    "print(\"epsilon proba. dist:\", prob_epsilon)"
   ]
  },
  {
   "cell_type": "markdown",
   "metadata": {},
   "source": [
    "<span style=\"color:red\">How do we plot the VC dimension? I am thinking that since the Logistic Regression is two dimensional, the same VC dimension as the percepton should apply. **Is this correct???**</span>"
   ]
  },
  {
   "cell_type": "code",
   "execution_count": 36,
   "metadata": {},
   "outputs": [
    {
     "data": {
      "text/plain": [
       "<function matplotlib.pyplot.show(*args, **kw)>"
      ]
     },
     "execution_count": 36,
     "metadata": {},
     "output_type": "execute_result"
    },
    {
     "data": {
      "image/png": "[encoded data removed]",
      "text/plain": [
       "<Figure size 432x288 with 1 Axes>"
      ]
     },
     "metadata": {},
     "output_type": "display_data"
    }
   ],
   "source": [
    "# initialise some variables\n",
    "epsilons = np.arange(0, 1, 0.01)\n",
    "N=2000\n",
    "\n",
    "plt.figure()\n",
    "plt.plot(epsilons, prob_epsilon, label='P[|Ein-Eout|>e]')\n",
    "plt.plot(epsilons, [2*math.exp(-2*e**2*N) for e in epsilons], label='Hoeffding bound')\n",
    "plt.xlabel('epsilon')\n",
    "plt.ylabel('p[(Ein-Eout)>epsilon]')\n",
    "plt.title('prob_epsilon with Heofdding bounds')\n",
    "plt.legend(loc='upper right')\n",
    "plt.show"
   ]
  },
  {
   "cell_type": "markdown",
   "metadata": {},
   "source": [
    "# Task 5 (CE6002)\n",
    "\n",
    "*Using the dataset, make learning curves for logistic regression and two other machine learning algorithms of your choosing using scikitlearn’s learning_curve functionality. Choose one algorithm with low complexity in terms of VC dimension and one algorithm with high complexity.\n",
    "\n",
    "Comment on what information you can derive from the learning curves  (in a markdown cell) and how this information differs between simple and complex machine learning algorithms.*"
   ]
  },
  {
   "cell_type": "markdown",
   "metadata": {},
   "source": [
    "**NOTES**:\n",
    "important reading for plotting the learning curve:\n",
    "https://scikit-learn.org/stable/auto_examples/model_selection/plot_learning_curve.html"
   ]
  },
  {
   "cell_type": "code",
   "execution_count": 37,
   "metadata": {},
   "outputs": [
    {
     "name": "stdout",
     "output_type": "stream",
     "text": [
      "(400, 2)\n",
      "(400,)\n"
     ]
    },
    {
     "ename": "ValueError",
     "evalue": "operands could not be broadcast together with shapes (400,) (1,2) ",
     "output_type": "error",
     "traceback": [
      "\u001b[0;31m---------------------------------------------------------------------------\u001b[0m",
      "\u001b[0;31mValueError\u001b[0m                                Traceback (most recent call last)",
      "\u001b[0;32m<ipython-input-37-d17bc2818d3a>\u001b[0m in \u001b[0;36m<module>\u001b[0;34m()\u001b[0m\n\u001b[1;32m     12\u001b[0m \u001b[0;34m\u001b[0m\u001b[0m\n\u001b[1;32m     13\u001b[0m \u001b[0;34m\u001b[0m\u001b[0m\n\u001b[0;32m---> 14\u001b[0;31m \u001b[0mloss\u001b[0m \u001b[0;34m=\u001b[0m \u001b[0mmodel\u001b[0m\u001b[0;34m(\u001b[0m\u001b[0mX_test\u001b[0m\u001b[0;34m[\u001b[0m\u001b[0;34m:\u001b[0m\u001b[0;34m,\u001b[0m\u001b[0;36m0\u001b[0m\u001b[0;34m]\u001b[0m \u001b[0;34m*\u001b[0m \u001b[0mlogistic_reg\u001b[0m\u001b[0;34m.\u001b[0m\u001b[0mcoef_\u001b[0m \u001b[0;34m+\u001b[0m \u001b[0mlogistic_reg\u001b[0m\u001b[0;34m.\u001b[0m\u001b[0mintercept_\u001b[0m\u001b[0;34m)\u001b[0m\u001b[0;34m.\u001b[0m\u001b[0mravel\u001b[0m\u001b[0;34m(\u001b[0m\u001b[0;34m)\u001b[0m\u001b[0;34m\u001b[0m\u001b[0m\n\u001b[0m\u001b[1;32m     15\u001b[0m \u001b[0mplt\u001b[0m\u001b[0;34m.\u001b[0m\u001b[0mplot\u001b[0m\u001b[0;34m(\u001b[0m\u001b[0mX_test\u001b[0m\u001b[0;34m[\u001b[0m\u001b[0;34m:\u001b[0m\u001b[0;34m,\u001b[0m\u001b[0;36m0\u001b[0m\u001b[0;34m]\u001b[0m\u001b[0;34m,\u001b[0m \u001b[0mloss\u001b[0m\u001b[0;34m,\u001b[0m \u001b[0mcolor\u001b[0m\u001b[0;34m=\u001b[0m\u001b[0;34m'red'\u001b[0m\u001b[0;34m,\u001b[0m \u001b[0mlinewidth\u001b[0m\u001b[0;34m=\u001b[0m\u001b[0;36m3\u001b[0m\u001b[0;34m)\u001b[0m\u001b[0;34m\u001b[0m\u001b[0m\n",
      "\u001b[0;31mValueError\u001b[0m: operands could not be broadcast together with shapes (400,) (1,2) "
     ]
    },
    {
     "data": {
      "image/png": "[encoded data removed]",
      "text/plain": [
       "<Figure size 288x216 with 1 Axes>"
      ]
     },
     "metadata": {},
     "output_type": "display_data"
    }
   ],
   "source": [
    "plt.figure(1, figsize=(4, 3))\n",
    "plt.clf()\n",
    "print(X_test.shape)\n",
    "print(y_test.shape)\n",
    "\n",
    "plt.scatter(X_test[:,0], y_test, color='black', zorder=20)\n",
    "#X_test = np.linspace(-5, 10, 300)\n",
    "\n",
    "\n",
    "def model(x):\n",
    "    return 1 / (1 + np.exp(-x))\n",
    "\n",
    "\n",
    "loss = model(X_test[:,0] * logistic_reg.coef_ + logistic_reg.intercept_).ravel()\n",
    "plt.plot(X_test[:,0], loss, color='red', linewidth=3)"
   ]
  }
 ],
 "metadata": {
  "kernelspec": {
   "display_name": "Python 3",
   "language": "python",
   "name": "python3"
  },
  "language_info": {
   "codemirror_mode": {
    "name": "ipython",
    "version": 3
   },
   "file_extension": ".py",
   "mimetype": "text/x-python",
   "name": "python",
   "nbconvert_exporter": "python",
   "pygments_lexer": "ipython3",
   "version": "3.6.5"
  }
 },
 "nbformat": 4,
 "nbformat_minor": 2
}
