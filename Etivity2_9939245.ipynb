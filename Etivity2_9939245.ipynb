{
 "cells": [
  {
   "cell_type": "markdown",
   "metadata": {},
   "source": [
    "# Etivity 2\n",
    "## Name: Martin Power\n",
    "## ID      : 9939245"
   ]
  },
  {
   "cell_type": "markdown",
   "metadata": {},
   "source": [
    "# Table of Contents\n",
    "\n",
    "#### Task 1\n",
    "* [Task 1 Code](#task1)\n",
    "* [Task 1 -  Fill In Missing \"Age\" Values](#task1_age)\n",
    "     - [Task 1 - Age Decision Tree Preparation](#task1_tree_prep)\n",
    "     - [Task 1 - Age Decision Tree Application](#task1_tree_app)  \n",
    "     - [Task 1 - Age Decision Tree Analysis](#task1_tree_analysis)  \n",
    "* [Task 1 -  Fill In Missing \"Job\" Values](#task1_job)\n",
    "* [Task 1 -  Fill In Missing \"Education\" Values](#task1_edu)\n",
    "* [Task 1 -  Fill In Missing \"Contact\" Values](#task1_con)\n",
    "* [Task 1 -  Fill In Missing \"Poutcome\" Values](#task1_poutcome)\n",
    "* [Task 1 -  Analysis](#task1_analysis)\n",
    "\n",
    "#### Task 2\n",
    "* [Task 2 Code](#task2)\n",
    "* [Task 2 -  Numerical Attribute Plots](#task2_plot)\n",
    "* [Task 2 -  Numerical Attribute Plots Analysis](#task2_plot_analysis)\n",
    "* [Task 2 -  \"Age\" Box-Cox Transformation](#task2_age_boxcox)\n",
    "* [Task 2 -  \"Balance\" Yeo-Johnson Transformation](#task2_bal_yj)\n",
    "* [Task 2 -  Analysis](#task2_analysis)\n",
    "\n",
    "#### Task 3\n",
    "* [Task 3 Code](#task3)\n",
    "* [Task 3 - \"Work Status\" Feature](#task2_plot)\n",
    "* [Task 3 - \"Has Been Married\" Feature](#task2_plot_analysis)\n",
    "* [Task 3 - \"Post Primary\" Feature](#task2_age_boxcox)\n",
    "* [Task 3 -  Analysis](#task3_analysis)\n",
    "\n",
    "#### Task 4\n",
    "* [Task 4 Code](#task4)\n",
    "* [Task 4 -  Replace Categoricals With Numerical Attributes](#task4_replace_cat)\n",
    "* [Task 4 -  Prepare Dataset](#task4_prep_dataset)\n",
    "* [Task 4 - Logistic Regression Classification](#task4_logreg)\n",
    "* [Task 4 - Probability Plots](#task4_prob)\n",
    "* [Task 4 -  Analysis](#task4_analysis)\n",
    "\n",
    "\n",
    "#### Task 5\n",
    "* [Task 5 Code](#task5)\n",
    "* [Task 5 - Logisic Regression Learning Curve](#task5_logistic)\n",
    "* [Task 5 - Low Complexity Learning Curve : Linear Regression](#task5_linear)\n",
    "* [Task 5 - High Complexity Learning Curve : AdaBoost](#task5_adaboost)\n",
    "* [Task 5 - Analysis](#task5_analysis)"
   ]
  },
  {
   "cell_type": "code",
   "execution_count": 1,
   "metadata": {},
   "outputs": [],
   "source": [
    "import matplotlib.pyplot as plt\n",
    "import numpy as np\n",
    "from sklearn.datasets import make_moons\n",
    "from sklearn.linear_model import LogisticRegression\n",
    "from sklearn import preprocessing\n",
    "import math\n",
    "from sklearn.datasets.samples_generator import make_blobs\n",
    "from sklearn.model_selection import train_test_split\n",
    "import pandas as pd\n",
    "import seaborn as sns\n",
    "import re\n",
    "from sklearn.naive_bayes import GaussianNB\n",
    "from sklearn.svm import LinearSVC\n",
    "from sklearn.linear_model import LinearRegression\n",
    "from sklearn.model_selection import learning_curve\n",
    "from sklearn.preprocessing import power_transform\n",
    "from scipy.stats import boxcox\n",
    "\n",
    "%matplotlib inline"
   ]
  },
  {
   "cell_type": "markdown",
   "metadata": {},
   "source": [
    "<a id='task1'></a>"
   ]
  },
  {
   "cell_type": "markdown",
   "metadata": {},
   "source": [
    "# Task 1 (CS5062)\n",
    "\n",
    "Fill-in the missing values in the bank dataset. Use the EDA techniques from E-tivity 1 to decide how to fill in missing values. In your notebook, explain shortly (max 250 words) the decisions you have taken."
   ]
  },
  {
   "cell_type": "code",
   "execution_count": 57,
   "metadata": {},
   "outputs": [
    {
     "name": "stdout",
     "output_type": "stream",
     "text": [
      "Numer of Samples  in Dataset:\t 2000\n",
      "Numer of Features in Dataset:\t 20\n"
     ]
    }
   ],
   "source": [
    "# First of all, load the dataset and display some initial information from the dataset\n",
    "\n",
    "df = pd.read_csv('./bank_et2.csv')\n",
    "\n",
    "print(\"Numer of Samples  in Dataset:\\t\",df.shape[0])\n",
    "print(\"Numer of Features in Dataset:\\t\",df.shape[1])\n",
    "\n",
    "# Drop column 0\n",
    "df = df.drop(df.columns[0], axis=1)"
   ]
  },
  {
   "cell_type": "code",
   "execution_count": 58,
   "metadata": {},
   "outputs": [
    {
     "data": {
      "text/html": [
       "<div>\n",
       "<style scoped>\n",
       "    .dataframe tbody tr th:only-of-type {\n",
       "        vertical-align: middle;\n",
       "    }\n",
       "\n",
       "    .dataframe tbody tr th {\n",
       "        vertical-align: top;\n",
       "    }\n",
       "\n",
       "    .dataframe thead th {\n",
       "        text-align: right;\n",
       "    }\n",
       "</style>\n",
       "<table border=\"1\" class=\"dataframe\">\n",
       "  <thead>\n",
       "    <tr style=\"text-align: right;\">\n",
       "      <th></th>\n",
       "      <th>age</th>\n",
       "      <th>job</th>\n",
       "      <th>marital</th>\n",
       "      <th>education</th>\n",
       "      <th>default</th>\n",
       "      <th>balance</th>\n",
       "      <th>ratio_bal_ln</th>\n",
       "      <th>ratio_ln_inc</th>\n",
       "      <th>housing</th>\n",
       "      <th>loan</th>\n",
       "      <th>contact</th>\n",
       "      <th>day</th>\n",
       "      <th>month</th>\n",
       "      <th>duration</th>\n",
       "      <th>campaign</th>\n",
       "      <th>pdays</th>\n",
       "      <th>previous</th>\n",
       "      <th>poutcome</th>\n",
       "      <th>subscribed</th>\n",
       "    </tr>\n",
       "  </thead>\n",
       "  <tbody>\n",
       "    <tr>\n",
       "      <th>0</th>\n",
       "      <td>32.0</td>\n",
       "      <td>technician</td>\n",
       "      <td>single</td>\n",
       "      <td>tertiary</td>\n",
       "      <td>no</td>\n",
       "      <td>392</td>\n",
       "      <td>1.300134</td>\n",
       "      <td>0.473895</td>\n",
       "      <td>yes</td>\n",
       "      <td>no</td>\n",
       "      <td>cellular</td>\n",
       "      <td>1</td>\n",
       "      <td>apr</td>\n",
       "      <td>957</td>\n",
       "      <td>2</td>\n",
       "      <td>131</td>\n",
       "      <td>2</td>\n",
       "      <td>failure</td>\n",
       "      <td>no</td>\n",
       "    </tr>\n",
       "    <tr>\n",
       "      <th>1</th>\n",
       "      <td>39.0</td>\n",
       "      <td>technician</td>\n",
       "      <td>divorced</td>\n",
       "      <td>secondary</td>\n",
       "      <td>no</td>\n",
       "      <td>688</td>\n",
       "      <td>-0.193701</td>\n",
       "      <td>0.237021</td>\n",
       "      <td>yes</td>\n",
       "      <td>yes</td>\n",
       "      <td>cellular</td>\n",
       "      <td>1</td>\n",
       "      <td>apr</td>\n",
       "      <td>233</td>\n",
       "      <td>2</td>\n",
       "      <td>133</td>\n",
       "      <td>1</td>\n",
       "      <td>failure</td>\n",
       "      <td>no</td>\n",
       "    </tr>\n",
       "    <tr>\n",
       "      <th>2</th>\n",
       "      <td>59.0</td>\n",
       "      <td>retired</td>\n",
       "      <td>married</td>\n",
       "      <td>secondary</td>\n",
       "      <td>no</td>\n",
       "      <td>1035</td>\n",
       "      <td>1.334266</td>\n",
       "      <td>0.121981</td>\n",
       "      <td>yes</td>\n",
       "      <td>yes</td>\n",
       "      <td>cellular</td>\n",
       "      <td>1</td>\n",
       "      <td>apr</td>\n",
       "      <td>126</td>\n",
       "      <td>2</td>\n",
       "      <td>239</td>\n",
       "      <td>1</td>\n",
       "      <td>failure</td>\n",
       "      <td>no</td>\n",
       "    </tr>\n",
       "    <tr>\n",
       "      <th>3</th>\n",
       "      <td>47.0</td>\n",
       "      <td>blue-collar</td>\n",
       "      <td>married</td>\n",
       "      <td>secondary</td>\n",
       "      <td>no</td>\n",
       "      <td>398</td>\n",
       "      <td>0.362286</td>\n",
       "      <td>1.251328</td>\n",
       "      <td>yes</td>\n",
       "      <td>yes</td>\n",
       "      <td>cellular</td>\n",
       "      <td>1</td>\n",
       "      <td>apr</td>\n",
       "      <td>274</td>\n",
       "      <td>1</td>\n",
       "      <td>238</td>\n",
       "      <td>2</td>\n",
       "      <td>failure</td>\n",
       "      <td>no</td>\n",
       "    </tr>\n",
       "    <tr>\n",
       "      <th>4</th>\n",
       "      <td>54.0</td>\n",
       "      <td>retired</td>\n",
       "      <td>married</td>\n",
       "      <td>secondary</td>\n",
       "      <td>no</td>\n",
       "      <td>1004</td>\n",
       "      <td>0.072075</td>\n",
       "      <td>-0.533738</td>\n",
       "      <td>yes</td>\n",
       "      <td>no</td>\n",
       "      <td>cellular</td>\n",
       "      <td>1</td>\n",
       "      <td>apr</td>\n",
       "      <td>479</td>\n",
       "      <td>1</td>\n",
       "      <td>307</td>\n",
       "      <td>1</td>\n",
       "      <td>failure</td>\n",
       "      <td>no</td>\n",
       "    </tr>\n",
       "  </tbody>\n",
       "</table>\n",
       "</div>"
      ],
      "text/plain": [
       "    age          job   marital  education default  balance  ratio_bal_ln  \\\n",
       "0  32.0   technician    single   tertiary      no      392      1.300134   \n",
       "1  39.0   technician  divorced  secondary      no      688     -0.193701   \n",
       "2  59.0      retired   married  secondary      no     1035      1.334266   \n",
       "3  47.0  blue-collar   married  secondary      no      398      0.362286   \n",
       "4  54.0      retired   married  secondary      no     1004      0.072075   \n",
       "\n",
       "   ratio_ln_inc housing loan   contact  day month  duration  campaign  pdays  \\\n",
       "0      0.473895     yes   no  cellular    1   apr       957         2    131   \n",
       "1      0.237021     yes  yes  cellular    1   apr       233         2    133   \n",
       "2      0.121981     yes  yes  cellular    1   apr       126         2    239   \n",
       "3      1.251328     yes  yes  cellular    1   apr       274         1    238   \n",
       "4     -0.533738     yes   no  cellular    1   apr       479         1    307   \n",
       "\n",
       "   previous poutcome subscribed  \n",
       "0         2  failure         no  \n",
       "1         1  failure         no  \n",
       "2         1  failure         no  \n",
       "3         2  failure         no  \n",
       "4         1  failure         no  "
      ]
     },
     "execution_count": 58,
     "metadata": {},
     "output_type": "execute_result"
    }
   ],
   "source": [
    "# Examine the first few data rows\n",
    "# Print first 5 rows of the dataframe\n",
    "df.head(5)"
   ]
  },
  {
   "cell_type": "code",
   "execution_count": 59,
   "metadata": {},
   "outputs": [
    {
     "data": {
      "text/html": [
       "<div>\n",
       "<style scoped>\n",
       "    .dataframe tbody tr th:only-of-type {\n",
       "        vertical-align: middle;\n",
       "    }\n",
       "\n",
       "    .dataframe tbody tr th {\n",
       "        vertical-align: top;\n",
       "    }\n",
       "\n",
       "    .dataframe thead th {\n",
       "        text-align: right;\n",
       "    }\n",
       "</style>\n",
       "<table border=\"1\" class=\"dataframe\">\n",
       "  <thead>\n",
       "    <tr style=\"text-align: right;\">\n",
       "      <th></th>\n",
       "      <th>age</th>\n",
       "      <th>job</th>\n",
       "      <th>marital</th>\n",
       "      <th>education</th>\n",
       "      <th>default</th>\n",
       "      <th>balance</th>\n",
       "      <th>ratio_bal_ln</th>\n",
       "      <th>ratio_ln_inc</th>\n",
       "      <th>housing</th>\n",
       "      <th>loan</th>\n",
       "      <th>contact</th>\n",
       "      <th>day</th>\n",
       "      <th>month</th>\n",
       "      <th>duration</th>\n",
       "      <th>campaign</th>\n",
       "      <th>pdays</th>\n",
       "      <th>previous</th>\n",
       "      <th>poutcome</th>\n",
       "      <th>subscribed</th>\n",
       "    </tr>\n",
       "  </thead>\n",
       "  <tbody>\n",
       "    <tr>\n",
       "      <th>1995</th>\n",
       "      <td>20.0</td>\n",
       "      <td>student</td>\n",
       "      <td>single</td>\n",
       "      <td>NaN</td>\n",
       "      <td>no</td>\n",
       "      <td>2785</td>\n",
       "      <td>-2.170524</td>\n",
       "      <td>1.081071</td>\n",
       "      <td>no</td>\n",
       "      <td>no</td>\n",
       "      <td>cellular</td>\n",
       "      <td>16</td>\n",
       "      <td>sep</td>\n",
       "      <td>327</td>\n",
       "      <td>2</td>\n",
       "      <td>-1</td>\n",
       "      <td>0</td>\n",
       "      <td>NaN</td>\n",
       "      <td>yes</td>\n",
       "    </tr>\n",
       "    <tr>\n",
       "      <th>1996</th>\n",
       "      <td>28.0</td>\n",
       "      <td>admin.</td>\n",
       "      <td>single</td>\n",
       "      <td>secondary</td>\n",
       "      <td>no</td>\n",
       "      <td>127</td>\n",
       "      <td>0.811788</td>\n",
       "      <td>1.134496</td>\n",
       "      <td>no</td>\n",
       "      <td>no</td>\n",
       "      <td>cellular</td>\n",
       "      <td>16</td>\n",
       "      <td>sep</td>\n",
       "      <td>1334</td>\n",
       "      <td>2</td>\n",
       "      <td>-1</td>\n",
       "      <td>0</td>\n",
       "      <td>NaN</td>\n",
       "      <td>yes</td>\n",
       "    </tr>\n",
       "    <tr>\n",
       "      <th>1997</th>\n",
       "      <td>81.0</td>\n",
       "      <td>retired</td>\n",
       "      <td>married</td>\n",
       "      <td>primary</td>\n",
       "      <td>no</td>\n",
       "      <td>1154</td>\n",
       "      <td>0.504655</td>\n",
       "      <td>0.042190</td>\n",
       "      <td>no</td>\n",
       "      <td>no</td>\n",
       "      <td>telephone</td>\n",
       "      <td>17</td>\n",
       "      <td>sep</td>\n",
       "      <td>231</td>\n",
       "      <td>1</td>\n",
       "      <td>-1</td>\n",
       "      <td>0</td>\n",
       "      <td>NaN</td>\n",
       "      <td>yes</td>\n",
       "    </tr>\n",
       "    <tr>\n",
       "      <th>1998</th>\n",
       "      <td>46.0</td>\n",
       "      <td>services</td>\n",
       "      <td>married</td>\n",
       "      <td>primary</td>\n",
       "      <td>no</td>\n",
       "      <td>4343</td>\n",
       "      <td>-0.965874</td>\n",
       "      <td>0.302708</td>\n",
       "      <td>yes</td>\n",
       "      <td>no</td>\n",
       "      <td>NaN</td>\n",
       "      <td>20</td>\n",
       "      <td>sep</td>\n",
       "      <td>185</td>\n",
       "      <td>1</td>\n",
       "      <td>-1</td>\n",
       "      <td>0</td>\n",
       "      <td>NaN</td>\n",
       "      <td>yes</td>\n",
       "    </tr>\n",
       "    <tr>\n",
       "      <th>1999</th>\n",
       "      <td>40.0</td>\n",
       "      <td>entrepreneur</td>\n",
       "      <td>married</td>\n",
       "      <td>secondary</td>\n",
       "      <td>no</td>\n",
       "      <td>6403</td>\n",
       "      <td>-0.800893</td>\n",
       "      <td>1.066659</td>\n",
       "      <td>no</td>\n",
       "      <td>no</td>\n",
       "      <td>cellular</td>\n",
       "      <td>22</td>\n",
       "      <td>sep</td>\n",
       "      <td>208</td>\n",
       "      <td>2</td>\n",
       "      <td>-1</td>\n",
       "      <td>0</td>\n",
       "      <td>NaN</td>\n",
       "      <td>yes</td>\n",
       "    </tr>\n",
       "  </tbody>\n",
       "</table>\n",
       "</div>"
      ],
      "text/plain": [
       "       age           job  marital  education default  balance  ratio_bal_ln  \\\n",
       "1995  20.0       student   single        NaN      no     2785     -2.170524   \n",
       "1996  28.0        admin.   single  secondary      no      127      0.811788   \n",
       "1997  81.0       retired  married    primary      no     1154      0.504655   \n",
       "1998  46.0      services  married    primary      no     4343     -0.965874   \n",
       "1999  40.0  entrepreneur  married  secondary      no     6403     -0.800893   \n",
       "\n",
       "      ratio_ln_inc housing loan    contact  day month  duration  campaign  \\\n",
       "1995      1.081071      no   no   cellular   16   sep       327         2   \n",
       "1996      1.134496      no   no   cellular   16   sep      1334         2   \n",
       "1997      0.042190      no   no  telephone   17   sep       231         1   \n",
       "1998      0.302708     yes   no        NaN   20   sep       185         1   \n",
       "1999      1.066659      no   no   cellular   22   sep       208         2   \n",
       "\n",
       "      pdays  previous poutcome subscribed  \n",
       "1995     -1         0      NaN        yes  \n",
       "1996     -1         0      NaN        yes  \n",
       "1997     -1         0      NaN        yes  \n",
       "1998     -1         0      NaN        yes  \n",
       "1999     -1         0      NaN        yes  "
      ]
     },
     "execution_count": 59,
     "metadata": {},
     "output_type": "execute_result"
    }
   ],
   "source": [
    "# Examine the last few data rows.\n",
    "# Print last 5 rows of the dataframe\n",
    "df.tail(5)"
   ]
  },
  {
   "cell_type": "code",
   "execution_count": 63,
   "metadata": {},
   "outputs": [
    {
     "data": {
      "text/html": [
       "<div>\n",
       "<style scoped>\n",
       "    .dataframe tbody tr th:only-of-type {\n",
       "        vertical-align: middle;\n",
       "    }\n",
       "\n",
       "    .dataframe tbody tr th {\n",
       "        vertical-align: top;\n",
       "    }\n",
       "\n",
       "    .dataframe thead th {\n",
       "        text-align: right;\n",
       "    }\n",
       "</style>\n",
       "<table border=\"1\" class=\"dataframe\">\n",
       "  <thead>\n",
       "    <tr style=\"text-align: right;\">\n",
       "      <th></th>\n",
       "      <th>age</th>\n",
       "      <th>job</th>\n",
       "      <th>marital</th>\n",
       "      <th>education</th>\n",
       "      <th>default</th>\n",
       "      <th>balance</th>\n",
       "      <th>ratio_bal_ln</th>\n",
       "      <th>ratio_ln_inc</th>\n",
       "      <th>housing</th>\n",
       "      <th>loan</th>\n",
       "      <th>contact</th>\n",
       "      <th>day</th>\n",
       "      <th>month</th>\n",
       "      <th>duration</th>\n",
       "      <th>campaign</th>\n",
       "      <th>pdays</th>\n",
       "      <th>previous</th>\n",
       "      <th>poutcome</th>\n",
       "      <th>subscribed</th>\n",
       "    </tr>\n",
       "  </thead>\n",
       "  <tbody>\n",
       "    <tr>\n",
       "      <th>count</th>\n",
       "      <td>1988.000000</td>\n",
       "      <td>1990</td>\n",
       "      <td>2000</td>\n",
       "      <td>1896</td>\n",
       "      <td>2000</td>\n",
       "      <td>2000.000000</td>\n",
       "      <td>2000.000000</td>\n",
       "      <td>2000.000000</td>\n",
       "      <td>2000</td>\n",
       "      <td>2000</td>\n",
       "      <td>1809</td>\n",
       "      <td>2000.000000</td>\n",
       "      <td>2000</td>\n",
       "      <td>2000.000000</td>\n",
       "      <td>2000.000000</td>\n",
       "      <td>2000.000000</td>\n",
       "      <td>2000.000000</td>\n",
       "      <td>1546</td>\n",
       "      <td>2000</td>\n",
       "    </tr>\n",
       "    <tr>\n",
       "      <th>unique</th>\n",
       "      <td>NaN</td>\n",
       "      <td>11</td>\n",
       "      <td>3</td>\n",
       "      <td>3</td>\n",
       "      <td>2</td>\n",
       "      <td>NaN</td>\n",
       "      <td>NaN</td>\n",
       "      <td>NaN</td>\n",
       "      <td>2</td>\n",
       "      <td>2</td>\n",
       "      <td>2</td>\n",
       "      <td>NaN</td>\n",
       "      <td>12</td>\n",
       "      <td>NaN</td>\n",
       "      <td>NaN</td>\n",
       "      <td>NaN</td>\n",
       "      <td>NaN</td>\n",
       "      <td>3</td>\n",
       "      <td>2</td>\n",
       "    </tr>\n",
       "    <tr>\n",
       "      <th>top</th>\n",
       "      <td>NaN</td>\n",
       "      <td>management</td>\n",
       "      <td>married</td>\n",
       "      <td>secondary</td>\n",
       "      <td>no</td>\n",
       "      <td>NaN</td>\n",
       "      <td>NaN</td>\n",
       "      <td>NaN</td>\n",
       "      <td>no</td>\n",
       "      <td>no</td>\n",
       "      <td>cellular</td>\n",
       "      <td>NaN</td>\n",
       "      <td>feb</td>\n",
       "      <td>NaN</td>\n",
       "      <td>NaN</td>\n",
       "      <td>NaN</td>\n",
       "      <td>NaN</td>\n",
       "      <td>failure</td>\n",
       "      <td>yes</td>\n",
       "    </tr>\n",
       "    <tr>\n",
       "      <th>freq</th>\n",
       "      <td>NaN</td>\n",
       "      <td>461</td>\n",
       "      <td>1111</td>\n",
       "      <td>995</td>\n",
       "      <td>1985</td>\n",
       "      <td>NaN</td>\n",
       "      <td>NaN</td>\n",
       "      <td>NaN</td>\n",
       "      <td>1037</td>\n",
       "      <td>1750</td>\n",
       "      <td>1663</td>\n",
       "      <td>NaN</td>\n",
       "      <td>404</td>\n",
       "      <td>NaN</td>\n",
       "      <td>NaN</td>\n",
       "      <td>NaN</td>\n",
       "      <td>NaN</td>\n",
       "      <td>955</td>\n",
       "      <td>1000</td>\n",
       "    </tr>\n",
       "    <tr>\n",
       "      <th>mean</th>\n",
       "      <td>41.753018</td>\n",
       "      <td>NaN</td>\n",
       "      <td>NaN</td>\n",
       "      <td>NaN</td>\n",
       "      <td>NaN</td>\n",
       "      <td>1413.663500</td>\n",
       "      <td>0.241951</td>\n",
       "      <td>0.485030</td>\n",
       "      <td>NaN</td>\n",
       "      <td>NaN</td>\n",
       "      <td>NaN</td>\n",
       "      <td>13.851500</td>\n",
       "      <td>NaN</td>\n",
       "      <td>292.020500</td>\n",
       "      <td>1.909500</td>\n",
       "      <td>167.896000</td>\n",
       "      <td>2.561500</td>\n",
       "      <td>NaN</td>\n",
       "      <td>NaN</td>\n",
       "    </tr>\n",
       "    <tr>\n",
       "      <th>std</th>\n",
       "      <td>12.724358</td>\n",
       "      <td>NaN</td>\n",
       "      <td>NaN</td>\n",
       "      <td>NaN</td>\n",
       "      <td>NaN</td>\n",
       "      <td>3131.224213</td>\n",
       "      <td>0.821604</td>\n",
       "      <td>1.075543</td>\n",
       "      <td>NaN</td>\n",
       "      <td>NaN</td>\n",
       "      <td>NaN</td>\n",
       "      <td>9.712189</td>\n",
       "      <td>NaN</td>\n",
       "      <td>221.557295</td>\n",
       "      <td>1.378862</td>\n",
       "      <td>131.754126</td>\n",
       "      <td>3.400735</td>\n",
       "      <td>NaN</td>\n",
       "      <td>NaN</td>\n",
       "    </tr>\n",
       "    <tr>\n",
       "      <th>min</th>\n",
       "      <td>18.000000</td>\n",
       "      <td>NaN</td>\n",
       "      <td>NaN</td>\n",
       "      <td>NaN</td>\n",
       "      <td>NaN</td>\n",
       "      <td>-980.000000</td>\n",
       "      <td>-2.632068</td>\n",
       "      <td>-2.851405</td>\n",
       "      <td>NaN</td>\n",
       "      <td>NaN</td>\n",
       "      <td>NaN</td>\n",
       "      <td>1.000000</td>\n",
       "      <td>NaN</td>\n",
       "      <td>7.000000</td>\n",
       "      <td>1.000000</td>\n",
       "      <td>-1.000000</td>\n",
       "      <td>0.000000</td>\n",
       "      <td>NaN</td>\n",
       "      <td>NaN</td>\n",
       "    </tr>\n",
       "    <tr>\n",
       "      <th>25%</th>\n",
       "      <td>32.000000</td>\n",
       "      <td>NaN</td>\n",
       "      <td>NaN</td>\n",
       "      <td>NaN</td>\n",
       "      <td>NaN</td>\n",
       "      <td>201.500000</td>\n",
       "      <td>-0.308018</td>\n",
       "      <td>-0.274181</td>\n",
       "      <td>NaN</td>\n",
       "      <td>NaN</td>\n",
       "      <td>NaN</td>\n",
       "      <td>5.000000</td>\n",
       "      <td>NaN</td>\n",
       "      <td>146.000000</td>\n",
       "      <td>1.000000</td>\n",
       "      <td>75.750000</td>\n",
       "      <td>1.000000</td>\n",
       "      <td>NaN</td>\n",
       "      <td>NaN</td>\n",
       "    </tr>\n",
       "    <tr>\n",
       "      <th>50%</th>\n",
       "      <td>38.000000</td>\n",
       "      <td>NaN</td>\n",
       "      <td>NaN</td>\n",
       "      <td>NaN</td>\n",
       "      <td>NaN</td>\n",
       "      <td>551.000000</td>\n",
       "      <td>0.224099</td>\n",
       "      <td>0.487082</td>\n",
       "      <td>NaN</td>\n",
       "      <td>NaN</td>\n",
       "      <td>NaN</td>\n",
       "      <td>12.000000</td>\n",
       "      <td>NaN</td>\n",
       "      <td>236.000000</td>\n",
       "      <td>1.000000</td>\n",
       "      <td>182.000000</td>\n",
       "      <td>2.000000</td>\n",
       "      <td>NaN</td>\n",
       "      <td>NaN</td>\n",
       "    </tr>\n",
       "    <tr>\n",
       "      <th>75%</th>\n",
       "      <td>50.000000</td>\n",
       "      <td>NaN</td>\n",
       "      <td>NaN</td>\n",
       "      <td>NaN</td>\n",
       "      <td>NaN</td>\n",
       "      <td>1644.500000</td>\n",
       "      <td>0.806315</td>\n",
       "      <td>1.211896</td>\n",
       "      <td>NaN</td>\n",
       "      <td>NaN</td>\n",
       "      <td>NaN</td>\n",
       "      <td>23.000000</td>\n",
       "      <td>NaN</td>\n",
       "      <td>379.000000</td>\n",
       "      <td>2.000000</td>\n",
       "      <td>251.000000</td>\n",
       "      <td>3.000000</td>\n",
       "      <td>NaN</td>\n",
       "      <td>NaN</td>\n",
       "    </tr>\n",
       "    <tr>\n",
       "      <th>max</th>\n",
       "      <td>93.000000</td>\n",
       "      <td>NaN</td>\n",
       "      <td>NaN</td>\n",
       "      <td>NaN</td>\n",
       "      <td>NaN</td>\n",
       "      <td>81204.000000</td>\n",
       "      <td>2.961979</td>\n",
       "      <td>4.046914</td>\n",
       "      <td>NaN</td>\n",
       "      <td>NaN</td>\n",
       "      <td>NaN</td>\n",
       "      <td>31.000000</td>\n",
       "      <td>NaN</td>\n",
       "      <td>1823.000000</td>\n",
       "      <td>11.000000</td>\n",
       "      <td>854.000000</td>\n",
       "      <td>55.000000</td>\n",
       "      <td>NaN</td>\n",
       "      <td>NaN</td>\n",
       "    </tr>\n",
       "  </tbody>\n",
       "</table>\n",
       "</div>"
      ],
      "text/plain": [
       "                age         job  marital  education default       balance  \\\n",
       "count   1988.000000        1990     2000       1896    2000   2000.000000   \n",
       "unique          NaN          11        3          3       2           NaN   \n",
       "top             NaN  management  married  secondary      no           NaN   \n",
       "freq            NaN         461     1111        995    1985           NaN   \n",
       "mean      41.753018         NaN      NaN        NaN     NaN   1413.663500   \n",
       "std       12.724358         NaN      NaN        NaN     NaN   3131.224213   \n",
       "min       18.000000         NaN      NaN        NaN     NaN   -980.000000   \n",
       "25%       32.000000         NaN      NaN        NaN     NaN    201.500000   \n",
       "50%       38.000000         NaN      NaN        NaN     NaN    551.000000   \n",
       "75%       50.000000         NaN      NaN        NaN     NaN   1644.500000   \n",
       "max       93.000000         NaN      NaN        NaN     NaN  81204.000000   \n",
       "\n",
       "        ratio_bal_ln  ratio_ln_inc housing  loan   contact          day month  \\\n",
       "count    2000.000000   2000.000000    2000  2000      1809  2000.000000  2000   \n",
       "unique           NaN           NaN       2     2         2          NaN    12   \n",
       "top              NaN           NaN      no    no  cellular          NaN   feb   \n",
       "freq             NaN           NaN    1037  1750      1663          NaN   404   \n",
       "mean        0.241951      0.485030     NaN   NaN       NaN    13.851500   NaN   \n",
       "std         0.821604      1.075543     NaN   NaN       NaN     9.712189   NaN   \n",
       "min        -2.632068     -2.851405     NaN   NaN       NaN     1.000000   NaN   \n",
       "25%        -0.308018     -0.274181     NaN   NaN       NaN     5.000000   NaN   \n",
       "50%         0.224099      0.487082     NaN   NaN       NaN    12.000000   NaN   \n",
       "75%         0.806315      1.211896     NaN   NaN       NaN    23.000000   NaN   \n",
       "max         2.961979      4.046914     NaN   NaN       NaN    31.000000   NaN   \n",
       "\n",
       "           duration     campaign        pdays     previous poutcome subscribed  \n",
       "count   2000.000000  2000.000000  2000.000000  2000.000000     1546       2000  \n",
       "unique          NaN          NaN          NaN          NaN        3          2  \n",
       "top             NaN          NaN          NaN          NaN  failure        yes  \n",
       "freq            NaN          NaN          NaN          NaN      955       1000  \n",
       "mean     292.020500     1.909500   167.896000     2.561500      NaN        NaN  \n",
       "std      221.557295     1.378862   131.754126     3.400735      NaN        NaN  \n",
       "min        7.000000     1.000000    -1.000000     0.000000      NaN        NaN  \n",
       "25%      146.000000     1.000000    75.750000     1.000000      NaN        NaN  \n",
       "50%      236.000000     1.000000   182.000000     2.000000      NaN        NaN  \n",
       "75%      379.000000     2.000000   251.000000     3.000000      NaN        NaN  \n",
       "max     1823.000000    11.000000   854.000000    55.000000      NaN        NaN  "
      ]
     },
     "execution_count": 63,
     "metadata": {},
     "output_type": "execute_result"
    }
   ],
   "source": [
    "# Print statistical summary for all attributes\n",
    "df.describe(include='all')\n",
    "\n",
    "# \"include='all'\" added after reviewing Brian Parle's code"
   ]
  },
  {
   "cell_type": "code",
   "execution_count": 64,
   "metadata": {},
   "outputs": [
    {
     "name": "stdout",
     "output_type": "stream",
     "text": [
      "\n",
      "****\t job \t****\n",
      "Total Values = \t 1990 \n",
      "\n",
      "management       461\n",
      "technician       348\n",
      "blue-collar      298\n",
      "admin.           247\n",
      "services         165\n",
      "retired          162\n",
      "student           96\n",
      "unemployed        69\n",
      "self-employed     64\n",
      "entrepreneur      45\n",
      "housemaid         35\n",
      "NaN               10\n",
      "Name: job, dtype: int64\n",
      "****************************\n",
      "\n",
      "****\t marital \t****\n",
      "Total Values = \t 2000 \n",
      "\n",
      "married     1111\n",
      "single       674\n",
      "divorced     215\n",
      "Name: marital, dtype: int64\n",
      "****************************\n",
      "\n",
      "****\t education \t****\n",
      "Total Values = \t 1896 \n",
      "\n",
      "secondary    995\n",
      "tertiary     684\n",
      "primary      217\n",
      "NaN          104\n",
      "Name: education, dtype: int64\n",
      "****************************\n",
      "\n",
      "****\t default \t****\n",
      "Total Values = \t 2000 \n",
      "\n",
      "no     1985\n",
      "yes      15\n",
      "Name: default, dtype: int64\n",
      "****************************\n",
      "\n",
      "****\t housing \t****\n",
      "Total Values = \t 2000 \n",
      "\n",
      "no     1037\n",
      "yes     963\n",
      "Name: housing, dtype: int64\n",
      "****************************\n",
      "\n",
      "****\t loan \t****\n",
      "Total Values = \t 2000 \n",
      "\n",
      "no     1750\n",
      "yes     250\n",
      "Name: loan, dtype: int64\n",
      "****************************\n",
      "\n",
      "****\t contact \t****\n",
      "Total Values = \t 1809 \n",
      "\n",
      "cellular     1663\n",
      "NaN           191\n",
      "telephone     146\n",
      "Name: contact, dtype: int64\n",
      "****************************\n",
      "\n",
      "****\t month \t****\n",
      "Total Values = \t 2000 \n",
      "\n",
      "feb    404\n",
      "may    333\n",
      "jan    245\n",
      "apr    205\n",
      "jul    167\n",
      "aug    136\n",
      "sep    134\n",
      "jun    104\n",
      "oct     93\n",
      "mar     70\n",
      "nov     68\n",
      "dec     41\n",
      "Name: month, dtype: int64\n",
      "****************************\n",
      "\n",
      "****\t poutcome \t****\n",
      "Total Values = \t 1546 \n",
      "\n",
      "failure    955\n",
      "NaN        454\n",
      "success    444\n",
      "other      147\n",
      "Name: poutcome, dtype: int64\n",
      "****************************\n",
      "\n",
      "****\t subscribed \t****\n",
      "Total Values = \t 2000 \n",
      "\n",
      "yes    1000\n",
      "no     1000\n",
      "Name: subscribed, dtype: int64\n",
      "****************************\n"
     ]
    }
   ],
   "source": [
    "# From https://stackoverflow.com/questions/29803093/check-which-columns-in-dataframe-are-categorical\n",
    "# The following code extracts the columns with categorical attributes\n",
    "\n",
    "cat_var = [key for key in dict(df.dtypes)\n",
    "             if dict(df.dtypes)[key] in ['object'] ] # Categorical Varible\n",
    "\n",
    "for var in cat_var:\n",
    "    print(\"\\n****\\t\",var,\"\\t****\")\n",
    "    print(\"Total Values = \\t\",df[var].count(),\"\\n\")\n",
    "    print(df[var].value_counts(dropna=False))\n",
    "    print(\"****************************\")\n",
    "    \n",
    "# \"dropna=False\" added to value_counts at Garret Molloy's suggestion. Useful to display NaNs"
   ]
  },
  {
   "cell_type": "code",
   "execution_count": 65,
   "metadata": {},
   "outputs": [
    {
     "data": {
      "text/plain": [
       "age              12\n",
       "job              10\n",
       "marital           0\n",
       "education       104\n",
       "default           0\n",
       "balance           0\n",
       "ratio_bal_ln      0\n",
       "ratio_ln_inc      0\n",
       "housing           0\n",
       "loan              0\n",
       "contact         191\n",
       "day               0\n",
       "month             0\n",
       "duration          0\n",
       "campaign          0\n",
       "pdays             0\n",
       "previous          0\n",
       "poutcome        454\n",
       "subscribed        0\n",
       "dtype: int64"
      ]
     },
     "execution_count": 65,
     "metadata": {},
     "output_type": "execute_result"
    }
   ],
   "source": [
    "# Print number of missing values for each attribute\n",
    "df.apply(lambda x: sum(x.isnull()), axis=0)"
   ]
  },
  {
   "cell_type": "code",
   "execution_count": 9,
   "metadata": {},
   "outputs": [],
   "source": [
    "# Get list of numeric columns.\n",
    "# This will be used later in outlier detection\n",
    "# If this is not stored now it will later include categorical values that have been converted to numerical for the\n",
    "# decision tree for age imputation\n",
    "\n",
    "# From https://stackoverflow.com/questions/25039626/how-do-i-find-numeric-columns-in-pandas\n",
    "numeric_cols = df.select_dtypes(include=[np.number]).columns.tolist()"
   ]
  },
  {
   "cell_type": "markdown",
   "metadata": {},
   "source": [
    "<a id='task1_age'></a>"
   ]
  },
  {
   "cell_type": "markdown",
   "metadata": {},
   "source": [
    "#### Task1 -  Fill In Missing \"Age\" Values\n",
    "\n",
    "To fill in the missing age value I am going to use a decision tree. The following sections desribe that process\n",
    "  - Analysis of the rows with missing age values\n",
    "  - Decision Tree Preparation\n",
    "  - Decision Tree Application\n",
    "  - Decision Tree Analysis\n",
    "  \n",
    "The overall process will involve the creation of 3 new features and the use of those 3 new features to train a decison tree to impute the missing age values"
   ]
  },
  {
   "cell_type": "code",
   "execution_count": 66,
   "metadata": {},
   "outputs": [
    {
     "name": "stdout",
     "output_type": "stream",
     "text": [
      "      age            job  marital  education default  balance  ratio_bal_ln  \\\n",
      "456   NaN  self-employed  married   tertiary      no      917      0.311161   \n",
      "472   NaN    blue-collar  married    primary      no      474      0.729179   \n",
      "526   NaN       services  married  secondary      no     2478      0.469463   \n",
      "595   NaN     management  married   tertiary      no     1857     -0.137751   \n",
      "597   NaN  self-employed  married  secondary     yes      254      0.800582   \n",
      "601   NaN         admin.   single  secondary      no      111      0.269082   \n",
      "605   NaN     management  married   tertiary      no     1330      1.007376   \n",
      "744   NaN     management  married   tertiary      no      -61      0.638129   \n",
      "795   NaN     technician   single   tertiary      no      992      0.901646   \n",
      "1171  NaN        retired  married   tertiary      no     2812     -0.336489   \n",
      "1232  NaN        student   single  secondary      no      431     -1.980588   \n",
      "1408  NaN  self-employed   single   tertiary      no      251     -0.265117   \n",
      "\n",
      "      ratio_ln_inc housing loan    contact  day month  duration  campaign  \\\n",
      "456      -0.818688      no   no   cellular    6   feb       518         3   \n",
      "472       0.350980     yes  yes  telephone    9   feb       152         3   \n",
      "526       0.180632     yes   no   cellular   28   jan       347         1   \n",
      "595       0.524516      no   no   cellular   29   jan       386         1   \n",
      "597       0.370658     yes  yes   cellular   29   jan       194         1   \n",
      "601       0.060002     yes   no   cellular   29   jan        55         1   \n",
      "605      -0.459770     yes   no   cellular   29   jan        41         2   \n",
      "744      -1.001420      no   no   cellular   30   jan        90         5   \n",
      "795      -0.098458     yes   no   cellular    4   may       301         1   \n",
      "1171      2.210606      no   no   cellular    3   aug       392         4   \n",
      "1232      0.402762      no   no   cellular   19   aug       418        11   \n",
      "1408      1.112134      no   no   cellular   12   jul       537         1   \n",
      "\n",
      "      pdays  previous poutcome subscribed  \n",
      "456     212         5  failure         no  \n",
      "472     221         1  failure         no  \n",
      "526     230         1  failure         no  \n",
      "595     168         4  failure         no  \n",
      "597     188         1  failure         no  \n",
      "601     195         3  failure         no  \n",
      "605     261         1  failure         no  \n",
      "744     172         1  failure         no  \n",
      "795      88         2  success         no  \n",
      "1171    181         3  success        yes  \n",
      "1232    185         5  success        yes  \n",
      "1408     -1         0      NaN        yes  \n"
     ]
    }
   ],
   "source": [
    "#  Print the 12 rows with that has NaN for \"age\" attribute\n",
    "# https://dzone.com/articles/pandas-find-rows-where-columnfield-is-null\n",
    "null_columns=df.columns[df.isnull().any()]\n",
    "print(df[df[\"age\"].isnull()])"
   ]
  },
  {
   "cell_type": "markdown",
   "metadata": {},
   "source": [
    "<a id='task1_tree_prep'></a>"
   ]
  },
  {
   "cell_type": "markdown",
   "metadata": {},
   "source": [
    "#### Task 1 - Age Decision Tree Preparation\n",
    "\n",
    "Even though there are only 12 missing \"age\" values within the 2000 examples, as a learning exercise I would like to use\n",
    "a Decision Tree to impute missing values for \"age\".\n",
    "\n",
    "My intuition is that \"job\", \"martial\" and \"education\" can all provide information that can be used to help determine a\n",
    "realistic age.\n",
    "\n",
    "For example, people who are \"retired\" are likely to be older and people who are \"single\" may tend to be younger\n",
    "\n",
    "Box plot analysis of \"job\" showed that there were 3 distinct clusters in terms of \"age\" : \"retired\", \"single\" and all \n",
    "other jobs. To capture this I created a new feature called \"work_status\" that has 3 values : \"student\", \"retired\" and\n",
    "\"available\"\n",
    "\n",
    "Box plot analysis of \"martial\" showed that \"married\" and \"divorced\" had similar age distribution and were distinct to\n",
    "\"single\". As a result I created a new feature called \"has_been_married\" that combined \"married\" and \"divorced\" for the\n",
    "purpose of imputing \"age\"\n",
    "\n",
    "Box plot analysis of \"education\" showed \"primary\" had a higher median age than \"secondary\" and \"tertiary\".\n",
    "It also showed that \"secondary\" and \"tertiary\" had similar medians. I created a new feature called \"post_primary\"\n",
    "to capture this. It combines \"secondary\" and \"tertiary\" as everyone in those categories has at least secondary education\n"
   ]
  },
  {
   "cell_type": "code",
   "execution_count": 69,
   "metadata": {},
   "outputs": [
    {
     "data": {
      "image/png": "[encoded data removed]",
      "text/plain": [
       "<Figure size 1152x432 with 1 Axes>"
      ]
     },
     "metadata": {
      "needs_background": "light"
     },
     "output_type": "display_data"
    }
   ],
   "source": [
    "# Plot Age versus Job\n",
    "plt.figure(figsize=(16, 6))\n",
    "bplot = sns.boxplot(y='age', x='job', \n",
    "                 data=df, \n",
    "                 width=0.5,\n",
    "                 palette=\"colorblind\")\n",
    "\n",
    "# Retired has higher median age\n",
    "# Student has lower median age\n",
    "# All other categories have boradly similar medians"
   ]
  },
  {
   "cell_type": "code",
   "execution_count": 70,
   "metadata": {},
   "outputs": [
    {
     "data": {
      "image/png": "[encoded data removed]",
      "text/plain": [
       "<Figure size 1152x432 with 1 Axes>"
      ]
     },
     "metadata": {
      "needs_background": "light"
     },
     "output_type": "display_data"
    }
   ],
   "source": [
    "# Plot Age versus Marital\n",
    "plt.figure(figsize=(16, 6))\n",
    "bplot = sns.boxplot(y='age', x='marital', \n",
    "                 data=df, \n",
    "                 width=0.5,\n",
    "                 palette=\"colorblind\")\n",
    "\n",
    "# Single has lower median\n",
    "# Divorced and Married have similar age distributions"
   ]
  },
  {
   "cell_type": "code",
   "execution_count": 71,
   "metadata": {},
   "outputs": [
    {
     "data": {
      "image/png": "[encoded data removed]",
      "text/plain": [
       "<Figure size 1152x432 with 1 Axes>"
      ]
     },
     "metadata": {
      "needs_background": "light"
     },
     "output_type": "display_data"
    }
   ],
   "source": [
    "# Plot Age versus Education\n",
    "plt.figure(figsize=(16, 6))\n",
    "bplot = sns.boxplot(y='age', x='education', \n",
    "                 data=df, \n",
    "                 width=0.5,\n",
    "                 palette=\"colorblind\")\n",
    "\n",
    "# Primary has higher median\n",
    "# Tertiary and Secondary have similar distributions"
   ]
  },
  {
   "cell_type": "markdown",
   "metadata": {},
   "source": [
    "<a id='task3_work_status_code'></a>"
   ]
  },
  {
   "cell_type": "markdown",
   "metadata": {},
   "source": [
    "#### \"Work Status\" Feature Creation - Used in Task 1 but also applies to Task 3\n",
    "\n",
    "Box plot analysis of \"job\" showed that there were 3 distinct clusters in terms of \"age\" : \"retired\", \"single\" and all \n",
    "other jobs. To capture this I created a new feature called \"work_status\" that has 3 values : \"student\", \"retired\" and\n",
    "\"available\"\n",
    "\n",
    "[click this link](#task3) to jump back to the Task 3 section of the Notebook."
   ]
  },
  {
   "cell_type": "code",
   "execution_count": 73,
   "metadata": {},
   "outputs": [],
   "source": [
    "df['work_status'] = df['job']"
   ]
  },
  {
   "cell_type": "code",
   "execution_count": 74,
   "metadata": {},
   "outputs": [
    {
     "data": {
      "text/plain": [
       "0    available\n",
       "1    available\n",
       "2      retired\n",
       "3    available\n",
       "4      retired\n",
       "5    available\n",
       "6    available\n",
       "7    available\n",
       "8    available\n",
       "9    available\n",
       "Name: work_status, dtype: object"
      ]
     },
     "execution_count": 74,
     "metadata": {},
     "output_type": "execute_result"
    }
   ],
   "source": [
    "# Set Work Status values to either 'available', 'student' or 'retired'\n",
    "di = {'management'    : 'available',       \n",
    "      'technician'   : 'available',      \n",
    "      'blue-collar'   : 'available',      \n",
    "      'admin.'        : 'available',           \n",
    "      'services'      : 'available',          \n",
    "      'unemployed'    : 'available',        \n",
    "      'self-employed' : 'available',     \n",
    "      'entrepreneur'  : 'available',      \n",
    "      'housemaid'     : 'available'}   \n",
    "df['work_status'].replace(di, inplace=True)\n",
    "df['work_status'].head(10)"
   ]
  },
  {
   "cell_type": "code",
   "execution_count": 75,
   "metadata": {},
   "outputs": [
    {
     "data": {
      "image/png": "[encoded data removed]",
      "text/plain": [
       "<Figure size 1152x432 with 1 Axes>"
      ]
     },
     "metadata": {
      "needs_background": "light"
     },
     "output_type": "display_data"
    }
   ],
   "source": [
    "# Compare Work Status versus Age\n",
    "plt.figure(figsize=(16, 6))\n",
    "bplot = sns.boxplot(y='age', x='work_status', \n",
    "                 data=df, \n",
    "                 width=0.5,\n",
    "                 palette=\"colorblind\")\n",
    "\n",
    "# Feature shows 3 distinct clusters of age with different medians"
   ]
  },
  {
   "cell_type": "markdown",
   "metadata": {},
   "source": [
    "<a id='task3_has_been_married_code'></a>"
   ]
  },
  {
   "cell_type": "markdown",
   "metadata": {},
   "source": [
    "#### \"Has Been Married\" Feature Creation - Used in Task 1 but also applies to Task 3\n",
    "\n",
    "Box plot analysis of \"martial\" showed that \"married\" and \"divorced\" had similar age distribution and were distinct to\n",
    "\"single\". As a result I created a new feature called \"has_been_married\" that combined \"married\" and \"divorced\" for the\n",
    "purpose of imputing \"age\"\n",
    "\n",
    "[click this link](#task3) to jump back to the Task 3 section of the Notebook."
   ]
  },
  {
   "cell_type": "code",
   "execution_count": 76,
   "metadata": {},
   "outputs": [
    {
     "data": {
      "text/plain": [
       "0     no\n",
       "1    yes\n",
       "2    yes\n",
       "3    yes\n",
       "4    yes\n",
       "5    yes\n",
       "6    yes\n",
       "7    yes\n",
       "8    yes\n",
       "9    yes\n",
       "Name: has_been_married, dtype: object"
      ]
     },
     "execution_count": 76,
     "metadata": {},
     "output_type": "execute_result"
    }
   ],
   "source": [
    "# Create an attribute that says if someone has even been married\n",
    "df['has_been_married'] = df['marital']\n",
    "df['has_been_married'].head(10)\n",
    "di = {'divorced'    : 'yes',       \n",
    "      'married'     : 'yes',      \n",
    "      'single'      : 'no'}   \n",
    "df['has_been_married'].replace(di, inplace=True)\n",
    "df['has_been_married'].head(10)"
   ]
  },
  {
   "cell_type": "code",
   "execution_count": 78,
   "metadata": {},
   "outputs": [
    {
     "data": {
      "image/png": "[encoded data removed]",
      "text/plain": [
       "<Figure size 1152x432 with 1 Axes>"
      ]
     },
     "metadata": {
      "needs_background": "light"
     },
     "output_type": "display_data"
    }
   ],
   "source": [
    "# Plot \"Has_Been_Married\" versus \"Age\"\n",
    "plt.figure(figsize=(16, 6))\n",
    "bplot = sns.boxplot(y='age', x='has_been_married', \n",
    "                 data=df, \n",
    "                 width=0.5,\n",
    "                 palette=\"colorblind\")\n",
    "\n",
    "# Two distinct clusters of age"
   ]
  },
  {
   "cell_type": "markdown",
   "metadata": {},
   "source": [
    "<a id='task3_post_primary_code'></a>"
   ]
  },
  {
   "cell_type": "markdown",
   "metadata": {},
   "source": [
    "#### \"Post Primary\" Feature Creation - Used in Task 1 but also applies to Task 3\n",
    "\n",
    "Box plot analysis of \"education\" showed \"primary\" had a higher median age than \"secondary\" and \"tertiary\".\n",
    "It also showed that \"secondary\" and \"tertiary\" had similar medians. I created a new feature called \"post_primary\"\n",
    "to capture this. It combines \"secondary\" and \"tertiary\" as everyone in those categories has at least secondary education\n",
    "\n",
    "[click this link](#task3) to jump back to the Task 3 section of the Notebook."
   ]
  },
  {
   "cell_type": "code",
   "execution_count": 79,
   "metadata": {},
   "outputs": [
    {
     "data": {
      "text/plain": [
       "0    yes\n",
       "1    yes\n",
       "2    yes\n",
       "3    yes\n",
       "4    yes\n",
       "5    yes\n",
       "6    yes\n",
       "7    yes\n",
       "8    yes\n",
       "9    yes\n",
       "Name: post_primary, dtype: object"
      ]
     },
     "execution_count": 79,
     "metadata": {},
     "output_type": "execute_result"
    }
   ],
   "source": [
    "df['post_primary'] = df['education']\n",
    "df['post_primary'].head(10)\n",
    "di = {'tertiary'    : 'yes',       \n",
    "      'secondary'   : 'yes',      \n",
    "      'primary'     : 'no'}   \n",
    "df['post_primary'].replace(di, inplace=True)\n",
    "df['post_primary'].head(10)"
   ]
  },
  {
   "cell_type": "code",
   "execution_count": 80,
   "metadata": {},
   "outputs": [
    {
     "data": {
      "image/png": "[encoded data removed]",
      "text/plain": [
       "<Figure size 432x288 with 1 Axes>"
      ]
     },
     "metadata": {
      "needs_background": "light"
     },
     "output_type": "display_data"
    }
   ],
   "source": [
    "# Plot Age verus Post_Primary\n",
    "bplot = sns.boxplot(y='age', x='post_primary', \n",
    "                 data=df, \n",
    "                 width=0.5,\n",
    "                 palette=\"colorblind\")\n",
    "\n",
    "# Some overlap but separate medians"
   ]
  },
  {
   "cell_type": "markdown",
   "metadata": {},
   "source": [
    "<a id='task1_tree_app'></a>"
   ]
  },
  {
   "cell_type": "markdown",
   "metadata": {},
   "source": [
    "#### Task 1 - Age Decision Tree Application\n",
    "\n",
    "Using the newly created features \"work_status\", \"has_been_married\" and \"post_primary\", create a decision tree to impute the missing age values and apply it to the datafream"
   ]
  },
  {
   "cell_type": "code",
   "execution_count": 81,
   "metadata": {},
   "outputs": [
    {
     "data": {
      "text/html": [
       "<div>\n",
       "<style scoped>\n",
       "    .dataframe tbody tr th:only-of-type {\n",
       "        vertical-align: middle;\n",
       "    }\n",
       "\n",
       "    .dataframe tbody tr th {\n",
       "        vertical-align: top;\n",
       "    }\n",
       "\n",
       "    .dataframe thead th {\n",
       "        text-align: right;\n",
       "    }\n",
       "</style>\n",
       "<table border=\"1\" class=\"dataframe\">\n",
       "  <thead>\n",
       "    <tr style=\"text-align: right;\">\n",
       "      <th></th>\n",
       "      <th>age</th>\n",
       "      <th>job</th>\n",
       "      <th>marital</th>\n",
       "      <th>education</th>\n",
       "      <th>default</th>\n",
       "      <th>balance</th>\n",
       "      <th>ratio_bal_ln</th>\n",
       "      <th>ratio_ln_inc</th>\n",
       "      <th>housing</th>\n",
       "      <th>loan</th>\n",
       "      <th>...</th>\n",
       "      <th>month</th>\n",
       "      <th>duration</th>\n",
       "      <th>campaign</th>\n",
       "      <th>pdays</th>\n",
       "      <th>previous</th>\n",
       "      <th>poutcome</th>\n",
       "      <th>subscribed</th>\n",
       "      <th>work_status</th>\n",
       "      <th>has_been_married</th>\n",
       "      <th>post_primary</th>\n",
       "    </tr>\n",
       "  </thead>\n",
       "  <tbody>\n",
       "    <tr>\n",
       "      <th>0</th>\n",
       "      <td>32.0</td>\n",
       "      <td>technician</td>\n",
       "      <td>single</td>\n",
       "      <td>tertiary</td>\n",
       "      <td>no</td>\n",
       "      <td>392</td>\n",
       "      <td>1.300134</td>\n",
       "      <td>0.473895</td>\n",
       "      <td>yes</td>\n",
       "      <td>no</td>\n",
       "      <td>...</td>\n",
       "      <td>apr</td>\n",
       "      <td>957</td>\n",
       "      <td>2</td>\n",
       "      <td>131</td>\n",
       "      <td>2</td>\n",
       "      <td>failure</td>\n",
       "      <td>no</td>\n",
       "      <td>available</td>\n",
       "      <td>no</td>\n",
       "      <td>yes</td>\n",
       "    </tr>\n",
       "    <tr>\n",
       "      <th>1</th>\n",
       "      <td>39.0</td>\n",
       "      <td>technician</td>\n",
       "      <td>divorced</td>\n",
       "      <td>secondary</td>\n",
       "      <td>no</td>\n",
       "      <td>688</td>\n",
       "      <td>-0.193701</td>\n",
       "      <td>0.237021</td>\n",
       "      <td>yes</td>\n",
       "      <td>yes</td>\n",
       "      <td>...</td>\n",
       "      <td>apr</td>\n",
       "      <td>233</td>\n",
       "      <td>2</td>\n",
       "      <td>133</td>\n",
       "      <td>1</td>\n",
       "      <td>failure</td>\n",
       "      <td>no</td>\n",
       "      <td>available</td>\n",
       "      <td>yes</td>\n",
       "      <td>yes</td>\n",
       "    </tr>\n",
       "    <tr>\n",
       "      <th>2</th>\n",
       "      <td>59.0</td>\n",
       "      <td>retired</td>\n",
       "      <td>married</td>\n",
       "      <td>secondary</td>\n",
       "      <td>no</td>\n",
       "      <td>1035</td>\n",
       "      <td>1.334266</td>\n",
       "      <td>0.121981</td>\n",
       "      <td>yes</td>\n",
       "      <td>yes</td>\n",
       "      <td>...</td>\n",
       "      <td>apr</td>\n",
       "      <td>126</td>\n",
       "      <td>2</td>\n",
       "      <td>239</td>\n",
       "      <td>1</td>\n",
       "      <td>failure</td>\n",
       "      <td>no</td>\n",
       "      <td>retired</td>\n",
       "      <td>yes</td>\n",
       "      <td>yes</td>\n",
       "    </tr>\n",
       "    <tr>\n",
       "      <th>3</th>\n",
       "      <td>47.0</td>\n",
       "      <td>blue-collar</td>\n",
       "      <td>married</td>\n",
       "      <td>secondary</td>\n",
       "      <td>no</td>\n",
       "      <td>398</td>\n",
       "      <td>0.362286</td>\n",
       "      <td>1.251328</td>\n",
       "      <td>yes</td>\n",
       "      <td>yes</td>\n",
       "      <td>...</td>\n",
       "      <td>apr</td>\n",
       "      <td>274</td>\n",
       "      <td>1</td>\n",
       "      <td>238</td>\n",
       "      <td>2</td>\n",
       "      <td>failure</td>\n",
       "      <td>no</td>\n",
       "      <td>available</td>\n",
       "      <td>yes</td>\n",
       "      <td>yes</td>\n",
       "    </tr>\n",
       "    <tr>\n",
       "      <th>4</th>\n",
       "      <td>54.0</td>\n",
       "      <td>retired</td>\n",
       "      <td>married</td>\n",
       "      <td>secondary</td>\n",
       "      <td>no</td>\n",
       "      <td>1004</td>\n",
       "      <td>0.072075</td>\n",
       "      <td>-0.533738</td>\n",
       "      <td>yes</td>\n",
       "      <td>no</td>\n",
       "      <td>...</td>\n",
       "      <td>apr</td>\n",
       "      <td>479</td>\n",
       "      <td>1</td>\n",
       "      <td>307</td>\n",
       "      <td>1</td>\n",
       "      <td>failure</td>\n",
       "      <td>no</td>\n",
       "      <td>retired</td>\n",
       "      <td>yes</td>\n",
       "      <td>yes</td>\n",
       "    </tr>\n",
       "  </tbody>\n",
       "</table>\n",
       "<p>5 rows × 22 columns</p>\n",
       "</div>"
      ],
      "text/plain": [
       "    age          job   marital  education default  balance  ratio_bal_ln  \\\n",
       "0  32.0   technician    single   tertiary      no      392      1.300134   \n",
       "1  39.0   technician  divorced  secondary      no      688     -0.193701   \n",
       "2  59.0      retired   married  secondary      no     1035      1.334266   \n",
       "3  47.0  blue-collar   married  secondary      no      398      0.362286   \n",
       "4  54.0      retired   married  secondary      no     1004      0.072075   \n",
       "\n",
       "   ratio_ln_inc housing loan     ...      month  duration campaign  pdays  \\\n",
       "0      0.473895     yes   no     ...        apr       957        2    131   \n",
       "1      0.237021     yes  yes     ...        apr       233        2    133   \n",
       "2      0.121981     yes  yes     ...        apr       126        2    239   \n",
       "3      1.251328     yes  yes     ...        apr       274        1    238   \n",
       "4     -0.533738     yes   no     ...        apr       479        1    307   \n",
       "\n",
       "   previous  poutcome  subscribed work_status has_been_married post_primary  \n",
       "0         2   failure          no   available               no          yes  \n",
       "1         1   failure          no   available              yes          yes  \n",
       "2         1   failure          no     retired              yes          yes  \n",
       "3         2   failure          no   available              yes          yes  \n",
       "4         1   failure          no     retired              yes          yes  \n",
       "\n",
       "[5 rows x 22 columns]"
      ]
     },
     "execution_count": 81,
     "metadata": {},
     "output_type": "execute_result"
    }
   ],
   "source": [
    "# Show new features are present\n",
    "df.head()"
   ]
  },
  {
   "cell_type": "code",
   "execution_count": 82,
   "metadata": {},
   "outputs": [
    {
     "data": {
      "text/html": [
       "<div>\n",
       "<style scoped>\n",
       "    .dataframe tbody tr th:only-of-type {\n",
       "        vertical-align: middle;\n",
       "    }\n",
       "\n",
       "    .dataframe tbody tr th {\n",
       "        vertical-align: top;\n",
       "    }\n",
       "\n",
       "    .dataframe thead th {\n",
       "        text-align: right;\n",
       "    }\n",
       "</style>\n",
       "<table border=\"1\" class=\"dataframe\">\n",
       "  <thead>\n",
       "    <tr style=\"text-align: right;\">\n",
       "      <th></th>\n",
       "      <th>age</th>\n",
       "      <th>job</th>\n",
       "      <th>marital</th>\n",
       "      <th>education</th>\n",
       "      <th>default</th>\n",
       "      <th>balance</th>\n",
       "      <th>ratio_bal_ln</th>\n",
       "      <th>ratio_ln_inc</th>\n",
       "      <th>housing</th>\n",
       "      <th>loan</th>\n",
       "      <th>...</th>\n",
       "      <th>duration</th>\n",
       "      <th>campaign</th>\n",
       "      <th>pdays</th>\n",
       "      <th>previous</th>\n",
       "      <th>poutcome</th>\n",
       "      <th>subscribed</th>\n",
       "      <th>work_status_retired</th>\n",
       "      <th>work_status_student</th>\n",
       "      <th>has_been_married_yes</th>\n",
       "      <th>post_primary_yes</th>\n",
       "    </tr>\n",
       "  </thead>\n",
       "  <tbody>\n",
       "    <tr>\n",
       "      <th>0</th>\n",
       "      <td>32.0</td>\n",
       "      <td>technician</td>\n",
       "      <td>single</td>\n",
       "      <td>tertiary</td>\n",
       "      <td>no</td>\n",
       "      <td>392</td>\n",
       "      <td>1.300134</td>\n",
       "      <td>0.473895</td>\n",
       "      <td>yes</td>\n",
       "      <td>no</td>\n",
       "      <td>...</td>\n",
       "      <td>957</td>\n",
       "      <td>2</td>\n",
       "      <td>131</td>\n",
       "      <td>2</td>\n",
       "      <td>failure</td>\n",
       "      <td>no</td>\n",
       "      <td>0</td>\n",
       "      <td>0</td>\n",
       "      <td>0</td>\n",
       "      <td>1</td>\n",
       "    </tr>\n",
       "    <tr>\n",
       "      <th>1</th>\n",
       "      <td>39.0</td>\n",
       "      <td>technician</td>\n",
       "      <td>divorced</td>\n",
       "      <td>secondary</td>\n",
       "      <td>no</td>\n",
       "      <td>688</td>\n",
       "      <td>-0.193701</td>\n",
       "      <td>0.237021</td>\n",
       "      <td>yes</td>\n",
       "      <td>yes</td>\n",
       "      <td>...</td>\n",
       "      <td>233</td>\n",
       "      <td>2</td>\n",
       "      <td>133</td>\n",
       "      <td>1</td>\n",
       "      <td>failure</td>\n",
       "      <td>no</td>\n",
       "      <td>0</td>\n",
       "      <td>0</td>\n",
       "      <td>1</td>\n",
       "      <td>1</td>\n",
       "    </tr>\n",
       "    <tr>\n",
       "      <th>2</th>\n",
       "      <td>59.0</td>\n",
       "      <td>retired</td>\n",
       "      <td>married</td>\n",
       "      <td>secondary</td>\n",
       "      <td>no</td>\n",
       "      <td>1035</td>\n",
       "      <td>1.334266</td>\n",
       "      <td>0.121981</td>\n",
       "      <td>yes</td>\n",
       "      <td>yes</td>\n",
       "      <td>...</td>\n",
       "      <td>126</td>\n",
       "      <td>2</td>\n",
       "      <td>239</td>\n",
       "      <td>1</td>\n",
       "      <td>failure</td>\n",
       "      <td>no</td>\n",
       "      <td>1</td>\n",
       "      <td>0</td>\n",
       "      <td>1</td>\n",
       "      <td>1</td>\n",
       "    </tr>\n",
       "    <tr>\n",
       "      <th>3</th>\n",
       "      <td>47.0</td>\n",
       "      <td>blue-collar</td>\n",
       "      <td>married</td>\n",
       "      <td>secondary</td>\n",
       "      <td>no</td>\n",
       "      <td>398</td>\n",
       "      <td>0.362286</td>\n",
       "      <td>1.251328</td>\n",
       "      <td>yes</td>\n",
       "      <td>yes</td>\n",
       "      <td>...</td>\n",
       "      <td>274</td>\n",
       "      <td>1</td>\n",
       "      <td>238</td>\n",
       "      <td>2</td>\n",
       "      <td>failure</td>\n",
       "      <td>no</td>\n",
       "      <td>0</td>\n",
       "      <td>0</td>\n",
       "      <td>1</td>\n",
       "      <td>1</td>\n",
       "    </tr>\n",
       "    <tr>\n",
       "      <th>4</th>\n",
       "      <td>54.0</td>\n",
       "      <td>retired</td>\n",
       "      <td>married</td>\n",
       "      <td>secondary</td>\n",
       "      <td>no</td>\n",
       "      <td>1004</td>\n",
       "      <td>0.072075</td>\n",
       "      <td>-0.533738</td>\n",
       "      <td>yes</td>\n",
       "      <td>no</td>\n",
       "      <td>...</td>\n",
       "      <td>479</td>\n",
       "      <td>1</td>\n",
       "      <td>307</td>\n",
       "      <td>1</td>\n",
       "      <td>failure</td>\n",
       "      <td>no</td>\n",
       "      <td>1</td>\n",
       "      <td>0</td>\n",
       "      <td>1</td>\n",
       "      <td>1</td>\n",
       "    </tr>\n",
       "  </tbody>\n",
       "</table>\n",
       "<p>5 rows × 23 columns</p>\n",
       "</div>"
      ],
      "text/plain": [
       "    age          job   marital  education default  balance  ratio_bal_ln  \\\n",
       "0  32.0   technician    single   tertiary      no      392      1.300134   \n",
       "1  39.0   technician  divorced  secondary      no      688     -0.193701   \n",
       "2  59.0      retired   married  secondary      no     1035      1.334266   \n",
       "3  47.0  blue-collar   married  secondary      no      398      0.362286   \n",
       "4  54.0      retired   married  secondary      no     1004      0.072075   \n",
       "\n",
       "   ratio_ln_inc housing loan        ...        duration  campaign pdays  \\\n",
       "0      0.473895     yes   no        ...             957         2   131   \n",
       "1      0.237021     yes  yes        ...             233         2   133   \n",
       "2      0.121981     yes  yes        ...             126         2   239   \n",
       "3      1.251328     yes  yes        ...             274         1   238   \n",
       "4     -0.533738     yes   no        ...             479         1   307   \n",
       "\n",
       "   previous  poutcome  subscribed  work_status_retired work_status_student  \\\n",
       "0         2   failure          no                    0                   0   \n",
       "1         1   failure          no                    0                   0   \n",
       "2         1   failure          no                    1                   0   \n",
       "3         2   failure          no                    0                   0   \n",
       "4         1   failure          no                    1                   0   \n",
       "\n",
       "  has_been_married_yes  post_primary_yes  \n",
       "0                    0                 1  \n",
       "1                    1                 1  \n",
       "2                    1                 1  \n",
       "3                    1                 1  \n",
       "4                    1                 1  \n",
       "\n",
       "[5 rows x 23 columns]"
      ]
     },
     "execution_count": 82,
     "metadata": {},
     "output_type": "execute_result"
    }
   ],
   "source": [
    "# Convert new features to numerical\n",
    "# Setting drop_first=True to minimize the number of numerical attributes used to encode the categorical values\n",
    "\n",
    "df = pd.get_dummies(df, columns=['work_status',  'has_been_married', 'post_primary'], drop_first=True)\n",
    "\n",
    "df.head()"
   ]
  },
  {
   "cell_type": "code",
   "execution_count": 83,
   "metadata": {},
   "outputs": [
    {
     "data": {
      "text/html": [
       "<div>\n",
       "<style scoped>\n",
       "    .dataframe tbody tr th:only-of-type {\n",
       "        vertical-align: middle;\n",
       "    }\n",
       "\n",
       "    .dataframe tbody tr th {\n",
       "        vertical-align: top;\n",
       "    }\n",
       "\n",
       "    .dataframe thead th {\n",
       "        text-align: right;\n",
       "    }\n",
       "</style>\n",
       "<table border=\"1\" class=\"dataframe\">\n",
       "  <thead>\n",
       "    <tr style=\"text-align: right;\">\n",
       "      <th></th>\n",
       "      <th>age</th>\n",
       "      <th>balance</th>\n",
       "      <th>ratio_bal_ln</th>\n",
       "      <th>ratio_ln_inc</th>\n",
       "      <th>day</th>\n",
       "      <th>duration</th>\n",
       "      <th>campaign</th>\n",
       "      <th>pdays</th>\n",
       "      <th>previous</th>\n",
       "      <th>work_status_retired</th>\n",
       "      <th>work_status_student</th>\n",
       "      <th>has_been_married_yes</th>\n",
       "      <th>post_primary_yes</th>\n",
       "    </tr>\n",
       "  </thead>\n",
       "  <tbody>\n",
       "    <tr>\n",
       "      <th>count</th>\n",
       "      <td>1988.000000</td>\n",
       "      <td>2000.000000</td>\n",
       "      <td>2000.000000</td>\n",
       "      <td>2000.000000</td>\n",
       "      <td>2000.000000</td>\n",
       "      <td>2000.000000</td>\n",
       "      <td>2000.000000</td>\n",
       "      <td>2000.000000</td>\n",
       "      <td>2000.000000</td>\n",
       "      <td>2000.000000</td>\n",
       "      <td>2000.00000</td>\n",
       "      <td>2000.000000</td>\n",
       "      <td>2000.000000</td>\n",
       "    </tr>\n",
       "    <tr>\n",
       "      <th>mean</th>\n",
       "      <td>41.753018</td>\n",
       "      <td>1413.663500</td>\n",
       "      <td>0.241951</td>\n",
       "      <td>0.485030</td>\n",
       "      <td>13.851500</td>\n",
       "      <td>292.020500</td>\n",
       "      <td>1.909500</td>\n",
       "      <td>167.896000</td>\n",
       "      <td>2.561500</td>\n",
       "      <td>0.081000</td>\n",
       "      <td>0.04800</td>\n",
       "      <td>0.663000</td>\n",
       "      <td>0.839500</td>\n",
       "    </tr>\n",
       "    <tr>\n",
       "      <th>std</th>\n",
       "      <td>12.724358</td>\n",
       "      <td>3131.224213</td>\n",
       "      <td>0.821604</td>\n",
       "      <td>1.075543</td>\n",
       "      <td>9.712189</td>\n",
       "      <td>221.557295</td>\n",
       "      <td>1.378862</td>\n",
       "      <td>131.754126</td>\n",
       "      <td>3.400735</td>\n",
       "      <td>0.272903</td>\n",
       "      <td>0.21382</td>\n",
       "      <td>0.472803</td>\n",
       "      <td>0.367161</td>\n",
       "    </tr>\n",
       "    <tr>\n",
       "      <th>min</th>\n",
       "      <td>18.000000</td>\n",
       "      <td>-980.000000</td>\n",
       "      <td>-2.632068</td>\n",
       "      <td>-2.851405</td>\n",
       "      <td>1.000000</td>\n",
       "      <td>7.000000</td>\n",
       "      <td>1.000000</td>\n",
       "      <td>-1.000000</td>\n",
       "      <td>0.000000</td>\n",
       "      <td>0.000000</td>\n",
       "      <td>0.00000</td>\n",
       "      <td>0.000000</td>\n",
       "      <td>0.000000</td>\n",
       "    </tr>\n",
       "    <tr>\n",
       "      <th>25%</th>\n",
       "      <td>32.000000</td>\n",
       "      <td>201.500000</td>\n",
       "      <td>-0.308018</td>\n",
       "      <td>-0.274181</td>\n",
       "      <td>5.000000</td>\n",
       "      <td>146.000000</td>\n",
       "      <td>1.000000</td>\n",
       "      <td>75.750000</td>\n",
       "      <td>1.000000</td>\n",
       "      <td>0.000000</td>\n",
       "      <td>0.00000</td>\n",
       "      <td>0.000000</td>\n",
       "      <td>1.000000</td>\n",
       "    </tr>\n",
       "    <tr>\n",
       "      <th>50%</th>\n",
       "      <td>38.000000</td>\n",
       "      <td>551.000000</td>\n",
       "      <td>0.224099</td>\n",
       "      <td>0.487082</td>\n",
       "      <td>12.000000</td>\n",
       "      <td>236.000000</td>\n",
       "      <td>1.000000</td>\n",
       "      <td>182.000000</td>\n",
       "      <td>2.000000</td>\n",
       "      <td>0.000000</td>\n",
       "      <td>0.00000</td>\n",
       "      <td>1.000000</td>\n",
       "      <td>1.000000</td>\n",
       "    </tr>\n",
       "    <tr>\n",
       "      <th>75%</th>\n",
       "      <td>50.000000</td>\n",
       "      <td>1644.500000</td>\n",
       "      <td>0.806315</td>\n",
       "      <td>1.211896</td>\n",
       "      <td>23.000000</td>\n",
       "      <td>379.000000</td>\n",
       "      <td>2.000000</td>\n",
       "      <td>251.000000</td>\n",
       "      <td>3.000000</td>\n",
       "      <td>0.000000</td>\n",
       "      <td>0.00000</td>\n",
       "      <td>1.000000</td>\n",
       "      <td>1.000000</td>\n",
       "    </tr>\n",
       "    <tr>\n",
       "      <th>max</th>\n",
       "      <td>93.000000</td>\n",
       "      <td>81204.000000</td>\n",
       "      <td>2.961979</td>\n",
       "      <td>4.046914</td>\n",
       "      <td>31.000000</td>\n",
       "      <td>1823.000000</td>\n",
       "      <td>11.000000</td>\n",
       "      <td>854.000000</td>\n",
       "      <td>55.000000</td>\n",
       "      <td>1.000000</td>\n",
       "      <td>1.00000</td>\n",
       "      <td>1.000000</td>\n",
       "      <td>1.000000</td>\n",
       "    </tr>\n",
       "  </tbody>\n",
       "</table>\n",
       "</div>"
      ],
      "text/plain": [
       "               age       balance  ratio_bal_ln  ratio_ln_inc          day  \\\n",
       "count  1988.000000   2000.000000   2000.000000   2000.000000  2000.000000   \n",
       "mean     41.753018   1413.663500      0.241951      0.485030    13.851500   \n",
       "std      12.724358   3131.224213      0.821604      1.075543     9.712189   \n",
       "min      18.000000   -980.000000     -2.632068     -2.851405     1.000000   \n",
       "25%      32.000000    201.500000     -0.308018     -0.274181     5.000000   \n",
       "50%      38.000000    551.000000      0.224099      0.487082    12.000000   \n",
       "75%      50.000000   1644.500000      0.806315      1.211896    23.000000   \n",
       "max      93.000000  81204.000000      2.961979      4.046914    31.000000   \n",
       "\n",
       "          duration     campaign        pdays     previous  \\\n",
       "count  2000.000000  2000.000000  2000.000000  2000.000000   \n",
       "mean    292.020500     1.909500   167.896000     2.561500   \n",
       "std     221.557295     1.378862   131.754126     3.400735   \n",
       "min       7.000000     1.000000    -1.000000     0.000000   \n",
       "25%     146.000000     1.000000    75.750000     1.000000   \n",
       "50%     236.000000     1.000000   182.000000     2.000000   \n",
       "75%     379.000000     2.000000   251.000000     3.000000   \n",
       "max    1823.000000    11.000000   854.000000    55.000000   \n",
       "\n",
       "       work_status_retired  work_status_student  has_been_married_yes  \\\n",
       "count          2000.000000           2000.00000           2000.000000   \n",
       "mean              0.081000              0.04800              0.663000   \n",
       "std               0.272903              0.21382              0.472803   \n",
       "min               0.000000              0.00000              0.000000   \n",
       "25%               0.000000              0.00000              0.000000   \n",
       "50%               0.000000              0.00000              1.000000   \n",
       "75%               0.000000              0.00000              1.000000   \n",
       "max               1.000000              1.00000              1.000000   \n",
       "\n",
       "       post_primary_yes  \n",
       "count       2000.000000  \n",
       "mean           0.839500  \n",
       "std            0.367161  \n",
       "min            0.000000  \n",
       "25%            1.000000  \n",
       "50%            1.000000  \n",
       "75%            1.000000  \n",
       "max            1.000000  "
      ]
     },
     "execution_count": 83,
     "metadata": {},
     "output_type": "execute_result"
    }
   ],
   "source": [
    "df.describe()"
   ]
  },
  {
   "cell_type": "code",
   "execution_count": 84,
   "metadata": {},
   "outputs": [],
   "source": [
    "# Dataset for Decision Tree\n",
    "y = df[['age']].values\n",
    "X = df[['work_status_retired','work_status_student', 'has_been_married_yes', 'post_primary_yes']].values"
   ]
  },
  {
   "cell_type": "code",
   "execution_count": 85,
   "metadata": {},
   "outputs": [
    {
     "name": "stdout",
     "output_type": "stream",
     "text": [
      "y contains nan\n",
      "X does not contain nan\n",
      "y does not contain nan\n"
     ]
    }
   ],
   "source": [
    "# Remove all NaNs from the X and Y set used for the Decision Tree\n",
    "\n",
    "# from https://stackoverflow.com/questions/911871/detect-if-a-numpy-array-contains-at-least-one-non-numeric-value\n",
    "if (np.where(np.isnan(y)))[0].shape[0]: \n",
    "    print (\"y contains nan\")\n",
    "else:\n",
    "    print (\"y does not contain nan\")\n",
    "    \n",
    "if (np.where(np.isnan(X)))[0].shape[0]: \n",
    "    print (\"X contains nan\")\n",
    "else:\n",
    "    print (\"X does not contain nan\")\n",
    "    \n",
    "# Y Contains Nan that needs to be removed\n",
    "# Get index of locations that contain NaN\n",
    "# and remove from both X and Y\n",
    "nan_idx = np.argwhere(np.isnan(y))\n",
    "nan_idx = nan_idx[:,0]\n",
    "\n",
    "y = np.delete(y, nan_idx, 0)\n",
    "X = np.delete(X, nan_idx, 0)\n",
    "\n",
    "# Check that no NaNs remain\n",
    "\n",
    "if (np.where(np.isnan(y)))[0].shape[0]: \n",
    "    print (\"y contains nan\")\n",
    "else:\n",
    "    print (\"y does not contain nan\")"
   ]
  },
  {
   "cell_type": "code",
   "execution_count": 86,
   "metadata": {},
   "outputs": [
    {
     "name": "stdout",
     "output_type": "stream",
     "text": [
      "(1988, 1)\n",
      "(1988, 4)\n"
     ]
    }
   ],
   "source": [
    "print(y.shape)\n",
    "print(X.shape)\n",
    "\n",
    "# Split the dataset\n",
    "X_train, X_test, y_train, y_test = train_test_split(X, y, test_size=0.2, random_state=42)"
   ]
  },
  {
   "cell_type": "code",
   "execution_count": 89,
   "metadata": {},
   "outputs": [
    {
     "name": "stdout",
     "output_type": "stream",
     "text": [
      "Decision Tree Score:\t 0.5557605954037013\n"
     ]
    }
   ],
   "source": [
    "# Train Decision Tree\n",
    "from sklearn import tree\n",
    "\n",
    "age_dt = tree.DecisionTreeRegressor()\n",
    "age_dt = age_dt.fit(X_train, y_train)\n",
    "print(\"Decision Tree Score:\\t\",age_dt.score(X_test, y_test))\n",
    "\n",
    "y_hat = age_dt.predict(X_test);\n",
    "\n",
    "# Print predictions versus actual on test dataset\n",
    "#for i in range (len(y_test)):\n",
    "#    print(i,\"\\t Test\\t\",y_test[i],\"\\tPredict\\t\",y_hat[i],\"\\tDelta\\t\",y_test[i]-y_hat[i])"
   ]
  },
  {
   "cell_type": "code",
   "execution_count": 27,
   "metadata": {},
   "outputs": [
    {
     "name": "stdout",
     "output_type": "stream",
     "text": [
      "Index 456 updated with predicted value 42.0\n",
      "Index 472 updated with predicted value 48.0\n",
      "Index 526 updated with predicted value 42.0\n",
      "Index 595 updated with predicted value 42.0\n",
      "Index 597 updated with predicted value 42.0\n",
      "Index 601 updated with predicted value 33.0\n",
      "Index 605 updated with predicted value 42.0\n",
      "Index 744 updated with predicted value 42.0\n",
      "Index 795 updated with predicted value 33.0\n",
      "Index 1171 updated with predicted value 65.0\n",
      "Index 1232 updated with predicted value 25.0\n",
      "Index 1408 updated with predicted value 33.0\n"
     ]
    }
   ],
   "source": [
    "# Get indices of rows with missing 'age' values\n",
    "idx = df.loc[df['age'].isnull()].index\n",
    "    \n",
    "# Rebuild X and Y with the previously removed NaNs\n",
    "y = df[['age']].values\n",
    "X = df[['work_status_retired','work_status_student', 'has_been_married_yes', 'post_primary_yes']].values\n",
    "\n",
    "for i in idx:\n",
    "    # Reshapre X[i\n",
    "    X_pred = np.expand_dims(X[i], axis=1)\n",
    "\n",
    "    # Make a prediction using the Age Decision Tree Regressor and convert to INT\n",
    "    pred = int(age_dt.predict(X_pred.T))\n",
    "\n",
    "    # Replace the NaN value with the Predicted Value\n",
    "    df.loc[i, 'age'] = pred\n",
    "\n",
    "# Print contents before replacement:\n",
    "for i in idx:\n",
    "    print(\"Index\",i,\"updated with predicted value\",df.loc[i, 'age'])\n"
   ]
  },
  {
   "cell_type": "markdown",
   "metadata": {},
   "source": [
    "<a id='task1_tree_analysis'></a>"
   ]
  },
  {
   "cell_type": "markdown",
   "metadata": {},
   "source": [
    "#### Task 1 - Age Decision Tree Analysis\n",
    "\n",
    "Calculated Missing Values:\n",
    "* The student (Index 232) was given an age of 25\n",
    "* The retiree (Index 1171) was given an age of 65\n",
    "* The 3 working singletons (Indices 601, 795 and 1408) were given an age of 33\n",
    "* The only missing example with only a primary educatio was given an age of 48\n",
    "* The 6 other remaining indices were given an age of 42\n",
    "\n",
    "Given that the mean age for this attribute was 42 (41.75 rounded to nearest int), it appears that 50% of the missing values were given this value when imputed.\n",
    "\n",
    "However, the other 50% of the missing values were given values different to the overall mean by taking account of job, education and marital status.\n",
    "\n",
    "Although using a decision tree might have been overkill in this particular case, I think it shows the general usefulness of this approach for imputing missing data"
   ]
  },
  {
   "cell_type": "markdown",
   "metadata": {},
   "source": [
    "<a id='task1_job'></a>"
   ]
  },
  {
   "cell_type": "markdown",
   "metadata": {},
   "source": [
    "#### Task1 -  Fill In Missing \"Job\" Values"
   ]
  },
  {
   "cell_type": "code",
   "execution_count": 28,
   "metadata": {},
   "outputs": [
    {
     "name": "stdout",
     "output_type": "stream",
     "text": [
      "Index(['job', 'education', 'contact', 'poutcome'], dtype='object')\n",
      "      job   age  education  marital\n",
      "255   NaN  42.0    primary   single\n",
      "257   NaN  46.0        NaN  married\n",
      "831   NaN  41.0    primary   single\n",
      "1223  NaN  55.0  secondary  married\n",
      "1281  NaN  50.0        NaN  married\n",
      "1669  NaN  54.0  secondary  married\n",
      "1711  NaN  77.0        NaN  married\n",
      "1801  NaN  28.0        NaN   single\n",
      "1868  NaN  48.0        NaN   single\n",
      "1975  NaN  45.0   tertiary  married\n"
     ]
    }
   ],
   "source": [
    "# https://dzone.com/articles/pandas-find-rows-where-columnfield-is-null\n",
    "null_columns=df.columns[df.isnull().any()]\n",
    "print(null_columns)\n",
    "#print(df[df[\"age\"].isnull()][null_columns])\n",
    "\n",
    "# Do not delete - use later MPP\n",
    "#print(df[df[\"job\"].isnull()][null_columns])\n",
    "print(df[df[\"job\"].isnull()][['job', 'age', 'education', 'marital']])"
   ]
  },
  {
   "cell_type": "markdown",
   "metadata": {},
   "source": [
    "#### Analysis on Job Missing Values\n",
    "* There are 10 rows with missing job values\n",
    "* Intuitively, one would think that education could be used as an indicator of the type of job\n",
    "* Unfortunately, of the 10 rows with missing job values, 5 of the rows also have missing education values so it is not realistic to be able to expect the infer the missing values based on education\n",
    "* One of the rows with a missing job has an age of 77. Based on previous boxplots, the job could be set to \"retired\" with reasonable confidence\n",
    "* For the other rows, it is not possible to make a sensible categorical guess. Therefore I am going to replae \"NaN\" with \"unknown\""
   ]
  },
  {
   "cell_type": "code",
   "execution_count": 29,
   "metadata": {},
   "outputs": [
    {
     "name": "stdout",
     "output_type": "stream",
     "text": [
      "nan\n",
      "retired\n",
      "nan\n",
      "unknown\n"
     ]
    }
   ],
   "source": [
    "# Replace the NaN value with the Predicted Value\n",
    "print(df.loc[1711, 'job'])\n",
    "df.loc[1711, 'job'] = 'retired'\n",
    "print(df.loc[1711, 'job'])\n",
    "\n",
    "print(df.loc[1868, 'job'])\n",
    "df['job'].fillna('unknown', inplace=True)\n",
    "print(df.loc[1868, 'job'])"
   ]
  },
  {
   "cell_type": "markdown",
   "metadata": {},
   "source": [
    "<a id='task1_edu'></a>"
   ]
  },
  {
   "cell_type": "markdown",
   "metadata": {},
   "source": [
    "#### Task1 -  Fill In Missing \"Education\" Values"
   ]
  },
  {
   "cell_type": "code",
   "execution_count": 30,
   "metadata": {},
   "outputs": [
    {
     "name": "stdout",
     "output_type": "stream",
     "text": [
      "     education            job   age   marital\n",
      "10         NaN     management  38.0    single\n",
      "15         NaN    blue-collar  38.0   married\n",
      "124        NaN    blue-collar  39.0   married\n",
      "209        NaN     management  37.0   married\n",
      "257        NaN        unknown  46.0   married\n",
      "262        NaN    blue-collar  31.0   married\n",
      "285        NaN     technician  51.0  divorced\n",
      "324        NaN    blue-collar  41.0   married\n",
      "348        NaN         admin.  56.0   married\n",
      "381        NaN     management  43.0   married\n",
      "389        NaN     technician  33.0    single\n",
      "404        NaN     technician  58.0   married\n",
      "419        NaN       services  31.0    single\n",
      "442        NaN    blue-collar  35.0    single\n",
      "449        NaN    blue-collar  40.0   married\n",
      "521        NaN     technician  46.0   married\n",
      "527        NaN     technician  52.0   married\n",
      "542        NaN     technician  52.0   married\n",
      "547        NaN     management  54.0   married\n",
      "566        NaN     technician  51.0   married\n",
      "657        NaN        retired  60.0  divorced\n",
      "678        NaN     technician  32.0    single\n",
      "714        NaN  self-employed  30.0   married\n",
      "718        NaN     management  46.0   married\n",
      "731        NaN    blue-collar  54.0    single\n",
      "733        NaN     technician  55.0   married\n",
      "767        NaN        student  27.0    single\n",
      "804        NaN     technician  37.0    single\n",
      "815        NaN   entrepreneur  36.0   married\n",
      "856        NaN    blue-collar  51.0   married\n",
      "...        ...            ...   ...       ...\n",
      "1505       NaN     management  45.0   married\n",
      "1522       NaN        student  21.0    single\n",
      "1523       NaN         admin.  27.0    single\n",
      "1590       NaN     management  38.0   married\n",
      "1621       NaN       services  47.0  divorced\n",
      "1624       NaN        student  29.0    single\n",
      "1645       NaN     management  64.0   married\n",
      "1698       NaN     management  66.0   married\n",
      "1709       NaN        student  18.0    single\n",
      "1711       NaN        retired  77.0   married\n",
      "1713       NaN        student  23.0    single\n",
      "1724       NaN        retired  78.0   married\n",
      "1737       NaN       services  33.0    single\n",
      "1798       NaN       services  48.0  divorced\n",
      "1799       NaN     technician  32.0    single\n",
      "1801       NaN        unknown  28.0    single\n",
      "1822       NaN     management  42.0   married\n",
      "1839       NaN     management  78.0   married\n",
      "1842       NaN     technician  46.0   married\n",
      "1868       NaN        unknown  48.0    single\n",
      "1869       NaN     management  52.0   married\n",
      "1899       NaN     management  58.0  divorced\n",
      "1925       NaN        student  46.0    single\n",
      "1935       NaN        retired  69.0   married\n",
      "1938       NaN        retired  67.0   married\n",
      "1944       NaN     management  39.0   married\n",
      "1972       NaN     unemployed  29.0    single\n",
      "1985       NaN        student  21.0    single\n",
      "1993       NaN     management  35.0   married\n",
      "1995       NaN        student  20.0    single\n",
      "\n",
      "[104 rows x 4 columns]\n"
     ]
    }
   ],
   "source": [
    "print(df[df[\"education\"].isnull()][['education', 'job', 'age', 'marital']])"
   ]
  },
  {
   "cell_type": "code",
   "execution_count": 31,
   "metadata": {},
   "outputs": [
    {
     "name": "stdout",
     "output_type": "stream",
     "text": [
      "               education\n",
      "job                     \n",
      "admin.          0.958159\n",
      "blue-collar     0.677083\n",
      "entrepreneur    0.909091\n",
      "housemaid       0.542857\n",
      "management      0.979452\n",
      "retired         0.651316\n",
      "self-employed   1.000000\n",
      "services        0.924051\n",
      "student         0.949367\n",
      "technician      0.972561\n",
      "unemployed      0.926471\n",
      "unknown         0.600000\n"
     ]
    },
    {
     "data": {
      "image/png": "[encoded data removed]",
      "text/plain": [
       "<Figure size 432x288 with 1 Axes>"
      ]
     },
     "metadata": {
      "needs_background": "light"
     },
     "output_type": "display_data"
    },
    {
     "name": "stdout",
     "output_type": "stream",
     "text": [
      "               education\n",
      "job                     \n",
      "admin.          0.146444\n",
      "blue-collar     0.034722\n",
      "entrepreneur    0.500000\n",
      "housemaid       0.200000\n",
      "management      0.892694\n",
      "retired         0.144737\n",
      "self-employed   0.758065\n",
      "services        0.069620\n",
      "student         0.202532\n",
      "technician      0.310976\n",
      "unemployed      0.294118\n",
      "unknown         0.200000\n"
     ]
    },
    {
     "data": {
      "image/png": "[encoded data removed]",
      "text/plain": [
       "<Figure size 432x288 with 1 Axes>"
      ]
     },
     "metadata": {
      "needs_background": "light"
     },
     "output_type": "display_data"
    }
   ],
   "source": [
    "# Calculate statistics for the categorical attributes.\n",
    "\n",
    "# frequency_table = df['job'].value_counts(ascending=True)\n",
    "# print('Frequency Table for job:') \n",
    "# print(frequency_table)\n",
    "\n",
    "# # Plot the frequency table for housing\n",
    "# frequency_table.plot(kind='bar')\n",
    "# plt.xlabel('job')\n",
    "# plt.ylabel('Number of Applicants')\n",
    "# plt.title('Applicants by job')\n",
    "\n",
    "pivot_table = df.pivot_table(values='education',\n",
    "                       index=['job'],\n",
    "                       aggfunc=lambda x: x.map({'primary':0, 'secondary':1, 'tertiary':1}).mean()) \n",
    "\n",
    "# Print pivot table\n",
    "print(pivot_table)\n",
    "\n",
    "# Plot pivot table\n",
    "pivot_table.plot(kind='bar')\n",
    "plt.xlabel('job')\n",
    "plt.ylabel('Probability of Secondary Education')\n",
    "plt.title('Probability of Secondary Education by Job')\n",
    "plt.legend().set_visible(False) # we don't need the default legend\n",
    "\n",
    "plt.show()\n",
    "\n",
    "pivot_table = df.pivot_table(values='education',\n",
    "                       index=['job'],\n",
    "                       aggfunc=lambda x: x.map({'primary':0, 'secondary':0, 'tertiary':1}).mean()) \n",
    "\n",
    "# Print pivot table\n",
    "print(pivot_table)\n",
    "\n",
    "# Plot pivot table\n",
    "pivot_table.plot(kind='bar')\n",
    "plt.xlabel('job')\n",
    "plt.ylabel('Probability of Tertiary Education')\n",
    "plt.title('Probability of Tertiary Education by Job')\n",
    "plt.legend().set_visible(False) # we don't need the default legend\n",
    "\n",
    "plt.show()"
   ]
  },
  {
   "cell_type": "code",
   "execution_count": 32,
   "metadata": {},
   "outputs": [
    {
     "name": "stdout",
     "output_type": "stream",
     "text": [
      "Int64Index([  10,   15,  124,  209,  257,  262,  285,  324,  348,  381,\n",
      "            ...\n",
      "            1869, 1899, 1925, 1935, 1938, 1944, 1972, 1985, 1993, 1995],\n",
      "           dtype='int64', length=104)\n"
     ]
    }
   ],
   "source": [
    "idx = df.loc[df['education'].isnull()].index\n",
    "print(idx)"
   ]
  },
  {
   "cell_type": "code",
   "execution_count": 33,
   "metadata": {},
   "outputs": [
    {
     "name": "stdout",
     "output_type": "stream",
     "text": [
      "Int64Index([   8,    9,   10,   19,   21,   23,   24,   25,   35,   40,\n",
      "            ...\n",
      "            1960, 1963, 1965, 1966, 1969, 1976, 1979, 1982, 1984, 1993],\n",
      "           dtype='int64', length=461)\n"
     ]
    }
   ],
   "source": [
    "idx = df.loc[df['job']=='management'].index\n",
    "print(idx)"
   ]
  },
  {
   "cell_type": "code",
   "execution_count": 34,
   "metadata": {},
   "outputs": [
    {
     "name": "stdout",
     "output_type": "stream",
     "text": [
      "       age         job  marital education default  balance  ratio_bal_ln  \\\n",
      "23    40.0  management  married   primary      no      738      0.936778   \n",
      "160   53.0  management  married   primary      no      798     -0.170324   \n",
      "171   55.0  management  married   primary      no      621      0.753516   \n",
      "343   56.0  management  married   primary      no      199      0.850639   \n",
      "391   42.0  management  married   primary      no     -417      0.133487   \n",
      "620   44.0  management  married   primary      no     5418      0.050233   \n",
      "936   47.0  management  married   primary      no     1222      0.187067   \n",
      "1619  59.0  management  married   primary      no     1727     -0.359920   \n",
      "1682  56.0  management  married   primary      no      870     -0.826019   \n",
      "\n",
      "      ratio_ln_inc housing loan        ...        duration  campaign pdays  \\\n",
      "23        0.742725     yes  yes        ...             399         2   258   \n",
      "160      -0.755515     yes   no        ...              45         1   217   \n",
      "171      -0.295262      no  yes        ...             114         1   208   \n",
      "343       1.167266     yes  yes        ...             331         2   209   \n",
      "391       1.316213     yes   no        ...              81         3   273   \n",
      "620      -0.978663     yes  yes        ...             188         1   185   \n",
      "936      -1.876657     yes   no        ...              28         3    -1   \n",
      "1619      0.406183      no   no        ...             500         4   358   \n",
      "1682      0.798440      no   no        ...             220         1   179   \n",
      "\n",
      "      previous  poutcome  subscribed  work_status_retired work_status_student  \\\n",
      "23           3   failure          no                    0                   0   \n",
      "160          2   failure          no                    0                   0   \n",
      "171          1   failure          no                    0                   0   \n",
      "343          1   failure          no                    0                   0   \n",
      "391          3   failure          no                    0                   0   \n",
      "620          5   failure          no                    0                   0   \n",
      "936          0       NaN          no                    0                   0   \n",
      "1619         2   failure         yes                    0                   0   \n",
      "1682         1   success         yes                    0                   0   \n",
      "\n",
      "     has_been_married_yes  post_primary_yes  \n",
      "23                      1                 0  \n",
      "160                     1                 0  \n",
      "171                     1                 0  \n",
      "343                     1                 0  \n",
      "391                     1                 0  \n",
      "620                     1                 0  \n",
      "936                     1                 0  \n",
      "1619                    1                 0  \n",
      "1682                    1                 0  \n",
      "\n",
      "[9 rows x 23 columns]\n"
     ]
    }
   ],
   "source": [
    "print(df.loc[(df['job'].isin(['management','entrepeneur','self-employed'])) & (df['education'].isin(['primary']))])"
   ]
  },
  {
   "cell_type": "code",
   "execution_count": 35,
   "metadata": {},
   "outputs": [],
   "source": [
    "# Get indices of rows with missing 'education' values and job = ['management','entrepeneur','self-employed']\n",
    "# https://stackoverflow.com/questions/17071871/select-rows-from-a-dataframe-based-on-values-in-a-column-in-pandas/17071908\n",
    "idx = df.loc[(df['job'].isin(['management','entrepeneur','self-employed'])) & (df['education'].isnull())].index\n",
    "\n",
    "for i in idx:\n",
    "    # Replace the NaN value with the Predicted Value\n",
    "    df.loc[i, 'education'] = 'tertiary'\n",
    "\n",
    "# Fill the rest of the missing values with 'secondary'\n",
    "df['education'].fillna('secondary', inplace=True)\n"
   ]
  },
  {
   "cell_type": "markdown",
   "metadata": {},
   "source": [
    "#### Education Missing Values Analysis\n",
    "education\n",
    "Total Values = \t 1896 \n",
    "\n",
    "secondary    995\n",
    "tertiary     684\n",
    "primary      217\n",
    "\n",
    "11% Primary Education\n",
    "52% Secondary Education\n",
    "36% Tertiary Education\n",
    "\n",
    "Assuming that everyone with a Tertiary Education also has a Seconday Education, this means that 88% of people actually have a secondary education\n",
    "\n",
    "Using job as an indicator of education level\n",
    "\n",
    "For all job types, the probability of secondary education (incl tertiary) is greater than 0.5, indicating that it is most likely that all of the missing samples have at least got a secondary education.\n",
    "\n",
    "There are only three job types that have a probability of tertiary education greater than 0.5\n",
    "* entrepeneur = 0.5\n",
    "* management = 0.89\n",
    "* self-employed = 0.75\n",
    "\n",
    "All the other job types have a low probability of having tertiary education.\n",
    "\n",
    "Therefore, the strategy to replace NaNs in Education column will be as follows:\n",
    "* Replace all Education NaNs that have a job = 'entrepeneur' OR 'management' OR 'self-employed' with 'tertiary'\n",
    "* Replace all others with 'secondary'"
   ]
  },
  {
   "cell_type": "markdown",
   "metadata": {},
   "source": [
    "<a id='task1_con'></a>"
   ]
  },
  {
   "cell_type": "markdown",
   "metadata": {},
   "source": [
    "#### Task1 -  Fill In Missing \"Contact\" Values\n",
    "\n",
    "Total Values = \t 1809 \n",
    "\n",
    "cellular     1663\n",
    "telephone     146\n",
    "\n",
    "92% of values are 'cellular'. \n",
    "\n",
    "Replace all missing values with 'cellular'"
   ]
  },
  {
   "cell_type": "code",
   "execution_count": 36,
   "metadata": {},
   "outputs": [],
   "source": [
    "# Fill missing 'contact' values with 'cellular'\n",
    "df['contact'].fillna('cellular', inplace=True)"
   ]
  },
  {
   "cell_type": "markdown",
   "metadata": {},
   "source": [
    "<a id='task1_poutcome'></a>"
   ]
  },
  {
   "cell_type": "markdown",
   "metadata": {},
   "source": [
    "#### Task1 -  Fill In Missing \"Poutcome\" Values\n",
    "\n",
    "Total Values = \t 1546 \n",
    "\n",
    "failure    955\n",
    "success    444\n",
    "other      147\n",
    "\n",
    "62% Failure\n",
    "29% Success\n",
    "9.5% Other\n",
    "\n",
    "There are almost 25% of the dataset with a missing value for this attribute. Given that this attribute already has an \"other\" label that has no specific outcome attached to it, I am going to replace all missing values with \"other\""
   ]
  },
  {
   "cell_type": "code",
   "execution_count": 37,
   "metadata": {},
   "outputs": [],
   "source": [
    "# Fill missing 'poutcome' values with 'other'\n",
    "df['poutcome'].fillna('other', inplace=True)"
   ]
  },
  {
   "cell_type": "code",
   "execution_count": 38,
   "metadata": {},
   "outputs": [
    {
     "data": {
      "text/plain": [
       "age                     0\n",
       "job                     0\n",
       "marital                 0\n",
       "education               0\n",
       "default                 0\n",
       "balance                 0\n",
       "ratio_bal_ln            0\n",
       "ratio_ln_inc            0\n",
       "housing                 0\n",
       "loan                    0\n",
       "contact                 0\n",
       "day                     0\n",
       "month                   0\n",
       "duration                0\n",
       "campaign                0\n",
       "pdays                   0\n",
       "previous                0\n",
       "poutcome                0\n",
       "subscribed              0\n",
       "work_status_retired     0\n",
       "work_status_student     0\n",
       "has_been_married_yes    0\n",
       "post_primary_yes        0\n",
       "dtype: int64"
      ]
     },
     "execution_count": 38,
     "metadata": {},
     "output_type": "execute_result"
    }
   ],
   "source": [
    "# Check that all attributes no longer have any missing values\n",
    "df.apply(lambda x: sum(x.isnull()), axis=0)"
   ]
  },
  {
   "cell_type": "markdown",
   "metadata": {},
   "source": [
    "### Replace Categoricals With Numerical Attributes"
   ]
  },
  {
   "cell_type": "code",
   "execution_count": 39,
   "metadata": {},
   "outputs": [],
   "source": [
    "#df = pd.get_dummies(df, columns=['job','marital', 'education', 'housing', 'default', 'loan', 'contact', 'month', 'poutcome'], drop_first=True)"
   ]
  },
  {
   "cell_type": "code",
   "execution_count": 40,
   "metadata": {},
   "outputs": [],
   "source": [
    "# df.describe()"
   ]
  },
  {
   "cell_type": "code",
   "execution_count": 41,
   "metadata": {},
   "outputs": [],
   "source": [
    "#df.head()"
   ]
  },
  {
   "cell_type": "code",
   "execution_count": 42,
   "metadata": {},
   "outputs": [],
   "source": [
    "#df.tail()"
   ]
  },
  {
   "cell_type": "markdown",
   "metadata": {},
   "source": [
    "<a id='task1_analysis'></a>"
   ]
  },
  {
   "cell_type": "markdown",
   "metadata": {},
   "source": [
    "#### Task1 -  Analysis\n",
    "\n",
    "Task 1 Missing Values\n",
    "\n",
    "age              12\n",
    "job              10\n",
    "education       104\n",
    "contact         191\n",
    "poutcome        454\n",
    "\n",
    "Age has 12 missing features. I thought that 'job' might be a good indicator of age and plotted a boxplot of age versus job. It showed that 'student' had lower ages than most other 'job' values and that 'retired' had higher values than all other jobs - this outcome stands to reason. For all the other jobs, the spread of ages on the boxplot looked broadly similar (except possibly for entrepeneur and handmain) and suggested most other jobs had a reasonable age distribution.\n",
    "\n",
    "I also plotted 'education' versus 'age' and it showed that 'primary' had a slightly higher average age than 'secondary' and 'tertiary'. \n",
    "\n",
    "Similarly, 'marital' status versus 'age' showed that 'single' had a lower range than 'married' and 'divorced' again this stands to reason.\n",
    "\n",
    "I decided to use a decision tree using job, education and marital to infer age. \n",
    "\n",
    "As jobs had ages clustered in three ranges, I created a new feature \"work_status\" that bucketed applicants into \"available\" for work, \"retired\" or \"student\".\n",
    "\n",
    "Since married also had clustered ages, I created a new feature 'has_been_married' which grouped 'married' and 'divorced' together and kept 'single' as its own label\n",
    "\n",
    "As secondary and tertiary education had similar age spreads, I created a feature called \"post_primary\" to group these together.\n",
    "\n",
    "I used these engineered feature to create a decision tree to infer the value of ages\n",
    "\n",
    "For 'jobs' and 'education' I used pivot table analysis to infer the missing values\n",
    "\n",
    "For 'contact' and 'poutcome' I merely used 'unknown' to replace the missing values as this suited the data\n",
    "\n",
    "[click this link](#contents) to jump back to the table contents at the beginning of the notebook."
   ]
  },
  {
   "cell_type": "markdown",
   "metadata": {},
   "source": [
    "<a id='task2'></a>"
   ]
  },
  {
   "cell_type": "markdown",
   "metadata": {},
   "source": [
    "# Task 2 \n",
    "\n",
    "Decide on the treatment of outliers in the bank data set. If appropriate, remove examples with extreme or unexpected attribute values, apply log transformation to numeric attributes with extreme values. Use other methods, if appropriate, to treat outliers as well. In your notebook, explain shortly (max 250 words) the decisions you have taken."
   ]
  },
  {
   "cell_type": "markdown",
   "metadata": {},
   "source": [
    "#### Function to Plot Histograms and Boxplot\n",
    "\n",
    "The following function is used to jointly plot a histogram and a boxplot using seaborn\n",
    "\n",
    "This function will be used to examine the numerical attributes for outliers"
   ]
  },
  {
   "cell_type": "code",
   "execution_count": 43,
   "metadata": {},
   "outputs": [],
   "source": [
    "def plot_hist_with_box(feature):\n",
    "    # From https://python-graph-gallery.com/24-histogram-with-a-boxplot-on-top-seaborn/\n",
    "    # Cut the window in 2 parts\n",
    "    f, (ax_box, ax_hist) = plt.subplots(2, sharex=True, gridspec_kw={\"height_ratios\": (.15, .85)})\n",
    "\n",
    "    # Add a graph in each part\n",
    "    sns.boxplot(df[feature], ax=ax_box)\n",
    "    sns.distplot(df[feature], ax=ax_hist)\n",
    "    #sns.boxplot(df[\"balance\"], ax=ax_box)\n",
    "    #sns.distplot(df[\"balance\"], ax=ax_hist)\n",
    "\n",
    "    # Remove x axis name for the boxplot\n",
    "    ax_box.set(xlabel='')\n",
    "    plt.show()\n",
    "    return"
   ]
  },
  {
   "cell_type": "markdown",
   "metadata": {},
   "source": [
    "<a id='task2_plot'></a>"
   ]
  },
  {
   "cell_type": "markdown",
   "metadata": {},
   "source": [
    "#### Task2 -  Numerical Attribute Plots"
   ]
  },
  {
   "cell_type": "code",
   "execution_count": 44,
   "metadata": {
    "scrolled": false
   },
   "outputs": [
    {
     "name": "stdout",
     "output_type": "stream",
     "text": [
      "Feature:\t age\n"
     ]
    },
    {
     "name": "stderr",
     "output_type": "stream",
     "text": [
      "C:\\Users\\mpower1\\AppData\\Local\\Continuum\\anaconda3\\lib\\site-packages\\scipy\\stats\\stats.py:1713: FutureWarning: Using a non-tuple sequence for multidimensional indexing is deprecated; use `arr[tuple(seq)]` instead of `arr[seq]`. In the future this will be interpreted as an array index, `arr[np.array(seq)]`, which will result either in an error or a different result.\n",
      "  return np.add.reduce(sorted[indexer] * weights, axis=axis) / sumval\n"
     ]
    },
    {
     "data": {
      "image/png": "[encoded data removed]",
      "text/plain": [
       "<Figure size 432x288 with 2 Axes>"
      ]
     },
     "metadata": {
      "needs_background": "light"
     },
     "output_type": "display_data"
    },
    {
     "name": "stdout",
     "output_type": "stream",
     "text": [
      "\n",
      " ----------------------------------------------------------------------\n",
      "Feature:\t balance\n"
     ]
    },
    {
     "data": {
      "image/png": "[encoded data removed]",
      "text/plain": [
       "<Figure size 432x288 with 2 Axes>"
      ]
     },
     "metadata": {
      "needs_background": "light"
     },
     "output_type": "display_data"
    },
    {
     "name": "stdout",
     "output_type": "stream",
     "text": [
      "\n",
      " ----------------------------------------------------------------------\n",
      "Feature:\t ratio_bal_ln\n"
     ]
    },
    {
     "data": {
      "image/png": "[encoded data removed]",
      "text/plain": [
       "<Figure size 432x288 with 2 Axes>"
      ]
     },
     "metadata": {
      "needs_background": "light"
     },
     "output_type": "display_data"
    },
    {
     "name": "stdout",
     "output_type": "stream",
     "text": [
      "\n",
      " ----------------------------------------------------------------------\n",
      "Feature:\t ratio_ln_inc\n"
     ]
    },
    {
     "data": {
      "image/png": "[encoded data removed]",
      "text/plain": [
       "<Figure size 432x288 with 2 Axes>"
      ]
     },
     "metadata": {
      "needs_background": "light"
     },
     "output_type": "display_data"
    },
    {
     "name": "stdout",
     "output_type": "stream",
     "text": [
      "\n",
      " ----------------------------------------------------------------------\n",
      "Feature:\t day\n"
     ]
    },
    {
     "data": {
      "image/png": "[encoded data removed]",
      "text/plain": [
       "<Figure size 432x288 with 2 Axes>"
      ]
     },
     "metadata": {
      "needs_background": "light"
     },
     "output_type": "display_data"
    },
    {
     "name": "stdout",
     "output_type": "stream",
     "text": [
      "\n",
      " ----------------------------------------------------------------------\n",
      "Feature:\t duration\n"
     ]
    },
    {
     "data": {
      "image/png": "[encoded data removed]",
      "text/plain": [
       "<Figure size 432x288 with 2 Axes>"
      ]
     },
     "metadata": {
      "needs_background": "light"
     },
     "output_type": "display_data"
    },
    {
     "name": "stdout",
     "output_type": "stream",
     "text": [
      "\n",
      " ----------------------------------------------------------------------\n",
      "Feature:\t campaign\n"
     ]
    },
    {
     "data": {
      "image/png": "[encoded data removed]",
      "text/plain": [
       "<Figure size 432x288 with 2 Axes>"
      ]
     },
     "metadata": {
      "needs_background": "light"
     },
     "output_type": "display_data"
    },
    {
     "name": "stdout",
     "output_type": "stream",
     "text": [
      "\n",
      " ----------------------------------------------------------------------\n",
      "Feature:\t pdays\n"
     ]
    },
    {
     "data": {
      "image/png": "[encoded data removed]",
      "text/plain": [
       "<Figure size 432x288 with 2 Axes>"
      ]
     },
     "metadata": {
      "needs_background": "light"
     },
     "output_type": "display_data"
    },
    {
     "name": "stdout",
     "output_type": "stream",
     "text": [
      "\n",
      " ----------------------------------------------------------------------\n",
      "Feature:\t previous\n"
     ]
    },
    {
     "data": {
      "image/png": "[encoded data removed]",
      "text/plain": [
       "<Figure size 432x288 with 2 Axes>"
      ]
     },
     "metadata": {
      "needs_background": "light"
     },
     "output_type": "display_data"
    },
    {
     "name": "stdout",
     "output_type": "stream",
     "text": [
      "\n",
      " ----------------------------------------------------------------------\n"
     ]
    }
   ],
   "source": [
    "# For each numerical attribute, plot a boxplot and histogram\n",
    "for col in numeric_cols:\n",
    "    print('Feature:\\t',col)\n",
    "    plot_hist_with_box(str(col))\n",
    "    print('\\n', '-' * 70) # separator to make the output easy to read\n"
   ]
  },
  {
   "cell_type": "markdown",
   "metadata": {},
   "source": [
    "<a id='task2_plot_analysis'></a>"
   ]
  },
  {
   "cell_type": "markdown",
   "metadata": {},
   "source": [
    "#### Task2 -  Numerical Attribute Plots Analysis\n",
    "\t• age \n",
    "\t\t○ Applicant Age\n",
    "\t\t○ 18-93\n",
    "\t\t○ Several outliers in the late70s to early 90s\n",
    "\t• balance\n",
    "\t\t○ Average Yearly Balance\n",
    "\t\t○ One very far out outlier\n",
    "\t\t○ Many other outliers\n",
    "\t\t○ Not normally distributed\n",
    "\t\t○ Has negative values so log transform cannot be applied directly\n",
    "\t• ratio_bal_ln\n",
    "\t\t○ Ratio of Balance to Loan\n",
    "\t\t○ Normally distributed\n",
    "\t\t○ Some outliers in tail regions\n",
    "\t\t○ Centred around zero\n",
    "\t• ratio_ln_inc\n",
    "\t\t○ Ratio of Loan to Income\n",
    "\t\t○ Normally distributed\n",
    "\t\t○ Some outliers in tail regions\n",
    "\t\t○ Centred around zero\n",
    "\t• day\n",
    "\t\t○ Last contact day of month\n",
    "\t\t○ Distribution aligns with a number that is used to indicate a calendar dat\n",
    "\t\t○ Bump at beginning and end of month\n",
    "\t• duration\n",
    "\t\t○ Last contact duration in seconds\n",
    "\t\t○ Normal distribution with outliers in tail region\n",
    "\t• campaign\n",
    "\t\t○ Number of Contacts Performed during the current campaign\n",
    "\t\t○ Majority of people contacted 1-3 times\n",
    "\t• pdays\n",
    "\t\t○ Number of days that passed by after the client was last contacted from a previous campaign\n",
    "\t\t○ -1 = Not contacted\n",
    "\t\t○ There are 454 examples with pdays set to -1 to indicate no contact, this is distrorting the distribution\n",
    "\t\t○ If this value was ignored, the distribution would start to approach a normal distribution\n",
    "\t\t○ There are no examples with a value of pdays = 0\n",
    "\t\t\n",
    "\t• previous\n",
    "\t\t○ Number of Contacts Performed during the previous campaign\n",
    "\t\t○ Varies from 0 to 55 but with an average of 2.5\n",
    "\t\t○ The 75% value is 3 which suggests a lot of outliers\n",
    "        ○ TheExponential distribution appearance\n",
    "\n",
    "#### Next Steps\n",
    "* Age\n",
    "* Balance\n",
    "* Outliers not being considered for removal/transformation as they will not be used in subsequent logistic regression:\n",
    "  - duration\n",
    "  - pdays\n",
    "  - previous"
   ]
  },
  {
   "cell_type": "markdown",
   "metadata": {},
   "source": [
    "<a id='task2_age_boxcox'></a>"
   ]
  },
  {
   "cell_type": "markdown",
   "metadata": {},
   "source": [
    "#### Task2 -  \"Age\" Box-Cox Transformation"
   ]
  },
  {
   "cell_type": "code",
   "execution_count": 45,
   "metadata": {},
   "outputs": [
    {
     "name": "stderr",
     "output_type": "stream",
     "text": [
      "C:\\Users\\mpower1\\AppData\\Local\\Continuum\\anaconda3\\lib\\site-packages\\scipy\\stats\\stats.py:1713: FutureWarning: Using a non-tuple sequence for multidimensional indexing is deprecated; use `arr[tuple(seq)]` instead of `arr[seq]`. In the future this will be interpreted as an array index, `arr[np.array(seq)]`, which will result either in an error or a different result.\n",
      "  return np.add.reduce(sorted[indexer] * weights, axis=axis) / sumval\n"
     ]
    },
    {
     "data": {
      "image/png": "[encoded data removed]",
      "text/plain": [
       "<Figure size 432x288 with 2 Axes>"
      ]
     },
     "metadata": {
      "needs_background": "light"
     },
     "output_type": "display_data"
    }
   ],
   "source": [
    "# Apply Box-Cox Transform to 'age'\n",
    "\n",
    "df['bc_age'] = power_transform(np.expand_dims(df['age'], axis=1), method='box-cox')\n",
    "plot_hist_with_box('bc_age')"
   ]
  },
  {
   "cell_type": "markdown",
   "metadata": {},
   "source": [
    "<a id='task2_bal_yj'></a>"
   ]
  },
  {
   "cell_type": "markdown",
   "metadata": {},
   "source": [
    "#### Task2 -  \"Balance\" Yeo-Johnson Transformation"
   ]
  },
  {
   "cell_type": "code",
   "execution_count": 46,
   "metadata": {},
   "outputs": [
    {
     "name": "stderr",
     "output_type": "stream",
     "text": [
      "C:\\Users\\mpower1\\AppData\\Local\\Continuum\\anaconda3\\lib\\site-packages\\scipy\\stats\\stats.py:1713: FutureWarning: Using a non-tuple sequence for multidimensional indexing is deprecated; use `arr[tuple(seq)]` instead of `arr[seq]`. In the future this will be interpreted as an array index, `arr[np.array(seq)]`, which will result either in an error or a different result.\n",
      "  return np.add.reduce(sorted[indexer] * weights, axis=axis) / sumval\n"
     ]
    },
    {
     "data": {
      "image/png": "[encoded data removed]",
      "text/plain": [
       "<Figure size 432x288 with 2 Axes>"
      ]
     },
     "metadata": {
      "needs_background": "light"
     },
     "output_type": "display_data"
    }
   ],
   "source": [
    "# Balance contains negative values which means log transform or box-cox cannot be applied\n",
    "# Yeo-Johnson handles positive and negative numbers so applying that transform\n",
    "\n",
    "df['yj_balance'] = power_transform(np.expand_dims(df['balance'], axis=1), method='yeo-johnson')\n",
    "plot_hist_with_box('yj_balance')"
   ]
  },
  {
   "cell_type": "markdown",
   "metadata": {},
   "source": [
    "<a id='task2_analysis'></a>"
   ]
  },
  {
   "cell_type": "markdown",
   "metadata": {},
   "source": [
    "#### Task2 -  Analysis\n",
    "\n",
    "To Do\n",
    "\n",
    "TBD\n",
    "\n",
    "[click this link](#contents) to jump back to the table contents at the beginning of the notebook."
   ]
  },
  {
   "cell_type": "markdown",
   "metadata": {},
   "source": [
    "<a id='task3'></a>"
   ]
  },
  {
   "cell_type": "markdown",
   "metadata": {},
   "source": [
    "## Task 3 (CS5062)\n",
    "Suggest the creation of at least one new feature from the existing ones and justify the usefulness of your choice within the context of the 2-class classification problem you have defined in E-tivity 1."
   ]
  },
  {
   "cell_type": "markdown",
   "metadata": {},
   "source": [
    "<a id='task3_work_status'></a>"
   ]
  },
  {
   "cell_type": "markdown",
   "metadata": {},
   "source": [
    "#### Task 3 - \"Work Status\" Feature\n",
    "\n",
    "TODO\n",
    "\n",
    "[click this link](#task3_work_status_code) to jump the code relating to this feature in the Task 1 section of the Notebook."
   ]
  },
  {
   "cell_type": "markdown",
   "metadata": {},
   "source": [
    "<a id='task3_has_been_married'></a>"
   ]
  },
  {
   "cell_type": "markdown",
   "metadata": {},
   "source": [
    "#### Task 3 - \"Has Been Married\" Feature\n",
    "\n",
    "TODO\n",
    "\n",
    "[click this link](#task3_has_been_married_code) to jump the code relating to this feature in the Task 1 section of the Notebook."
   ]
  },
  {
   "cell_type": "markdown",
   "metadata": {},
   "source": [
    "<a id='task3_post_primary'></a>"
   ]
  },
  {
   "cell_type": "markdown",
   "metadata": {},
   "source": [
    "#### Task 3 - \"Post Primary\" Feature\n",
    "\n",
    "TODO\n",
    "\n",
    "[click this link](#task3_has_been_married_code) to jump the code relating to this feature in the Task 1 section of the Notebook."
   ]
  },
  {
   "cell_type": "markdown",
   "metadata": {},
   "source": [
    "<a id='task3_work_status'></a>"
   ]
  },
  {
   "cell_type": "markdown",
   "metadata": {},
   "source": [
    "#### \"Work Status\" Feature Creation - Used in Task 1 but also applies to Task 3\n",
    "\n",
    "TODO Add details\n",
    "\n",
    "[click this link](#task3_work_status_code) to jump the code relating to this feature in the Task 1 section of the Notebook."
   ]
  },
  {
   "cell_type": "markdown",
   "metadata": {},
   "source": [
    "### Task 3 Feature Creation\n",
    "\n",
    "The following text is taken from Task 1 since I created 3 new features to use when inferring the missing age values using a decision tree\n",
    "\n",
    "I would like to analyse the data more in Week 4 to determine what other features can be created\n",
    "\n",
    "As jobs had ages clustered in three ranges, I created a new feature \"work_status\" that bucketed applicants into \"available\" for work, \"retired\" or \"student\".\n",
    "\n",
    "Since married also had clustered ages, I created a new feature 'has_been_married' which grouped 'married' and 'divorced' together and kept 'single' as its own label\n",
    "\n",
    "As secondary and tertiary education had similar age spreads, I created a feature called \"post_primary\" to group these together.\n",
    "\n",
    "I used these engineered feature to create a decision tree to infer the value of ages\n",
    "\n",
    "For 'jobs' and 'education' I used pivot table analysis to infer the missing values\n",
    "\n",
    "For 'contact' and 'poutcome' I merely used 'unknown' to replace the missing values as this suited the data"
   ]
  },
  {
   "cell_type": "markdown",
   "metadata": {},
   "source": [
    "<a id='task4'></a>"
   ]
  },
  {
   "cell_type": "markdown",
   "metadata": {},
   "source": [
    "## Task 4 (CE6002)\n",
    "Using the dataset you prepared, perform a classification on the data using scikitlearn’s logistic regression.\n",
    "\n",
    "Generate plots of the approximate probability P[Ein-Eout|>e]. You can use the exact same approach as in E-tivity 1. In the same figure, plot the Hoeffding bound and the VC bound and check whether or not either bound is exceeded (indicate this clearly in a markdown cell)."
   ]
  },
  {
   "cell_type": "markdown",
   "metadata": {},
   "source": [
    "<a id='task4_replace_cat'></a>"
   ]
  },
  {
   "cell_type": "markdown",
   "metadata": {},
   "source": [
    "#### Task 4 - Replace Categoricals With Numerical Attributes"
   ]
  },
  {
   "cell_type": "code",
   "execution_count": 47,
   "metadata": {},
   "outputs": [],
   "source": [
    "df = pd.get_dummies(df, columns=['job','marital', 'education', 'housing', 'default', 'loan', 'contact', 'month', 'poutcome'], drop_first=True)"
   ]
  },
  {
   "cell_type": "code",
   "execution_count": 48,
   "metadata": {},
   "outputs": [
    {
     "data": {
      "text/html": [
       "<div>\n",
       "<style scoped>\n",
       "    .dataframe tbody tr th:only-of-type {\n",
       "        vertical-align: middle;\n",
       "    }\n",
       "\n",
       "    .dataframe tbody tr th {\n",
       "        vertical-align: top;\n",
       "    }\n",
       "\n",
       "    .dataframe thead th {\n",
       "        text-align: right;\n",
       "    }\n",
       "</style>\n",
       "<table border=\"1\" class=\"dataframe\">\n",
       "  <thead>\n",
       "    <tr style=\"text-align: right;\">\n",
       "      <th></th>\n",
       "      <th>age</th>\n",
       "      <th>balance</th>\n",
       "      <th>ratio_bal_ln</th>\n",
       "      <th>ratio_ln_inc</th>\n",
       "      <th>day</th>\n",
       "      <th>duration</th>\n",
       "      <th>campaign</th>\n",
       "      <th>pdays</th>\n",
       "      <th>previous</th>\n",
       "      <th>work_status_retired</th>\n",
       "      <th>...</th>\n",
       "      <th>month_jan</th>\n",
       "      <th>month_jul</th>\n",
       "      <th>month_jun</th>\n",
       "      <th>month_mar</th>\n",
       "      <th>month_may</th>\n",
       "      <th>month_nov</th>\n",
       "      <th>month_oct</th>\n",
       "      <th>month_sep</th>\n",
       "      <th>poutcome_other</th>\n",
       "      <th>poutcome_success</th>\n",
       "    </tr>\n",
       "  </thead>\n",
       "  <tbody>\n",
       "    <tr>\n",
       "      <th>count</th>\n",
       "      <td>2000.000000</td>\n",
       "      <td>2000.000000</td>\n",
       "      <td>2000.000000</td>\n",
       "      <td>2000.000000</td>\n",
       "      <td>2000.000000</td>\n",
       "      <td>2000.000000</td>\n",
       "      <td>2000.000000</td>\n",
       "      <td>2000.000000</td>\n",
       "      <td>2000.000000</td>\n",
       "      <td>2000.000000</td>\n",
       "      <td>...</td>\n",
       "      <td>2000.000000</td>\n",
       "      <td>2000.000000</td>\n",
       "      <td>2000.000000</td>\n",
       "      <td>2000.000000</td>\n",
       "      <td>2000.000000</td>\n",
       "      <td>2000.000000</td>\n",
       "      <td>2000.000000</td>\n",
       "      <td>2000.000000</td>\n",
       "      <td>2000.00000</td>\n",
       "      <td>2000.000000</td>\n",
       "    </tr>\n",
       "    <tr>\n",
       "      <th>mean</th>\n",
       "      <td>41.747000</td>\n",
       "      <td>1413.663500</td>\n",
       "      <td>0.241951</td>\n",
       "      <td>0.485030</td>\n",
       "      <td>13.851500</td>\n",
       "      <td>292.020500</td>\n",
       "      <td>1.909500</td>\n",
       "      <td>167.896000</td>\n",
       "      <td>2.561500</td>\n",
       "      <td>0.081000</td>\n",
       "      <td>...</td>\n",
       "      <td>0.122500</td>\n",
       "      <td>0.083500</td>\n",
       "      <td>0.052000</td>\n",
       "      <td>0.035000</td>\n",
       "      <td>0.166500</td>\n",
       "      <td>0.034000</td>\n",
       "      <td>0.046500</td>\n",
       "      <td>0.067000</td>\n",
       "      <td>0.30050</td>\n",
       "      <td>0.222000</td>\n",
       "    </tr>\n",
       "    <tr>\n",
       "      <th>std</th>\n",
       "      <td>12.707586</td>\n",
       "      <td>3131.224213</td>\n",
       "      <td>0.821604</td>\n",
       "      <td>1.075543</td>\n",
       "      <td>9.712189</td>\n",
       "      <td>221.557295</td>\n",
       "      <td>1.378862</td>\n",
       "      <td>131.754126</td>\n",
       "      <td>3.400735</td>\n",
       "      <td>0.272903</td>\n",
       "      <td>...</td>\n",
       "      <td>0.327944</td>\n",
       "      <td>0.276706</td>\n",
       "      <td>0.222083</td>\n",
       "      <td>0.183826</td>\n",
       "      <td>0.372622</td>\n",
       "      <td>0.181274</td>\n",
       "      <td>0.210618</td>\n",
       "      <td>0.250085</td>\n",
       "      <td>0.45859</td>\n",
       "      <td>0.415695</td>\n",
       "    </tr>\n",
       "    <tr>\n",
       "      <th>min</th>\n",
       "      <td>18.000000</td>\n",
       "      <td>-980.000000</td>\n",
       "      <td>-2.632068</td>\n",
       "      <td>-2.851405</td>\n",
       "      <td>1.000000</td>\n",
       "      <td>7.000000</td>\n",
       "      <td>1.000000</td>\n",
       "      <td>-1.000000</td>\n",
       "      <td>0.000000</td>\n",
       "      <td>0.000000</td>\n",
       "      <td>...</td>\n",
       "      <td>0.000000</td>\n",
       "      <td>0.000000</td>\n",
       "      <td>0.000000</td>\n",
       "      <td>0.000000</td>\n",
       "      <td>0.000000</td>\n",
       "      <td>0.000000</td>\n",
       "      <td>0.000000</td>\n",
       "      <td>0.000000</td>\n",
       "      <td>0.00000</td>\n",
       "      <td>0.000000</td>\n",
       "    </tr>\n",
       "    <tr>\n",
       "      <th>25%</th>\n",
       "      <td>32.000000</td>\n",
       "      <td>201.500000</td>\n",
       "      <td>-0.308018</td>\n",
       "      <td>-0.274181</td>\n",
       "      <td>5.000000</td>\n",
       "      <td>146.000000</td>\n",
       "      <td>1.000000</td>\n",
       "      <td>75.750000</td>\n",
       "      <td>1.000000</td>\n",
       "      <td>0.000000</td>\n",
       "      <td>...</td>\n",
       "      <td>0.000000</td>\n",
       "      <td>0.000000</td>\n",
       "      <td>0.000000</td>\n",
       "      <td>0.000000</td>\n",
       "      <td>0.000000</td>\n",
       "      <td>0.000000</td>\n",
       "      <td>0.000000</td>\n",
       "      <td>0.000000</td>\n",
       "      <td>0.00000</td>\n",
       "      <td>0.000000</td>\n",
       "    </tr>\n",
       "    <tr>\n",
       "      <th>50%</th>\n",
       "      <td>38.000000</td>\n",
       "      <td>551.000000</td>\n",
       "      <td>0.224099</td>\n",
       "      <td>0.487082</td>\n",
       "      <td>12.000000</td>\n",
       "      <td>236.000000</td>\n",
       "      <td>1.000000</td>\n",
       "      <td>182.000000</td>\n",
       "      <td>2.000000</td>\n",
       "      <td>0.000000</td>\n",
       "      <td>...</td>\n",
       "      <td>0.000000</td>\n",
       "      <td>0.000000</td>\n",
       "      <td>0.000000</td>\n",
       "      <td>0.000000</td>\n",
       "      <td>0.000000</td>\n",
       "      <td>0.000000</td>\n",
       "      <td>0.000000</td>\n",
       "      <td>0.000000</td>\n",
       "      <td>0.00000</td>\n",
       "      <td>0.000000</td>\n",
       "    </tr>\n",
       "    <tr>\n",
       "      <th>75%</th>\n",
       "      <td>50.000000</td>\n",
       "      <td>1644.500000</td>\n",
       "      <td>0.806315</td>\n",
       "      <td>1.211896</td>\n",
       "      <td>23.000000</td>\n",
       "      <td>379.000000</td>\n",
       "      <td>2.000000</td>\n",
       "      <td>251.000000</td>\n",
       "      <td>3.000000</td>\n",
       "      <td>0.000000</td>\n",
       "      <td>...</td>\n",
       "      <td>0.000000</td>\n",
       "      <td>0.000000</td>\n",
       "      <td>0.000000</td>\n",
       "      <td>0.000000</td>\n",
       "      <td>0.000000</td>\n",
       "      <td>0.000000</td>\n",
       "      <td>0.000000</td>\n",
       "      <td>0.000000</td>\n",
       "      <td>1.00000</td>\n",
       "      <td>0.000000</td>\n",
       "    </tr>\n",
       "    <tr>\n",
       "      <th>max</th>\n",
       "      <td>93.000000</td>\n",
       "      <td>81204.000000</td>\n",
       "      <td>2.961979</td>\n",
       "      <td>4.046914</td>\n",
       "      <td>31.000000</td>\n",
       "      <td>1823.000000</td>\n",
       "      <td>11.000000</td>\n",
       "      <td>854.000000</td>\n",
       "      <td>55.000000</td>\n",
       "      <td>1.000000</td>\n",
       "      <td>...</td>\n",
       "      <td>1.000000</td>\n",
       "      <td>1.000000</td>\n",
       "      <td>1.000000</td>\n",
       "      <td>1.000000</td>\n",
       "      <td>1.000000</td>\n",
       "      <td>1.000000</td>\n",
       "      <td>1.000000</td>\n",
       "      <td>1.000000</td>\n",
       "      <td>1.00000</td>\n",
       "      <td>1.000000</td>\n",
       "    </tr>\n",
       "  </tbody>\n",
       "</table>\n",
       "<p>8 rows × 47 columns</p>\n",
       "</div>"
      ],
      "text/plain": [
       "               age       balance  ratio_bal_ln  ratio_ln_inc          day  \\\n",
       "count  2000.000000   2000.000000   2000.000000   2000.000000  2000.000000   \n",
       "mean     41.747000   1413.663500      0.241951      0.485030    13.851500   \n",
       "std      12.707586   3131.224213      0.821604      1.075543     9.712189   \n",
       "min      18.000000   -980.000000     -2.632068     -2.851405     1.000000   \n",
       "25%      32.000000    201.500000     -0.308018     -0.274181     5.000000   \n",
       "50%      38.000000    551.000000      0.224099      0.487082    12.000000   \n",
       "75%      50.000000   1644.500000      0.806315      1.211896    23.000000   \n",
       "max      93.000000  81204.000000      2.961979      4.046914    31.000000   \n",
       "\n",
       "          duration     campaign        pdays     previous  \\\n",
       "count  2000.000000  2000.000000  2000.000000  2000.000000   \n",
       "mean    292.020500     1.909500   167.896000     2.561500   \n",
       "std     221.557295     1.378862   131.754126     3.400735   \n",
       "min       7.000000     1.000000    -1.000000     0.000000   \n",
       "25%     146.000000     1.000000    75.750000     1.000000   \n",
       "50%     236.000000     1.000000   182.000000     2.000000   \n",
       "75%     379.000000     2.000000   251.000000     3.000000   \n",
       "max    1823.000000    11.000000   854.000000    55.000000   \n",
       "\n",
       "       work_status_retired        ...           month_jan    month_jul  \\\n",
       "count          2000.000000        ...         2000.000000  2000.000000   \n",
       "mean              0.081000        ...            0.122500     0.083500   \n",
       "std               0.272903        ...            0.327944     0.276706   \n",
       "min               0.000000        ...            0.000000     0.000000   \n",
       "25%               0.000000        ...            0.000000     0.000000   \n",
       "50%               0.000000        ...            0.000000     0.000000   \n",
       "75%               0.000000        ...            0.000000     0.000000   \n",
       "max               1.000000        ...            1.000000     1.000000   \n",
       "\n",
       "         month_jun    month_mar    month_may    month_nov    month_oct  \\\n",
       "count  2000.000000  2000.000000  2000.000000  2000.000000  2000.000000   \n",
       "mean      0.052000     0.035000     0.166500     0.034000     0.046500   \n",
       "std       0.222083     0.183826     0.372622     0.181274     0.210618   \n",
       "min       0.000000     0.000000     0.000000     0.000000     0.000000   \n",
       "25%       0.000000     0.000000     0.000000     0.000000     0.000000   \n",
       "50%       0.000000     0.000000     0.000000     0.000000     0.000000   \n",
       "75%       0.000000     0.000000     0.000000     0.000000     0.000000   \n",
       "max       1.000000     1.000000     1.000000     1.000000     1.000000   \n",
       "\n",
       "         month_sep  poutcome_other  poutcome_success  \n",
       "count  2000.000000      2000.00000       2000.000000  \n",
       "mean      0.067000         0.30050          0.222000  \n",
       "std       0.250085         0.45859          0.415695  \n",
       "min       0.000000         0.00000          0.000000  \n",
       "25%       0.000000         0.00000          0.000000  \n",
       "50%       0.000000         0.00000          0.000000  \n",
       "75%       0.000000         1.00000          0.000000  \n",
       "max       1.000000         1.00000          1.000000  \n",
       "\n",
       "[8 rows x 47 columns]"
      ]
     },
     "execution_count": 48,
     "metadata": {},
     "output_type": "execute_result"
    }
   ],
   "source": [
    "df.describe()"
   ]
  },
  {
   "cell_type": "code",
   "execution_count": 49,
   "metadata": {},
   "outputs": [
    {
     "data": {
      "text/html": [
       "<div>\n",
       "<style scoped>\n",
       "    .dataframe tbody tr th:only-of-type {\n",
       "        vertical-align: middle;\n",
       "    }\n",
       "\n",
       "    .dataframe tbody tr th {\n",
       "        vertical-align: top;\n",
       "    }\n",
       "\n",
       "    .dataframe thead th {\n",
       "        text-align: right;\n",
       "    }\n",
       "</style>\n",
       "<table border=\"1\" class=\"dataframe\">\n",
       "  <thead>\n",
       "    <tr style=\"text-align: right;\">\n",
       "      <th></th>\n",
       "      <th>age</th>\n",
       "      <th>balance</th>\n",
       "      <th>ratio_bal_ln</th>\n",
       "      <th>ratio_ln_inc</th>\n",
       "      <th>day</th>\n",
       "      <th>duration</th>\n",
       "      <th>campaign</th>\n",
       "      <th>pdays</th>\n",
       "      <th>previous</th>\n",
       "      <th>subscribed</th>\n",
       "      <th>...</th>\n",
       "      <th>month_jan</th>\n",
       "      <th>month_jul</th>\n",
       "      <th>month_jun</th>\n",
       "      <th>month_mar</th>\n",
       "      <th>month_may</th>\n",
       "      <th>month_nov</th>\n",
       "      <th>month_oct</th>\n",
       "      <th>month_sep</th>\n",
       "      <th>poutcome_other</th>\n",
       "      <th>poutcome_success</th>\n",
       "    </tr>\n",
       "  </thead>\n",
       "  <tbody>\n",
       "    <tr>\n",
       "      <th>0</th>\n",
       "      <td>32.0</td>\n",
       "      <td>392</td>\n",
       "      <td>1.300134</td>\n",
       "      <td>0.473895</td>\n",
       "      <td>1</td>\n",
       "      <td>957</td>\n",
       "      <td>2</td>\n",
       "      <td>131</td>\n",
       "      <td>2</td>\n",
       "      <td>no</td>\n",
       "      <td>...</td>\n",
       "      <td>0</td>\n",
       "      <td>0</td>\n",
       "      <td>0</td>\n",
       "      <td>0</td>\n",
       "      <td>0</td>\n",
       "      <td>0</td>\n",
       "      <td>0</td>\n",
       "      <td>0</td>\n",
       "      <td>0</td>\n",
       "      <td>0</td>\n",
       "    </tr>\n",
       "    <tr>\n",
       "      <th>1</th>\n",
       "      <td>39.0</td>\n",
       "      <td>688</td>\n",
       "      <td>-0.193701</td>\n",
       "      <td>0.237021</td>\n",
       "      <td>1</td>\n",
       "      <td>233</td>\n",
       "      <td>2</td>\n",
       "      <td>133</td>\n",
       "      <td>1</td>\n",
       "      <td>no</td>\n",
       "      <td>...</td>\n",
       "      <td>0</td>\n",
       "      <td>0</td>\n",
       "      <td>0</td>\n",
       "      <td>0</td>\n",
       "      <td>0</td>\n",
       "      <td>0</td>\n",
       "      <td>0</td>\n",
       "      <td>0</td>\n",
       "      <td>0</td>\n",
       "      <td>0</td>\n",
       "    </tr>\n",
       "    <tr>\n",
       "      <th>2</th>\n",
       "      <td>59.0</td>\n",
       "      <td>1035</td>\n",
       "      <td>1.334266</td>\n",
       "      <td>0.121981</td>\n",
       "      <td>1</td>\n",
       "      <td>126</td>\n",
       "      <td>2</td>\n",
       "      <td>239</td>\n",
       "      <td>1</td>\n",
       "      <td>no</td>\n",
       "      <td>...</td>\n",
       "      <td>0</td>\n",
       "      <td>0</td>\n",
       "      <td>0</td>\n",
       "      <td>0</td>\n",
       "      <td>0</td>\n",
       "      <td>0</td>\n",
       "      <td>0</td>\n",
       "      <td>0</td>\n",
       "      <td>0</td>\n",
       "      <td>0</td>\n",
       "    </tr>\n",
       "    <tr>\n",
       "      <th>3</th>\n",
       "      <td>47.0</td>\n",
       "      <td>398</td>\n",
       "      <td>0.362286</td>\n",
       "      <td>1.251328</td>\n",
       "      <td>1</td>\n",
       "      <td>274</td>\n",
       "      <td>1</td>\n",
       "      <td>238</td>\n",
       "      <td>2</td>\n",
       "      <td>no</td>\n",
       "      <td>...</td>\n",
       "      <td>0</td>\n",
       "      <td>0</td>\n",
       "      <td>0</td>\n",
       "      <td>0</td>\n",
       "      <td>0</td>\n",
       "      <td>0</td>\n",
       "      <td>0</td>\n",
       "      <td>0</td>\n",
       "      <td>0</td>\n",
       "      <td>0</td>\n",
       "    </tr>\n",
       "    <tr>\n",
       "      <th>4</th>\n",
       "      <td>54.0</td>\n",
       "      <td>1004</td>\n",
       "      <td>0.072075</td>\n",
       "      <td>-0.533738</td>\n",
       "      <td>1</td>\n",
       "      <td>479</td>\n",
       "      <td>1</td>\n",
       "      <td>307</td>\n",
       "      <td>1</td>\n",
       "      <td>no</td>\n",
       "      <td>...</td>\n",
       "      <td>0</td>\n",
       "      <td>0</td>\n",
       "      <td>0</td>\n",
       "      <td>0</td>\n",
       "      <td>0</td>\n",
       "      <td>0</td>\n",
       "      <td>0</td>\n",
       "      <td>0</td>\n",
       "      <td>0</td>\n",
       "      <td>0</td>\n",
       "    </tr>\n",
       "  </tbody>\n",
       "</table>\n",
       "<p>5 rows × 48 columns</p>\n",
       "</div>"
      ],
      "text/plain": [
       "    age  balance  ratio_bal_ln  ratio_ln_inc  day  duration  campaign  pdays  \\\n",
       "0  32.0      392      1.300134      0.473895    1       957         2    131   \n",
       "1  39.0      688     -0.193701      0.237021    1       233         2    133   \n",
       "2  59.0     1035      1.334266      0.121981    1       126         2    239   \n",
       "3  47.0      398      0.362286      1.251328    1       274         1    238   \n",
       "4  54.0     1004      0.072075     -0.533738    1       479         1    307   \n",
       "\n",
       "   previous subscribed        ...         month_jan  month_jul  month_jun  \\\n",
       "0         2         no        ...                 0          0          0   \n",
       "1         1         no        ...                 0          0          0   \n",
       "2         1         no        ...                 0          0          0   \n",
       "3         2         no        ...                 0          0          0   \n",
       "4         1         no        ...                 0          0          0   \n",
       "\n",
       "   month_mar  month_may  month_nov  month_oct  month_sep  poutcome_other  \\\n",
       "0          0          0          0          0          0               0   \n",
       "1          0          0          0          0          0               0   \n",
       "2          0          0          0          0          0               0   \n",
       "3          0          0          0          0          0               0   \n",
       "4          0          0          0          0          0               0   \n",
       "\n",
       "   poutcome_success  \n",
       "0                 0  \n",
       "1                 0  \n",
       "2                 0  \n",
       "3                 0  \n",
       "4                 0  \n",
       "\n",
       "[5 rows x 48 columns]"
      ]
     },
     "execution_count": 49,
     "metadata": {},
     "output_type": "execute_result"
    }
   ],
   "source": [
    "df.head()"
   ]
  },
  {
   "cell_type": "code",
   "execution_count": null,
   "metadata": {},
   "outputs": [],
   "source": [
    "df.tail()"
   ]
  },
  {
   "cell_type": "markdown",
   "metadata": {},
   "source": [
    "<a id='task4_prep_dataset'></a>"
   ]
  },
  {
   "cell_type": "markdown",
   "metadata": {},
   "source": [
    "#### Task 4 - Prepare Dataset"
   ]
  },
  {
   "cell_type": "code",
   "execution_count": 50,
   "metadata": {},
   "outputs": [
    {
     "name": "stdout",
     "output_type": "stream",
     "text": [
      "['age', 'balance', 'ratio_bal_ln', 'ratio_ln_inc', 'day', 'duration', 'campaign', 'pdays', 'previous', 'work_status_retired', 'work_status_student', 'has_been_married_yes', 'post_primary_yes', 'bc_age', 'yj_balance', 'job_blue-collar', 'job_entrepreneur', 'job_housemaid', 'job_management', 'job_retired', 'job_self-employed', 'job_services', 'job_student', 'job_technician', 'job_unemployed', 'job_unknown', 'marital_married', 'marital_single', 'education_secondary', 'education_tertiary', 'housing_yes', 'default_yes', 'loan_yes', 'contact_telephone', 'month_aug', 'month_dec', 'month_feb', 'month_jan', 'month_jul', 'month_jun', 'month_mar', 'month_may', 'month_nov', 'month_oct', 'month_sep', 'poutcome_other', 'poutcome_success']\n",
      "47\n"
     ]
    }
   ],
   "source": [
    "# Get list of numeric columns in datset\n",
    "# https://stackoverflow.com/questions/25039626/how-do-i-find-numeric-columns-in-pandas\n",
    "colnames_numerics_only = df.select_dtypes(include=[np.number]).columns.tolist()\n",
    "print(colnames_numerics_only)\n",
    "print(len(colnames_numerics_only))\n"
   ]
  },
  {
   "cell_type": "code",
   "execution_count": 51,
   "metadata": {},
   "outputs": [],
   "source": [
    "#Shuffle the dataframe\n",
    "df = df.sample(frac=1, random_state=42)\n",
    "\n",
    "# Create the dataset from the dataframe\n",
    "#X = df[colnames_numerics_only].values\n",
    "X = df[['ratio_bal_ln', 'ratio_ln_inc']].values\n",
    "#X = df[['ratio_bal_ln', 'ratio_ln_inc','bc_age', 'yj_balance','has_been_married_yes', 'post_primary_yes','job_blue-collar', 'job_entrepreneur', 'job_housemaid', 'job_management', 'job_retired', 'job_self-employed', 'job_services', 'job_student', 'job_technician', 'job_unemployed', 'job_unknown']].values\n",
    "y_labels = df[['subscribed']].values\n",
    "\n",
    "# Using output values of 0 and 1 for Logistic Regression\n",
    "y = [1 if yy == 'yes' else 0 for yy in y_labels] "
   ]
  },
  {
   "cell_type": "code",
   "execution_count": null,
   "metadata": {},
   "outputs": [],
   "source": [
    "# Split the dataset\n",
    "X_train, X_test, y_train, y_test = train_test_split(X, y, test_size=0.2, random_state=42)"
   ]
  },
  {
   "cell_type": "markdown",
   "metadata": {},
   "source": [
    "<a id='task4_logreg'></a>"
   ]
  },
  {
   "cell_type": "markdown",
   "metadata": {},
   "source": [
    "#### Task 4 - Logistic Regression Classification"
   ]
  },
  {
   "cell_type": "code",
   "execution_count": null,
   "metadata": {},
   "outputs": [],
   "source": [
    "# Example Code taken from https://towardsdatascience.com/building-a-logistic-regression-in-python-step-by-step-becd4d56c9c8\n",
    "\n",
    "# Run Logistic Regression on the dataset to compare with performance achieved using Pocket algorithm\n",
    "#logreg = LogisticRegression()\n",
    "logreg = LogisticRegression(solver='lbfgs')\n",
    "\n",
    "# Fit to dataset\n",
    "logreg.fit(X_train, y_train)\n",
    "\n",
    "# Predict\n",
    "y_hat = logreg.predict(X_test)\n",
    "\n",
    "score_test = logreg.score(X_test, y_test)\n",
    "score_train  = logreg.score(X_train, y_train)\n",
    "\n",
    "# Substract scores from 1 to convert to Ein/Eout\n",
    "etrain = 1 - score_train\n",
    "etest = 1 - score_test\n",
    "\n",
    "print(\"Logistic Regression Performance\")\n",
    "print(\"Etrain  =\\t\",etrain)\n",
    "print(\"Etest = \\t\",etest)"
   ]
  },
  {
   "cell_type": "code",
   "execution_count": null,
   "metadata": {},
   "outputs": [],
   "source": [
    "print(y_hat)\n",
    "print(y_test)"
   ]
  },
  {
   "cell_type": "code",
   "execution_count": null,
   "metadata": {},
   "outputs": [],
   "source": [
    "y_train_hat = logreg.predict(X_train)\n",
    "\n",
    "errors = 0\n",
    "for i in range(len(y_train)):\n",
    "    if(y_train_hat[i]!=y_train[i]):\n",
    "        errors+=1\n",
    "\n",
    "print(errors)\n",
    "print(len(y_train))\n",
    "print(\"Error Percentage\",errors/len(y_train))"
   ]
  },
  {
   "cell_type": "code",
   "execution_count": null,
   "metadata": {},
   "outputs": [],
   "source": [
    "y_test_hat = logreg.predict(X_test)\n",
    "\n",
    "errors = 0\n",
    "for i in range(len(y_test)):\n",
    "    if(y_test_hat[i]!=y_test[i]):\n",
    "        errors+=1\n",
    "\n",
    "print(errors)\n",
    "print(len(y_test))\n",
    "print(\"Error Percentage\",errors/len(y_test))"
   ]
  },
  {
   "cell_type": "markdown",
   "metadata": {},
   "source": [
    "<a id='task4_prob'></a>"
   ]
  },
  {
   "cell_type": "markdown",
   "metadata": {},
   "source": [
    "#### Task 4 - Probability Plots\n",
    "* Using same approach as given in Etivity1 solutions\n",
    "\n",
    "Approximating the probability that |E_in - E_out|>epsilon by running the experiment multiple times and recording error scores. Done here for 100 iterations to limit processing time. For higher number of iterations, likelihood of non-zero values for higher epsilons increases."
   ]
  },
  {
   "cell_type": "code",
   "execution_count": 52,
   "metadata": {},
   "outputs": [],
   "source": [
    "# MPP repeats=100\n",
    "# MPP Increase repeats to 500\n",
    "repeats=100\n",
    "#use 20% of data for training\n",
    "tr_size = 0.8\n",
    "error_in=[]\n",
    "error_out=[]\n",
    "for i in range(repeats):\n",
    "    # MPP print(i) <-- Do not print i\n",
    "    X_train, X_test, y_train, y_test = train_test_split(X, y, train_size=tr_size, test_size=(1-tr_size))\n",
    "    \n",
    "    # Example Code taken from https://towardsdatascience.com/building-a-logistic-regression-in-python-step-by-step-becd4d56c9c8\n",
    "\n",
    "    # Run Logistic Regression on the dataset to compare with performance achieved using Pocket algorithm\n",
    "    # Add \"solver='lbfgs'\" to remove \"FutureWarning: Default solver will be changed\n",
    "    # to 'lbfgs' in 0.22. Specify a solver to silence this warning.\"\n",
    "    logreg = LogisticRegression(solver='lbfgs')\n",
    "\n",
    "    # Fit to dataset\n",
    "    logreg.fit(X_train, y_train)\n",
    "\n",
    "    score_test = logreg.score(X_test, y_test)\n",
    "    score_train  = logreg.score(X_train, y_train)\n",
    "\n",
    "    # Substract scores from 1 to convert to Ein/Eout\n",
    "    etrain = 1 - score_train\n",
    "    etest = 1 - score_test\n",
    "       \n",
    "    error_in.append(etrain)\n",
    "    error_out.append(etest)\n",
    "\n"
   ]
  },
  {
   "cell_type": "code",
   "execution_count": 53,
   "metadata": {},
   "outputs": [
    {
     "name": "stdout",
     "output_type": "stream",
     "text": [
      "[0.21999999999999997, 0.21750000000000003, 0.22250000000000003, 0.213125, 0.22687500000000005, 0.20750000000000002, 0.22375, 0.22124999999999995, 0.21625000000000005, 0.22375, 0.22499999999999998, 0.21562499999999996, 0.218125, 0.21999999999999997, 0.208125, 0.21499999999999997, 0.218125, 0.21999999999999997, 0.218125, 0.21499999999999997, 0.21687500000000004, 0.21750000000000003, 0.21562499999999996, 0.22687500000000005, 0.21875, 0.21187500000000004, 0.21562499999999996, 0.21750000000000003, 0.21562499999999996, 0.21562499999999996, 0.20750000000000002, 0.219375, 0.21999999999999997, 0.218125, 0.21437499999999998, 0.21875, 0.22124999999999995, 0.20875, 0.21999999999999997, 0.21437499999999998, 0.21187500000000004, 0.219375, 0.21687500000000004, 0.21999999999999997, 0.21999999999999997, 0.22062499999999996, 0.218125, 0.219375, 0.22187500000000004, 0.22187500000000004, 0.22187500000000004, 0.21250000000000002, 0.21437499999999998, 0.21687500000000004, 0.21999999999999997, 0.20750000000000002, 0.213125, 0.21187500000000004, 0.20625000000000004, 0.21875, 0.213125, 0.224375, 0.20750000000000002, 0.21250000000000002, 0.21125000000000005, 0.218125, 0.21562499999999996, 0.21250000000000002, 0.21875, 0.21375, 0.21562499999999996, 0.21562499999999996, 0.219375, 0.21687500000000004, 0.21499999999999997, 0.21499999999999997, 0.21687500000000004, 0.21562499999999996, 0.21125000000000005, 0.21250000000000002, 0.21750000000000003, 0.21125000000000005, 0.21375, 0.21499999999999997, 0.22375, 0.21187500000000004, 0.21125000000000005, 0.21625000000000005, 0.21999999999999997, 0.22062499999999996, 0.21562499999999996, 0.21499999999999997, 0.22812500000000002, 0.21687500000000004, 0.22062499999999996, 0.22375, 0.21125000000000005, 0.21187500000000004, 0.213125, 0.21187500000000004]\n",
      "[0.2025, 0.22250000000000003, 0.20499999999999996, 0.235, 0.1775, 0.25, 0.1925, 0.1875, 0.21999999999999997, 0.1975, 0.1825, 0.21250000000000002, 0.21750000000000003, 0.20499999999999996, 0.24250000000000005, 0.21999999999999997, 0.20999999999999996, 0.21499999999999997, 0.21499999999999997, 0.23250000000000004, 0.22499999999999998, 0.20750000000000002, 0.22250000000000003, 0.18000000000000005, 0.20999999999999996, 0.22999999999999998, 0.21999999999999997, 0.22250000000000003, 0.21750000000000003, 0.21999999999999997, 0.25, 0.21999999999999997, 0.20499999999999996, 0.23250000000000004, 0.22750000000000004, 0.21750000000000003, 0.20750000000000002, 0.24750000000000005, 0.21999999999999997, 0.235, 0.23750000000000004, 0.21499999999999997, 0.21999999999999997, 0.21499999999999997, 0.1925, 0.21250000000000002, 0.21750000000000003, 0.21499999999999997, 0.20499999999999996, 0.20499999999999996, 0.19999999999999996, 0.24750000000000005, 0.22250000000000003, 0.21999999999999997, 0.19999999999999996, 0.255, 0.23250000000000004, 0.245, 0.25249999999999995, 0.22250000000000003, 0.22750000000000004, 0.1775, 0.26249999999999996, 0.24, 0.24750000000000005, 0.21750000000000003, 0.21999999999999997, 0.23250000000000004, 0.21499999999999997, 0.22999999999999998, 0.23250000000000004, 0.22499999999999998, 0.21499999999999997, 0.21750000000000003, 0.23250000000000004, 0.22999999999999998, 0.21499999999999997, 0.21250000000000002, 0.24250000000000005, 0.245, 0.21499999999999997, 0.24, 0.23250000000000004, 0.22750000000000004, 0.20750000000000002, 0.23750000000000004, 0.235, 0.21999999999999997, 0.20499999999999996, 0.21750000000000003, 0.23250000000000004, 0.22250000000000003, 0.18000000000000005, 0.22750000000000004, 0.20999999999999996, 0.1875, 0.22999999999999998, 0.22499999999999998, 0.23750000000000004, 0.24250000000000005]\n"
     ]
    }
   ],
   "source": [
    "print(error_in)\n",
    "print(error_out)"
   ]
  },
  {
   "cell_type": "code",
   "execution_count": 54,
   "metadata": {
    "scrolled": false
   },
   "outputs": [
    {
     "name": "stdout",
     "output_type": "stream",
     "text": [
      "2\n",
      "Error exceeds Hoeffding\n",
      "Error does not exceed VC\n"
     ]
    },
    {
     "data": {
      "image/png": "[encoded data removed]",
      "text/plain": [
       "<Figure size 432x288 with 1 Axes>"
      ]
     },
     "metadata": {
      "needs_background": "light"
     },
     "output_type": "display_data"
    }
   ],
   "source": [
    "#style.use('default')\n",
    "#style.use('fivethirtyeight')\n",
    "\n",
    "print(X_train.shape[1])\n",
    "\n",
    "N=len(X_train)\n",
    "# VC dimension (dvc) = d+1 where d is the dimensionality of the input data\n",
    "dvc = X_train.shape[1] + 1\n",
    "\n",
    "error_diff = abs(np.array(error_in)-np.array(error_out))\n",
    "epsilons = np.arange(0.001,0.20,0.001)\n",
    "prob_epsilon=[]\n",
    "for e in epsilons:\n",
    "        prob_epsilon.append(len([1 for i in error_diff if i > e])/len(error_diff))\n",
    "plt.plot(epsilons, prob_epsilon)\n",
    "\n",
    "hoef = [2*math.exp(-2*N*e**2) for e in epsilons]\n",
    "vc = [4*(((2*N)**dvc)+1)*math.exp(-(N/8)*e**2) for e in epsilons]\n",
    "\n",
    "print(\"Error exceeds Hoeffding\" if max(np.array(prob_epsilon)-np.array(hoef))>0 else \"Error does not exceed Hoeffding\")\n",
    "print(\"Error exceeds VC\" if max(np.array(prob_epsilon)-np.array(vc))>0 else \"Error does not exceed VC\")\n",
    "\n",
    "plt.plot(epsilons, hoef,'r')\n",
    "plt.plot(epsilons, vc, 'g')\n",
    "plt.yscale('log')\n",
    "#plt.axhline(y = 10**-60, color = 'black', linewidth = 1.3, alpha = .7)\n",
    "plt.tick_params(axis = 'both', which = 'major', labelsize = 18)\n",
    "plt.text(x = 0.15, y = 10**-26, s = 'Hoeffding', color = 'r', weight = 'bold', rotation = 0, backgroundcolor = '#ffffff')\n",
    "plt.text(x = 0.15, y = 10*7, s = 'VC', color = 'g', weight = 'bold', rotation = 0, backgroundcolor = '#ffffff')\n",
    "plt.show()"
   ]
  },
  {
   "cell_type": "code",
   "execution_count": null,
   "metadata": {},
   "outputs": [],
   "source": [
    "#import matplotlib.style as style\n",
    "#style.available\n",
    "#style.use('fivethirtyeight')"
   ]
  },
  {
   "cell_type": "markdown",
   "metadata": {},
   "source": [
    "<a id='task4_analysis'></a>"
   ]
  },
  {
   "cell_type": "markdown",
   "metadata": {},
   "source": [
    "#### Task4 -  Analysis\n",
    "\n",
    "TODO\n",
    "\n",
    "[click this link](#contents) to jump back to the table contents at the beginning of the notebook."
   ]
  },
  {
   "cell_type": "markdown",
   "metadata": {},
   "source": [
    "<a id='task5'></a>"
   ]
  },
  {
   "cell_type": "markdown",
   "metadata": {},
   "source": [
    "# Task 5 (CE6002)\n",
    "Using the dataset, make learning curves for logistic regression and two other machine learning algorithms of your choosing using scikitlearn’s learning_curve functionality. Choose one algorithm with low complexity in terms of VC dimension and one algorithm with high complexity.\n",
    "\n",
    "Comment on what information you can derive from the learning curves  (in a markdown cell) and how this information differs between simple and complex machine learning algorithms.\n",
    "\n",
    "\n",
    "[click this link](#contents) to jump back to the table contents at the beginning of the notebook."
   ]
  },
  {
   "cell_type": "code",
   "execution_count": null,
   "metadata": {},
   "outputs": [],
   "source": [
    "def plot_learning_curve(X,y,estimator=LogisticRegression(solver='lbfgs')):\n",
    "# https://www.dataquest.io/blog/learning-curves-machine-learning/\n",
    "# https://scikit-learn.org/stable/auto_examples/model_selection/plot_learning_curve.html\n",
    "\n",
    "    # Max Value = 80% of 2000 = 1600\n",
    "    # train_sizes = [1, 100, 500, 1000, 1600] ValueError: This solver needs samples of at least 2 classes in the data, but the data contains only one class: 0\n",
    "    #train_sizes = [10, 100, 500, 1000, 1600]\n",
    "    train_sizes = [50, 100, 500, 1000, 1600]\n",
    "\n",
    "    # train_sizes, train_scores, validation_scores = learning_curve(\n",
    "    #                                                    estimator = LinearRegression(), X = electricity[features],\n",
    "    #                                                    y = electricity[target], train_sizes = train_sizes, cv = 5,\n",
    "    #                                                    scoring = 'neg_mean_squared_error')\n",
    "\n",
    "    train_sizes, train_scores, validation_scores = learning_curve(\n",
    "                                                       #estimator = LogisticRegression(), X = X,\n",
    "                                                       #estimator = LinearRegression(), X = X,\n",
    "                                                       #estimator = SVC(gamma=0.001), X = X,\n",
    "                                                       #estimator = LinearSVC(), X = X,\n",
    "                                                       #estimator = GaussianNB(), X = X,\n",
    "                                                       estimator = estimator, X = X,\n",
    "                                                       #y = y, train_sizes = train_sizes, cv = 5,\n",
    "                                                       #scoring = 'neg_mean_squared_error')\n",
    "                                                        y = y, train_sizes = train_sizes, cv = 5)\n",
    "\n",
    "    # from https://www.w3resource.com/python-exercises/re/python-re-exercise-50.php\n",
    "    # Remove any text between the parentheses in the title string\n",
    "    estimator_string = re.sub(r\" ?\\([^)]+\\)\", \"\", str(estimator))\n",
    "    \n",
    "    \n",
    "    print('\\n', '-' * 70) # separator to make the output easy to read\n",
    "    print('Estimator = ',estimator_string)\n",
    "    print('\\n', '-' * 70) # separator to make the output easy to read\n",
    "    print('Training scores:\\n\\n', train_scores)\n",
    "    print('\\n', '-' * 70) # separator to make the output easy to read\n",
    "    print('\\nValidation scores:\\n\\n', validation_scores)\n",
    "    print('\\n', '-' * 70) # separator to make the output easy to read\n",
    "\n",
    "    #train_scores_mean = -train_scores.mean(axis = 1)\n",
    "    #validation_scores_mean = -validation_scores.mean(axis = 1)\n",
    "    # MPP Remove the \"-\" from reference code in article\n",
    "    train_scores_mean = train_scores.mean(axis = 1)\n",
    "    validation_scores_mean = validation_scores.mean(axis = 1)\n",
    "    train_scores_std = train_scores.std(axis = 1)\n",
    "    validation_scores_std = validation_scores.std(axis = 1)\n",
    "\n",
    "    print('Mean training scores\\n\\n', pd.Series(train_scores_mean, index = train_sizes))\n",
    "    print('\\n', '-' * 70) # separator to make the output easy to read\n",
    "    print('\\nMean validation scores\\n\\n',pd.Series(validation_scores_mean, index = train_sizes))\n",
    "    print('\\n', '-' * 70) # separator to make the output easy to read\n",
    "          \n",
    "    title = 'Learning curves for a '+estimator_string+' model'\n",
    "    \n",
    "\n",
    "    #plt.style.use('seaborn')\n",
    "\n",
    "    #plt.plot(train_sizes, train_scores_mean, label = 'Training error')\n",
    "    #plt.plot(train_sizes, validation_scores_mean, label = 'Validation error')\n",
    "    \n",
    "    \n",
    "    plt.grid()\n",
    "    #plt.ylim(top=1.01)\n",
    "    #plt.ylim(bottom=0.5)\n",
    "\n",
    "    plt.fill_between(train_sizes, train_scores_mean - train_scores_std,\n",
    "                     train_scores_mean + train_scores_std, alpha=0.1,\n",
    "                     color=\"r\")\n",
    "    plt.fill_between(train_sizes, validation_scores_mean - validation_scores_std,\n",
    "                     validation_scores_mean + validation_scores_std, alpha=0.1, color=\"g\")\n",
    "    plt.plot(train_sizes, train_scores_mean, 'o-', color=\"r\",\n",
    "             label=\"Training score\")\n",
    "    plt.plot(train_sizes, validation_scores_mean, 'o-', color=\"g\",\n",
    "             label=\"Cross-validation score\")\n",
    "\n",
    "    plt.legend(loc=\"best\")\n",
    "\n",
    "    plt.ylabel('Score', fontsize = 14)\n",
    "    plt.xlabel('Training set size', fontsize = 14)\n",
    "   # plt.title(title, fontsize = 18, y = 1.03)\n",
    "    plt.title(title, fontsize = 18)\n",
    "    plt.legend()\n",
    "    plt.show();"
   ]
  },
  {
   "cell_type": "code",
   "execution_count": null,
   "metadata": {},
   "outputs": [],
   "source": [
    "print(y)"
   ]
  },
  {
   "cell_type": "code",
   "execution_count": null,
   "metadata": {
    "scrolled": false
   },
   "outputs": [],
   "source": [
    "from sklearn.gaussian_process import GaussianProcessClassifier\n",
    "from sklearn.gaussian_process.kernels import RBF\n",
    "\n",
    "# estimators = [LogisticRegression(solver='lbfgs'), LinearRegression(), GaussianNB(), LinearSVC(),GaussianProcessClassifier(1.0 * RBF(1.0))]\n",
    "\n",
    "# for est in estimators:\n",
    "#     plot_learning_curve(X,y,estimator=est)"
   ]
  },
  {
   "cell_type": "markdown",
   "metadata": {},
   "source": [
    "<a id='task5_logistic'></a>"
   ]
  },
  {
   "cell_type": "markdown",
   "metadata": {},
   "source": [
    "#### Task 5 - Logisic Regression Learning Curve"
   ]
  },
  {
   "cell_type": "code",
   "execution_count": null,
   "metadata": {},
   "outputs": [],
   "source": [
    " plot_learning_curve(X,y,estimator=LogisticRegression(solver='lbfgs'))"
   ]
  },
  {
   "cell_type": "markdown",
   "metadata": {},
   "source": [
    "<a id='task5_linear'></a>"
   ]
  },
  {
   "cell_type": "markdown",
   "metadata": {},
   "source": [
    "#### Task 5 - Low Complexity Learning Curve : Linear Regression"
   ]
  },
  {
   "cell_type": "code",
   "execution_count": null,
   "metadata": {},
   "outputs": [],
   "source": [
    "plot_learning_curve(X,y,estimator=LinearRegression())"
   ]
  },
  {
   "cell_type": "markdown",
   "metadata": {},
   "source": [
    "<a id='task5_adaboost'></a>"
   ]
  },
  {
   "cell_type": "markdown",
   "metadata": {},
   "source": [
    "#### Task 5 - High Complexity Learning Curve : AdaBoost"
   ]
  },
  {
   "cell_type": "code",
   "execution_count": null,
   "metadata": {},
   "outputs": [],
   "source": [
    "# From https://chrisalbon.com/machine_learning/trees_and_forests/adaboost_classifier/\n",
    "from sklearn.ensemble import AdaBoostClassifier\n",
    "\n",
    "# Create adaboost-decision tree classifer object\n",
    "#clf = AdaBoostClassifier(n_estimators=50, learning_rate=1,random_state=0)\n",
    "\n",
    "plot_learning_curve(X,y,estimator=AdaBoostClassifier(n_estimators=50, learning_rate=1,random_state=0))"
   ]
  },
  {
   "cell_type": "markdown",
   "metadata": {},
   "source": [
    "<a id='task5_analysis'></a>"
   ]
  },
  {
   "cell_type": "markdown",
   "metadata": {},
   "source": [
    "#### Task 5 - Analysis\n",
    "\n",
    "Comment on what information you can derive from the learning curves  (in a markdown cell) and how this information differs between simple and complex machine learning algorithms.\n",
    "\n",
    "TBD\n",
    "\n",
    "[click this link](#contents) to jump back to the table contents at the beginning of the notebook."
   ]
  },
  {
   "cell_type": "code",
   "execution_count": null,
   "metadata": {},
   "outputs": [],
   "source": []
  }
 ],
 "metadata": {
  "kernelspec": {
   "display_name": "Python 3",
   "language": "python",
   "name": "python3"
  },
  "language_info": {
   "codemirror_mode": {
    "name": "ipython",
    "version": 3
   },
   "file_extension": ".py",
   "mimetype": "text/x-python",
   "name": "python",
   "nbconvert_exporter": "python",
   "pygments_lexer": "ipython3",
   "version": "3.7.1"
  }
 },
 "nbformat": 4,
 "nbformat_minor": 2
}
