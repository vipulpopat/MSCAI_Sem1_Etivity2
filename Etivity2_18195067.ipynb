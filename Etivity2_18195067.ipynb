{
 "cells": [
  {
   "cell_type": "markdown",
   "metadata": {},
   "source": [
    "## Etivity 2 - Data preparation & Can we learn?\n",
    "### Student ID: 18195067\n",
    "### Student Name: Abhijit Sinha"
   ]
  },
  {
   "cell_type": "code",
   "execution_count": 1,
   "metadata": {},
   "outputs": [],
   "source": [
    "# Importing Modules\n",
    "import math\n",
    "import pandas as pd\n",
    "import numpy as np\n",
    "import matplotlib.pyplot as plt\n",
    "%matplotlib inline\n",
    "import seaborn as sns\n",
    "\n",
    "from sklearn.preprocessing import PowerTransformer\n",
    "from sklearn.preprocessing import LabelEncoder\n",
    "from sklearn.preprocessing import StandardScaler\n",
    "\n",
    "from sklearn.model_selection import train_test_split\n",
    "from sklearn.model_selection import ShuffleSplit\n",
    "\n",
    "from sklearn.ensemble import ExtraTreesClassifier\n",
    "from sklearn.linear_model import LogisticRegression\n",
    "from sklearn.naive_bayes import GaussianNB\n",
    "from sklearn.svm import SVC\n",
    "from sklearn.model_selection import learning_curve"
   ]
  },
  {
   "cell_type": "code",
   "execution_count": 2,
   "metadata": {},
   "outputs": [],
   "source": [
    "# Importing Dataset and using the first column as the index\n",
    "df = pd.read_csv(\"./bank_et2.csv\")\n",
    "\n",
    "# Remove the redundant column\n",
    "df.drop('Unnamed: 0', axis=1, inplace=True)"
   ]
  },
  {
   "cell_type": "code",
   "execution_count": 3,
   "metadata": {},
   "outputs": [
    {
     "data": {
      "text/html": [
       "<div>\n",
       "<style scoped>\n",
       "    .dataframe tbody tr th:only-of-type {\n",
       "        vertical-align: middle;\n",
       "    }\n",
       "\n",
       "    .dataframe tbody tr th {\n",
       "        vertical-align: top;\n",
       "    }\n",
       "\n",
       "    .dataframe thead th {\n",
       "        text-align: right;\n",
       "    }\n",
       "</style>\n",
       "<table border=\"1\" class=\"dataframe\">\n",
       "  <thead>\n",
       "    <tr style=\"text-align: right;\">\n",
       "      <th></th>\n",
       "      <th>age</th>\n",
       "      <th>job</th>\n",
       "      <th>marital</th>\n",
       "      <th>education</th>\n",
       "      <th>default</th>\n",
       "      <th>balance</th>\n",
       "      <th>ratio_bal_ln</th>\n",
       "      <th>ratio_ln_inc</th>\n",
       "      <th>housing</th>\n",
       "      <th>loan</th>\n",
       "      <th>contact</th>\n",
       "      <th>day</th>\n",
       "      <th>month</th>\n",
       "      <th>duration</th>\n",
       "      <th>campaign</th>\n",
       "      <th>pdays</th>\n",
       "      <th>previous</th>\n",
       "      <th>poutcome</th>\n",
       "      <th>subscribed</th>\n",
       "    </tr>\n",
       "  </thead>\n",
       "  <tbody>\n",
       "    <tr>\n",
       "      <th>0</th>\n",
       "      <td>32.0</td>\n",
       "      <td>technician</td>\n",
       "      <td>single</td>\n",
       "      <td>tertiary</td>\n",
       "      <td>no</td>\n",
       "      <td>392</td>\n",
       "      <td>1.300134</td>\n",
       "      <td>0.473895</td>\n",
       "      <td>yes</td>\n",
       "      <td>no</td>\n",
       "      <td>cellular</td>\n",
       "      <td>1</td>\n",
       "      <td>apr</td>\n",
       "      <td>957</td>\n",
       "      <td>2</td>\n",
       "      <td>131</td>\n",
       "      <td>2</td>\n",
       "      <td>failure</td>\n",
       "      <td>no</td>\n",
       "    </tr>\n",
       "    <tr>\n",
       "      <th>1</th>\n",
       "      <td>39.0</td>\n",
       "      <td>technician</td>\n",
       "      <td>divorced</td>\n",
       "      <td>secondary</td>\n",
       "      <td>no</td>\n",
       "      <td>688</td>\n",
       "      <td>-0.193701</td>\n",
       "      <td>0.237021</td>\n",
       "      <td>yes</td>\n",
       "      <td>yes</td>\n",
       "      <td>cellular</td>\n",
       "      <td>1</td>\n",
       "      <td>apr</td>\n",
       "      <td>233</td>\n",
       "      <td>2</td>\n",
       "      <td>133</td>\n",
       "      <td>1</td>\n",
       "      <td>failure</td>\n",
       "      <td>no</td>\n",
       "    </tr>\n",
       "    <tr>\n",
       "      <th>2</th>\n",
       "      <td>59.0</td>\n",
       "      <td>retired</td>\n",
       "      <td>married</td>\n",
       "      <td>secondary</td>\n",
       "      <td>no</td>\n",
       "      <td>1035</td>\n",
       "      <td>1.334266</td>\n",
       "      <td>0.121981</td>\n",
       "      <td>yes</td>\n",
       "      <td>yes</td>\n",
       "      <td>cellular</td>\n",
       "      <td>1</td>\n",
       "      <td>apr</td>\n",
       "      <td>126</td>\n",
       "      <td>2</td>\n",
       "      <td>239</td>\n",
       "      <td>1</td>\n",
       "      <td>failure</td>\n",
       "      <td>no</td>\n",
       "    </tr>\n",
       "    <tr>\n",
       "      <th>3</th>\n",
       "      <td>47.0</td>\n",
       "      <td>blue-collar</td>\n",
       "      <td>married</td>\n",
       "      <td>secondary</td>\n",
       "      <td>no</td>\n",
       "      <td>398</td>\n",
       "      <td>0.362286</td>\n",
       "      <td>1.251328</td>\n",
       "      <td>yes</td>\n",
       "      <td>yes</td>\n",
       "      <td>cellular</td>\n",
       "      <td>1</td>\n",
       "      <td>apr</td>\n",
       "      <td>274</td>\n",
       "      <td>1</td>\n",
       "      <td>238</td>\n",
       "      <td>2</td>\n",
       "      <td>failure</td>\n",
       "      <td>no</td>\n",
       "    </tr>\n",
       "    <tr>\n",
       "      <th>4</th>\n",
       "      <td>54.0</td>\n",
       "      <td>retired</td>\n",
       "      <td>married</td>\n",
       "      <td>secondary</td>\n",
       "      <td>no</td>\n",
       "      <td>1004</td>\n",
       "      <td>0.072075</td>\n",
       "      <td>-0.533738</td>\n",
       "      <td>yes</td>\n",
       "      <td>no</td>\n",
       "      <td>cellular</td>\n",
       "      <td>1</td>\n",
       "      <td>apr</td>\n",
       "      <td>479</td>\n",
       "      <td>1</td>\n",
       "      <td>307</td>\n",
       "      <td>1</td>\n",
       "      <td>failure</td>\n",
       "      <td>no</td>\n",
       "    </tr>\n",
       "  </tbody>\n",
       "</table>\n",
       "</div>"
      ],
      "text/plain": [
       "    age          job   marital  education default  balance  ratio_bal_ln  \\\n",
       "0  32.0   technician    single   tertiary      no      392      1.300134   \n",
       "1  39.0   technician  divorced  secondary      no      688     -0.193701   \n",
       "2  59.0      retired   married  secondary      no     1035      1.334266   \n",
       "3  47.0  blue-collar   married  secondary      no      398      0.362286   \n",
       "4  54.0      retired   married  secondary      no     1004      0.072075   \n",
       "\n",
       "   ratio_ln_inc housing loan   contact  day month  duration  campaign  pdays  \\\n",
       "0      0.473895     yes   no  cellular    1   apr       957         2    131   \n",
       "1      0.237021     yes  yes  cellular    1   apr       233         2    133   \n",
       "2      0.121981     yes  yes  cellular    1   apr       126         2    239   \n",
       "3      1.251328     yes  yes  cellular    1   apr       274         1    238   \n",
       "4     -0.533738     yes   no  cellular    1   apr       479         1    307   \n",
       "\n",
       "   previous poutcome subscribed  \n",
       "0         2  failure         no  \n",
       "1         1  failure         no  \n",
       "2         1  failure         no  \n",
       "3         2  failure         no  \n",
       "4         1  failure         no  "
      ]
     },
     "execution_count": 3,
     "metadata": {},
     "output_type": "execute_result"
    }
   ],
   "source": [
    "df.head(5)"
   ]
  },
  {
   "cell_type": "code",
   "execution_count": 4,
   "metadata": {
    "scrolled": true
   },
   "outputs": [
    {
     "data": {
      "text/html": [
       "<div>\n",
       "<style scoped>\n",
       "    .dataframe tbody tr th:only-of-type {\n",
       "        vertical-align: middle;\n",
       "    }\n",
       "\n",
       "    .dataframe tbody tr th {\n",
       "        vertical-align: top;\n",
       "    }\n",
       "\n",
       "    .dataframe thead th {\n",
       "        text-align: right;\n",
       "    }\n",
       "</style>\n",
       "<table border=\"1\" class=\"dataframe\">\n",
       "  <thead>\n",
       "    <tr style=\"text-align: right;\">\n",
       "      <th></th>\n",
       "      <th>age</th>\n",
       "      <th>balance</th>\n",
       "      <th>ratio_bal_ln</th>\n",
       "      <th>ratio_ln_inc</th>\n",
       "      <th>day</th>\n",
       "      <th>duration</th>\n",
       "      <th>campaign</th>\n",
       "      <th>pdays</th>\n",
       "      <th>previous</th>\n",
       "    </tr>\n",
       "  </thead>\n",
       "  <tbody>\n",
       "    <tr>\n",
       "      <th>count</th>\n",
       "      <td>1988.000000</td>\n",
       "      <td>2000.000000</td>\n",
       "      <td>2000.000000</td>\n",
       "      <td>2000.000000</td>\n",
       "      <td>2000.000000</td>\n",
       "      <td>2000.000000</td>\n",
       "      <td>2000.000000</td>\n",
       "      <td>2000.000000</td>\n",
       "      <td>2000.000000</td>\n",
       "    </tr>\n",
       "    <tr>\n",
       "      <th>mean</th>\n",
       "      <td>41.753018</td>\n",
       "      <td>1413.663500</td>\n",
       "      <td>0.241951</td>\n",
       "      <td>0.485030</td>\n",
       "      <td>13.851500</td>\n",
       "      <td>292.020500</td>\n",
       "      <td>1.909500</td>\n",
       "      <td>167.896000</td>\n",
       "      <td>2.561500</td>\n",
       "    </tr>\n",
       "    <tr>\n",
       "      <th>std</th>\n",
       "      <td>12.724358</td>\n",
       "      <td>3131.224213</td>\n",
       "      <td>0.821604</td>\n",
       "      <td>1.075543</td>\n",
       "      <td>9.712189</td>\n",
       "      <td>221.557295</td>\n",
       "      <td>1.378862</td>\n",
       "      <td>131.754126</td>\n",
       "      <td>3.400735</td>\n",
       "    </tr>\n",
       "    <tr>\n",
       "      <th>min</th>\n",
       "      <td>18.000000</td>\n",
       "      <td>-980.000000</td>\n",
       "      <td>-2.632068</td>\n",
       "      <td>-2.851405</td>\n",
       "      <td>1.000000</td>\n",
       "      <td>7.000000</td>\n",
       "      <td>1.000000</td>\n",
       "      <td>-1.000000</td>\n",
       "      <td>0.000000</td>\n",
       "    </tr>\n",
       "    <tr>\n",
       "      <th>25%</th>\n",
       "      <td>32.000000</td>\n",
       "      <td>201.500000</td>\n",
       "      <td>-0.308018</td>\n",
       "      <td>-0.274181</td>\n",
       "      <td>5.000000</td>\n",
       "      <td>146.000000</td>\n",
       "      <td>1.000000</td>\n",
       "      <td>75.750000</td>\n",
       "      <td>1.000000</td>\n",
       "    </tr>\n",
       "    <tr>\n",
       "      <th>50%</th>\n",
       "      <td>38.000000</td>\n",
       "      <td>551.000000</td>\n",
       "      <td>0.224099</td>\n",
       "      <td>0.487082</td>\n",
       "      <td>12.000000</td>\n",
       "      <td>236.000000</td>\n",
       "      <td>1.000000</td>\n",
       "      <td>182.000000</td>\n",
       "      <td>2.000000</td>\n",
       "    </tr>\n",
       "    <tr>\n",
       "      <th>75%</th>\n",
       "      <td>50.000000</td>\n",
       "      <td>1644.500000</td>\n",
       "      <td>0.806315</td>\n",
       "      <td>1.211896</td>\n",
       "      <td>23.000000</td>\n",
       "      <td>379.000000</td>\n",
       "      <td>2.000000</td>\n",
       "      <td>251.000000</td>\n",
       "      <td>3.000000</td>\n",
       "    </tr>\n",
       "    <tr>\n",
       "      <th>max</th>\n",
       "      <td>93.000000</td>\n",
       "      <td>81204.000000</td>\n",
       "      <td>2.961979</td>\n",
       "      <td>4.046914</td>\n",
       "      <td>31.000000</td>\n",
       "      <td>1823.000000</td>\n",
       "      <td>11.000000</td>\n",
       "      <td>854.000000</td>\n",
       "      <td>55.000000</td>\n",
       "    </tr>\n",
       "  </tbody>\n",
       "</table>\n",
       "</div>"
      ],
      "text/plain": [
       "               age       balance  ratio_bal_ln  ratio_ln_inc          day  \\\n",
       "count  1988.000000   2000.000000   2000.000000   2000.000000  2000.000000   \n",
       "mean     41.753018   1413.663500      0.241951      0.485030    13.851500   \n",
       "std      12.724358   3131.224213      0.821604      1.075543     9.712189   \n",
       "min      18.000000   -980.000000     -2.632068     -2.851405     1.000000   \n",
       "25%      32.000000    201.500000     -0.308018     -0.274181     5.000000   \n",
       "50%      38.000000    551.000000      0.224099      0.487082    12.000000   \n",
       "75%      50.000000   1644.500000      0.806315      1.211896    23.000000   \n",
       "max      93.000000  81204.000000      2.961979      4.046914    31.000000   \n",
       "\n",
       "          duration     campaign        pdays     previous  \n",
       "count  2000.000000  2000.000000  2000.000000  2000.000000  \n",
       "mean    292.020500     1.909500   167.896000     2.561500  \n",
       "std     221.557295     1.378862   131.754126     3.400735  \n",
       "min       7.000000     1.000000    -1.000000     0.000000  \n",
       "25%     146.000000     1.000000    75.750000     1.000000  \n",
       "50%     236.000000     1.000000   182.000000     2.000000  \n",
       "75%     379.000000     2.000000   251.000000     3.000000  \n",
       "max    1823.000000    11.000000   854.000000    55.000000  "
      ]
     },
     "execution_count": 4,
     "metadata": {},
     "output_type": "execute_result"
    }
   ],
   "source": [
    "df.describe()"
   ]
  },
  {
   "cell_type": "code",
   "execution_count": 5,
   "metadata": {},
   "outputs": [
    {
     "data": {
      "text/html": [
       "<div>\n",
       "<style scoped>\n",
       "    .dataframe tbody tr th:only-of-type {\n",
       "        vertical-align: middle;\n",
       "    }\n",
       "\n",
       "    .dataframe tbody tr th {\n",
       "        vertical-align: top;\n",
       "    }\n",
       "\n",
       "    .dataframe thead th {\n",
       "        text-align: right;\n",
       "    }\n",
       "</style>\n",
       "<table border=\"1\" class=\"dataframe\">\n",
       "  <thead>\n",
       "    <tr style=\"text-align: right;\">\n",
       "      <th></th>\n",
       "      <th>job</th>\n",
       "      <th>marital</th>\n",
       "      <th>education</th>\n",
       "      <th>default</th>\n",
       "      <th>housing</th>\n",
       "      <th>loan</th>\n",
       "      <th>contact</th>\n",
       "      <th>month</th>\n",
       "      <th>poutcome</th>\n",
       "      <th>subscribed</th>\n",
       "    </tr>\n",
       "  </thead>\n",
       "  <tbody>\n",
       "    <tr>\n",
       "      <th>count</th>\n",
       "      <td>1990</td>\n",
       "      <td>2000</td>\n",
       "      <td>1896</td>\n",
       "      <td>2000</td>\n",
       "      <td>2000</td>\n",
       "      <td>2000</td>\n",
       "      <td>1809</td>\n",
       "      <td>2000</td>\n",
       "      <td>1546</td>\n",
       "      <td>2000</td>\n",
       "    </tr>\n",
       "    <tr>\n",
       "      <th>unique</th>\n",
       "      <td>11</td>\n",
       "      <td>3</td>\n",
       "      <td>3</td>\n",
       "      <td>2</td>\n",
       "      <td>2</td>\n",
       "      <td>2</td>\n",
       "      <td>2</td>\n",
       "      <td>12</td>\n",
       "      <td>3</td>\n",
       "      <td>2</td>\n",
       "    </tr>\n",
       "    <tr>\n",
       "      <th>top</th>\n",
       "      <td>management</td>\n",
       "      <td>married</td>\n",
       "      <td>secondary</td>\n",
       "      <td>no</td>\n",
       "      <td>no</td>\n",
       "      <td>no</td>\n",
       "      <td>cellular</td>\n",
       "      <td>feb</td>\n",
       "      <td>failure</td>\n",
       "      <td>yes</td>\n",
       "    </tr>\n",
       "    <tr>\n",
       "      <th>freq</th>\n",
       "      <td>461</td>\n",
       "      <td>1111</td>\n",
       "      <td>995</td>\n",
       "      <td>1985</td>\n",
       "      <td>1037</td>\n",
       "      <td>1750</td>\n",
       "      <td>1663</td>\n",
       "      <td>404</td>\n",
       "      <td>955</td>\n",
       "      <td>1000</td>\n",
       "    </tr>\n",
       "  </tbody>\n",
       "</table>\n",
       "</div>"
      ],
      "text/plain": [
       "               job  marital  education default housing  loan   contact month  \\\n",
       "count         1990     2000       1896    2000    2000  2000      1809  2000   \n",
       "unique          11        3          3       2       2     2         2    12   \n",
       "top     management  married  secondary      no      no    no  cellular   feb   \n",
       "freq           461     1111        995    1985    1037  1750      1663   404   \n",
       "\n",
       "       poutcome subscribed  \n",
       "count      1546       2000  \n",
       "unique        3          2  \n",
       "top     failure        yes  \n",
       "freq        955       1000  "
      ]
     },
     "execution_count": 5,
     "metadata": {},
     "output_type": "execute_result"
    }
   ],
   "source": [
    "# Check the summary of categorical attributes\n",
    "df.describe(include=np.object)"
   ]
  },
  {
   "cell_type": "markdown",
   "metadata": {},
   "source": [
    "## Task 1 (CS5062)\n",
    "Fill-in the missing values in the bank dataset. Use the EDA techniques from E-tivity 1 to decide how to fill in missing values. In your notebook, explain shortly (max 250 words) the decisions you have taken."
   ]
  },
  {
   "cell_type": "code",
   "execution_count": 6,
   "metadata": {},
   "outputs": [
    {
     "data": {
      "text/plain": [
       "age              12\n",
       "job              10\n",
       "marital           0\n",
       "education       104\n",
       "default           0\n",
       "balance           0\n",
       "ratio_bal_ln      0\n",
       "ratio_ln_inc      0\n",
       "housing           0\n",
       "loan              0\n",
       "contact         191\n",
       "day               0\n",
       "month             0\n",
       "duration          0\n",
       "campaign          0\n",
       "pdays             0\n",
       "previous          0\n",
       "poutcome        454\n",
       "subscribed        0\n",
       "dtype: int64"
      ]
     },
     "execution_count": 6,
     "metadata": {},
     "output_type": "execute_result"
    }
   ],
   "source": [
    "# Check for null values\n",
    "df.isnull().sum() #.sort_values(ascending=False)"
   ]
  },
  {
   "cell_type": "markdown",
   "metadata": {},
   "source": [
    "#### There is missing data in the following features:\n",
    "    - age      : 12 missing\n",
    "    - job      : 10 missing\n",
    "    - education: 104 missing\n",
    "    - contact  : 191 missing\n",
    "    - poutcome : 454 missing"
   ]
  },
  {
   "cell_type": "markdown",
   "metadata": {},
   "source": [
    "### Handling missing values for AGE"
   ]
  },
  {
   "cell_type": "code",
   "execution_count": 7,
   "metadata": {},
   "outputs": [
    {
     "data": {
      "text/plain": [
       "count    1988.000000\n",
       "mean       41.753018\n",
       "std        12.724358\n",
       "min        18.000000\n",
       "25%        32.000000\n",
       "50%        38.000000\n",
       "75%        50.000000\n",
       "max        93.000000\n",
       "Name: age, dtype: float64"
      ]
     },
     "execution_count": 7,
     "metadata": {},
     "output_type": "execute_result"
    }
   ],
   "source": [
    "df['age'].describe()"
   ]
  },
  {
   "cell_type": "code",
   "execution_count": 8,
   "metadata": {
    "scrolled": false
   },
   "outputs": [
    {
     "data": {
      "text/html": [
       "<div>\n",
       "<style scoped>\n",
       "    .dataframe tbody tr th:only-of-type {\n",
       "        vertical-align: middle;\n",
       "    }\n",
       "\n",
       "    .dataframe tbody tr th {\n",
       "        vertical-align: top;\n",
       "    }\n",
       "\n",
       "    .dataframe thead th {\n",
       "        text-align: right;\n",
       "    }\n",
       "</style>\n",
       "<table border=\"1\" class=\"dataframe\">\n",
       "  <thead>\n",
       "    <tr style=\"text-align: right;\">\n",
       "      <th></th>\n",
       "      <th>age</th>\n",
       "      <th>job</th>\n",
       "      <th>marital</th>\n",
       "      <th>education</th>\n",
       "      <th>default</th>\n",
       "      <th>balance</th>\n",
       "      <th>ratio_bal_ln</th>\n",
       "      <th>ratio_ln_inc</th>\n",
       "      <th>housing</th>\n",
       "      <th>loan</th>\n",
       "      <th>contact</th>\n",
       "      <th>day</th>\n",
       "      <th>month</th>\n",
       "      <th>duration</th>\n",
       "      <th>campaign</th>\n",
       "      <th>pdays</th>\n",
       "      <th>previous</th>\n",
       "      <th>poutcome</th>\n",
       "      <th>subscribed</th>\n",
       "    </tr>\n",
       "  </thead>\n",
       "  <tbody>\n",
       "    <tr>\n",
       "      <th>456</th>\n",
       "      <td>NaN</td>\n",
       "      <td>self-employed</td>\n",
       "      <td>married</td>\n",
       "      <td>tertiary</td>\n",
       "      <td>no</td>\n",
       "      <td>917</td>\n",
       "      <td>0.311161</td>\n",
       "      <td>-0.818688</td>\n",
       "      <td>no</td>\n",
       "      <td>no</td>\n",
       "      <td>cellular</td>\n",
       "      <td>6</td>\n",
       "      <td>feb</td>\n",
       "      <td>518</td>\n",
       "      <td>3</td>\n",
       "      <td>212</td>\n",
       "      <td>5</td>\n",
       "      <td>failure</td>\n",
       "      <td>no</td>\n",
       "    </tr>\n",
       "    <tr>\n",
       "      <th>472</th>\n",
       "      <td>NaN</td>\n",
       "      <td>blue-collar</td>\n",
       "      <td>married</td>\n",
       "      <td>primary</td>\n",
       "      <td>no</td>\n",
       "      <td>474</td>\n",
       "      <td>0.729179</td>\n",
       "      <td>0.350980</td>\n",
       "      <td>yes</td>\n",
       "      <td>yes</td>\n",
       "      <td>telephone</td>\n",
       "      <td>9</td>\n",
       "      <td>feb</td>\n",
       "      <td>152</td>\n",
       "      <td>3</td>\n",
       "      <td>221</td>\n",
       "      <td>1</td>\n",
       "      <td>failure</td>\n",
       "      <td>no</td>\n",
       "    </tr>\n",
       "    <tr>\n",
       "      <th>526</th>\n",
       "      <td>NaN</td>\n",
       "      <td>services</td>\n",
       "      <td>married</td>\n",
       "      <td>secondary</td>\n",
       "      <td>no</td>\n",
       "      <td>2478</td>\n",
       "      <td>0.469463</td>\n",
       "      <td>0.180632</td>\n",
       "      <td>yes</td>\n",
       "      <td>no</td>\n",
       "      <td>cellular</td>\n",
       "      <td>28</td>\n",
       "      <td>jan</td>\n",
       "      <td>347</td>\n",
       "      <td>1</td>\n",
       "      <td>230</td>\n",
       "      <td>1</td>\n",
       "      <td>failure</td>\n",
       "      <td>no</td>\n",
       "    </tr>\n",
       "    <tr>\n",
       "      <th>595</th>\n",
       "      <td>NaN</td>\n",
       "      <td>management</td>\n",
       "      <td>married</td>\n",
       "      <td>tertiary</td>\n",
       "      <td>no</td>\n",
       "      <td>1857</td>\n",
       "      <td>-0.137751</td>\n",
       "      <td>0.524516</td>\n",
       "      <td>no</td>\n",
       "      <td>no</td>\n",
       "      <td>cellular</td>\n",
       "      <td>29</td>\n",
       "      <td>jan</td>\n",
       "      <td>386</td>\n",
       "      <td>1</td>\n",
       "      <td>168</td>\n",
       "      <td>4</td>\n",
       "      <td>failure</td>\n",
       "      <td>no</td>\n",
       "    </tr>\n",
       "    <tr>\n",
       "      <th>597</th>\n",
       "      <td>NaN</td>\n",
       "      <td>self-employed</td>\n",
       "      <td>married</td>\n",
       "      <td>secondary</td>\n",
       "      <td>yes</td>\n",
       "      <td>254</td>\n",
       "      <td>0.800582</td>\n",
       "      <td>0.370658</td>\n",
       "      <td>yes</td>\n",
       "      <td>yes</td>\n",
       "      <td>cellular</td>\n",
       "      <td>29</td>\n",
       "      <td>jan</td>\n",
       "      <td>194</td>\n",
       "      <td>1</td>\n",
       "      <td>188</td>\n",
       "      <td>1</td>\n",
       "      <td>failure</td>\n",
       "      <td>no</td>\n",
       "    </tr>\n",
       "    <tr>\n",
       "      <th>601</th>\n",
       "      <td>NaN</td>\n",
       "      <td>admin.</td>\n",
       "      <td>single</td>\n",
       "      <td>secondary</td>\n",
       "      <td>no</td>\n",
       "      <td>111</td>\n",
       "      <td>0.269082</td>\n",
       "      <td>0.060002</td>\n",
       "      <td>yes</td>\n",
       "      <td>no</td>\n",
       "      <td>cellular</td>\n",
       "      <td>29</td>\n",
       "      <td>jan</td>\n",
       "      <td>55</td>\n",
       "      <td>1</td>\n",
       "      <td>195</td>\n",
       "      <td>3</td>\n",
       "      <td>failure</td>\n",
       "      <td>no</td>\n",
       "    </tr>\n",
       "    <tr>\n",
       "      <th>605</th>\n",
       "      <td>NaN</td>\n",
       "      <td>management</td>\n",
       "      <td>married</td>\n",
       "      <td>tertiary</td>\n",
       "      <td>no</td>\n",
       "      <td>1330</td>\n",
       "      <td>1.007376</td>\n",
       "      <td>-0.459770</td>\n",
       "      <td>yes</td>\n",
       "      <td>no</td>\n",
       "      <td>cellular</td>\n",
       "      <td>29</td>\n",
       "      <td>jan</td>\n",
       "      <td>41</td>\n",
       "      <td>2</td>\n",
       "      <td>261</td>\n",
       "      <td>1</td>\n",
       "      <td>failure</td>\n",
       "      <td>no</td>\n",
       "    </tr>\n",
       "    <tr>\n",
       "      <th>744</th>\n",
       "      <td>NaN</td>\n",
       "      <td>management</td>\n",
       "      <td>married</td>\n",
       "      <td>tertiary</td>\n",
       "      <td>no</td>\n",
       "      <td>-61</td>\n",
       "      <td>0.638129</td>\n",
       "      <td>-1.001420</td>\n",
       "      <td>no</td>\n",
       "      <td>no</td>\n",
       "      <td>cellular</td>\n",
       "      <td>30</td>\n",
       "      <td>jan</td>\n",
       "      <td>90</td>\n",
       "      <td>5</td>\n",
       "      <td>172</td>\n",
       "      <td>1</td>\n",
       "      <td>failure</td>\n",
       "      <td>no</td>\n",
       "    </tr>\n",
       "    <tr>\n",
       "      <th>795</th>\n",
       "      <td>NaN</td>\n",
       "      <td>technician</td>\n",
       "      <td>single</td>\n",
       "      <td>tertiary</td>\n",
       "      <td>no</td>\n",
       "      <td>992</td>\n",
       "      <td>0.901646</td>\n",
       "      <td>-0.098458</td>\n",
       "      <td>yes</td>\n",
       "      <td>no</td>\n",
       "      <td>cellular</td>\n",
       "      <td>4</td>\n",
       "      <td>may</td>\n",
       "      <td>301</td>\n",
       "      <td>1</td>\n",
       "      <td>88</td>\n",
       "      <td>2</td>\n",
       "      <td>success</td>\n",
       "      <td>no</td>\n",
       "    </tr>\n",
       "    <tr>\n",
       "      <th>1171</th>\n",
       "      <td>NaN</td>\n",
       "      <td>retired</td>\n",
       "      <td>married</td>\n",
       "      <td>tertiary</td>\n",
       "      <td>no</td>\n",
       "      <td>2812</td>\n",
       "      <td>-0.336489</td>\n",
       "      <td>2.210606</td>\n",
       "      <td>no</td>\n",
       "      <td>no</td>\n",
       "      <td>cellular</td>\n",
       "      <td>3</td>\n",
       "      <td>aug</td>\n",
       "      <td>392</td>\n",
       "      <td>4</td>\n",
       "      <td>181</td>\n",
       "      <td>3</td>\n",
       "      <td>success</td>\n",
       "      <td>yes</td>\n",
       "    </tr>\n",
       "    <tr>\n",
       "      <th>1232</th>\n",
       "      <td>NaN</td>\n",
       "      <td>student</td>\n",
       "      <td>single</td>\n",
       "      <td>secondary</td>\n",
       "      <td>no</td>\n",
       "      <td>431</td>\n",
       "      <td>-1.980588</td>\n",
       "      <td>0.402762</td>\n",
       "      <td>no</td>\n",
       "      <td>no</td>\n",
       "      <td>cellular</td>\n",
       "      <td>19</td>\n",
       "      <td>aug</td>\n",
       "      <td>418</td>\n",
       "      <td>11</td>\n",
       "      <td>185</td>\n",
       "      <td>5</td>\n",
       "      <td>success</td>\n",
       "      <td>yes</td>\n",
       "    </tr>\n",
       "    <tr>\n",
       "      <th>1408</th>\n",
       "      <td>NaN</td>\n",
       "      <td>self-employed</td>\n",
       "      <td>single</td>\n",
       "      <td>tertiary</td>\n",
       "      <td>no</td>\n",
       "      <td>251</td>\n",
       "      <td>-0.265117</td>\n",
       "      <td>1.112134</td>\n",
       "      <td>no</td>\n",
       "      <td>no</td>\n",
       "      <td>cellular</td>\n",
       "      <td>12</td>\n",
       "      <td>jul</td>\n",
       "      <td>537</td>\n",
       "      <td>1</td>\n",
       "      <td>-1</td>\n",
       "      <td>0</td>\n",
       "      <td>NaN</td>\n",
       "      <td>yes</td>\n",
       "    </tr>\n",
       "  </tbody>\n",
       "</table>\n",
       "</div>"
      ],
      "text/plain": [
       "      age            job  marital  education default  balance  ratio_bal_ln  \\\n",
       "456   NaN  self-employed  married   tertiary      no      917      0.311161   \n",
       "472   NaN    blue-collar  married    primary      no      474      0.729179   \n",
       "526   NaN       services  married  secondary      no     2478      0.469463   \n",
       "595   NaN     management  married   tertiary      no     1857     -0.137751   \n",
       "597   NaN  self-employed  married  secondary     yes      254      0.800582   \n",
       "601   NaN         admin.   single  secondary      no      111      0.269082   \n",
       "605   NaN     management  married   tertiary      no     1330      1.007376   \n",
       "744   NaN     management  married   tertiary      no      -61      0.638129   \n",
       "795   NaN     technician   single   tertiary      no      992      0.901646   \n",
       "1171  NaN        retired  married   tertiary      no     2812     -0.336489   \n",
       "1232  NaN        student   single  secondary      no      431     -1.980588   \n",
       "1408  NaN  self-employed   single   tertiary      no      251     -0.265117   \n",
       "\n",
       "      ratio_ln_inc housing loan    contact  day month  duration  campaign  \\\n",
       "456      -0.818688      no   no   cellular    6   feb       518         3   \n",
       "472       0.350980     yes  yes  telephone    9   feb       152         3   \n",
       "526       0.180632     yes   no   cellular   28   jan       347         1   \n",
       "595       0.524516      no   no   cellular   29   jan       386         1   \n",
       "597       0.370658     yes  yes   cellular   29   jan       194         1   \n",
       "601       0.060002     yes   no   cellular   29   jan        55         1   \n",
       "605      -0.459770     yes   no   cellular   29   jan        41         2   \n",
       "744      -1.001420      no   no   cellular   30   jan        90         5   \n",
       "795      -0.098458     yes   no   cellular    4   may       301         1   \n",
       "1171      2.210606      no   no   cellular    3   aug       392         4   \n",
       "1232      0.402762      no   no   cellular   19   aug       418        11   \n",
       "1408      1.112134      no   no   cellular   12   jul       537         1   \n",
       "\n",
       "      pdays  previous poutcome subscribed  \n",
       "456     212         5  failure         no  \n",
       "472     221         1  failure         no  \n",
       "526     230         1  failure         no  \n",
       "595     168         4  failure         no  \n",
       "597     188         1  failure         no  \n",
       "601     195         3  failure         no  \n",
       "605     261         1  failure         no  \n",
       "744     172         1  failure         no  \n",
       "795      88         2  success         no  \n",
       "1171    181         3  success        yes  \n",
       "1232    185         5  success        yes  \n",
       "1408     -1         0      NaN        yes  "
      ]
     },
     "execution_count": 8,
     "metadata": {},
     "output_type": "execute_result"
    }
   ],
   "source": [
    "# Lets analyse the data samples with missing age values\n",
    "df[df['age'].isnull()]"
   ]
  },
  {
   "cell_type": "markdown",
   "metadata": {},
   "source": [
    "- We can see that the customers who's age is missing are either `married or single` and none of the divorced customers age is missing.\n",
    "\n",
    "##### Attribute \"age\" can be related to the attributes \"job\" and \"marital\" status. "
   ]
  },
  {
   "cell_type": "code",
   "execution_count": 9,
   "metadata": {},
   "outputs": [
    {
     "data": {
      "image/png": "[encoded data removed]",
      "text/plain": [
       "<Figure size 1296x576 with 1 Axes>"
      ]
     },
     "metadata": {},
     "output_type": "display_data"
    }
   ],
   "source": [
    "df.boxplot(column='age', by=['job', 'marital'], rot=45, figsize=(18,8))\n",
    "\n",
    "plt.title(\"Boxplot of Age grouped by job and marital\")\n",
    "plt.ylabel(\"age\")\n",
    "# get rid of the automatic 'Boxplot grouped by group_by_column_name' title\n",
    "plt.suptitle(\"\")\n",
    "plt.show()"
   ]
  },
  {
   "cell_type": "markdown",
   "metadata": {},
   "source": [
    "We can see some variation in the median of `age` for each group and these medians can be used for imputing the missing values in each group after ensuring there is no missing values for `job` and `marital` attributes.\n",
    "\n",
    "We know that there is **no missing values for marital status** but **attribute \"job\" has some missing values** which needs to be handled\n",
    "\n",
    "### Handling missing value for attribute JOB"
   ]
  },
  {
   "cell_type": "code",
   "execution_count": 10,
   "metadata": {},
   "outputs": [
    {
     "data": {
      "text/plain": [
       "management       461\n",
       "technician       348\n",
       "blue-collar      298\n",
       "admin.           247\n",
       "services         165\n",
       "retired          162\n",
       "student           96\n",
       "unemployed        69\n",
       "self-employed     64\n",
       "entrepreneur      45\n",
       "housemaid         35\n",
       "Name: job, dtype: int64"
      ]
     },
     "execution_count": 10,
     "metadata": {},
     "output_type": "execute_result"
    }
   ],
   "source": [
    "df['job'].value_counts()"
   ]
  },
  {
   "cell_type": "code",
   "execution_count": 11,
   "metadata": {
    "scrolled": true
   },
   "outputs": [
    {
     "data": {
      "text/html": [
       "<div>\n",
       "<style scoped>\n",
       "    .dataframe tbody tr th:only-of-type {\n",
       "        vertical-align: middle;\n",
       "    }\n",
       "\n",
       "    .dataframe tbody tr th {\n",
       "        vertical-align: top;\n",
       "    }\n",
       "\n",
       "    .dataframe thead th {\n",
       "        text-align: right;\n",
       "    }\n",
       "</style>\n",
       "<table border=\"1\" class=\"dataframe\">\n",
       "  <thead>\n",
       "    <tr style=\"text-align: right;\">\n",
       "      <th></th>\n",
       "      <th>age</th>\n",
       "      <th>job</th>\n",
       "      <th>marital</th>\n",
       "      <th>education</th>\n",
       "      <th>default</th>\n",
       "      <th>balance</th>\n",
       "      <th>ratio_bal_ln</th>\n",
       "      <th>ratio_ln_inc</th>\n",
       "      <th>housing</th>\n",
       "      <th>loan</th>\n",
       "      <th>contact</th>\n",
       "      <th>day</th>\n",
       "      <th>month</th>\n",
       "      <th>duration</th>\n",
       "      <th>campaign</th>\n",
       "      <th>pdays</th>\n",
       "      <th>previous</th>\n",
       "      <th>poutcome</th>\n",
       "      <th>subscribed</th>\n",
       "    </tr>\n",
       "  </thead>\n",
       "  <tbody>\n",
       "    <tr>\n",
       "      <th>255</th>\n",
       "      <td>42.0</td>\n",
       "      <td>NaN</td>\n",
       "      <td>single</td>\n",
       "      <td>primary</td>\n",
       "      <td>no</td>\n",
       "      <td>2398</td>\n",
       "      <td>-1.418888</td>\n",
       "      <td>1.809977</td>\n",
       "      <td>yes</td>\n",
       "      <td>no</td>\n",
       "      <td>cellular</td>\n",
       "      <td>3</td>\n",
       "      <td>feb</td>\n",
       "      <td>144</td>\n",
       "      <td>2</td>\n",
       "      <td>271</td>\n",
       "      <td>2</td>\n",
       "      <td>failure</td>\n",
       "      <td>no</td>\n",
       "    </tr>\n",
       "    <tr>\n",
       "      <th>257</th>\n",
       "      <td>46.0</td>\n",
       "      <td>NaN</td>\n",
       "      <td>married</td>\n",
       "      <td>NaN</td>\n",
       "      <td>no</td>\n",
       "      <td>677</td>\n",
       "      <td>-0.399374</td>\n",
       "      <td>0.150261</td>\n",
       "      <td>no</td>\n",
       "      <td>no</td>\n",
       "      <td>cellular</td>\n",
       "      <td>3</td>\n",
       "      <td>feb</td>\n",
       "      <td>425</td>\n",
       "      <td>1</td>\n",
       "      <td>82</td>\n",
       "      <td>1</td>\n",
       "      <td>failure</td>\n",
       "      <td>no</td>\n",
       "    </tr>\n",
       "    <tr>\n",
       "      <th>831</th>\n",
       "      <td>41.0</td>\n",
       "      <td>NaN</td>\n",
       "      <td>single</td>\n",
       "      <td>primary</td>\n",
       "      <td>no</td>\n",
       "      <td>2398</td>\n",
       "      <td>-0.243804</td>\n",
       "      <td>-0.685437</td>\n",
       "      <td>yes</td>\n",
       "      <td>no</td>\n",
       "      <td>NaN</td>\n",
       "      <td>8</td>\n",
       "      <td>may</td>\n",
       "      <td>287</td>\n",
       "      <td>2</td>\n",
       "      <td>-1</td>\n",
       "      <td>0</td>\n",
       "      <td>NaN</td>\n",
       "      <td>no</td>\n",
       "    </tr>\n",
       "    <tr>\n",
       "      <th>1223</th>\n",
       "      <td>55.0</td>\n",
       "      <td>NaN</td>\n",
       "      <td>married</td>\n",
       "      <td>secondary</td>\n",
       "      <td>no</td>\n",
       "      <td>2206</td>\n",
       "      <td>-1.134511</td>\n",
       "      <td>0.861389</td>\n",
       "      <td>no</td>\n",
       "      <td>no</td>\n",
       "      <td>cellular</td>\n",
       "      <td>12</td>\n",
       "      <td>aug</td>\n",
       "      <td>265</td>\n",
       "      <td>1</td>\n",
       "      <td>91</td>\n",
       "      <td>5</td>\n",
       "      <td>success</td>\n",
       "      <td>yes</td>\n",
       "    </tr>\n",
       "    <tr>\n",
       "      <th>1281</th>\n",
       "      <td>50.0</td>\n",
       "      <td>NaN</td>\n",
       "      <td>married</td>\n",
       "      <td>NaN</td>\n",
       "      <td>no</td>\n",
       "      <td>558</td>\n",
       "      <td>-0.455001</td>\n",
       "      <td>1.595412</td>\n",
       "      <td>no</td>\n",
       "      <td>no</td>\n",
       "      <td>cellular</td>\n",
       "      <td>9</td>\n",
       "      <td>jul</td>\n",
       "      <td>464</td>\n",
       "      <td>1</td>\n",
       "      <td>683</td>\n",
       "      <td>6</td>\n",
       "      <td>failure</td>\n",
       "      <td>yes</td>\n",
       "    </tr>\n",
       "    <tr>\n",
       "      <th>1669</th>\n",
       "      <td>54.0</td>\n",
       "      <td>NaN</td>\n",
       "      <td>married</td>\n",
       "      <td>secondary</td>\n",
       "      <td>no</td>\n",
       "      <td>2206</td>\n",
       "      <td>-0.575645</td>\n",
       "      <td>-0.242814</td>\n",
       "      <td>no</td>\n",
       "      <td>no</td>\n",
       "      <td>cellular</td>\n",
       "      <td>13</td>\n",
       "      <td>may</td>\n",
       "      <td>260</td>\n",
       "      <td>1</td>\n",
       "      <td>91</td>\n",
       "      <td>4</td>\n",
       "      <td>success</td>\n",
       "      <td>yes</td>\n",
       "    </tr>\n",
       "    <tr>\n",
       "      <th>1711</th>\n",
       "      <td>77.0</td>\n",
       "      <td>NaN</td>\n",
       "      <td>married</td>\n",
       "      <td>NaN</td>\n",
       "      <td>no</td>\n",
       "      <td>397</td>\n",
       "      <td>-0.871514</td>\n",
       "      <td>0.134782</td>\n",
       "      <td>no</td>\n",
       "      <td>no</td>\n",
       "      <td>telephone</td>\n",
       "      <td>7</td>\n",
       "      <td>may</td>\n",
       "      <td>300</td>\n",
       "      <td>3</td>\n",
       "      <td>-1</td>\n",
       "      <td>0</td>\n",
       "      <td>NaN</td>\n",
       "      <td>yes</td>\n",
       "    </tr>\n",
       "    <tr>\n",
       "      <th>1801</th>\n",
       "      <td>28.0</td>\n",
       "      <td>NaN</td>\n",
       "      <td>single</td>\n",
       "      <td>NaN</td>\n",
       "      <td>no</td>\n",
       "      <td>326</td>\n",
       "      <td>0.298961</td>\n",
       "      <td>1.653248</td>\n",
       "      <td>no</td>\n",
       "      <td>no</td>\n",
       "      <td>cellular</td>\n",
       "      <td>11</td>\n",
       "      <td>oct</td>\n",
       "      <td>450</td>\n",
       "      <td>1</td>\n",
       "      <td>231</td>\n",
       "      <td>1</td>\n",
       "      <td>success</td>\n",
       "      <td>yes</td>\n",
       "    </tr>\n",
       "    <tr>\n",
       "      <th>1868</th>\n",
       "      <td>48.0</td>\n",
       "      <td>NaN</td>\n",
       "      <td>single</td>\n",
       "      <td>NaN</td>\n",
       "      <td>no</td>\n",
       "      <td>1819</td>\n",
       "      <td>0.680564</td>\n",
       "      <td>-0.786048</td>\n",
       "      <td>no</td>\n",
       "      <td>no</td>\n",
       "      <td>cellular</td>\n",
       "      <td>2</td>\n",
       "      <td>sep</td>\n",
       "      <td>1440</td>\n",
       "      <td>1</td>\n",
       "      <td>458</td>\n",
       "      <td>1</td>\n",
       "      <td>failure</td>\n",
       "      <td>yes</td>\n",
       "    </tr>\n",
       "    <tr>\n",
       "      <th>1975</th>\n",
       "      <td>45.0</td>\n",
       "      <td>NaN</td>\n",
       "      <td>married</td>\n",
       "      <td>tertiary</td>\n",
       "      <td>no</td>\n",
       "      <td>406</td>\n",
       "      <td>-2.211965</td>\n",
       "      <td>2.109631</td>\n",
       "      <td>no</td>\n",
       "      <td>no</td>\n",
       "      <td>cellular</td>\n",
       "      <td>7</td>\n",
       "      <td>sep</td>\n",
       "      <td>314</td>\n",
       "      <td>1</td>\n",
       "      <td>-1</td>\n",
       "      <td>0</td>\n",
       "      <td>NaN</td>\n",
       "      <td>yes</td>\n",
       "    </tr>\n",
       "  </tbody>\n",
       "</table>\n",
       "</div>"
      ],
      "text/plain": [
       "       age  job  marital  education default  balance  ratio_bal_ln  \\\n",
       "255   42.0  NaN   single    primary      no     2398     -1.418888   \n",
       "257   46.0  NaN  married        NaN      no      677     -0.399374   \n",
       "831   41.0  NaN   single    primary      no     2398     -0.243804   \n",
       "1223  55.0  NaN  married  secondary      no     2206     -1.134511   \n",
       "1281  50.0  NaN  married        NaN      no      558     -0.455001   \n",
       "1669  54.0  NaN  married  secondary      no     2206     -0.575645   \n",
       "1711  77.0  NaN  married        NaN      no      397     -0.871514   \n",
       "1801  28.0  NaN   single        NaN      no      326      0.298961   \n",
       "1868  48.0  NaN   single        NaN      no     1819      0.680564   \n",
       "1975  45.0  NaN  married   tertiary      no      406     -2.211965   \n",
       "\n",
       "      ratio_ln_inc housing loan    contact  day month  duration  campaign  \\\n",
       "255       1.809977     yes   no   cellular    3   feb       144         2   \n",
       "257       0.150261      no   no   cellular    3   feb       425         1   \n",
       "831      -0.685437     yes   no        NaN    8   may       287         2   \n",
       "1223      0.861389      no   no   cellular   12   aug       265         1   \n",
       "1281      1.595412      no   no   cellular    9   jul       464         1   \n",
       "1669     -0.242814      no   no   cellular   13   may       260         1   \n",
       "1711      0.134782      no   no  telephone    7   may       300         3   \n",
       "1801      1.653248      no   no   cellular   11   oct       450         1   \n",
       "1868     -0.786048      no   no   cellular    2   sep      1440         1   \n",
       "1975      2.109631      no   no   cellular    7   sep       314         1   \n",
       "\n",
       "      pdays  previous poutcome subscribed  \n",
       "255     271         2  failure         no  \n",
       "257      82         1  failure         no  \n",
       "831      -1         0      NaN         no  \n",
       "1223     91         5  success        yes  \n",
       "1281    683         6  failure        yes  \n",
       "1669     91         4  success        yes  \n",
       "1711     -1         0      NaN        yes  \n",
       "1801    231         1  success        yes  \n",
       "1868    458         1  failure        yes  \n",
       "1975     -1         0      NaN        yes  "
      ]
     },
     "execution_count": 11,
     "metadata": {},
     "output_type": "execute_result"
    }
   ],
   "source": [
    "# Lets analyse the dataframe with missing JOB values\n",
    "df[df['job'].isnull()]"
   ]
  },
  {
   "cell_type": "markdown",
   "metadata": {},
   "source": [
    "#### Job has 10 missing values and 11 categories. There are a few options I had thought for this situation:\n",
    "1. Drop the 10 missing values as few (5 out of 10) of the missing job also has missing education field\n",
    "2. Use forward or backward fill method (Chells also suggested this), but there is no statistical relation and it would be random fills.\n",
    "3. Create a new category named `unknown`. However, we already have 11 categories and this will just add to it with no relevance to other features. \n",
    "\n",
    "##### Method used: Drop the missing job fields."
   ]
  },
  {
   "cell_type": "code",
   "execution_count": 12,
   "metadata": {
    "scrolled": false
   },
   "outputs": [],
   "source": [
    "# There are Only 10 missing values in Job and we can drop it.\n",
    "df.dropna(subset=['job'], inplace=True)\n",
    "\n",
    "# Reset the index of rows\n",
    "df.reset_index(drop=True, inplace=True)"
   ]
  },
  {
   "cell_type": "code",
   "execution_count": 13,
   "metadata": {},
   "outputs": [
    {
     "name": "stdout",
     "output_type": "stream",
     "text": [
      "job       admin.  blue-collar  entrepreneur  housemaid  management  retired  \\\n",
      "marital                                                                       \n",
      "divorced    40.0         42.0          47.5       55.0        45.0     67.0   \n",
      "married     42.5         40.0          45.0       49.0        41.0     67.0   \n",
      "single      33.0         32.0          34.5       34.5        32.0     60.5   \n",
      "\n",
      "job       self-employed  services  student  technician  unemployed  \n",
      "marital                                                             \n",
      "divorced           46.0      47.0     38.0        42.0        40.0  \n",
      "married            46.0      37.0     33.0        43.5        43.0  \n",
      "single             29.0      32.0     25.0        33.0        32.0  \n"
     ]
    }
   ],
   "source": [
    "# create a pivot table, which contains the median values for all the marital and job groups.\n",
    "table_age = df.pivot_table(values='age', \n",
    "                       index='marital', \n",
    "                       columns='job', \n",
    "                       aggfunc=np.median)\n",
    "print(table_age)"
   ]
  },
  {
   "cell_type": "code",
   "execution_count": 14,
   "metadata": {},
   "outputs": [],
   "source": [
    "# Define function to return an element of the pivot table\n",
    "def func_age(x):\n",
    "    return table_age.loc[x['marital'], x['job']]\n",
    "\n",
    "# Replace missing values\n",
    "df['age'].fillna(df[df['age'].isnull()].apply(func_age, axis=1), inplace=True)"
   ]
  },
  {
   "cell_type": "code",
   "execution_count": 15,
   "metadata": {},
   "outputs": [
    {
     "data": {
      "text/plain": [
       "0"
      ]
     },
     "execution_count": 15,
     "metadata": {},
     "output_type": "execute_result"
    }
   ],
   "source": [
    "# Verify if null values in age are gone\n",
    "df['age'].isnull().sum()"
   ]
  },
  {
   "cell_type": "markdown",
   "metadata": {},
   "source": [
    "### Handling missing values for Education"
   ]
  },
  {
   "cell_type": "code",
   "execution_count": 16,
   "metadata": {},
   "outputs": [
    {
     "data": {
      "text/plain": [
       "99"
      ]
     },
     "execution_count": 16,
     "metadata": {},
     "output_type": "execute_result"
    }
   ],
   "source": [
    "# Find missing values for attribute Education\n",
    "df['education'].isnull().sum()"
   ]
  },
  {
   "cell_type": "markdown",
   "metadata": {},
   "source": [
    "After removing the missing job samples we are left with 99 missing education fields from the previous 104, as there was some overlap in the missing values between the 2 attributes"
   ]
  },
  {
   "cell_type": "code",
   "execution_count": 17,
   "metadata": {},
   "outputs": [
    {
     "data": {
      "text/plain": [
       "1990"
      ]
     },
     "execution_count": 17,
     "metadata": {},
     "output_type": "execute_result"
    }
   ],
   "source": [
    "# Education properties\n",
    "df['education'].value_counts(normalize=True)\n",
    "df.education.shape[0]"
   ]
  },
  {
   "cell_type": "code",
   "execution_count": 18,
   "metadata": {},
   "outputs": [
    {
     "data": {
      "text/html": [
       "<style  type=\"text/css\" >\n",
       "    #T_2c184ddc_32ce_11e9_b71b_aced5c908bbarow0_col0 {\n",
       "            background-color:  #fff400;\n",
       "        }    #T_2c184ddc_32ce_11e9_b71b_aced5c908bbarow0_col1 {\n",
       "            background-color:  #ffd000;\n",
       "        }    #T_2c184ddc_32ce_11e9_b71b_aced5c908bbarow0_col2 {\n",
       "            background-color:  #fff500;\n",
       "        }    #T_2c184ddc_32ce_11e9_b71b_aced5c908bbarow0_col3 {\n",
       "            background-color:  #ffe300;\n",
       "        }    #T_2c184ddc_32ce_11e9_b71b_aced5c908bbarow1_col0 {\n",
       "            background-color:  #ff9100;\n",
       "        }    #T_2c184ddc_32ce_11e9_b71b_aced5c908bbarow1_col1 {\n",
       "            background-color:  #ffd200;\n",
       "        }    #T_2c184ddc_32ce_11e9_b71b_aced5c908bbarow1_col2 {\n",
       "            background-color:  #fffe00;\n",
       "        }    #T_2c184ddc_32ce_11e9_b71b_aced5c908bbarow1_col3 {\n",
       "            background-color:  #ffdd00;\n",
       "        }    #T_2c184ddc_32ce_11e9_b71b_aced5c908bbarow2_col0 {\n",
       "            background-color:  #fffb00;\n",
       "        }    #T_2c184ddc_32ce_11e9_b71b_aced5c908bbarow2_col1 {\n",
       "            background-color:  #fffe00;\n",
       "        }    #T_2c184ddc_32ce_11e9_b71b_aced5c908bbarow2_col2 {\n",
       "            background-color:  #fffa00;\n",
       "        }    #T_2c184ddc_32ce_11e9_b71b_aced5c908bbarow2_col3 {\n",
       "            background-color:  #fffe00;\n",
       "        }    #T_2c184ddc_32ce_11e9_b71b_aced5c908bbarow3_col0 {\n",
       "            background-color:  #ffec00;\n",
       "        }    #T_2c184ddc_32ce_11e9_b71b_aced5c908bbarow3_col1 {\n",
       "            background-color:  #ffff00;\n",
       "        }    #T_2c184ddc_32ce_11e9_b71b_aced5c908bbarow3_col2 {\n",
       "            background-color:  #ffff00;\n",
       "        }    #T_2c184ddc_32ce_11e9_b71b_aced5c908bbarow3_col3 {\n",
       "            background-color:  #ffff00;\n",
       "        }    #T_2c184ddc_32ce_11e9_b71b_aced5c908bbarow4_col0 {\n",
       "            background-color:  #fff500;\n",
       "        }    #T_2c184ddc_32ce_11e9_b71b_aced5c908bbarow4_col1 {\n",
       "            background-color:  #fff900;\n",
       "        }    #T_2c184ddc_32ce_11e9_b71b_aced5c908bbarow4_col2 {\n",
       "            background-color:  #ff6e00;\n",
       "        }    #T_2c184ddc_32ce_11e9_b71b_aced5c908bbarow4_col3 {\n",
       "            background-color:  #ffc800;\n",
       "        }    #T_2c184ddc_32ce_11e9_b71b_aced5c908bbarow5_col0 {\n",
       "            background-color:  #ffc000;\n",
       "        }    #T_2c184ddc_32ce_11e9_b71b_aced5c908bbarow5_col1 {\n",
       "            background-color:  #ffef00;\n",
       "        }    #T_2c184ddc_32ce_11e9_b71b_aced5c908bbarow5_col2 {\n",
       "            background-color:  #fffa00;\n",
       "        }    #T_2c184ddc_32ce_11e9_b71b_aced5c908bbarow5_col3 {\n",
       "            background-color:  #ffef00;\n",
       "        }    #T_2c184ddc_32ce_11e9_b71b_aced5c908bbarow6_col0 {\n",
       "            background-color:  #ffff00;\n",
       "        }    #T_2c184ddc_32ce_11e9_b71b_aced5c908bbarow6_col1 {\n",
       "            background-color:  #ffff00;\n",
       "        }    #T_2c184ddc_32ce_11e9_b71b_aced5c908bbarow6_col2 {\n",
       "            background-color:  #fff000;\n",
       "        }    #T_2c184ddc_32ce_11e9_b71b_aced5c908bbarow6_col3 {\n",
       "            background-color:  #fffc00;\n",
       "        }    #T_2c184ddc_32ce_11e9_b71b_aced5c908bbarow7_col0 {\n",
       "            background-color:  #fff100;\n",
       "        }    #T_2c184ddc_32ce_11e9_b71b_aced5c908bbarow7_col1 {\n",
       "            background-color:  #ffdf00;\n",
       "        }    #T_2c184ddc_32ce_11e9_b71b_aced5c908bbarow7_col2 {\n",
       "            background-color:  #fffe00;\n",
       "        }    #T_2c184ddc_32ce_11e9_b71b_aced5c908bbarow7_col3 {\n",
       "            background-color:  #ffef00;\n",
       "        }    #T_2c184ddc_32ce_11e9_b71b_aced5c908bbarow8_col0 {\n",
       "            background-color:  #fffb00;\n",
       "        }    #T_2c184ddc_32ce_11e9_b71b_aced5c908bbarow8_col1 {\n",
       "            background-color:  #fff300;\n",
       "        }    #T_2c184ddc_32ce_11e9_b71b_aced5c908bbarow8_col2 {\n",
       "            background-color:  #fffc00;\n",
       "        }    #T_2c184ddc_32ce_11e9_b71b_aced5c908bbarow8_col3 {\n",
       "            background-color:  #fff900;\n",
       "        }    #T_2c184ddc_32ce_11e9_b71b_aced5c908bbarow9_col0 {\n",
       "            background-color:  #fff500;\n",
       "        }    #T_2c184ddc_32ce_11e9_b71b_aced5c908bbarow9_col1 {\n",
       "            background-color:  #ffca00;\n",
       "        }    #T_2c184ddc_32ce_11e9_b71b_aced5c908bbarow9_col2 {\n",
       "            background-color:  #ffdc00;\n",
       "        }    #T_2c184ddc_32ce_11e9_b71b_aced5c908bbarow9_col3 {\n",
       "            background-color:  #ffd700;\n",
       "        }    #T_2c184ddc_32ce_11e9_b71b_aced5c908bbarow10_col0 {\n",
       "            background-color:  #fffa00;\n",
       "        }    #T_2c184ddc_32ce_11e9_b71b_aced5c908bbarow10_col1 {\n",
       "            background-color:  #fff700;\n",
       "        }    #T_2c184ddc_32ce_11e9_b71b_aced5c908bbarow10_col2 {\n",
       "            background-color:  #fffb00;\n",
       "        }    #T_2c184ddc_32ce_11e9_b71b_aced5c908bbarow10_col3 {\n",
       "            background-color:  #fffb00;\n",
       "        }    #T_2c184ddc_32ce_11e9_b71b_aced5c908bbarow11_col0 {\n",
       "            background-color:  #ff0000;\n",
       "        }    #T_2c184ddc_32ce_11e9_b71b_aced5c908bbarow11_col1 {\n",
       "            background-color:  #ff0000;\n",
       "        }    #T_2c184ddc_32ce_11e9_b71b_aced5c908bbarow11_col2 {\n",
       "            background-color:  #ff0000;\n",
       "        }    #T_2c184ddc_32ce_11e9_b71b_aced5c908bbarow11_col3 {\n",
       "            background-color:  #ff0000;\n",
       "        }</style>  \n",
       "<table id=\"T_2c184ddc_32ce_11e9_b71b_aced5c908bba\" > \n",
       "<thead>    <tr> \n",
       "        <th class=\"index_name level0\" >education</th> \n",
       "        <th class=\"col_heading level0 col0\" >primary</th> \n",
       "        <th class=\"col_heading level0 col1\" >secondary</th> \n",
       "        <th class=\"col_heading level0 col2\" >tertiary</th> \n",
       "        <th class=\"col_heading level0 col3\" >All</th> \n",
       "    </tr>    <tr> \n",
       "        <th class=\"index_name level0\" >job</th> \n",
       "        <th class=\"blank\" ></th> \n",
       "        <th class=\"blank\" ></th> \n",
       "        <th class=\"blank\" ></th> \n",
       "        <th class=\"blank\" ></th> \n",
       "    </tr></thead> \n",
       "<tbody>    <tr> \n",
       "        <th id=\"T_2c184ddc_32ce_11e9_b71b_aced5c908bbalevel0_row0\" class=\"row_heading level0 row0\" >admin.</th> \n",
       "        <td id=\"T_2c184ddc_32ce_11e9_b71b_aced5c908bbarow0_col0\" class=\"data row0 col0\" >10</td> \n",
       "        <td id=\"T_2c184ddc_32ce_11e9_b71b_aced5c908bbarow0_col1\" class=\"data row0 col1\" >194</td> \n",
       "        <td id=\"T_2c184ddc_32ce_11e9_b71b_aced5c908bbarow0_col2\" class=\"data row0 col2\" >35</td> \n",
       "        <td id=\"T_2c184ddc_32ce_11e9_b71b_aced5c908bbarow0_col3\" class=\"data row0 col3\" >239</td> \n",
       "    </tr>    <tr> \n",
       "        <th id=\"T_2c184ddc_32ce_11e9_b71b_aced5c908bbalevel0_row1\" class=\"row_heading level0 row1\" >blue-collar</th> \n",
       "        <td id=\"T_2c184ddc_32ce_11e9_b71b_aced5c908bbarow1_col0\" class=\"data row1 col0\" >93</td> \n",
       "        <td id=\"T_2c184ddc_32ce_11e9_b71b_aced5c908bbarow1_col1\" class=\"data row1 col1\" >185</td> \n",
       "        <td id=\"T_2c184ddc_32ce_11e9_b71b_aced5c908bbarow1_col2\" class=\"data row1 col2\" >10</td> \n",
       "        <td id=\"T_2c184ddc_32ce_11e9_b71b_aced5c908bbarow1_col3\" class=\"data row1 col3\" >288</td> \n",
       "    </tr>    <tr> \n",
       "        <th id=\"T_2c184ddc_32ce_11e9_b71b_aced5c908bbalevel0_row2\" class=\"row_heading level0 row2\" >entrepreneur</th> \n",
       "        <td id=\"T_2c184ddc_32ce_11e9_b71b_aced5c908bbarow2_col0\" class=\"data row2 col0\" >4</td> \n",
       "        <td id=\"T_2c184ddc_32ce_11e9_b71b_aced5c908bbarow2_col1\" class=\"data row2 col1\" >18</td> \n",
       "        <td id=\"T_2c184ddc_32ce_11e9_b71b_aced5c908bbarow2_col2\" class=\"data row2 col2\" >22</td> \n",
       "        <td id=\"T_2c184ddc_32ce_11e9_b71b_aced5c908bbarow2_col3\" class=\"data row2 col3\" >44</td> \n",
       "    </tr>    <tr> \n",
       "        <th id=\"T_2c184ddc_32ce_11e9_b71b_aced5c908bbalevel0_row3\" class=\"row_heading level0 row3\" >housemaid</th> \n",
       "        <td id=\"T_2c184ddc_32ce_11e9_b71b_aced5c908bbarow3_col0\" class=\"data row3 col0\" >16</td> \n",
       "        <td id=\"T_2c184ddc_32ce_11e9_b71b_aced5c908bbarow3_col1\" class=\"data row3 col1\" >12</td> \n",
       "        <td id=\"T_2c184ddc_32ce_11e9_b71b_aced5c908bbarow3_col2\" class=\"data row3 col2\" >7</td> \n",
       "        <td id=\"T_2c184ddc_32ce_11e9_b71b_aced5c908bbarow3_col3\" class=\"data row3 col3\" >35</td> \n",
       "    </tr>    <tr> \n",
       "        <th id=\"T_2c184ddc_32ce_11e9_b71b_aced5c908bbalevel0_row4\" class=\"row_heading level0 row4\" >management</th> \n",
       "        <td id=\"T_2c184ddc_32ce_11e9_b71b_aced5c908bbarow4_col0\" class=\"data row4 col0\" >9</td> \n",
       "        <td id=\"T_2c184ddc_32ce_11e9_b71b_aced5c908bbarow4_col1\" class=\"data row4 col1\" >38</td> \n",
       "        <td id=\"T_2c184ddc_32ce_11e9_b71b_aced5c908bbarow4_col2\" class=\"data row4 col2\" >391</td> \n",
       "        <td id=\"T_2c184ddc_32ce_11e9_b71b_aced5c908bbarow4_col3\" class=\"data row4 col3\" >438</td> \n",
       "    </tr>    <tr> \n",
       "        <th id=\"T_2c184ddc_32ce_11e9_b71b_aced5c908bbalevel0_row5\" class=\"row_heading level0 row5\" >retired</th> \n",
       "        <td id=\"T_2c184ddc_32ce_11e9_b71b_aced5c908bbarow5_col0\" class=\"data row5 col0\" >53</td> \n",
       "        <td id=\"T_2c184ddc_32ce_11e9_b71b_aced5c908bbarow5_col1\" class=\"data row5 col1\" >77</td> \n",
       "        <td id=\"T_2c184ddc_32ce_11e9_b71b_aced5c908bbarow5_col2\" class=\"data row5 col2\" >22</td> \n",
       "        <td id=\"T_2c184ddc_32ce_11e9_b71b_aced5c908bbarow5_col3\" class=\"data row5 col3\" >152</td> \n",
       "    </tr>    <tr> \n",
       "        <th id=\"T_2c184ddc_32ce_11e9_b71b_aced5c908bbalevel0_row6\" class=\"row_heading level0 row6\" >self-employed</th> \n",
       "        <td id=\"T_2c184ddc_32ce_11e9_b71b_aced5c908bbarow6_col0\" class=\"data row6 col0\" >0</td> \n",
       "        <td id=\"T_2c184ddc_32ce_11e9_b71b_aced5c908bbarow6_col1\" class=\"data row6 col1\" >15</td> \n",
       "        <td id=\"T_2c184ddc_32ce_11e9_b71b_aced5c908bbarow6_col2\" class=\"data row6 col2\" >47</td> \n",
       "        <td id=\"T_2c184ddc_32ce_11e9_b71b_aced5c908bbarow6_col3\" class=\"data row6 col3\" >62</td> \n",
       "    </tr>    <tr> \n",
       "        <th id=\"T_2c184ddc_32ce_11e9_b71b_aced5c908bbalevel0_row7\" class=\"row_heading level0 row7\" >services</th> \n",
       "        <td id=\"T_2c184ddc_32ce_11e9_b71b_aced5c908bbarow7_col0\" class=\"data row7 col0\" >12</td> \n",
       "        <td id=\"T_2c184ddc_32ce_11e9_b71b_aced5c908bbarow7_col1\" class=\"data row7 col1\" >135</td> \n",
       "        <td id=\"T_2c184ddc_32ce_11e9_b71b_aced5c908bbarow7_col2\" class=\"data row7 col2\" >11</td> \n",
       "        <td id=\"T_2c184ddc_32ce_11e9_b71b_aced5c908bbarow7_col3\" class=\"data row7 col3\" >158</td> \n",
       "    </tr>    <tr> \n",
       "        <th id=\"T_2c184ddc_32ce_11e9_b71b_aced5c908bbalevel0_row8\" class=\"row_heading level0 row8\" >student</th> \n",
       "        <td id=\"T_2c184ddc_32ce_11e9_b71b_aced5c908bbarow8_col0\" class=\"data row8 col0\" >4</td> \n",
       "        <td id=\"T_2c184ddc_32ce_11e9_b71b_aced5c908bbarow8_col1\" class=\"data row8 col1\" >59</td> \n",
       "        <td id=\"T_2c184ddc_32ce_11e9_b71b_aced5c908bbarow8_col2\" class=\"data row8 col2\" >16</td> \n",
       "        <td id=\"T_2c184ddc_32ce_11e9_b71b_aced5c908bbarow8_col3\" class=\"data row8 col3\" >79</td> \n",
       "    </tr>    <tr> \n",
       "        <th id=\"T_2c184ddc_32ce_11e9_b71b_aced5c908bbalevel0_row9\" class=\"row_heading level0 row9\" >technician</th> \n",
       "        <td id=\"T_2c184ddc_32ce_11e9_b71b_aced5c908bbarow9_col0\" class=\"data row9 col0\" >9</td> \n",
       "        <td id=\"T_2c184ddc_32ce_11e9_b71b_aced5c908bbarow9_col1\" class=\"data row9 col1\" >217</td> \n",
       "        <td id=\"T_2c184ddc_32ce_11e9_b71b_aced5c908bbarow9_col2\" class=\"data row9 col2\" >102</td> \n",
       "        <td id=\"T_2c184ddc_32ce_11e9_b71b_aced5c908bbarow9_col3\" class=\"data row9 col3\" >328</td> \n",
       "    </tr>    <tr> \n",
       "        <th id=\"T_2c184ddc_32ce_11e9_b71b_aced5c908bbalevel0_row10\" class=\"row_heading level0 row10\" >unemployed</th> \n",
       "        <td id=\"T_2c184ddc_32ce_11e9_b71b_aced5c908bbarow10_col0\" class=\"data row10 col0\" >5</td> \n",
       "        <td id=\"T_2c184ddc_32ce_11e9_b71b_aced5c908bbarow10_col1\" class=\"data row10 col1\" >43</td> \n",
       "        <td id=\"T_2c184ddc_32ce_11e9_b71b_aced5c908bbarow10_col2\" class=\"data row10 col2\" >20</td> \n",
       "        <td id=\"T_2c184ddc_32ce_11e9_b71b_aced5c908bbarow10_col3\" class=\"data row10 col3\" >68</td> \n",
       "    </tr>    <tr> \n",
       "        <th id=\"T_2c184ddc_32ce_11e9_b71b_aced5c908bbalevel0_row11\" class=\"row_heading level0 row11\" >All</th> \n",
       "        <td id=\"T_2c184ddc_32ce_11e9_b71b_aced5c908bbarow11_col0\" class=\"data row11 col0\" >215</td> \n",
       "        <td id=\"T_2c184ddc_32ce_11e9_b71b_aced5c908bbarow11_col1\" class=\"data row11 col1\" >993</td> \n",
       "        <td id=\"T_2c184ddc_32ce_11e9_b71b_aced5c908bbarow11_col2\" class=\"data row11 col2\" >683</td> \n",
       "        <td id=\"T_2c184ddc_32ce_11e9_b71b_aced5c908bbarow11_col3\" class=\"data row11 col3\" >1891</td> \n",
       "    </tr></tbody> \n",
       "</table> "
      ],
      "text/plain": [
       "<pandas.io.formats.style.Styler at 0x21478e297f0>"
      ]
     },
     "execution_count": 18,
     "metadata": {},
     "output_type": "execute_result"
    }
   ],
   "source": [
    "# Job vs Education\n",
    "pd.crosstab(df.job, df.education, margins=True).style.background_gradient(cmap='autumn_r')"
   ]
  },
  {
   "cell_type": "markdown",
   "metadata": {},
   "source": [
    "We can see from the above table that **job has a significant impact on the education** field. Most of the admin people have secondary education and management people have tertiary education and so on.\n",
    "\n",
    "I will use the max id for education per job and fill the missing values."
   ]
  },
  {
   "cell_type": "code",
   "execution_count": 19,
   "metadata": {},
   "outputs": [
    {
     "name": "stdout",
     "output_type": "stream",
     "text": [
      "job\n",
      "admin.           secondary\n",
      "blue-collar      secondary\n",
      "entrepreneur      tertiary\n",
      "housemaid          primary\n",
      "management        tertiary\n",
      "retired          secondary\n",
      "self-employed     tertiary\n",
      "services         secondary\n",
      "student          secondary\n",
      "technician       secondary\n",
      "unemployed       secondary\n",
      "dtype: object\n"
     ]
    }
   ],
   "source": [
    "# Find the missing education w.r.t job field\n",
    "# Return index of first occurrence of maximum over requested axis\n",
    "\n",
    "education_by_job = pd.crosstab(df['education'], df['job']).idxmax(axis=0)\n",
    "\n",
    "print(education_by_job)"
   ]
  },
  {
   "cell_type": "code",
   "execution_count": 20,
   "metadata": {},
   "outputs": [],
   "source": [
    "def func_education(x):\n",
    "    return education_by_job.loc[x['job']]\n",
    "\n",
    "# Replace missing values of education with max chances of job-with-education\n",
    "df['education'].fillna(df[df['education'].isnull()].apply(func_education, axis=1), inplace=True)"
   ]
  },
  {
   "cell_type": "code",
   "execution_count": 21,
   "metadata": {},
   "outputs": [
    {
     "data": {
      "text/plain": [
       "0"
      ]
     },
     "execution_count": 21,
     "metadata": {},
     "output_type": "execute_result"
    }
   ],
   "source": [
    "# Verify if null values in education are gone\n",
    "df['education'].isnull().sum()"
   ]
  },
  {
   "cell_type": "markdown",
   "metadata": {},
   "source": [
    "### Handling missing values for Contact"
   ]
  },
  {
   "cell_type": "code",
   "execution_count": 22,
   "metadata": {},
   "outputs": [
    {
     "data": {
      "text/plain": [
       "190"
      ]
     },
     "execution_count": 22,
     "metadata": {},
     "output_type": "execute_result"
    }
   ],
   "source": [
    "# Find missing values for attribute contact\n",
    "df['contact'].isnull().sum()"
   ]
  },
  {
   "cell_type": "code",
   "execution_count": 23,
   "metadata": {},
   "outputs": [
    {
     "data": {
      "text/plain": [
       "cellular     0.919444\n",
       "telephone    0.080556\n",
       "Name: contact, dtype: float64"
      ]
     },
     "execution_count": 23,
     "metadata": {},
     "output_type": "execute_result"
    }
   ],
   "source": [
    "# contact category values\n",
    "df['contact'].value_counts(normalize=True)"
   ]
  },
  {
   "cell_type": "markdown",
   "metadata": {},
   "source": [
    "**Since 92% of the values are “cellular”**, it is safe to **impute the missing values as “cellular”** as there is a high probability of guessing correctly. We might be adding bias to the dataset with this approach though!"
   ]
  },
  {
   "cell_type": "code",
   "execution_count": 24,
   "metadata": {},
   "outputs": [],
   "source": [
    "# Fill missing Contact values with \"cellular\"\n",
    "df['contact'].fillna('cellular', inplace=True)"
   ]
  },
  {
   "cell_type": "markdown",
   "metadata": {},
   "source": [
    "### Handling missing values for poutcome "
   ]
  },
  {
   "cell_type": "code",
   "execution_count": 25,
   "metadata": {},
   "outputs": [
    {
     "data": {
      "text/plain": [
       "451"
      ]
     },
     "execution_count": 25,
     "metadata": {},
     "output_type": "execute_result"
    }
   ],
   "source": [
    "# Find missing values for attribute poutcome\n",
    "df['poutcome'].isnull().sum()"
   ]
  },
  {
   "cell_type": "markdown",
   "metadata": {},
   "source": [
    "Create a  **new category** for the missing data in `poutcome`. This can yield some new insights and could potentially be useful when building our model "
   ]
  },
  {
   "cell_type": "code",
   "execution_count": 26,
   "metadata": {},
   "outputs": [
    {
     "data": {
      "text/plain": [
       "array(['failure', 'other', 'success', 'unknown'], dtype=object)"
      ]
     },
     "execution_count": 26,
     "metadata": {},
     "output_type": "execute_result"
    }
   ],
   "source": [
    "# Impute missing values as new catrgory \"unknown\"\n",
    "df.loc[df['poutcome'].isnull(), 'poutcome'] = \"unknown\"\n",
    "\n",
    "df.poutcome.unique()"
   ]
  },
  {
   "cell_type": "code",
   "execution_count": 27,
   "metadata": {},
   "outputs": [
    {
     "name": "stdout",
     "output_type": "stream",
     "text": [
      "age             0\n",
      "job             0\n",
      "marital         0\n",
      "education       0\n",
      "default         0\n",
      "balance         0\n",
      "ratio_bal_ln    0\n",
      "ratio_ln_inc    0\n",
      "housing         0\n",
      "loan            0\n",
      "contact         0\n",
      "day             0\n",
      "month           0\n",
      "duration        0\n",
      "campaign        0\n",
      "pdays           0\n",
      "previous        0\n",
      "poutcome        0\n",
      "subscribed      0\n",
      "dtype: int64\n",
      "(1990, 19)\n"
     ]
    }
   ],
   "source": [
    "# Sanity Check for null values\n",
    "print(df.isnull().sum())\n",
    "print(df.shape)"
   ]
  },
  {
   "cell_type": "markdown",
   "metadata": {},
   "source": [
    "All the missing values has been handled and we have a bank dataframe with 1990 rows and 19 columns"
   ]
  },
  {
   "cell_type": "markdown",
   "metadata": {},
   "source": [
    "*************************************"
   ]
  },
  {
   "cell_type": "markdown",
   "metadata": {},
   "source": [
    "# Task 2 (CS5062)\n",
    "\n",
    "*Decide on the treatment of outliers in the bank data set. If appropriate, remove examples with extreme or unexpected attribute values, apply log transformation to numeric attributes with extreme values. Use other methods, if appropriate, to treat outliers as well. In your notebook, explain shortly (max 250 words) the decisions you have taken.*"
   ]
  },
  {
   "cell_type": "markdown",
   "metadata": {},
   "source": [
    "An outlier is an unlikely observation in a dataset.Methods used to detect outliers:\n",
    "- Analyzing the distribution using `Histogram`\n",
    "- Analyzing the Inter-Quartile Range using `Box-Plots`\n",
    "\n",
    "While the above methods give a visual feel we can get the exact number of Outliers and their values using the following:\n",
    "- The Tukey's Inter-Quartile Range can be used to identify outliers in data regardless of the distribution\n",
    "- The standard deviation can be used to identify outliers in Gaussian or Gaussian-like data"
   ]
  },
  {
   "cell_type": "code",
   "execution_count": 28,
   "metadata": {},
   "outputs": [
    {
     "data": {
      "image/png": "[encoded data removed]",
      "text/plain": [
       "<Figure size 1440x720 with 9 Axes>"
      ]
     },
     "metadata": {},
     "output_type": "display_data"
    }
   ],
   "source": [
    "# Distribution of numerical features for the bank data\n",
    "df.hist(figsize=(20,10), bins=20)\n",
    "plt.show()"
   ]
  },
  {
   "cell_type": "markdown",
   "metadata": {},
   "source": [
    "##### Quick observation from Histogram plot show the following:\n",
    "- Features `age`, `balance`, `duration` have a skewed distribution and we can **apply Logarithmic** or **Power transform** based on the data value ranges to make it more Gaussian-like distribution.\n",
    "- `campaign`, `day`, `pdays` and `previous` are having discrete values and can be normalized using a scaler\n",
    "- `ratio_bal_ln` and `ratio_ln_inc` are uniformly distributed and doesn't need any transformation"
   ]
  },
  {
   "cell_type": "code",
   "execution_count": 29,
   "metadata": {},
   "outputs": [
    {
     "data": {
      "image/png": "[encoded data removed]",
      "text/plain": [
       "<Figure size 1080x1440 with 9 Axes>"
      ]
     },
     "metadata": {},
     "output_type": "display_data"
    }
   ],
   "source": [
    "# Find the numeric columns for outlier analysis\n",
    "numeric_attributes = df.select_dtypes(include=[np.number]).columns.values\n",
    "\n",
    "# Box plot for all numerical features (Inspired by Michel Danjou's compact implementation)\n",
    "fig = plt.figure(figsize=(15,20))\n",
    "for counter, feature in enumerate(numeric_attributes):\n",
    "    counter +=1\n",
    "    ax1 = fig.add_subplot(5, 5, counter)\n",
    "    ax1.set_title(\"Boxplot of {}\".format(feature))\n",
    "    ax1.set_ylabel('Distribution')\n",
    "    df.boxplot(column=feature, figsize=(5,25), patch_artist = True)\n",
    "plt.tight_layout()"
   ]
  },
  {
   "cell_type": "markdown",
   "metadata": {},
   "source": [
    "##### Quick observation from Box plot shows that :\n",
    "- Almost all the numeric attributes has some kind of outliers.\n",
    "- Target candidates for outlier detection are: `balance`, `age`, `duration`"
   ]
  },
  {
   "cell_type": "markdown",
   "metadata": {},
   "source": [
    "## Outliers in Balance"
   ]
  },
  {
   "cell_type": "code",
   "execution_count": 30,
   "metadata": {},
   "outputs": [
    {
     "data": {
      "text/plain": [
       "count     1990.000000\n",
       "mean      1414.038191\n",
       "std       3138.455806\n",
       "min       -980.000000\n",
       "25%        199.000000\n",
       "50%        549.000000\n",
       "75%       1634.750000\n",
       "max      81204.000000\n",
       "Name: balance, dtype: float64"
      ]
     },
     "execution_count": 30,
     "metadata": {},
     "output_type": "execute_result"
    }
   ],
   "source": [
    "df.balance.describe()"
   ]
  },
  {
   "cell_type": "markdown",
   "metadata": {},
   "source": [
    "Mean for attribute `balance` is 1414 and median is 551, that shows the data is very skewed and presence of some extreme values"
   ]
  },
  {
   "cell_type": "code",
   "execution_count": 31,
   "metadata": {
    "scrolled": false
   },
   "outputs": [
    {
     "data": {
      "image/png": "[encoded data removed]",
      "text/plain": [
       "<Figure size 1152x288 with 2 Axes>"
      ]
     },
     "metadata": {},
     "output_type": "display_data"
    }
   ],
   "source": [
    "# Create figure with two subplots for BALANCE attribute\n",
    "fig = plt.figure(figsize=(16,4))\n",
    "\n",
    "# Plot Balance distribution\n",
    "ax1 = fig.add_subplot(1, 2, 1)\n",
    "ax1.set_title(\"Balance distribution of customers\")\n",
    "ax1.set_xlabel('Customer Balance')\n",
    "ax1.set_ylabel('Number of Customers')\n",
    "df['balance'].hist(bins=20)\n",
    "\n",
    "# Next, we look at boxplots to examine for outliers\n",
    "ax2 = fig.add_subplot(1, 2, 2)\n",
    "ax2.set_ylabel('Balance')\n",
    "ax2.set_title(\"Box plot for customer Balance\")\n",
    "df.boxplot(column='balance')\n",
    "\n",
    "plt.show()"
   ]
  },
  {
   "cell_type": "markdown",
   "metadata": {},
   "source": [
    "Histogram on the attribute `balance` shows that the **data is heavily skewed** and does have a normal distribution.\n",
    "The above box plot shows there are some extreme values with **one customer has a balance of above 80,000**. \n",
    "\n",
    "However, since these are bank data I am not sure if it really an outlier. The values seems to be in the valid range from bank data so we would like to keep accurate data. Lets apply [Tukeys IQR)] to get more insight on the outliers."
   ]
  },
  {
   "cell_type": "markdown",
   "metadata": {},
   "source": [
    "### Tukey IQR method\n",
    "Tukey  IQR (interquartile range) method is a robust method for labeling outliers is outlier detection developed by John Tukey. IQR range is the range between the first and the third quartiles (the edges of the box). Tukey considered any data point that fell outside of either 1.5 times the IQR below the first – or 1.5 times the IQR above the third – quartile to be “outside” or “far out”."
   ]
  },
  {
   "cell_type": "code",
   "execution_count": 32,
   "metadata": {},
   "outputs": [],
   "source": [
    "def find_outliers_tukey(x):\n",
    "    # Define a fucntion to find outlier using Tuckey's IQR range\n",
    "    # Reusing my last semesters project code for CS4021 \n",
    "    \n",
    "    q1 = np.percentile(x, 25)\n",
    "    q3 = np.percentile(x, 75)\n",
    "    iqr = q3-q1 \n",
    "    floor = q1 - 1.5*iqr\n",
    "    ceiling = q3 + 1.5*iqr\n",
    "    outlier_indices = list(x.index[(x < floor)|(x > ceiling)])\n",
    "    outlier_values = list(x[outlier_indices])\n",
    "\n",
    "    return outlier_indices, outlier_values"
   ]
  },
  {
   "cell_type": "code",
   "execution_count": 33,
   "metadata": {},
   "outputs": [
    {
     "name": "stdout",
     "output_type": "stream",
     "text": [
      "Balance has 159 outliers\n",
      "Balance has outlier of values: [ 3797  3810  3840  3848  3904  3904  3948  4012  4012  4017  4017  4041\n",
      "  4071  4112  4124  4126  4168  4176  4189  4243  4243  4256  4256  4279\n",
      "  4328  4328  4343  4348  4389  4389  4401  4471  4497  4519  4539  4586\n",
      "  4608  4613  4613  4629  4657  4680  4683  4708  4708  4721  4745  4761\n",
      "  4787  4831  4833  4867  4873  4945  4951  4961  4984  5000  5021  5037\n",
      "  5047  5108  5112  5151  5169  5236  5275  5329  5397  5397  5418  5452\n",
      "  5475  5475  5511  5699  5715  5715  5731  5741  5838  5956  5958  5958\n",
      "  6027  6036  6046  6101  6138  6181  6203  6322  6384  6403  6411  6495\n",
      "  6507  6651  6695  6771  6809  7005  7050  7249  7317  7529  7546  7608\n",
      "  7780  7802  7929  7968  8000  8038  8103  8165  8266  8304  8304  8304\n",
      "  8304  8332  8626  8876  8876  9001  9299  9367 10583 10600 10861 10861\n",
      " 11115 11303 11650 11766 11862 12067 12067 12264 12264 12356 12569 12939\n",
      " 13107 14968 15341 16957 16992 17946 20727 26306 26965 27696 27696 29080\n",
      " 29340 31472 81204]\n"
     ]
    }
   ],
   "source": [
    "# Lets find the outliers for Balance using Tuckey's IQR range\n",
    "\n",
    "tukey_bal_indx, tukey_values = find_outliers_tukey(df['balance'])\n",
    "print(\"Balance has {} outliers\".format(len(tukey_values)))\n",
    "print(\"Balance has outlier of values:\", np.sort(tukey_values))"
   ]
  },
  {
   "cell_type": "markdown",
   "metadata": {},
   "source": [
    "**Tukey's method was a bit harsh on the outliers** as we can see the **values from 3797 to 81204 all are considered as outliers**. These might be important data for the bank so we can't just go ahead and remove them.\n",
    "\n",
    "However, the value 81204 seems to be a very high value, but from the bank's perspective it might be useful. (Forum activity with Chells and post discussion decided to keep the extreme value)"
   ]
  },
  {
   "cell_type": "code",
   "execution_count": 34,
   "metadata": {},
   "outputs": [
    {
     "name": "stdout",
     "output_type": "stream",
     "text": [
      "-980\n"
     ]
    },
    {
     "data": {
      "text/plain": [
       "count     1990.000000\n",
       "mean      1414.038191\n",
       "std       3138.455806\n",
       "min       -980.000000\n",
       "25%        199.000000\n",
       "50%        549.000000\n",
       "75%       1634.750000\n",
       "max      81204.000000\n",
       "Name: balance, dtype: float64"
      ]
     },
     "execution_count": 34,
     "metadata": {},
     "output_type": "execute_result"
    }
   ],
   "source": [
    "# Minimum values of balance is negative\n",
    "print(df.balance.min())\n",
    "\n",
    "df.balance.describe()"
   ]
  },
  {
   "cell_type": "markdown",
   "metadata": {},
   "source": [
    "We can see that there is **-ve values in attribute balance**. \n",
    "\n",
    "**Log trasform only works with +ve data** and hence we can't use it here. To resolve this we need to use **POWER transform** which can work on -ve and 0 values and make the distribution Gaussian-like. "
   ]
  },
  {
   "cell_type": "markdown",
   "metadata": {},
   "source": [
    "### Applying POWER transformation to balance"
   ]
  },
  {
   "cell_type": "code",
   "execution_count": 35,
   "metadata": {},
   "outputs": [],
   "source": [
    "# https://scikit-learn.org/stable/modules/generated/sklearn.preprocessing.PowerTransformer.html\n",
    "# Since negative values are present the Yeo-Johnson transformed is to be preferred.\n",
    "\n",
    "pt = PowerTransformer(method='yeo-johnson', standardize=True, copy=True)\n",
    "pt.fit(df['balance'].values.reshape(-1, 1))\n",
    "\n",
    "df['balance_power'] = pt.transform(df['balance'].values.reshape(-1, 1))"
   ]
  },
  {
   "cell_type": "code",
   "execution_count": 36,
   "metadata": {
    "scrolled": true
   },
   "outputs": [
    {
     "data": {
      "image/png": "[encoded data removed]",
      "text/plain": [
       "<Figure size 1152x288 with 2 Axes>"
      ]
     },
     "metadata": {},
     "output_type": "display_data"
    }
   ],
   "source": [
    "# Create figure with two subplots for BALANCE attribute\n",
    "fig = plt.figure(figsize=(16,4))\n",
    "\n",
    "# Plot BALANCE distribution\n",
    "ax1 = fig.add_subplot(1, 2, 1)\n",
    "ax1.set_title(\" Distribution of attribute Balance\")\n",
    "ax1.set_xlabel('Customer Balance')\n",
    "ax1.set_ylabel('Number of Customers')\n",
    "df['balance'].hist(bins=20)\n",
    "\n",
    "# Distrubtion of balance after appyling Power transform\n",
    "ax2 = fig.add_subplot(1, 2, 2)\n",
    "ax2.set_title(\"Power transform distribution of balance\")\n",
    "\n",
    "df['balance_power'].hist()\n",
    "plt.show()"
   ]
  },
  {
   "cell_type": "markdown",
   "metadata": {},
   "source": [
    "#### Observation after Power transform in `balance`:\n",
    "The histograms show that the new feature `balance_log` have distribution closer to normal than the original feature `balance`"
   ]
  },
  {
   "cell_type": "code",
   "execution_count": 37,
   "metadata": {},
   "outputs": [],
   "source": [
    "# drop balance as we have power transform of balance (balance_power)\n",
    "df.drop('balance', axis=1, inplace=True)"
   ]
  },
  {
   "cell_type": "markdown",
   "metadata": {},
   "source": [
    "## Outlier analysis for AGE"
   ]
  },
  {
   "cell_type": "code",
   "execution_count": 38,
   "metadata": {
    "scrolled": false
   },
   "outputs": [
    {
     "data": {
      "image/png": "[encoded data removed]",
      "text/plain": [
       "<Figure size 1152x288 with 2 Axes>"
      ]
     },
     "metadata": {},
     "output_type": "display_data"
    }
   ],
   "source": [
    "# Create figure with two subplots for AGE attribute\n",
    "fig = plt.figure(figsize=(16,4))\n",
    "\n",
    "# Plot AGE distribution\n",
    "ax1 = fig.add_subplot(1, 2, 1)\n",
    "ax1.set_title(\"Age distribution of customers\")\n",
    "ax1.set_xlabel('Customer Age')\n",
    "ax1.set_ylabel('Number of Customers')\n",
    "df['age'].hist(bins=20)\n",
    "\n",
    "# Next, we look at boxplots to examine for outliers\n",
    "ax2 = fig.add_subplot(1, 2, 2)\n",
    "sns.boxplot(x='age', data=df, notch=True)\n",
    "ax2.set_title(\"Box plot of Age attribute\")\n",
    "\n",
    "plt.show()"
   ]
  },
  {
   "cell_type": "markdown",
   "metadata": {},
   "source": [
    "Histogram on the attribute `age` shows that the data is a bit skewed on the middle age group and doesn't have a pure normal distribution.\n",
    "The above box plot shows the possibility of some extreme values as some customers have age in range 77-95 years.\n",
    "\n",
    "### Analyze the age outlier using Tukey's Interquartile Range Method"
   ]
  },
  {
   "cell_type": "code",
   "execution_count": 39,
   "metadata": {},
   "outputs": [
    {
     "name": "stdout",
     "output_type": "stream",
     "text": [
      "Age has 24 outliers\n",
      "Age has outlier of values: [78. 78. 78. 78. 78. 79. 80. 80. 80. 80. 80. 80. 81. 81. 82. 82. 82. 84.\n",
      " 84. 84. 86. 86. 93. 93.]\n"
     ]
    }
   ],
   "source": [
    "# Lets find the outliers for Age using Tuckey's IQR method\n",
    "\n",
    "tukey_indices, tukey_values = find_outliers_tukey(df['age'])\n",
    "print(\"Age has {} outliers\".format(len(tukey_values)))\n",
    "print(\"Age has outlier of values:\", np.sort(tukey_values))"
   ]
  },
  {
   "cell_type": "markdown",
   "metadata": {},
   "source": [
    "### Analyze the age outlier using 3 Standard Deviation to Mean method.\n",
    "Three standard deviations from the mean is a common cut-off in practice for identifying outliers in a Gaussian or Gaussian-like distribution. We can see from the histogram that `age` has a uniform distribution so we can apply this method.\n",
    "\n",
    "A value that falls outside of 3 standard deviations is part of the distribution, but it is an unlikely or rare event at approximately 1 in 370 samples. **3 Standard Deviations from the Mean has 99.7% of the data.**\n",
    "\n",
    "Reference: https://machinelearningmastery.com/how-to-use-statistics-to-identify-outliers-in-data/"
   ]
  },
  {
   "cell_type": "code",
   "execution_count": 40,
   "metadata": {},
   "outputs": [],
   "source": [
    "def three_standard_dev(data):\n",
    "    # Function to find outlier using the three standard deviation to mean\n",
    "    \n",
    "    # calculate age summary statistics\n",
    "    age_mean, age_std = np.mean(data), np.std(data)\n",
    "\n",
    "    # identify outliers\n",
    "    cut_off = age_std * 3\n",
    "    lower, upper = age_mean - cut_off, age_mean + cut_off\n",
    "\n",
    "    # identify outliers\n",
    "    outliers = [x for x in data if x < lower or x > upper]\n",
    "    \n",
    "    return outliers"
   ]
  },
  {
   "cell_type": "code",
   "execution_count": 41,
   "metadata": {},
   "outputs": [
    {
     "name": "stdout",
     "output_type": "stream",
     "text": [
      "Identified outliers: 18\n",
      "Identified outlier values: [84.0, 86.0, 93.0, 82.0, 80.0, 86.0, 93.0, 82.0, 80.0, 82.0, 80.0, 80.0, 80.0, 84.0, 84.0, 81.0, 80.0, 81.0]\n"
     ]
    }
   ],
   "source": [
    "# find outlier in AGE using the three standard deviation to mean\n",
    "age_outliers = three_standard_dev(df['age'])\n",
    "\n",
    "print(\"Identified outliers:\", len(age_outliers))\n",
    "print(\"Identified outlier values:\", age_outliers)"
   ]
  },
  {
   "cell_type": "markdown",
   "metadata": {},
   "source": [
    "The age values detected as outliers by both Tukey and 3 Standard deviation methods, seems to be in the valid range for `age` as a person can have such age values. So we would like to do keep the values and do log transformation on it.\n",
    "\n",
    "#### Applying Log transformation to age\n",
    "The log transformation, a widely used method to address skewed data which solves the problem of non-normal distribution of data. We will be using the log transformation to make data conform to normality."
   ]
  },
  {
   "cell_type": "code",
   "execution_count": 42,
   "metadata": {
    "scrolled": false
   },
   "outputs": [
    {
     "data": {
      "image/png": "[encoded data removed]",
      "text/plain": [
       "<Figure size 1152x288 with 2 Axes>"
      ]
     },
     "metadata": {},
     "output_type": "display_data"
    }
   ],
   "source": [
    "# Create figure with two subplots for AGE attribute\n",
    "fig = plt.figure(figsize=(16,4))\n",
    "\n",
    "# Plot AGE distribution\n",
    "ax1 = fig.add_subplot(1, 2, 1)\n",
    "ax1.set_title(\"Age distribution of customers\")\n",
    "ax1.set_xlabel('Customer Age')\n",
    "ax1.set_ylabel('Number of Customers')\n",
    "df['age'].hist(bins=20)\n",
    "\n",
    "# Use a log transformation to decrease the impact of extreme values in column AGE\n",
    "ax2 = fig.add_subplot(1, 2, 2)\n",
    "df['age_log'] = np.log(df['age'])\n",
    "df['age_log'].hist()\n",
    "ax2.set_title(\"Log distribution of AGE\")\n",
    "plt.show()"
   ]
  },
  {
   "cell_type": "markdown",
   "metadata": {},
   "source": [
    "We can see that **after applying LOG transformation there is uniform distribution in AGE atribute**\n",
    "\n",
    "#### Lets analyse the impact of LOG transformation on outliers in `age` and `age_log`"
   ]
  },
  {
   "cell_type": "code",
   "execution_count": 43,
   "metadata": {},
   "outputs": [
    {
     "name": "stdout",
     "output_type": "stream",
     "text": [
      "Tuckey IQR method: AGE_LOG has 24 outliers\n",
      "3 STD dev to Mean: AGE_LOG has 0 outliers:\n"
     ]
    }
   ],
   "source": [
    "# Tuckey IQR on AGE_LOG feature\n",
    "tukey_indices, _ = find_outliers_tukey(df['age_log'])\n",
    "print(\"Tuckey IQR method: AGE_LOG has {} outliers\".format(len(tukey_values)))\n",
    "\n",
    "# find outlier in AGE_LOG using the three standard deviation to mean\n",
    "age_outliers = three_standard_dev(df['age_log'])\n",
    "\n",
    "print(\"3 STD dev to Mean: AGE_LOG has {} outliers:\".format(len(age_outliers)))"
   ]
  },
  {
   "cell_type": "markdown",
   "metadata": {},
   "source": [
    "### Observations:\n",
    "\n",
    "We can see the importance of LOG transformation here on the attribute `age`. \n",
    "- Before LOG transformation the outlier found in AGE using Tuckey method was: 23 and 3 Std. dev. to mean was : 17\n",
    "- After LOG transformation the outlier found in AGE_LOG was : 0 using either methods"
   ]
  },
  {
   "cell_type": "markdown",
   "metadata": {},
   "source": [
    "## Outlier detection in duration"
   ]
  },
  {
   "cell_type": "code",
   "execution_count": 44,
   "metadata": {},
   "outputs": [
    {
     "data": {
      "text/plain": [
       "count    1990.000000\n",
       "mean      291.302513\n",
       "std       220.505890\n",
       "min         7.000000\n",
       "25%       146.000000\n",
       "50%       236.000000\n",
       "75%       375.750000\n",
       "max      1823.000000\n",
       "Name: duration, dtype: float64"
      ]
     },
     "execution_count": 44,
     "metadata": {},
     "output_type": "execute_result"
    }
   ],
   "source": [
    "df.duration.describe()"
   ]
  },
  {
   "cell_type": "code",
   "execution_count": 45,
   "metadata": {},
   "outputs": [
    {
     "data": {
      "image/png": "[encoded data removed]",
      "text/plain": [
       "<Figure size 1152x288 with 2 Axes>"
      ]
     },
     "metadata": {},
     "output_type": "display_data"
    }
   ],
   "source": [
    "# Create figure with two subplots for duration attribute\n",
    "fig = plt.figure(figsize=(16,4))\n",
    "\n",
    "# Plot duration distribution\n",
    "ax1 = fig.add_subplot(1, 2, 1)\n",
    "ax1.set_title(\"Distribution of duration\")\n",
    "ax1.set_xlabel('duration')\n",
    "ax1.set_ylabel('Number of Customers')\n",
    "df['duration'].hist(bins=20)\n",
    "\n",
    "# Next, we look at boxplots to examine for outliers\n",
    "ax2 = fig.add_subplot(1, 2, 2)\n",
    "sns.boxplot(x='duration', data=df, notch=True)\n",
    "ax2.set_title(\"Box plot of duration attribute\")\n",
    "\n",
    "plt.show()"
   ]
  },
  {
   "cell_type": "markdown",
   "metadata": {},
   "source": [
    "#### Observation on the plots:\n",
    "From the histogram we can see that the attribute **duration is very skewed on the lower side of the histogram and qualifies for a LOG Transformation**\n",
    "\n",
    "The box plot shows potential outliers being present in `duration`. I will analyze this using the 3 standard deviation approach with before and after the Log transformation."
   ]
  },
  {
   "cell_type": "code",
   "execution_count": 46,
   "metadata": {},
   "outputs": [
    {
     "name": "stdout",
     "output_type": "stream",
     "text": [
      "Identified outliers BEFORE Log tranformation: 43\n",
      "Identified outlier values: [957, 1074, 1156, 1823, 1160, 1047, 1121, 1026, 1007, 982, 1472, 1093, 1143, 1241, 1064, 1363, 1226, 1120, 968, 1148, 1193, 957, 1005, 967, 1008, 1360, 1207, 1720, 1407, 1205, 1114, 1178, 1127, 1556, 977, 1176, 1032, 1246, 1405, 1042, 1081, 953, 1334]\n"
     ]
    }
   ],
   "source": [
    "# Outlier detection on raw data of duration:\n",
    "\n",
    "# find outlier in AGE using the three standard deviation to mean\n",
    "duration_outliers = three_standard_dev(df.duration)\n",
    "\n",
    "print(\"Identified outliers BEFORE Log tranformation:\", len(duration_outliers))\n",
    "print(\"Identified outlier values:\", duration_outliers)"
   ]
  },
  {
   "cell_type": "markdown",
   "metadata": {},
   "source": [
    "### Applying Log transformation to duration to make the distribution uniform/Gaussian"
   ]
  },
  {
   "cell_type": "code",
   "execution_count": 47,
   "metadata": {},
   "outputs": [
    {
     "data": {
      "image/png": "[encoded data removed]",
      "text/plain": [
       "<Figure size 1152x288 with 2 Axes>"
      ]
     },
     "metadata": {},
     "output_type": "display_data"
    }
   ],
   "source": [
    "# Create figure with two subplots for duration attribute\n",
    "fig = plt.figure(figsize=(16,4))\n",
    "\n",
    "# Plot duration distribution\n",
    "ax1 = fig.add_subplot(1, 2, 1)\n",
    "ax1.set_title(\"Duration: BEFORE LOG transformation\")\n",
    "ax1.set_xlabel('duration')\n",
    "ax1.set_ylabel('Number of Customers')\n",
    "df['duration'].hist(bins=20)\n",
    "\n",
    "# Use a log transformation to decrease the impact of extreme values in column AGE\n",
    "ax2 = fig.add_subplot(1, 2, 2)\n",
    "df['duration_log'] = np.log(df['duration'])\n",
    "df['duration_log'].hist()\n",
    "ax2.set_title(\"Duration: AFTER LOG transformation\")\n",
    "plt.show()"
   ]
  },
  {
   "cell_type": "markdown",
   "metadata": {},
   "source": [
    "We can see that **after LOG transformation the duration attribute is more uniformly distributed**"
   ]
  },
  {
   "cell_type": "code",
   "execution_count": 48,
   "metadata": {},
   "outputs": [
    {
     "name": "stdout",
     "output_type": "stream",
     "text": [
      "Identified outliers AFTER Log tranformation: 17\n",
      "Identified outlier values: [2.833213344056216, 2.0794415416798357, 2.1972245773362196, 2.772588722239781, 1.9459101490553132, 2.772588722239781, 2.0794415416798357, 2.3978952727983707, 2.70805020110221, 2.4849066497880004, 1.9459101490553132, 2.5649493574615367, 2.995732273553991, 2.6390573296152584, 2.995732273553991, 3.044522437723423, 3.044522437723423]\n"
     ]
    }
   ],
   "source": [
    "# Outlier detection AFTER LOG transformation of duration:\n",
    "\n",
    "# find outlier in AGE using the three standard deviation to mean\n",
    "duration1_outliers = three_standard_dev(df.duration_log)\n",
    "\n",
    "print(\"Identified outliers AFTER Log tranformation:\", len(duration1_outliers))\n",
    "print(\"Identified outlier values:\", duration1_outliers)"
   ]
  },
  {
   "cell_type": "markdown",
   "metadata": {},
   "source": [
    "#### Observation on Outliers in `duration` and `duration_log`:\n",
    "The outliers detected before and after applying the log transformation for attribute `duration` has a big difference. \n",
    "\n",
    "This is because the **distribution is more Gaussian-life after applying the Log transformation** and hence applying the 3 standard deviation approach shows less outliers.\n",
    "\n",
    "I am deciding not to remove the outliers for `duration` or `duration_log`"
   ]
  },
  {
   "cell_type": "markdown",
   "metadata": {},
   "source": [
    "*************************************"
   ]
  },
  {
   "cell_type": "markdown",
   "metadata": {},
   "source": [
    "# Task 3 (CS5062): Feature creation\n",
    "\n",
    "*Suggest the creation of at least one new feature from the existing ones and justify the usefulness of your choice within the context of the 2-class classification problem you have defined in E-tivity 1.*"
   ]
  },
  {
   "cell_type": "markdown",
   "metadata": {},
   "source": [
    "Feature / Variable creation is a process to generate a new variables / features based on existing variable(s). We need to do a mixture of aggregating or combining features to create new features, and decomposing or splitting features to create new features. Two goals of feature generation can be dimensionality reduction and accuracy improvement."
   ]
  },
  {
   "cell_type": "markdown",
   "metadata": {},
   "source": [
    "### Correlation  matrix to find any correlation between numerical features"
   ]
  },
  {
   "cell_type": "code",
   "execution_count": 49,
   "metadata": {
    "scrolled": false
   },
   "outputs": [
    {
     "data": {
      "image/png": "[encoded data removed]",
      "text/plain": [
       "<Figure size 1152x720 with 2 Axes>"
      ]
     },
     "metadata": {},
     "output_type": "display_data"
    }
   ],
   "source": [
    "f, ax = plt.subplots(figsize=(16, 10))\n",
    "\n",
    "# Compute the correlation matrix\n",
    "# Reference: (https://seaborn.pydata.org/examples/many_pairwise_correlations.html)\n",
    "corr = df.corr()\n",
    "\n",
    "# Generate a mask for the upper triangle\n",
    "mask=np.zeros_like(corr, dtype=np.bool)\n",
    "\n",
    "# Generate a custom diverging colormap\n",
    "cmap = sns.diverging_palette(220, 10, as_cmap=True)\n",
    "\n",
    "sns.heatmap(corr, mask=mask, cmap=cmap, vmax=0.5, center=0, square=True, linewidths=.5)\n",
    "plt.show()"
   ]
  },
  {
   "cell_type": "markdown",
   "metadata": {},
   "source": [
    "### Observation:\n",
    "Nothing obvious from the correlation map, except `pdays` and `previous` shows some level of correlation. The age/duration with age_log/duration_log are expected to show high correlation as they are derived from th same data by applying transformation.\n",
    "\n",
    "Note: PCA should help in figuring out if there is any strong correlation between features. I haven't used PCA here as it not necessary for this etivity."
   ]
  },
  {
   "cell_type": "code",
   "execution_count": 50,
   "metadata": {},
   "outputs": [
    {
     "data": {
      "text/html": [
       "<div>\n",
       "<style scoped>\n",
       "    .dataframe tbody tr th:only-of-type {\n",
       "        vertical-align: middle;\n",
       "    }\n",
       "\n",
       "    .dataframe tbody tr th {\n",
       "        vertical-align: top;\n",
       "    }\n",
       "\n",
       "    .dataframe thead th {\n",
       "        text-align: right;\n",
       "    }\n",
       "</style>\n",
       "<table border=\"1\" class=\"dataframe\">\n",
       "  <thead>\n",
       "    <tr style=\"text-align: right;\">\n",
       "      <th></th>\n",
       "      <th>age</th>\n",
       "      <th>job</th>\n",
       "      <th>marital</th>\n",
       "      <th>education</th>\n",
       "      <th>default</th>\n",
       "      <th>ratio_bal_ln</th>\n",
       "      <th>ratio_ln_inc</th>\n",
       "      <th>housing</th>\n",
       "      <th>loan</th>\n",
       "      <th>contact</th>\n",
       "      <th>...</th>\n",
       "      <th>month</th>\n",
       "      <th>duration</th>\n",
       "      <th>campaign</th>\n",
       "      <th>pdays</th>\n",
       "      <th>previous</th>\n",
       "      <th>poutcome</th>\n",
       "      <th>subscribed</th>\n",
       "      <th>balance_power</th>\n",
       "      <th>age_log</th>\n",
       "      <th>duration_log</th>\n",
       "    </tr>\n",
       "  </thead>\n",
       "  <tbody>\n",
       "    <tr>\n",
       "      <th>0</th>\n",
       "      <td>32.0</td>\n",
       "      <td>technician</td>\n",
       "      <td>single</td>\n",
       "      <td>tertiary</td>\n",
       "      <td>no</td>\n",
       "      <td>1.300134</td>\n",
       "      <td>0.473895</td>\n",
       "      <td>yes</td>\n",
       "      <td>no</td>\n",
       "      <td>cellular</td>\n",
       "      <td>...</td>\n",
       "      <td>apr</td>\n",
       "      <td>957</td>\n",
       "      <td>2</td>\n",
       "      <td>131</td>\n",
       "      <td>2</td>\n",
       "      <td>failure</td>\n",
       "      <td>no</td>\n",
       "      <td>-0.286402</td>\n",
       "      <td>3.465736</td>\n",
       "      <td>6.863803</td>\n",
       "    </tr>\n",
       "    <tr>\n",
       "      <th>1</th>\n",
       "      <td>39.0</td>\n",
       "      <td>technician</td>\n",
       "      <td>divorced</td>\n",
       "      <td>secondary</td>\n",
       "      <td>no</td>\n",
       "      <td>-0.193701</td>\n",
       "      <td>0.237021</td>\n",
       "      <td>yes</td>\n",
       "      <td>yes</td>\n",
       "      <td>cellular</td>\n",
       "      <td>...</td>\n",
       "      <td>apr</td>\n",
       "      <td>233</td>\n",
       "      <td>2</td>\n",
       "      <td>133</td>\n",
       "      <td>1</td>\n",
       "      <td>failure</td>\n",
       "      <td>no</td>\n",
       "      <td>-0.141894</td>\n",
       "      <td>3.663562</td>\n",
       "      <td>5.451038</td>\n",
       "    </tr>\n",
       "    <tr>\n",
       "      <th>2</th>\n",
       "      <td>59.0</td>\n",
       "      <td>retired</td>\n",
       "      <td>married</td>\n",
       "      <td>secondary</td>\n",
       "      <td>no</td>\n",
       "      <td>1.334266</td>\n",
       "      <td>0.121981</td>\n",
       "      <td>yes</td>\n",
       "      <td>yes</td>\n",
       "      <td>cellular</td>\n",
       "      <td>...</td>\n",
       "      <td>apr</td>\n",
       "      <td>126</td>\n",
       "      <td>2</td>\n",
       "      <td>239</td>\n",
       "      <td>1</td>\n",
       "      <td>failure</td>\n",
       "      <td>no</td>\n",
       "      <td>0.010880</td>\n",
       "      <td>4.077537</td>\n",
       "      <td>4.836282</td>\n",
       "    </tr>\n",
       "    <tr>\n",
       "      <th>3</th>\n",
       "      <td>47.0</td>\n",
       "      <td>blue-collar</td>\n",
       "      <td>married</td>\n",
       "      <td>secondary</td>\n",
       "      <td>no</td>\n",
       "      <td>0.362286</td>\n",
       "      <td>1.251328</td>\n",
       "      <td>yes</td>\n",
       "      <td>yes</td>\n",
       "      <td>cellular</td>\n",
       "      <td>...</td>\n",
       "      <td>apr</td>\n",
       "      <td>274</td>\n",
       "      <td>1</td>\n",
       "      <td>238</td>\n",
       "      <td>2</td>\n",
       "      <td>failure</td>\n",
       "      <td>no</td>\n",
       "      <td>-0.283277</td>\n",
       "      <td>3.850148</td>\n",
       "      <td>5.613128</td>\n",
       "    </tr>\n",
       "    <tr>\n",
       "      <th>4</th>\n",
       "      <td>54.0</td>\n",
       "      <td>retired</td>\n",
       "      <td>married</td>\n",
       "      <td>secondary</td>\n",
       "      <td>no</td>\n",
       "      <td>0.072075</td>\n",
       "      <td>-0.533738</td>\n",
       "      <td>yes</td>\n",
       "      <td>no</td>\n",
       "      <td>cellular</td>\n",
       "      <td>...</td>\n",
       "      <td>apr</td>\n",
       "      <td>479</td>\n",
       "      <td>1</td>\n",
       "      <td>307</td>\n",
       "      <td>1</td>\n",
       "      <td>failure</td>\n",
       "      <td>no</td>\n",
       "      <td>-0.002253</td>\n",
       "      <td>3.988984</td>\n",
       "      <td>6.171701</td>\n",
       "    </tr>\n",
       "  </tbody>\n",
       "</table>\n",
       "<p>5 rows × 21 columns</p>\n",
       "</div>"
      ],
      "text/plain": [
       "    age          job   marital  education default  ratio_bal_ln  ratio_ln_inc  \\\n",
       "0  32.0   technician    single   tertiary      no      1.300134      0.473895   \n",
       "1  39.0   technician  divorced  secondary      no     -0.193701      0.237021   \n",
       "2  59.0      retired   married  secondary      no      1.334266      0.121981   \n",
       "3  47.0  blue-collar   married  secondary      no      0.362286      1.251328   \n",
       "4  54.0      retired   married  secondary      no      0.072075     -0.533738   \n",
       "\n",
       "  housing loan   contact      ...       month duration  campaign  pdays  \\\n",
       "0     yes   no  cellular      ...         apr      957         2    131   \n",
       "1     yes  yes  cellular      ...         apr      233         2    133   \n",
       "2     yes  yes  cellular      ...         apr      126         2    239   \n",
       "3     yes  yes  cellular      ...         apr      274         1    238   \n",
       "4     yes   no  cellular      ...         apr      479         1    307   \n",
       "\n",
       "   previous  poutcome subscribed balance_power   age_log  duration_log  \n",
       "0         2   failure         no     -0.286402  3.465736      6.863803  \n",
       "1         1   failure         no     -0.141894  3.663562      5.451038  \n",
       "2         1   failure         no      0.010880  4.077537      4.836282  \n",
       "3         2   failure         no     -0.283277  3.850148      5.613128  \n",
       "4         1   failure         no     -0.002253  3.988984      6.171701  \n",
       "\n",
       "[5 rows x 21 columns]"
      ]
     },
     "execution_count": 50,
     "metadata": {},
     "output_type": "execute_result"
    }
   ],
   "source": [
    "df.head()"
   ]
  },
  {
   "cell_type": "markdown",
   "metadata": {},
   "source": [
    "#### Feature creation options used:\n",
    "- Binning the age values into groups and creating **age_binned**\n",
    "- Using grouped `age_binned` with `marital` status [getting life stage of age group]\n",
    "- Grouping various job categories to appropriate groups\n",
    "- Merge attributes `housing` and `loan` as **has_loan**"
   ]
  },
  {
   "cell_type": "code",
   "execution_count": 51,
   "metadata": {},
   "outputs": [
    {
     "data": {
      "text/plain": [
       "<matplotlib.axes._subplots.AxesSubplot at 0x214791b7128>"
      ]
     },
     "execution_count": 51,
     "metadata": {},
     "output_type": "execute_result"
    },
    {
     "data": {
      "image/png": "[encoded data removed]",
      "text/plain": [
       "<Figure size 432x288 with 1 Axes>"
      ]
     },
     "metadata": {},
     "output_type": "display_data"
    }
   ],
   "source": [
    "# Plotting the Age distribution\n",
    "sns.distplot(df.age)"
   ]
  },
  {
   "cell_type": "markdown",
   "metadata": {},
   "source": [
    "#### From the Histogram plot, \n",
    "- The histogram shows most of the customers are in the **age group 25-60 years** and hints thats the **working class age group was targeted by the bank**\n",
    "\n",
    "#### We can group/bin the age categories as per the distribution"
   ]
  },
  {
   "cell_type": "code",
   "execution_count": 52,
   "metadata": {},
   "outputs": [
    {
     "data": {
      "text/plain": [
       "middle          1031\n",
       "lower_middle     862\n",
       "senior            96\n",
       "young              1\n",
       "Name: age_binned, dtype: int64"
      ]
     },
     "execution_count": 52,
     "metadata": {},
     "output_type": "execute_result"
    }
   ],
   "source": [
    "# AGE Group creation\n",
    "# Reference: https://stackoverflow.com/questions/49382207/how-to-map-numeric-data-into-categories-bins-in-pandas-dataframe\n",
    "\n",
    "# Creating the age group with appropriate bins\n",
    "bins = [0, 18, 36, 65, np.inf]\n",
    "age_groups = ['young', 'lower_middle', 'middle', 'senior']\n",
    "\n",
    "# Break the age groups into 4 parts and assign group names\n",
    "df['age_binned'] = pd.cut(df['age'], bins, labels=age_groups)\n",
    "\n",
    "df['age_binned'].value_counts()"
   ]
  },
  {
   "cell_type": "code",
   "execution_count": 53,
   "metadata": {},
   "outputs": [
    {
     "data": {
      "image/png": "[encoded data removed]",
      "text/plain": [
       "<Figure size 432x288 with 1 Axes>"
      ]
     },
     "metadata": {},
     "output_type": "display_data"
    }
   ],
   "source": [
    "# Age binned vs subscribed analysis\n",
    "\n",
    "stacked_chart = pd.crosstab(df['age_binned'], df['subscribed'])\n",
    "stacked_chart.plot(kind='bar', stacked=True, color=['orange', 'green'])\n",
    "plt.title(\"Grouped Age vs Subscribed\")\n",
    "plt.ylabel('Number of Customers')\n",
    "plt.grid(axis='y')\n",
    "plt.yscale('log')\n",
    "plt.show()\n",
    "\n",
    "# Note: The output seems to mismatch the row names with crosstab after using qcut [with pandas ver 23]\n",
    "# I had to upgrage to pandas 23.2 to get around this, link shared below\n",
    "# (https://stackoverflow.com/questions/51461836/pandas-crosstab-when-used-with-pandas-cut-row-names-of-the-output-crosstab-are)"
   ]
  },
  {
   "cell_type": "markdown",
   "metadata": {},
   "source": [
    "### Observation:\n",
    "We can see that after we grouped the age into 4 categories, the **young and senior customers has almost 100% subscription**"
   ]
  },
  {
   "cell_type": "markdown",
   "metadata": {},
   "source": [
    "### New Feature \"life_stage\": Based on age_binned and marital status"
   ]
  },
  {
   "cell_type": "code",
   "execution_count": 54,
   "metadata": {},
   "outputs": [
    {
     "data": {
      "text/plain": [
       "middle & married           733\n",
       "lower_middle & single      521\n",
       "lower_middle & married     300\n",
       "middle & divorced          151\n",
       "middle & single            147\n",
       "senior & married            72\n",
       "lower_middle & divorced     41\n",
       "senior & divorced           23\n",
       "senior & single              1\n",
       "young & single               1\n",
       "Name: life_stage, dtype: int64"
      ]
     },
     "execution_count": 54,
     "metadata": {},
     "output_type": "execute_result"
    }
   ],
   "source": [
    "# Getting life stage of age group\n",
    "df['life_stage'] = df.apply(lambda x: x['age_binned'] +' & ' + x['marital'], axis = 1)\n",
    "df['life_stage'].value_counts()"
   ]
  },
  {
   "cell_type": "markdown",
   "metadata": {},
   "source": [
    "### Observation:\n",
    "We can see some really interesting facts out of the above grouping:\n",
    "- Middle aged Customers with marital status as married has the highest number (772)\n",
    "- Second highest customers are in lower middle age category and single (795)\n",
    "- There is only 1 customer who is young and single & senior and single"
   ]
  },
  {
   "cell_type": "code",
   "execution_count": 55,
   "metadata": {},
   "outputs": [],
   "source": [
    "# Drop age and marital status as we will be using the new feature \"life stage\" from now\n",
    "df.drop(['age', 'age_log', 'age_binned', 'marital'], axis=1,inplace = True)"
   ]
  },
  {
   "cell_type": "markdown",
   "metadata": {},
   "source": [
    "#### Grouping job categories of relevant fields"
   ]
  },
  {
   "cell_type": "code",
   "execution_count": 56,
   "metadata": {},
   "outputs": [],
   "source": [
    "# Combine similar jobs into categories\n",
    "# Used wikipedia to understand job types and grouped accordingly\n",
    "\n",
    "# A white-collar worker is a person who performs professional, managerial, or administrative work. \n",
    "df['job'] = df['job'].replace(['management', 'admin.'], 'white-collar')\n",
    "\n",
    "# Pink collar include jobs in the beauty industry, nursing, teaching, secretarial work, waitressing, or child care.\n",
    "df['job'] = df['job'].replace(['services','housemaid'], 'pink-collar')\n",
    "\n",
    "df['job'] = df['job'].replace(['student', 'unemployed', 'unknown'], 'other')"
   ]
  },
  {
   "cell_type": "code",
   "execution_count": 57,
   "metadata": {},
   "outputs": [
    {
     "data": {
      "text/plain": [
       "white-collar     708\n",
       "technician       348\n",
       "blue-collar      298\n",
       "pink-collar      200\n",
       "other            165\n",
       "retired          162\n",
       "self-employed     64\n",
       "entrepreneur      45\n",
       "Name: job, dtype: int64"
      ]
     },
     "execution_count": 57,
     "metadata": {},
     "output_type": "execute_result"
    }
   ],
   "source": [
    "# New Job value counts\n",
    "df.job.value_counts()"
   ]
  },
  {
   "cell_type": "markdown",
   "metadata": {},
   "source": [
    "### New feature \"has_loan\" by grouping \"housing\" and personal \"loan\" "
   ]
  },
  {
   "cell_type": "code",
   "execution_count": 58,
   "metadata": {},
   "outputs": [
    {
     "data": {
      "text/plain": [
       "no     1029\n",
       "yes     961\n",
       "Name: housing, dtype: int64"
      ]
     },
     "execution_count": 58,
     "metadata": {},
     "output_type": "execute_result"
    }
   ],
   "source": [
    "df.housing.value_counts()"
   ]
  },
  {
   "cell_type": "code",
   "execution_count": 59,
   "metadata": {},
   "outputs": [
    {
     "data": {
      "text/plain": [
       "no     1740\n",
       "yes     250\n",
       "Name: loan, dtype: int64"
      ]
     },
     "execution_count": 59,
     "metadata": {},
     "output_type": "execute_result"
    }
   ],
   "source": [
    "df.loan.value_counts()"
   ]
  },
  {
   "cell_type": "code",
   "execution_count": 60,
   "metadata": {},
   "outputs": [],
   "source": [
    "# Defining a function to merge housing and personal loans\n",
    "\n",
    "def merge_loans(data):   \n",
    "    if (data['housing'] == 'yes') or (data['loan'] == 'yes'):\n",
    "        return 1\n",
    "    else:\n",
    "        return 0"
   ]
  },
  {
   "cell_type": "code",
   "execution_count": 61,
   "metadata": {},
   "outputs": [
    {
     "data": {
      "text/plain": [
       "1    1041\n",
       "0     949\n",
       "Name: has_loan, dtype: int64"
      ]
     },
     "execution_count": 61,
     "metadata": {},
     "output_type": "execute_result"
    }
   ],
   "source": [
    "# Create a new feature has_loan from hosuing and loan attrbiutes\n",
    "df['has_loan'] = df.apply(merge_loans, axis=1)\n",
    "\n",
    "# Drop housing and loan attributes from bank data frame\n",
    "df.drop('housing', axis=1, inplace = True)\n",
    "df.drop('loan', axis=1, inplace = True)\n",
    "\n",
    "df.has_loan.value_counts()"
   ]
  },
  {
   "cell_type": "code",
   "execution_count": 62,
   "metadata": {},
   "outputs": [
    {
     "data": {
      "image/png": "[encoded data removed]",
      "text/plain": [
       "<Figure size 432x288 with 1 Axes>"
      ]
     },
     "metadata": {},
     "output_type": "display_data"
    }
   ],
   "source": [
    "# Has_loan vs subscribed\n",
    "stacked_chart = pd.crosstab(df['has_loan'], df['subscribed'])\n",
    "stacked_chart.plot(kind='bar', stacked=True, color=['red', 'green'])\n",
    "plt.title(\"Has_loan vs Subscribed\")\n",
    "plt.ylabel('Number of Customers')\n",
    "plt.show()"
   ]
  },
  {
   "cell_type": "markdown",
   "metadata": {},
   "source": [
    "### Observation:\n",
    "Customers that have either personal loan or housing loan has been combined here into one feature as `has_loan`.\n",
    "- We can see that customers with `has_loan` feature has less chance to get subscribed to bank marketing campaign."
   ]
  },
  {
   "cell_type": "markdown",
   "metadata": {},
   "source": [
    "Dropping some columns which doesn't seem important"
   ]
  },
  {
   "cell_type": "code",
   "execution_count": 63,
   "metadata": {},
   "outputs": [],
   "source": [
    "# Drop 'contact', as every participant has been contacted. \n",
    "df.drop('contact', axis=1, inplace=True)\n",
    "\n",
    "# Drop 'month' and 'day' as they don't have any intrinsic meaning\n",
    "df.drop('month', axis=1, inplace=True)\n",
    "df.drop('day', axis=1, inplace=True)\n",
    "\n",
    "# Drop duration as we have log tranform of that\n",
    "df.drop('duration', axis=1, inplace=True)"
   ]
  },
  {
   "cell_type": "markdown",
   "metadata": {},
   "source": [
    "### Convert categorical values to numeric by  using label_encoder"
   ]
  },
  {
   "cell_type": "code",
   "execution_count": 64,
   "metadata": {},
   "outputs": [],
   "source": [
    "# Convert Output variable \"subscribed\" in numeric\n",
    "y_encoded = df['subscribed'].map({'yes': 1, 'no': -1})\n",
    "df.drop('subscribed', axis=1, inplace=True)"
   ]
  },
  {
   "cell_type": "code",
   "execution_count": 65,
   "metadata": {},
   "outputs": [
    {
     "name": "stdout",
     "output_type": "stream",
     "text": [
      "['job' 'education' 'default' 'poutcome' 'life_stage']\n",
      "(1990, 13)\n"
     ]
    },
    {
     "data": {
      "text/html": [
       "<div>\n",
       "<style scoped>\n",
       "    .dataframe tbody tr th:only-of-type {\n",
       "        vertical-align: middle;\n",
       "    }\n",
       "\n",
       "    .dataframe tbody tr th {\n",
       "        vertical-align: top;\n",
       "    }\n",
       "\n",
       "    .dataframe thead th {\n",
       "        text-align: right;\n",
       "    }\n",
       "</style>\n",
       "<table border=\"1\" class=\"dataframe\">\n",
       "  <thead>\n",
       "    <tr style=\"text-align: right;\">\n",
       "      <th></th>\n",
       "      <th>job</th>\n",
       "      <th>education</th>\n",
       "      <th>default</th>\n",
       "      <th>ratio_bal_ln</th>\n",
       "      <th>ratio_ln_inc</th>\n",
       "      <th>campaign</th>\n",
       "      <th>pdays</th>\n",
       "      <th>previous</th>\n",
       "      <th>poutcome</th>\n",
       "      <th>balance_power</th>\n",
       "      <th>duration_log</th>\n",
       "      <th>life_stage</th>\n",
       "      <th>has_loan</th>\n",
       "    </tr>\n",
       "  </thead>\n",
       "  <tbody>\n",
       "    <tr>\n",
       "      <th>0</th>\n",
       "      <td>6</td>\n",
       "      <td>2</td>\n",
       "      <td>0</td>\n",
       "      <td>1.300134</td>\n",
       "      <td>0.473895</td>\n",
       "      <td>2</td>\n",
       "      <td>131</td>\n",
       "      <td>2</td>\n",
       "      <td>0</td>\n",
       "      <td>-0.286402</td>\n",
       "      <td>6.863803</td>\n",
       "      <td>2</td>\n",
       "      <td>1</td>\n",
       "    </tr>\n",
       "    <tr>\n",
       "      <th>1</th>\n",
       "      <td>6</td>\n",
       "      <td>1</td>\n",
       "      <td>0</td>\n",
       "      <td>-0.193701</td>\n",
       "      <td>0.237021</td>\n",
       "      <td>2</td>\n",
       "      <td>133</td>\n",
       "      <td>1</td>\n",
       "      <td>0</td>\n",
       "      <td>-0.141894</td>\n",
       "      <td>5.451038</td>\n",
       "      <td>3</td>\n",
       "      <td>1</td>\n",
       "    </tr>\n",
       "    <tr>\n",
       "      <th>2</th>\n",
       "      <td>4</td>\n",
       "      <td>1</td>\n",
       "      <td>0</td>\n",
       "      <td>1.334266</td>\n",
       "      <td>0.121981</td>\n",
       "      <td>2</td>\n",
       "      <td>239</td>\n",
       "      <td>1</td>\n",
       "      <td>0</td>\n",
       "      <td>0.010880</td>\n",
       "      <td>4.836282</td>\n",
       "      <td>4</td>\n",
       "      <td>1</td>\n",
       "    </tr>\n",
       "    <tr>\n",
       "      <th>3</th>\n",
       "      <td>0</td>\n",
       "      <td>1</td>\n",
       "      <td>0</td>\n",
       "      <td>0.362286</td>\n",
       "      <td>1.251328</td>\n",
       "      <td>1</td>\n",
       "      <td>238</td>\n",
       "      <td>2</td>\n",
       "      <td>0</td>\n",
       "      <td>-0.283277</td>\n",
       "      <td>5.613128</td>\n",
       "      <td>4</td>\n",
       "      <td>1</td>\n",
       "    </tr>\n",
       "    <tr>\n",
       "      <th>4</th>\n",
       "      <td>4</td>\n",
       "      <td>1</td>\n",
       "      <td>0</td>\n",
       "      <td>0.072075</td>\n",
       "      <td>-0.533738</td>\n",
       "      <td>1</td>\n",
       "      <td>307</td>\n",
       "      <td>1</td>\n",
       "      <td>0</td>\n",
       "      <td>-0.002253</td>\n",
       "      <td>6.171701</td>\n",
       "      <td>4</td>\n",
       "      <td>1</td>\n",
       "    </tr>\n",
       "  </tbody>\n",
       "</table>\n",
       "</div>"
      ],
      "text/plain": [
       "   job  education  default  ratio_bal_ln  ratio_ln_inc  campaign  pdays  \\\n",
       "0    6          2        0      1.300134      0.473895         2    131   \n",
       "1    6          1        0     -0.193701      0.237021         2    133   \n",
       "2    4          1        0      1.334266      0.121981         2    239   \n",
       "3    0          1        0      0.362286      1.251328         1    238   \n",
       "4    4          1        0      0.072075     -0.533738         1    307   \n",
       "\n",
       "   previous  poutcome  balance_power  duration_log  life_stage  has_loan  \n",
       "0         2         0      -0.286402      6.863803           2         1  \n",
       "1         1         0      -0.141894      5.451038           3         1  \n",
       "2         1         0       0.010880      4.836282           4         1  \n",
       "3         2         0      -0.283277      5.613128           4         1  \n",
       "4         1         0      -0.002253      6.171701           4         1  "
      ]
     },
     "execution_count": 65,
     "metadata": {},
     "output_type": "execute_result"
    }
   ],
   "source": [
    "## Using label encoder Convert the categorical variables and to reduce number of feature columns!\n",
    "\n",
    "labelEnc=LabelEncoder()\n",
    "\n",
    "categorical_variables = df.select_dtypes(include=['O']).columns.values\n",
    "print(categorical_variables)\n",
    "\n",
    "for feature in categorical_variables:\n",
    "    df[feature]=labelEnc.fit_transform(df[feature])\n",
    "\n",
    "print(df.shape)\n",
    "df.head()"
   ]
  },
  {
   "cell_type": "code",
   "execution_count": 66,
   "metadata": {},
   "outputs": [
    {
     "name": "stdout",
     "output_type": "stream",
     "text": [
      "Features Available:  13\n",
      "Features: ['job' 'education' 'default' 'ratio_bal_ln' 'ratio_ln_inc' 'campaign'\n",
      " 'pdays' 'previous' 'poutcome' 'balance_power' 'duration_log' 'life_stage'\n",
      " 'has_loan']\n"
     ]
    }
   ],
   "source": [
    "# Show all available features for training\n",
    "features = df.select_dtypes(include=[np.number]).columns.values\n",
    "print(\"Features Available: \", len(features))\n",
    "print(\"Features:\", features)"
   ]
  },
  {
   "cell_type": "markdown",
   "metadata": {},
   "source": [
    "### Analysis of Feature importance using Extra Trees Classifier"
   ]
  },
  {
   "cell_type": "code",
   "execution_count": 67,
   "metadata": {},
   "outputs": [
    {
     "data": {
      "text/html": [
       "<div>\n",
       "<style scoped>\n",
       "    .dataframe tbody tr th:only-of-type {\n",
       "        vertical-align: middle;\n",
       "    }\n",
       "\n",
       "    .dataframe tbody tr th {\n",
       "        vertical-align: top;\n",
       "    }\n",
       "\n",
       "    .dataframe thead th {\n",
       "        text-align: right;\n",
       "    }\n",
       "</style>\n",
       "<table border=\"1\" class=\"dataframe\">\n",
       "  <thead>\n",
       "    <tr style=\"text-align: right;\">\n",
       "      <th></th>\n",
       "      <th>FEATURE</th>\n",
       "      <th>IMPORTANCE</th>\n",
       "    </tr>\n",
       "  </thead>\n",
       "  <tbody>\n",
       "    <tr>\n",
       "      <th>12</th>\n",
       "      <td>has_loan</td>\n",
       "      <td>0.236510</td>\n",
       "    </tr>\n",
       "    <tr>\n",
       "      <th>8</th>\n",
       "      <td>poutcome</td>\n",
       "      <td>0.231686</td>\n",
       "    </tr>\n",
       "    <tr>\n",
       "      <th>10</th>\n",
       "      <td>duration_log</td>\n",
       "      <td>0.099857</td>\n",
       "    </tr>\n",
       "    <tr>\n",
       "      <th>4</th>\n",
       "      <td>ratio_ln_inc</td>\n",
       "      <td>0.093087</td>\n",
       "    </tr>\n",
       "    <tr>\n",
       "      <th>3</th>\n",
       "      <td>ratio_bal_ln</td>\n",
       "      <td>0.091027</td>\n",
       "    </tr>\n",
       "    <tr>\n",
       "      <th>6</th>\n",
       "      <td>pdays</td>\n",
       "      <td>0.072082</td>\n",
       "    </tr>\n",
       "    <tr>\n",
       "      <th>9</th>\n",
       "      <td>balance_power</td>\n",
       "      <td>0.037048</td>\n",
       "    </tr>\n",
       "    <tr>\n",
       "      <th>11</th>\n",
       "      <td>life_stage</td>\n",
       "      <td>0.036788</td>\n",
       "    </tr>\n",
       "    <tr>\n",
       "      <th>0</th>\n",
       "      <td>job</td>\n",
       "      <td>0.033572</td>\n",
       "    </tr>\n",
       "    <tr>\n",
       "      <th>7</th>\n",
       "      <td>previous</td>\n",
       "      <td>0.027215</td>\n",
       "    </tr>\n",
       "    <tr>\n",
       "      <th>5</th>\n",
       "      <td>campaign</td>\n",
       "      <td>0.020399</td>\n",
       "    </tr>\n",
       "    <tr>\n",
       "      <th>1</th>\n",
       "      <td>education</td>\n",
       "      <td>0.018136</td>\n",
       "    </tr>\n",
       "    <tr>\n",
       "      <th>2</th>\n",
       "      <td>default</td>\n",
       "      <td>0.002592</td>\n",
       "    </tr>\n",
       "  </tbody>\n",
       "</table>\n",
       "</div>"
      ],
      "text/plain": [
       "          FEATURE  IMPORTANCE\n",
       "12       has_loan    0.236510\n",
       "8        poutcome    0.231686\n",
       "10   duration_log    0.099857\n",
       "4    ratio_ln_inc    0.093087\n",
       "3    ratio_bal_ln    0.091027\n",
       "6           pdays    0.072082\n",
       "9   balance_power    0.037048\n",
       "11     life_stage    0.036788\n",
       "0             job    0.033572\n",
       "7        previous    0.027215\n",
       "5        campaign    0.020399\n",
       "1       education    0.018136\n",
       "2         default    0.002592"
      ]
     },
     "execution_count": 67,
     "metadata": {},
     "output_type": "execute_result"
    }
   ],
   "source": [
    "# Select the Generated New features and other numeric features for training the model\n",
    "# (Aiden suggested to use a subset of features to make model simple as more features can lead to complex models)\n",
    "\n",
    "# compute the feature importances\n",
    "model = ExtraTreesClassifier(n_estimators=100)\n",
    "model.fit(df[features], y_encoded)\n",
    "feature_imp = model.feature_importances_\n",
    "\n",
    "feature_tree = pd.DataFrame({'FEATURE':df[features].columns.values,'IMPORTANCE':feature_imp})\n",
    "feature_tree.sort_values(by=['IMPORTANCE'], ascending=False)"
   ]
  },
  {
   "cell_type": "markdown",
   "metadata": {},
   "source": [
    "#### Observation:\n",
    "The above table shows the important features which can affect the model training.\n",
    "- We can see that the **top 5 features are \"poutcome\",\"has_loan\",\"duration_log\",\"ratio_bal_ln\",\"ratio_ln_inc\", \"pdays\"**"
   ]
  },
  {
   "cell_type": "code",
   "execution_count": 68,
   "metadata": {},
   "outputs": [
    {
     "name": "stdout",
     "output_type": "stream",
     "text": [
      "Final Features selected: ['poutcome', 'has_loan', 'duration_log', 'ratio_bal_ln', 'ratio_ln_inc', 'pdays']\n"
     ]
    }
   ],
   "source": [
    "# Select the FINAL features based on importance\n",
    "final_features = [\"poutcome\",\"has_loan\",\"duration_log\",\"ratio_bal_ln\",\"ratio_ln_inc\", \"pdays\"]\n",
    "\n",
    "#final_features = features\n",
    "print(\"Final Features selected:\", final_features)"
   ]
  },
  {
   "cell_type": "markdown",
   "metadata": {},
   "source": [
    "# Task 4 (CE6002)\n",
    "\n",
    "*Using the dataset, make learning curves for logistic regression and two other machine learning algorithms of your choosing using scikitlearn’s learning_curve functionality. Choose one algorithm with low complexity in terms of VC dimension and one algorithm with high complexity.*\n",
    "\n",
    "*Comment on what information you can derive from the learning curves  (in a markdown cell) and how this information differs between simple and complex machine learning algorithms.*"
   ]
  },
  {
   "cell_type": "code",
   "execution_count": 69,
   "metadata": {},
   "outputs": [
    {
     "name": "stdout",
     "output_type": "stream",
     "text": [
      "X_train shape (1592, 6)\n",
      "X_test shape (398, 6)\n",
      "y_train shape (1592,)\n",
      "y_test shape (398,)\n"
     ]
    }
   ],
   "source": [
    "X = df[final_features].values\n",
    "y = y_encoded.values\n",
    "\n",
    "# Split the dataset in train and test set with [train:test data = 80:20 ratio]  \n",
    "X_train, X_test, y_train, y_test = train_test_split(X, y, test_size=0.2, shuffle=True, random_state=42)\n",
    "\n",
    "print(\"X_train shape\", X_train.shape )\n",
    "print(\"X_test shape\",  X_test.shape )\n",
    "print(\"y_train shape\", y_train.shape )\n",
    "print(\"y_test shape\",  y_test.shape )"
   ]
  },
  {
   "cell_type": "markdown",
   "metadata": {},
   "source": [
    "### Logistic Regression"
   ]
  },
  {
   "cell_type": "code",
   "execution_count": 71,
   "metadata": {},
   "outputs": [
    {
     "data": {
      "text/plain": [
       "LogisticRegression(C=1.0, class_weight=None, dual=False, fit_intercept=True,\n",
       "          intercept_scaling=1, max_iter=250, multi_class='warn',\n",
       "          n_jobs=None, penalty='l2', random_state=None, solver='lbfgs',\n",
       "          tol=0.0001, verbose=0, warm_start=False)"
      ]
     },
     "execution_count": 71,
     "metadata": {},
     "output_type": "execute_result"
    }
   ],
   "source": [
    "# Example Code referred from https://towardsdatascience.com/building-a-logistic-regression-in-python-step-by-step-becd4d56c9c8\n",
    "# Run Logistic Regression on the dataset to compare with performance achieved using Pocket algorithm\n",
    "logistic_reg = LogisticRegression(solver='lbfgs', max_iter=250)\n",
    "\n",
    "# Fit the classifier to training dataset\n",
    "logistic_reg.fit(X_train, y_train)"
   ]
  },
  {
   "cell_type": "markdown",
   "metadata": {},
   "source": [
    "Make predictions and calculate Ein and Eout"
   ]
  },
  {
   "cell_type": "code",
   "execution_count": 72,
   "metadata": {},
   "outputs": [
    {
     "name": "stdout",
     "output_type": "stream",
     "text": [
      "Logistic Regression Performance:\n",
      "****************************************\n",
      "Ein:  0.079\n",
      "Eout: 0.088\n",
      "****************************************\n",
      "Accuracy on train data: 0.92\n",
      "Accuracy on test data: 0.91\n",
      "****************************************\n"
     ]
    }
   ],
   "source": [
    "# Make Prediction on test data\n",
    "prediction = logistic_reg.predict(X_test)\n",
    "predict_proba = logistic_reg.predict_proba(X_test) \n",
    "\n",
    "# Ein on train data: 1 - log_reg_score(train)\n",
    "Ein = 1 - logistic_reg.score(X_train, y_train)\n",
    "\n",
    "# Eout on test data: 1 - log_reg_score(test)\n",
    "Eout = 1 - logistic_reg.score(X_test, y_test)\n",
    "\n",
    "print(\"Logistic Regression Performance:\")\n",
    "print(\"**\"*20)\n",
    "print(\"Ein:  {:.3f}\".format(Ein))\n",
    "print(\"Eout: {:.3f}\".format(Eout))\n",
    "\n",
    "print(\"**\"*20)\n",
    "print('Accuracy on train data: {:.2f}'.format(logistic_reg.score(X_train, y_train)))\n",
    "print('Accuracy on test data: {:.2f}'.format(logistic_reg.score(X_test, y_test)))\n",
    "print(\"**\"*20)"
   ]
  },
  {
   "cell_type": "code",
   "execution_count": 73,
   "metadata": {},
   "outputs": [
    {
     "data": {
      "image/png": "[encoded data removed]",
      "text/plain": [
       "<Figure size 432x288 with 2 Axes>"
      ]
     },
     "metadata": {},
     "output_type": "display_data"
    }
   ],
   "source": [
    "# Lets see the confusion matrix to undestand the miss-classifications\n",
    "from sklearn.metrics import confusion_matrix\n",
    "\n",
    "y_pred = logistic_reg.predict(X_test)\n",
    "confusion_matrix = confusion_matrix(y_test, y_pred)\n",
    "\n",
    "sns.heatmap(confusion_matrix, annot=True, fmt='g', cmap='Blues')\n",
    "plt.title(\"Confusion matrix\")\n",
    "plt.ylabel('True label')\n",
    "plt.xlabel('Predicted label')\n",
    "plt.show()"
   ]
  },
  {
   "cell_type": "markdown",
   "metadata": {},
   "source": [
    "### Plotting the Error P[Ein-Eout|>e] , Hoeffding bound and the VC bound"
   ]
  },
  {
   "cell_type": "code",
   "execution_count": 74,
   "metadata": {},
   "outputs": [],
   "source": [
    "# Plot Probabilities and Hoeffding Bound by Reusing Excercise from Week 1\n",
    "\n",
    "plt.style.use('default')\n",
    "\n",
    "def run_experiment(X, y, hypothesis, iterations):\n",
    "    # Function to plot the Hoeffding bound\n",
    " \n",
    "    Eins = np.empty(iterations)\n",
    "    Eouts = np.empty(iterations)\n",
    "    error_diff = []\n",
    "    test_size = 0.2\n",
    "\n",
    "    # For loop to find Ein and Eout for each train and test set for each iteration\n",
    "    for i in range(iterations):\n",
    "        \n",
    "        # Split and shuffle the data as 80% train and 20% test data \n",
    "        X_train, X_test, y_train, y_test = train_test_split(X, y, shuffle=True, test_size=test_size)           \n",
    "        \n",
    "        # Substract hypothesis scores from 1 on train and test data to get Ein/Eout\n",
    "        Ein = 1 - hypothesis.score(X_train, y_train)\n",
    "        Eout = 1 -  hypothesis.score(X_test, y_test)\n",
    "        Eins[i] = Ein\n",
    "        Eouts[i] = Eout\n",
    "        error_diff.append(abs(Ein - Eout))\n",
    "\n",
    "    # Find the average Ein and Eout\n",
    "    Ein_mean = Eins.mean()\n",
    "    Eout_mean = Eouts.mean()\n",
    "\n",
    "    # The value of N has to be the size of the training set\n",
    "    N = len(X_train)\n",
    "    \n",
    "    # The VC dimension: dvc=d+1; d is the dimensionality of the input train data\n",
    "    dvc = X_train.shape[1] + 1\n",
    "\n",
    "    plt.figure(figsize=(10,6))\n",
    "    \n",
    "    # Plot probabilities for N    \n",
    "    prob_epsilon=[]\n",
    "    epsilons = np.arange(0.001, 0.2, 0.001)\n",
    "    for e in epsilons:\n",
    "        prob_epsilon.append(len([1 for i in error_diff if i > e])/len(error_diff))\n",
    "\n",
    "    # Plot Probability of epsilon curve\n",
    "    plt.plot(epsilons, prob_epsilon, 'b-', label=\"P[abs(Ein-Eout)>e]\")\n",
    "\n",
    "    # Plot Hoeffding bound for N \n",
    "    hoeffding = [2*math.exp(-2*N*e**2) for e in epsilons]\n",
    "    plt.plot(epsilons, hoeffding, 'r-', label=\"Hoeffding bound\")\n",
    "\n",
    "    # Plot VC bound for N \n",
    "    vc = [4*((2*N)**dvc+1)*math.exp(-(N/8)*e**2) for e in epsilons]\n",
    "    #vc = [4*((2*N)**dvc+1)*math.exp(-(N/8)*e**2) for e in epsilons]\n",
    "\n",
    "    plt.plot(epsilons, vc, 'g-', label=\"VC bound\")\n",
    "\n",
    "    print(\"**\"*40)\n",
    "    print('Experiment parameters are:\\nN= {}\\nIterations={}\\nEin={:.2f} Eout={:.2f}'.\n",
    "          format(N, iterations, Ein_mean, Eout_mean))\n",
    "    \n",
    "    print(\"**\"*40)\n",
    "    print(\"Error exceeds Hoeffding\" if max(np.array(prob_epsilon)-np.array(hoeffding))>0 else \n",
    "          \"Error does not exceed Hoeffding\")\n",
    "    \n",
    "    print(\"Error exceeds VC\" if max(np.array(prob_epsilon)-np.array(vc))>0 else \"Error does not exceed VC\")\n",
    "    print(\"**\"*40)\n",
    "   \n",
    "    plt.title(\"Comparision of the Probability of epsilon vs Hoefdding and VC Bounds, Iteration={}\".format(iterations))\n",
    "    plt.legend(loc='best')\n",
    "    plt.xlabel('Epsilon')\n",
    "    # Scaling to log on y-axis to show all the 3 plots clearly\n",
    "    plt.yscale('log')\n",
    "    plt.show()"
   ]
  },
  {
   "cell_type": "markdown",
   "metadata": {},
   "source": [
    "#### Run the experiment for multiple Iterations (1, 100 and 1000) and analyse the results"
   ]
  },
  {
   "cell_type": "code",
   "execution_count": 75,
   "metadata": {
    "scrolled": false
   },
   "outputs": [
    {
     "name": "stdout",
     "output_type": "stream",
     "text": [
      "********************************************************************************\n",
      "Experiment parameters are:\n",
      "N= 1592\n",
      "Iterations=1\n",
      "Ein=0.08 Eout=0.08\n",
      "********************************************************************************\n",
      "Error does not exceed Hoeffding\n",
      "Error does not exceed VC\n",
      "********************************************************************************\n"
     ]
    },
    {
     "data": {
      "image/png": "[encoded data removed]",
      "text/plain": [
       "<Figure size 1000x600 with 1 Axes>"
      ]
     },
     "metadata": {},
     "output_type": "display_data"
    }
   ],
   "source": [
    "# Call the function to run the experiment to calculate and plot Error w.r.t. Hoeffding and VC bound (1 iterations)\n",
    "\n",
    "iteration = 1\n",
    "run_experiment(X=X, y=y, hypothesis=logistic_reg, iterations=iteration)"
   ]
  },
  {
   "cell_type": "code",
   "execution_count": 76,
   "metadata": {
    "scrolled": false
   },
   "outputs": [
    {
     "name": "stdout",
     "output_type": "stream",
     "text": [
      "********************************************************************************\n",
      "Experiment parameters are:\n",
      "N= 1592\n",
      "Iterations=100\n",
      "Ein=0.08 Eout=0.08\n",
      "********************************************************************************\n",
      "Error exceeds Hoeffding\n",
      "Error does not exceed VC\n",
      "********************************************************************************\n"
     ]
    },
    {
     "data": {
      "image/png": "[encoded data removed]",
      "text/plain": [
       "<Figure size 1000x600 with 1 Axes>"
      ]
     },
     "metadata": {},
     "output_type": "display_data"
    }
   ],
   "source": [
    "# Call the function to run the experiment to calculate and plot Error w.r.t. Hoeffding and VC bound (100 iterations)\n",
    "\n",
    "iteration = 100\n",
    "run_experiment(X=X, y=y, hypothesis=logistic_reg, iterations=iteration)"
   ]
  },
  {
   "cell_type": "code",
   "execution_count": 77,
   "metadata": {},
   "outputs": [
    {
     "name": "stdout",
     "output_type": "stream",
     "text": [
      "********************************************************************************\n",
      "Experiment parameters are:\n",
      "N= 1592\n",
      "Iterations=1000\n",
      "Ein=0.08 Eout=0.08\n",
      "********************************************************************************\n",
      "Error exceeds Hoeffding\n",
      "Error does not exceed VC\n",
      "********************************************************************************\n"
     ]
    },
    {
     "data": {
      "image/png": "[encoded data removed]",
      "text/plain": [
       "<Figure size 1000x600 with 1 Axes>"
      ]
     },
     "metadata": {},
     "output_type": "display_data"
    }
   ],
   "source": [
    "# Run the experiment to calculate and plot Error w.r.t. Hoeffding and VC bound (1000 iterations)\n",
    "\n",
    "iteration = 1000\n",
    "run_experiment(X=X, y=y, hypothesis=logistic_reg, iterations=iteration)"
   ]
  },
  {
   "cell_type": "markdown",
   "metadata": {},
   "source": [
    "### Task 4 - Observation and Conclusion:\n",
    "\n",
    "As we increase the number of iterations, the **Error is not always within the Hoeffding Bound and breaks the Hoeffding Inequality**. This is however not the case with VC bound, as **the error is always within the VC Bound** because the VC bound is quite loose in general. \n",
    "\n",
    "This shows thats **Hoeffding bound doesn't always apply true for learning and VC bound does apply.** \n",
    "\n",
    "**Learning is feasible using the VC Bound** as its uses a polynomial growth function to which reduces the number of hypothesis from M (which can be infinite in Hoeffding) to a finite number of hypothesis. The VC Generalization bound establishes the feasibility of learning with infinite hypothesis sets. Ideally **machine learning models with lower dvc tend to generalize better than those with higher dvc·**"
   ]
  },
  {
   "cell_type": "markdown",
   "metadata": {},
   "source": [
    "# Task 5 (CE6002)\n",
    "*Using the dataset, make learning curves for logistic regression and two other machine learning algorithms of your choosing using scikitlearn’s learning_curve functionality. Choose one algorithm with low complexity in terms of VC dimension and one algorithm with high complexity.*\n",
    "\n",
    "*Comment on what information you can derive from the learning curves  (in a markdown cell) and how this information differs between simple and complex machine learning algorithms.*"
   ]
  },
  {
   "cell_type": "markdown",
   "metadata": {},
   "source": [
    "### Learning Curves\n",
    "A learning curve shows how error changes as the training set size increases. It gives a visualization on how fast the model learns and whether the whole analysis is not stuck in local minima.\n",
    "\n",
    "Learning curves give us an opportunity to diagnose bias and variance in supervised learning models.\n",
    "\n",
    "Reference: \n",
    "1. https://scikit-learn.org/stable/auto_examples/model_selection/plot_learning_curve.html\n",
    "2. https://www.dataquest.io/blog/learning-curves-machine-learning/\n",
    "3. https://towardsdatascience.com/measuring-the-power-of-a-classifier-c765a7446c1c"
   ]
  },
  {
   "cell_type": "code",
   "execution_count": 78,
   "metadata": {},
   "outputs": [],
   "source": [
    "# Using classic style for the learning curves\n",
    "# Reference: https://matplotlib.org/gallery/style_sheets/style_sheets_reference.html\n",
    "plt.style.use('classic')\n",
    "\n",
    "def plot_learning_curve(estimator, title, X, y, ylim=None, cv=None):\n",
    "    # Generate a simple plot of the test and training learning curve.\n",
    "\n",
    "    # Set some parameters for learning curve\n",
    "    n_jobs = 2\n",
    "    train_sizes=np.linspace(.1, 1.0, 5)\n",
    "    \n",
    "    plt.figure()\n",
    "    plt.title(title)\n",
    "    if ylim is not None:\n",
    "        plt.ylim(*ylim)\n",
    "        \n",
    "    plt.xlabel(\"Training examples\")\n",
    "    plt.ylabel(\"Score\")\n",
    "    \n",
    "    # Determine the cross-validated training and test scores for different training set sizes.\n",
    "    train_sizes, train_scores, test_scores = learning_curve(estimator, \n",
    "                                                            X, \n",
    "                                                            y, \n",
    "                                                            cv=cv, \n",
    "                                                            n_jobs=n_jobs,\n",
    "                                                            shuffle=True,\n",
    "                                                            train_sizes=train_sizes,\n",
    "                                                            random_state=42)\n",
    "    \n",
    "    train_scores_mean = np.mean(train_scores, axis=1)\n",
    "    train_scores_std = np.std(train_scores, axis=1)\n",
    "    test_scores_mean = np.mean(test_scores, axis=1)\n",
    "    test_scores_std = np.std(test_scores, axis=1)\n",
    "\n",
    "    print(\"Mean Training Scores: \", train_scores_mean)\n",
    "    print(\"Mean Cross-validation Scores: \", test_scores_mean)\n",
    "    \n",
    "    # Plot the mean train and test scores\n",
    "    plt.plot(train_sizes, train_scores_mean, 'ro--', label=\"Training score\")\n",
    "    plt.plot(train_sizes, test_scores_mean, 'go--', label= \"CV score\")\n",
    "    \n",
    "    plt.fill_between(train_sizes, train_scores_mean - train_scores_std,\n",
    "                     train_scores_mean + train_scores_std, alpha=0.1,\n",
    "                     color=\"r\")\n",
    "    plt.fill_between(train_sizes, test_scores_mean - test_scores_std,\n",
    "                     test_scores_mean + test_scores_std, alpha=0.1, color=\"g\")\n",
    "        \n",
    "    plt.grid()\n",
    "    plt.legend(loc=\"best\")\n",
    "    return plt"
   ]
  },
  {
   "cell_type": "code",
   "execution_count": 79,
   "metadata": {},
   "outputs": [
    {
     "name": "stdout",
     "output_type": "stream",
     "text": [
      "Mean Training Scores:  [0.90708661 0.90849879 0.91001429 0.91209939 0.91408484]\n",
      "Mean Cross-validation Scores:  [0.88815047 0.90539185 0.90877743 0.91134796 0.91316614]\n"
     ]
    },
    {
     "data": {
      "image/png": "[encoded data removed]",
      "text/plain": [
       "<Figure size 640x480 with 1 Axes>"
      ]
     },
     "metadata": {},
     "output_type": "display_data"
    }
   ],
   "source": [
    "title = \"Learning Curves (Logistic Regression)\"\n",
    "\n",
    "# Cross validation with 100 iterations to get smoother mean test and train\n",
    "# score curves, each time with 20% data randomly selected as a validation set.\n",
    "cv = ShuffleSplit(n_splits=100, test_size=0.2, random_state=42)\n",
    "estimator = LogisticRegression()\n",
    "plot_learning_curve(estimator, title, X_train, y_train, ylim=(0.8, 1.01), cv=cv)\n",
    "plt.show()"
   ]
  },
  {
   "cell_type": "markdown",
   "metadata": {},
   "source": [
    "### Observations from the Logistic Regression classifier Learning Curve:\n",
    "\n",
    "The gap between the two curves converges as the number of training samples are increasing. Another way of interpreting this is that Ein tracks Eout as the score are converging with the number of training samples.\n",
    "\n",
    "This signifies that the **Logistic Regression classifier generalizing well on the dataset.**"
   ]
  },
  {
   "cell_type": "code",
   "execution_count": 80,
   "metadata": {},
   "outputs": [
    {
     "name": "stdout",
     "output_type": "stream",
     "text": [
      "Mean Training Scores:  [0.90354331 0.89946731 0.89845714 0.89923935 0.89959937]\n",
      "Mean Cross-validation Scores:  [0.89031348 0.89630094 0.89702194 0.89802508 0.8977116 ]\n"
     ]
    },
    {
     "data": {
      "image/png": "[encoded data removed]",
      "text/plain": [
       "<Figure size 640x480 with 1 Axes>"
      ]
     },
     "metadata": {},
     "output_type": "display_data"
    }
   ],
   "source": [
    "title = \"Learning Curves (Naive Bayes)\"\n",
    "\n",
    "# Cross validation with 100 iterations to get smoother mean test and train\n",
    "# score curves, each time with 20% data randomly selected as a validation set.\n",
    "cv = ShuffleSplit(n_splits=100, test_size=0.2, random_state=42)\n",
    "estimator = GaussianNB()\n",
    "plot_learning_curve(estimator, title, X_train, y_train, ylim=(0.8, 1.01), cv=cv)\n",
    "plt.show()"
   ]
  },
  {
   "cell_type": "markdown",
   "metadata": {},
   "source": [
    "### Observations from the Naive Bias classifier Learning Curve:\n",
    "The gap between the two curves converges as the number of training samples are increasing. Another way of interpreting this is that Ein tracks Eout as the score are converging with the number of training samples.\n",
    "\n",
    "This signifies that the **Naive Bias classifier is a simple model and generalizing well on the dataset.**"
   ]
  },
  {
   "cell_type": "code",
   "execution_count": 81,
   "metadata": {},
   "outputs": [
    {
     "name": "stdout",
     "output_type": "stream",
     "text": [
      "Mean Training Scores:  [0.98031496 0.96755448 0.96485714 0.9637931  0.9624509 ]\n",
      "Mean Cross-validation Scores:  [0.80094044 0.85956113 0.88087774 0.89811912 0.90031348]\n"
     ]
    },
    {
     "data": {
      "image/png": "[encoded data removed]",
      "text/plain": [
       "<Figure size 640x480 with 1 Axes>"
      ]
     },
     "metadata": {},
     "output_type": "display_data"
    }
   ],
   "source": [
    "title = \"Learning Curves (SVM, RBF kernel)\"\n",
    "\n",
    "# SVC is more expensive so we do a lower number of CV iterations:\n",
    "cv = ShuffleSplit(n_splits=10, test_size=0.2, random_state=42)\n",
    "estimator = SVC(kernel='rbf')\n",
    "plot_learning_curve(estimator, title, X_train, y_train, (0.5, 1.01), cv=cv)\n",
    "plt.show()"
   ]
  },
  {
   "cell_type": "markdown",
   "metadata": {},
   "source": [
    "### Observations from the SVC Learning Curve:\n",
    "\n",
    "- High Variance in SVC with RBF kernel: Overfitting curves\n",
    "\n",
    "The learning curve for Support vector machine with RBF kernel shows a **high score for Training data** but a **low score for Cross validation data**. \n",
    "\n",
    "This tells us that the **model is fitting too well on training data and have a very low In-sample error (Ein)**. Now, the **cross validation score is low which relates to high out-sample error (Eout)** and `Eout is not able to track Ein`.\n",
    "\n",
    "This is a case of **Low Bias and High variance problem** and the **SVC model is overfitting**  which makes the model difficult to Generalize on test data. \n",
    "\n",
    "This shows that a simpler model, like Gaussian Naive Bias, perform better for this dataset as compared to a complex SVC. Another option can be to *use more training samples* (to reduce the gap in in the plot to get convergence) and *hyper-parameter tuning* to make the model generalize better."
   ]
  },
  {
   "cell_type": "code",
   "execution_count": 82,
   "metadata": {},
   "outputs": [
    {
     "name": "stdout",
     "output_type": "stream",
     "text": [
      "Mean Training Scores:  [1.         0.97493947 0.95648571 0.95017241 0.94692852]\n",
      "Mean Cross-validation Scores:  [0.87824451 0.9138558  0.92097179 0.92338558 0.92689655]\n"
     ]
    },
    {
     "data": {
      "image/png": "[encoded data removed]",
      "text/plain": [
       "<Figure size 640x480 with 1 Axes>"
      ]
     },
     "metadata": {},
     "output_type": "display_data"
    }
   ],
   "source": [
    "from sklearn.ensemble import AdaBoostClassifier\n",
    "\n",
    "title = \"Learning Curves (AdaBoost Classifier)\"\n",
    "\n",
    "# Cross validation with 100 iterations to get smoother mean test and train\n",
    "# score curves, each time with 20% data randomly selected as a validation set.\n",
    "cv = ShuffleSplit(n_splits=100, test_size=0.2, random_state=42)\n",
    "estimator = AdaBoostClassifier()\n",
    "plot_learning_curve(estimator, title, X_train, y_train, ylim=(0.7, 1.01), cv=cv)\n",
    "plt.show()"
   ]
  },
  {
   "cell_type": "markdown",
   "metadata": {},
   "source": [
    "### Observations from the AdaBoost Classifier Learning Curve:\n",
    "\n",
    "When we have a small training set the training and cross-validation curves doesn't generalize well. But as training set grows the hypothesis shows signs to generalize better. This shows that the Ada-boost classifier is a complex model!"
   ]
  },
  {
   "cell_type": "markdown",
   "metadata": {},
   "source": [
    "# Conclusions:"
   ]
  },
  {
   "cell_type": "markdown",
   "metadata": {},
   "source": [
    "The VC dimension is measuring the 'effective' number of parameters. The more parameters a model has, the more diverse its hypothesis set is, which is reflected in a larger value of the growth function mH (N). The VC dimension measures these eﬀective parameters or 'degrees of freedom' that enable the model to express a diverse set of hypotheses. With enough data, each and every hypothesis in an infinite Hypothesis set with a finite VC dimension will generalize well from Ein to Eout. \n",
    "\n",
    "The **complexity of a classification algorithm is directly related to its VC dimension** and also links to the trade-off between bias and variance. **As the complexity increases, we transition from underfitting to overfitting.** \n",
    "\n",
    "Generally, **a model with a higher VC dimension will require more training data to properly train**, but will be able to identify more complex relationships in the data.\n",
    "\n",
    "**A low complexity model will have a high bias and low variance** while having a low expressive power leading to high bias, it is also very simple, so it has very predictable performance leading to a low variance. \n",
    "\n",
    "**A complex model will have a lower bias since it has more expressiveness** while having a higher variance as there are more parameters to be tuned based on the sample training data. \n",
    "\n",
    "\n",
    "**Adding complexity is good up until a certain point**, after which the classifier begins to overfit on the training data. We should aim to choose a classifier with a level of complexity that is just enough for the classification task or else we can end up in underfitting or overfitting the model.\n",
    "\n"
   ]
  },
  {
   "cell_type": "code",
   "execution_count": null,
   "metadata": {},
   "outputs": [],
   "source": []
  }
 ],
 "metadata": {
  "kernelspec": {
   "display_name": "Python 3",
   "language": "python",
   "name": "python3"
  },
  "language_info": {
   "codemirror_mode": {
    "name": "ipython",
    "version": 3
   },
   "file_extension": ".py",
   "mimetype": "text/x-python",
   "name": "python",
   "nbconvert_exporter": "python",
   "pygments_lexer": "ipython3",
   "version": "3.6.5"
  }
 },
 "nbformat": 4,
 "nbformat_minor": 2
}
