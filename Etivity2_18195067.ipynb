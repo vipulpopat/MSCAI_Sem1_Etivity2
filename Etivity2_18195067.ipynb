{
 "cells": [
  {
   "cell_type": "markdown",
   "metadata": {},
   "source": [
    "### Student ID: 18195067\n",
    "### Student Name: Abhijit Sinha"
   ]
  },
  {
   "cell_type": "code",
   "execution_count": 1,
   "metadata": {},
   "outputs": [],
   "source": [
    "# Importing Modules\n",
    "\n",
    "import pandas as pd\n",
    "import numpy as np\n",
    "import matplotlib.pyplot as plt\n",
    "%matplotlib inline\n",
    "\n",
    "import seaborn as sns\n",
    "\n",
    "\n",
    "from sklearn.preprocessing import Imputer\n",
    "from sklearn import preprocessing\n",
    "from sklearn.linear_model import LogisticRegression\n",
    "\n",
    "#from sklearn.neighbors import KNeighborsClassifier"
   ]
  },
  {
   "cell_type": "code",
   "execution_count": 2,
   "metadata": {},
   "outputs": [],
   "source": [
    "# Importing Dataset and using the first column as the index\n",
    "df = pd.read_csv(\"./bank_et2.csv\")\n",
    "\n",
    "# Remove the redundant column\n",
    "df.drop('Unnamed: 0', axis=1, inplace=True)"
   ]
  },
  {
   "cell_type": "code",
   "execution_count": 3,
   "metadata": {},
   "outputs": [
    {
     "data": {
      "text/html": [
       "<div>\n",
       "<style scoped>\n",
       "    .dataframe tbody tr th:only-of-type {\n",
       "        vertical-align: middle;\n",
       "    }\n",
       "\n",
       "    .dataframe tbody tr th {\n",
       "        vertical-align: top;\n",
       "    }\n",
       "\n",
       "    .dataframe thead th {\n",
       "        text-align: right;\n",
       "    }\n",
       "</style>\n",
       "<table border=\"1\" class=\"dataframe\">\n",
       "  <thead>\n",
       "    <tr style=\"text-align: right;\">\n",
       "      <th></th>\n",
       "      <th>age</th>\n",
       "      <th>job</th>\n",
       "      <th>marital</th>\n",
       "      <th>education</th>\n",
       "      <th>default</th>\n",
       "      <th>balance</th>\n",
       "      <th>ratio_bal_ln</th>\n",
       "      <th>ratio_ln_inc</th>\n",
       "      <th>housing</th>\n",
       "      <th>loan</th>\n",
       "      <th>contact</th>\n",
       "      <th>day</th>\n",
       "      <th>month</th>\n",
       "      <th>duration</th>\n",
       "      <th>campaign</th>\n",
       "      <th>pdays</th>\n",
       "      <th>previous</th>\n",
       "      <th>poutcome</th>\n",
       "      <th>subscribed</th>\n",
       "    </tr>\n",
       "  </thead>\n",
       "  <tbody>\n",
       "    <tr>\n",
       "      <th>0</th>\n",
       "      <td>32.0</td>\n",
       "      <td>technician</td>\n",
       "      <td>single</td>\n",
       "      <td>tertiary</td>\n",
       "      <td>no</td>\n",
       "      <td>392</td>\n",
       "      <td>1.300134</td>\n",
       "      <td>0.473895</td>\n",
       "      <td>yes</td>\n",
       "      <td>no</td>\n",
       "      <td>cellular</td>\n",
       "      <td>1</td>\n",
       "      <td>apr</td>\n",
       "      <td>957</td>\n",
       "      <td>2</td>\n",
       "      <td>131</td>\n",
       "      <td>2</td>\n",
       "      <td>failure</td>\n",
       "      <td>no</td>\n",
       "    </tr>\n",
       "    <tr>\n",
       "      <th>1</th>\n",
       "      <td>39.0</td>\n",
       "      <td>technician</td>\n",
       "      <td>divorced</td>\n",
       "      <td>secondary</td>\n",
       "      <td>no</td>\n",
       "      <td>688</td>\n",
       "      <td>-0.193701</td>\n",
       "      <td>0.237021</td>\n",
       "      <td>yes</td>\n",
       "      <td>yes</td>\n",
       "      <td>cellular</td>\n",
       "      <td>1</td>\n",
       "      <td>apr</td>\n",
       "      <td>233</td>\n",
       "      <td>2</td>\n",
       "      <td>133</td>\n",
       "      <td>1</td>\n",
       "      <td>failure</td>\n",
       "      <td>no</td>\n",
       "    </tr>\n",
       "    <tr>\n",
       "      <th>2</th>\n",
       "      <td>59.0</td>\n",
       "      <td>retired</td>\n",
       "      <td>married</td>\n",
       "      <td>secondary</td>\n",
       "      <td>no</td>\n",
       "      <td>1035</td>\n",
       "      <td>1.334266</td>\n",
       "      <td>0.121981</td>\n",
       "      <td>yes</td>\n",
       "      <td>yes</td>\n",
       "      <td>cellular</td>\n",
       "      <td>1</td>\n",
       "      <td>apr</td>\n",
       "      <td>126</td>\n",
       "      <td>2</td>\n",
       "      <td>239</td>\n",
       "      <td>1</td>\n",
       "      <td>failure</td>\n",
       "      <td>no</td>\n",
       "    </tr>\n",
       "    <tr>\n",
       "      <th>3</th>\n",
       "      <td>47.0</td>\n",
       "      <td>blue-collar</td>\n",
       "      <td>married</td>\n",
       "      <td>secondary</td>\n",
       "      <td>no</td>\n",
       "      <td>398</td>\n",
       "      <td>0.362286</td>\n",
       "      <td>1.251328</td>\n",
       "      <td>yes</td>\n",
       "      <td>yes</td>\n",
       "      <td>cellular</td>\n",
       "      <td>1</td>\n",
       "      <td>apr</td>\n",
       "      <td>274</td>\n",
       "      <td>1</td>\n",
       "      <td>238</td>\n",
       "      <td>2</td>\n",
       "      <td>failure</td>\n",
       "      <td>no</td>\n",
       "    </tr>\n",
       "    <tr>\n",
       "      <th>4</th>\n",
       "      <td>54.0</td>\n",
       "      <td>retired</td>\n",
       "      <td>married</td>\n",
       "      <td>secondary</td>\n",
       "      <td>no</td>\n",
       "      <td>1004</td>\n",
       "      <td>0.072075</td>\n",
       "      <td>-0.533738</td>\n",
       "      <td>yes</td>\n",
       "      <td>no</td>\n",
       "      <td>cellular</td>\n",
       "      <td>1</td>\n",
       "      <td>apr</td>\n",
       "      <td>479</td>\n",
       "      <td>1</td>\n",
       "      <td>307</td>\n",
       "      <td>1</td>\n",
       "      <td>failure</td>\n",
       "      <td>no</td>\n",
       "    </tr>\n",
       "  </tbody>\n",
       "</table>\n",
       "</div>"
      ],
      "text/plain": [
       "    age          job   marital  education default  balance  ratio_bal_ln  \\\n",
       "0  32.0   technician    single   tertiary      no      392      1.300134   \n",
       "1  39.0   technician  divorced  secondary      no      688     -0.193701   \n",
       "2  59.0      retired   married  secondary      no     1035      1.334266   \n",
       "3  47.0  blue-collar   married  secondary      no      398      0.362286   \n",
       "4  54.0      retired   married  secondary      no     1004      0.072075   \n",
       "\n",
       "   ratio_ln_inc housing loan   contact  day month  duration  campaign  pdays  \\\n",
       "0      0.473895     yes   no  cellular    1   apr       957         2    131   \n",
       "1      0.237021     yes  yes  cellular    1   apr       233         2    133   \n",
       "2      0.121981     yes  yes  cellular    1   apr       126         2    239   \n",
       "3      1.251328     yes  yes  cellular    1   apr       274         1    238   \n",
       "4     -0.533738     yes   no  cellular    1   apr       479         1    307   \n",
       "\n",
       "   previous poutcome subscribed  \n",
       "0         2  failure         no  \n",
       "1         1  failure         no  \n",
       "2         1  failure         no  \n",
       "3         2  failure         no  \n",
       "4         1  failure         no  "
      ]
     },
     "execution_count": 3,
     "metadata": {},
     "output_type": "execute_result"
    }
   ],
   "source": [
    "df.head(5)"
   ]
  },
  {
   "cell_type": "code",
   "execution_count": 4,
   "metadata": {
    "scrolled": true
   },
   "outputs": [
    {
     "data": {
      "text/html": [
       "<div>\n",
       "<style scoped>\n",
       "    .dataframe tbody tr th:only-of-type {\n",
       "        vertical-align: middle;\n",
       "    }\n",
       "\n",
       "    .dataframe tbody tr th {\n",
       "        vertical-align: top;\n",
       "    }\n",
       "\n",
       "    .dataframe thead th {\n",
       "        text-align: right;\n",
       "    }\n",
       "</style>\n",
       "<table border=\"1\" class=\"dataframe\">\n",
       "  <thead>\n",
       "    <tr style=\"text-align: right;\">\n",
       "      <th></th>\n",
       "      <th>age</th>\n",
       "      <th>balance</th>\n",
       "      <th>ratio_bal_ln</th>\n",
       "      <th>ratio_ln_inc</th>\n",
       "      <th>day</th>\n",
       "      <th>duration</th>\n",
       "      <th>campaign</th>\n",
       "      <th>pdays</th>\n",
       "      <th>previous</th>\n",
       "    </tr>\n",
       "  </thead>\n",
       "  <tbody>\n",
       "    <tr>\n",
       "      <th>count</th>\n",
       "      <td>1988.000000</td>\n",
       "      <td>2000.000000</td>\n",
       "      <td>2000.000000</td>\n",
       "      <td>2000.000000</td>\n",
       "      <td>2000.000000</td>\n",
       "      <td>2000.000000</td>\n",
       "      <td>2000.000000</td>\n",
       "      <td>2000.000000</td>\n",
       "      <td>2000.000000</td>\n",
       "    </tr>\n",
       "    <tr>\n",
       "      <th>mean</th>\n",
       "      <td>41.753018</td>\n",
       "      <td>1413.663500</td>\n",
       "      <td>0.241951</td>\n",
       "      <td>0.485030</td>\n",
       "      <td>13.851500</td>\n",
       "      <td>292.020500</td>\n",
       "      <td>1.909500</td>\n",
       "      <td>167.896000</td>\n",
       "      <td>2.561500</td>\n",
       "    </tr>\n",
       "    <tr>\n",
       "      <th>std</th>\n",
       "      <td>12.724358</td>\n",
       "      <td>3131.224213</td>\n",
       "      <td>0.821604</td>\n",
       "      <td>1.075543</td>\n",
       "      <td>9.712189</td>\n",
       "      <td>221.557295</td>\n",
       "      <td>1.378862</td>\n",
       "      <td>131.754126</td>\n",
       "      <td>3.400735</td>\n",
       "    </tr>\n",
       "    <tr>\n",
       "      <th>min</th>\n",
       "      <td>18.000000</td>\n",
       "      <td>-980.000000</td>\n",
       "      <td>-2.632068</td>\n",
       "      <td>-2.851405</td>\n",
       "      <td>1.000000</td>\n",
       "      <td>7.000000</td>\n",
       "      <td>1.000000</td>\n",
       "      <td>-1.000000</td>\n",
       "      <td>0.000000</td>\n",
       "    </tr>\n",
       "    <tr>\n",
       "      <th>25%</th>\n",
       "      <td>32.000000</td>\n",
       "      <td>201.500000</td>\n",
       "      <td>-0.308018</td>\n",
       "      <td>-0.274181</td>\n",
       "      <td>5.000000</td>\n",
       "      <td>146.000000</td>\n",
       "      <td>1.000000</td>\n",
       "      <td>75.750000</td>\n",
       "      <td>1.000000</td>\n",
       "    </tr>\n",
       "    <tr>\n",
       "      <th>50%</th>\n",
       "      <td>38.000000</td>\n",
       "      <td>551.000000</td>\n",
       "      <td>0.224099</td>\n",
       "      <td>0.487082</td>\n",
       "      <td>12.000000</td>\n",
       "      <td>236.000000</td>\n",
       "      <td>1.000000</td>\n",
       "      <td>182.000000</td>\n",
       "      <td>2.000000</td>\n",
       "    </tr>\n",
       "    <tr>\n",
       "      <th>75%</th>\n",
       "      <td>50.000000</td>\n",
       "      <td>1644.500000</td>\n",
       "      <td>0.806315</td>\n",
       "      <td>1.211896</td>\n",
       "      <td>23.000000</td>\n",
       "      <td>379.000000</td>\n",
       "      <td>2.000000</td>\n",
       "      <td>251.000000</td>\n",
       "      <td>3.000000</td>\n",
       "    </tr>\n",
       "    <tr>\n",
       "      <th>max</th>\n",
       "      <td>93.000000</td>\n",
       "      <td>81204.000000</td>\n",
       "      <td>2.961979</td>\n",
       "      <td>4.046914</td>\n",
       "      <td>31.000000</td>\n",
       "      <td>1823.000000</td>\n",
       "      <td>11.000000</td>\n",
       "      <td>854.000000</td>\n",
       "      <td>55.000000</td>\n",
       "    </tr>\n",
       "  </tbody>\n",
       "</table>\n",
       "</div>"
      ],
      "text/plain": [
       "               age       balance  ratio_bal_ln  ratio_ln_inc          day  \\\n",
       "count  1988.000000   2000.000000   2000.000000   2000.000000  2000.000000   \n",
       "mean     41.753018   1413.663500      0.241951      0.485030    13.851500   \n",
       "std      12.724358   3131.224213      0.821604      1.075543     9.712189   \n",
       "min      18.000000   -980.000000     -2.632068     -2.851405     1.000000   \n",
       "25%      32.000000    201.500000     -0.308018     -0.274181     5.000000   \n",
       "50%      38.000000    551.000000      0.224099      0.487082    12.000000   \n",
       "75%      50.000000   1644.500000      0.806315      1.211896    23.000000   \n",
       "max      93.000000  81204.000000      2.961979      4.046914    31.000000   \n",
       "\n",
       "          duration     campaign        pdays     previous  \n",
       "count  2000.000000  2000.000000  2000.000000  2000.000000  \n",
       "mean    292.020500     1.909500   167.896000     2.561500  \n",
       "std     221.557295     1.378862   131.754126     3.400735  \n",
       "min       7.000000     1.000000    -1.000000     0.000000  \n",
       "25%     146.000000     1.000000    75.750000     1.000000  \n",
       "50%     236.000000     1.000000   182.000000     2.000000  \n",
       "75%     379.000000     2.000000   251.000000     3.000000  \n",
       "max    1823.000000    11.000000   854.000000    55.000000  "
      ]
     },
     "execution_count": 4,
     "metadata": {},
     "output_type": "execute_result"
    }
   ],
   "source": [
    "df.describe()"
   ]
  },
  {
   "cell_type": "code",
   "execution_count": 5,
   "metadata": {},
   "outputs": [
    {
     "data": {
      "text/html": [
       "<div>\n",
       "<style scoped>\n",
       "    .dataframe tbody tr th:only-of-type {\n",
       "        vertical-align: middle;\n",
       "    }\n",
       "\n",
       "    .dataframe tbody tr th {\n",
       "        vertical-align: top;\n",
       "    }\n",
       "\n",
       "    .dataframe thead th {\n",
       "        text-align: right;\n",
       "    }\n",
       "</style>\n",
       "<table border=\"1\" class=\"dataframe\">\n",
       "  <thead>\n",
       "    <tr style=\"text-align: right;\">\n",
       "      <th></th>\n",
       "      <th>job</th>\n",
       "      <th>marital</th>\n",
       "      <th>education</th>\n",
       "      <th>default</th>\n",
       "      <th>housing</th>\n",
       "      <th>loan</th>\n",
       "      <th>contact</th>\n",
       "      <th>month</th>\n",
       "      <th>poutcome</th>\n",
       "      <th>subscribed</th>\n",
       "    </tr>\n",
       "  </thead>\n",
       "  <tbody>\n",
       "    <tr>\n",
       "      <th>count</th>\n",
       "      <td>1990</td>\n",
       "      <td>2000</td>\n",
       "      <td>1896</td>\n",
       "      <td>2000</td>\n",
       "      <td>2000</td>\n",
       "      <td>2000</td>\n",
       "      <td>1809</td>\n",
       "      <td>2000</td>\n",
       "      <td>1546</td>\n",
       "      <td>2000</td>\n",
       "    </tr>\n",
       "    <tr>\n",
       "      <th>unique</th>\n",
       "      <td>11</td>\n",
       "      <td>3</td>\n",
       "      <td>3</td>\n",
       "      <td>2</td>\n",
       "      <td>2</td>\n",
       "      <td>2</td>\n",
       "      <td>2</td>\n",
       "      <td>12</td>\n",
       "      <td>3</td>\n",
       "      <td>2</td>\n",
       "    </tr>\n",
       "    <tr>\n",
       "      <th>top</th>\n",
       "      <td>management</td>\n",
       "      <td>married</td>\n",
       "      <td>secondary</td>\n",
       "      <td>no</td>\n",
       "      <td>no</td>\n",
       "      <td>no</td>\n",
       "      <td>cellular</td>\n",
       "      <td>feb</td>\n",
       "      <td>failure</td>\n",
       "      <td>no</td>\n",
       "    </tr>\n",
       "    <tr>\n",
       "      <th>freq</th>\n",
       "      <td>461</td>\n",
       "      <td>1111</td>\n",
       "      <td>995</td>\n",
       "      <td>1985</td>\n",
       "      <td>1037</td>\n",
       "      <td>1750</td>\n",
       "      <td>1663</td>\n",
       "      <td>404</td>\n",
       "      <td>955</td>\n",
       "      <td>1000</td>\n",
       "    </tr>\n",
       "  </tbody>\n",
       "</table>\n",
       "</div>"
      ],
      "text/plain": [
       "               job  marital  education default housing  loan   contact month  \\\n",
       "count         1990     2000       1896    2000    2000  2000      1809  2000   \n",
       "unique          11        3          3       2       2     2         2    12   \n",
       "top     management  married  secondary      no      no    no  cellular   feb   \n",
       "freq           461     1111        995    1985    1037  1750      1663   404   \n",
       "\n",
       "       poutcome subscribed  \n",
       "count      1546       2000  \n",
       "unique        3          2  \n",
       "top     failure         no  \n",
       "freq        955       1000  "
      ]
     },
     "execution_count": 5,
     "metadata": {},
     "output_type": "execute_result"
    }
   ],
   "source": [
    "# Check the summary of categorical attributes\n",
    "df.describe(include=np.object)"
   ]
  },
  {
   "cell_type": "markdown",
   "metadata": {},
   "source": [
    "## Task 1 (CS5062)\n",
    "Fill-in the missing values in the bank dataset. Use the EDA techniques from E-tivity 1 to decide how to fill in missing values. In your notebook, explain shortly (max 250 words) the decisions you have taken."
   ]
  },
  {
   "cell_type": "code",
   "execution_count": 6,
   "metadata": {},
   "outputs": [
    {
     "data": {
      "text/plain": [
       "age              12\n",
       "job              10\n",
       "marital           0\n",
       "education       104\n",
       "default           0\n",
       "balance           0\n",
       "ratio_bal_ln      0\n",
       "ratio_ln_inc      0\n",
       "housing           0\n",
       "loan              0\n",
       "contact         191\n",
       "day               0\n",
       "month             0\n",
       "duration          0\n",
       "campaign          0\n",
       "pdays             0\n",
       "previous          0\n",
       "poutcome        454\n",
       "subscribed        0\n",
       "dtype: int64"
      ]
     },
     "execution_count": 6,
     "metadata": {},
     "output_type": "execute_result"
    }
   ],
   "source": [
    "# Check for null values\n",
    "df.isnull().sum() #.sort_values(ascending=False)"
   ]
  },
  {
   "cell_type": "markdown",
   "metadata": {},
   "source": [
    "#### There is missing data in the following features:\n",
    "    - age      : 12 missing\n",
    "    - job      : 10 missing\n",
    "    - education: 104 missing\n",
    "    - contact  : 191 missing\n",
    "    - poutcome : 454 missing"
   ]
  },
  {
   "cell_type": "markdown",
   "metadata": {},
   "source": [
    "### Handling missing values for AGE"
   ]
  },
  {
   "cell_type": "code",
   "execution_count": 7,
   "metadata": {},
   "outputs": [
    {
     "data": {
      "text/plain": [
       "count    1988.000000\n",
       "mean       41.753018\n",
       "std        12.724358\n",
       "min        18.000000\n",
       "25%        32.000000\n",
       "50%        38.000000\n",
       "75%        50.000000\n",
       "max        93.000000\n",
       "Name: age, dtype: float64"
      ]
     },
     "execution_count": 7,
     "metadata": {},
     "output_type": "execute_result"
    }
   ],
   "source": [
    "df['age'].describe()"
   ]
  },
  {
   "cell_type": "code",
   "execution_count": 8,
   "metadata": {
    "scrolled": false
   },
   "outputs": [
    {
     "data": {
      "text/html": [
       "<div>\n",
       "<style scoped>\n",
       "    .dataframe tbody tr th:only-of-type {\n",
       "        vertical-align: middle;\n",
       "    }\n",
       "\n",
       "    .dataframe tbody tr th {\n",
       "        vertical-align: top;\n",
       "    }\n",
       "\n",
       "    .dataframe thead th {\n",
       "        text-align: right;\n",
       "    }\n",
       "</style>\n",
       "<table border=\"1\" class=\"dataframe\">\n",
       "  <thead>\n",
       "    <tr style=\"text-align: right;\">\n",
       "      <th></th>\n",
       "      <th>age</th>\n",
       "      <th>job</th>\n",
       "      <th>marital</th>\n",
       "      <th>education</th>\n",
       "      <th>default</th>\n",
       "      <th>balance</th>\n",
       "      <th>ratio_bal_ln</th>\n",
       "      <th>ratio_ln_inc</th>\n",
       "      <th>housing</th>\n",
       "      <th>loan</th>\n",
       "      <th>contact</th>\n",
       "      <th>day</th>\n",
       "      <th>month</th>\n",
       "      <th>duration</th>\n",
       "      <th>campaign</th>\n",
       "      <th>pdays</th>\n",
       "      <th>previous</th>\n",
       "      <th>poutcome</th>\n",
       "      <th>subscribed</th>\n",
       "    </tr>\n",
       "  </thead>\n",
       "  <tbody>\n",
       "    <tr>\n",
       "      <th>456</th>\n",
       "      <td>NaN</td>\n",
       "      <td>self-employed</td>\n",
       "      <td>married</td>\n",
       "      <td>tertiary</td>\n",
       "      <td>no</td>\n",
       "      <td>917</td>\n",
       "      <td>0.311161</td>\n",
       "      <td>-0.818688</td>\n",
       "      <td>no</td>\n",
       "      <td>no</td>\n",
       "      <td>cellular</td>\n",
       "      <td>6</td>\n",
       "      <td>feb</td>\n",
       "      <td>518</td>\n",
       "      <td>3</td>\n",
       "      <td>212</td>\n",
       "      <td>5</td>\n",
       "      <td>failure</td>\n",
       "      <td>no</td>\n",
       "    </tr>\n",
       "    <tr>\n",
       "      <th>472</th>\n",
       "      <td>NaN</td>\n",
       "      <td>blue-collar</td>\n",
       "      <td>married</td>\n",
       "      <td>primary</td>\n",
       "      <td>no</td>\n",
       "      <td>474</td>\n",
       "      <td>0.729179</td>\n",
       "      <td>0.350980</td>\n",
       "      <td>yes</td>\n",
       "      <td>yes</td>\n",
       "      <td>telephone</td>\n",
       "      <td>9</td>\n",
       "      <td>feb</td>\n",
       "      <td>152</td>\n",
       "      <td>3</td>\n",
       "      <td>221</td>\n",
       "      <td>1</td>\n",
       "      <td>failure</td>\n",
       "      <td>no</td>\n",
       "    </tr>\n",
       "    <tr>\n",
       "      <th>526</th>\n",
       "      <td>NaN</td>\n",
       "      <td>services</td>\n",
       "      <td>married</td>\n",
       "      <td>secondary</td>\n",
       "      <td>no</td>\n",
       "      <td>2478</td>\n",
       "      <td>0.469463</td>\n",
       "      <td>0.180632</td>\n",
       "      <td>yes</td>\n",
       "      <td>no</td>\n",
       "      <td>cellular</td>\n",
       "      <td>28</td>\n",
       "      <td>jan</td>\n",
       "      <td>347</td>\n",
       "      <td>1</td>\n",
       "      <td>230</td>\n",
       "      <td>1</td>\n",
       "      <td>failure</td>\n",
       "      <td>no</td>\n",
       "    </tr>\n",
       "    <tr>\n",
       "      <th>595</th>\n",
       "      <td>NaN</td>\n",
       "      <td>management</td>\n",
       "      <td>married</td>\n",
       "      <td>tertiary</td>\n",
       "      <td>no</td>\n",
       "      <td>1857</td>\n",
       "      <td>-0.137751</td>\n",
       "      <td>0.524516</td>\n",
       "      <td>no</td>\n",
       "      <td>no</td>\n",
       "      <td>cellular</td>\n",
       "      <td>29</td>\n",
       "      <td>jan</td>\n",
       "      <td>386</td>\n",
       "      <td>1</td>\n",
       "      <td>168</td>\n",
       "      <td>4</td>\n",
       "      <td>failure</td>\n",
       "      <td>no</td>\n",
       "    </tr>\n",
       "    <tr>\n",
       "      <th>597</th>\n",
       "      <td>NaN</td>\n",
       "      <td>self-employed</td>\n",
       "      <td>married</td>\n",
       "      <td>secondary</td>\n",
       "      <td>yes</td>\n",
       "      <td>254</td>\n",
       "      <td>0.800582</td>\n",
       "      <td>0.370658</td>\n",
       "      <td>yes</td>\n",
       "      <td>yes</td>\n",
       "      <td>cellular</td>\n",
       "      <td>29</td>\n",
       "      <td>jan</td>\n",
       "      <td>194</td>\n",
       "      <td>1</td>\n",
       "      <td>188</td>\n",
       "      <td>1</td>\n",
       "      <td>failure</td>\n",
       "      <td>no</td>\n",
       "    </tr>\n",
       "    <tr>\n",
       "      <th>601</th>\n",
       "      <td>NaN</td>\n",
       "      <td>admin.</td>\n",
       "      <td>single</td>\n",
       "      <td>secondary</td>\n",
       "      <td>no</td>\n",
       "      <td>111</td>\n",
       "      <td>0.269082</td>\n",
       "      <td>0.060002</td>\n",
       "      <td>yes</td>\n",
       "      <td>no</td>\n",
       "      <td>cellular</td>\n",
       "      <td>29</td>\n",
       "      <td>jan</td>\n",
       "      <td>55</td>\n",
       "      <td>1</td>\n",
       "      <td>195</td>\n",
       "      <td>3</td>\n",
       "      <td>failure</td>\n",
       "      <td>no</td>\n",
       "    </tr>\n",
       "    <tr>\n",
       "      <th>605</th>\n",
       "      <td>NaN</td>\n",
       "      <td>management</td>\n",
       "      <td>married</td>\n",
       "      <td>tertiary</td>\n",
       "      <td>no</td>\n",
       "      <td>1330</td>\n",
       "      <td>1.007376</td>\n",
       "      <td>-0.459770</td>\n",
       "      <td>yes</td>\n",
       "      <td>no</td>\n",
       "      <td>cellular</td>\n",
       "      <td>29</td>\n",
       "      <td>jan</td>\n",
       "      <td>41</td>\n",
       "      <td>2</td>\n",
       "      <td>261</td>\n",
       "      <td>1</td>\n",
       "      <td>failure</td>\n",
       "      <td>no</td>\n",
       "    </tr>\n",
       "    <tr>\n",
       "      <th>744</th>\n",
       "      <td>NaN</td>\n",
       "      <td>management</td>\n",
       "      <td>married</td>\n",
       "      <td>tertiary</td>\n",
       "      <td>no</td>\n",
       "      <td>-61</td>\n",
       "      <td>0.638129</td>\n",
       "      <td>-1.001420</td>\n",
       "      <td>no</td>\n",
       "      <td>no</td>\n",
       "      <td>cellular</td>\n",
       "      <td>30</td>\n",
       "      <td>jan</td>\n",
       "      <td>90</td>\n",
       "      <td>5</td>\n",
       "      <td>172</td>\n",
       "      <td>1</td>\n",
       "      <td>failure</td>\n",
       "      <td>no</td>\n",
       "    </tr>\n",
       "    <tr>\n",
       "      <th>795</th>\n",
       "      <td>NaN</td>\n",
       "      <td>technician</td>\n",
       "      <td>single</td>\n",
       "      <td>tertiary</td>\n",
       "      <td>no</td>\n",
       "      <td>992</td>\n",
       "      <td>0.901646</td>\n",
       "      <td>-0.098458</td>\n",
       "      <td>yes</td>\n",
       "      <td>no</td>\n",
       "      <td>cellular</td>\n",
       "      <td>4</td>\n",
       "      <td>may</td>\n",
       "      <td>301</td>\n",
       "      <td>1</td>\n",
       "      <td>88</td>\n",
       "      <td>2</td>\n",
       "      <td>success</td>\n",
       "      <td>no</td>\n",
       "    </tr>\n",
       "    <tr>\n",
       "      <th>1171</th>\n",
       "      <td>NaN</td>\n",
       "      <td>retired</td>\n",
       "      <td>married</td>\n",
       "      <td>tertiary</td>\n",
       "      <td>no</td>\n",
       "      <td>2812</td>\n",
       "      <td>-0.336489</td>\n",
       "      <td>2.210606</td>\n",
       "      <td>no</td>\n",
       "      <td>no</td>\n",
       "      <td>cellular</td>\n",
       "      <td>3</td>\n",
       "      <td>aug</td>\n",
       "      <td>392</td>\n",
       "      <td>4</td>\n",
       "      <td>181</td>\n",
       "      <td>3</td>\n",
       "      <td>success</td>\n",
       "      <td>yes</td>\n",
       "    </tr>\n",
       "    <tr>\n",
       "      <th>1232</th>\n",
       "      <td>NaN</td>\n",
       "      <td>student</td>\n",
       "      <td>single</td>\n",
       "      <td>secondary</td>\n",
       "      <td>no</td>\n",
       "      <td>431</td>\n",
       "      <td>-1.980588</td>\n",
       "      <td>0.402762</td>\n",
       "      <td>no</td>\n",
       "      <td>no</td>\n",
       "      <td>cellular</td>\n",
       "      <td>19</td>\n",
       "      <td>aug</td>\n",
       "      <td>418</td>\n",
       "      <td>11</td>\n",
       "      <td>185</td>\n",
       "      <td>5</td>\n",
       "      <td>success</td>\n",
       "      <td>yes</td>\n",
       "    </tr>\n",
       "    <tr>\n",
       "      <th>1408</th>\n",
       "      <td>NaN</td>\n",
       "      <td>self-employed</td>\n",
       "      <td>single</td>\n",
       "      <td>tertiary</td>\n",
       "      <td>no</td>\n",
       "      <td>251</td>\n",
       "      <td>-0.265117</td>\n",
       "      <td>1.112134</td>\n",
       "      <td>no</td>\n",
       "      <td>no</td>\n",
       "      <td>cellular</td>\n",
       "      <td>12</td>\n",
       "      <td>jul</td>\n",
       "      <td>537</td>\n",
       "      <td>1</td>\n",
       "      <td>-1</td>\n",
       "      <td>0</td>\n",
       "      <td>NaN</td>\n",
       "      <td>yes</td>\n",
       "    </tr>\n",
       "  </tbody>\n",
       "</table>\n",
       "</div>"
      ],
      "text/plain": [
       "      age            job  marital  education default  balance  ratio_bal_ln  \\\n",
       "456   NaN  self-employed  married   tertiary      no      917      0.311161   \n",
       "472   NaN    blue-collar  married    primary      no      474      0.729179   \n",
       "526   NaN       services  married  secondary      no     2478      0.469463   \n",
       "595   NaN     management  married   tertiary      no     1857     -0.137751   \n",
       "597   NaN  self-employed  married  secondary     yes      254      0.800582   \n",
       "601   NaN         admin.   single  secondary      no      111      0.269082   \n",
       "605   NaN     management  married   tertiary      no     1330      1.007376   \n",
       "744   NaN     management  married   tertiary      no      -61      0.638129   \n",
       "795   NaN     technician   single   tertiary      no      992      0.901646   \n",
       "1171  NaN        retired  married   tertiary      no     2812     -0.336489   \n",
       "1232  NaN        student   single  secondary      no      431     -1.980588   \n",
       "1408  NaN  self-employed   single   tertiary      no      251     -0.265117   \n",
       "\n",
       "      ratio_ln_inc housing loan    contact  day month  duration  campaign  \\\n",
       "456      -0.818688      no   no   cellular    6   feb       518         3   \n",
       "472       0.350980     yes  yes  telephone    9   feb       152         3   \n",
       "526       0.180632     yes   no   cellular   28   jan       347         1   \n",
       "595       0.524516      no   no   cellular   29   jan       386         1   \n",
       "597       0.370658     yes  yes   cellular   29   jan       194         1   \n",
       "601       0.060002     yes   no   cellular   29   jan        55         1   \n",
       "605      -0.459770     yes   no   cellular   29   jan        41         2   \n",
       "744      -1.001420      no   no   cellular   30   jan        90         5   \n",
       "795      -0.098458     yes   no   cellular    4   may       301         1   \n",
       "1171      2.210606      no   no   cellular    3   aug       392         4   \n",
       "1232      0.402762      no   no   cellular   19   aug       418        11   \n",
       "1408      1.112134      no   no   cellular   12   jul       537         1   \n",
       "\n",
       "      pdays  previous poutcome subscribed  \n",
       "456     212         5  failure         no  \n",
       "472     221         1  failure         no  \n",
       "526     230         1  failure         no  \n",
       "595     168         4  failure         no  \n",
       "597     188         1  failure         no  \n",
       "601     195         3  failure         no  \n",
       "605     261         1  failure         no  \n",
       "744     172         1  failure         no  \n",
       "795      88         2  success         no  \n",
       "1171    181         3  success        yes  \n",
       "1232    185         5  success        yes  \n",
       "1408     -1         0      NaN        yes  "
      ]
     },
     "execution_count": 8,
     "metadata": {},
     "output_type": "execute_result"
    }
   ],
   "source": [
    "# Lets analyse the data samples with missing age values\n",
    "df[df['age'].isnull()]"
   ]
  },
  {
   "cell_type": "markdown",
   "metadata": {},
   "source": [
    "- We can see that the customers who's age is missing are either `married or single` and none of the divorced customers age is missing.\n",
    "\n",
    "##### Attribute \"age\" can be related to the attributes \"job\" and \"marital\" status. "
   ]
  },
  {
   "cell_type": "code",
   "execution_count": 9,
   "metadata": {},
   "outputs": [
    {
     "data": {
      "image/png": "[encoded data removed]",
      "text/plain": [
       "<Figure size 1296x576 with 1 Axes>"
      ]
     },
     "metadata": {},
     "output_type": "display_data"
    }
   ],
   "source": [
    "df.boxplot(column='age', by=['job', 'marital'], rot=45, figsize=(18,8))\n",
    "\n",
    "plt.title(\"Boxplot of Age grouped by job and marital\")\n",
    "plt.ylabel(\"age\")\n",
    "# get rid of the automatic 'Boxplot grouped by group_by_column_name' title\n",
    "plt.suptitle(\"\")\n",
    "plt.show()"
   ]
  },
  {
   "cell_type": "markdown",
   "metadata": {},
   "source": [
    "We can see some variation in the median of `age` for each group and these medians can be used for imputing the missing values in each group after ensuring there is no missing values for `job` and `marital` attributes.\n",
    "\n",
    "We know that there is **no missing values for marital status** but **attribute \"job\" has some missing values** which needs to be handled\n",
    "\n",
    "### Handling missing value for attribute JOB"
   ]
  },
  {
   "cell_type": "code",
   "execution_count": 10,
   "metadata": {},
   "outputs": [
    {
     "data": {
      "text/plain": [
       "management       461\n",
       "technician       348\n",
       "blue-collar      298\n",
       "admin.           247\n",
       "services         165\n",
       "retired          162\n",
       "student           96\n",
       "unemployed        69\n",
       "self-employed     64\n",
       "entrepreneur      45\n",
       "housemaid         35\n",
       "Name: job, dtype: int64"
      ]
     },
     "execution_count": 10,
     "metadata": {},
     "output_type": "execute_result"
    }
   ],
   "source": [
    "df['job'].value_counts()"
   ]
  },
  {
   "cell_type": "code",
   "execution_count": 11,
   "metadata": {
    "scrolled": true
   },
   "outputs": [
    {
     "data": {
      "text/html": [
       "<div>\n",
       "<style scoped>\n",
       "    .dataframe tbody tr th:only-of-type {\n",
       "        vertical-align: middle;\n",
       "    }\n",
       "\n",
       "    .dataframe tbody tr th {\n",
       "        vertical-align: top;\n",
       "    }\n",
       "\n",
       "    .dataframe thead th {\n",
       "        text-align: right;\n",
       "    }\n",
       "</style>\n",
       "<table border=\"1\" class=\"dataframe\">\n",
       "  <thead>\n",
       "    <tr style=\"text-align: right;\">\n",
       "      <th></th>\n",
       "      <th>age</th>\n",
       "      <th>job</th>\n",
       "      <th>marital</th>\n",
       "      <th>education</th>\n",
       "      <th>default</th>\n",
       "      <th>balance</th>\n",
       "      <th>ratio_bal_ln</th>\n",
       "      <th>ratio_ln_inc</th>\n",
       "      <th>housing</th>\n",
       "      <th>loan</th>\n",
       "      <th>contact</th>\n",
       "      <th>day</th>\n",
       "      <th>month</th>\n",
       "      <th>duration</th>\n",
       "      <th>campaign</th>\n",
       "      <th>pdays</th>\n",
       "      <th>previous</th>\n",
       "      <th>poutcome</th>\n",
       "      <th>subscribed</th>\n",
       "    </tr>\n",
       "  </thead>\n",
       "  <tbody>\n",
       "    <tr>\n",
       "      <th>255</th>\n",
       "      <td>42.0</td>\n",
       "      <td>NaN</td>\n",
       "      <td>single</td>\n",
       "      <td>primary</td>\n",
       "      <td>no</td>\n",
       "      <td>2398</td>\n",
       "      <td>-1.418888</td>\n",
       "      <td>1.809977</td>\n",
       "      <td>yes</td>\n",
       "      <td>no</td>\n",
       "      <td>cellular</td>\n",
       "      <td>3</td>\n",
       "      <td>feb</td>\n",
       "      <td>144</td>\n",
       "      <td>2</td>\n",
       "      <td>271</td>\n",
       "      <td>2</td>\n",
       "      <td>failure</td>\n",
       "      <td>no</td>\n",
       "    </tr>\n",
       "    <tr>\n",
       "      <th>257</th>\n",
       "      <td>46.0</td>\n",
       "      <td>NaN</td>\n",
       "      <td>married</td>\n",
       "      <td>NaN</td>\n",
       "      <td>no</td>\n",
       "      <td>677</td>\n",
       "      <td>-0.399374</td>\n",
       "      <td>0.150261</td>\n",
       "      <td>no</td>\n",
       "      <td>no</td>\n",
       "      <td>cellular</td>\n",
       "      <td>3</td>\n",
       "      <td>feb</td>\n",
       "      <td>425</td>\n",
       "      <td>1</td>\n",
       "      <td>82</td>\n",
       "      <td>1</td>\n",
       "      <td>failure</td>\n",
       "      <td>no</td>\n",
       "    </tr>\n",
       "    <tr>\n",
       "      <th>831</th>\n",
       "      <td>41.0</td>\n",
       "      <td>NaN</td>\n",
       "      <td>single</td>\n",
       "      <td>primary</td>\n",
       "      <td>no</td>\n",
       "      <td>2398</td>\n",
       "      <td>-0.243804</td>\n",
       "      <td>-0.685437</td>\n",
       "      <td>yes</td>\n",
       "      <td>no</td>\n",
       "      <td>NaN</td>\n",
       "      <td>8</td>\n",
       "      <td>may</td>\n",
       "      <td>287</td>\n",
       "      <td>2</td>\n",
       "      <td>-1</td>\n",
       "      <td>0</td>\n",
       "      <td>NaN</td>\n",
       "      <td>no</td>\n",
       "    </tr>\n",
       "    <tr>\n",
       "      <th>1223</th>\n",
       "      <td>55.0</td>\n",
       "      <td>NaN</td>\n",
       "      <td>married</td>\n",
       "      <td>secondary</td>\n",
       "      <td>no</td>\n",
       "      <td>2206</td>\n",
       "      <td>-1.134511</td>\n",
       "      <td>0.861389</td>\n",
       "      <td>no</td>\n",
       "      <td>no</td>\n",
       "      <td>cellular</td>\n",
       "      <td>12</td>\n",
       "      <td>aug</td>\n",
       "      <td>265</td>\n",
       "      <td>1</td>\n",
       "      <td>91</td>\n",
       "      <td>5</td>\n",
       "      <td>success</td>\n",
       "      <td>yes</td>\n",
       "    </tr>\n",
       "    <tr>\n",
       "      <th>1281</th>\n",
       "      <td>50.0</td>\n",
       "      <td>NaN</td>\n",
       "      <td>married</td>\n",
       "      <td>NaN</td>\n",
       "      <td>no</td>\n",
       "      <td>558</td>\n",
       "      <td>-0.455001</td>\n",
       "      <td>1.595412</td>\n",
       "      <td>no</td>\n",
       "      <td>no</td>\n",
       "      <td>cellular</td>\n",
       "      <td>9</td>\n",
       "      <td>jul</td>\n",
       "      <td>464</td>\n",
       "      <td>1</td>\n",
       "      <td>683</td>\n",
       "      <td>6</td>\n",
       "      <td>failure</td>\n",
       "      <td>yes</td>\n",
       "    </tr>\n",
       "    <tr>\n",
       "      <th>1669</th>\n",
       "      <td>54.0</td>\n",
       "      <td>NaN</td>\n",
       "      <td>married</td>\n",
       "      <td>secondary</td>\n",
       "      <td>no</td>\n",
       "      <td>2206</td>\n",
       "      <td>-0.575645</td>\n",
       "      <td>-0.242814</td>\n",
       "      <td>no</td>\n",
       "      <td>no</td>\n",
       "      <td>cellular</td>\n",
       "      <td>13</td>\n",
       "      <td>may</td>\n",
       "      <td>260</td>\n",
       "      <td>1</td>\n",
       "      <td>91</td>\n",
       "      <td>4</td>\n",
       "      <td>success</td>\n",
       "      <td>yes</td>\n",
       "    </tr>\n",
       "    <tr>\n",
       "      <th>1711</th>\n",
       "      <td>77.0</td>\n",
       "      <td>NaN</td>\n",
       "      <td>married</td>\n",
       "      <td>NaN</td>\n",
       "      <td>no</td>\n",
       "      <td>397</td>\n",
       "      <td>-0.871514</td>\n",
       "      <td>0.134782</td>\n",
       "      <td>no</td>\n",
       "      <td>no</td>\n",
       "      <td>telephone</td>\n",
       "      <td>7</td>\n",
       "      <td>may</td>\n",
       "      <td>300</td>\n",
       "      <td>3</td>\n",
       "      <td>-1</td>\n",
       "      <td>0</td>\n",
       "      <td>NaN</td>\n",
       "      <td>yes</td>\n",
       "    </tr>\n",
       "    <tr>\n",
       "      <th>1801</th>\n",
       "      <td>28.0</td>\n",
       "      <td>NaN</td>\n",
       "      <td>single</td>\n",
       "      <td>NaN</td>\n",
       "      <td>no</td>\n",
       "      <td>326</td>\n",
       "      <td>0.298961</td>\n",
       "      <td>1.653248</td>\n",
       "      <td>no</td>\n",
       "      <td>no</td>\n",
       "      <td>cellular</td>\n",
       "      <td>11</td>\n",
       "      <td>oct</td>\n",
       "      <td>450</td>\n",
       "      <td>1</td>\n",
       "      <td>231</td>\n",
       "      <td>1</td>\n",
       "      <td>success</td>\n",
       "      <td>yes</td>\n",
       "    </tr>\n",
       "    <tr>\n",
       "      <th>1868</th>\n",
       "      <td>48.0</td>\n",
       "      <td>NaN</td>\n",
       "      <td>single</td>\n",
       "      <td>NaN</td>\n",
       "      <td>no</td>\n",
       "      <td>1819</td>\n",
       "      <td>0.680564</td>\n",
       "      <td>-0.786048</td>\n",
       "      <td>no</td>\n",
       "      <td>no</td>\n",
       "      <td>cellular</td>\n",
       "      <td>2</td>\n",
       "      <td>sep</td>\n",
       "      <td>1440</td>\n",
       "      <td>1</td>\n",
       "      <td>458</td>\n",
       "      <td>1</td>\n",
       "      <td>failure</td>\n",
       "      <td>yes</td>\n",
       "    </tr>\n",
       "    <tr>\n",
       "      <th>1975</th>\n",
       "      <td>45.0</td>\n",
       "      <td>NaN</td>\n",
       "      <td>married</td>\n",
       "      <td>tertiary</td>\n",
       "      <td>no</td>\n",
       "      <td>406</td>\n",
       "      <td>-2.211965</td>\n",
       "      <td>2.109631</td>\n",
       "      <td>no</td>\n",
       "      <td>no</td>\n",
       "      <td>cellular</td>\n",
       "      <td>7</td>\n",
       "      <td>sep</td>\n",
       "      <td>314</td>\n",
       "      <td>1</td>\n",
       "      <td>-1</td>\n",
       "      <td>0</td>\n",
       "      <td>NaN</td>\n",
       "      <td>yes</td>\n",
       "    </tr>\n",
       "  </tbody>\n",
       "</table>\n",
       "</div>"
      ],
      "text/plain": [
       "       age  job  marital  education default  balance  ratio_bal_ln  \\\n",
       "255   42.0  NaN   single    primary      no     2398     -1.418888   \n",
       "257   46.0  NaN  married        NaN      no      677     -0.399374   \n",
       "831   41.0  NaN   single    primary      no     2398     -0.243804   \n",
       "1223  55.0  NaN  married  secondary      no     2206     -1.134511   \n",
       "1281  50.0  NaN  married        NaN      no      558     -0.455001   \n",
       "1669  54.0  NaN  married  secondary      no     2206     -0.575645   \n",
       "1711  77.0  NaN  married        NaN      no      397     -0.871514   \n",
       "1801  28.0  NaN   single        NaN      no      326      0.298961   \n",
       "1868  48.0  NaN   single        NaN      no     1819      0.680564   \n",
       "1975  45.0  NaN  married   tertiary      no      406     -2.211965   \n",
       "\n",
       "      ratio_ln_inc housing loan    contact  day month  duration  campaign  \\\n",
       "255       1.809977     yes   no   cellular    3   feb       144         2   \n",
       "257       0.150261      no   no   cellular    3   feb       425         1   \n",
       "831      -0.685437     yes   no        NaN    8   may       287         2   \n",
       "1223      0.861389      no   no   cellular   12   aug       265         1   \n",
       "1281      1.595412      no   no   cellular    9   jul       464         1   \n",
       "1669     -0.242814      no   no   cellular   13   may       260         1   \n",
       "1711      0.134782      no   no  telephone    7   may       300         3   \n",
       "1801      1.653248      no   no   cellular   11   oct       450         1   \n",
       "1868     -0.786048      no   no   cellular    2   sep      1440         1   \n",
       "1975      2.109631      no   no   cellular    7   sep       314         1   \n",
       "\n",
       "      pdays  previous poutcome subscribed  \n",
       "255     271         2  failure         no  \n",
       "257      82         1  failure         no  \n",
       "831      -1         0      NaN         no  \n",
       "1223     91         5  success        yes  \n",
       "1281    683         6  failure        yes  \n",
       "1669     91         4  success        yes  \n",
       "1711     -1         0      NaN        yes  \n",
       "1801    231         1  success        yes  \n",
       "1868    458         1  failure        yes  \n",
       "1975     -1         0      NaN        yes  "
      ]
     },
     "execution_count": 11,
     "metadata": {},
     "output_type": "execute_result"
    }
   ],
   "source": [
    "# Lets analyse the dataframe with missing JOB values\n",
    "df[df['job'].isnull()]"
   ]
  },
  {
   "cell_type": "code",
   "execution_count": 12,
   "metadata": {
    "scrolled": false
   },
   "outputs": [],
   "source": [
    "# Only 10 missing values in Job can drop it.\n",
    "df.dropna(subset=['job'], inplace=True)\n",
    "\n",
    "# Reset the index of rows\n",
    "df.reset_index(drop=True, inplace=True)"
   ]
  },
  {
   "cell_type": "code",
   "execution_count": 13,
   "metadata": {},
   "outputs": [
    {
     "name": "stdout",
     "output_type": "stream",
     "text": [
      "job       admin.  blue-collar  entrepreneur  housemaid  management  retired  \\\n",
      "marital                                                                       \n",
      "divorced    40.0         42.0          47.5       55.0        45.0     67.0   \n",
      "married     42.5         40.0          45.0       49.0        41.0     67.0   \n",
      "single      33.0         32.0          34.5       34.5        32.0     60.5   \n",
      "\n",
      "job       self-employed  services  student  technician  unemployed  \n",
      "marital                                                             \n",
      "divorced           46.0      47.0     38.0        42.0        40.0  \n",
      "married            46.0      37.0     33.0        43.5        43.0  \n",
      "single             29.0      32.0     25.0        33.0        32.0  \n"
     ]
    }
   ],
   "source": [
    "# create a pivot table, which contains the median values for all the marital and job groups.\n",
    "table_age = df.pivot_table(values='age', \n",
    "                       index='marital', \n",
    "                       columns='job', \n",
    "                       aggfunc=np.median)\n",
    "print(table_age)"
   ]
  },
  {
   "cell_type": "code",
   "execution_count": 14,
   "metadata": {},
   "outputs": [],
   "source": [
    "# Define function to return an element of the pivot table\n",
    "def func_age(x):\n",
    "    return table_age.loc[x['marital'], x['job']]\n",
    "\n",
    "# Replace missing values\n",
    "df['age'].fillna(df[df['age'].isnull()].apply(func_age, axis=1), inplace=True)"
   ]
  },
  {
   "cell_type": "code",
   "execution_count": 15,
   "metadata": {},
   "outputs": [
    {
     "data": {
      "text/plain": [
       "0"
      ]
     },
     "execution_count": 15,
     "metadata": {},
     "output_type": "execute_result"
    }
   ],
   "source": [
    "# Verify if null values in age are gone\n",
    "df['age'].isnull().sum()"
   ]
  },
  {
   "cell_type": "markdown",
   "metadata": {},
   "source": [
    "### Handling missing values for Education"
   ]
  },
  {
   "cell_type": "code",
   "execution_count": 16,
   "metadata": {},
   "outputs": [
    {
     "data": {
      "text/plain": [
       "99"
      ]
     },
     "execution_count": 16,
     "metadata": {},
     "output_type": "execute_result"
    }
   ],
   "source": [
    "# Find missing values for attribute Education\n",
    "df['education'].isnull().sum()"
   ]
  },
  {
   "cell_type": "markdown",
   "metadata": {},
   "source": [
    "After removing the missing job samples we are left with 99 missing education fields from the previous 104, as there was some overlap in the missing values between the 2 attributes"
   ]
  },
  {
   "cell_type": "code",
   "execution_count": 17,
   "metadata": {},
   "outputs": [
    {
     "data": {
      "text/plain": [
       "1990"
      ]
     },
     "execution_count": 17,
     "metadata": {},
     "output_type": "execute_result"
    }
   ],
   "source": [
    "# Education properties\n",
    "df['education'].value_counts(normalize=True)\n",
    "df.education.shape[0]"
   ]
  },
  {
   "cell_type": "code",
   "execution_count": 18,
   "metadata": {},
   "outputs": [],
   "source": [
    "# # poutcome category values\n",
    "# df['education'].value_counts(normalize=True)"
   ]
  },
  {
   "cell_type": "code",
   "execution_count": 19,
   "metadata": {},
   "outputs": [],
   "source": [
    "# Imputing the missing values of Education maintaining the probablity of education category\n",
    "\n",
    "# education_arr = ['secondary', 'tertiary', 'primary']\n",
    "# education_prob = [0.53, 0.36, 0.11] # total sum of probabilities needs to be 1\n",
    "# education_size = df.shape[0]\n",
    "\n",
    "# df['education'].fillna(pd.Series(np.random.choice(education_arr, p=education_prob, size=education_size)), inplace=True)\n",
    "\n",
    "# # Check for null values\n",
    "# df.education.isnull().sum() \n",
    "\n",
    "# df.education.tail(10)"
   ]
  },
  {
   "cell_type": "code",
   "execution_count": 20,
   "metadata": {},
   "outputs": [
    {
     "data": {
      "text/html": [
       "<style  type=\"text/css\" >\n",
       "    #T_29228966_2cc5_11e9_8982_aced5c908bbarow0_col0 {\n",
       "            background-color:  #fff400;\n",
       "        }    #T_29228966_2cc5_11e9_8982_aced5c908bbarow0_col1 {\n",
       "            background-color:  #ffd000;\n",
       "        }    #T_29228966_2cc5_11e9_8982_aced5c908bbarow0_col2 {\n",
       "            background-color:  #fff500;\n",
       "        }    #T_29228966_2cc5_11e9_8982_aced5c908bbarow0_col3 {\n",
       "            background-color:  #ffe300;\n",
       "        }    #T_29228966_2cc5_11e9_8982_aced5c908bbarow1_col0 {\n",
       "            background-color:  #ff9100;\n",
       "        }    #T_29228966_2cc5_11e9_8982_aced5c908bbarow1_col1 {\n",
       "            background-color:  #ffd200;\n",
       "        }    #T_29228966_2cc5_11e9_8982_aced5c908bbarow1_col2 {\n",
       "            background-color:  #fffe00;\n",
       "        }    #T_29228966_2cc5_11e9_8982_aced5c908bbarow1_col3 {\n",
       "            background-color:  #ffdd00;\n",
       "        }    #T_29228966_2cc5_11e9_8982_aced5c908bbarow2_col0 {\n",
       "            background-color:  #fffb00;\n",
       "        }    #T_29228966_2cc5_11e9_8982_aced5c908bbarow2_col1 {\n",
       "            background-color:  #fffe00;\n",
       "        }    #T_29228966_2cc5_11e9_8982_aced5c908bbarow2_col2 {\n",
       "            background-color:  #fffa00;\n",
       "        }    #T_29228966_2cc5_11e9_8982_aced5c908bbarow2_col3 {\n",
       "            background-color:  #fffe00;\n",
       "        }    #T_29228966_2cc5_11e9_8982_aced5c908bbarow3_col0 {\n",
       "            background-color:  #ffec00;\n",
       "        }    #T_29228966_2cc5_11e9_8982_aced5c908bbarow3_col1 {\n",
       "            background-color:  #ffff00;\n",
       "        }    #T_29228966_2cc5_11e9_8982_aced5c908bbarow3_col2 {\n",
       "            background-color:  #ffff00;\n",
       "        }    #T_29228966_2cc5_11e9_8982_aced5c908bbarow3_col3 {\n",
       "            background-color:  #ffff00;\n",
       "        }    #T_29228966_2cc5_11e9_8982_aced5c908bbarow4_col0 {\n",
       "            background-color:  #fff500;\n",
       "        }    #T_29228966_2cc5_11e9_8982_aced5c908bbarow4_col1 {\n",
       "            background-color:  #fff900;\n",
       "        }    #T_29228966_2cc5_11e9_8982_aced5c908bbarow4_col2 {\n",
       "            background-color:  #ff6e00;\n",
       "        }    #T_29228966_2cc5_11e9_8982_aced5c908bbarow4_col3 {\n",
       "            background-color:  #ffc800;\n",
       "        }    #T_29228966_2cc5_11e9_8982_aced5c908bbarow5_col0 {\n",
       "            background-color:  #ffc000;\n",
       "        }    #T_29228966_2cc5_11e9_8982_aced5c908bbarow5_col1 {\n",
       "            background-color:  #ffef00;\n",
       "        }    #T_29228966_2cc5_11e9_8982_aced5c908bbarow5_col2 {\n",
       "            background-color:  #fffa00;\n",
       "        }    #T_29228966_2cc5_11e9_8982_aced5c908bbarow5_col3 {\n",
       "            background-color:  #ffef00;\n",
       "        }    #T_29228966_2cc5_11e9_8982_aced5c908bbarow6_col0 {\n",
       "            background-color:  #ffff00;\n",
       "        }    #T_29228966_2cc5_11e9_8982_aced5c908bbarow6_col1 {\n",
       "            background-color:  #ffff00;\n",
       "        }    #T_29228966_2cc5_11e9_8982_aced5c908bbarow6_col2 {\n",
       "            background-color:  #fff000;\n",
       "        }    #T_29228966_2cc5_11e9_8982_aced5c908bbarow6_col3 {\n",
       "            background-color:  #fffc00;\n",
       "        }    #T_29228966_2cc5_11e9_8982_aced5c908bbarow7_col0 {\n",
       "            background-color:  #fff100;\n",
       "        }    #T_29228966_2cc5_11e9_8982_aced5c908bbarow7_col1 {\n",
       "            background-color:  #ffdf00;\n",
       "        }    #T_29228966_2cc5_11e9_8982_aced5c908bbarow7_col2 {\n",
       "            background-color:  #fffe00;\n",
       "        }    #T_29228966_2cc5_11e9_8982_aced5c908bbarow7_col3 {\n",
       "            background-color:  #ffef00;\n",
       "        }    #T_29228966_2cc5_11e9_8982_aced5c908bbarow8_col0 {\n",
       "            background-color:  #fffb00;\n",
       "        }    #T_29228966_2cc5_11e9_8982_aced5c908bbarow8_col1 {\n",
       "            background-color:  #fff300;\n",
       "        }    #T_29228966_2cc5_11e9_8982_aced5c908bbarow8_col2 {\n",
       "            background-color:  #fffc00;\n",
       "        }    #T_29228966_2cc5_11e9_8982_aced5c908bbarow8_col3 {\n",
       "            background-color:  #fff900;\n",
       "        }    #T_29228966_2cc5_11e9_8982_aced5c908bbarow9_col0 {\n",
       "            background-color:  #fff500;\n",
       "        }    #T_29228966_2cc5_11e9_8982_aced5c908bbarow9_col1 {\n",
       "            background-color:  #ffca00;\n",
       "        }    #T_29228966_2cc5_11e9_8982_aced5c908bbarow9_col2 {\n",
       "            background-color:  #ffdc00;\n",
       "        }    #T_29228966_2cc5_11e9_8982_aced5c908bbarow9_col3 {\n",
       "            background-color:  #ffd700;\n",
       "        }    #T_29228966_2cc5_11e9_8982_aced5c908bbarow10_col0 {\n",
       "            background-color:  #fffa00;\n",
       "        }    #T_29228966_2cc5_11e9_8982_aced5c908bbarow10_col1 {\n",
       "            background-color:  #fff700;\n",
       "        }    #T_29228966_2cc5_11e9_8982_aced5c908bbarow10_col2 {\n",
       "            background-color:  #fffb00;\n",
       "        }    #T_29228966_2cc5_11e9_8982_aced5c908bbarow10_col3 {\n",
       "            background-color:  #fffb00;\n",
       "        }    #T_29228966_2cc5_11e9_8982_aced5c908bbarow11_col0 {\n",
       "            background-color:  #ff0000;\n",
       "        }    #T_29228966_2cc5_11e9_8982_aced5c908bbarow11_col1 {\n",
       "            background-color:  #ff0000;\n",
       "        }    #T_29228966_2cc5_11e9_8982_aced5c908bbarow11_col2 {\n",
       "            background-color:  #ff0000;\n",
       "        }    #T_29228966_2cc5_11e9_8982_aced5c908bbarow11_col3 {\n",
       "            background-color:  #ff0000;\n",
       "        }</style>  \n",
       "<table id=\"T_29228966_2cc5_11e9_8982_aced5c908bba\" > \n",
       "<thead>    <tr> \n",
       "        <th class=\"index_name level0\" >education</th> \n",
       "        <th class=\"col_heading level0 col0\" >primary</th> \n",
       "        <th class=\"col_heading level0 col1\" >secondary</th> \n",
       "        <th class=\"col_heading level0 col2\" >tertiary</th> \n",
       "        <th class=\"col_heading level0 col3\" >All</th> \n",
       "    </tr>    <tr> \n",
       "        <th class=\"index_name level0\" >job</th> \n",
       "        <th class=\"blank\" ></th> \n",
       "        <th class=\"blank\" ></th> \n",
       "        <th class=\"blank\" ></th> \n",
       "        <th class=\"blank\" ></th> \n",
       "    </tr></thead> \n",
       "<tbody>    <tr> \n",
       "        <th id=\"T_29228966_2cc5_11e9_8982_aced5c908bbalevel0_row0\" class=\"row_heading level0 row0\" >admin.</th> \n",
       "        <td id=\"T_29228966_2cc5_11e9_8982_aced5c908bbarow0_col0\" class=\"data row0 col0\" >10</td> \n",
       "        <td id=\"T_29228966_2cc5_11e9_8982_aced5c908bbarow0_col1\" class=\"data row0 col1\" >194</td> \n",
       "        <td id=\"T_29228966_2cc5_11e9_8982_aced5c908bbarow0_col2\" class=\"data row0 col2\" >35</td> \n",
       "        <td id=\"T_29228966_2cc5_11e9_8982_aced5c908bbarow0_col3\" class=\"data row0 col3\" >239</td> \n",
       "    </tr>    <tr> \n",
       "        <th id=\"T_29228966_2cc5_11e9_8982_aced5c908bbalevel0_row1\" class=\"row_heading level0 row1\" >blue-collar</th> \n",
       "        <td id=\"T_29228966_2cc5_11e9_8982_aced5c908bbarow1_col0\" class=\"data row1 col0\" >93</td> \n",
       "        <td id=\"T_29228966_2cc5_11e9_8982_aced5c908bbarow1_col1\" class=\"data row1 col1\" >185</td> \n",
       "        <td id=\"T_29228966_2cc5_11e9_8982_aced5c908bbarow1_col2\" class=\"data row1 col2\" >10</td> \n",
       "        <td id=\"T_29228966_2cc5_11e9_8982_aced5c908bbarow1_col3\" class=\"data row1 col3\" >288</td> \n",
       "    </tr>    <tr> \n",
       "        <th id=\"T_29228966_2cc5_11e9_8982_aced5c908bbalevel0_row2\" class=\"row_heading level0 row2\" >entrepreneur</th> \n",
       "        <td id=\"T_29228966_2cc5_11e9_8982_aced5c908bbarow2_col0\" class=\"data row2 col0\" >4</td> \n",
       "        <td id=\"T_29228966_2cc5_11e9_8982_aced5c908bbarow2_col1\" class=\"data row2 col1\" >18</td> \n",
       "        <td id=\"T_29228966_2cc5_11e9_8982_aced5c908bbarow2_col2\" class=\"data row2 col2\" >22</td> \n",
       "        <td id=\"T_29228966_2cc5_11e9_8982_aced5c908bbarow2_col3\" class=\"data row2 col3\" >44</td> \n",
       "    </tr>    <tr> \n",
       "        <th id=\"T_29228966_2cc5_11e9_8982_aced5c908bbalevel0_row3\" class=\"row_heading level0 row3\" >housemaid</th> \n",
       "        <td id=\"T_29228966_2cc5_11e9_8982_aced5c908bbarow3_col0\" class=\"data row3 col0\" >16</td> \n",
       "        <td id=\"T_29228966_2cc5_11e9_8982_aced5c908bbarow3_col1\" class=\"data row3 col1\" >12</td> \n",
       "        <td id=\"T_29228966_2cc5_11e9_8982_aced5c908bbarow3_col2\" class=\"data row3 col2\" >7</td> \n",
       "        <td id=\"T_29228966_2cc5_11e9_8982_aced5c908bbarow3_col3\" class=\"data row3 col3\" >35</td> \n",
       "    </tr>    <tr> \n",
       "        <th id=\"T_29228966_2cc5_11e9_8982_aced5c908bbalevel0_row4\" class=\"row_heading level0 row4\" >management</th> \n",
       "        <td id=\"T_29228966_2cc5_11e9_8982_aced5c908bbarow4_col0\" class=\"data row4 col0\" >9</td> \n",
       "        <td id=\"T_29228966_2cc5_11e9_8982_aced5c908bbarow4_col1\" class=\"data row4 col1\" >38</td> \n",
       "        <td id=\"T_29228966_2cc5_11e9_8982_aced5c908bbarow4_col2\" class=\"data row4 col2\" >391</td> \n",
       "        <td id=\"T_29228966_2cc5_11e9_8982_aced5c908bbarow4_col3\" class=\"data row4 col3\" >438</td> \n",
       "    </tr>    <tr> \n",
       "        <th id=\"T_29228966_2cc5_11e9_8982_aced5c908bbalevel0_row5\" class=\"row_heading level0 row5\" >retired</th> \n",
       "        <td id=\"T_29228966_2cc5_11e9_8982_aced5c908bbarow5_col0\" class=\"data row5 col0\" >53</td> \n",
       "        <td id=\"T_29228966_2cc5_11e9_8982_aced5c908bbarow5_col1\" class=\"data row5 col1\" >77</td> \n",
       "        <td id=\"T_29228966_2cc5_11e9_8982_aced5c908bbarow5_col2\" class=\"data row5 col2\" >22</td> \n",
       "        <td id=\"T_29228966_2cc5_11e9_8982_aced5c908bbarow5_col3\" class=\"data row5 col3\" >152</td> \n",
       "    </tr>    <tr> \n",
       "        <th id=\"T_29228966_2cc5_11e9_8982_aced5c908bbalevel0_row6\" class=\"row_heading level0 row6\" >self-employed</th> \n",
       "        <td id=\"T_29228966_2cc5_11e9_8982_aced5c908bbarow6_col0\" class=\"data row6 col0\" >0</td> \n",
       "        <td id=\"T_29228966_2cc5_11e9_8982_aced5c908bbarow6_col1\" class=\"data row6 col1\" >15</td> \n",
       "        <td id=\"T_29228966_2cc5_11e9_8982_aced5c908bbarow6_col2\" class=\"data row6 col2\" >47</td> \n",
       "        <td id=\"T_29228966_2cc5_11e9_8982_aced5c908bbarow6_col3\" class=\"data row6 col3\" >62</td> \n",
       "    </tr>    <tr> \n",
       "        <th id=\"T_29228966_2cc5_11e9_8982_aced5c908bbalevel0_row7\" class=\"row_heading level0 row7\" >services</th> \n",
       "        <td id=\"T_29228966_2cc5_11e9_8982_aced5c908bbarow7_col0\" class=\"data row7 col0\" >12</td> \n",
       "        <td id=\"T_29228966_2cc5_11e9_8982_aced5c908bbarow7_col1\" class=\"data row7 col1\" >135</td> \n",
       "        <td id=\"T_29228966_2cc5_11e9_8982_aced5c908bbarow7_col2\" class=\"data row7 col2\" >11</td> \n",
       "        <td id=\"T_29228966_2cc5_11e9_8982_aced5c908bbarow7_col3\" class=\"data row7 col3\" >158</td> \n",
       "    </tr>    <tr> \n",
       "        <th id=\"T_29228966_2cc5_11e9_8982_aced5c908bbalevel0_row8\" class=\"row_heading level0 row8\" >student</th> \n",
       "        <td id=\"T_29228966_2cc5_11e9_8982_aced5c908bbarow8_col0\" class=\"data row8 col0\" >4</td> \n",
       "        <td id=\"T_29228966_2cc5_11e9_8982_aced5c908bbarow8_col1\" class=\"data row8 col1\" >59</td> \n",
       "        <td id=\"T_29228966_2cc5_11e9_8982_aced5c908bbarow8_col2\" class=\"data row8 col2\" >16</td> \n",
       "        <td id=\"T_29228966_2cc5_11e9_8982_aced5c908bbarow8_col3\" class=\"data row8 col3\" >79</td> \n",
       "    </tr>    <tr> \n",
       "        <th id=\"T_29228966_2cc5_11e9_8982_aced5c908bbalevel0_row9\" class=\"row_heading level0 row9\" >technician</th> \n",
       "        <td id=\"T_29228966_2cc5_11e9_8982_aced5c908bbarow9_col0\" class=\"data row9 col0\" >9</td> \n",
       "        <td id=\"T_29228966_2cc5_11e9_8982_aced5c908bbarow9_col1\" class=\"data row9 col1\" >217</td> \n",
       "        <td id=\"T_29228966_2cc5_11e9_8982_aced5c908bbarow9_col2\" class=\"data row9 col2\" >102</td> \n",
       "        <td id=\"T_29228966_2cc5_11e9_8982_aced5c908bbarow9_col3\" class=\"data row9 col3\" >328</td> \n",
       "    </tr>    <tr> \n",
       "        <th id=\"T_29228966_2cc5_11e9_8982_aced5c908bbalevel0_row10\" class=\"row_heading level0 row10\" >unemployed</th> \n",
       "        <td id=\"T_29228966_2cc5_11e9_8982_aced5c908bbarow10_col0\" class=\"data row10 col0\" >5</td> \n",
       "        <td id=\"T_29228966_2cc5_11e9_8982_aced5c908bbarow10_col1\" class=\"data row10 col1\" >43</td> \n",
       "        <td id=\"T_29228966_2cc5_11e9_8982_aced5c908bbarow10_col2\" class=\"data row10 col2\" >20</td> \n",
       "        <td id=\"T_29228966_2cc5_11e9_8982_aced5c908bbarow10_col3\" class=\"data row10 col3\" >68</td> \n",
       "    </tr>    <tr> \n",
       "        <th id=\"T_29228966_2cc5_11e9_8982_aced5c908bbalevel0_row11\" class=\"row_heading level0 row11\" >All</th> \n",
       "        <td id=\"T_29228966_2cc5_11e9_8982_aced5c908bbarow11_col0\" class=\"data row11 col0\" >215</td> \n",
       "        <td id=\"T_29228966_2cc5_11e9_8982_aced5c908bbarow11_col1\" class=\"data row11 col1\" >993</td> \n",
       "        <td id=\"T_29228966_2cc5_11e9_8982_aced5c908bbarow11_col2\" class=\"data row11 col2\" >683</td> \n",
       "        <td id=\"T_29228966_2cc5_11e9_8982_aced5c908bbarow11_col3\" class=\"data row11 col3\" >1891</td> \n",
       "    </tr></tbody> \n",
       "</table> "
      ],
      "text/plain": [
       "<pandas.io.formats.style.Styler at 0x26915a798d0>"
      ]
     },
     "execution_count": 20,
     "metadata": {},
     "output_type": "execute_result"
    }
   ],
   "source": [
    "# Job vs Education\n",
    "pd.crosstab(df.job, df.education, margins=True).style.background_gradient(cmap='autumn_r')"
   ]
  },
  {
   "cell_type": "markdown",
   "metadata": {},
   "source": [
    "We can see from the above table that job has a significant impact on the education field. Most of the admin people have secondary education and management people have tertiary education and so on.\n",
    "\n",
    "I will use the max id for education per job and fill the missing values."
   ]
  },
  {
   "cell_type": "code",
   "execution_count": 21,
   "metadata": {},
   "outputs": [
    {
     "name": "stdout",
     "output_type": "stream",
     "text": [
      "job\n",
      "admin.           secondary\n",
      "blue-collar      secondary\n",
      "entrepreneur      tertiary\n",
      "housemaid          primary\n",
      "management        tertiary\n",
      "retired          secondary\n",
      "self-employed     tertiary\n",
      "services         secondary\n",
      "student          secondary\n",
      "technician       secondary\n",
      "unemployed       secondary\n",
      "dtype: object\n"
     ]
    }
   ],
   "source": [
    "# Find the missing education w.r.t job field\n",
    "# Return index of first occurrence of maximum over requested axis\n",
    "\n",
    "education_by_job = pd.crosstab(df['education'], df['job']).idxmax(axis=0)\n",
    "\n",
    "print(education_by_job)"
   ]
  },
  {
   "cell_type": "code",
   "execution_count": 22,
   "metadata": {},
   "outputs": [],
   "source": [
    "def func_education(x):\n",
    "    return education_by_job.loc[x['job']]\n",
    "\n",
    "# Replace missing values of education with max chances of job-with-education\n",
    "df['education'].fillna(df[df['education'].isnull()].apply(func_education, axis=1), inplace=True)"
   ]
  },
  {
   "cell_type": "code",
   "execution_count": 23,
   "metadata": {},
   "outputs": [
    {
     "data": {
      "text/plain": [
       "0"
      ]
     },
     "execution_count": 23,
     "metadata": {},
     "output_type": "execute_result"
    }
   ],
   "source": [
    "# Verify if null values in education are gone\n",
    "df['education'].isnull().sum()"
   ]
  },
  {
   "cell_type": "markdown",
   "metadata": {},
   "source": [
    "### Handling missing values for Contact"
   ]
  },
  {
   "cell_type": "code",
   "execution_count": 24,
   "metadata": {},
   "outputs": [
    {
     "data": {
      "text/plain": [
       "190"
      ]
     },
     "execution_count": 24,
     "metadata": {},
     "output_type": "execute_result"
    }
   ],
   "source": [
    "# Find missing values for attribute contact\n",
    "df['contact'].isnull().sum()"
   ]
  },
  {
   "cell_type": "code",
   "execution_count": 25,
   "metadata": {},
   "outputs": [
    {
     "data": {
      "text/plain": [
       "cellular     0.919444\n",
       "telephone    0.080556\n",
       "Name: contact, dtype: float64"
      ]
     },
     "execution_count": 25,
     "metadata": {},
     "output_type": "execute_result"
    }
   ],
   "source": [
    "# contact category values\n",
    "df['contact'].value_counts(normalize=True)"
   ]
  },
  {
   "cell_type": "markdown",
   "metadata": {},
   "source": [
    "Since 92% of the values are “cellular”, it is safe to impute the missing values as “cellular” as there is a high probability of guessing correctly. We might be adding bias to the dataset with this approach though!"
   ]
  },
  {
   "cell_type": "code",
   "execution_count": 26,
   "metadata": {},
   "outputs": [],
   "source": [
    "# Fill missing Contact values with \"cellular\"\n",
    "df['contact'].fillna('cellular', inplace=True)"
   ]
  },
  {
   "cell_type": "markdown",
   "metadata": {},
   "source": [
    "### Handling missing values for poutcome "
   ]
  },
  {
   "cell_type": "code",
   "execution_count": 27,
   "metadata": {},
   "outputs": [
    {
     "data": {
      "text/plain": [
       "451"
      ]
     },
     "execution_count": 27,
     "metadata": {},
     "output_type": "execute_result"
    }
   ],
   "source": [
    "# Find missing values for attribute poutcome\n",
    "df['poutcome'].isnull().sum()"
   ]
  },
  {
   "cell_type": "markdown",
   "metadata": {},
   "source": [
    "Create a whole new category for the missing data in poutcome. This can yield some new insights and could potentially be useful when building our model "
   ]
  },
  {
   "cell_type": "code",
   "execution_count": 28,
   "metadata": {},
   "outputs": [
    {
     "data": {
      "text/plain": [
       "array(['failure', 'other', 'success', 'unknown'], dtype=object)"
      ]
     },
     "execution_count": 28,
     "metadata": {},
     "output_type": "execute_result"
    }
   ],
   "source": [
    "# Impute missing values as new catrgory \"unknown\"\n",
    "df.loc[df['poutcome'].isnull(), 'poutcome'] = \"unknown\"\n",
    "\n",
    "df.poutcome.unique()"
   ]
  },
  {
   "cell_type": "code",
   "execution_count": 29,
   "metadata": {},
   "outputs": [
    {
     "name": "stdout",
     "output_type": "stream",
     "text": [
      "age             0\n",
      "job             0\n",
      "marital         0\n",
      "education       0\n",
      "default         0\n",
      "balance         0\n",
      "ratio_bal_ln    0\n",
      "ratio_ln_inc    0\n",
      "housing         0\n",
      "loan            0\n",
      "contact         0\n",
      "day             0\n",
      "month           0\n",
      "duration        0\n",
      "campaign        0\n",
      "pdays           0\n",
      "previous        0\n",
      "poutcome        0\n",
      "subscribed      0\n",
      "dtype: int64\n",
      "(1990, 19)\n"
     ]
    }
   ],
   "source": [
    "# Check for null values\n",
    "print(df.isnull().sum())\n",
    "print(df.shape)"
   ]
  },
  {
   "cell_type": "markdown",
   "metadata": {},
   "source": [
    "All the missing values has been handled and we have a bank dataframe with 1990 rows and 19 columns"
   ]
  },
  {
   "cell_type": "markdown",
   "metadata": {},
   "source": [
    "## Task 2 (CS5062)\n",
    "Decide on the treatment of outliers in the bank data set. If appropriate, remove examples with extreme or unexpected attribute values, apply log transformation to numeric attributes with extreme values. Use other methods, if appropriate, to treat outliers as well. In your notebook, explain shortly (max 250 words) the decisions you have taken.\n",
    "\n",
    "\n",
    "An outlier is an unlikely observation in a dataset and may have one of many causes.\n",
    "- The interquartile range can be used to identify outliers in data regardless of the distribution\n",
    "- The standard deviation can be used to identify outliers in Gaussian or Gaussian-like data"
   ]
  },
  {
   "cell_type": "code",
   "execution_count": 30,
   "metadata": {},
   "outputs": [
    {
     "data": {
      "image/png": "[encoded data removed]",
      "text/plain": [
       "<Figure size 1440x720 with 9 Axes>"
      ]
     },
     "metadata": {},
     "output_type": "display_data"
    }
   ],
   "source": [
    "# Distribution of numerical features for the bank data\n",
    "df.hist(figsize=(20,10), bins=20)\n",
    "plt.show()"
   ]
  },
  {
   "cell_type": "markdown",
   "metadata": {},
   "source": [
    "Quick observation from Histogram plot show the following:\n",
    "- Target candidates for outlier detection and log transformation are: `balance`, `age`, `duration`, `pdays` as they have continuous distribution\n",
    "- Campaign, day and previous are having discrete values\n",
    "- ratio_bal_ln and ratio_ln_inc are uniformly distributed"
   ]
  },
  {
   "cell_type": "markdown",
   "metadata": {},
   "source": [
    "### Outliers in Balance"
   ]
  },
  {
   "cell_type": "code",
   "execution_count": 31,
   "metadata": {},
   "outputs": [
    {
     "data": {
      "text/plain": [
       "count     1990.000000\n",
       "mean      1414.038191\n",
       "std       3138.455806\n",
       "min       -980.000000\n",
       "25%        199.000000\n",
       "50%        549.000000\n",
       "75%       1634.750000\n",
       "max      81204.000000\n",
       "Name: balance, dtype: float64"
      ]
     },
     "execution_count": 31,
     "metadata": {},
     "output_type": "execute_result"
    }
   ],
   "source": [
    "df.balance.describe()"
   ]
  },
  {
   "cell_type": "markdown",
   "metadata": {},
   "source": [
    "Mean for attribute `balance` is 1414 and median is 551, that shows the data is very skewed and presence of some extreme values"
   ]
  },
  {
   "cell_type": "code",
   "execution_count": 32,
   "metadata": {
    "scrolled": false
   },
   "outputs": [
    {
     "data": {
      "image/png": "[encoded data removed]",
      "text/plain": [
       "<Figure size 1152x288 with 2 Axes>"
      ]
     },
     "metadata": {},
     "output_type": "display_data"
    }
   ],
   "source": [
    "# Create figure with two subplots for BALANCE attribute\n",
    "fig = plt.figure(figsize=(16,4))\n",
    "\n",
    "# Plot Balance distribution\n",
    "ax1 = fig.add_subplot(1, 2, 1)\n",
    "ax1.set_title(\"Balance distribution of customers\")\n",
    "ax1.set_xlabel('Customer Balance')\n",
    "ax1.set_ylabel('Number of Customers')\n",
    "df['balance'].hist(bins=20)\n",
    "\n",
    "# Next, we look at boxplots to examine for outliers\n",
    "ax2 = fig.add_subplot(1, 2, 2)\n",
    "ax2.set_ylabel('Balance')\n",
    "ax2.set_title(\"Box plot for customer Balance\")\n",
    "df.boxplot(column='balance')\n",
    "\n",
    "plt.show()"
   ]
  },
  {
   "cell_type": "markdown",
   "metadata": {},
   "source": [
    "Histogram on the attribute `balance` shows that the **data is heavily skewed** and does have a normal distribution.\n",
    "The above box plot shows there are some extreme values with **one customer has a balance of above 80,000**. \n",
    "\n",
    "However, since these are bank data I am not sure if it really an outlier. The values seems to be in the valid range from bank data so we would like to keep accurate data. Lets apply [Tukeys IQR)] to get more insight on the outliers."
   ]
  },
  {
   "cell_type": "markdown",
   "metadata": {},
   "source": [
    "### Tukey IQR method\n",
    "Tukey  IQR (interquartile range) method is a robust method for labeling outliers is outlier detection developed by John Tukey. IQR range is the range between the first and the third quartiles (the edges of the box). Tukey considered any data point that fell outside of either 1.5 times the IQR below the first – or 1.5 times the IQR above the third – quartile to be “outside” or “far out”."
   ]
  },
  {
   "cell_type": "code",
   "execution_count": 33,
   "metadata": {},
   "outputs": [],
   "source": [
    "def find_outliers_tukey(x):\n",
    "    # Define a fucntion to find outlier using Tuckey's IQR range\n",
    "    \n",
    "    q1 = np.percentile(x, 25)\n",
    "    q3 = np.percentile(x, 75)\n",
    "    iqr = q3-q1 \n",
    "    floor = q1 - 1.5*iqr\n",
    "    ceiling = q3 + 1.5*iqr\n",
    "    outlier_indices = list(x.index[(x < floor)|(x > ceiling)])\n",
    "    outlier_values = list(x[outlier_indices])\n",
    "\n",
    "    return outlier_indices, outlier_values"
   ]
  },
  {
   "cell_type": "code",
   "execution_count": 34,
   "metadata": {},
   "outputs": [
    {
     "name": "stdout",
     "output_type": "stream",
     "text": [
      "Balance has 159 outliers\n",
      "Balance has outlier of values: [ 3797  3810  3840  3848  3904  3904  3948  4012  4012  4017  4017  4041\n",
      "  4071  4112  4124  4126  4168  4176  4189  4243  4243  4256  4256  4279\n",
      "  4328  4328  4343  4348  4389  4389  4401  4471  4497  4519  4539  4586\n",
      "  4608  4613  4613  4629  4657  4680  4683  4708  4708  4721  4745  4761\n",
      "  4787  4831  4833  4867  4873  4945  4951  4961  4984  5000  5021  5037\n",
      "  5047  5108  5112  5151  5169  5236  5275  5329  5397  5397  5418  5452\n",
      "  5475  5475  5511  5699  5715  5715  5731  5741  5838  5956  5958  5958\n",
      "  6027  6036  6046  6101  6138  6181  6203  6322  6384  6403  6411  6495\n",
      "  6507  6651  6695  6771  6809  7005  7050  7249  7317  7529  7546  7608\n",
      "  7780  7802  7929  7968  8000  8038  8103  8165  8266  8304  8304  8304\n",
      "  8304  8332  8626  8876  8876  9001  9299  9367 10583 10600 10861 10861\n",
      " 11115 11303 11650 11766 11862 12067 12067 12264 12264 12356 12569 12939\n",
      " 13107 14968 15341 16957 16992 17946 20727 26306 26965 27696 27696 29080\n",
      " 29340 31472 81204]\n"
     ]
    }
   ],
   "source": [
    "# Lets find the outliers for Balance using Tuckey's IQR range\n",
    "\n",
    "tukey_bal_indx, tukey_values = find_outliers_tukey(df['balance'])\n",
    "print(\"Balance has {} outliers\".format(len(tukey_values)))\n",
    "print(\"Balance has outlier of values:\", np.sort(tukey_values))"
   ]
  },
  {
   "cell_type": "markdown",
   "metadata": {},
   "source": [
    "Tukey's method was a bit harsh on the outliers as we can see the values from 3797 to 81204 all are considered as outliers. These might be important data so we can't just go ahead and remove them.\n",
    "\n",
    "However, the value 81204 is definitely seems to be an obvious outlier and we should remove it."
   ]
  },
  {
   "cell_type": "code",
   "execution_count": 35,
   "metadata": {},
   "outputs": [],
   "source": [
    "# Remove the extreme maximum value from balance\n",
    "\n",
    "bal_max = df.balance.max()\n",
    "df = df[df['balance'] < bal_max]\n",
    "\n",
    "# Reset the index of rows\n",
    "df.reset_index(drop=True, inplace=True)"
   ]
  },
  {
   "cell_type": "code",
   "execution_count": 36,
   "metadata": {},
   "outputs": [
    {
     "data": {
      "text/plain": [
       "count     1989.000000\n",
       "mean      1373.922574\n",
       "std       2578.917573\n",
       "min       -980.000000\n",
       "25%        199.000000\n",
       "50%        549.000000\n",
       "75%       1631.000000\n",
       "max      31472.000000\n",
       "Name: balance, dtype: float64"
      ]
     },
     "execution_count": 36,
     "metadata": {},
     "output_type": "execute_result"
    }
   ],
   "source": [
    "df.balance.describe()"
   ]
  },
  {
   "cell_type": "markdown",
   "metadata": {},
   "source": [
    "#### Applying Log transformation to balance\n",
    "The log transformation, a widely used method to address skewed data which solves the problem of non-normal distribution of data. We will be using the log transformation to make data conform to normality. The log transformation can be useful here as we have a large number of outliers."
   ]
  },
  {
   "cell_type": "code",
   "execution_count": 37,
   "metadata": {},
   "outputs": [
    {
     "data": {
      "text/plain": [
       "-980"
      ]
     },
     "execution_count": 37,
     "metadata": {},
     "output_type": "execute_result"
    }
   ],
   "source": [
    "df.balance.min()"
   ]
  },
  {
   "cell_type": "code",
   "execution_count": 38,
   "metadata": {},
   "outputs": [],
   "source": [
    "# Using a log transformation to decrease the impact of extreme values in column Balance\n",
    "\n",
    "# Shift the value to 0 before applying log transformation as it can’t be applied to zero or negative values.\n",
    "df[\"balance_log\"] = df[\"balance\"] + abs(df.balance.min() + 1)"
   ]
  },
  {
   "cell_type": "code",
   "execution_count": 39,
   "metadata": {},
   "outputs": [
    {
     "data": {
      "image/png": "[encoded data removed]",
      "text/plain": [
       "<Figure size 1152x288 with 2 Axes>"
      ]
     },
     "metadata": {},
     "output_type": "display_data"
    }
   ],
   "source": [
    "# Create figure with two subplots for BALANCE attribute\n",
    "fig = plt.figure(figsize=(16,4))\n",
    "\n",
    "# Plot BALANCE distribution\n",
    "ax1 = fig.add_subplot(1, 2, 1)\n",
    "ax1.set_title(\" Distribution of attribute Balance\")\n",
    "ax1.set_xlabel('Customer Balance')\n",
    "ax1.set_ylabel('Number of Customers')\n",
    "df['balance'].hist(bins=20)\n",
    "\n",
    "# Distrubtion of balance after appyling Log transform\n",
    "ax2 = fig.add_subplot(1, 2, 2)\n",
    "ax2.set_title(\"Log distribution of balance\")\n",
    "df['balance_log'].apply(np.log).hist()\n",
    "\n",
    "plt.show()"
   ]
  },
  {
   "cell_type": "markdown",
   "metadata": {},
   "source": [
    "The histograms show that both new feature `balance_log` have distribution closer to normal than the original feature `balance`"
   ]
  },
  {
   "cell_type": "markdown",
   "metadata": {},
   "source": [
    "#### Outlier analysis for AGE"
   ]
  },
  {
   "cell_type": "code",
   "execution_count": 40,
   "metadata": {
    "scrolled": false
   },
   "outputs": [
    {
     "data": {
      "image/png": "[encoded data removed]",
      "text/plain": [
       "<Figure size 1152x288 with 2 Axes>"
      ]
     },
     "metadata": {},
     "output_type": "display_data"
    }
   ],
   "source": [
    "# Create figure with two subplots for AGE attribute\n",
    "fig = plt.figure(figsize=(16,4))\n",
    "\n",
    "# Plot AGE distribution\n",
    "ax1 = fig.add_subplot(1, 2, 1)\n",
    "ax1.set_title(\"Age distribution of customers\")\n",
    "ax1.set_xlabel('Customer Age')\n",
    "ax1.set_ylabel('Number of Customers')\n",
    "df['age'].hist(bins=20)\n",
    "\n",
    "# Next, we look at boxplots to examine for outliers\n",
    "ax2 = fig.add_subplot(1, 2, 2)\n",
    "sns.boxplot(x='age', data=df, notch=True)\n",
    "ax2.set_title(\"Box plot of Age attribute\")\n",
    "\n",
    "plt.show()"
   ]
  },
  {
   "cell_type": "markdown",
   "metadata": {},
   "source": [
    "Histogram on the attribute `age` shows that the data is skewed and does have a normal distribution.\n",
    "The above box plot shows the possibility of some extreme values as some customers have age in range 77-95 years. \n",
    "\n",
    "##### Analyze age in detail using Tukey's Interquartile Range Method for outlier detection"
   ]
  },
  {
   "cell_type": "code",
   "execution_count": 41,
   "metadata": {},
   "outputs": [
    {
     "name": "stdout",
     "output_type": "stream",
     "text": [
      "Age has 23 outliers\n",
      "Age has outlier of values: [78. 78. 78. 78. 78. 79. 80. 80. 80. 80. 80. 80. 81. 81. 82. 82. 82. 84.\n",
      " 84. 86. 86. 93. 93.]\n"
     ]
    }
   ],
   "source": [
    "# Lets find the outliers for Age using Tuckey's IQR method\n",
    "\n",
    "tukey_indices, tukey_values = find_outliers_tukey(df['age'])\n",
    "print(\"Age has {} outliers\".format(len(tukey_values)))\n",
    "print(\"Age has outlier of values:\", np.sort(tukey_values))"
   ]
  },
  {
   "cell_type": "markdown",
   "metadata": {},
   "source": [
    "### Analyze the age outlier using 3 Standard Deviations method.\n",
    "Three standard deviations from the mean is a common cut-off in practice for identifying outliers in a Gaussian or Gaussian-like distribution. We can see from the histogram that `age` has a uniform distribution so we can apply this method.\n",
    "\n",
    "A value that falls outside of 3 standard deviations is part of the distribution, but it is an unlikely or rare event at approximately 1 in 370 samples. 3 Standard Deviations from the Mean has 99.7% of the data.\n",
    "\n",
    "Reference: https://machinelearningmastery.com/how-to-use-statistics-to-identify-outliers-in-data/"
   ]
  },
  {
   "cell_type": "code",
   "execution_count": 42,
   "metadata": {},
   "outputs": [],
   "source": [
    "def three_standard_dev(data):\n",
    "    # Function to find outlier using the three standard deviation to mean\n",
    "    \n",
    "    # calculate age summary statistics\n",
    "    age_mean, age_std = np.mean(data), np.std(data)\n",
    "\n",
    "    # identify outliers\n",
    "    cut_off = age_std * 3\n",
    "    lower, upper = age_mean - cut_off, age_mean + cut_off\n",
    "\n",
    "    # identify outliers\n",
    "    outliers = [x for x in data if x < lower or x > upper]\n",
    "    \n",
    "    return outliers"
   ]
  },
  {
   "cell_type": "code",
   "execution_count": 43,
   "metadata": {},
   "outputs": [
    {
     "name": "stdout",
     "output_type": "stream",
     "text": [
      "Identified outliers: 17\n",
      "Identified outlier values: [86.0, 93.0, 82.0, 80.0, 86.0, 93.0, 82.0, 80.0, 82.0, 80.0, 80.0, 80.0, 84.0, 84.0, 81.0, 80.0, 81.0]\n"
     ]
    }
   ],
   "source": [
    "# find outlier in AGE using the three standard deviation to mean\n",
    "age_outliers = three_standard_dev(df.age)\n",
    "\n",
    "print(\"Identified outliers:\", len(age_outliers))\n",
    "print(\"Identified outlier values:\", age_outliers)"
   ]
  },
  {
   "cell_type": "markdown",
   "metadata": {},
   "source": [
    "The age values detected as outliers by both Tukey and 3 Standard deviation methods, seems to be in the valid range for `age` as a person can have such age numbers. So we would like to do keep the values and do log transformation on it.\n",
    "\n",
    "#### Applying Log transformation to age"
   ]
  },
  {
   "cell_type": "code",
   "execution_count": 44,
   "metadata": {
    "scrolled": false
   },
   "outputs": [
    {
     "data": {
      "image/png": "[encoded data removed]",
      "text/plain": [
       "<Figure size 1152x288 with 2 Axes>"
      ]
     },
     "metadata": {},
     "output_type": "display_data"
    }
   ],
   "source": [
    "# Create figure with two subplots for AGE attribute\n",
    "fig = plt.figure(figsize=(16,4))\n",
    "\n",
    "# Plot AGE distribution\n",
    "ax1 = fig.add_subplot(1, 2, 1)\n",
    "ax1.set_title(\"Age distribution of customers\")\n",
    "ax1.set_xlabel('Customer Age')\n",
    "ax1.set_ylabel('Number of Customers')\n",
    "df['age'].hist(bins=20)\n",
    "\n",
    "# Use a log transformation to decrease the impact of extreme values in column AGE\n",
    "ax2 = fig.add_subplot(1, 2, 2)\n",
    "df['age_log'] = np.log(df['age'])\n",
    "df['age_log'].hist()\n",
    "ax2.set_title(\"Log distribution of AGE\")\n",
    "plt.show()"
   ]
  },
  {
   "cell_type": "markdown",
   "metadata": {},
   "source": [
    "### Outlier in duration"
   ]
  },
  {
   "cell_type": "code",
   "execution_count": 45,
   "metadata": {},
   "outputs": [
    {
     "data": {
      "text/plain": [
       "count    1989.000000\n",
       "mean      291.252891\n",
       "std       220.550229\n",
       "min         7.000000\n",
       "25%       146.000000\n",
       "50%       236.000000\n",
       "75%       375.000000\n",
       "max      1823.000000\n",
       "Name: duration, dtype: float64"
      ]
     },
     "execution_count": 45,
     "metadata": {},
     "output_type": "execute_result"
    }
   ],
   "source": [
    "df.duration.describe()"
   ]
  },
  {
   "cell_type": "code",
   "execution_count": 46,
   "metadata": {},
   "outputs": [
    {
     "data": {
      "image/png": "[encoded data removed]",
      "text/plain": [
       "<Figure size 1152x288 with 2 Axes>"
      ]
     },
     "metadata": {},
     "output_type": "display_data"
    }
   ],
   "source": [
    "# Create figure with two subplots for duration attribute\n",
    "fig = plt.figure(figsize=(16,4))\n",
    "\n",
    "# Plot duration distribution\n",
    "ax1 = fig.add_subplot(1, 2, 1)\n",
    "ax1.set_title(\"Distribution of duration\")\n",
    "ax1.set_xlabel('duration')\n",
    "ax1.set_ylabel('Number of Customers')\n",
    "df['duration'].hist(bins=20)\n",
    "\n",
    "# Next, we look at boxplots to examine for outliers\n",
    "ax2 = fig.add_subplot(1, 2, 2)\n",
    "sns.boxplot(x='duration', data=df, notch=True)\n",
    "ax2.set_title(\"Box plot of duration attribute\")\n",
    "\n",
    "plt.show()"
   ]
  },
  {
   "cell_type": "code",
   "execution_count": 47,
   "metadata": {},
   "outputs": [
    {
     "name": "stdout",
     "output_type": "stream",
     "text": [
      "Identified outliers BEFORE Log tranformation: 43\n",
      "Identified outlier values: [957, 1074, 1156, 1823, 1160, 1047, 1121, 1026, 1007, 982, 1472, 1093, 1143, 1241, 1064, 1363, 1226, 1120, 968, 1148, 1193, 957, 1005, 967, 1008, 1360, 1207, 1720, 1407, 1205, 1114, 1178, 1127, 1556, 977, 1176, 1032, 1246, 1405, 1042, 1081, 953, 1334]\n"
     ]
    }
   ],
   "source": [
    "# Outlier detection on raw data of duration:\n",
    "\n",
    "# find outlier in AGE using the three standard deviation to mean\n",
    "duration_outliers = three_standard_dev(df.duration)\n",
    "\n",
    "print(\"Identified outliers BEFORE Log tranformation:\", len(duration_outliers))\n",
    "print(\"Identified outlier values:\", duration_outliers)"
   ]
  },
  {
   "cell_type": "markdown",
   "metadata": {},
   "source": [
    "#### Applying Log transformation to duration to make the distribution uniform/Gaussian"
   ]
  },
  {
   "cell_type": "code",
   "execution_count": 48,
   "metadata": {},
   "outputs": [
    {
     "data": {
      "image/png": "[encoded data removed]",
      "text/plain": [
       "<Figure size 1152x288 with 2 Axes>"
      ]
     },
     "metadata": {},
     "output_type": "display_data"
    }
   ],
   "source": [
    "# Create figure with two subplots for duration attribute\n",
    "fig = plt.figure(figsize=(16,4))\n",
    "\n",
    "# Plot duration distribution\n",
    "ax1 = fig.add_subplot(1, 2, 1)\n",
    "ax1.set_title(\"duration distribution\")\n",
    "ax1.set_xlabel('duration')\n",
    "ax1.set_ylabel('Number of Customers')\n",
    "df['duration'].hist(bins=20)\n",
    "\n",
    "# Use a log transformation to decrease the impact of extreme values in column AGE\n",
    "ax2 = fig.add_subplot(1, 2, 2)\n",
    "df['duration_log'] = np.log(df['duration'])\n",
    "df['duration_log'].hist()\n",
    "ax2.set_title(\"Log distribution of duration\")\n",
    "plt.show()"
   ]
  },
  {
   "cell_type": "code",
   "execution_count": 49,
   "metadata": {},
   "outputs": [
    {
     "name": "stdout",
     "output_type": "stream",
     "text": [
      "Identified outliers AFTER Log tranformation: 17\n",
      "Identified outlier values: [2.833213344056216, 2.0794415416798357, 2.1972245773362196, 2.772588722239781, 1.9459101490553132, 2.772588722239781, 2.0794415416798357, 2.3978952727983707, 2.70805020110221, 2.4849066497880004, 1.9459101490553132, 2.5649493574615367, 2.995732273553991, 2.6390573296152584, 2.995732273553991, 3.044522437723423, 3.044522437723423]\n"
     ]
    }
   ],
   "source": [
    "# Outlier detection after LOG transformation of duration:\n",
    "\n",
    "# find outlier in AGE using the three standard deviation to mean\n",
    "duration1_outliers = three_standard_dev(df.duration_log)\n",
    "\n",
    "print(\"Identified outliers AFTER Log tranformation:\", len(duration1_outliers))\n",
    "print(\"Identified outlier values:\", duration1_outliers)"
   ]
  },
  {
   "cell_type": "markdown",
   "metadata": {},
   "source": [
    "#### Observation:\n",
    "The outliers detected before and after applying the log transformation for attribute `duration` has a big difference. \n",
    "\n",
    "This is probably because the distribution is more Gaussian after applying the Log transformation and hence the outliers are less"
   ]
  },
  {
   "cell_type": "code",
   "execution_count": 50,
   "metadata": {},
   "outputs": [
    {
     "data": {
      "text/plain": [
       "count    1989.000000\n",
       "mean      167.820010\n",
       "std       131.212005\n",
       "min        -1.000000\n",
       "25%        76.000000\n",
       "50%       182.000000\n",
       "75%       251.000000\n",
       "max       854.000000\n",
       "Name: pdays, dtype: float64"
      ]
     },
     "execution_count": 50,
     "metadata": {},
     "output_type": "execute_result"
    }
   ],
   "source": [
    "df.pdays.describe()"
   ]
  },
  {
   "cell_type": "code",
   "execution_count": 51,
   "metadata": {},
   "outputs": [
    {
     "name": "stdout",
     "output_type": "stream",
     "text": [
      "Customers that have not been contacted before: 451\n",
      "Maximum values on pdays    : 854\n"
     ]
    }
   ],
   "source": [
    "# pdays: number of days that passed by after the client was last contacted from a previous campaign\n",
    "#       -1 means client was not previously contacted\n",
    "\n",
    "print(\"Customers that have not been contacted before:\", len(df[df.pdays==-1]))\n",
    "print(\"Maximum values on pdays    :\", df['pdays'].max())"
   ]
  },
  {
   "cell_type": "code",
   "execution_count": 52,
   "metadata": {},
   "outputs": [],
   "source": [
    "# Map padys=-1 into a large value (9999 is used) to indicate that it is so far in the past that it has no effect\n",
    "###df.loc[df['pdays'] == -1, 'pdays'] = 9999"
   ]
  },
  {
   "cell_type": "code",
   "execution_count": 53,
   "metadata": {},
   "outputs": [
    {
     "data": {
      "image/png": "[encoded data removed]",
      "text/plain": [
       "<Figure size 1152x288 with 2 Axes>"
      ]
     },
     "metadata": {},
     "output_type": "display_data"
    }
   ],
   "source": [
    "# Create figure with two subplots for pdays attribute\n",
    "fig = plt.figure(figsize=(16,4))\n",
    "\n",
    "# Plot pdays distribution\n",
    "ax1 = fig.add_subplot(1, 2, 1)\n",
    "ax1.set_title(\"Distribution of pdays\")\n",
    "ax1.set_xlabel('pdays')\n",
    "ax1.set_ylabel('Number of Customers')\n",
    "df['pdays'].hist(bins=20)\n",
    "\n",
    "# Next, we look at boxplots to examine for outliers\n",
    "ax2 = fig.add_subplot(1, 2, 2)\n",
    "sns.boxplot(x='pdays', data=df, notch=True)\n",
    "ax2.set_title(\"Box plot of pdays attribute\")\n",
    "\n",
    "plt.show()"
   ]
  },
  {
   "cell_type": "code",
   "execution_count": 54,
   "metadata": {},
   "outputs": [
    {
     "name": "stdout",
     "output_type": "stream",
     "text": [
      "pdays has 32 outliers\n",
      "pdays has outlier of values: [518 521 521 529 532 535 536 541 550 551 555 579 586 587 595 603 626 648\n",
      " 690 728 749 761 769 776 782 784 792 804 805 828 842 854]\n"
     ]
    }
   ],
   "source": [
    "# Lets find the outliers for pdays using Tuckey's IQR method\n",
    "\n",
    "tukey_indices, tukey_values = find_outliers_tukey(df['pdays'])\n",
    "print(\"pdays has {} outliers\".format(len(tukey_values)))\n",
    "print(\"pdays has outlier of values:\", np.sort(tukey_values))"
   ]
  },
  {
   "cell_type": "code",
   "execution_count": 55,
   "metadata": {},
   "outputs": [
    {
     "data": {
      "image/png": "[encoded data removed]",
      "text/plain": [
       "<Figure size 1152x288 with 2 Axes>"
      ]
     },
     "metadata": {},
     "output_type": "display_data"
    }
   ],
   "source": [
    "# Create figure with two subplots for pdays attribute\n",
    "fig = plt.figure(figsize=(16,4))\n",
    "\n",
    "# Plot pdays distribution\n",
    "ax1 = fig.add_subplot(1, 2, 1)\n",
    "ax1.set_title(\"Distribution of pdays\")\n",
    "ax1.set_xlabel('pdays')\n",
    "ax1.set_ylabel('Number of Customers')\n",
    "df['pdays'].hist(bins=20)\n",
    "\n",
    "\n",
    "# Use a log transformation to decrease the impact of extreme values in column pdays\n",
    "ax2 = fig.add_subplot(1, 2, 2)\n",
    "df['pdays_log'] = np.log(df['pdays'] + 2)\n",
    "df['pdays_log'].hist()\n",
    "ax2.set_title(\"Log distribution of pdays\")\n",
    "\n",
    "plt.show()"
   ]
  },
  {
   "cell_type": "code",
   "execution_count": null,
   "metadata": {},
   "outputs": [],
   "source": []
  },
  {
   "cell_type": "code",
   "execution_count": null,
   "metadata": {},
   "outputs": [],
   "source": []
  },
  {
   "cell_type": "markdown",
   "metadata": {},
   "source": [
    "### TODO: look for other outliers in numeric data and apply other techniques"
   ]
  },
  {
   "cell_type": "markdown",
   "metadata": {},
   "source": [
    "## Task 3 (CS5062)\n",
    "Suggest the creation of at least one new feature from the existing ones and justify the usefulness of your choice within the context of the 2-class classification problem you have defined in E-tivity 1."
   ]
  },
  {
   "cell_type": "markdown",
   "metadata": {},
   "source": [
    "Feature / Variable creation is a process to generate a new variables / features based on existing variable(s). We need to do a mixture of aggregating or combining features to create new features, and decomposing or splitting features to create new features. Two goals of feature generation can be dimensionality reduction and accuracy improvement.\n",
    "\n",
    "Need to normalize or standardize the features as a final step"
   ]
  },
  {
   "cell_type": "markdown",
   "metadata": {},
   "source": [
    "### Correlation  matrix to find any correlation between numerical features"
   ]
  },
  {
   "cell_type": "code",
   "execution_count": 56,
   "metadata": {
    "scrolled": false
   },
   "outputs": [
    {
     "data": {
      "image/png": "[encoded data removed]",
      "text/plain": [
       "<Figure size 1152x720 with 2 Axes>"
      ]
     },
     "metadata": {},
     "output_type": "display_data"
    }
   ],
   "source": [
    "f, ax = plt.subplots(figsize=(16, 10))\n",
    "\n",
    "# Compute the correlation matrix\n",
    "#(https://seaborn.pydata.org/examples/many_pairwise_correlations.html)\n",
    "corr = df.corr()\n",
    "\n",
    "# Generate a mask for the upper triangle\n",
    "mask=np.zeros_like(corr, dtype=np.bool)\n",
    "#mask[np.triu_indices_from(mask)] = True\n",
    "\n",
    "# Generate a custom diverging colormap\n",
    "cmap = sns.diverging_palette(220, 10, as_cmap=True)\n",
    "\n",
    "sns.heatmap(corr, mask=mask, cmap=cmap, vmax=0.5, center=0, square=True, linewidths=.5)\n",
    "plt.show()"
   ]
  },
  {
   "cell_type": "markdown",
   "metadata": {},
   "source": [
    "Nothing obvious from the correlation map, except pdays and previous shows some level of correlation\n",
    "\n",
    "PCA should help in figuring out if there is any strong correlation between features "
   ]
  },
  {
   "cell_type": "code",
   "execution_count": 57,
   "metadata": {},
   "outputs": [],
   "source": [
    "# # Remove features with log <Need some more work before clean-up>\n",
    "# df.drop('duration', axis=1, inplace = True)\n",
    "# df.drop('balance', axis=1, inplace = True)\n",
    "# df.drop('age', axis=1, inplace = True)"
   ]
  },
  {
   "cell_type": "code",
   "execution_count": 58,
   "metadata": {},
   "outputs": [
    {
     "data": {
      "text/html": [
       "<div>\n",
       "<style scoped>\n",
       "    .dataframe tbody tr th:only-of-type {\n",
       "        vertical-align: middle;\n",
       "    }\n",
       "\n",
       "    .dataframe tbody tr th {\n",
       "        vertical-align: top;\n",
       "    }\n",
       "\n",
       "    .dataframe thead th {\n",
       "        text-align: right;\n",
       "    }\n",
       "</style>\n",
       "<table border=\"1\" class=\"dataframe\">\n",
       "  <thead>\n",
       "    <tr style=\"text-align: right;\">\n",
       "      <th></th>\n",
       "      <th>age</th>\n",
       "      <th>job</th>\n",
       "      <th>marital</th>\n",
       "      <th>education</th>\n",
       "      <th>default</th>\n",
       "      <th>balance</th>\n",
       "      <th>ratio_bal_ln</th>\n",
       "      <th>ratio_ln_inc</th>\n",
       "      <th>housing</th>\n",
       "      <th>loan</th>\n",
       "      <th>...</th>\n",
       "      <th>duration</th>\n",
       "      <th>campaign</th>\n",
       "      <th>pdays</th>\n",
       "      <th>previous</th>\n",
       "      <th>poutcome</th>\n",
       "      <th>subscribed</th>\n",
       "      <th>balance_log</th>\n",
       "      <th>age_log</th>\n",
       "      <th>duration_log</th>\n",
       "      <th>pdays_log</th>\n",
       "    </tr>\n",
       "  </thead>\n",
       "  <tbody>\n",
       "    <tr>\n",
       "      <th>0</th>\n",
       "      <td>32.0</td>\n",
       "      <td>technician</td>\n",
       "      <td>single</td>\n",
       "      <td>tertiary</td>\n",
       "      <td>no</td>\n",
       "      <td>392</td>\n",
       "      <td>1.300134</td>\n",
       "      <td>0.473895</td>\n",
       "      <td>yes</td>\n",
       "      <td>no</td>\n",
       "      <td>...</td>\n",
       "      <td>957</td>\n",
       "      <td>2</td>\n",
       "      <td>131</td>\n",
       "      <td>2</td>\n",
       "      <td>failure</td>\n",
       "      <td>no</td>\n",
       "      <td>1371</td>\n",
       "      <td>3.465736</td>\n",
       "      <td>6.863803</td>\n",
       "      <td>4.890349</td>\n",
       "    </tr>\n",
       "    <tr>\n",
       "      <th>1</th>\n",
       "      <td>39.0</td>\n",
       "      <td>technician</td>\n",
       "      <td>divorced</td>\n",
       "      <td>secondary</td>\n",
       "      <td>no</td>\n",
       "      <td>688</td>\n",
       "      <td>-0.193701</td>\n",
       "      <td>0.237021</td>\n",
       "      <td>yes</td>\n",
       "      <td>yes</td>\n",
       "      <td>...</td>\n",
       "      <td>233</td>\n",
       "      <td>2</td>\n",
       "      <td>133</td>\n",
       "      <td>1</td>\n",
       "      <td>failure</td>\n",
       "      <td>no</td>\n",
       "      <td>1667</td>\n",
       "      <td>3.663562</td>\n",
       "      <td>5.451038</td>\n",
       "      <td>4.905275</td>\n",
       "    </tr>\n",
       "    <tr>\n",
       "      <th>2</th>\n",
       "      <td>59.0</td>\n",
       "      <td>retired</td>\n",
       "      <td>married</td>\n",
       "      <td>secondary</td>\n",
       "      <td>no</td>\n",
       "      <td>1035</td>\n",
       "      <td>1.334266</td>\n",
       "      <td>0.121981</td>\n",
       "      <td>yes</td>\n",
       "      <td>yes</td>\n",
       "      <td>...</td>\n",
       "      <td>126</td>\n",
       "      <td>2</td>\n",
       "      <td>239</td>\n",
       "      <td>1</td>\n",
       "      <td>failure</td>\n",
       "      <td>no</td>\n",
       "      <td>2014</td>\n",
       "      <td>4.077537</td>\n",
       "      <td>4.836282</td>\n",
       "      <td>5.484797</td>\n",
       "    </tr>\n",
       "    <tr>\n",
       "      <th>3</th>\n",
       "      <td>47.0</td>\n",
       "      <td>blue-collar</td>\n",
       "      <td>married</td>\n",
       "      <td>secondary</td>\n",
       "      <td>no</td>\n",
       "      <td>398</td>\n",
       "      <td>0.362286</td>\n",
       "      <td>1.251328</td>\n",
       "      <td>yes</td>\n",
       "      <td>yes</td>\n",
       "      <td>...</td>\n",
       "      <td>274</td>\n",
       "      <td>1</td>\n",
       "      <td>238</td>\n",
       "      <td>2</td>\n",
       "      <td>failure</td>\n",
       "      <td>no</td>\n",
       "      <td>1377</td>\n",
       "      <td>3.850148</td>\n",
       "      <td>5.613128</td>\n",
       "      <td>5.480639</td>\n",
       "    </tr>\n",
       "    <tr>\n",
       "      <th>4</th>\n",
       "      <td>54.0</td>\n",
       "      <td>retired</td>\n",
       "      <td>married</td>\n",
       "      <td>secondary</td>\n",
       "      <td>no</td>\n",
       "      <td>1004</td>\n",
       "      <td>0.072075</td>\n",
       "      <td>-0.533738</td>\n",
       "      <td>yes</td>\n",
       "      <td>no</td>\n",
       "      <td>...</td>\n",
       "      <td>479</td>\n",
       "      <td>1</td>\n",
       "      <td>307</td>\n",
       "      <td>1</td>\n",
       "      <td>failure</td>\n",
       "      <td>no</td>\n",
       "      <td>1983</td>\n",
       "      <td>3.988984</td>\n",
       "      <td>6.171701</td>\n",
       "      <td>5.733341</td>\n",
       "    </tr>\n",
       "  </tbody>\n",
       "</table>\n",
       "<p>5 rows × 23 columns</p>\n",
       "</div>"
      ],
      "text/plain": [
       "    age          job   marital  education default  balance  ratio_bal_ln  \\\n",
       "0  32.0   technician    single   tertiary      no      392      1.300134   \n",
       "1  39.0   technician  divorced  secondary      no      688     -0.193701   \n",
       "2  59.0      retired   married  secondary      no     1035      1.334266   \n",
       "3  47.0  blue-collar   married  secondary      no      398      0.362286   \n",
       "4  54.0      retired   married  secondary      no     1004      0.072075   \n",
       "\n",
       "   ratio_ln_inc housing loan    ...     duration  campaign pdays  previous  \\\n",
       "0      0.473895     yes   no    ...          957         2   131         2   \n",
       "1      0.237021     yes  yes    ...          233         2   133         1   \n",
       "2      0.121981     yes  yes    ...          126         2   239         1   \n",
       "3      1.251328     yes  yes    ...          274         1   238         2   \n",
       "4     -0.533738     yes   no    ...          479         1   307         1   \n",
       "\n",
       "   poutcome  subscribed  balance_log   age_log duration_log  pdays_log  \n",
       "0   failure          no         1371  3.465736     6.863803   4.890349  \n",
       "1   failure          no         1667  3.663562     5.451038   4.905275  \n",
       "2   failure          no         2014  4.077537     4.836282   5.484797  \n",
       "3   failure          no         1377  3.850148     5.613128   5.480639  \n",
       "4   failure          no         1983  3.988984     6.171701   5.733341  \n",
       "\n",
       "[5 rows x 23 columns]"
      ]
     },
     "execution_count": 58,
     "metadata": {},
     "output_type": "execute_result"
    }
   ],
   "source": [
    "df.head()"
   ]
  },
  {
   "cell_type": "markdown",
   "metadata": {},
   "source": [
    "Feature creation:\n",
    "- Binning the age\n",
    "- Group age_binned with marital status [getting life stage of age group]\n",
    "- Group various job categories\n",
    "- Merge housing and loan as \"has_loan\""
   ]
  },
  {
   "cell_type": "code",
   "execution_count": 59,
   "metadata": {},
   "outputs": [
    {
     "data": {
      "text/plain": [
       "young           518\n",
       "middle          501\n",
       "lower middle    489\n",
       "senior          481\n",
       "Name: age_binned, dtype: int64"
      ]
     },
     "execution_count": 59,
     "metadata": {},
     "output_type": "execute_result"
    }
   ],
   "source": [
    "# Convert subscribed to numeric and rename to \"y\" -> target variable\n",
    "df['y'] = df['subscribed'].map({'yes':1, 'no':0})\n",
    "df.drop('subscribed', axis=1, inplace = True)\n",
    "\n",
    "# Creating the age group name\n",
    "age_group_names = ['young', 'lower middle', 'middle', 'senior']\n",
    "\n",
    "# Break the age groups into 4 parts and assign group names\n",
    "df['age_binned'] = pd.qcut(df['age'], 4, labels = age_group_names)\n",
    "df['age_binned'].value_counts()"
   ]
  },
  {
   "cell_type": "markdown",
   "metadata": {},
   "source": [
    "### New feature \"life_stage\""
   ]
  },
  {
   "cell_type": "code",
   "execution_count": 60,
   "metadata": {},
   "outputs": [
    {
     "data": {
      "text/plain": [
       "young & single             382\n",
       "senior & married           369\n",
       "middle & married           332\n",
       "lower middle & married     278\n",
       "lower middle & single      169\n",
       "young & married            125\n",
       "middle & single             95\n",
       "senior & divorced           88\n",
       "middle & divorced           74\n",
       "lower middle & divorced     42\n",
       "senior & single             24\n",
       "young & divorced            11\n",
       "Name: life_stage, dtype: int64"
      ]
     },
     "execution_count": 60,
     "metadata": {},
     "output_type": "execute_result"
    }
   ],
   "source": [
    "# Getting life stage of age group\n",
    "df['life_stage'] = df.apply(lambda x: x['age_binned'] +' & ' + x['marital'], axis = 1)\n",
    "df['life_stage'].value_counts()"
   ]
  },
  {
   "cell_type": "markdown",
   "metadata": {},
   "source": [
    "#### Group job categories"
   ]
  },
  {
   "cell_type": "code",
   "execution_count": 61,
   "metadata": {},
   "outputs": [],
   "source": [
    "# Combine similar jobs into categiroes\n",
    "\n",
    "# A white-collar worker is a person who performs professional, managerial, or administrative work. \n",
    "df['job'] = df['job'].replace(['management', 'admin.'], 'white-collar')\n",
    "\n",
    "# Pink collar include jobs in the beauty industry, nursing, teaching, secretarial work, waitressing, or child care.\n",
    "df['job'] = df['job'].replace(['services','housemaid'], 'pink-collar')\n",
    "\n",
    "df['job'] = df['job'].replace(['retired', 'student', 'unemployed', 'unknown'], 'other')"
   ]
  },
  {
   "cell_type": "code",
   "execution_count": 62,
   "metadata": {},
   "outputs": [
    {
     "data": {
      "text/plain": [
       "white-collar     708\n",
       "technician       348\n",
       "other            326\n",
       "blue-collar      298\n",
       "pink-collar      200\n",
       "self-employed     64\n",
       "entrepreneur      45\n",
       "Name: job, dtype: int64"
      ]
     },
     "execution_count": 62,
     "metadata": {},
     "output_type": "execute_result"
    }
   ],
   "source": [
    "# New Job value counts\n",
    "df.job.value_counts()"
   ]
  },
  {
   "cell_type": "markdown",
   "metadata": {},
   "source": [
    "### New feature \"has_loan\" by grouping \"housing\" and personal \"loan\" "
   ]
  },
  {
   "cell_type": "code",
   "execution_count": 63,
   "metadata": {},
   "outputs": [
    {
     "data": {
      "text/plain": [
       "no     1028\n",
       "yes     961\n",
       "Name: housing, dtype: int64"
      ]
     },
     "execution_count": 63,
     "metadata": {},
     "output_type": "execute_result"
    }
   ],
   "source": [
    "df.housing.value_counts()"
   ]
  },
  {
   "cell_type": "code",
   "execution_count": 64,
   "metadata": {},
   "outputs": [
    {
     "data": {
      "text/plain": [
       "no     1739\n",
       "yes     250\n",
       "Name: loan, dtype: int64"
      ]
     },
     "execution_count": 64,
     "metadata": {},
     "output_type": "execute_result"
    }
   ],
   "source": [
    "df.loan.value_counts()"
   ]
  },
  {
   "cell_type": "code",
   "execution_count": 65,
   "metadata": {},
   "outputs": [],
   "source": [
    "# function to merge loans, can be made more pythonic!\n",
    "\n",
    "def conditions(data):\n",
    "    # function to merge loans\n",
    "    \n",
    "    if (data['housing'] == 'yes') or (data['loan'] == 'yes'):\n",
    "        return 1\n",
    "    else:\n",
    "        return 0"
   ]
  },
  {
   "cell_type": "code",
   "execution_count": 66,
   "metadata": {},
   "outputs": [],
   "source": [
    "# Create a new feature has_loan from hosuing and loan attrbiutes\n",
    "df['has_loan'] = df.apply(conditions, axis=1)"
   ]
  },
  {
   "cell_type": "code",
   "execution_count": 67,
   "metadata": {},
   "outputs": [],
   "source": [
    "# Drop housing and loan attributes from bank data frame\n",
    "df.drop('housing', axis=1, inplace = True)\n",
    "df.drop('loan', axis=1, inplace = True)"
   ]
  },
  {
   "cell_type": "code",
   "execution_count": 68,
   "metadata": {},
   "outputs": [
    {
     "data": {
      "text/plain": [
       "1    1041\n",
       "0     948\n",
       "Name: has_loan, dtype: int64"
      ]
     },
     "execution_count": 68,
     "metadata": {},
     "output_type": "execute_result"
    }
   ],
   "source": [
    "df.has_loan.value_counts()"
   ]
  },
  {
   "cell_type": "code",
   "execution_count": 69,
   "metadata": {},
   "outputs": [
    {
     "data": {
      "text/html": [
       "<div>\n",
       "<style scoped>\n",
       "    .dataframe tbody tr th:only-of-type {\n",
       "        vertical-align: middle;\n",
       "    }\n",
       "\n",
       "    .dataframe tbody tr th {\n",
       "        vertical-align: top;\n",
       "    }\n",
       "\n",
       "    .dataframe thead th {\n",
       "        text-align: right;\n",
       "    }\n",
       "</style>\n",
       "<table border=\"1\" class=\"dataframe\">\n",
       "  <thead>\n",
       "    <tr style=\"text-align: right;\">\n",
       "      <th></th>\n",
       "      <th>age</th>\n",
       "      <th>job</th>\n",
       "      <th>marital</th>\n",
       "      <th>education</th>\n",
       "      <th>default</th>\n",
       "      <th>balance</th>\n",
       "      <th>ratio_bal_ln</th>\n",
       "      <th>ratio_ln_inc</th>\n",
       "      <th>contact</th>\n",
       "      <th>day</th>\n",
       "      <th>...</th>\n",
       "      <th>previous</th>\n",
       "      <th>poutcome</th>\n",
       "      <th>balance_log</th>\n",
       "      <th>age_log</th>\n",
       "      <th>duration_log</th>\n",
       "      <th>pdays_log</th>\n",
       "      <th>y</th>\n",
       "      <th>age_binned</th>\n",
       "      <th>life_stage</th>\n",
       "      <th>has_loan</th>\n",
       "    </tr>\n",
       "  </thead>\n",
       "  <tbody>\n",
       "    <tr>\n",
       "      <th>0</th>\n",
       "      <td>32.0</td>\n",
       "      <td>technician</td>\n",
       "      <td>single</td>\n",
       "      <td>tertiary</td>\n",
       "      <td>no</td>\n",
       "      <td>392</td>\n",
       "      <td>1.300134</td>\n",
       "      <td>0.473895</td>\n",
       "      <td>cellular</td>\n",
       "      <td>1</td>\n",
       "      <td>...</td>\n",
       "      <td>2</td>\n",
       "      <td>failure</td>\n",
       "      <td>1371</td>\n",
       "      <td>3.465736</td>\n",
       "      <td>6.863803</td>\n",
       "      <td>4.890349</td>\n",
       "      <td>0</td>\n",
       "      <td>young</td>\n",
       "      <td>young &amp; single</td>\n",
       "      <td>1</td>\n",
       "    </tr>\n",
       "    <tr>\n",
       "      <th>1</th>\n",
       "      <td>39.0</td>\n",
       "      <td>technician</td>\n",
       "      <td>divorced</td>\n",
       "      <td>secondary</td>\n",
       "      <td>no</td>\n",
       "      <td>688</td>\n",
       "      <td>-0.193701</td>\n",
       "      <td>0.237021</td>\n",
       "      <td>cellular</td>\n",
       "      <td>1</td>\n",
       "      <td>...</td>\n",
       "      <td>1</td>\n",
       "      <td>failure</td>\n",
       "      <td>1667</td>\n",
       "      <td>3.663562</td>\n",
       "      <td>5.451038</td>\n",
       "      <td>4.905275</td>\n",
       "      <td>0</td>\n",
       "      <td>middle</td>\n",
       "      <td>middle &amp; divorced</td>\n",
       "      <td>1</td>\n",
       "    </tr>\n",
       "    <tr>\n",
       "      <th>2</th>\n",
       "      <td>59.0</td>\n",
       "      <td>other</td>\n",
       "      <td>married</td>\n",
       "      <td>secondary</td>\n",
       "      <td>no</td>\n",
       "      <td>1035</td>\n",
       "      <td>1.334266</td>\n",
       "      <td>0.121981</td>\n",
       "      <td>cellular</td>\n",
       "      <td>1</td>\n",
       "      <td>...</td>\n",
       "      <td>1</td>\n",
       "      <td>failure</td>\n",
       "      <td>2014</td>\n",
       "      <td>4.077537</td>\n",
       "      <td>4.836282</td>\n",
       "      <td>5.484797</td>\n",
       "      <td>0</td>\n",
       "      <td>senior</td>\n",
       "      <td>senior &amp; married</td>\n",
       "      <td>1</td>\n",
       "    </tr>\n",
       "    <tr>\n",
       "      <th>3</th>\n",
       "      <td>47.0</td>\n",
       "      <td>blue-collar</td>\n",
       "      <td>married</td>\n",
       "      <td>secondary</td>\n",
       "      <td>no</td>\n",
       "      <td>398</td>\n",
       "      <td>0.362286</td>\n",
       "      <td>1.251328</td>\n",
       "      <td>cellular</td>\n",
       "      <td>1</td>\n",
       "      <td>...</td>\n",
       "      <td>2</td>\n",
       "      <td>failure</td>\n",
       "      <td>1377</td>\n",
       "      <td>3.850148</td>\n",
       "      <td>5.613128</td>\n",
       "      <td>5.480639</td>\n",
       "      <td>0</td>\n",
       "      <td>middle</td>\n",
       "      <td>middle &amp; married</td>\n",
       "      <td>1</td>\n",
       "    </tr>\n",
       "    <tr>\n",
       "      <th>4</th>\n",
       "      <td>54.0</td>\n",
       "      <td>other</td>\n",
       "      <td>married</td>\n",
       "      <td>secondary</td>\n",
       "      <td>no</td>\n",
       "      <td>1004</td>\n",
       "      <td>0.072075</td>\n",
       "      <td>-0.533738</td>\n",
       "      <td>cellular</td>\n",
       "      <td>1</td>\n",
       "      <td>...</td>\n",
       "      <td>1</td>\n",
       "      <td>failure</td>\n",
       "      <td>1983</td>\n",
       "      <td>3.988984</td>\n",
       "      <td>6.171701</td>\n",
       "      <td>5.733341</td>\n",
       "      <td>0</td>\n",
       "      <td>senior</td>\n",
       "      <td>senior &amp; married</td>\n",
       "      <td>1</td>\n",
       "    </tr>\n",
       "  </tbody>\n",
       "</table>\n",
       "<p>5 rows × 24 columns</p>\n",
       "</div>"
      ],
      "text/plain": [
       "    age          job   marital  education default  balance  ratio_bal_ln  \\\n",
       "0  32.0   technician    single   tertiary      no      392      1.300134   \n",
       "1  39.0   technician  divorced  secondary      no      688     -0.193701   \n",
       "2  59.0        other   married  secondary      no     1035      1.334266   \n",
       "3  47.0  blue-collar   married  secondary      no      398      0.362286   \n",
       "4  54.0        other   married  secondary      no     1004      0.072075   \n",
       "\n",
       "   ratio_ln_inc   contact  day    ...    previous  poutcome  balance_log  \\\n",
       "0      0.473895  cellular    1    ...           2   failure         1371   \n",
       "1      0.237021  cellular    1    ...           1   failure         1667   \n",
       "2      0.121981  cellular    1    ...           1   failure         2014   \n",
       "3      1.251328  cellular    1    ...           2   failure         1377   \n",
       "4     -0.533738  cellular    1    ...           1   failure         1983   \n",
       "\n",
       "    age_log  duration_log pdays_log  y  age_binned         life_stage  \\\n",
       "0  3.465736      6.863803  4.890349  0       young     young & single   \n",
       "1  3.663562      5.451038  4.905275  0      middle  middle & divorced   \n",
       "2  4.077537      4.836282  5.484797  0      senior   senior & married   \n",
       "3  3.850148      5.613128  5.480639  0      middle   middle & married   \n",
       "4  3.988984      6.171701  5.733341  0      senior   senior & married   \n",
       "\n",
       "   has_loan  \n",
       "0         1  \n",
       "1         1  \n",
       "2         1  \n",
       "3         1  \n",
       "4         1  \n",
       "\n",
       "[5 rows x 24 columns]"
      ]
     },
     "execution_count": 69,
     "metadata": {},
     "output_type": "execute_result"
    }
   ],
   "source": [
    "df.head()"
   ]
  },
  {
   "cell_type": "code",
   "execution_count": null,
   "metadata": {},
   "outputs": [],
   "source": []
  },
  {
   "cell_type": "markdown",
   "metadata": {},
   "source": [
    "## Task 4 (CE6002)\n",
    "Using the dataset you prepared, perform a classification on the data using scikitlearn’s logistic regression.\n",
    "\n",
    "Generate plots of the approximate probability P[Ein-Eout|>e]. You can use the exact same approach as in E-tivity 1. In the same figure, plot the Hoeffding bound and the VC bound and check whether or not either bound is exceeded (indicate this clearly in a markdown cell)."
   ]
  },
  {
   "cell_type": "markdown",
   "metadata": {},
   "source": [
    "### Preparing the data for logistic regression\n",
    "Need to convert categorical values to numeric by get_dummies/label_encoder and remove the redundant attributes"
   ]
  },
  {
   "cell_type": "code",
   "execution_count": null,
   "metadata": {},
   "outputs": [],
   "source": []
  },
  {
   "cell_type": "code",
   "execution_count": 70,
   "metadata": {},
   "outputs": [],
   "source": [
    "# Drop 'contact', as every participant has been contacted. \n",
    "df.drop('contact', axis=1, inplace=True)"
   ]
  },
  {
   "cell_type": "code",
   "execution_count": 71,
   "metadata": {},
   "outputs": [],
   "source": [
    "# Values for \"default\" : yes/no\n",
    "df['default_cat'] = df['default'].map( {'yes':1, 'no':0} )\n",
    "df.drop('default', axis=1,inplace = True)"
   ]
  },
  {
   "cell_type": "code",
   "execution_count": 72,
   "metadata": {},
   "outputs": [],
   "source": [
    "# day  : last contact day of the month\n",
    "# month: last contact month of year\n",
    "# Drop 'month' and 'day' as they don't have any intrinsic meaning\n",
    "df.drop('month', axis=1, inplace=True)\n",
    "df.drop('day', axis=1, inplace=True)"
   ]
  },
  {
   "cell_type": "code",
   "execution_count": 73,
   "metadata": {},
   "outputs": [
    {
     "data": {
      "text/html": [
       "<div>\n",
       "<style scoped>\n",
       "    .dataframe tbody tr th:only-of-type {\n",
       "        vertical-align: middle;\n",
       "    }\n",
       "\n",
       "    .dataframe tbody tr th {\n",
       "        vertical-align: top;\n",
       "    }\n",
       "\n",
       "    .dataframe thead th {\n",
       "        text-align: right;\n",
       "    }\n",
       "</style>\n",
       "<table border=\"1\" class=\"dataframe\">\n",
       "  <thead>\n",
       "    <tr style=\"text-align: right;\">\n",
       "      <th></th>\n",
       "      <th>age</th>\n",
       "      <th>job</th>\n",
       "      <th>marital</th>\n",
       "      <th>education</th>\n",
       "      <th>balance</th>\n",
       "      <th>ratio_bal_ln</th>\n",
       "      <th>ratio_ln_inc</th>\n",
       "      <th>duration</th>\n",
       "      <th>campaign</th>\n",
       "      <th>pdays</th>\n",
       "      <th>...</th>\n",
       "      <th>poutcome</th>\n",
       "      <th>balance_log</th>\n",
       "      <th>age_log</th>\n",
       "      <th>duration_log</th>\n",
       "      <th>pdays_log</th>\n",
       "      <th>y</th>\n",
       "      <th>age_binned</th>\n",
       "      <th>life_stage</th>\n",
       "      <th>has_loan</th>\n",
       "      <th>default_cat</th>\n",
       "    </tr>\n",
       "  </thead>\n",
       "  <tbody>\n",
       "    <tr>\n",
       "      <th>1984</th>\n",
       "      <td>20.0</td>\n",
       "      <td>other</td>\n",
       "      <td>single</td>\n",
       "      <td>secondary</td>\n",
       "      <td>2785</td>\n",
       "      <td>-2.170524</td>\n",
       "      <td>1.081071</td>\n",
       "      <td>327</td>\n",
       "      <td>2</td>\n",
       "      <td>-1</td>\n",
       "      <td>...</td>\n",
       "      <td>unknown</td>\n",
       "      <td>3764</td>\n",
       "      <td>2.995732</td>\n",
       "      <td>5.789960</td>\n",
       "      <td>0.0</td>\n",
       "      <td>1</td>\n",
       "      <td>young</td>\n",
       "      <td>young &amp; single</td>\n",
       "      <td>0</td>\n",
       "      <td>0</td>\n",
       "    </tr>\n",
       "    <tr>\n",
       "      <th>1985</th>\n",
       "      <td>28.0</td>\n",
       "      <td>white-collar</td>\n",
       "      <td>single</td>\n",
       "      <td>secondary</td>\n",
       "      <td>127</td>\n",
       "      <td>0.811788</td>\n",
       "      <td>1.134496</td>\n",
       "      <td>1334</td>\n",
       "      <td>2</td>\n",
       "      <td>-1</td>\n",
       "      <td>...</td>\n",
       "      <td>unknown</td>\n",
       "      <td>1106</td>\n",
       "      <td>3.332205</td>\n",
       "      <td>7.195937</td>\n",
       "      <td>0.0</td>\n",
       "      <td>1</td>\n",
       "      <td>young</td>\n",
       "      <td>young &amp; single</td>\n",
       "      <td>0</td>\n",
       "      <td>0</td>\n",
       "    </tr>\n",
       "    <tr>\n",
       "      <th>1986</th>\n",
       "      <td>81.0</td>\n",
       "      <td>other</td>\n",
       "      <td>married</td>\n",
       "      <td>primary</td>\n",
       "      <td>1154</td>\n",
       "      <td>0.504655</td>\n",
       "      <td>0.042190</td>\n",
       "      <td>231</td>\n",
       "      <td>1</td>\n",
       "      <td>-1</td>\n",
       "      <td>...</td>\n",
       "      <td>unknown</td>\n",
       "      <td>2133</td>\n",
       "      <td>4.394449</td>\n",
       "      <td>5.442418</td>\n",
       "      <td>0.0</td>\n",
       "      <td>1</td>\n",
       "      <td>senior</td>\n",
       "      <td>senior &amp; married</td>\n",
       "      <td>0</td>\n",
       "      <td>0</td>\n",
       "    </tr>\n",
       "    <tr>\n",
       "      <th>1987</th>\n",
       "      <td>46.0</td>\n",
       "      <td>pink-collar</td>\n",
       "      <td>married</td>\n",
       "      <td>primary</td>\n",
       "      <td>4343</td>\n",
       "      <td>-0.965874</td>\n",
       "      <td>0.302708</td>\n",
       "      <td>185</td>\n",
       "      <td>1</td>\n",
       "      <td>-1</td>\n",
       "      <td>...</td>\n",
       "      <td>unknown</td>\n",
       "      <td>5322</td>\n",
       "      <td>3.828641</td>\n",
       "      <td>5.220356</td>\n",
       "      <td>0.0</td>\n",
       "      <td>1</td>\n",
       "      <td>middle</td>\n",
       "      <td>middle &amp; married</td>\n",
       "      <td>1</td>\n",
       "      <td>0</td>\n",
       "    </tr>\n",
       "    <tr>\n",
       "      <th>1988</th>\n",
       "      <td>40.0</td>\n",
       "      <td>entrepreneur</td>\n",
       "      <td>married</td>\n",
       "      <td>secondary</td>\n",
       "      <td>6403</td>\n",
       "      <td>-0.800893</td>\n",
       "      <td>1.066659</td>\n",
       "      <td>208</td>\n",
       "      <td>2</td>\n",
       "      <td>-1</td>\n",
       "      <td>...</td>\n",
       "      <td>unknown</td>\n",
       "      <td>7382</td>\n",
       "      <td>3.688879</td>\n",
       "      <td>5.337538</td>\n",
       "      <td>0.0</td>\n",
       "      <td>1</td>\n",
       "      <td>middle</td>\n",
       "      <td>middle &amp; married</td>\n",
       "      <td>0</td>\n",
       "      <td>0</td>\n",
       "    </tr>\n",
       "  </tbody>\n",
       "</table>\n",
       "<p>5 rows × 21 columns</p>\n",
       "</div>"
      ],
      "text/plain": [
       "       age           job  marital  education  balance  ratio_bal_ln  \\\n",
       "1984  20.0         other   single  secondary     2785     -2.170524   \n",
       "1985  28.0  white-collar   single  secondary      127      0.811788   \n",
       "1986  81.0         other  married    primary     1154      0.504655   \n",
       "1987  46.0   pink-collar  married    primary     4343     -0.965874   \n",
       "1988  40.0  entrepreneur  married  secondary     6403     -0.800893   \n",
       "\n",
       "      ratio_ln_inc  duration  campaign  pdays     ...       poutcome  \\\n",
       "1984      1.081071       327         2     -1     ...        unknown   \n",
       "1985      1.134496      1334         2     -1     ...        unknown   \n",
       "1986      0.042190       231         1     -1     ...        unknown   \n",
       "1987      0.302708       185         1     -1     ...        unknown   \n",
       "1988      1.066659       208         2     -1     ...        unknown   \n",
       "\n",
       "     balance_log   age_log  duration_log  pdays_log  y  age_binned  \\\n",
       "1984        3764  2.995732      5.789960        0.0  1       young   \n",
       "1985        1106  3.332205      7.195937        0.0  1       young   \n",
       "1986        2133  4.394449      5.442418        0.0  1      senior   \n",
       "1987        5322  3.828641      5.220356        0.0  1      middle   \n",
       "1988        7382  3.688879      5.337538        0.0  1      middle   \n",
       "\n",
       "            life_stage has_loan  default_cat  \n",
       "1984    young & single        0            0  \n",
       "1985    young & single        0            0  \n",
       "1986  senior & married        0            0  \n",
       "1987  middle & married        1            0  \n",
       "1988  middle & married        0            0  \n",
       "\n",
       "[5 rows x 21 columns]"
      ]
     },
     "execution_count": 73,
     "metadata": {},
     "output_type": "execute_result"
    }
   ],
   "source": [
    "df.tail()"
   ]
  },
  {
   "cell_type": "code",
   "execution_count": 74,
   "metadata": {},
   "outputs": [
    {
     "data": {
      "text/html": [
       "<div>\n",
       "<style scoped>\n",
       "    .dataframe tbody tr th:only-of-type {\n",
       "        vertical-align: middle;\n",
       "    }\n",
       "\n",
       "    .dataframe tbody tr th {\n",
       "        vertical-align: top;\n",
       "    }\n",
       "\n",
       "    .dataframe thead th {\n",
       "        text-align: right;\n",
       "    }\n",
       "</style>\n",
       "<table border=\"1\" class=\"dataframe\">\n",
       "  <thead>\n",
       "    <tr style=\"text-align: right;\">\n",
       "      <th></th>\n",
       "      <th>age</th>\n",
       "      <th>balance</th>\n",
       "      <th>ratio_bal_ln</th>\n",
       "      <th>ratio_ln_inc</th>\n",
       "      <th>duration</th>\n",
       "      <th>campaign</th>\n",
       "      <th>pdays</th>\n",
       "      <th>previous</th>\n",
       "      <th>balance_log</th>\n",
       "      <th>age_log</th>\n",
       "      <th>...</th>\n",
       "      <th>marital_divorced</th>\n",
       "      <th>marital_married</th>\n",
       "      <th>marital_single</th>\n",
       "      <th>education_primary</th>\n",
       "      <th>education_secondary</th>\n",
       "      <th>education_tertiary</th>\n",
       "      <th>poutcome_failure</th>\n",
       "      <th>poutcome_other</th>\n",
       "      <th>poutcome_success</th>\n",
       "      <th>poutcome_unknown</th>\n",
       "    </tr>\n",
       "  </thead>\n",
       "  <tbody>\n",
       "    <tr>\n",
       "      <th>0</th>\n",
       "      <td>32.0</td>\n",
       "      <td>392</td>\n",
       "      <td>1.300134</td>\n",
       "      <td>0.473895</td>\n",
       "      <td>957</td>\n",
       "      <td>2</td>\n",
       "      <td>131</td>\n",
       "      <td>2</td>\n",
       "      <td>1371</td>\n",
       "      <td>3.465736</td>\n",
       "      <td>...</td>\n",
       "      <td>0</td>\n",
       "      <td>0</td>\n",
       "      <td>1</td>\n",
       "      <td>0</td>\n",
       "      <td>0</td>\n",
       "      <td>1</td>\n",
       "      <td>1</td>\n",
       "      <td>0</td>\n",
       "      <td>0</td>\n",
       "      <td>0</td>\n",
       "    </tr>\n",
       "    <tr>\n",
       "      <th>1</th>\n",
       "      <td>39.0</td>\n",
       "      <td>688</td>\n",
       "      <td>-0.193701</td>\n",
       "      <td>0.237021</td>\n",
       "      <td>233</td>\n",
       "      <td>2</td>\n",
       "      <td>133</td>\n",
       "      <td>1</td>\n",
       "      <td>1667</td>\n",
       "      <td>3.663562</td>\n",
       "      <td>...</td>\n",
       "      <td>1</td>\n",
       "      <td>0</td>\n",
       "      <td>0</td>\n",
       "      <td>0</td>\n",
       "      <td>1</td>\n",
       "      <td>0</td>\n",
       "      <td>1</td>\n",
       "      <td>0</td>\n",
       "      <td>0</td>\n",
       "      <td>0</td>\n",
       "    </tr>\n",
       "    <tr>\n",
       "      <th>2</th>\n",
       "      <td>59.0</td>\n",
       "      <td>1035</td>\n",
       "      <td>1.334266</td>\n",
       "      <td>0.121981</td>\n",
       "      <td>126</td>\n",
       "      <td>2</td>\n",
       "      <td>239</td>\n",
       "      <td>1</td>\n",
       "      <td>2014</td>\n",
       "      <td>4.077537</td>\n",
       "      <td>...</td>\n",
       "      <td>0</td>\n",
       "      <td>1</td>\n",
       "      <td>0</td>\n",
       "      <td>0</td>\n",
       "      <td>1</td>\n",
       "      <td>0</td>\n",
       "      <td>1</td>\n",
       "      <td>0</td>\n",
       "      <td>0</td>\n",
       "      <td>0</td>\n",
       "    </tr>\n",
       "    <tr>\n",
       "      <th>3</th>\n",
       "      <td>47.0</td>\n",
       "      <td>398</td>\n",
       "      <td>0.362286</td>\n",
       "      <td>1.251328</td>\n",
       "      <td>274</td>\n",
       "      <td>1</td>\n",
       "      <td>238</td>\n",
       "      <td>2</td>\n",
       "      <td>1377</td>\n",
       "      <td>3.850148</td>\n",
       "      <td>...</td>\n",
       "      <td>0</td>\n",
       "      <td>1</td>\n",
       "      <td>0</td>\n",
       "      <td>0</td>\n",
       "      <td>1</td>\n",
       "      <td>0</td>\n",
       "      <td>1</td>\n",
       "      <td>0</td>\n",
       "      <td>0</td>\n",
       "      <td>0</td>\n",
       "    </tr>\n",
       "    <tr>\n",
       "      <th>4</th>\n",
       "      <td>54.0</td>\n",
       "      <td>1004</td>\n",
       "      <td>0.072075</td>\n",
       "      <td>-0.533738</td>\n",
       "      <td>479</td>\n",
       "      <td>1</td>\n",
       "      <td>307</td>\n",
       "      <td>1</td>\n",
       "      <td>1983</td>\n",
       "      <td>3.988984</td>\n",
       "      <td>...</td>\n",
       "      <td>0</td>\n",
       "      <td>1</td>\n",
       "      <td>0</td>\n",
       "      <td>0</td>\n",
       "      <td>1</td>\n",
       "      <td>0</td>\n",
       "      <td>1</td>\n",
       "      <td>0</td>\n",
       "      <td>0</td>\n",
       "      <td>0</td>\n",
       "    </tr>\n",
       "  </tbody>\n",
       "</table>\n",
       "<p>5 rows × 34 columns</p>\n",
       "</div>"
      ],
      "text/plain": [
       "    age  balance  ratio_bal_ln  ratio_ln_inc  duration  campaign  pdays  \\\n",
       "0  32.0      392      1.300134      0.473895       957         2    131   \n",
       "1  39.0      688     -0.193701      0.237021       233         2    133   \n",
       "2  59.0     1035      1.334266      0.121981       126         2    239   \n",
       "3  47.0      398      0.362286      1.251328       274         1    238   \n",
       "4  54.0     1004      0.072075     -0.533738       479         1    307   \n",
       "\n",
       "   previous  balance_log   age_log        ...         marital_divorced  \\\n",
       "0         2         1371  3.465736        ...                        0   \n",
       "1         1         1667  3.663562        ...                        1   \n",
       "2         1         2014  4.077537        ...                        0   \n",
       "3         2         1377  3.850148        ...                        0   \n",
       "4         1         1983  3.988984        ...                        0   \n",
       "\n",
       "   marital_married  marital_single education_primary education_secondary  \\\n",
       "0                0               1                 0                   0   \n",
       "1                0               0                 0                   1   \n",
       "2                1               0                 0                   1   \n",
       "3                1               0                 0                   1   \n",
       "4                1               0                 0                   1   \n",
       "\n",
       "   education_tertiary  poutcome_failure  poutcome_other  poutcome_success  \\\n",
       "0                   1                 1               0                 0   \n",
       "1                   0                 1               0                 0   \n",
       "2                   0                 1               0                 0   \n",
       "3                   0                 1               0                 0   \n",
       "4                   0                 1               0                 0   \n",
       "\n",
       "   poutcome_unknown  \n",
       "0                 0  \n",
       "1                 0  \n",
       "2                 0  \n",
       "3                 0  \n",
       "4                 0  \n",
       "\n",
       "[5 rows x 34 columns]"
      ]
     },
     "execution_count": 74,
     "metadata": {},
     "output_type": "execute_result"
    }
   ],
   "source": [
    "# Convert categorical variables to dummies\n",
    "df_dummies = pd.get_dummies(data=df, columns = ['job', 'marital', 'education', 'poutcome'], \\\n",
    "                                   prefix = ['job', 'marital', 'education', 'poutcome'])\n",
    "df_dummies.head()"
   ]
  },
  {
   "cell_type": "code",
   "execution_count": 75,
   "metadata": {},
   "outputs": [
    {
     "data": {
      "text/plain": [
       "(1989, 34)"
      ]
     },
     "execution_count": 75,
     "metadata": {},
     "output_type": "execute_result"
    }
   ],
   "source": [
    "df_dummies.shape"
   ]
  },
  {
   "cell_type": "code",
   "execution_count": 76,
   "metadata": {},
   "outputs": [
    {
     "data": {
      "text/html": [
       "<div>\n",
       "<style scoped>\n",
       "    .dataframe tbody tr th:only-of-type {\n",
       "        vertical-align: middle;\n",
       "    }\n",
       "\n",
       "    .dataframe tbody tr th {\n",
       "        vertical-align: top;\n",
       "    }\n",
       "\n",
       "    .dataframe thead th {\n",
       "        text-align: right;\n",
       "    }\n",
       "</style>\n",
       "<table border=\"1\" class=\"dataframe\">\n",
       "  <thead>\n",
       "    <tr style=\"text-align: right;\">\n",
       "      <th></th>\n",
       "      <th>life_stage</th>\n",
       "    </tr>\n",
       "  </thead>\n",
       "  <tbody>\n",
       "    <tr>\n",
       "      <th>count</th>\n",
       "      <td>1989</td>\n",
       "    </tr>\n",
       "    <tr>\n",
       "      <th>unique</th>\n",
       "      <td>12</td>\n",
       "    </tr>\n",
       "    <tr>\n",
       "      <th>top</th>\n",
       "      <td>young &amp; single</td>\n",
       "    </tr>\n",
       "    <tr>\n",
       "      <th>freq</th>\n",
       "      <td>382</td>\n",
       "    </tr>\n",
       "  </tbody>\n",
       "</table>\n",
       "</div>"
      ],
      "text/plain": [
       "            life_stage\n",
       "count             1989\n",
       "unique              12\n",
       "top     young & single\n",
       "freq               382"
      ]
     },
     "execution_count": 76,
     "metadata": {},
     "output_type": "execute_result"
    }
   ],
   "source": [
    "df_dummies.describe(include=np.object)"
   ]
  },
  {
   "cell_type": "code",
   "execution_count": 77,
   "metadata": {},
   "outputs": [
    {
     "ename": "SyntaxError",
     "evalue": "invalid syntax (<ipython-input-77-7525fe3e565b>, line 1)",
     "output_type": "error",
     "traceback": [
      "\u001b[1;36m  File \u001b[1;32m\"<ipython-input-77-7525fe3e565b>\"\u001b[1;36m, line \u001b[1;32m1\u001b[0m\n\u001b[1;33m    X, y =\u001b[0m\n\u001b[1;37m           ^\u001b[0m\n\u001b[1;31mSyntaxError\u001b[0m\u001b[1;31m:\u001b[0m invalid syntax\n"
     ]
    }
   ],
   "source": [
    "X, y = "
   ]
  },
  {
   "cell_type": "code",
   "execution_count": null,
   "metadata": {},
   "outputs": [],
   "source": []
  },
  {
   "cell_type": "code",
   "execution_count": null,
   "metadata": {},
   "outputs": [],
   "source": []
  },
  {
   "cell_type": "code",
   "execution_count": null,
   "metadata": {},
   "outputs": [],
   "source": [
    "clf = LogisticRegression(random_state=0, solver='lbfgs', multi_class='multinomial').fit(X, y)\n",
    "clf.predict(X[:2, :])\n",
    "\n",
    "clf.predict_proba(X[:2, :]) \n",
    "\n",
    "clf.score(X, y)"
   ]
  },
  {
   "cell_type": "markdown",
   "metadata": {},
   "source": [
    "## Task 5 (CE6002)\n",
    "Using the dataset, make learning curves for logistic regression and two other machine learning algorithms of your choosing using scikitlearn’s learning_curve functionality. Choose one algorithm with low complexity in terms of VC dimension and one algorithm with high complexity.\n",
    "\n",
    "Comment on what information you can derive from the learning curves  (in a markdown cell) and how this information differs between simple and complex machine learning algorithms."
   ]
  },
  {
   "cell_type": "markdown",
   "metadata": {},
   "source": [
    "### TBD\n",
    "\n",
    "Reference: https://scikit-learn.org/stable/auto_examples/model_selection/plot_learning_curve.html"
   ]
  },
  {
   "cell_type": "code",
   "execution_count": null,
   "metadata": {},
   "outputs": [],
   "source": []
  }
 ],
 "metadata": {
  "kernelspec": {
   "display_name": "Python 3",
   "language": "python",
   "name": "python3"
  },
  "language_info": {
   "codemirror_mode": {
    "name": "ipython",
    "version": 3
   },
   "file_extension": ".py",
   "mimetype": "text/x-python",
   "name": "python",
   "nbconvert_exporter": "python",
   "pygments_lexer": "ipython3",
   "version": "3.6.5"
  }
 },
 "nbformat": 4,
 "nbformat_minor": 2
}
