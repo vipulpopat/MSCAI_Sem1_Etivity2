{
 "cells": [
  {
   "cell_type": "code",
   "execution_count": 1,
   "metadata": {},
   "outputs": [],
   "source": [
    "import matplotlib.pyplot as plt\n",
    "import numpy as np\n",
    "from sklearn.datasets import make_moons\n",
    "from sklearn.linear_model import LogisticRegression\n",
    "from sklearn import preprocessing\n",
    "import math\n",
    "from sklearn.utils import shuffle\n",
    "from sklearn.model_selection import train_test_split\n",
    "from sklearn.feature_selection import RFE\n",
    "from sklearn.linear_model import LogisticRegression,LinearRegression\n",
    "from sklearn.neighbors import NearestNeighbors\n",
    "from sklearn.metrics import confusion_matrix,classification_report\n",
    "from sklearn.naive_bayes import GaussianNB\n",
    "from sklearn.model_selection import learning_curve\n",
    "from sklearn.model_selection import ShuffleSplit\n",
    "from sklearn.svm import SVC\n",
    "import pandas as pd\n",
    "import seaborn as sns\n",
    "import random\n",
    "import statistics  \n",
    "from scipy import stats\n",
    "import statsmodels.api as sm\n",
    "from decimal import Decimal"
   ]
  },
  {
   "cell_type": "markdown",
   "metadata": {},
   "source": [
    "# Task 1\n",
    "\n",
    "Fill-in the missing values in the bank dataset. Use the EDA techniques from E-tivity 1 to decide how to fill in missing values. In your notebook, explain shortly (max 250 words) the decisions you have taken."
   ]
  },
  {
   "cell_type": "code",
   "execution_count": 2,
   "metadata": {},
   "outputs": [],
   "source": [
    "df = pd.read_csv('./bank_et2.csv')"
   ]
  },
  {
   "cell_type": "code",
   "execution_count": 3,
   "metadata": {},
   "outputs": [
    {
     "data": {
      "text/html": [
       "<div>\n",
       "<style scoped>\n",
       "    .dataframe tbody tr th:only-of-type {\n",
       "        vertical-align: middle;\n",
       "    }\n",
       "\n",
       "    .dataframe tbody tr th {\n",
       "        vertical-align: top;\n",
       "    }\n",
       "\n",
       "    .dataframe thead th {\n",
       "        text-align: right;\n",
       "    }\n",
       "</style>\n",
       "<table border=\"1\" class=\"dataframe\">\n",
       "  <thead>\n",
       "    <tr style=\"text-align: right;\">\n",
       "      <th></th>\n",
       "      <th>Unnamed: 0</th>\n",
       "      <th>age</th>\n",
       "      <th>job</th>\n",
       "      <th>marital</th>\n",
       "      <th>education</th>\n",
       "      <th>default</th>\n",
       "      <th>balance</th>\n",
       "      <th>ratio_bal_ln</th>\n",
       "      <th>ratio_ln_inc</th>\n",
       "      <th>housing</th>\n",
       "      <th>loan</th>\n",
       "      <th>contact</th>\n",
       "      <th>day</th>\n",
       "      <th>month</th>\n",
       "      <th>duration</th>\n",
       "      <th>campaign</th>\n",
       "      <th>pdays</th>\n",
       "      <th>previous</th>\n",
       "      <th>poutcome</th>\n",
       "      <th>subscribed</th>\n",
       "    </tr>\n",
       "  </thead>\n",
       "  <tbody>\n",
       "    <tr>\n",
       "      <th>0</th>\n",
       "      <td>0</td>\n",
       "      <td>32.0</td>\n",
       "      <td>technician</td>\n",
       "      <td>single</td>\n",
       "      <td>tertiary</td>\n",
       "      <td>no</td>\n",
       "      <td>392</td>\n",
       "      <td>1.300134</td>\n",
       "      <td>0.473895</td>\n",
       "      <td>yes</td>\n",
       "      <td>no</td>\n",
       "      <td>cellular</td>\n",
       "      <td>1</td>\n",
       "      <td>apr</td>\n",
       "      <td>957</td>\n",
       "      <td>2</td>\n",
       "      <td>131</td>\n",
       "      <td>2</td>\n",
       "      <td>failure</td>\n",
       "      <td>no</td>\n",
       "    </tr>\n",
       "    <tr>\n",
       "      <th>1</th>\n",
       "      <td>1</td>\n",
       "      <td>39.0</td>\n",
       "      <td>technician</td>\n",
       "      <td>divorced</td>\n",
       "      <td>secondary</td>\n",
       "      <td>no</td>\n",
       "      <td>688</td>\n",
       "      <td>-0.193701</td>\n",
       "      <td>0.237021</td>\n",
       "      <td>yes</td>\n",
       "      <td>yes</td>\n",
       "      <td>cellular</td>\n",
       "      <td>1</td>\n",
       "      <td>apr</td>\n",
       "      <td>233</td>\n",
       "      <td>2</td>\n",
       "      <td>133</td>\n",
       "      <td>1</td>\n",
       "      <td>failure</td>\n",
       "      <td>no</td>\n",
       "    </tr>\n",
       "    <tr>\n",
       "      <th>2</th>\n",
       "      <td>2</td>\n",
       "      <td>59.0</td>\n",
       "      <td>retired</td>\n",
       "      <td>married</td>\n",
       "      <td>secondary</td>\n",
       "      <td>no</td>\n",
       "      <td>1035</td>\n",
       "      <td>1.334266</td>\n",
       "      <td>0.121981</td>\n",
       "      <td>yes</td>\n",
       "      <td>yes</td>\n",
       "      <td>cellular</td>\n",
       "      <td>1</td>\n",
       "      <td>apr</td>\n",
       "      <td>126</td>\n",
       "      <td>2</td>\n",
       "      <td>239</td>\n",
       "      <td>1</td>\n",
       "      <td>failure</td>\n",
       "      <td>no</td>\n",
       "    </tr>\n",
       "    <tr>\n",
       "      <th>3</th>\n",
       "      <td>3</td>\n",
       "      <td>47.0</td>\n",
       "      <td>blue-collar</td>\n",
       "      <td>married</td>\n",
       "      <td>secondary</td>\n",
       "      <td>no</td>\n",
       "      <td>398</td>\n",
       "      <td>0.362286</td>\n",
       "      <td>1.251328</td>\n",
       "      <td>yes</td>\n",
       "      <td>yes</td>\n",
       "      <td>cellular</td>\n",
       "      <td>1</td>\n",
       "      <td>apr</td>\n",
       "      <td>274</td>\n",
       "      <td>1</td>\n",
       "      <td>238</td>\n",
       "      <td>2</td>\n",
       "      <td>failure</td>\n",
       "      <td>no</td>\n",
       "    </tr>\n",
       "    <tr>\n",
       "      <th>4</th>\n",
       "      <td>4</td>\n",
       "      <td>54.0</td>\n",
       "      <td>retired</td>\n",
       "      <td>married</td>\n",
       "      <td>secondary</td>\n",
       "      <td>no</td>\n",
       "      <td>1004</td>\n",
       "      <td>0.072075</td>\n",
       "      <td>-0.533738</td>\n",
       "      <td>yes</td>\n",
       "      <td>no</td>\n",
       "      <td>cellular</td>\n",
       "      <td>1</td>\n",
       "      <td>apr</td>\n",
       "      <td>479</td>\n",
       "      <td>1</td>\n",
       "      <td>307</td>\n",
       "      <td>1</td>\n",
       "      <td>failure</td>\n",
       "      <td>no</td>\n",
       "    </tr>\n",
       "  </tbody>\n",
       "</table>\n",
       "</div>"
      ],
      "text/plain": [
       "   Unnamed: 0   age          job   marital  education default  balance  \\\n",
       "0           0  32.0   technician    single   tertiary      no      392   \n",
       "1           1  39.0   technician  divorced  secondary      no      688   \n",
       "2           2  59.0      retired   married  secondary      no     1035   \n",
       "3           3  47.0  blue-collar   married  secondary      no      398   \n",
       "4           4  54.0      retired   married  secondary      no     1004   \n",
       "\n",
       "   ratio_bal_ln  ratio_ln_inc housing loan   contact  day month  duration  \\\n",
       "0      1.300134      0.473895     yes   no  cellular    1   apr       957   \n",
       "1     -0.193701      0.237021     yes  yes  cellular    1   apr       233   \n",
       "2      1.334266      0.121981     yes  yes  cellular    1   apr       126   \n",
       "3      0.362286      1.251328     yes  yes  cellular    1   apr       274   \n",
       "4      0.072075     -0.533738     yes   no  cellular    1   apr       479   \n",
       "\n",
       "   campaign  pdays  previous poutcome subscribed  \n",
       "0         2    131         2  failure         no  \n",
       "1         2    133         1  failure         no  \n",
       "2         2    239         1  failure         no  \n",
       "3         1    238         2  failure         no  \n",
       "4         1    307         1  failure         no  "
      ]
     },
     "execution_count": 3,
     "metadata": {},
     "output_type": "execute_result"
    }
   ],
   "source": [
    "df.head()"
   ]
  },
  {
   "cell_type": "code",
   "execution_count": 4,
   "metadata": {},
   "outputs": [],
   "source": [
    "#Drop Unnamed column as it is just an index\n",
    "df.drop('Unnamed: 0',axis=1,inplace=True)"
   ]
  },
  {
   "cell_type": "code",
   "execution_count": 5,
   "metadata": {},
   "outputs": [
    {
     "data": {
      "text/plain": [
       "age              12\n",
       "job              10\n",
       "marital           0\n",
       "education       104\n",
       "default           0\n",
       "balance           0\n",
       "ratio_bal_ln      0\n",
       "ratio_ln_inc      0\n",
       "housing           0\n",
       "loan              0\n",
       "contact         191\n",
       "day               0\n",
       "month             0\n",
       "duration          0\n",
       "campaign          0\n",
       "pdays             0\n",
       "previous          0\n",
       "poutcome        454\n",
       "subscribed        0\n",
       "dtype: int64"
      ]
     },
     "execution_count": 5,
     "metadata": {},
     "output_type": "execute_result"
    }
   ],
   "source": [
    "# Find the number of nulls/NaNs in the dataset\n",
    "\n",
    "df.apply(lambda x: sum(x.isnull()), axis=0)"
   ]
  },
  {
   "cell_type": "code",
   "execution_count": 6,
   "metadata": {},
   "outputs": [
    {
     "name": "stdout",
     "output_type": "stream",
     "text": [
      "Your selected dataframe has 19 columns.\n",
      "There are 5 columns that have missing values.\n"
     ]
    },
    {
     "data": {
      "text/html": [
       "<div>\n",
       "<style scoped>\n",
       "    .dataframe tbody tr th:only-of-type {\n",
       "        vertical-align: middle;\n",
       "    }\n",
       "\n",
       "    .dataframe tbody tr th {\n",
       "        vertical-align: top;\n",
       "    }\n",
       "\n",
       "    .dataframe thead th {\n",
       "        text-align: right;\n",
       "    }\n",
       "</style>\n",
       "<table border=\"1\" class=\"dataframe\">\n",
       "  <thead>\n",
       "    <tr style=\"text-align: right;\">\n",
       "      <th></th>\n",
       "      <th>Missing Values</th>\n",
       "      <th>% of Total Values</th>\n",
       "    </tr>\n",
       "  </thead>\n",
       "  <tbody>\n",
       "    <tr>\n",
       "      <th>poutcome</th>\n",
       "      <td>454</td>\n",
       "      <td>22.7</td>\n",
       "    </tr>\n",
       "    <tr>\n",
       "      <th>contact</th>\n",
       "      <td>191</td>\n",
       "      <td>9.6</td>\n",
       "    </tr>\n",
       "    <tr>\n",
       "      <th>education</th>\n",
       "      <td>104</td>\n",
       "      <td>5.2</td>\n",
       "    </tr>\n",
       "    <tr>\n",
       "      <th>age</th>\n",
       "      <td>12</td>\n",
       "      <td>0.6</td>\n",
       "    </tr>\n",
       "    <tr>\n",
       "      <th>job</th>\n",
       "      <td>10</td>\n",
       "      <td>0.5</td>\n",
       "    </tr>\n",
       "  </tbody>\n",
       "</table>\n",
       "</div>"
      ],
      "text/plain": [
       "           Missing Values  % of Total Values\n",
       "poutcome              454               22.7\n",
       "contact               191                9.6\n",
       "education             104                5.2\n",
       "age                    12                0.6\n",
       "job                    10                0.5"
      ]
     },
     "execution_count": 6,
     "metadata": {},
     "output_type": "execute_result"
    },
    {
     "data": {
      "image/png": "[encoded data removed]",
      "text/plain": [
       "<Figure size 432x288 with 1 Axes>"
      ]
     },
     "metadata": {
      "needs_background": "light"
     },
     "output_type": "display_data"
    }
   ],
   "source": [
    "def missing_values_table(df):\n",
    "        mis_val = df.isnull().sum()\n",
    "        mis_val_percent = 100 * df.isnull().sum() / len(df)\n",
    "        mis_val_table = pd.concat([mis_val, mis_val_percent], axis=1)\n",
    "        mis_val_table_ren_columns = mis_val_table.rename(\n",
    "        columns = {0 : 'Missing Values', 1 : '% of Total Values'})\n",
    "        mis_val_table_ren_columns = mis_val_table_ren_columns[\n",
    "            mis_val_table_ren_columns.iloc[:,1] != 0].sort_values(\n",
    "        '% of Total Values', ascending=False).round(1)\n",
    "        print (\"Your selected dataframe has \" + str(df.shape[1]) + \" columns.\\n\"      \n",
    "            \"There are \" + str(mis_val_table_ren_columns.shape[0]) +\n",
    "              \" columns that have missing values.\")\n",
    "        sns.barplot(x=mis_val_table_ren_columns.index, y=mis_val_table_ren_columns['% of Total Values'])\n",
    "        plt.xlabel('Features with missing values')\n",
    "        return mis_val_table_ren_columns\n",
    "\n",
    "missing_values_table(df)"
   ]
  },
  {
   "cell_type": "code",
   "execution_count": 7,
   "metadata": {},
   "outputs": [
    {
     "data": {
      "text/plain": [
       "count    1988.000000\n",
       "mean       41.753018\n",
       "std        12.724358\n",
       "min        18.000000\n",
       "25%        32.000000\n",
       "50%        38.000000\n",
       "75%        50.000000\n",
       "max        93.000000\n",
       "Name: age, dtype: float64"
      ]
     },
     "execution_count": 7,
     "metadata": {},
     "output_type": "execute_result"
    }
   ],
   "source": [
    "df['age'].describe()"
   ]
  },
  {
   "cell_type": "markdown",
   "metadata": {},
   "source": [
    "Since there are only 12 instances of age missing, **and mean value is not so far from the median (41/38)**, we can use the mean to replace the missing values"
   ]
  },
  {
   "cell_type": "code",
   "execution_count": 8,
   "metadata": {},
   "outputs": [],
   "source": [
    "df['age'].fillna(df['age'].mean(), inplace=True)"
   ]
  },
  {
   "cell_type": "markdown",
   "metadata": {},
   "source": [
    "Since Contact is nearly 92% filled with cellular, we can fill the missing values with cellular"
   ]
  },
  {
   "cell_type": "code",
   "execution_count": 9,
   "metadata": {},
   "outputs": [
    {
     "data": {
      "text/plain": [
       "cellular     1663\n",
       "telephone     146\n",
       "Name: contact, dtype: int64"
      ]
     },
     "execution_count": 9,
     "metadata": {},
     "output_type": "execute_result"
    }
   ],
   "source": [
    "df['contact'].value_counts()"
   ]
  },
  {
   "cell_type": "code",
   "execution_count": 10,
   "metadata": {},
   "outputs": [],
   "source": [
    "df['contact'].fillna('cellular', inplace=True)\n"
   ]
  },
  {
   "cell_type": "markdown",
   "metadata": {},
   "source": [
    "poutcome is the result of last campaign with each customer, and we are having 454 missing values for it :"
   ]
  },
  {
   "cell_type": "code",
   "execution_count": 11,
   "metadata": {},
   "outputs": [
    {
     "data": {
      "text/plain": [
       "failure    955\n",
       "success    444\n",
       "other      147\n",
       "Name: poutcome, dtype: int64"
      ]
     },
     "execution_count": 11,
     "metadata": {},
     "output_type": "execute_result"
    }
   ],
   "source": [
    "df['poutcome'].value_counts()"
   ]
  },
  {
   "cell_type": "markdown",
   "metadata": {},
   "source": [
    "We can explore some other features related to poutcome, like pdays which is number of days that passed after the customer was \n",
    "last contacted during a previous merketing campaign :"
   ]
  },
  {
   "cell_type": "code",
   "execution_count": 12,
   "metadata": {
    "scrolled": true
   },
   "outputs": [
    {
     "data": {
      "text/plain": [
       "count    2000.000000\n",
       "mean      167.896000\n",
       "std       131.754126\n",
       "min        -1.000000\n",
       "25%        75.750000\n",
       "50%       182.000000\n",
       "75%       251.000000\n",
       "max       854.000000\n",
       "Name: pdays, dtype: float64"
      ]
     },
     "execution_count": 12,
     "metadata": {},
     "output_type": "execute_result"
    }
   ],
   "source": [
    "df['pdays'].describe()"
   ]
  },
  {
   "cell_type": "markdown",
   "metadata": {},
   "source": [
    "Some values are negative for this feature which is not possible, unless this means that there was no previous campaign for the customer, let us see how many customers have negative value for pdays :"
   ]
  },
  {
   "cell_type": "code",
   "execution_count": 13,
   "metadata": {},
   "outputs": [
    {
     "data": {
      "text/plain": [
       "454"
      ]
     },
     "execution_count": 13,
     "metadata": {},
     "output_type": "execute_result"
    }
   ],
   "source": [
    "sum(df['pdays']<0)"
   ]
  },
  {
   "cell_type": "markdown",
   "metadata": {},
   "source": [
    "Exactly same as missing values number for poutcome,this confirms that these are just costumers who didn't have any previous campaign, we will then impute missing poutcome with a category \"no previous\"."
   ]
  },
  {
   "cell_type": "code",
   "execution_count": 14,
   "metadata": {},
   "outputs": [],
   "source": [
    "df['poutcome'].fillna('no_previous',inplace=True)"
   ]
  },
  {
   "cell_type": "code",
   "execution_count": 15,
   "metadata": {},
   "outputs": [
    {
     "data": {
      "text/plain": [
       "failure        955\n",
       "no_previous    454\n",
       "success        444\n",
       "other          147\n",
       "Name: poutcome, dtype: int64"
      ]
     },
     "execution_count": 15,
     "metadata": {},
     "output_type": "execute_result"
    }
   ],
   "source": [
    "df['poutcome'].value_counts()"
   ]
  },
  {
   "cell_type": "markdown",
   "metadata": {},
   "source": [
    "Since there are only 10 missing values in job we can remove all rows that having missing values in the job column"
   ]
  },
  {
   "cell_type": "code",
   "execution_count": 16,
   "metadata": {},
   "outputs": [],
   "source": [
    "df=df.dropna(subset=['job'])"
   ]
  },
  {
   "cell_type": "code",
   "execution_count": 17,
   "metadata": {},
   "outputs": [
    {
     "data": {
      "text/plain": [
       "secondary    993\n",
       "tertiary     683\n",
       "primary      215\n",
       "Name: education, dtype: int64"
      ]
     },
     "execution_count": 17,
     "metadata": {},
     "output_type": "execute_result"
    }
   ],
   "source": [
    "df['education'].value_counts()"
   ]
  },
  {
   "cell_type": "markdown",
   "metadata": {},
   "source": [
    "I used backfill to fill missing data in the education column, the backfill method fill the data with more or less then desired ratio of the 3 different values"
   ]
  },
  {
   "cell_type": "code",
   "execution_count": 41,
   "metadata": {},
   "outputs": [],
   "source": [
    "df['education'].fillna(method='bfill',inplace=True)\n"
   ]
  },
  {
   "cell_type": "code",
   "execution_count": 42,
   "metadata": {},
   "outputs": [
    {
     "data": {
      "text/plain": [
       "secondary    985\n",
       "tertiary     665\n",
       "primary      214\n",
       "Name: education, dtype: int64"
      ]
     },
     "execution_count": 42,
     "metadata": {},
     "output_type": "execute_result"
    }
   ],
   "source": [
    "df['education'].value_counts()"
   ]
  },
  {
   "cell_type": "code",
   "execution_count": 43,
   "metadata": {},
   "outputs": [
    {
     "data": {
      "text/plain": [
       "age                     1864\n",
       "job                     1864\n",
       "marital                 1864\n",
       "education               1864\n",
       "balance                 1864\n",
       "ratio_bal_ln            1864\n",
       "ratio_ln_inc            1864\n",
       "housing                 1864\n",
       "loan                    1864\n",
       "contact                 1864\n",
       "day                     1864\n",
       "month                   1864\n",
       "duration                1864\n",
       "campaign                1864\n",
       "pdays                   1864\n",
       "previous                1864\n",
       "poutcome                1864\n",
       "subscribed              1864\n",
       "job_blue-collar         1864\n",
       "job_no_active_income    1864\n",
       "job_self-employed       1864\n",
       "job_services            1864\n",
       "job_student             1864\n",
       "marital_married         1864\n",
       "marital_single          1864\n",
       "education_secondary     1864\n",
       "education_tertiary      1864\n",
       "housing_yes             1864\n",
       "loan_yes                1864\n",
       "contact_telephone       1864\n",
       "month_Spring            1864\n",
       "month_Summer            1864\n",
       "month_Winter            1864\n",
       "poutcome_no_previous    1864\n",
       "poutcome_other          1864\n",
       "poutcome_success        1864\n",
       "dtype: int64"
      ]
     },
     "execution_count": 43,
     "metadata": {},
     "output_type": "execute_result"
    }
   ],
   "source": [
    "df.count()"
   ]
  },
  {
   "cell_type": "code",
   "execution_count": 21,
   "metadata": {},
   "outputs": [
    {
     "name": "stdout",
     "output_type": "stream",
     "text": [
      "<class 'pandas.core.frame.DataFrame'>\n",
      "Int64Index: 1990 entries, 0 to 1999\n",
      "Data columns (total 19 columns):\n",
      "age             1990 non-null float64\n",
      "job             1990 non-null object\n",
      "marital         1990 non-null object\n",
      "education       1990 non-null object\n",
      "default         1990 non-null object\n",
      "balance         1990 non-null int64\n",
      "ratio_bal_ln    1990 non-null float64\n",
      "ratio_ln_inc    1990 non-null float64\n",
      "housing         1990 non-null object\n",
      "loan            1990 non-null object\n",
      "contact         1990 non-null object\n",
      "day             1990 non-null int64\n",
      "month           1990 non-null object\n",
      "duration        1990 non-null int64\n",
      "campaign        1990 non-null int64\n",
      "pdays           1990 non-null int64\n",
      "previous        1990 non-null int64\n",
      "poutcome        1990 non-null object\n",
      "subscribed      1990 non-null object\n",
      "dtypes: float64(3), int64(6), object(10)\n",
      "memory usage: 310.9+ KB\n"
     ]
    }
   ],
   "source": [
    "df.info()"
   ]
  },
  {
   "cell_type": "markdown",
   "metadata": {},
   "source": [
    "#### Finally we convert object feature to Category type"
   ]
  },
  {
   "cell_type": "code",
   "execution_count": 22,
   "metadata": {},
   "outputs": [
    {
     "name": "stdout",
     "output_type": "stream",
     "text": [
      "<class 'pandas.core.frame.DataFrame'>\n",
      "Int64Index: 1990 entries, 0 to 1999\n",
      "Data columns (total 19 columns):\n",
      "age             1990 non-null float64\n",
      "job             1990 non-null category\n",
      "marital         1990 non-null category\n",
      "education       1990 non-null category\n",
      "default         1990 non-null category\n",
      "balance         1990 non-null int64\n",
      "ratio_bal_ln    1990 non-null float64\n",
      "ratio_ln_inc    1990 non-null float64\n",
      "housing         1990 non-null category\n",
      "loan            1990 non-null category\n",
      "contact         1990 non-null category\n",
      "day             1990 non-null int64\n",
      "month           1990 non-null category\n",
      "duration        1990 non-null int64\n",
      "campaign        1990 non-null int64\n",
      "pdays           1990 non-null int64\n",
      "previous        1990 non-null int64\n",
      "poutcome        1990 non-null category\n",
      "subscribed      1990 non-null category\n",
      "dtypes: category(10), float64(3), int64(6)\n",
      "memory usage: 176.6 KB\n"
     ]
    }
   ],
   "source": [
    "objects=df.select_dtypes(include='object')\n",
    "for column in objects:\n",
    "    df[column]=df[column].astype('category')\n",
    "df.info()"
   ]
  },
  {
   "cell_type": "markdown",
   "metadata": {},
   "source": [
    "#### We display all categories, we may need this information later for prediction models"
   ]
  },
  {
   "cell_type": "code",
   "execution_count": 23,
   "metadata": {},
   "outputs": [
    {
     "name": "stdout",
     "output_type": "stream",
     "text": [
      "job\n",
      "--------\n",
      "management       0.231658\n",
      "technician       0.174874\n",
      "blue-collar      0.149749\n",
      "admin.           0.124121\n",
      "services         0.082915\n",
      "retired          0.081407\n",
      "student          0.048241\n",
      "unemployed       0.034673\n",
      "self-employed    0.032161\n",
      "entrepreneur     0.022613\n",
      "housemaid        0.017588\n",
      "Name: job, dtype: float64\n",
      "\n",
      "\n",
      "marital\n",
      "--------\n",
      "married     0.555276\n",
      "single      0.336683\n",
      "divorced    0.108040\n",
      "Name: marital, dtype: float64\n",
      "\n",
      "\n",
      "education\n",
      "--------\n",
      "secondary    0.524121\n",
      "tertiary     0.361307\n",
      "primary      0.114573\n",
      "Name: education, dtype: float64\n",
      "\n",
      "\n",
      "default\n",
      "--------\n",
      "no     0.992462\n",
      "yes    0.007538\n",
      "Name: default, dtype: float64\n",
      "\n",
      "\n",
      "housing\n",
      "--------\n",
      "no     0.517085\n",
      "yes    0.482915\n",
      "Name: housing, dtype: float64\n",
      "\n",
      "\n",
      "loan\n",
      "--------\n",
      "no     0.874372\n",
      "yes    0.125628\n",
      "Name: loan, dtype: float64\n",
      "\n",
      "\n",
      "contact\n",
      "--------\n",
      "cellular     0.927136\n",
      "telephone    0.072864\n",
      "Name: contact, dtype: float64\n",
      "\n",
      "\n",
      "month\n",
      "--------\n",
      "feb    0.202010\n",
      "may    0.165829\n",
      "jan    0.123116\n",
      "apr    0.103015\n",
      "jul    0.083417\n",
      "aug    0.067839\n",
      "sep    0.066332\n",
      "jun    0.052261\n",
      "oct    0.046231\n",
      "mar    0.035176\n",
      "nov    0.034171\n",
      "dec    0.020603\n",
      "Name: month, dtype: float64\n",
      "\n",
      "\n",
      "poutcome\n",
      "--------\n",
      "failure        0.477889\n",
      "no_previous    0.226633\n",
      "success        0.221608\n",
      "other          0.073869\n",
      "Name: poutcome, dtype: float64\n",
      "\n",
      "\n",
      "subscribed\n",
      "--------\n",
      "no     0.501005\n",
      "yes    0.498995\n",
      "Name: subscribed, dtype: float64\n",
      "\n",
      "\n"
     ]
    }
   ],
   "source": [
    "cats=df.select_dtypes(include='category')\n",
    "for column in cats:\n",
    "    print(column+'\\n'+'--------')\n",
    "    print(df[column].value_counts()/df[column].count())\n",
    "    print('\\n')"
   ]
  },
  {
   "cell_type": "markdown",
   "metadata": {},
   "source": [
    "#### Almost no costumer had a default (99%) so this feature won't be usefull for predictive models, it will be droped later"
   ]
  },
  {
   "cell_type": "markdown",
   "metadata": {},
   "source": [
    "# Task 2 \n",
    "Decide on the treatment of outliers in the bank data set. If appropriate, remove examples with extreme or unexpected attribute values, apply log transformation to numeric attributes with extreme values. "
   ]
  },
  {
   "cell_type": "code",
   "execution_count": 24,
   "metadata": {},
   "outputs": [
    {
     "data": {
      "text/html": [
       "<div>\n",
       "<style scoped>\n",
       "    .dataframe tbody tr th:only-of-type {\n",
       "        vertical-align: middle;\n",
       "    }\n",
       "\n",
       "    .dataframe tbody tr th {\n",
       "        vertical-align: top;\n",
       "    }\n",
       "\n",
       "    .dataframe thead th {\n",
       "        text-align: right;\n",
       "    }\n",
       "</style>\n",
       "<table border=\"1\" class=\"dataframe\">\n",
       "  <thead>\n",
       "    <tr style=\"text-align: right;\">\n",
       "      <th></th>\n",
       "      <th>age</th>\n",
       "      <th>balance</th>\n",
       "      <th>ratio_bal_ln</th>\n",
       "      <th>ratio_ln_inc</th>\n",
       "      <th>day</th>\n",
       "      <th>duration</th>\n",
       "      <th>campaign</th>\n",
       "      <th>pdays</th>\n",
       "      <th>previous</th>\n",
       "    </tr>\n",
       "  </thead>\n",
       "  <tbody>\n",
       "    <tr>\n",
       "      <th>0</th>\n",
       "      <td>32.0</td>\n",
       "      <td>392</td>\n",
       "      <td>1.300134</td>\n",
       "      <td>0.473895</td>\n",
       "      <td>1</td>\n",
       "      <td>957</td>\n",
       "      <td>2</td>\n",
       "      <td>131</td>\n",
       "      <td>2</td>\n",
       "    </tr>\n",
       "    <tr>\n",
       "      <th>1</th>\n",
       "      <td>39.0</td>\n",
       "      <td>688</td>\n",
       "      <td>-0.193701</td>\n",
       "      <td>0.237021</td>\n",
       "      <td>1</td>\n",
       "      <td>233</td>\n",
       "      <td>2</td>\n",
       "      <td>133</td>\n",
       "      <td>1</td>\n",
       "    </tr>\n",
       "    <tr>\n",
       "      <th>2</th>\n",
       "      <td>59.0</td>\n",
       "      <td>1035</td>\n",
       "      <td>1.334266</td>\n",
       "      <td>0.121981</td>\n",
       "      <td>1</td>\n",
       "      <td>126</td>\n",
       "      <td>2</td>\n",
       "      <td>239</td>\n",
       "      <td>1</td>\n",
       "    </tr>\n",
       "    <tr>\n",
       "      <th>3</th>\n",
       "      <td>47.0</td>\n",
       "      <td>398</td>\n",
       "      <td>0.362286</td>\n",
       "      <td>1.251328</td>\n",
       "      <td>1</td>\n",
       "      <td>274</td>\n",
       "      <td>1</td>\n",
       "      <td>238</td>\n",
       "      <td>2</td>\n",
       "    </tr>\n",
       "    <tr>\n",
       "      <th>4</th>\n",
       "      <td>54.0</td>\n",
       "      <td>1004</td>\n",
       "      <td>0.072075</td>\n",
       "      <td>-0.533738</td>\n",
       "      <td>1</td>\n",
       "      <td>479</td>\n",
       "      <td>1</td>\n",
       "      <td>307</td>\n",
       "      <td>1</td>\n",
       "    </tr>\n",
       "  </tbody>\n",
       "</table>\n",
       "</div>"
      ],
      "text/plain": [
       "    age  balance  ratio_bal_ln  ratio_ln_inc  day  duration  campaign  pdays  \\\n",
       "0  32.0      392      1.300134      0.473895    1       957         2    131   \n",
       "1  39.0      688     -0.193701      0.237021    1       233         2    133   \n",
       "2  59.0     1035      1.334266      0.121981    1       126         2    239   \n",
       "3  47.0      398      0.362286      1.251328    1       274         1    238   \n",
       "4  54.0     1004      0.072075     -0.533738    1       479         1    307   \n",
       "\n",
       "   previous  \n",
       "0         2  \n",
       "1         1  \n",
       "2         1  \n",
       "3         2  \n",
       "4         1  "
      ]
     },
     "execution_count": 24,
     "metadata": {},
     "output_type": "execute_result"
    }
   ],
   "source": [
    "numerics = ['int16', 'int32', 'int64', 'float16', 'float32', 'float64']\n",
    "numerics_df=df.select_dtypes(include=numerics)\n",
    "numerics_df.head()"
   ]
  },
  {
   "cell_type": "code",
   "execution_count": 25,
   "metadata": {},
   "outputs": [
    {
     "data": {
      "image/png": "[encoded data removed]",
      "text/plain": [
       "<Figure size 1440x1440 with 8 Axes>"
      ]
     },
     "metadata": {
      "needs_background": "light"
     },
     "output_type": "display_data"
    }
   ],
   "source": [
    "fig = plt.figure(figsize=(20,20))\n",
    "fig.subplots_adjust(hspace=0.2, wspace=0.4)\n",
    "for i in range(1, numerics_df.shape[1]):\n",
    "    plt.subplot(numerics_df.shape[1]/3, numerics_df.shape[1]/3, i)\n",
    "    sns.boxplot(x=numerics_df.iloc[:,i])\n",
    "    \n"
   ]
  },
  {
   "cell_type": "markdown",
   "metadata": {},
   "source": [
    "Outliers are mostly represented by points out of the box (the Q1-Q3 range), these are the points we have to manage and remove from our data. to do that we will use the Inter Quartile Range (IQR) which is the difference between 75th and 25th percentiles. We will calculate this statistique in a first time and then remove data points that are above or under this value with a predefined treshold. We will choose a reasonable treshold of 4 for this task, so only very far points from Q1/Q3 will be removed and hence we will avoid to remove some coorect data erroneously"
   ]
  },
  {
   "cell_type": "code",
   "execution_count": 26,
   "metadata": {},
   "outputs": [
    {
     "name": "stdout",
     "output_type": "stream",
     "text": [
      "age               18.000000\n",
      "balance         1435.750000\n",
      "ratio_bal_ln       1.115552\n",
      "ratio_ln_inc       1.486669\n",
      "day               18.000000\n",
      "duration         229.750000\n",
      "campaign           1.000000\n",
      "pdays            174.750000\n",
      "previous           2.000000\n",
      "dtype: float64\n"
     ]
    }
   ],
   "source": [
    "Q1 = numerics_df.quantile(0.25)\n",
    "Q3 = numerics_df.quantile(0.75)\n",
    "IQR = Q3 - Q1\n",
    "print(IQR)"
   ]
  },
  {
   "cell_type": "code",
   "execution_count": 27,
   "metadata": {},
   "outputs": [
    {
     "name": "stdout",
     "output_type": "stream",
     "text": [
      "(1990, 9)\n",
      "(1864, 9)\n"
     ]
    }
   ],
   "source": [
    "print(numerics_df.shape)\n",
    "treshold=4\n",
    "numerics_df =  numerics_df[~(( numerics_df < (Q1 - treshold * IQR)) |( numerics_df > (Q3 + treshold * IQR))).any(axis=1)]\n",
    "print(numerics_df.shape)"
   ]
  },
  {
   "cell_type": "code",
   "execution_count": 28,
   "metadata": {},
   "outputs": [
    {
     "data": {
      "image/png": "[encoded data removed]",
      "text/plain": [
       "<Figure size 1440x1440 with 8 Axes>"
      ]
     },
     "metadata": {
      "needs_background": "light"
     },
     "output_type": "display_data"
    }
   ],
   "source": [
    "fig = plt.figure(figsize=(20,20))\n",
    "fig.subplots_adjust(hspace=0.2, wspace=0.4)\n",
    "for i in range(1, numerics_df.shape[1]):\n",
    "    plt.subplot(numerics_df.shape[1]/3, numerics_df.shape[1]/3, i)\n",
    "    sns.boxplot(x=numerics_df.iloc[:,i])\n",
    "    "
   ]
  },
  {
   "cell_type": "markdown",
   "metadata": {},
   "source": [
    "We see that even if we still have some points out of the IQR Box, we nomore having isolated data points as before removing outliers"
   ]
  },
  {
   "cell_type": "markdown",
   "metadata": {},
   "source": [
    "#### Back to our DF"
   ]
  },
  {
   "cell_type": "code",
   "execution_count": 29,
   "metadata": {},
   "outputs": [
    {
     "name": "stdout",
     "output_type": "stream",
     "text": [
      "Original number of rows:  1990\n",
      "number of rows after outliers removal:  1864\n"
     ]
    }
   ],
   "source": [
    "#Get indexes of numerics_df, so we can select these rows from original df\n",
    "outliers_indexes=numerics_df.index\n",
    "\n",
    "\n",
    "print(\"Original number of rows: %5d\" % df.shape[0])\n",
    "df=df.loc[outliers_indexes.values,:]#only rows without outliers are selected\n",
    "print('number of rows after outliers removal: %5d' % df.shape[0])\n"
   ]
  },
  {
   "cell_type": "code",
   "execution_count": 30,
   "metadata": {},
   "outputs": [
    {
     "data": {
      "text/html": [
       "<div>\n",
       "<style scoped>\n",
       "    .dataframe tbody tr th:only-of-type {\n",
       "        vertical-align: middle;\n",
       "    }\n",
       "\n",
       "    .dataframe tbody tr th {\n",
       "        vertical-align: top;\n",
       "    }\n",
       "\n",
       "    .dataframe thead th {\n",
       "        text-align: right;\n",
       "    }\n",
       "</style>\n",
       "<table border=\"1\" class=\"dataframe\">\n",
       "  <thead>\n",
       "    <tr style=\"text-align: right;\">\n",
       "      <th></th>\n",
       "      <th>age</th>\n",
       "      <th>job</th>\n",
       "      <th>marital</th>\n",
       "      <th>education</th>\n",
       "      <th>default</th>\n",
       "      <th>balance</th>\n",
       "      <th>ratio_bal_ln</th>\n",
       "      <th>ratio_ln_inc</th>\n",
       "      <th>housing</th>\n",
       "      <th>loan</th>\n",
       "      <th>contact</th>\n",
       "      <th>day</th>\n",
       "      <th>month</th>\n",
       "      <th>duration</th>\n",
       "      <th>campaign</th>\n",
       "      <th>pdays</th>\n",
       "      <th>previous</th>\n",
       "      <th>poutcome</th>\n",
       "      <th>subscribed</th>\n",
       "    </tr>\n",
       "  </thead>\n",
       "  <tbody>\n",
       "    <tr>\n",
       "      <th>0</th>\n",
       "      <td>32.0</td>\n",
       "      <td>technician</td>\n",
       "      <td>single</td>\n",
       "      <td>tertiary</td>\n",
       "      <td>no</td>\n",
       "      <td>392</td>\n",
       "      <td>1.300134</td>\n",
       "      <td>0.473895</td>\n",
       "      <td>yes</td>\n",
       "      <td>no</td>\n",
       "      <td>cellular</td>\n",
       "      <td>1</td>\n",
       "      <td>apr</td>\n",
       "      <td>957</td>\n",
       "      <td>2</td>\n",
       "      <td>131</td>\n",
       "      <td>2</td>\n",
       "      <td>failure</td>\n",
       "      <td>no</td>\n",
       "    </tr>\n",
       "    <tr>\n",
       "      <th>1</th>\n",
       "      <td>39.0</td>\n",
       "      <td>technician</td>\n",
       "      <td>divorced</td>\n",
       "      <td>secondary</td>\n",
       "      <td>no</td>\n",
       "      <td>688</td>\n",
       "      <td>-0.193701</td>\n",
       "      <td>0.237021</td>\n",
       "      <td>yes</td>\n",
       "      <td>yes</td>\n",
       "      <td>cellular</td>\n",
       "      <td>1</td>\n",
       "      <td>apr</td>\n",
       "      <td>233</td>\n",
       "      <td>2</td>\n",
       "      <td>133</td>\n",
       "      <td>1</td>\n",
       "      <td>failure</td>\n",
       "      <td>no</td>\n",
       "    </tr>\n",
       "    <tr>\n",
       "      <th>2</th>\n",
       "      <td>59.0</td>\n",
       "      <td>retired</td>\n",
       "      <td>married</td>\n",
       "      <td>secondary</td>\n",
       "      <td>no</td>\n",
       "      <td>1035</td>\n",
       "      <td>1.334266</td>\n",
       "      <td>0.121981</td>\n",
       "      <td>yes</td>\n",
       "      <td>yes</td>\n",
       "      <td>cellular</td>\n",
       "      <td>1</td>\n",
       "      <td>apr</td>\n",
       "      <td>126</td>\n",
       "      <td>2</td>\n",
       "      <td>239</td>\n",
       "      <td>1</td>\n",
       "      <td>failure</td>\n",
       "      <td>no</td>\n",
       "    </tr>\n",
       "    <tr>\n",
       "      <th>3</th>\n",
       "      <td>47.0</td>\n",
       "      <td>blue-collar</td>\n",
       "      <td>married</td>\n",
       "      <td>secondary</td>\n",
       "      <td>no</td>\n",
       "      <td>398</td>\n",
       "      <td>0.362286</td>\n",
       "      <td>1.251328</td>\n",
       "      <td>yes</td>\n",
       "      <td>yes</td>\n",
       "      <td>cellular</td>\n",
       "      <td>1</td>\n",
       "      <td>apr</td>\n",
       "      <td>274</td>\n",
       "      <td>1</td>\n",
       "      <td>238</td>\n",
       "      <td>2</td>\n",
       "      <td>failure</td>\n",
       "      <td>no</td>\n",
       "    </tr>\n",
       "    <tr>\n",
       "      <th>4</th>\n",
       "      <td>54.0</td>\n",
       "      <td>retired</td>\n",
       "      <td>married</td>\n",
       "      <td>secondary</td>\n",
       "      <td>no</td>\n",
       "      <td>1004</td>\n",
       "      <td>0.072075</td>\n",
       "      <td>-0.533738</td>\n",
       "      <td>yes</td>\n",
       "      <td>no</td>\n",
       "      <td>cellular</td>\n",
       "      <td>1</td>\n",
       "      <td>apr</td>\n",
       "      <td>479</td>\n",
       "      <td>1</td>\n",
       "      <td>307</td>\n",
       "      <td>1</td>\n",
       "      <td>failure</td>\n",
       "      <td>no</td>\n",
       "    </tr>\n",
       "    <tr>\n",
       "      <th>5</th>\n",
       "      <td>46.0</td>\n",
       "      <td>self-employed</td>\n",
       "      <td>divorced</td>\n",
       "      <td>tertiary</td>\n",
       "      <td>no</td>\n",
       "      <td>926</td>\n",
       "      <td>0.233619</td>\n",
       "      <td>0.922197</td>\n",
       "      <td>yes</td>\n",
       "      <td>no</td>\n",
       "      <td>cellular</td>\n",
       "      <td>1</td>\n",
       "      <td>apr</td>\n",
       "      <td>463</td>\n",
       "      <td>1</td>\n",
       "      <td>133</td>\n",
       "      <td>3</td>\n",
       "      <td>failure</td>\n",
       "      <td>no</td>\n",
       "    </tr>\n",
       "    <tr>\n",
       "      <th>6</th>\n",
       "      <td>34.0</td>\n",
       "      <td>blue-collar</td>\n",
       "      <td>married</td>\n",
       "      <td>secondary</td>\n",
       "      <td>no</td>\n",
       "      <td>1924</td>\n",
       "      <td>0.022648</td>\n",
       "      <td>0.724227</td>\n",
       "      <td>yes</td>\n",
       "      <td>yes</td>\n",
       "      <td>cellular</td>\n",
       "      <td>1</td>\n",
       "      <td>apr</td>\n",
       "      <td>161</td>\n",
       "      <td>2</td>\n",
       "      <td>253</td>\n",
       "      <td>1</td>\n",
       "      <td>failure</td>\n",
       "      <td>no</td>\n",
       "    </tr>\n",
       "    <tr>\n",
       "      <th>7</th>\n",
       "      <td>45.0</td>\n",
       "      <td>services</td>\n",
       "      <td>divorced</td>\n",
       "      <td>secondary</td>\n",
       "      <td>no</td>\n",
       "      <td>396</td>\n",
       "      <td>-0.724889</td>\n",
       "      <td>-0.998605</td>\n",
       "      <td>yes</td>\n",
       "      <td>yes</td>\n",
       "      <td>cellular</td>\n",
       "      <td>1</td>\n",
       "      <td>apr</td>\n",
       "      <td>251</td>\n",
       "      <td>4</td>\n",
       "      <td>329</td>\n",
       "      <td>4</td>\n",
       "      <td>failure</td>\n",
       "      <td>no</td>\n",
       "    </tr>\n",
       "    <tr>\n",
       "      <th>8</th>\n",
       "      <td>58.0</td>\n",
       "      <td>management</td>\n",
       "      <td>divorced</td>\n",
       "      <td>tertiary</td>\n",
       "      <td>no</td>\n",
       "      <td>315</td>\n",
       "      <td>0.502131</td>\n",
       "      <td>-0.045391</td>\n",
       "      <td>yes</td>\n",
       "      <td>no</td>\n",
       "      <td>cellular</td>\n",
       "      <td>1</td>\n",
       "      <td>apr</td>\n",
       "      <td>121</td>\n",
       "      <td>2</td>\n",
       "      <td>135</td>\n",
       "      <td>2</td>\n",
       "      <td>failure</td>\n",
       "      <td>no</td>\n",
       "    </tr>\n",
       "    <tr>\n",
       "      <th>10</th>\n",
       "      <td>38.0</td>\n",
       "      <td>management</td>\n",
       "      <td>single</td>\n",
       "      <td>secondary</td>\n",
       "      <td>no</td>\n",
       "      <td>715</td>\n",
       "      <td>1.079459</td>\n",
       "      <td>-1.642914</td>\n",
       "      <td>yes</td>\n",
       "      <td>no</td>\n",
       "      <td>cellular</td>\n",
       "      <td>2</td>\n",
       "      <td>apr</td>\n",
       "      <td>951</td>\n",
       "      <td>1</td>\n",
       "      <td>132</td>\n",
       "      <td>3</td>\n",
       "      <td>failure</td>\n",
       "      <td>no</td>\n",
       "    </tr>\n",
       "    <tr>\n",
       "      <th>11</th>\n",
       "      <td>49.0</td>\n",
       "      <td>admin.</td>\n",
       "      <td>married</td>\n",
       "      <td>secondary</td>\n",
       "      <td>no</td>\n",
       "      <td>182</td>\n",
       "      <td>1.368597</td>\n",
       "      <td>-0.263568</td>\n",
       "      <td>yes</td>\n",
       "      <td>no</td>\n",
       "      <td>cellular</td>\n",
       "      <td>2</td>\n",
       "      <td>apr</td>\n",
       "      <td>303</td>\n",
       "      <td>1</td>\n",
       "      <td>331</td>\n",
       "      <td>2</td>\n",
       "      <td>failure</td>\n",
       "      <td>no</td>\n",
       "    </tr>\n",
       "    <tr>\n",
       "      <th>12</th>\n",
       "      <td>36.0</td>\n",
       "      <td>technician</td>\n",
       "      <td>married</td>\n",
       "      <td>secondary</td>\n",
       "      <td>no</td>\n",
       "      <td>4613</td>\n",
       "      <td>0.590779</td>\n",
       "      <td>0.309580</td>\n",
       "      <td>no</td>\n",
       "      <td>no</td>\n",
       "      <td>cellular</td>\n",
       "      <td>2</td>\n",
       "      <td>apr</td>\n",
       "      <td>320</td>\n",
       "      <td>1</td>\n",
       "      <td>134</td>\n",
       "      <td>2</td>\n",
       "      <td>failure</td>\n",
       "      <td>no</td>\n",
       "    </tr>\n",
       "    <tr>\n",
       "      <th>13</th>\n",
       "      <td>39.0</td>\n",
       "      <td>technician</td>\n",
       "      <td>married</td>\n",
       "      <td>secondary</td>\n",
       "      <td>no</td>\n",
       "      <td>508</td>\n",
       "      <td>1.573236</td>\n",
       "      <td>-1.482466</td>\n",
       "      <td>yes</td>\n",
       "      <td>no</td>\n",
       "      <td>cellular</td>\n",
       "      <td>2</td>\n",
       "      <td>apr</td>\n",
       "      <td>598</td>\n",
       "      <td>2</td>\n",
       "      <td>135</td>\n",
       "      <td>5</td>\n",
       "      <td>failure</td>\n",
       "      <td>no</td>\n",
       "    </tr>\n",
       "    <tr>\n",
       "      <th>14</th>\n",
       "      <td>48.0</td>\n",
       "      <td>services</td>\n",
       "      <td>married</td>\n",
       "      <td>secondary</td>\n",
       "      <td>no</td>\n",
       "      <td>0</td>\n",
       "      <td>1.287662</td>\n",
       "      <td>0.551498</td>\n",
       "      <td>yes</td>\n",
       "      <td>no</td>\n",
       "      <td>cellular</td>\n",
       "      <td>2</td>\n",
       "      <td>apr</td>\n",
       "      <td>146</td>\n",
       "      <td>1</td>\n",
       "      <td>267</td>\n",
       "      <td>1</td>\n",
       "      <td>failure</td>\n",
       "      <td>no</td>\n",
       "    </tr>\n",
       "    <tr>\n",
       "      <th>15</th>\n",
       "      <td>38.0</td>\n",
       "      <td>blue-collar</td>\n",
       "      <td>married</td>\n",
       "      <td>secondary</td>\n",
       "      <td>no</td>\n",
       "      <td>0</td>\n",
       "      <td>0.606796</td>\n",
       "      <td>0.583824</td>\n",
       "      <td>yes</td>\n",
       "      <td>no</td>\n",
       "      <td>cellular</td>\n",
       "      <td>2</td>\n",
       "      <td>apr</td>\n",
       "      <td>477</td>\n",
       "      <td>2</td>\n",
       "      <td>267</td>\n",
       "      <td>1</td>\n",
       "      <td>failure</td>\n",
       "      <td>no</td>\n",
       "    </tr>\n",
       "    <tr>\n",
       "      <th>16</th>\n",
       "      <td>46.0</td>\n",
       "      <td>self-employed</td>\n",
       "      <td>married</td>\n",
       "      <td>secondary</td>\n",
       "      <td>no</td>\n",
       "      <td>-30</td>\n",
       "      <td>0.505795</td>\n",
       "      <td>-0.151908</td>\n",
       "      <td>yes</td>\n",
       "      <td>yes</td>\n",
       "      <td>cellular</td>\n",
       "      <td>2</td>\n",
       "      <td>apr</td>\n",
       "      <td>164</td>\n",
       "      <td>1</td>\n",
       "      <td>300</td>\n",
       "      <td>2</td>\n",
       "      <td>failure</td>\n",
       "      <td>no</td>\n",
       "    </tr>\n",
       "    <tr>\n",
       "      <th>17</th>\n",
       "      <td>35.0</td>\n",
       "      <td>self-employed</td>\n",
       "      <td>married</td>\n",
       "      <td>tertiary</td>\n",
       "      <td>no</td>\n",
       "      <td>560</td>\n",
       "      <td>1.099462</td>\n",
       "      <td>-0.092550</td>\n",
       "      <td>yes</td>\n",
       "      <td>no</td>\n",
       "      <td>cellular</td>\n",
       "      <td>2</td>\n",
       "      <td>apr</td>\n",
       "      <td>58</td>\n",
       "      <td>1</td>\n",
       "      <td>136</td>\n",
       "      <td>1</td>\n",
       "      <td>failure</td>\n",
       "      <td>no</td>\n",
       "    </tr>\n",
       "    <tr>\n",
       "      <th>18</th>\n",
       "      <td>58.0</td>\n",
       "      <td>technician</td>\n",
       "      <td>married</td>\n",
       "      <td>secondary</td>\n",
       "      <td>no</td>\n",
       "      <td>1</td>\n",
       "      <td>1.748854</td>\n",
       "      <td>-1.156533</td>\n",
       "      <td>no</td>\n",
       "      <td>no</td>\n",
       "      <td>cellular</td>\n",
       "      <td>2</td>\n",
       "      <td>apr</td>\n",
       "      <td>333</td>\n",
       "      <td>1</td>\n",
       "      <td>64</td>\n",
       "      <td>2</td>\n",
       "      <td>failure</td>\n",
       "      <td>no</td>\n",
       "    </tr>\n",
       "    <tr>\n",
       "      <th>19</th>\n",
       "      <td>35.0</td>\n",
       "      <td>management</td>\n",
       "      <td>single</td>\n",
       "      <td>tertiary</td>\n",
       "      <td>no</td>\n",
       "      <td>4348</td>\n",
       "      <td>0.644615</td>\n",
       "      <td>0.431755</td>\n",
       "      <td>yes</td>\n",
       "      <td>no</td>\n",
       "      <td>cellular</td>\n",
       "      <td>2</td>\n",
       "      <td>apr</td>\n",
       "      <td>1074</td>\n",
       "      <td>3</td>\n",
       "      <td>217</td>\n",
       "      <td>8</td>\n",
       "      <td>failure</td>\n",
       "      <td>no</td>\n",
       "    </tr>\n",
       "    <tr>\n",
       "      <th>20</th>\n",
       "      <td>32.0</td>\n",
       "      <td>admin.</td>\n",
       "      <td>married</td>\n",
       "      <td>tertiary</td>\n",
       "      <td>no</td>\n",
       "      <td>233</td>\n",
       "      <td>0.677957</td>\n",
       "      <td>0.079620</td>\n",
       "      <td>yes</td>\n",
       "      <td>no</td>\n",
       "      <td>cellular</td>\n",
       "      <td>2</td>\n",
       "      <td>apr</td>\n",
       "      <td>77</td>\n",
       "      <td>2</td>\n",
       "      <td>133</td>\n",
       "      <td>4</td>\n",
       "      <td>failure</td>\n",
       "      <td>no</td>\n",
       "    </tr>\n",
       "  </tbody>\n",
       "</table>\n",
       "</div>"
      ],
      "text/plain": [
       "     age            job   marital  education default  balance  ratio_bal_ln  \\\n",
       "0   32.0     technician    single   tertiary      no      392      1.300134   \n",
       "1   39.0     technician  divorced  secondary      no      688     -0.193701   \n",
       "2   59.0        retired   married  secondary      no     1035      1.334266   \n",
       "3   47.0    blue-collar   married  secondary      no      398      0.362286   \n",
       "4   54.0        retired   married  secondary      no     1004      0.072075   \n",
       "5   46.0  self-employed  divorced   tertiary      no      926      0.233619   \n",
       "6   34.0    blue-collar   married  secondary      no     1924      0.022648   \n",
       "7   45.0       services  divorced  secondary      no      396     -0.724889   \n",
       "8   58.0     management  divorced   tertiary      no      315      0.502131   \n",
       "10  38.0     management    single  secondary      no      715      1.079459   \n",
       "11  49.0         admin.   married  secondary      no      182      1.368597   \n",
       "12  36.0     technician   married  secondary      no     4613      0.590779   \n",
       "13  39.0     technician   married  secondary      no      508      1.573236   \n",
       "14  48.0       services   married  secondary      no        0      1.287662   \n",
       "15  38.0    blue-collar   married  secondary      no        0      0.606796   \n",
       "16  46.0  self-employed   married  secondary      no      -30      0.505795   \n",
       "17  35.0  self-employed   married   tertiary      no      560      1.099462   \n",
       "18  58.0     technician   married  secondary      no        1      1.748854   \n",
       "19  35.0     management    single   tertiary      no     4348      0.644615   \n",
       "20  32.0         admin.   married   tertiary      no      233      0.677957   \n",
       "\n",
       "    ratio_ln_inc housing loan   contact  day month  duration  campaign  pdays  \\\n",
       "0       0.473895     yes   no  cellular    1   apr       957         2    131   \n",
       "1       0.237021     yes  yes  cellular    1   apr       233         2    133   \n",
       "2       0.121981     yes  yes  cellular    1   apr       126         2    239   \n",
       "3       1.251328     yes  yes  cellular    1   apr       274         1    238   \n",
       "4      -0.533738     yes   no  cellular    1   apr       479         1    307   \n",
       "5       0.922197     yes   no  cellular    1   apr       463         1    133   \n",
       "6       0.724227     yes  yes  cellular    1   apr       161         2    253   \n",
       "7      -0.998605     yes  yes  cellular    1   apr       251         4    329   \n",
       "8      -0.045391     yes   no  cellular    1   apr       121         2    135   \n",
       "10     -1.642914     yes   no  cellular    2   apr       951         1    132   \n",
       "11     -0.263568     yes   no  cellular    2   apr       303         1    331   \n",
       "12      0.309580      no   no  cellular    2   apr       320         1    134   \n",
       "13     -1.482466     yes   no  cellular    2   apr       598         2    135   \n",
       "14      0.551498     yes   no  cellular    2   apr       146         1    267   \n",
       "15      0.583824     yes   no  cellular    2   apr       477         2    267   \n",
       "16     -0.151908     yes  yes  cellular    2   apr       164         1    300   \n",
       "17     -0.092550     yes   no  cellular    2   apr        58         1    136   \n",
       "18     -1.156533      no   no  cellular    2   apr       333         1     64   \n",
       "19      0.431755     yes   no  cellular    2   apr      1074         3    217   \n",
       "20      0.079620     yes   no  cellular    2   apr        77         2    133   \n",
       "\n",
       "    previous poutcome subscribed  \n",
       "0          2  failure         no  \n",
       "1          1  failure         no  \n",
       "2          1  failure         no  \n",
       "3          2  failure         no  \n",
       "4          1  failure         no  \n",
       "5          3  failure         no  \n",
       "6          1  failure         no  \n",
       "7          4  failure         no  \n",
       "8          2  failure         no  \n",
       "10         3  failure         no  \n",
       "11         2  failure         no  \n",
       "12         2  failure         no  \n",
       "13         5  failure         no  \n",
       "14         1  failure         no  \n",
       "15         1  failure         no  \n",
       "16         2  failure         no  \n",
       "17         1  failure         no  \n",
       "18         2  failure         no  \n",
       "19         8  failure         no  \n",
       "20         4  failure         no  "
      ]
     },
     "execution_count": 30,
     "metadata": {},
     "output_type": "execute_result"
    }
   ],
   "source": [
    "df.head(20)#verifying row 9 was removed"
   ]
  },
  {
   "cell_type": "markdown",
   "metadata": {},
   "source": [
    "# Task 3"
   ]
  },
  {
   "cell_type": "markdown",
   "metadata": {},
   "source": [
    "#### We create two features based on Job and month features since these latters got a big number of categories. "
   ]
  },
  {
   "cell_type": "code",
   "execution_count": 31,
   "metadata": {},
   "outputs": [],
   "source": [
    "#Combining entrepreneurs and self-employed into self-employed\n",
    "df.job.replace(['entrepreneur', 'self-employed'], 'self-employed', inplace=True)\n",
    "#Combining administrative and management jobs into admin_management\n",
    "df.job.replace(['admin.', 'management'], 'administration_management', inplace=True)\n",
    "#Combining blue-collar and tecnician jobs into blue-collar\n",
    "df.job.replace(['blue-collar', 'technician'], 'blue-collar', inplace=True)\n",
    "#Combining retired and unemployed into no_active_income\n",
    "df.job.replace(['retired', 'unemployed'], 'no_active_income', inplace=True)\n",
    "#Combining services and housemaid into services\n",
    "df.job.replace(['services', 'housemaid'], 'services', inplace=True)\n",
    "\n",
    "df.job=df.job.astype('category')\n",
    "\n",
    "#Winter\n",
    "df.month.replace(['dec', 'jan','feb'], 'Winter', inplace=True)\n",
    "#Spring\n",
    "df.month.replace(['mar', 'apr','may'], 'Spring', inplace=True)\n",
    "#Summer\n",
    "df.month.replace(['jun', 'jul','aug'], 'Summer', inplace=True)\n",
    "#Autumn\n",
    "df.month.replace(['sep', 'oct','nov'], 'Autumn', inplace=True)\n",
    "\n",
    "\n",
    "df.month=df.month.astype('category')"
   ]
  },
  {
   "cell_type": "markdown",
   "metadata": {},
   "source": [
    "# Task 4"
   ]
  },
  {
   "cell_type": "markdown",
   "metadata": {},
   "source": [
    "#### default feature will be dropped as we've seen in EDA step that 99% didn' have default"
   ]
  },
  {
   "cell_type": "code",
   "execution_count": 32,
   "metadata": {},
   "outputs": [],
   "source": [
    "df.drop(\"default\",axis=1,inplace=True)"
   ]
  },
  {
   "cell_type": "markdown",
   "metadata": {},
   "source": [
    "#### Additionaly we need to convert our target feature to a 0/1 numerical variable :"
   ]
  },
  {
   "cell_type": "code",
   "execution_count": 33,
   "metadata": {},
   "outputs": [],
   "source": [
    "#Substituting the string predictor variable values with numbers\n",
    "df.subscribed.replace(['yes'], 1, inplace=True)\n",
    "df.subscribed.replace(['no'], 0, inplace=True)"
   ]
  },
  {
   "cell_type": "markdown",
   "metadata": {},
   "source": [
    "### Logistic regression"
   ]
  },
  {
   "cell_type": "markdown",
   "metadata": {},
   "source": [
    "#### Creating dummy variables"
   ]
  },
  {
   "cell_type": "code",
   "execution_count": 34,
   "metadata": {},
   "outputs": [
    {
     "data": {
      "text/plain": [
       "array(['age', 'balance', 'ratio_bal_ln', 'ratio_ln_inc', 'day',\n",
       "       'duration', 'campaign', 'pdays', 'previous', 'subscribed',\n",
       "       'job_blue-collar', 'job_no_active_income', 'job_self-employed',\n",
       "       'job_services', 'job_student', 'marital_married', 'marital_single',\n",
       "       'education_secondary', 'education_tertiary', 'housing_yes',\n",
       "       'loan_yes', 'contact_telephone', 'month_Spring', 'month_Summer',\n",
       "       'month_Winter', 'poutcome_no_previous', 'poutcome_other',\n",
       "       'poutcome_success'], dtype=object)"
      ]
     },
     "execution_count": 34,
     "metadata": {},
     "output_type": "execute_result"
    }
   ],
   "source": [
    "cat_vars=df.select_dtypes(include='category')\n",
    "for column in cat_vars:\n",
    "    cat_list='var'+'_'+column\n",
    "    cat_list = pd.get_dummies(df[column], prefix=column, drop_first=True)\n",
    "    df1=df.join(cat_list)\n",
    "    df=df1\n",
    "df_vars=df.columns.values.tolist()\n",
    "to_keep=[i for i in df_vars if i not in cat_vars]\n",
    "\n",
    "df_final=df[to_keep]\n",
    "df_final.columns.values"
   ]
  },
  {
   "cell_type": "code",
   "execution_count": 35,
   "metadata": {},
   "outputs": [],
   "source": [
    "X = df_final.loc[:, df_final.columns != 'subscribed']\n",
    "y = df_final.loc[:, df_final.columns == 'subscribed']"
   ]
  },
  {
   "cell_type": "code",
   "execution_count": 36,
   "metadata": {},
   "outputs": [],
   "source": [
    "X_train, X_test, y_train, y_test = train_test_split(X, y, test_size=0.3, random_state=42)"
   ]
  },
  {
   "cell_type": "markdown",
   "metadata": {},
   "source": [
    "Recursive Feature Elimination (RFE) is based on the idea to repeatedly construct a model and choose either the best or worst performing feature, setting the feature aside and then repeating the process with the rest of the features. "
   ]
  },
  {
   "cell_type": "code",
   "execution_count": 37,
   "metadata": {},
   "outputs": [
    {
     "name": "stdout",
     "output_type": "stream",
     "text": [
      "[False False  True  True  True False False False  True  True  True  True\n",
      "  True  True False  True  True False  True  True  True  True  True  True\n",
      "  True  True  True]\n",
      "[5 8 1 1 1 6 2 7 1 1 1 1 1 1 3 1 1 4 1 1 1 1 1 1 1 1 1]\n"
     ]
    }
   ],
   "source": [
    "logreg = LogisticRegression(solver='liblinear')\n",
    "rfe = RFE(logreg, 20)\n",
    "rfe = rfe.fit(X_train, y_train.values.ravel())\n",
    "print(rfe.support_)\n",
    "print(rfe.ranking_)"
   ]
  },
  {
   "cell_type": "code",
   "execution_count": 38,
   "metadata": {},
   "outputs": [
    {
     "name": "stdout",
     "output_type": "stream",
     "text": [
      "Selected features are :\n",
      "['ratio_bal_ln' 'ratio_ln_inc' 'day' 'previous' 'job_blue-collar'\n",
      " 'job_no_active_income' 'job_self-employed' 'job_services' 'job_student'\n",
      " 'marital_single' 'education_secondary' 'housing_yes' 'loan_yes'\n",
      " 'contact_telephone' 'month_Spring' 'month_Summer' 'month_Winter'\n",
      " 'poutcome_no_previous' 'poutcome_other' 'poutcome_success']\n"
     ]
    }
   ],
   "source": [
    "selected=rfe.support_.tolist()\n",
    "\n",
    "#Getting indexes of selected features\n",
    "indexes=[]\n",
    "for i in range(len(selected)):\n",
    "    if selected[i]==True:\n",
    "        indexes.append(i)\n",
    "\n",
    "\n",
    "print('Selected features are :') \n",
    "print(X_train.columns.values[indexes])"
   ]
  },
  {
   "cell_type": "code",
   "execution_count": 39,
   "metadata": {},
   "outputs": [
    {
     "data": {
      "text/html": [
       "<div>\n",
       "<style scoped>\n",
       "    .dataframe tbody tr th:only-of-type {\n",
       "        vertical-align: middle;\n",
       "    }\n",
       "\n",
       "    .dataframe tbody tr th {\n",
       "        vertical-align: top;\n",
       "    }\n",
       "\n",
       "    .dataframe thead th {\n",
       "        text-align: right;\n",
       "    }\n",
       "</style>\n",
       "<table border=\"1\" class=\"dataframe\">\n",
       "  <thead>\n",
       "    <tr style=\"text-align: right;\">\n",
       "      <th></th>\n",
       "      <th>ratio_bal_ln</th>\n",
       "      <th>ratio_ln_inc</th>\n",
       "      <th>day</th>\n",
       "      <th>previous</th>\n",
       "      <th>job_blue-collar</th>\n",
       "      <th>job_no_active_income</th>\n",
       "      <th>job_self-employed</th>\n",
       "      <th>job_services</th>\n",
       "      <th>job_student</th>\n",
       "      <th>marital_single</th>\n",
       "      <th>education_secondary</th>\n",
       "      <th>housing_yes</th>\n",
       "      <th>loan_yes</th>\n",
       "      <th>contact_telephone</th>\n",
       "      <th>month_Spring</th>\n",
       "      <th>month_Summer</th>\n",
       "      <th>month_Winter</th>\n",
       "      <th>poutcome_no_previous</th>\n",
       "      <th>poutcome_other</th>\n",
       "      <th>poutcome_success</th>\n",
       "    </tr>\n",
       "  </thead>\n",
       "  <tbody>\n",
       "    <tr>\n",
       "      <th>221</th>\n",
       "      <td>0.901097</td>\n",
       "      <td>0.916247</td>\n",
       "      <td>3</td>\n",
       "      <td>4</td>\n",
       "      <td>0</td>\n",
       "      <td>0</td>\n",
       "      <td>0</td>\n",
       "      <td>1</td>\n",
       "      <td>0</td>\n",
       "      <td>0</td>\n",
       "      <td>1</td>\n",
       "      <td>1</td>\n",
       "      <td>0</td>\n",
       "      <td>0</td>\n",
       "      <td>0</td>\n",
       "      <td>0</td>\n",
       "      <td>1</td>\n",
       "      <td>0</td>\n",
       "      <td>0</td>\n",
       "      <td>0</td>\n",
       "    </tr>\n",
       "    <tr>\n",
       "      <th>1375</th>\n",
       "      <td>0.765979</td>\n",
       "      <td>0.077770</td>\n",
       "      <td>27</td>\n",
       "      <td>4</td>\n",
       "      <td>0</td>\n",
       "      <td>1</td>\n",
       "      <td>0</td>\n",
       "      <td>0</td>\n",
       "      <td>0</td>\n",
       "      <td>0</td>\n",
       "      <td>1</td>\n",
       "      <td>0</td>\n",
       "      <td>0</td>\n",
       "      <td>0</td>\n",
       "      <td>0</td>\n",
       "      <td>1</td>\n",
       "      <td>0</td>\n",
       "      <td>0</td>\n",
       "      <td>0</td>\n",
       "      <td>1</td>\n",
       "    </tr>\n",
       "    <tr>\n",
       "      <th>1560</th>\n",
       "      <td>0.026581</td>\n",
       "      <td>0.960954</td>\n",
       "      <td>31</td>\n",
       "      <td>3</td>\n",
       "      <td>0</td>\n",
       "      <td>1</td>\n",
       "      <td>0</td>\n",
       "      <td>0</td>\n",
       "      <td>0</td>\n",
       "      <td>0</td>\n",
       "      <td>0</td>\n",
       "      <td>0</td>\n",
       "      <td>0</td>\n",
       "      <td>0</td>\n",
       "      <td>1</td>\n",
       "      <td>0</td>\n",
       "      <td>0</td>\n",
       "      <td>0</td>\n",
       "      <td>1</td>\n",
       "      <td>0</td>\n",
       "    </tr>\n",
       "    <tr>\n",
       "      <th>61</th>\n",
       "      <td>-0.664496</td>\n",
       "      <td>1.649806</td>\n",
       "      <td>1</td>\n",
       "      <td>1</td>\n",
       "      <td>0</td>\n",
       "      <td>0</td>\n",
       "      <td>0</td>\n",
       "      <td>0</td>\n",
       "      <td>0</td>\n",
       "      <td>0</td>\n",
       "      <td>1</td>\n",
       "      <td>1</td>\n",
       "      <td>1</td>\n",
       "      <td>0</td>\n",
       "      <td>1</td>\n",
       "      <td>0</td>\n",
       "      <td>0</td>\n",
       "      <td>0</td>\n",
       "      <td>1</td>\n",
       "      <td>0</td>\n",
       "    </tr>\n",
       "    <tr>\n",
       "      <th>1984</th>\n",
       "      <td>-0.169010</td>\n",
       "      <td>1.775916</td>\n",
       "      <td>14</td>\n",
       "      <td>0</td>\n",
       "      <td>0</td>\n",
       "      <td>0</td>\n",
       "      <td>0</td>\n",
       "      <td>0</td>\n",
       "      <td>0</td>\n",
       "      <td>0</td>\n",
       "      <td>0</td>\n",
       "      <td>0</td>\n",
       "      <td>0</td>\n",
       "      <td>0</td>\n",
       "      <td>0</td>\n",
       "      <td>0</td>\n",
       "      <td>0</td>\n",
       "      <td>1</td>\n",
       "      <td>0</td>\n",
       "      <td>0</td>\n",
       "    </tr>\n",
       "  </tbody>\n",
       "</table>\n",
       "</div>"
      ],
      "text/plain": [
       "      ratio_bal_ln  ratio_ln_inc  day  previous  job_blue-collar  \\\n",
       "221       0.901097      0.916247    3         4                0   \n",
       "1375      0.765979      0.077770   27         4                0   \n",
       "1560      0.026581      0.960954   31         3                0   \n",
       "61       -0.664496      1.649806    1         1                0   \n",
       "1984     -0.169010      1.775916   14         0                0   \n",
       "\n",
       "      job_no_active_income  job_self-employed  job_services  job_student  \\\n",
       "221                      0                  0             1            0   \n",
       "1375                     1                  0             0            0   \n",
       "1560                     1                  0             0            0   \n",
       "61                       0                  0             0            0   \n",
       "1984                     0                  0             0            0   \n",
       "\n",
       "      marital_single  education_secondary  housing_yes  loan_yes  \\\n",
       "221                0                    1            1         0   \n",
       "1375               0                    1            0         0   \n",
       "1560               0                    0            0         0   \n",
       "61                 0                    1            1         1   \n",
       "1984               0                    0            0         0   \n",
       "\n",
       "      contact_telephone  month_Spring  month_Summer  month_Winter  \\\n",
       "221                   0             0             0             1   \n",
       "1375                  0             0             1             0   \n",
       "1560                  0             1             0             0   \n",
       "61                    0             1             0             0   \n",
       "1984                  0             0             0             0   \n",
       "\n",
       "      poutcome_no_previous  poutcome_other  poutcome_success  \n",
       "221                      0               0                 0  \n",
       "1375                     0               0                 1  \n",
       "1560                     0               1                 0  \n",
       "61                       0               1                 0  \n",
       "1984                     1               0                 0  "
      ]
     },
     "execution_count": 39,
     "metadata": {},
     "output_type": "execute_result"
    }
   ],
   "source": [
    "#Retreiving selected features from train columns\n",
    "X=X_train.loc[:,X_train.columns[indexes]]\n",
    "X_test=X_test.loc[:,X_test.columns[indexes]]\n",
    "X.head()"
   ]
  },
  {
   "cell_type": "markdown",
   "metadata": {},
   "source": [
    "#### Implementing the model"
   ]
  },
  {
   "cell_type": "code",
   "execution_count": 40,
   "metadata": {},
   "outputs": [
    {
     "name": "stdout",
     "output_type": "stream",
     "text": [
      "Optimization terminated successfully.\n",
      "         Current function value: 0.087059\n",
      "         Iterations 34\n"
     ]
    },
    {
     "ename": "LinAlgError",
     "evalue": "Singular matrix",
     "output_type": "error",
     "traceback": [
      "\u001b[1;31m---------------------------------------------------------------------------\u001b[0m",
      "\u001b[1;31mLinAlgError\u001b[0m                               Traceback (most recent call last)",
      "\u001b[1;32m<ipython-input-40-1a36e968b929>\u001b[0m in \u001b[0;36m<module>\u001b[1;34m\u001b[0m\n\u001b[0;32m      1\u001b[0m \u001b[1;31m#statsmodels is used in order to get pvalues and coefficients\u001b[0m\u001b[1;33m\u001b[0m\u001b[1;33m\u001b[0m\u001b[1;33m\u001b[0m\u001b[0m\n\u001b[0;32m      2\u001b[0m \u001b[0mlogit_model\u001b[0m\u001b[1;33m=\u001b[0m\u001b[0msm\u001b[0m\u001b[1;33m.\u001b[0m\u001b[0mLogit\u001b[0m\u001b[1;33m(\u001b[0m\u001b[0my_train\u001b[0m\u001b[1;33m.\u001b[0m\u001b[0mvalues\u001b[0m\u001b[1;33m,\u001b[0m\u001b[0mX\u001b[0m\u001b[1;33m)\u001b[0m\u001b[1;33m\u001b[0m\u001b[1;33m\u001b[0m\u001b[0m\n\u001b[1;32m----> 3\u001b[1;33m \u001b[0mresult\u001b[0m\u001b[1;33m=\u001b[0m\u001b[0mlogit_model\u001b[0m\u001b[1;33m.\u001b[0m\u001b[0mfit\u001b[0m\u001b[1;33m(\u001b[0m\u001b[1;33m)\u001b[0m\u001b[1;33m\u001b[0m\u001b[1;33m\u001b[0m\u001b[0m\n\u001b[0m\u001b[0;32m      4\u001b[0m \u001b[0mprint\u001b[0m\u001b[1;33m(\u001b[0m\u001b[0mresult\u001b[0m\u001b[1;33m.\u001b[0m\u001b[0msummary2\u001b[0m\u001b[1;33m(\u001b[0m\u001b[1;33m)\u001b[0m\u001b[1;33m)\u001b[0m\u001b[1;33m\u001b[0m\u001b[1;33m\u001b[0m\u001b[0m\n",
      "\u001b[1;32m~\\AppData\\Local\\Continuum\\anaconda3\\lib\\site-packages\\statsmodels\\discrete\\discrete_model.py\u001b[0m in \u001b[0;36mfit\u001b[1;34m(self, start_params, method, maxiter, full_output, disp, callback, **kwargs)\u001b[0m\n\u001b[0;32m   1832\u001b[0m         bnryfit = super(Logit, self).fit(start_params=start_params,\n\u001b[0;32m   1833\u001b[0m                 \u001b[0mmethod\u001b[0m\u001b[1;33m=\u001b[0m\u001b[0mmethod\u001b[0m\u001b[1;33m,\u001b[0m \u001b[0mmaxiter\u001b[0m\u001b[1;33m=\u001b[0m\u001b[0mmaxiter\u001b[0m\u001b[1;33m,\u001b[0m \u001b[0mfull_output\u001b[0m\u001b[1;33m=\u001b[0m\u001b[0mfull_output\u001b[0m\u001b[1;33m,\u001b[0m\u001b[1;33m\u001b[0m\u001b[1;33m\u001b[0m\u001b[0m\n\u001b[1;32m-> 1834\u001b[1;33m                 disp=disp, callback=callback, **kwargs)\n\u001b[0m\u001b[0;32m   1835\u001b[0m \u001b[1;33m\u001b[0m\u001b[0m\n\u001b[0;32m   1836\u001b[0m         \u001b[0mdiscretefit\u001b[0m \u001b[1;33m=\u001b[0m \u001b[0mLogitResults\u001b[0m\u001b[1;33m(\u001b[0m\u001b[0mself\u001b[0m\u001b[1;33m,\u001b[0m \u001b[0mbnryfit\u001b[0m\u001b[1;33m)\u001b[0m\u001b[1;33m\u001b[0m\u001b[1;33m\u001b[0m\u001b[0m\n",
      "\u001b[1;32m~\\AppData\\Local\\Continuum\\anaconda3\\lib\\site-packages\\statsmodels\\discrete\\discrete_model.py\u001b[0m in \u001b[0;36mfit\u001b[1;34m(self, start_params, method, maxiter, full_output, disp, callback, **kwargs)\u001b[0m\n\u001b[0;32m    218\u001b[0m         mlefit = super(DiscreteModel, self).fit(start_params=start_params,\n\u001b[0;32m    219\u001b[0m                 \u001b[0mmethod\u001b[0m\u001b[1;33m=\u001b[0m\u001b[0mmethod\u001b[0m\u001b[1;33m,\u001b[0m \u001b[0mmaxiter\u001b[0m\u001b[1;33m=\u001b[0m\u001b[0mmaxiter\u001b[0m\u001b[1;33m,\u001b[0m \u001b[0mfull_output\u001b[0m\u001b[1;33m=\u001b[0m\u001b[0mfull_output\u001b[0m\u001b[1;33m,\u001b[0m\u001b[1;33m\u001b[0m\u001b[1;33m\u001b[0m\u001b[0m\n\u001b[1;32m--> 220\u001b[1;33m                 disp=disp, callback=callback, **kwargs)\n\u001b[0m\u001b[0;32m    221\u001b[0m \u001b[1;33m\u001b[0m\u001b[0m\n\u001b[0;32m    222\u001b[0m         \u001b[1;32mreturn\u001b[0m \u001b[0mmlefit\u001b[0m \u001b[1;31m# up to subclasses to wrap results\u001b[0m\u001b[1;33m\u001b[0m\u001b[1;33m\u001b[0m\u001b[0m\n",
      "\u001b[1;32m~\\AppData\\Local\\Continuum\\anaconda3\\lib\\site-packages\\statsmodels\\base\\model.py\u001b[0m in \u001b[0;36mfit\u001b[1;34m(self, start_params, method, maxiter, full_output, disp, fargs, callback, retall, skip_hessian, **kwargs)\u001b[0m\n\u001b[0;32m    471\u001b[0m             \u001b[0mHinv\u001b[0m \u001b[1;33m=\u001b[0m \u001b[0mcov_params_func\u001b[0m\u001b[1;33m(\u001b[0m\u001b[0mself\u001b[0m\u001b[1;33m,\u001b[0m \u001b[0mxopt\u001b[0m\u001b[1;33m,\u001b[0m \u001b[0mretvals\u001b[0m\u001b[1;33m)\u001b[0m\u001b[1;33m\u001b[0m\u001b[1;33m\u001b[0m\u001b[0m\n\u001b[0;32m    472\u001b[0m         \u001b[1;32melif\u001b[0m \u001b[0mmethod\u001b[0m \u001b[1;33m==\u001b[0m \u001b[1;34m'newton'\u001b[0m \u001b[1;32mand\u001b[0m \u001b[0mfull_output\u001b[0m\u001b[1;33m:\u001b[0m\u001b[1;33m\u001b[0m\u001b[1;33m\u001b[0m\u001b[0m\n\u001b[1;32m--> 473\u001b[1;33m             \u001b[0mHinv\u001b[0m \u001b[1;33m=\u001b[0m \u001b[0mnp\u001b[0m\u001b[1;33m.\u001b[0m\u001b[0mlinalg\u001b[0m\u001b[1;33m.\u001b[0m\u001b[0minv\u001b[0m\u001b[1;33m(\u001b[0m\u001b[1;33m-\u001b[0m\u001b[0mretvals\u001b[0m\u001b[1;33m[\u001b[0m\u001b[1;34m'Hessian'\u001b[0m\u001b[1;33m]\u001b[0m\u001b[1;33m)\u001b[0m \u001b[1;33m/\u001b[0m \u001b[0mnobs\u001b[0m\u001b[1;33m\u001b[0m\u001b[1;33m\u001b[0m\u001b[0m\n\u001b[0m\u001b[0;32m    474\u001b[0m         \u001b[1;32melif\u001b[0m \u001b[1;32mnot\u001b[0m \u001b[0mskip_hessian\u001b[0m\u001b[1;33m:\u001b[0m\u001b[1;33m\u001b[0m\u001b[1;33m\u001b[0m\u001b[0m\n\u001b[0;32m    475\u001b[0m             \u001b[0mH\u001b[0m \u001b[1;33m=\u001b[0m \u001b[1;33m-\u001b[0m\u001b[1;36m1\u001b[0m \u001b[1;33m*\u001b[0m \u001b[0mself\u001b[0m\u001b[1;33m.\u001b[0m\u001b[0mhessian\u001b[0m\u001b[1;33m(\u001b[0m\u001b[0mxopt\u001b[0m\u001b[1;33m)\u001b[0m\u001b[1;33m\u001b[0m\u001b[1;33m\u001b[0m\u001b[0m\n",
      "\u001b[1;32m~\\AppData\\Local\\Continuum\\anaconda3\\lib\\site-packages\\numpy\\linalg\\linalg.py\u001b[0m in \u001b[0;36minv\u001b[1;34m(a)\u001b[0m\n\u001b[0;32m    530\u001b[0m     \u001b[0msignature\u001b[0m \u001b[1;33m=\u001b[0m \u001b[1;34m'D->D'\u001b[0m \u001b[1;32mif\u001b[0m \u001b[0misComplexType\u001b[0m\u001b[1;33m(\u001b[0m\u001b[0mt\u001b[0m\u001b[1;33m)\u001b[0m \u001b[1;32melse\u001b[0m \u001b[1;34m'd->d'\u001b[0m\u001b[1;33m\u001b[0m\u001b[1;33m\u001b[0m\u001b[0m\n\u001b[0;32m    531\u001b[0m     \u001b[0mextobj\u001b[0m \u001b[1;33m=\u001b[0m \u001b[0mget_linalg_error_extobj\u001b[0m\u001b[1;33m(\u001b[0m\u001b[0m_raise_linalgerror_singular\u001b[0m\u001b[1;33m)\u001b[0m\u001b[1;33m\u001b[0m\u001b[1;33m\u001b[0m\u001b[0m\n\u001b[1;32m--> 532\u001b[1;33m     \u001b[0mainv\u001b[0m \u001b[1;33m=\u001b[0m \u001b[0m_umath_linalg\u001b[0m\u001b[1;33m.\u001b[0m\u001b[0minv\u001b[0m\u001b[1;33m(\u001b[0m\u001b[0ma\u001b[0m\u001b[1;33m,\u001b[0m \u001b[0msignature\u001b[0m\u001b[1;33m=\u001b[0m\u001b[0msignature\u001b[0m\u001b[1;33m,\u001b[0m \u001b[0mextobj\u001b[0m\u001b[1;33m=\u001b[0m\u001b[0mextobj\u001b[0m\u001b[1;33m)\u001b[0m\u001b[1;33m\u001b[0m\u001b[1;33m\u001b[0m\u001b[0m\n\u001b[0m\u001b[0;32m    533\u001b[0m     \u001b[1;32mreturn\u001b[0m \u001b[0mwrap\u001b[0m\u001b[1;33m(\u001b[0m\u001b[0mainv\u001b[0m\u001b[1;33m.\u001b[0m\u001b[0mastype\u001b[0m\u001b[1;33m(\u001b[0m\u001b[0mresult_t\u001b[0m\u001b[1;33m,\u001b[0m \u001b[0mcopy\u001b[0m\u001b[1;33m=\u001b[0m\u001b[1;32mFalse\u001b[0m\u001b[1;33m)\u001b[0m\u001b[1;33m)\u001b[0m\u001b[1;33m\u001b[0m\u001b[1;33m\u001b[0m\u001b[0m\n\u001b[0;32m    534\u001b[0m \u001b[1;33m\u001b[0m\u001b[0m\n",
      "\u001b[1;32m~\\AppData\\Local\\Continuum\\anaconda3\\lib\\site-packages\\numpy\\linalg\\linalg.py\u001b[0m in \u001b[0;36m_raise_linalgerror_singular\u001b[1;34m(err, flag)\u001b[0m\n\u001b[0;32m     87\u001b[0m \u001b[1;33m\u001b[0m\u001b[0m\n\u001b[0;32m     88\u001b[0m \u001b[1;32mdef\u001b[0m \u001b[0m_raise_linalgerror_singular\u001b[0m\u001b[1;33m(\u001b[0m\u001b[0merr\u001b[0m\u001b[1;33m,\u001b[0m \u001b[0mflag\u001b[0m\u001b[1;33m)\u001b[0m\u001b[1;33m:\u001b[0m\u001b[1;33m\u001b[0m\u001b[1;33m\u001b[0m\u001b[0m\n\u001b[1;32m---> 89\u001b[1;33m     \u001b[1;32mraise\u001b[0m \u001b[0mLinAlgError\u001b[0m\u001b[1;33m(\u001b[0m\u001b[1;34m\"Singular matrix\"\u001b[0m\u001b[1;33m)\u001b[0m\u001b[1;33m\u001b[0m\u001b[1;33m\u001b[0m\u001b[0m\n\u001b[0m\u001b[0;32m     90\u001b[0m \u001b[1;33m\u001b[0m\u001b[0m\n\u001b[0;32m     91\u001b[0m \u001b[1;32mdef\u001b[0m \u001b[0m_raise_linalgerror_nonposdef\u001b[0m\u001b[1;33m(\u001b[0m\u001b[0merr\u001b[0m\u001b[1;33m,\u001b[0m \u001b[0mflag\u001b[0m\u001b[1;33m)\u001b[0m\u001b[1;33m:\u001b[0m\u001b[1;33m\u001b[0m\u001b[1;33m\u001b[0m\u001b[0m\n",
      "\u001b[1;31mLinAlgError\u001b[0m: Singular matrix"
     ]
    }
   ],
   "source": [
    "#statsmodels is used in order to get pvalues and coefficients\n",
    "logit_model=sm.Logit(y_train.values,X)\n",
    "result=logit_model.fit()\n",
    "print(result.summary2())"
   ]
  },
  {
   "cell_type": "markdown",
   "metadata": {},
   "source": [
    "#### To see why the error above is raised, we fit the model on selected features one by one and see when exactly the problem occurs. And it seems that month_Summer is  causing some problem to the model, let's check it"
   ]
  },
  {
   "cell_type": "code",
   "execution_count": 44,
   "metadata": {},
   "outputs": [
    {
     "data": {
      "text/plain": [
       "<matplotlib.axes._subplots.AxesSubplot at 0xeb6b518>"
      ]
     },
     "execution_count": 44,
     "metadata": {},
     "output_type": "execute_result"
    },
    {
     "data": {
      "image/png": "[encoded data removed]",
      "text/plain": [
       "<Figure size 432x288 with 1 Axes>"
      ]
     },
     "metadata": {
      "needs_background": "light"
     },
     "output_type": "display_data"
    }
   ],
   "source": [
    "pd.crosstab(df_final.month_Summer,df_final.subscribed).plot(kind='bar')\n"
   ]
  },
  {
   "cell_type": "markdown",
   "metadata": {},
   "source": [
    "#### All Customers contacted in Summer have subscribed, this may cause some problem for the model, maybe quasi-separability problem, so we will delete this feature from the model"
   ]
  },
  {
   "cell_type": "code",
   "execution_count": 45,
   "metadata": {},
   "outputs": [
    {
     "name": "stdout",
     "output_type": "stream",
     "text": [
      "Optimization terminated successfully.\n",
      "         Current function value: 0.099974\n",
      "         Iterations 10\n",
      "                           Results: Logit\n",
      "====================================================================\n",
      "Model:                 Logit             Pseudo R-squared:  0.856   \n",
      "Dependent Variable:    y                 AIC:               298.7318\n",
      "Date:                  2019-02-12 23:16  BIC:               397.0224\n",
      "No. Observations:      1304              Log-Likelihood:    -130.37 \n",
      "Df Model:              18                LL-Null:           -903.81 \n",
      "Df Residuals:          1285              LLR p-value:       0.0000  \n",
      "Converged:             1.0000            Scale:             1.0000  \n",
      "No. Iterations:        10.0000                                      \n",
      "--------------------------------------------------------------------\n",
      "                      Coef.  Std.Err.    z    P>|z|   [0.025  0.975]\n",
      "--------------------------------------------------------------------\n",
      "ratio_bal_ln         -1.7077   0.2640 -6.4673 0.0000 -2.2252 -1.1901\n",
      "ratio_ln_inc          1.2895   0.1803  7.1499 0.0000  0.9360  1.6430\n",
      "day                   0.1023   0.0198  5.1607 0.0000  0.0634  0.1411\n",
      "previous              0.2810   0.0949  2.9613 0.0031  0.0950  0.4670\n",
      "job_blue-collar      -0.7940   0.3971 -1.9996 0.0455 -1.5722 -0.0157\n",
      "job_no_active_income  2.9429   0.8110  3.6288 0.0003  1.3534  4.5323\n",
      "job_self-employed     0.7541   0.7635  0.9878 0.3233 -0.7422  2.2505\n",
      "job_services         -0.7883   0.7077 -1.1139 0.2653 -2.1754  0.5988\n",
      "job_student           0.8996   0.9436  0.9534 0.3404 -0.9497  2.7490\n",
      "marital_single        0.8634   0.3791  2.2775 0.0228  0.1204  1.6064\n",
      "education_secondary   0.3496   0.3630  0.9630 0.3355 -0.3619  1.0610\n",
      "housing_yes          -2.8842   0.3569 -8.0805 0.0000 -3.5838 -2.1846\n",
      "loan_yes             -1.3935   0.5626 -2.4771 0.0132 -2.4961 -0.2909\n",
      "contact_telephone     0.6262   0.6636  0.9437 0.3453 -0.6744  1.9269\n",
      "month_Spring         -2.5291   0.3943 -6.4143 0.0000 -3.3020 -1.7563\n",
      "month_Winter         -6.3448   0.6892 -9.2060 0.0000 -7.6957 -4.9940\n",
      "poutcome_no_previous  2.0594   0.4470  4.6071 0.0000  1.1833  2.9355\n",
      "poutcome_other        1.0544   0.5299  1.9899 0.0466  0.0159  2.0930\n",
      "poutcome_success      5.5996   0.7976  7.0204 0.0000  4.0363  7.1629\n",
      "====================================================================\n",
      "\n"
     ]
    }
   ],
   "source": [
    "X_noSummer=X.drop('month_Summer',axis=1)\n",
    "X_test_noSummer=X_test.drop('month_Summer',axis=1)#We have to drop it also from X_test since we will do prediction on this sample\n",
    "logit_model=sm.Logit(y_train.values,X_noSummer)\n",
    "result=logit_model.fit()\n",
    "print(result.summary2())"
   ]
  },
  {
   "cell_type": "markdown",
   "metadata": {},
   "source": [
    "#### So now the model is converging and we get many significant p_values\n",
    "\n",
    "#### Now We Will **Fit the model** with "
   ]
  },
  {
   "cell_type": "code",
   "execution_count": 46,
   "metadata": {},
   "outputs": [
    {
     "data": {
      "text/plain": [
       "LogisticRegression(C=1.0, class_weight=None, dual=False, fit_intercept=True,\n",
       "          intercept_scaling=1, max_iter=100, multi_class='warn',\n",
       "          n_jobs=None, penalty='l2', random_state=None, solver='liblinear',\n",
       "          tol=0.0001, verbose=0, warm_start=False)"
      ]
     },
     "execution_count": 46,
     "metadata": {},
     "output_type": "execute_result"
    }
   ],
   "source": [
    "logreg.fit(X_noSummer, y_train.values.ravel())\n"
   ]
  },
  {
   "cell_type": "code",
   "execution_count": 47,
   "metadata": {},
   "outputs": [
    {
     "name": "stdout",
     "output_type": "stream",
     "text": [
      "Accuracy of logistic regression classifier on test set: 0.93\n"
     ]
    }
   ],
   "source": [
    "y_pred = logreg.predict(X_test_noSummer)\n",
    "print('Accuracy of logistic regression classifier on test set: {:.2f}'.format(logreg.score(X_test_noSummer, y_test)))"
   ]
  },
  {
   "cell_type": "code",
   "execution_count": 48,
   "metadata": {},
   "outputs": [
    {
     "name": "stdout",
     "output_type": "stream",
     "text": [
      "confusion matrix\n",
      "     0    1\n",
      "0  268   18\n",
      "1   20  254\n",
      "\n",
      " classification report \n",
      "              precision    recall  f1-score   support\n",
      "\n",
      "           0       0.93      0.94      0.93       286\n",
      "           1       0.93      0.93      0.93       274\n",
      "\n",
      "   micro avg       0.93      0.93      0.93       560\n",
      "   macro avg       0.93      0.93      0.93       560\n",
      "weighted avg       0.93      0.93      0.93       560\n",
      "\n"
     ]
    }
   ],
   "source": [
    "Confusion_matrix = confusion_matrix(y_test, y_pred)\n",
    "print('confusion matrix')\n",
    "print(pd.DataFrame(Confusion_matrix))\n",
    "print('\\n classification report ')\n",
    "print(classification_report(y_test, y_pred))"
   ]
  },
  {
   "cell_type": "markdown",
   "metadata": {},
   "source": [
    "### Very good results both for 0's and 1's as we obtain 93% good predictions"
   ]
  },
  {
   "cell_type": "code",
   "execution_count": 49,
   "metadata": {},
   "outputs": [
    {
     "data": {
      "image/png": "[encoded data removed]",
      "text/plain": [
       "<Figure size 432x288 with 1 Axes>"
      ]
     },
     "metadata": {
      "needs_background": "light"
     },
     "output_type": "display_data"
    },
    {
     "data": {
      "image/png": "[encoded data removed]",
      "text/plain": [
       "<Figure size 432x288 with 1 Axes>"
      ]
     },
     "metadata": {
      "needs_background": "light"
     },
     "output_type": "display_data"
    }
   ],
   "source": [
    "def Errors(M):\n",
    "    Ein=[] #Empty list that will contain all obtained Eins\n",
    "    Eout=[] #Same for Eouts\n",
    "    \n",
    "    m=0\n",
    "    for m in range(M):\n",
    "        X = df_final.loc[:, df_final.columns != 'subscribed'] \n",
    "        y = df_final.loc[:, df_final.columns == 'subscribed'] \n",
    "        \n",
    "        rand_state=random.randint(1,500) #we generate a new random_state for each iteration, so the result of the \n",
    "                                         #train_test_split will be different in each iteration\n",
    "        \n",
    "        X_train, X_test, y_train, y_test = train_test_split(X,y, test_size=0.3, random_state=rand_state)#generating the train and test sets\n",
    "        \n",
    "        X=X_train.loc[:,X_train.columns[indexes]]     #Here we just use the selected futures\n",
    "        X_test=X_test.loc[:,X_test.columns[indexes]]  #same for test data as we did before\n",
    "        X_noSummer=X.drop('month_Summer',axis=1)      #as seen before, we drop month_Summer \n",
    "        X_test_noSummer=X_test.drop('month_Summer',axis=1)\n",
    "        \n",
    "        logreg.fit(X_noSummer, y_train.values.ravel()) #Logistic regression is fitted\n",
    "        \n",
    "        errorin=1-logreg.score(X_noSummer, y_train.values.ravel()) #Calculating the Errorin (train error): thats 1-Accuracy score\n",
    "        errorout=1-logreg.score(X_test_noSummer, y_test) #Calculating test error wich estimates Eout\n",
    "        \n",
    "        Ein.append(errorin)   #add the obtained Ein in the current iteration to the Ein list\n",
    "        Eout.append(errorout) #Same for Eout\n",
    "        m=+1\n",
    "    \n",
    "\n",
    "    #Here we want to calculate the left hand side of the Hoeffding's Inequality (the Probability that errors differences exceeding Epsilon)\n",
    "    prob_e=[]  #Empty list that will contain different probabilities/rates\n",
    "    es = np.arange(0, 1, 0.01) # range of Epsilons\n",
    "    for e in es: \n",
    "        counter = 0\n",
    "        for i in range(M):\n",
    "            if abs(Ein[i] - Eout[i])>e:\n",
    "                   counter +=1 # we count how many times the difference exceeds Epsilon\n",
    "        prob_e.append(counter/M)  #the proability is estimated by the rate of times exceeding Epsilon out of total M tries \n",
    "       \n",
    "        \n",
    "        \n",
    "    \n",
    "    N = len(X) #total train size\n",
    "    \n",
    "    plt.figure()\n",
    "    plt.plot(es, prob_e, label='P[|Ein-Eout|>e]')   \n",
    "    plt.plot(es, [2*M*math.exp(-2*e**2*N) for e in es], label=\"Hoeffding bound\") #right hand side of the Hoeffding's inequality\n",
    "    #VC bound gives a Huge number, python is not able to handle it\n",
    "    #plt.plot(es, [4*(2**(2*N))*math.exp((-1/8)*e**2*N) for e in es], label=\"Hoeffding bound\") #right hand side of the VC's inequality\n",
    "\n",
    "    plt.xlabel('epsilon')\n",
    "    plt.ylabel('p[(Ein-Eout)>epsilon]')\n",
    "    plt.title('prob_epsilon with Heofdding bound at M=%d' % M)\n",
    "    plt.legend(loc='upper right')\n",
    "    plt.show    \n",
    "    #return {\"Eins\":Ein, \"Eouts\":Eout,\"Epsilons\":es,\"Prob Epsilon\":prob_e}\n",
    "    \n",
    "    \n",
    "    \n",
    "          \n",
    "    plt.figure()\n",
    "    plt.plot(es, prob_e, label='P[|Ein-Eout|>e]')\n",
    "    plt.plot(es, [2*M*math.exp(-2*e**2*N) for e in es], label=\"Hoeffding bound\")\n",
    "          \n",
    "    axes = plt.gca()\n",
    "    axes.set_xlim([0,0.25])\n",
    "    axes.set_ylim([0,1])\n",
    "\n",
    "    plt.xlabel('epsilon')\n",
    "    plt.ylabel('p[(Ein-Eout)>epsilon]')\n",
    "    plt.title('prob_epsilon with Heofdding bound (zoomed in)')\n",
    "    plt.legend(loc='upper right')\n",
    "    plt.show\n",
    "\n",
    "      \n",
    "\n",
    "Errors(1000)\n"
   ]
  },
  {
   "cell_type": "markdown",
   "metadata": {},
   "source": [
    "### Hopefully Learning Feasibility is ensure here as the Probability of the differences between Ein and Eout don't exceed the Hoeffding's bound even for M=1000."
   ]
  },
  {
   "cell_type": "markdown",
   "metadata": {},
   "source": [
    "# Task 5"
   ]
  },
  {
   "cell_type": "markdown",
   "metadata": {},
   "source": [
    "#### Inspired by https://scikit-learn.org/stable/auto_examples/model_selection/plot_learning_curve.html#sphx-glr-auto-examples-model-selection-plot-learning-curve-py"
   ]
  },
  {
   "cell_type": "code",
   "execution_count": 50,
   "metadata": {},
   "outputs": [
    {
     "data": {
      "image/png": "[encoded data removed]",
      "text/plain": [
       "<Figure size 432x288 with 1 Axes>"
      ]
     },
     "metadata": {
      "needs_background": "light"
     },
     "output_type": "display_data"
    },
    {
     "data": {
      "image/png": "[encoded data removed]",
      "text/plain": [
       "<Figure size 432x288 with 1 Axes>"
      ]
     },
     "metadata": {
      "needs_background": "light"
     },
     "output_type": "display_data"
    },
    {
     "data": {
      "image/png": "[encoded data removed]",
      "text/plain": [
       "<Figure size 432x288 with 1 Axes>"
      ]
     },
     "metadata": {
      "needs_background": "light"
     },
     "output_type": "display_data"
    }
   ],
   "source": [
    "\n",
    "\n",
    "def plot_learning_curve(estimator, title, X, y, ylim=None, cv=None,\n",
    "                        n_jobs=None, train_sizes=np.linspace(.1, 1.0, 5)):\n",
    "   \n",
    "    plt.figure()\n",
    "    plt.title(title)\n",
    "    if ylim is not None:\n",
    "        plt.ylim(*ylim)\n",
    "    plt.xlabel(\"Training examples\")\n",
    "    plt.ylabel(\"Score\")\n",
    "    train_sizes, train_scores, test_scores = learning_curve(\n",
    "        estimator, X, y, cv=cv, n_jobs=n_jobs, train_sizes=train_sizes)\n",
    "    train_scores_mean = np.mean(train_scores, axis=1)\n",
    "    train_scores_std = np.std(train_scores, axis=1)\n",
    "    test_scores_mean = np.mean(test_scores, axis=1)\n",
    "    test_scores_std = np.std(test_scores, axis=1)\n",
    "    plt.grid()\n",
    "\n",
    "    plt.fill_between(train_sizes, train_scores_mean - train_scores_std,\n",
    "                     train_scores_mean + train_scores_std, alpha=0.1,\n",
    "                     color=\"r\")\n",
    "    plt.fill_between(train_sizes, test_scores_mean - test_scores_std,\n",
    "                     test_scores_mean + test_scores_std, alpha=0.1, color=\"g\")\n",
    "    plt.plot(train_sizes, train_scores_mean, 'o-', color=\"r\",\n",
    "             label=\"Training score\")\n",
    "    plt.plot(train_sizes, test_scores_mean, 'o-', color=\"g\",\n",
    "             label=\"Cross-validation score\")\n",
    "\n",
    "    plt.legend(loc=\"best\")\n",
    "    return plt\n",
    "\n",
    "\n",
    "X = df_final.loc[:, df_final.columns != 'subscribed']\n",
    "X=X.loc[:,X.columns[indexes]]\n",
    "X_noSummer=X.drop('month_Summer',axis=1)\n",
    "y = df_final.loc[:, df_final.columns == 'subscribed']\n",
    "\n",
    "\n",
    "\n",
    "\n",
    "\n",
    "title = \"Learning Curves (Naive Bayes)\"\n",
    "# Cross validation with 100 iterations to get smoother mean test and train\n",
    "# score curves, each time with 20% data randomly selected as a validation set.\n",
    "cv = ShuffleSplit(n_splits=100, test_size=0.2, random_state=0)\n",
    "\n",
    "estimator = GaussianNB()\n",
    "plot_learning_curve(estimator, title, X, y, ylim=(0.84, 0.92), cv=cv, n_jobs=4)\n",
    "\n",
    "title = \"Learning Curves (SVM, RBF kernel, $\\gamma=0.001$)\"\n",
    "# SVC is more expensive so we do a lower number of CV iterations:\n",
    "cv = ShuffleSplit(n_splits=10, test_size=0.2, random_state=0)\n",
    "estimator = SVC(gamma=0.001)\n",
    "plot_learning_curve(estimator, title, X, y, (0.6, 1.01), cv=cv, n_jobs=4)\n",
    "\n",
    "title = \"Learning Curves (Logistic Regression)\"\n",
    "\n",
    "cv = ShuffleSplit(n_splits=100, test_size=0.2, random_state=0)\n",
    "estimator = LogisticRegression(solver='liblinear')\n",
    "plot_learning_curve(estimator, title, X, y, (0.92, 1), cv=cv, n_jobs=4)\n",
    "\n",
    "plt.show()"
   ]
  },
  {
   "cell_type": "markdown",
   "metadata": {},
   "source": [
    "#### Comparing the logistic regression with the SVM model, Logistic regression is getting better score for either Ein (approximation) or Eout compared to SVM resuls (0.96 Vs 0.90), Logistic regression seems to be the more complex model regarding the highest approximation score. In the other hand, about the generalization ability which is the discrepancy between Ein and Eout curves, this difference is much smaller or even null for SVM compared with Logistic one, so this less complex model is better when talking about generalization. It also seems that SVM gets better and better with more data examples, which is not the case of Logistic regression."
   ]
  },
  {
   "cell_type": "code",
   "execution_count": null,
   "metadata": {},
   "outputs": [],
   "source": []
  }
 ],
 "metadata": {
  "kernelspec": {
   "display_name": "Python 3",
   "language": "python",
   "name": "python3"
  },
  "language_info": {
   "codemirror_mode": {
    "name": "ipython",
    "version": 3
   },
   "file_extension": ".py",
   "mimetype": "text/x-python",
   "name": "python",
   "nbconvert_exporter": "python",
   "pygments_lexer": "ipython3",
   "version": "3.7.1"
  }
 },
 "nbformat": 4,
 "nbformat_minor": 2
}
